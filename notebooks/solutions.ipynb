{
 "cells": [
  {
   "cell_type": "markdown",
   "metadata": {},
   "source": [
    "# Day 1\n",
    "The newly-improved calibration document consists of lines of text; each line originally contained a specific calibration value that the Elves now need to recover. On each line, the calibration value can be found by combining the first digit and the last digit (in that order) to form a single two-digit number.\n",
    "\n",
    "For example:\n",
    "```\n",
    "1abc2\n",
    "pqr3stu8vwx\n",
    "a1b2c3d4e5f\n",
    "treb7uchet\n",
    "```\n",
    "In this example, the calibration values of these four lines are 12, 38, 15, and 77. Adding these together produces 142.\n",
    "\n",
    "Consider your entire calibration document. What is the sum of all of the calibration values?"
   ]
  },
  {
   "cell_type": "code",
   "execution_count": 10,
   "metadata": {},
   "outputs": [],
   "source": [
    "import re"
   ]
  },
  {
   "cell_type": "code",
   "execution_count": null,
   "metadata": {},
   "outputs": [],
   "source": [
    "file_path = '../data/day1.txt'\n",
    "with open(file_path, 'r') as file:\n",
    "    lines = [line.strip() for line in file]\n",
    "\n",
    "len(lines)"
   ]
  },
  {
   "cell_type": "markdown",
   "metadata": {},
   "source": [
    "## Part 1"
   ]
  },
  {
   "cell_type": "code",
   "execution_count": 26,
   "metadata": {},
   "outputs": [],
   "source": [
    "def remove_non_digits(s: str):\n",
    "    return re.sub(r'\\D', '', s)\n",
    "\n",
    "def extract_digits(s: str):\n",
    "    # no empty lines according to the description\n",
    "    if len(s) == 1:\n",
    "        s = s*2\n",
    "    else:\n",
    "        s = s[0] + s[-1]\n",
    "    return int(s)"
   ]
  },
  {
   "cell_type": "code",
   "execution_count": 31,
   "metadata": {},
   "outputs": [
    {
     "data": {
      "text/plain": [
       "54159"
      ]
     },
     "execution_count": 31,
     "metadata": {},
     "output_type": "execute_result"
    }
   ],
   "source": [
    "res = sum([extract_digits(remove_non_digits(s)) for s in lines])\n",
    "res"
   ]
  },
  {
   "cell_type": "markdown",
   "metadata": {},
   "source": [
    "## Part 2"
   ]
  },
  {
   "cell_type": "code",
   "execution_count": 77,
   "metadata": {},
   "outputs": [],
   "source": [
    "from typing import List"
   ]
  },
  {
   "cell_type": "code",
   "execution_count": 109,
   "metadata": {},
   "outputs": [],
   "source": [
    "def find_overlapping_matches(pattern, text):\n",
    "    # Use a lookahead assertion to find overlapping matches\n",
    "    return [match.group(1) for match in re.finditer(f'(?=({pattern}))', text)]\n",
    "\n",
    "def extract_allowed_values(original_string, allowed_values):\n",
    "    # concat literal strings\n",
    "    pattern = '|'.join(re.escape(value) for value in allowed_values)\n",
    "    pattern += r'|\\d'\n",
    "    # return re.findall(pattern, original_string)\n",
    "    return find_overlapping_matches(pattern, original_string)"
   ]
  },
  {
   "cell_type": "code",
   "execution_count": 112,
   "metadata": {},
   "outputs": [],
   "source": [
    "def convert_spelled(l: List[str], mapping):\n",
    "    spelled = list(map(lambda x: mapping[x] if x in mapping else x, l))\n",
    "    return spelled"
   ]
  },
  {
   "cell_type": "code",
   "execution_count": 113,
   "metadata": {},
   "outputs": [],
   "source": [
    "def extract_first_last(s: List[str]):\n",
    "    # no empty lines according to the description\n",
    "    if len(s) == 1:\n",
    "        s = s[0]*2\n",
    "    else:\n",
    "        s = s[0] + s[-1]\n",
    "    return int(s)"
   ]
  },
  {
   "cell_type": "code",
   "execution_count": 114,
   "metadata": {},
   "outputs": [],
   "source": [
    "def extract_calibration_value(s, mapping):\n",
    "    allowed_values = extract_allowed_values(s, mapping.keys())\n",
    "    digits = convert_spelled(allowed_values, mapping)\n",
    "    calibration_value = extract_first_last(digits)\n",
    "    return calibration_value"
   ]
  },
  {
   "cell_type": "code",
   "execution_count": 115,
   "metadata": {},
   "outputs": [
    {
     "name": "stdout",
     "output_type": "stream",
     "text": [
      "eightqrssm9httwogqshfxninepnfrppfzhsc\n",
      "89\n",
      "one111jxlmc7tvklrmhdpsix\n",
      "16\n",
      "bptwone4sixzzppg\n",
      "26\n",
      "ninezfzseveneight5kjrjvtfjqt5nineone\n",
      "91\n",
      "58kk\n",
      "58\n",
      "5b32\n",
      "52\n",
      "1dtwo\n",
      "12\n",
      "six7two7sixtwo78\n",
      "68\n",
      "mvhsixpptztjh13sixthree2\n",
      "62\n",
      "six1bqqvrxndt\n",
      "61\n",
      "fourmk5grmqone944nbvtj\n",
      "44\n",
      "twofiveqxfivezpkvfvxt5eightjhnpl\n",
      "28\n",
      "fpfqp7three7\n",
      "77\n",
      "scmlf76ninegjzjkj97two\n",
      "72\n",
      "fivetkhfnnx22\n",
      "52\n",
      "sevenxvbcbsvxr7eighttwo\n",
      "72\n",
      "1hvhqqmrs1bgttshthg6\n",
      "16\n",
      "4bvnccbdh4onefztdrpq62vvbnvpxxvgrngnfjgfk\n",
      "42\n",
      "653spgrvd\n",
      "63\n",
      "sixctlhkjmmxh2fourfivenine37\n",
      "67\n",
      "229mjp3txmqsxxqdbnnnbrtrcctgzseven\n",
      "27\n",
      "jfourdbpcjc39bhglgnine\n",
      "49\n",
      "bvnltxdmsp7twoxzpdjdvkxeight4twothree\n",
      "73\n",
      "jlvcdrkhzh8seven3\n",
      "83\n",
      "418oneeight\n",
      "48\n",
      "53flcrlvqdeight84frmdcsixchcbc\n",
      "56\n",
      "114sixone1eight2\n",
      "12\n",
      "xrbtzbklqsl11\n",
      "11\n",
      "bhfhszrhzgrhsfd2threeseventwosevenoneseven\n",
      "27\n",
      "four9one\n",
      "41\n",
      "5p\n",
      "55\n",
      "twovhjpdxmcxshnhv5vs\n",
      "25\n",
      "qkkqeightcxcltnn7one9pmhlmvsxnine\n",
      "89\n",
      "4cbptmvp1\n",
      "41\n",
      "84xgm\n",
      "84\n",
      "bzsmqhkrdtdmhhjgrjsdfour1ninetwo61\n",
      "41\n",
      "onetwoeightgflhlgksevennine7two6\n",
      "16\n",
      "mbjhkhfour6\n",
      "46\n",
      "8cvqk6eightonethree1\n",
      "81\n",
      "qhbllbnlkr3rcsmjvztgd\n",
      "33\n",
      "18eight4\n",
      "14\n",
      "hhc6onegvkgkqs5mvsone\n",
      "61\n",
      "66bnfj\n",
      "66\n",
      "one99xvrhninefive\n",
      "15\n",
      "eight96nxcjjddmseightxvgsixfiverrzpvmgnl\n",
      "85\n",
      "rpgpczdsxpjgql39\n",
      "39\n",
      "855dnthhxld6eight\n",
      "88\n",
      "four29twosspz1\n",
      "41\n",
      "sixfiveqvrbcdr9fourlrkpkmxphlsbone\n",
      "61\n",
      "341\n",
      "31\n",
      "mhqjjg9six9nine\n",
      "99\n",
      "7pvjctsgvsix64\n",
      "74\n",
      "75twotwothreegcvssgbvhpzcnbgteight\n",
      "78\n",
      "7keight8eight\n",
      "78\n",
      "52threerhfmklssxcptmnlr4hqc4\n",
      "54\n",
      "xndfqvgxn3five\n",
      "35\n",
      "974lknineseven\n",
      "97\n",
      "rlnsix3\n",
      "63\n",
      "771m1\n",
      "71\n",
      "xvtjhq7six64threeeightgspmxgv\n",
      "78\n",
      "4sbqdxbmmzj6fiveone\n",
      "41\n",
      "onesvvch4rvhmvncnk\n",
      "14\n",
      "mkzsftp69six6\n",
      "66\n",
      "fiveptnn7\n",
      "57\n",
      "94lsgsjxrrghxxsr4\n",
      "94\n",
      "1grnvgpeightjthqmrfnszpfhfninefive9mbtf\n",
      "19\n",
      "qtsdfour2\n",
      "42\n",
      "5mfhmskpcvqbxjzzxt4lq3sevenkv\n",
      "57\n",
      "rbhjk1cdzjhtzkcbtvmfm\n",
      "11\n",
      "nine4eightpmrptkb\n",
      "98\n",
      "bfiveeight1lxzkzvbtkkgxxs38\n",
      "58\n",
      "mxcgbjqvhd1sevensevenrgp7two\n",
      "12\n",
      "fourxrdzzmjfmtr62one\n",
      "41\n",
      "sevenppqtlhvtwo7phlrbssxb\n",
      "77\n",
      "dhbnjmxg3bsgbhmlfiveseventwo\n",
      "32\n",
      "twoonemrbftgtzeightqjmjctmq55\n",
      "25\n",
      "ggk2lt586dfzqbjsvj1one\n",
      "21\n",
      "jtgpzjjtwo86seventwo\n",
      "22\n",
      "37nine4onebqvsnmvg277\n",
      "37\n",
      "hmpnzmqsfour6\n",
      "46\n",
      "xzfhgzllmcbc56vpbpbbjffmgr3jrc\n",
      "53\n",
      "5lclone\n",
      "51\n",
      "hjbvkdtmrgvpfive9sevenfive1nlzqlkfrg\n",
      "51\n",
      "htwonetgxvjdkrvjsfjjbfmcthseven29\n",
      "29\n",
      "six89bdlssd\n",
      "69\n",
      "3eight6one\n",
      "31\n",
      "vtbsix2twolzrhfr1\n",
      "61\n",
      "vhdcvtj5\n",
      "55\n",
      "167nsnmgxhtvn54fivedcbgrhm\n",
      "15\n",
      "4three1five82four\n",
      "44\n",
      "15eightonethreesixthree\n",
      "13\n",
      "dvhtsccljt51\n",
      "51\n",
      "pbnfrxblk3sevenxjcmcvhlgrghpbgdnpl8xsr3fiveoneightq\n",
      "38\n",
      "242three8\n",
      "28\n",
      "2fivehgqfxgl8kpdknxhmk5bmmsbz\n",
      "25\n",
      "fivejvjeight6fsqgtpvcb\n",
      "56\n",
      "1threelgkbhlhhlmrbvxqqgf\n",
      "13\n",
      "klmqfgfg1gnine253psn8\n",
      "18\n",
      "47eight\n",
      "48\n",
      "eight83mvdtsqppjhgjnsvngfive\n",
      "85\n",
      "7mcmzvsv6seven\n",
      "77\n",
      "56seven98three4three\n",
      "53\n",
      "pfnbthreegthreefknjm4five\n",
      "35\n",
      "2nqgrdcshfpjfpqdrvnq1twoccpmxpxvv\n",
      "22\n",
      "xtwo7threemxbtpsvjkgrfivethree2\n",
      "22\n",
      "9pkdfourfour1zjvczkhpbj\n",
      "91\n",
      "1three2\n",
      "12\n",
      "pkkbphkgqfivellrnvnkdxpql3\n",
      "53\n",
      "ppc62\n",
      "62\n",
      "one73ptfxsbbpqqgctdjhzjsjc91\n",
      "11\n",
      "nine7threefourvvk\n",
      "94\n",
      "six59542xcxqcbnrvzfbshcxxddz2\n",
      "62\n",
      "ftsfj2ninesix1hdjsrpkonelklfpltv\n",
      "21\n",
      "ninehmxgkqbmhvtlvdmdtvpeighttqfour1three\n",
      "93\n",
      "frbnineeight4168ksmjstpqvzhnn\n",
      "98\n",
      "rgnrntwohvqhgxxfkonefour4mfdr5ftgtjjv\n",
      "25\n",
      "3ninejbszdvdgznfourxpcxspqxnthlngkncvnineccq\n",
      "39\n",
      "threemjglxtp5cqmtwotwo2seventwonerkl\n",
      "31\n",
      "eightsevensevenlmbjzprggthree1eight\n",
      "88\n",
      "57nineninezdcf\n",
      "59\n",
      "cqoneighteightjnrfkplvninefivemck18mnhszhkv4\n",
      "14\n",
      "tbvdcsjsvmxtshv3fourseven4kmxvvfour9\n",
      "39\n",
      "bxcsix19six8dnqsbx\n",
      "68\n",
      "7five81ncchkdk\n",
      "71\n",
      "four4ck7rtjmjpccpeightone\n",
      "41\n",
      "fivetwo6nine1tdczktmfninelrbnnine\n",
      "59\n",
      "onetwo9twoeight5sevensix\n",
      "16\n",
      "cvvtbmninebneightsix1dnnfkgmnm\n",
      "91\n",
      "h7three3\n",
      "73\n",
      "tpnzsdm9sixtg5sixqvcqsq3\n",
      "93\n",
      "1sevenzmbcpgtfrjvq\n",
      "17\n",
      "r8757\n",
      "87\n",
      "fournineseven6fourfour\n",
      "44\n",
      "798dpbrkfourtwoxdrgqkrkmfeight7\n",
      "77\n",
      "threebvqqjcldjx4nine5\n",
      "35\n",
      "3hbl\n",
      "33\n",
      "twodndcfddkvfivermvkrfzsnqthree5\n",
      "25\n",
      "mhdcvsixmnqlvmvxmxfour3ct\n",
      "63\n",
      "25dpfsrbcllhtwothree2pthreezfhjx\n",
      "23\n",
      "dcfggnine1onetwoone\n",
      "91\n",
      "vtbmbpgffive2hdmzjzqqqc4one\n",
      "51\n",
      "zg11\n",
      "11\n",
      "txrknhvhbv183\n",
      "13\n",
      "dlvscqszz82nvtpb7tktvtgjbml\n",
      "87\n",
      "twofour5sevensmqfjrjcndmvcvqdfsrsix\n",
      "26\n",
      "446sixeight6rbrltdzf\n",
      "46\n",
      "132ncq1\n",
      "11\n",
      "4ninezdfzgvzf4four7qkzstcq\n",
      "47\n",
      "7rx5xntgxfpmvsevenzmzmbjlc3fivefive\n",
      "75\n",
      "threeseven7tshthree\n",
      "33\n",
      "gnbqhninecjnhlpcfivenine18\n",
      "98\n",
      "gjntwonenllmzgqsvq36lc45fourdrtzlctr\n",
      "24\n",
      "3tqgbfrk\n",
      "33\n",
      "zldl3zxpfbpveight\n",
      "38\n",
      "2ninetgppcvqrq\n",
      "29\n",
      "7one1sixeighttxcnhltwooneeight\n",
      "78\n",
      "bsm3hslqcr8xslndqnnvfpzvprlkt\n",
      "38\n",
      "khvptwo7kkbznndpqsevensevenvlr\n",
      "27\n",
      "sevenscneight8one4qnkc\n",
      "74\n",
      "2v\n",
      "22\n",
      "2threerjnineonev\n",
      "21\n",
      "68qhknonebtxvmqh\n",
      "61\n",
      "3btb\n",
      "33\n",
      "kcxbqzbjqt3twofourfxdlprsxkzlmflbveight\n",
      "38\n",
      "9bmdcninecjdv7\n",
      "97\n",
      "ceightwoninelkbbfxgsv9fb5n\n",
      "85\n",
      "ztwo2\n",
      "22\n",
      "7four9cpkclqxtrmpdgzxgtwo\n",
      "72\n",
      "8dghrmgprdjeight8knnb852one\n",
      "81\n",
      "2three36eightfournone2\n",
      "22\n",
      "6ztwofkzlhvjdrxtsmlbgczf\n",
      "62\n",
      "knine6ninebpmzjbkg9tttkhtgcklbfive\n",
      "95\n",
      "sevenv3\n",
      "73\n",
      "411one4483\n",
      "43\n",
      "88jvjggxqfour3zrbvbxjzmthree\n",
      "83\n",
      "fivelqcnqfvgp18t\n",
      "58\n",
      "fivejceightqlsdrmrnbzfbjskstzrllxrdlcxpjkvf1\n",
      "51\n",
      "832\n",
      "82\n",
      "sixfive77rhkjdhvbpdfjxpkmfdq66qqtfpfs\n",
      "66\n",
      "fv6svkbnsgtpznblnvkvk5\n",
      "65\n",
      "sixsevenfoursixeight486\n",
      "66\n",
      "gsbfrjpngshpmlxf2\n",
      "22\n",
      "gbmmmvdhffbbcq3\n",
      "33\n",
      "5fivehxx28\n",
      "58\n",
      "snjxttwo1zd5sixklfl\n",
      "26\n",
      "szsvdzsix3nine32nine\n",
      "69\n",
      "onervkhknmnsix3four363\n",
      "13\n",
      "1btphrrvxdeightonekdhv8\n",
      "18\n",
      "gkphmq73lfhflk66xpfive2\n",
      "72\n",
      "611four3gnjsdkvksjdxfiveeight\n",
      "68\n",
      "klbvb9zk4eightninetwo\n",
      "92\n",
      "mreight59sevengqbhnspvhqcj2six\n",
      "86\n",
      "hnvgkmljlpthsgjrzmsevensix6fcvtxddbnx5\n",
      "75\n",
      "ckfvkblhvv6gbsnlsevenktblt29three\n",
      "63\n",
      "eightfoursevendnsghkfsg8fivextnnine\n",
      "89\n",
      "5hrdqmfjq\n",
      "55\n",
      "twojcvkkjklzmfive2fourxqgdsdgzrjltwo7\n",
      "27\n",
      "onetwonvxnxnntxcthree3\n",
      "13\n",
      "threentwonine6\n",
      "36\n",
      "sprfmxlqvb9jnbzltskxppqzdscrvhpfvjjcqhxcf\n",
      "99\n",
      "sixhfour95\n",
      "65\n",
      "41fourqhpjbztknqnfpxvzc\n",
      "44\n",
      "two23sevenfgmmnszone113\n",
      "23\n",
      "one41seven57\n",
      "17\n",
      "oneninebqqklhk6gmdzddbhgzqcmxxfnmrvr\n",
      "16\n",
      "4mkpgv87eightckzjjfm\n",
      "48\n",
      "vhgdmvncxn88ldbt7464\n",
      "84\n",
      "gcczfprplf7\n",
      "77\n",
      "6eightninesxthreefive99\n",
      "69\n",
      "two69fivecjxjhgjmgvttl9\n",
      "29\n",
      "mztbzjmgxnpkfrqnrbgkgfourjjfjtone8eight\n",
      "48\n",
      "63mggldkcprlz\n",
      "63\n",
      "6sevenfourfive\n",
      "65\n",
      "1zvmrdnpzcsqqmxscn\n",
      "11\n",
      "five5tkgb8rrztmcfivebknjd\n",
      "55\n",
      "7pscpfive\n",
      "75\n",
      "eight9sixgfvhvlcnineeight\n",
      "88\n",
      "seven99fourtwojvxfrqmrdlthree\n",
      "73\n",
      "sppcgnjzeight93j\n",
      "83\n",
      "fivek7seventhree\n",
      "53\n",
      "twornbhtrlnznpctrxhqtngzdtnvfb2\n",
      "22\n",
      "sevenfivefour63five38nlrxfcjpm\n",
      "78\n",
      "qvtdcspc4zxmmhpklhcdlznqfg46lct5one\n",
      "41\n",
      "1bnndtnsfjdsevenfivetwo3k85\n",
      "15\n",
      "8five9six\n",
      "86\n",
      "3ltcc7trmmhbbbpjfive\n",
      "35\n",
      "cmbchhhczmqlp3\n",
      "33\n",
      "nctz78twodljcqvplcqg\n",
      "72\n",
      "nine4sevenpnbbztpvkbgztb\n",
      "97\n",
      "zseven9eight\n",
      "78\n",
      "fourktzscmnrvddnnzsqfnfctzpdvtwo9\n",
      "49\n",
      "nrtbgdjpm2ldcfdm5jjhx9\n",
      "29\n",
      "jq9two68kjttwo67\n",
      "97\n",
      "lnneightfourzqz6lgvxnthreeseven7\n",
      "87\n",
      "fiveglp85\n",
      "55\n",
      "ninefouronesix7k1three\n",
      "93\n",
      "3five5sevendhtmjhbh2\n",
      "32\n",
      "rbjhnmmgsvmtk8four\n",
      "84\n",
      "vtrvvjsixhnctwocvskgzt3two3\n",
      "63\n",
      "kxfive5threezgtd2\n",
      "52\n",
      "2fivemcnngtzxsgbxmvbl\n",
      "25\n",
      "eightlrlztkvhfivefour5\n",
      "85\n",
      "2twojcq7qrrbddmpsb\n",
      "27\n",
      "3twosixthreebqtoneone2\n",
      "32\n",
      "nine9six3vlmpqbgjjqdftldpq\n",
      "93\n",
      "tgrglqfxxc2onetwo76oneonex\n",
      "21\n",
      "one48one\n",
      "11\n",
      "fivesgsnrzsms6one\n",
      "51\n",
      "fiveseven1tzhxdknkseven4\n",
      "54\n",
      "3sprtonefivelxg47\n",
      "37\n",
      "twotwoseven3ninenqdvxgm\n",
      "29\n",
      "nskjpvvqeightnine93fivecngkjcd3\n",
      "83\n",
      "ltfxscllxk9pjznpnmhfmrzmqbq\n",
      "99\n",
      "4nineeight6four7\n",
      "47\n",
      "fjtpj763\n",
      "73\n",
      "four6six73htbstbbpztwofj\n",
      "42\n",
      "oneonetwo2five43three\n",
      "13\n",
      "five8bgcjnlzcgqpfkn\n",
      "58\n",
      "11mcn\n",
      "11\n",
      "9twovhkltdpkqzc65six\n",
      "96\n",
      "8fkprfkg9xfjxspqpshlfkqpnrt\n",
      "89\n",
      "4sblrf7745\n",
      "45\n",
      "lblxmbzfour6187tggqllj\n",
      "47\n",
      "dhdmlx71mbbxtvhszhsvcm\n",
      "71\n",
      "six1qbqglfsssx\n",
      "61\n",
      "164tsthbb2\n",
      "12\n",
      "8nineldrtltqfivebqnrthrm\n",
      "85\n",
      "sevenlsjbsklhxxfiveclbldxxtrdllxzthree6eight\n",
      "78\n",
      "18gnkrxfmnineone\n",
      "11\n",
      "six4threetwoeightgcn\n",
      "68\n",
      "vmknclnmnphb2czdbjmcone\n",
      "21\n",
      "eightq67\n",
      "87\n",
      "eighthnzslhbblr85eight3\n",
      "83\n",
      "3457kdzhnppqz5four8two\n",
      "32\n",
      "crcskvmhthree41\n",
      "31\n",
      "8pccnsbv8ln3\n",
      "83\n",
      "4eightonevd\n",
      "41\n",
      "pdz9threenine\n",
      "99\n",
      "3sg5gkrncz\n",
      "35\n",
      "6dxnslkl3xqlnm965twonexxn\n",
      "61\n",
      "9nlhmmkzsdbpdctd7ninec\n",
      "99\n",
      "62eightnine7nine3lrd\n",
      "63\n",
      "qbprlzczreight7threegqnrshrhc\n",
      "83\n",
      "3qlmr\n",
      "33\n",
      "three1twojgptkzgxmf\n",
      "32\n",
      "twosvdsfourone8\n",
      "28\n",
      "5sixfourzvjtkpk\n",
      "54\n",
      "six418\n",
      "68\n",
      "five523fivecbs\n",
      "55\n",
      "nineninesevenztfggvfkgkzfcm2\n",
      "92\n",
      "qnsix5dnv7three\n",
      "63\n",
      "three5twofour\n",
      "34\n",
      "hlmtnzsmlnjxdtwo6\n",
      "26\n",
      "9sixnglrctg\n",
      "96\n",
      "onecrgfq5hdldpc\n",
      "15\n",
      "nhzctlx94eight\n",
      "98\n",
      "19djvld\n",
      "19\n",
      "tzp8zzv8six1\n",
      "81\n",
      "1nsnine5sixhqxfk\n",
      "16\n",
      "33sixtwojrdvksrfsnltglggxdhbsxf\n",
      "32\n",
      "bbvtpxptrnvjqzl3rldseventhree6\n",
      "36\n",
      "2lcntfphb2lgpjbdeight\n",
      "28\n",
      "fivetwo1jjgkt9kltwo1nc\n",
      "51\n",
      "7xnmrscpfkthreejqbhlrtf4sixrbfrone\n",
      "71\n",
      "3threetqfkv1twofive\n",
      "35\n",
      "95ninejlftlxrs1nxxfsqz\n",
      "91\n",
      "hrsrszgrcl9seven8eightksdnhqsq7eight\n",
      "98\n",
      "5436ninefour\n",
      "54\n",
      "one5five\n",
      "15\n",
      "prcmxone8lhkblvr714three\n",
      "13\n",
      "92btgsllktgf7fivejhgsg2eight5\n",
      "95\n",
      "fourmm61nine558nine\n",
      "49\n",
      "bxjx2\n",
      "22\n",
      "one6onetwotjxthreefour8\n",
      "18\n",
      "threedkpnpfvgt1one3nine1\n",
      "31\n",
      "bxfour3two2sb4twondmfdpsz\n",
      "42\n",
      "11sevennrpxftwooneeightmx6\n",
      "16\n",
      "9mqxcrjxnp7hdjgqktxm\n",
      "97\n",
      "2rnjlg7mbxstzbdh\n",
      "27\n",
      "qmsixhckzone1\n",
      "61\n",
      "qzsnq6sixtwosixtwohhgbsrqgnine3\n",
      "63\n",
      "foureight7scksqtkmnfiveseven765\n",
      "45\n",
      "15oneckvshqd\n",
      "11\n",
      "41tzlxsfivebsckffdps\n",
      "45\n",
      "threefivefournine7\n",
      "37\n",
      "5fiveonefour8lhqmltwoeighttwo\n",
      "52\n",
      "four5six\n",
      "46\n",
      "mhnrspfourmflmvkc52cjkvxheightsevendtddjdcnb\n",
      "47\n",
      "vxrrlfnlqf1twoeightninesixonetwo\n",
      "12\n",
      "8xonetwo2\n",
      "82\n",
      "rveightwo79three\n",
      "83\n",
      "onebjlr9sixldqrbtwo4\n",
      "14\n",
      "f1lhrbsix\n",
      "16\n",
      "mbbkv7ffpk\n",
      "77\n",
      "8twofourmxqvkqfcjfoureightplgpmrtxm3\n",
      "83\n",
      "2rtrxjzqeighteightqtmsfnpdscpgqvxd7\n",
      "27\n",
      "nineqggljvzvxltwozsvsfournine9\n",
      "99\n",
      "ninexpmnnvqsfhnprqrqlcgfive9mtnflvttwoqlgphhb\n",
      "92\n",
      "11kbpmv1\n",
      "11\n",
      "htspdnh1xhbbh3lzcjjx1\n",
      "11\n",
      "five6fivefive5six\n",
      "56\n",
      "sxtbktj7\n",
      "77\n",
      "ncvkgvgbeightfour89ttbrjthree\n",
      "83\n",
      "xcgxzxbfnkxdqn73eight\n",
      "78\n",
      "5nine4fivesixtwotwo1\n",
      "51\n",
      "ffgzdfhn6\n",
      "66\n",
      "fourzvtfcczlxhnnx5three\n",
      "43\n",
      "threednfntx4eightwovql\n",
      "32\n",
      "sixtwoveightnine7twonineseven\n",
      "67\n",
      "seveneightcclmgknrgninemnjsrsqsevenfftmlqkch7\n",
      "77\n",
      "pvqnltjs2hghkrphnine3scngkjfcsn\n",
      "23\n",
      "62vdnbzrcrjsndqqr2\n",
      "62\n",
      "5cxhscqpgdzbrnnq1m9b\n",
      "59\n",
      "gnkclhmbjfourfivemmxpqx2qlxvsix\n",
      "46\n",
      "sevenxcp4fourdlqgpxcl\n",
      "74\n",
      "8eighttwoone\n",
      "81\n",
      "bjslbfrspcnffnine9rvnjjrvcsix2\n",
      "92\n",
      "six7tfive6hkllf56six\n",
      "66\n",
      "km3\n",
      "33\n",
      "sixtjt2threefour2vqqcxj84\n",
      "64\n",
      "9vflltwo4five\n",
      "95\n",
      "nineprprrcjt3eightmxfour\n",
      "94\n",
      "4twoninehvsbszqr\n",
      "49\n",
      "dtdmkcsd41eightfourxppqzkjb\n",
      "44\n",
      "xmdmghzdp9sevennine94\n",
      "94\n",
      "2bbjsdlxoneeight\n",
      "28\n",
      "ninefivetwonine8\n",
      "98\n",
      "68four\n",
      "64\n",
      "ninepdjpfmzxthree3dkxgttvncbr\n",
      "93\n",
      "52threesevenninefour6lfrlrsgzk\n",
      "56\n",
      "ghkczjt86bdk3czvhcone\n",
      "81\n",
      "cdjsd6jhnnnhzbzllqdjgpgnninevmcvbcxxltsix\n",
      "66\n",
      "1mxfsrninegfmgvnine14hbfnshgbprone\n",
      "11\n",
      "39four8\n",
      "38\n",
      "bxnnjqkninetwotwo58txgvrbxvq\n",
      "98\n",
      "k4bftq68seven4nineseven\n",
      "47\n",
      "seven97fivekxjnseven4fourfour\n",
      "74\n",
      "drgttpqpsevenvrkxdlmvtctsc72seven\n",
      "77\n",
      "eight298\n",
      "88\n",
      "2zsqmjskp\n",
      "22\n",
      "six5bgdkhzqt\n",
      "65\n",
      "fournlknxg35vqdqmnln6f\n",
      "46\n",
      "565rqtzdpqhlldxgnine7oneeight\n",
      "58\n",
      "3jfthree7vlkpfour1\n",
      "31\n",
      "fourgngnqtgd675vgrrjf\n",
      "45\n",
      "25nrfive\n",
      "25\n",
      "kmlbnrm5dtvqndldh\n",
      "55\n",
      "vgbzkpnltxrp5tpvb\n",
      "55\n",
      "5mbzzk3nine7cqkngz1mm\n",
      "51\n",
      "sevenfive952\n",
      "72\n",
      "4pxk8four\n",
      "44\n",
      "seven87fourlzlnineone\n",
      "71\n",
      "zxllsctgqmsevensix72\n",
      "72\n",
      "9ggkqvsrhftwobndlt\n",
      "92\n",
      "8sixsfzlfpztjtwofourqvnptkgllxcf\n",
      "84\n",
      "5dvsjvtm\n",
      "55\n",
      "29dsvjrl3pvgjqncbgcxc\n",
      "23\n",
      "9mhvrb8fbtppbhm2s\n",
      "92\n",
      "eightninel5\n",
      "85\n",
      "jltnzpcdr8one5szgf3nine88\n",
      "88\n",
      "8xzgs4chdkfour\n",
      "84\n",
      "three7vgnbtqvhthree8sixq\n",
      "36\n",
      "2onesix354jj58\n",
      "28\n",
      "175rpdmxfeightwos\n",
      "12\n",
      "gmngst7hpfvgmtfrqbb\n",
      "77\n",
      "9hd2lsxprdvtqxcv55\n",
      "95\n",
      "four13cjqkvgxvbseven8\n",
      "48\n",
      "1kqfrqsevenqgjttjrspd\n",
      "17\n",
      "7seveneight6zfmdbzdj2\n",
      "72\n",
      "9sixpfjbnthreedgbhblmr\n",
      "93\n",
      "7hdqqqkone6htzthree\n",
      "73\n",
      "hmnxstkbzlhqjpdn3three2\n",
      "32\n",
      "dpbjgmnn1\n",
      "11\n",
      "ninefivecznsbttpcvkthreeoneeight1zqtxb\n",
      "91\n",
      "6hlxdlpgrl7six\n",
      "66\n",
      "fourdhczrzd9mmmdthcngsmdqkq9fivetwofkb\n",
      "42\n",
      "7fbcrzcxjvxtqbfive168\n",
      "78\n",
      "sevenhlrkxgrggkqgd12\n",
      "72\n",
      "vzmpvhqvkpdfmthreetwo9\n",
      "39\n",
      "21cqxtjtwoljsixxbf3\n",
      "23\n",
      "bzzxkxtl3rhsrpnnzseven\n",
      "37\n",
      "threevhdqqvtwothreenine48frqsfhgsgptbbn\n",
      "38\n",
      "foureighteight3pgbcftjdbbsmcqjcrmt21\n",
      "41\n",
      "twovpfbsd42five\n",
      "25\n",
      "6foureightwofh\n",
      "62\n",
      "5185cbhgvkvpfzk1\n",
      "51\n",
      "1one3two5\n",
      "15\n",
      "seven3mdjks6kctnnchjgpnineeight\n",
      "78\n",
      "sixfivecjfkx5\n",
      "65\n",
      "sccbfqfive28bhconexmztpcftrbz\n",
      "51\n",
      "qfzhgl1nine5four59nbxhclpk\n",
      "19\n",
      "mjrvgdz3nine6gkvznv83\n",
      "33\n",
      "mfxqslvpzeight2\n",
      "82\n",
      "ztwoneeightknnjh4nine\n",
      "29\n",
      "onefivesevenfsmmhkbcplj6seven\n",
      "17\n",
      "2lfgzblvdflgxnsqfxtksbb\n",
      "22\n",
      "blmvzczjs61fourmtds\n",
      "64\n",
      "5two2\n",
      "52\n",
      "jqppjfxfour2\n",
      "42\n",
      "3five2bcrn653\n",
      "33\n",
      "86five6bseven\n",
      "87\n",
      "rzztlcbvteight135\n",
      "85\n",
      "1sjngcngjrsht3ninehninefive\n",
      "15\n",
      "81sixkrhvrhxqhn65\n",
      "85\n",
      "dkrgmnlcbjdjxblbfnp5\n",
      "55\n",
      "three85xrckdqtjqphjsjqflmt\n",
      "35\n",
      "5fmptvmz19fourmbzrttnxnk\n",
      "54\n",
      "dptwonefbqhrxtljddtkhh6four23\n",
      "23\n",
      "xfvgkfive69\n",
      "59\n",
      "cbtfrbpxphj2sevenmmzrpccnine\n",
      "29\n",
      "5twotwoseven\n",
      "57\n",
      "fivetwoeightonefive954\n",
      "54\n",
      "zxccrkvgdqtklbnhtdtdsghcseventwo6\n",
      "76\n",
      "three6vqmtchfdjxveightone\n",
      "31\n",
      "onenine39twodksvrdsxflthree\n",
      "13\n",
      "threesbpseven5zqtwobtmpgqjg1\n",
      "31\n",
      "326dgjmzzfivehkhsjrseven\n",
      "37\n",
      "dgthreeeightthreefbhbltbdjnineseven3klvx\n",
      "33\n",
      "4xkcqeighttwo2\n",
      "42\n",
      "eightonerhlnchp17\n",
      "87\n",
      "2jcmzbczstsrmbpzxpftkmznzckhv7three\n",
      "23\n",
      "7foursixbrcc6twosixgnf\n",
      "76\n",
      "4lqxfourtvxhqtlhlx7xcfxhmqzbone\n",
      "41\n",
      "2sevenz6sixtwo\n",
      "22\n",
      "nine1pv\n",
      "91\n",
      "95jzlkxn\n",
      "95\n",
      "onerzfnqhmtjpqff93lrctjgqhseveneight\n",
      "18\n",
      "5eightrdjnine3\n",
      "53\n",
      "threetwo6fourrcrq9dfmbsznshkfqmpvcb\n",
      "39\n",
      "five3hpjznhbtjonecvfgfsk9n9\n",
      "59\n",
      "2gkbqpqn31\n",
      "21\n",
      "sevenfivefgcvtpsxjprfh8nine\n",
      "79\n",
      "lvfxml6992\n",
      "62\n",
      "5threexmjjgkv8985zzjqdbtwo\n",
      "52\n",
      "eight3bkqdnbmrtb5\n",
      "85\n",
      "7sevenoneznpx\n",
      "71\n",
      "9hjg4eightrcsvdkbmldjclfqfm\n",
      "98\n",
      "9four2one4\n",
      "94\n",
      "koneightonecdfcrjkqtcsevennlvr8hbrc\n",
      "18\n",
      "seven3lthbv8\n",
      "78\n",
      "ninexzznsix5nine\n",
      "99\n",
      "ninentdd6qvkclninefivenine\n",
      "99\n",
      "four11pgmxz7pnjfiveeight\n",
      "48\n",
      "threeninefourpmtmlgllftnvxzn5twonine\n",
      "39\n",
      "four46eight9sevenfive3three\n",
      "43\n",
      "blztvfkqggcbshlzxppxgrxsr4three3\n",
      "43\n",
      "one9pvlnv\n",
      "19\n",
      "8l37\n",
      "87\n",
      "brjvlvjrhbfourxshh1vlclvrz2\n",
      "42\n",
      "5flqnkntnxkzhcftmzb9rlfzxlg\n",
      "59\n",
      "sixfourseven77onekone\n",
      "61\n",
      "6xfmdgjfeight4qzrncxdpmb4four\n",
      "64\n",
      "four28\n",
      "48\n",
      "seven74zrtpftdldc7fqlseven5\n",
      "75\n",
      "6gxjzskpkfvmmd\n",
      "66\n",
      "zkoneight99jrrmgsfpsixfiveone\n",
      "11\n",
      "9jbbdtdxjsm8szxblgjppx4tpnvqvtlrj\n",
      "94\n",
      "rsrlrcb32ngsixfourfivenine\n",
      "39\n",
      "6seven9one7threegrfqpncjthree\n",
      "63\n",
      "onebjvpzzqhvlhg1pxkvmgqvxsrglb8fourptbjs\n",
      "14\n",
      "1fch\n",
      "11\n",
      "njhs4p86n22\n",
      "42\n",
      "two1one6four1six\n",
      "26\n",
      "fourphxjkjtwo8eight\n",
      "48\n",
      "3svqrzd1fourcmlcknhvninetddpbcmbtgqpcjms\n",
      "39\n",
      "vkndzm684sixjlgkcvz4\n",
      "64\n",
      "25five\n",
      "25\n",
      "pkzt2fivetwo2zffkjqrhgfive4jpsj\n",
      "24\n",
      "sevenmpfcthreembjgbfpkdzqlr4\n",
      "74\n",
      "49four1mpldzb3\n",
      "43\n",
      "hdzddkxf1cxftflb73\n",
      "13\n",
      "zrmhdlhk2v7\n",
      "27\n",
      "25zcd\n",
      "25\n",
      "11eighteight5qcqzpvvk\n",
      "15\n",
      "38nine43\n",
      "33\n",
      "8lstwo\n",
      "82\n",
      "12sixnfbrgbhdpn1three3\n",
      "13\n",
      "8eightcd82rzkzlvthqnvhjvgfour\n",
      "84\n",
      "24jcbjplcnqbcrxs25\n",
      "25\n",
      "3fivebfkgpkglfchbmbfps\n",
      "35\n",
      "pgmvbnhskgzdmz2sixeightcjq5\n",
      "25\n",
      "cdpmrlj1one\n",
      "11\n",
      "6hxqoneightjjv\n",
      "68\n",
      "34gxbjzrtg5\n",
      "35\n",
      "pvddskbslqnrfngmcjgsdthree3\n",
      "33\n",
      "6nkjjlknp9\n",
      "69\n",
      "hflkjhgjmeightc5n1\n",
      "81\n",
      "dmkeight1223\n",
      "83\n",
      "five9three8\n",
      "58\n",
      "eight7mqfsjplfprrfpkzctgtdvrmxphm\n",
      "87\n",
      "phbs2fck4sixfourqvqbr\n",
      "24\n",
      "2bnvktn\n",
      "22\n",
      "sfvkgzone83\n",
      "13\n",
      "2threetqnthdnq32ninetwo9\n",
      "29\n",
      "sixhdkvdcmp5three23j\n",
      "63\n",
      "8615four\n",
      "84\n",
      "twosix54vrrbvzszk9\n",
      "29\n",
      "53671\n",
      "51\n",
      "threevklcphgkjsnine4eight4fmtffknglthree\n",
      "33\n",
      "sixninethreeh4dj\n",
      "64\n",
      "oneone1pmdthreesrfsssbkt8\n",
      "18\n",
      "7foureighteight3\n",
      "73\n",
      "srpvkzrqfive378\n",
      "58\n",
      "6twodnnrvfjrjv\n",
      "62\n",
      "4kpxlslqfbktwo\n",
      "42\n",
      "bvzpgrc9twotqsvdztwoseven8\n",
      "98\n",
      "xkjdltjgzbjhxkjvtwo6\n",
      "26\n",
      "five27sixsevensixtwo9nine\n",
      "59\n",
      "jk468qgkr\n",
      "48\n",
      "fourtwo89\n",
      "49\n",
      "fourthreethreedtnzbmlfhmgjr5nineseven7\n",
      "47\n",
      "44seven\n",
      "47\n",
      "two3psfive122jps\n",
      "22\n",
      "sevensevenghzmpdvrffive9nine3eight\n",
      "78\n",
      "497ftdf9five\n",
      "45\n",
      "gklfive6rnvpnvvkqheight\n",
      "58\n",
      "2hvdfiveprrdqspsix6\n",
      "26\n",
      "5m8nine\n",
      "59\n",
      "bnctbninexsixonesix8five8\n",
      "98\n",
      "xkqqlmfmrveightsix4nine93nine\n",
      "89\n",
      "6k\n",
      "66\n",
      "3foursevensix6cksix5six\n",
      "36\n",
      "7twoone\n",
      "71\n",
      "three73lfddzhd1fkxmjdzsix7twonex\n",
      "31\n",
      "sthjlrjrhd741prcsqh3rmllvjmtvgfour\n",
      "74\n",
      "4dvffpjkn\n",
      "44\n",
      "tpbttcslvz7twoneq\n",
      "71\n",
      "fourtwoninej5snfxnqzthree\n",
      "43\n",
      "n7cmsfsqd\n",
      "77\n",
      "eightssrzkxj5\n",
      "85\n",
      "239\n",
      "29\n",
      "three8five7xxthreebqrbx\n",
      "33\n",
      "zrlchvsevenfournine4ktvskhjgh3h\n",
      "73\n",
      "7fourfdjsnhdbgqjvnltzj6three\n",
      "73\n",
      "mrjsndmzkz7rszqnbhxt3fvsix1\n",
      "71\n",
      "neight85eightggtnxtgljsevenfivekz\n",
      "85\n",
      "6vknslh4onetwonrlzm\n",
      "62\n",
      "37zlrksix1skbsdkpjf6twonejtx\n",
      "31\n",
      "three2843five6\n",
      "36\n",
      "txgdvvdg959\n",
      "99\n",
      "zfjrs2zvtbqctcdqgrpfmqsjbdone5\n",
      "25\n",
      "six9eightninetwo72sxxnzvblthree\n",
      "63\n",
      "2jdpslvbnpqjpglczkmzggkfkdkx8hgpxtcz\n",
      "28\n",
      "threefive5eight5mnbllfpcsp29vlnbrntt\n",
      "39\n",
      "gfxndggbs16twozpcsckzqcj3sthsgq6\n",
      "16\n",
      "gcjjvqkvzdbcsnmqqhnzzqvj4\n",
      "44\n",
      "flcpl3btfmbbpnkjvnlmcthreetwo1eightwops\n",
      "32\n",
      "bdmeight67tvkfh2\n",
      "82\n",
      "three645qcv1zbbheight\n",
      "38\n",
      "3ninethvbxxppxgqcqrclptxczgrcneighttwofivebrqxl\n",
      "35\n",
      "25eight41\n",
      "21\n",
      "six22\n",
      "62\n",
      "pcp5\n",
      "55\n",
      "dtmgxkdqsixdhmsbj821\n",
      "61\n",
      "eightprbxpj5oneightcxj\n",
      "88\n",
      "qvrn3jbhlxjsdq\n",
      "33\n",
      "oneclvhjhr5\n",
      "15\n",
      "9nkmqpjjxxhvtpndls9\n",
      "99\n",
      "215ltwo75\n",
      "25\n",
      "threeeight16nine2mzhxnine\n",
      "39\n",
      "ktfxkmdvzprhkpdhvxhzsc68\n",
      "68\n",
      "fivesix8five\n",
      "55\n",
      "4z1eighttwofive\n",
      "45\n",
      "73twotwo4\n",
      "74\n",
      "gmjlpchdzfthreesix1vljxdqsrlxmmqs2\n",
      "32\n",
      "twofxh3\n",
      "23\n",
      "threeqzcglsdcfm4four\n",
      "34\n",
      "three1eight8\n",
      "38\n",
      "seven7dtqhr7\n",
      "77\n",
      "4xbjlxlptj8hzfjnz\n",
      "48\n",
      "37jzgxbjcggone\n",
      "31\n",
      "81fouronenine489four\n",
      "84\n",
      "eight3fiveoneseven135\n",
      "85\n",
      "stzts59zqdvrdcqrc\n",
      "59\n",
      "sixnklrjbeightn2six\n",
      "66\n",
      "bqdtntwonine1eightttzlzvzfn54xmj\n",
      "24\n",
      "sjk6\n",
      "66\n",
      "qmrbnhczj624394sevenseven\n",
      "67\n",
      "kkjdcjhfh93eight\n",
      "98\n",
      "3ptmslnconethree\n",
      "33\n",
      "cfjgdffcgvldsnvkbjqrxhxcl7fjlxdrlrrthreeseventwo\n",
      "72\n",
      "187oneseven6\n",
      "16\n",
      "fiveprnppdg2tjfbfmlvhpmkggjc\n",
      "52\n",
      "9onetwo4\n",
      "94\n",
      "fivesvjxkzzm59vtsevenhzxtkggdhr8hvjtjvv\n",
      "58\n",
      "kpxkbbxseveneight89sevenrbhqqpk\n",
      "77\n",
      "drhkpssxqvvnssq59four4\n",
      "54\n",
      "oneeight17\n",
      "17\n",
      "gteightwoone268four\n",
      "84\n",
      "eight7fourbjnlzfiveczlzppnxck\n",
      "85\n",
      "jdqpxsevenone2eight\n",
      "78\n",
      "pvh5six4hddrhfzpxfmtwo\n",
      "52\n",
      "5six56nineone2\n",
      "52\n",
      "v96k9115three\n",
      "93\n",
      "phqhhthree5ksqhfjlbfg\n",
      "35\n",
      "gpsskbfhhllnxfvjspkjndtlfour5\n",
      "45\n",
      "three5zqbnsrdthree8\n",
      "38\n",
      "b4mkfpkltlfdfive4mdqxjnb8tdpnpf3\n",
      "43\n",
      "qfivejjggrpktxponetrjzceightseven9xhdf\n",
      "59\n",
      "34cpfxc\n",
      "34\n",
      "jl9\n",
      "99\n",
      "84four\n",
      "84\n",
      "fourthree9three48\n",
      "48\n",
      "7threevgvtj2five4pbq\n",
      "74\n",
      "7kjkjc\n",
      "77\n",
      "seventfsvjbsh5smmdd3frthree\n",
      "73\n",
      "smgmzqzn5\n",
      "55\n",
      "gmtd5kvglxsixeight8twothvkprlbc5\n",
      "55\n",
      "twofour62\n",
      "22\n",
      "nine5k\n",
      "95\n",
      "hbxnpb4four4h\n",
      "44\n",
      "6sixgnmnjv4fourone1\n",
      "61\n",
      "9eightseventhree\n",
      "93\n",
      "9jpvccsvhqpnhsl8\n",
      "98\n",
      "nvcnninefour9\n",
      "99\n",
      "v237ppqbhb\n",
      "27\n",
      "78six\n",
      "76\n",
      "four165oneightxcm\n",
      "48\n",
      "9pjcsfbrghnineqzth4smx\n",
      "94\n",
      "46fpfptrq1mbqmbnktqeight\n",
      "48\n",
      "stbxvlcqz5krd1threethreeonefour\n",
      "54\n",
      "48six5seven\n",
      "47\n",
      "6bmltlrvrgpcfhjhmfiveqzfxptjtwo4zvsqqxgbrdlzsfmtzdd\n",
      "64\n",
      "jeightwo47three86twoseven\n",
      "87\n",
      "njxzmthree8fivevvchvjqdvn3foursix\n",
      "36\n",
      "83t34\n",
      "84\n",
      "oneznzqptpxbrtqxstkmz3kmtstds\n",
      "13\n",
      "1sixsfrnqd\n",
      "16\n",
      "brs7fgkbhntv5s5\n",
      "75\n",
      "twohs7m\n",
      "27\n",
      "gfljsixseventmgdvhqthree3threefive\n",
      "65\n",
      "f1twonekdh\n",
      "11\n",
      "oneone735eightnine\n",
      "19\n",
      "pfjvfspsseven9qgfrnmckxzsix94\n",
      "74\n",
      "7nineninelrcqqcgcnmmqf3\n",
      "73\n",
      "1vjdhjtrfourfive2nine278\n",
      "18\n",
      "oneone7\n",
      "17\n",
      "threelcxlqrzhdghp4zkjfivepjj\n",
      "35\n",
      "hcshggsmzpdmkvtdvdgqtfxlt8\n",
      "88\n",
      "1vdjtvpfhkhfive1\n",
      "11\n",
      "2eightstnj6three\n",
      "23\n",
      "93threeeightntjblpljbv\n",
      "98\n",
      "onermlmtncmj6pxkmhmqchzvzf\n",
      "16\n",
      "4eightfnjzfzhvg\n",
      "48\n",
      "hmjvmtwovnl8nine84\n",
      "24\n",
      "threets6\n",
      "36\n",
      "six9twofivexgz63\n",
      "63\n",
      "692five\n",
      "65\n",
      "fkgblptntvhvmlv8threethreenine\n",
      "89\n",
      "seven86\n",
      "76\n",
      "nine1n7\n",
      "97\n",
      "97two\n",
      "92\n",
      "4threebqqnmvmqleightthreefiveszppmbhxrxvpxz\n",
      "45\n",
      "6bxbmbdkxqmzeightlrqdqvrkr5threethree\n",
      "63\n",
      "llqcbpeight1vpjninekpdvzg\n",
      "89\n",
      "6qgtdqvtvkcbcskfqtq\n",
      "66\n",
      "6threegrrmxxxqkflltr3\n",
      "63\n",
      "312\n",
      "32\n",
      "hqmhsxpmkxtwosix3\n",
      "23\n",
      "rpzqtmzgdfdxcgsix1six63lxjpbxfq8\n",
      "68\n",
      "zzkbtkghmmqfourrtsixxxfjnvvccmpsd5six\n",
      "46\n",
      "13two4bxdcqzrkqtxm1mplvqxcfhcjsc\n",
      "11\n",
      "threesixqj8two\n",
      "32\n",
      "9seventhree\n",
      "93\n",
      "dtnine5twoseven6zxd\n",
      "96\n",
      "lsqbvgjnznineone7lxtvmkmflrfcqdjmjtwo\n",
      "92\n",
      "zpkjlfp6onevxtdtdzmcqjprfive\n",
      "65\n",
      "gxplqqsz412sevenninejs1\n",
      "41\n",
      "psvjsvvnrv796\n",
      "76\n",
      "69tfxkbkchvlhkjbrmone\n",
      "61\n",
      "fivehnrvtb6\n",
      "56\n",
      "eightzdlqrbzxteightptlgmcmvtwothreergcddqxf2twonepxh\n",
      "81\n",
      "343sevenxsffneightdvft\n",
      "38\n",
      "fivednmrpmvv8fiveninesevenzbggk\n",
      "57\n",
      "seventwot3hpfrzbhxlhfivetwo7zvmpmq\n",
      "77\n",
      "xnsxz8fivezhzdcbzsvp\n",
      "85\n",
      "sfzch8twoned\n",
      "81\n",
      "5rstpx\n",
      "55\n",
      "12six\n",
      "16\n",
      "gqznine5gpg\n",
      "95\n",
      "6zrmsp825seven\n",
      "67\n",
      "2493twothree\n",
      "23\n",
      "9fivemksdnmgbvx\n",
      "95\n",
      "6dvdpdpkmqpxvfive28six\n",
      "66\n",
      "dzvnrdksixonetwoonetr4\n",
      "64\n",
      "7fncndxbqj6onetwosixsixthree\n",
      "73\n",
      "7cnprcdgk2three2dvtccqnskvzfsevenxdrnqf\n",
      "77\n",
      "cxfcdvbsjqjbnxddlggjfourtnfzvtgx4twoddkkpdd\n",
      "42\n",
      "pxjgqrmdg5mpcgcdmfeight825jxxqcnfive\n",
      "55\n",
      "1tkhgtzzfrbdvnbft\n",
      "11\n",
      "hgxfive14ddcfhshfd4\n",
      "54\n",
      "onenzlhvtdgkjmjgldmddhngdv9onebkt\n",
      "11\n",
      "foureight8rzxkktk9eighteight1\n",
      "41\n",
      "478nshqhnhjrmlqbmp\n",
      "48\n",
      "ddjzzxgj75zktccgqrltfivethree\n",
      "73\n",
      "eightmcnmt5jnmnqhqdfive\n",
      "85\n",
      "rcdxshk1seven5\n",
      "15\n",
      "rdcmbznk79\n",
      "79\n",
      "2gtbskjxpmmvdclgmfjrc48one\n",
      "21\n",
      "8mqgnfive7chknsixrfourseven\n",
      "87\n",
      "4hgdxjgbn1sixseven7twosixseven\n",
      "47\n",
      "mkjslkltjd59\n",
      "59\n",
      "fourfoursixfkjrcfsfivenrtzv4eight\n",
      "48\n",
      "five8threeseven4\n",
      "54\n",
      "81821tcmfourddhmzvzfive\n",
      "85\n",
      "onesix943fivejld\n",
      "15\n",
      "5eighteight3cmvvpqmdq72vrvb\n",
      "52\n",
      "two86\n",
      "26\n",
      "nqjrpqvgqr7rjjjxglqzrmt\n",
      "77\n",
      "5kqjjvzxt\n",
      "55\n",
      "6fourvstjrlnvone3ndphzphkrnsqmkmsthreep\n",
      "63\n",
      "six8four7\n",
      "67\n",
      "two1dntwo\n",
      "22\n",
      "eightgmcgrnptrcvztbdp4three\n",
      "83\n",
      "xxbpnnztr5eightpnqeight\n",
      "58\n",
      "three9pfpnjx6rkphpjeight3five\n",
      "35\n",
      "sevendzstsjl3krspscb1\n",
      "71\n",
      "fsevenfqtxxhjzvnineninesixeight8\n",
      "78\n",
      "kznjhnxbnk7qbxjrztltv\n",
      "77\n",
      "rkeightwo6zfpvrfgqr7qxbkkg43lrjqtzjrprqttxmbrzg\n",
      "83\n",
      "mcfive77vgzxonehglbj\n",
      "51\n",
      "9319\n",
      "99\n",
      "4mzds\n",
      "44\n",
      "sevensixthree5sixdvzxkndhvjfive\n",
      "75\n",
      "9mjhfkeight88v\n",
      "98\n",
      "seven5zhdthbmrkdpdxfcp8njtqvpnjj14\n",
      "74\n",
      "8ninetwo\n",
      "82\n",
      "95tnjldjqcrzdxlm3\n",
      "93\n",
      "fourgffour8\n",
      "48\n",
      "nine821qbv6five\n",
      "95\n",
      "jbtfg83two\n",
      "82\n",
      "twozcpjrcnplnz5bdtgpdctb87lzlvqhtrjj\n",
      "27\n",
      "tr4\n",
      "44\n",
      "5foureightfourfcs\n",
      "54\n",
      "1cqjts1jgzkfm\n",
      "11\n",
      "66threetwo\n",
      "62\n",
      "jsdpkfnineeightzpjdmrvxkbhdntj9\n",
      "99\n",
      "pgcqrsix6mqrr8threeqxgkftbmzninevndn\n",
      "69\n",
      "kmvqsqhbrcnbqqgninet6\n",
      "96\n",
      "bxtstqzpqfzqnhjfb8htszvgqhpnggvqt\n",
      "88\n",
      "ninecpqpffivehg8\n",
      "98\n",
      "kxmstxkffourqmx41\n",
      "41\n",
      "scfourlkfbrjvbtwo5\n",
      "45\n",
      "qr88fivenine1lfvksgrtqseven\n",
      "87\n",
      "four6foursix\n",
      "46\n",
      "twoqmnxrjql5fourpdlstnnsfkdjgt9\n",
      "29\n",
      "4zsvbsjqv97bpxvncr\n",
      "47\n",
      "xhqlhsbqjhvdqqonesevenfive3qvrtbkhhlfbzsj9\n",
      "19\n",
      "sixeight4six5szgzcjhpj1\n",
      "61\n",
      "7vpjq9hjtrjgone\n",
      "71\n",
      "f92eight\n",
      "98\n",
      "eighteightnc8134\n",
      "84\n",
      "22onespjpxlttsqsix8eighthxdfvsdx\n",
      "28\n",
      "5ninefourgrrmxsxjfxk\n",
      "54\n",
      "threeninepmvsv763xlxjp\n",
      "33\n",
      "oneone7lzzhjqqrg\n",
      "17\n",
      "9fourtqqmhrpmkxhrvlnjvvhsevenseven\n",
      "97\n",
      "threethreetvjpnoneseven8\n",
      "38\n",
      "two46onetwoqbvntlxbrftpjf9\n",
      "29\n",
      "8one5nine1three8\n",
      "88\n",
      "three69sgdkstpqbqdz\n",
      "39\n",
      "q8rzcl\n",
      "88\n",
      "onepjmchxtlqnmrcrvm6\n",
      "16\n",
      "61fivegjjsevenqgdkq\n",
      "67\n",
      "49fxhdzfntmk6tb8dpdkknzsb\n",
      "48\n",
      "bbseven1xvqmlrhx\n",
      "71\n",
      "2j\n",
      "22\n",
      "seventwozjqszlhzxlpgphnkz2foursixfour\n",
      "74\n",
      "1sixhgvhrbonetwom\n",
      "12\n",
      "fournine8gvmrpgdxvcbdspzdcqt87bdzvxbf5\n",
      "45\n",
      "3sevennine2fzpt\n",
      "32\n",
      "threedcdlq9kcjhtmtz\n",
      "39\n",
      "86five\n",
      "85\n",
      "tpfqhqs3977\n",
      "37\n",
      "8four1cgmm12shfl58\n",
      "88\n",
      "xlkrrkpkqjtslblqfnxp7two16jzpmpkrfvdzh\n",
      "76\n",
      "243\n",
      "23\n",
      "three9hkgnmrh6lqrsx5\n",
      "35\n",
      "fivexsczpmltrmcgrvfc58\n",
      "58\n",
      "mxngrsh2sevensixthreelgrmg\n",
      "23\n",
      "ljqmflvone76\n",
      "16\n",
      "ksponeightthree2ninenine\n",
      "19\n",
      "tdsdmjznr5nine7fourtwojgjsdfsevenone\n",
      "51\n",
      "eightfive1fourseven3gsqhtv\n",
      "83\n",
      "1xfdmqtmgkmjkthree\n",
      "13\n",
      "rztwonelztpgkxzzcbn1eightttssdpone71\n",
      "21\n",
      "zthhsgvmhqsgvdponetwo9p\n",
      "19\n",
      "293rmjjjpmjchjnbdcssfrneightvdzrkbhdln\n",
      "28\n",
      "7nfkdntfourthreefzrfxmxgqone5\n",
      "75\n",
      "tkgrnhbflp7zltmbdoneeightwoh\n",
      "72\n",
      "7bspgfklffgsix4\n",
      "74\n",
      "eighthcmlrpbhjjmvbjrleightgd94\n",
      "84\n",
      "sixbgfjzgzbxsb4qsixthreehbbn\n",
      "63\n",
      "ninerhzjpjdfnsevenonenine8\n",
      "98\n",
      "38kqzjxqmmm\n",
      "38\n",
      "jngngvc412\n",
      "42\n",
      "4twosponesixdpj15five\n",
      "45\n",
      "41four2oneonekr2\n",
      "42\n",
      "cpsixjnlhkthree353seven\n",
      "67\n",
      "bknflgv1sixfivefive5\n",
      "15\n",
      "3qkhnsjqkcjmlg7gl4jthreethree\n",
      "33\n",
      "dhlngstrvbxjjll2979kjsttsfgjkc\n",
      "29\n",
      "4kkq7rqlxcldqqtwo\n",
      "42\n",
      "jfh74\n",
      "74\n",
      "lkfpcdghgq8gpgldrsnzkzzzzskrvcvsjthree\n",
      "83\n",
      "57fivefive3cxqj2\n",
      "52\n",
      "ztwone7vcd37122\n",
      "22\n",
      "4qrrhhlxgpr4\n",
      "44\n",
      "twokzfjg2sevenlnvlpzxknznpsc1\n",
      "21\n",
      "4jjbcdbfm8six6four\n",
      "44\n",
      "5eightninesixvzvf98two\n",
      "52\n",
      "8flntwomkktkpvsone78sixone\n",
      "81\n",
      "sevenzltjhkptjfjbrppm85eight\n",
      "78\n",
      "fivemfrmnqptthreepninepd5\n",
      "55\n",
      "6one9\n",
      "69\n",
      "vkqxgzmbm2b4pjqjddsbjnjcqqvm9\n",
      "29\n",
      "5443nfkv\n",
      "53\n",
      "leightwo5\n",
      "85\n",
      "8fiveeightonetwovgvhzgzfjh16eightwohlk\n",
      "82\n",
      "fivexnbhkzjfg1\n",
      "51\n",
      "chkxvgrgb1sqxsnhngnrtqsnqgjkd\n",
      "11\n",
      "96twoone5553dv\n",
      "93\n",
      "36pfltskrbcmlmnspn\n",
      "36\n",
      "4jbbrh95249\n",
      "49\n",
      "xfzspqssdfourhnmtzfive2pfzczh\n",
      "42\n",
      "onexzbzhddkqgfr2\n",
      "12\n",
      "sevenninerrlveight5nine3\n",
      "73\n",
      "eight7qvgkbk238fiveeight\n",
      "88\n",
      "sevenseveneightgtxtxkjsgdgklzzxxc3two8\n",
      "78\n",
      "tvfjhvtclm75skqdxsskqhrjkbg\n",
      "75\n",
      "45\n",
      "45\n",
      "sevenfive82\n",
      "72\n",
      "425zkhjhmk\n",
      "45\n",
      "onexdchhtxmhsevenbczrslrppneightonenbnhfmbsvdcnzjx1\n",
      "11\n",
      "zfkscdbmtwoeightrksdmgx4\n",
      "24\n",
      "lnseightnine9eight\n",
      "88\n",
      "fourhmbhlcpht53ngkbzjmfivesixg\n",
      "46\n",
      "threestrhbj9sixggczcg\n",
      "36\n",
      "9twoskgrps8\n",
      "98\n",
      "3four6xdqczgtzlzf\n",
      "36\n",
      "ldfn2\n",
      "22\n",
      "qlzjsnbzfourfdq476\n",
      "46\n",
      "tpkczdh5hdbxvvmmt3sixsix\n",
      "56\n",
      "tdpxzld5\n",
      "55\n",
      "lnveightwohdkgcvvrjs38\n",
      "88\n",
      "zz8eightstvmhvrh7hftdhkrjcneight1\n",
      "81\n",
      "9kdbcpqtx15\n",
      "95\n",
      "rbqgdbvrstgninefive4bqq2six\n",
      "96\n",
      "nine3psmkzkgnjbndrcninesevenzvcr6\n",
      "96\n",
      "eight4jfrqcbqfninedxmdtjgqgtrg6four5\n",
      "85\n",
      "3mmnineninenjjpmfivetwo\n",
      "32\n",
      "cv4znxcjthreeqqtdqmzxfknnp\n",
      "43\n",
      "8pjkm\n",
      "88\n",
      "ptwonethreegrgvseven7\n",
      "27\n",
      "onethree1bgjsix5sevengpts\n",
      "17\n",
      "96xlmmthreeeightcbdnrstvpncmr\n",
      "98\n",
      "rtc94tcninefive\n",
      "95\n",
      "onespqnnptpdbrgqsqrldstl1\n",
      "11\n",
      "qkeightwotwocjcngknkztwo7\n",
      "87\n",
      "gzjhzlf4fdglcrzckbrlkmg\n",
      "44\n",
      "3eighttwopninefour\n",
      "34\n",
      "2seven1c\n",
      "21\n",
      "17nine447qkmfour2\n",
      "12\n",
      "six6xfgqddnfpsc\n",
      "66\n",
      "mkbgbkvzdpzxfmrhdcjklxfoureightzzpn3eight\n",
      "48\n",
      "95ninevhctbgznbzz871sixoneightr\n",
      "98\n",
      "31onekmseveneight2four\n",
      "34\n",
      "mlxqgmvj2six6\n",
      "26\n",
      "2sixgvsbmrhtwofour\n",
      "24\n",
      "eight221three99two3\n",
      "83\n",
      "88xrrbjdlzrfour8plv\n",
      "88\n",
      "xdglmrpxbz5xpjxzpmvrgsixthreeseven7threebtqfkqp\n",
      "53\n",
      "lbd2onethree\n",
      "23\n",
      "seventwoseven7threesixbpld\n",
      "76\n",
      "1pstwofour8eight3dsdfrseven\n",
      "17\n",
      "gnvzm19htsbvcsfmlrmbgtstzmm3twoqzffkrrq\n",
      "12\n",
      "94nvrbbj\n",
      "94\n",
      "one71rsfbpnnbkrklmxqfive\n",
      "15\n",
      "4six1\n",
      "41\n",
      "eight48chsrmsix\n",
      "86\n",
      "vqxrnmsix98hlzdgvd3sevenninekng\n",
      "69\n",
      "12threehscqzvzcbgfive6three2zhtthr\n",
      "12\n",
      "6sixkzrnv\n",
      "66\n",
      "5gmnhhzkfmp\n",
      "55\n",
      "four35seven7onenvdsevenftnpbcj\n",
      "47\n",
      "6zxrhcxxkppkn2\n",
      "62\n",
      "dgshxchmhgtgjk281seven\n",
      "27\n",
      "lbdsmfvdsfzlp6dfpgd3\n",
      "63\n",
      "three2dpsdhfld95eightwoht\n",
      "32\n",
      "jbktdklsqkgnhnfmseven1lhdsbjksixtwo\n",
      "72\n",
      "3fdqfour\n",
      "34\n",
      "5jpljkkpmdsix\n",
      "56\n",
      "qfeightwo9threethree\n",
      "83\n",
      "hpqdx4911tzfcxlrtccqf9one\n",
      "41\n",
      "q79zspgmjpdzs63\n",
      "73\n",
      "344zk5xbthreezgbffcb\n",
      "33\n",
      "nlzmjfqxmneightxqjdnjvr21\n",
      "81\n",
      "8cxtrkpvzj21xfgbdgcvgrztwo\n",
      "82\n",
      "three18444\n",
      "34\n",
      "sntrptktwo2one1five\n",
      "25\n",
      "qxjrgfcnpcjtnfjljqnq1onehzfcqlnine\n",
      "19\n",
      "kflgzv58dbzbjjdvclgtseven\n",
      "57\n",
      "twofive4eightwozz\n",
      "22\n",
      "eightfive365\n",
      "85\n",
      "7nqnksvphhnine88\n",
      "78\n",
      "t8eight\n",
      "88\n",
      "bjd6five\n",
      "65\n",
      "khbrbtsx5jqxmbsqtf5nine3sevenskhfg6\n",
      "56\n",
      "seventlkmfhqkgxkbhqr6ncjztnfive\n",
      "75\n",
      "152one\n",
      "11\n",
      "three5cbpqkzb4eightseventgmqzflsfksix\n",
      "36\n",
      "seven32threegfddgtf\n",
      "73\n",
      "two5twofivexzkkvcqs3\n",
      "23\n",
      "tvvdgrnqlmkfour1zrcznqkhseveneight1q\n",
      "41\n",
      "92threesix89\n",
      "99\n",
      "3zbdlttpbh7fivepgxmrvbzlnfgmbkzknndfqk5\n",
      "35\n",
      "threefnhxtdbl1jtxeightwol\n",
      "32\n",
      "5vgthldgfmgdjphvcgh53dshmdkc\n",
      "53\n",
      "3nineeightwokh\n",
      "32\n",
      "57eighttddbcdsjdss\n",
      "58\n",
      "tkcgn86xfgbmzt7rksvnchnrh\n",
      "87\n",
      "five3dn5\n",
      "55\n",
      "three2eighteight15nine\n",
      "39\n",
      "49bn1zvbm57\n",
      "47\n",
      "351six6xfzfjvpz\n",
      "36\n",
      "5one5zchddj4dkksn\n",
      "54\n",
      "xfhtwonesevenfivethreepqzmrzrrfourthree5\n",
      "25\n",
      "ninetzmcgp47four\n",
      "94\n",
      "sevenbcfbpnrvkkscrjtpctdtb69bvvnvlgsmjltlvs\n",
      "79\n",
      "6threev\n",
      "63\n",
      "ninerlsbznvfn9\n",
      "99\n",
      "fourbm2\n",
      "42\n",
      "sdxd22\n",
      "22\n",
      "n7\n",
      "77\n",
      "7sixcjdsxfourfmvzrbvlnine5\n",
      "75\n",
      "threeqtbhgznine7one\n",
      "31\n",
      "ftmkmxkd9fvvlg353rp51\n",
      "91\n",
      "9zjhmpnjv5jvndz\n",
      "95\n",
      "58three59nineonesix\n",
      "56\n",
      "rmjvhrjjmkqsn6gqthreeonefivemxqhrzvffone\n",
      "61\n",
      "xsslv7gpgkbzdmr434four\n",
      "74\n",
      "pnzxp4nbtsjqctkvqncxzxzj\n",
      "44\n",
      "eightseven52five4ninekntfjrdt\n",
      "89\n",
      "4sixldsmv\n",
      "46\n",
      "pknxkqgdpnc7fivedbvhkn\n",
      "75\n",
      "qkpjhjlxone4sixpfkvhlmxmd3\n",
      "13\n",
      "four3ninerkrcvgcmbb2qm\n",
      "42\n",
      "fivenine6six1eight\n",
      "58\n",
      "69sixnine\n",
      "69\n",
      "bvjx5lg5vgrqq\n",
      "55\n",
      "21ninegnhdkcxhzkcfdksvsmdthree\n",
      "23\n",
      "zjrnmhclxhrkjpffhxkthnvj83jnshbqvx\n",
      "83\n",
      "bzfphcg9fourthreegkchdvrgsx\n",
      "93\n",
      "2ninebvgdcfxtktqjxjqvxfgjdqfhv5threegqtsfhtfxg\n",
      "23\n",
      "6rqskvckjzq2qzrnbxjmlthreeeight6hrs\n",
      "66\n",
      "sixthree6lxcrsevenseven69twonegs\n",
      "61\n",
      "2dcvcqcbpshsixone3\n",
      "23\n",
      "drkdbmv4zbjbznsqtj\n",
      "44\n",
      "eightbqfhnmvqsoneninezbrzcqkz4ftv\n",
      "84\n",
      "1eightcrcjcbdthreebscfpvznqfrj6\n",
      "16\n"
     ]
    }
   ],
   "source": [
    "for s in lines:\n",
    "    print(s)\n",
    "    print(extract_calibration_value(s, spelled_digits_mapping))"
   ]
  },
  {
   "cell_type": "code",
   "execution_count": 116,
   "metadata": {},
   "outputs": [
    {
     "data": {
      "text/plain": [
       "53866"
      ]
     },
     "execution_count": 116,
     "metadata": {},
     "output_type": "execute_result"
    }
   ],
   "source": [
    "spelled_digits_mapping = {'one': '1', 'two': '2', 'three': '3', 'four': '4', 'five': '5', 'six': '6', 'seven': '7', 'eight': '8', 'nine': '9'}\n",
    "\n",
    "res = sum([extract_calibration_value(s, spelled_digits_mapping) for s in lines])\n",
    "res"
   ]
  },
  {
   "cell_type": "code",
   "execution_count": 97,
   "metadata": {},
   "outputs": [
    {
     "data": {
      "text/plain": [
       "281"
      ]
     },
     "execution_count": 97,
     "metadata": {},
     "output_type": "execute_result"
    }
   ],
   "source": [
    "test = ['two1nine', 'eightwothree', 'abcone2threexyz', 'xtwone3four', '4nineeightseven2', 'zoneight234', '7pqrstsixteen']\n",
    "[extract_calibration_value(s, spelled_digits_mapping) for s in test]\n",
    "sum([extract_calibration_value(s, spelled_digits_mapping) for s in test])"
   ]
  },
  {
   "cell_type": "markdown",
   "metadata": {},
   "source": [
    "# Day 2"
   ]
  },
  {
   "cell_type": "markdown",
   "metadata": {},
   "source": [
    "## Part 1\n",
    "You play several games and record the information from each game (your puzzle input). Each game is listed with its ID number (like the 11 in Game 11: ...) followed by a semicolon-separated list of subsets of cubes that were revealed from the bag (like 3 red, 5 green, 4 blue).\n",
    "\n",
    "For example, the record of a few games might look like this:\n",
    "```\n",
    "Game 1: 3 blue, 4 red; 1 red, 2 green, 6 blue; 2 green\n",
    "Game 2: 1 blue, 2 green; 3 green, 4 blue, 1 red; 1 green, 1 blue\n",
    "Game 3: 8 green, 6 blue, 20 red; 5 blue, 4 red, 13 green; 5 green, 1 red\n",
    "Game 4: 1 green, 3 red, 6 blue; 3 green, 6 red; 3 green, 15 blue, 14 red\n",
    "Game 5: 6 red, 1 blue, 3 green; 2 blue, 1 red, 2 green\n",
    "```\n",
    "In game 1, three sets of cubes are revealed from the bag (and then put back again). The first set is 3 blue cubes and 4 red cubes; the second set is 1 red cube, 2 green cubes, and 6 blue cubes; the third set is only 2 green cubes.\n",
    "\n",
    "The Elf would first like to know which games would have been possible if the bag contained only 12 red cubes, 13 green cubes, and 14 blue cubes?\n",
    "\n",
    "In the example above, games 1, 2, and 5 would have been possible if the bag had been loaded with that configuration. However, game 3 would have been impossible because at one point the Elf showed you 20 red cubes at once; similarly, game 4 would also have been impossible because the Elf showed you 15 blue cubes at once. If you add up the IDs of the games that would have been possible, you get 8.\n",
    "\n",
    "Determine which games would have been possible if the bag had been loaded with only 12 red cubes, 13 green cubes, and 14 blue cubes. What is the sum of the IDs of those games?"
   ]
  },
  {
   "cell_type": "code",
   "execution_count": 1,
   "metadata": {},
   "outputs": [
    {
     "data": {
      "text/plain": [
       "100"
      ]
     },
     "execution_count": 1,
     "metadata": {},
     "output_type": "execute_result"
    }
   ],
   "source": [
    "load = {'red': 12, 'green': 13, 'blue': 14}\n",
    "\n",
    "file_path = '../data/day2.txt'\n",
    "with open(file_path, 'r') as file:\n",
    "    lines = [line.strip() for line in file]\n",
    "\n",
    "len(lines)"
   ]
  },
  {
   "cell_type": "code",
   "execution_count": 9,
   "metadata": {},
   "outputs": [
    {
     "data": {
      "text/plain": [
       "'Game 51: 4 red, 18 green, 1 blue; 15 green; 3 blue, 16 red, 17 green; 9 blue, 10 red, 13 green; 11 green, 14 red; 1 green, 7 blue, 1 red'"
      ]
     },
     "execution_count": 9,
     "metadata": {},
     "output_type": "execute_result"
    }
   ],
   "source": [
    "l = lines[50]\n",
    "l"
   ]
  },
  {
   "cell_type": "code",
   "execution_count": 41,
   "metadata": {},
   "outputs": [
    {
     "data": {
      "text/plain": [
       "(51,\n",
       " ['4 red, 18 green, 1 blue',\n",
       "  '15 green',\n",
       "  '3 blue, 16 red, 17 green',\n",
       "  '9 blue, 10 red, 13 green',\n",
       "  '11 green, 14 red',\n",
       "  '1 green, 7 blue, 1 red'])"
      ]
     },
     "execution_count": 41,
     "metadata": {},
     "output_type": "execute_result"
    }
   ],
   "source": [
    "def parse_line(l):\n",
    "    s_without_game = l.split(\"Game \")[1]\n",
    "    game_id, sets_str = s_without_game.split(': ')\n",
    "    return int(game_id), sets_str.split('; ')\n",
    "\n",
    "parse_line(lines[50])"
   ]
  },
  {
   "cell_type": "code",
   "execution_count": 45,
   "metadata": {},
   "outputs": [
    {
     "data": {
      "text/plain": [
       "{'red': 9, 'green': 6, 'blue': 4}"
      ]
     },
     "execution_count": 45,
     "metadata": {},
     "output_type": "execute_result"
    }
   ],
   "source": [
    "import re\n",
    "pattern = r\"(\\d+)\\s(\" + \"|\".join(load.keys()) + \")\"\n",
    "\n",
    "def set2dict(input):\n",
    "    matches = re.findall(pattern, input)\n",
    "    return {k: int(v) for v, k in matches}\n",
    "\n",
    "set2dict(sets[1])"
   ]
  },
  {
   "cell_type": "code",
   "execution_count": 46,
   "metadata": {},
   "outputs": [],
   "source": [
    "def check_correct(input, bag):\n",
    "    for k, v in input.items():\n",
    "        if bag[k] < v:\n",
    "            return False\n",
    "    return True\n",
    "\n",
    "def check_game(sets, load):\n",
    "    for s in sets:\n",
    "        set_dict = set2dict(s)\n",
    "        if not check_correct(set_dict, load):\n",
    "            return False\n",
    "    return True"
   ]
  },
  {
   "cell_type": "code",
   "execution_count": 47,
   "metadata": {},
   "outputs": [],
   "source": [
    "sum = 0\n",
    "for l in lines:\n",
    "    game_id, sets = parse_line(l)\n",
    "    if check_game(sets, load):\n",
    "        sum += game_id"
   ]
  },
  {
   "cell_type": "code",
   "execution_count": 48,
   "metadata": {},
   "outputs": [
    {
     "data": {
      "text/plain": [
       "2600"
      ]
     },
     "execution_count": 48,
     "metadata": {},
     "output_type": "execute_result"
    }
   ],
   "source": [
    "sum"
   ]
  },
  {
   "cell_type": "markdown",
   "metadata": {},
   "source": [
    "## Part 2\n",
    "\n",
    "The Elf says they've stopped producing snow because they aren't getting any water! He isn't sure why the water stopped; however, he can show you how to get to the water source to check it out for yourself. It's just up ahead!\n",
    "\n",
    "As you continue your walk, the Elf poses a second question: in each game you played, what is the fewest number of cubes of each color that could have been in the bag to make the game possible?\n",
    "\n",
    "Again consider the example games from earlier:\n",
    "```\n",
    "Game 1: 3 blue, 4 red; 1 red, 2 green, 6 blue; 2 green\n",
    "Game 2: 1 blue, 2 green; 3 green, 4 blue, 1 red; 1 green, 1 blue\n",
    "Game 3: 8 green, 6 blue, 20 red; 5 blue, 4 red, 13 green; 5 green, 1 red\n",
    "Game 4: 1 green, 3 red, 6 blue; 3 green, 6 red; 3 green, 15 blue, 14 red\n",
    "Game 5: 6 red, 1 blue, 3 green; 2 blue, 1 red, 2 green\n",
    "```\n",
    "\n",
    "* In game 1, the game could have been played with as few as 4 red, 2 green, and 6 blue cubes. If any color had even one fewer cube, the game would have been impossible.\n",
    "* Game 2 could have been played with a minimum of 1 red, 3 green, and 4 blue cubes.\n",
    "* Game 3 must have been played with at least 20 red, 13 green, and 6 blue cubes.\n",
    "* Game 4 required at least 14 red, 3 green, and 15 blue cubes.\n",
    "* Game 5 needed no fewer than 6 red, 3 green, and 2 blue cubes in the bag.\n",
    "\n",
    "The power of a set of cubes is equal to the numbers of red, green, and blue cubes multiplied together. The power of the minimum set of cubes in game 1 is 48. In games 2-5 it was 12, 1560, 630, and 36, respectively. Adding up these five powers produces the sum 2286.\n",
    "\n",
    "For each game, find the minimum set of cubes that must have been present. What is the sum of the power of these sets?"
   ]
  },
  {
   "cell_type": "code",
   "execution_count": 49,
   "metadata": {},
   "outputs": [],
   "source": [
    "from collections import defaultdict\n",
    "from itertools import chain"
   ]
  },
  {
   "cell_type": "code",
   "execution_count": 54,
   "metadata": {},
   "outputs": [],
   "source": [
    "def calculate_set_power(sets):\n",
    "    set_dicts = [set2dict(s) for s in sets]\n",
    "    combined_dict = defaultdict(list)\n",
    "\n",
    "    # Chaining all key-value pairs from all dictionaries and accumulating values\n",
    "    for key, value in chain(*[d.items() for d in set_dicts]):\n",
    "        combined_dict[key].append(value)\n",
    "\n",
    "    # Converting back to a regular dictionary for final output (optional)\n",
    "    combined_dict = dict(combined_dict)\n",
    "    power = 1\n",
    "    for v in combined_dict.values():\n",
    "        power *= max(v)\n",
    "    return power"
   ]
  },
  {
   "cell_type": "code",
   "execution_count": 56,
   "metadata": {},
   "outputs": [
    {
     "data": {
      "text/plain": [
       "86036"
      ]
     },
     "execution_count": 56,
     "metadata": {},
     "output_type": "execute_result"
    }
   ],
   "source": [
    "sum = 0\n",
    "for l in lines:\n",
    "    game_id, sets = parse_line(l)\n",
    "    power = calculate_set_power(sets)\n",
    "    sum += power\n",
    "sum"
   ]
  },
  {
   "cell_type": "markdown",
   "metadata": {},
   "source": [
    "# Day 3"
   ]
  },
  {
   "cell_type": "markdown",
   "metadata": {},
   "source": [
    "## Part 1\n",
    "\n",
    "The engineer explains that an engine part seems to be missing from the engine, but nobody can figure out which one. If you can add up all the part numbers in the engine schematic, it should be easy to work out which part is missing.\n",
    "\n",
    "The engine schematic (your puzzle input) consists of a visual representation of the engine. There are lots of numbers and symbols you don't really understand, but apparently any number adjacent to a symbol, even diagonally, is a \"part number\" and should be included in your sum. (Periods (.) do not count as a symbol.)\n",
    "\n",
    "Here is an example engine schematic:\n",
    "```\n",
    "467..114..\n",
    "...*......\n",
    "..35..633.\n",
    "......#...\n",
    "617*......\n",
    ".....+.58.\n",
    "..592.....\n",
    "......755.\n",
    "...$.*....\n",
    ".664.598..\n",
    "```\n",
    "In this schematic, two numbers are not part numbers because they are not adjacent to a symbol: 114 (top right) and 58 (middle right). Every other number is adjacent to a symbol and so is a part number; their sum is 4361.\n",
    "\n",
    "Of course, the actual engine schematic is much larger. What is the sum of all of the part numbers in the engine schematic?"
   ]
  },
  {
   "cell_type": "code",
   "execution_count": 2,
   "metadata": {},
   "outputs": [
    {
     "data": {
      "text/plain": [
       "(140, 140)"
      ]
     },
     "execution_count": 2,
     "metadata": {},
     "output_type": "execute_result"
    }
   ],
   "source": [
    "file_path = '../data/day3.txt'\n",
    "with open(file_path, 'r') as file:\n",
    "    lines = [line.strip() for line in file]\n",
    "\n",
    "len(lines), len(lines[0])"
   ]
  },
  {
   "cell_type": "markdown",
   "metadata": {},
   "source": [
    "everything apart from digits and dots are symbols"
   ]
  },
  {
   "cell_type": "markdown",
   "metadata": {},
   "source": [
    "conditions:\n",
    "1. first digit after a symbol\n",
    "2. last digit before a symbol\n",
    "3. above and below lines have any symbol between (inclusively) first digit index - 1 and last digit index + 1\n",
    "\n",
    "the first two rules can be checked in one run over the line (if I do not solve this with regex). the second is a function call for check if any"
   ]
  },
  {
   "cell_type": "code",
   "execution_count": 3,
   "metadata": {},
   "outputs": [
    {
     "data": {
      "text/plain": [
       "False"
      ]
     },
     "execution_count": 3,
     "metadata": {},
     "output_type": "execute_result"
    }
   ],
   "source": [
    "import re\n",
    "\n",
    "def contains_only_digits_and_dots(s):\n",
    "    return re.search(\"[^\\d.]\", s) is None\n",
    "\n",
    "contains_only_digits_and_dots('3#')"
   ]
  },
  {
   "cell_type": "code",
   "execution_count": 4,
   "metadata": {},
   "outputs": [
    {
     "data": {
      "text/plain": [
       "True"
      ]
     },
     "execution_count": 4,
     "metadata": {},
     "output_type": "execute_result"
    }
   ],
   "source": [
    "contains_only_digits_and_dots('3')"
   ]
  },
  {
   "cell_type": "code",
   "execution_count": 5,
   "metadata": {},
   "outputs": [
    {
     "name": "stdout",
     "output_type": "stream",
     "text": [
      "Integer sequence from index 1 to 3: 855 (string) or 855 (value)\n",
      "Integer sequence from index 5 to 7: 442 (string) or 442 (value)\n"
     ]
    }
   ],
   "source": [
    "def yield_integer_sequences(s):\n",
    "    # both indices are on the exact positions\n",
    "    pattern = r'\\d+'\n",
    "    for match in re.finditer(pattern, s):\n",
    "        yield (match.start(), match.end()-1, match.group())\n",
    "\n",
    "string = '.855.442.'\n",
    "for start, end, value in yield_integer_sequences(string):\n",
    "    print(f\"Integer sequence from index {start} to {end}: {string[start:end+1]} (string) or {value} (value)\")"
   ]
  },
  {
   "cell_type": "code",
   "execution_count": 6,
   "metadata": {},
   "outputs": [
    {
     "data": {
      "text/plain": [
       "True"
      ]
     },
     "execution_count": 6,
     "metadata": {},
     "output_type": "execute_result"
    }
   ],
   "source": [
    "contains_only_digits_and_dots(lines[0][0])"
   ]
  },
  {
   "cell_type": "code",
   "execution_count": 7,
   "metadata": {},
   "outputs": [
    {
     "data": {
      "text/plain": [
       "140"
      ]
     },
     "execution_count": 7,
     "metadata": {},
     "output_type": "execute_result"
    }
   ],
   "source": [
    "total_lines = len(lines)\n",
    "total_lines"
   ]
  },
  {
   "cell_type": "code",
   "execution_count": 8,
   "metadata": {},
   "outputs": [
    {
     "data": {
      "text/plain": [
       "True"
      ]
     },
     "execution_count": 8,
     "metadata": {},
     "output_type": "execute_result"
    }
   ],
   "source": [
    "def other_line_contains_any_symbol(l, start, end):\n",
    "    # start, end - original line indixes\n",
    "    line_len = len(l)\n",
    "    if start > 0:\n",
    "        start -= 1\n",
    "    if end < (line_len - 1):\n",
    "        end += 1\n",
    "    # print(f\"checking sequence '{l[start:end+1]}'\")\n",
    "    res = not contains_only_digits_and_dots(l[start:end+1])\n",
    "    # if res:\n",
    "    #     print(f\"this context works: '{l[start:end+1]}'\")\n",
    "    return res\n",
    "\n",
    "# original                      ..11\n",
    "other_line_contains_any_symbol('...*', 2, 3)"
   ]
  },
  {
   "cell_type": "code",
   "execution_count": 9,
   "metadata": {},
   "outputs": [
    {
     "data": {
      "text/plain": [
       "[577, 465, 169]"
      ]
     },
     "execution_count": 9,
     "metadata": {},
     "output_type": "execute_result"
    }
   ],
   "source": [
    "def check_line_with_context(l, prev_line, next_line):\n",
    "    part_numbers = []\n",
    "    for start, end, value in yield_integer_sequences(l):\n",
    "        line_len = len(l)\n",
    "        if start != 0 and not contains_only_digits_and_dots(l[start - 1]):\n",
    "            part_numbers.append(int(value))\n",
    "            continue\n",
    "        if end != (line_len - 1) and not contains_only_digits_and_dots(l[end + 1]):\n",
    "            part_numbers.append(int(value))\n",
    "            continue\n",
    "        if prev_line and other_line_contains_any_symbol(prev_line, start, end):\n",
    "            part_numbers.append(int(value))\n",
    "            continue\n",
    "        if next_line and other_line_contains_any_symbol(next_line, start, end):\n",
    "            part_numbers.append(int(value))\n",
    "            continue\n",
    "\n",
    "    return part_numbers\n",
    "            \n",
    "check_line_with_context(lines[1], None, None)"
   ]
  },
  {
   "cell_type": "code",
   "execution_count": 10,
   "metadata": {},
   "outputs": [
    {
     "data": {
      "text/plain": [
       "[21, 971, 577, 316, 465, 169]"
      ]
     },
     "execution_count": 10,
     "metadata": {},
     "output_type": "execute_result"
    }
   ],
   "source": [
    "check_line_with_context(l=lines[1], prev_line=lines[0], next_line=lines[2])"
   ]
  },
  {
   "cell_type": "code",
   "execution_count": 13,
   "metadata": {},
   "outputs": [
    {
     "name": "stdout",
     "output_type": "stream",
     "text": [
      "line_number 0 matched_numbers: [190, 520] sum: 710\n",
      "line_number 1 matched_numbers: [21, 971, 577, 316, 465, 169] sum: 2519\n",
      "line_number 2 matched_numbers: [881, 635, 577, 864, 873, 742, 714, 244] sum: 5530\n",
      "line_number 3 matched_numbers: [602, 423, 939, 906, 899, 965, 309] sum: 5043\n",
      "line_number 4 matched_numbers: [737, 294, 321, 337, 305, 153, 130, 638] sum: 2915\n",
      "line_number 5 matched_numbers: [821, 544, 282, 165, 836, 112] sum: 2760\n",
      "line_number 6 matched_numbers: [456, 281, 847, 448, 728, 833] sum: 3593\n",
      "line_number 7 matched_numbers: [830, 34, 911, 702, 21, 279, 226] sum: 3003\n",
      "line_number 8 matched_numbers: [192, 247, 40, 504] sum: 983\n",
      "line_number 9 matched_numbers: [304, 938, 258, 679, 702, 742, 656, 645, 916, 263] sum: 6103\n",
      "line_number 10 matched_numbers: [841, 168, 633, 758, 993, 410, 920, 195, 492] sum: 5410\n",
      "line_number 11 matched_numbers: [988, 689, 554, 245, 794] sum: 3270\n",
      "line_number 12 matched_numbers: [489, 866, 354, 567, 949, 969, 913, 10] sum: 5117\n",
      "line_number 13 matched_numbers: [72, 787, 189, 639, 771, 736, 639] sum: 3833\n",
      "line_number 14 matched_numbers: [561, 449, 693, 192, 344, 496, 39] sum: 2774\n",
      "line_number 15 matched_numbers: [792, 925, 175, 232, 887, 156, 378, 183] sum: 3728\n",
      "line_number 16 matched_numbers: [217, 955, 644, 609, 728, 966, 427, 494] sum: 5040\n",
      "line_number 17 matched_numbers: [49, 389, 812, 811, 327, 600, 233, 320, 10] sum: 3551\n",
      "line_number 18 matched_numbers: [155, 259, 629, 646, 194, 111, 998, 292, 872] sum: 4156\n",
      "line_number 19 matched_numbers: [444, 648, 730, 154, 657, 816, 618, 123, 772, 200] sum: 5162\n",
      "line_number 20 matched_numbers: [208, 168, 305, 510, 907, 901, 238, 50] sum: 3287\n",
      "line_number 21 matched_numbers: [544, 935, 344, 106, 271, 849, 890] sum: 3939\n",
      "line_number 22 matched_numbers: [791, 447, 55, 504, 439] sum: 2236\n",
      "line_number 23 matched_numbers: [675, 547, 211, 197, 814, 22, 115, 39, 307, 499] sum: 3426\n",
      "line_number 24 matched_numbers: [229, 887, 974, 875] sum: 2965\n",
      "line_number 25 matched_numbers: [933, 696, 909, 682, 624, 594, 622, 367, 218, 358, 319] sum: 6322\n",
      "line_number 26 matched_numbers: [546, 817, 636, 562, 716, 195, 897] sum: 4369\n",
      "line_number 27 matched_numbers: [206, 890, 3, 817] sum: 1916\n",
      "line_number 28 matched_numbers: [404, 706, 924, 153, 800, 683, 1, 685, 160, 29] sum: 4545\n",
      "line_number 29 matched_numbers: [312, 495, 435, 498, 618] sum: 2358\n",
      "line_number 30 matched_numbers: [255, 756, 132, 595, 373, 286, 901, 526] sum: 3824\n",
      "line_number 31 matched_numbers: [283, 472, 990, 42, 815, 85, 996, 418, 486] sum: 4587\n",
      "line_number 32 matched_numbers: [254, 305, 859, 491, 204, 355, 780] sum: 3248\n",
      "line_number 33 matched_numbers: [582, 500, 67, 937, 267, 551, 915, 653] sum: 4472\n",
      "line_number 34 matched_numbers: [801, 441, 740, 145, 442, 990, 494] sum: 4053\n",
      "line_number 35 matched_numbers: [96, 950, 429, 592, 922] sum: 2989\n",
      "line_number 36 matched_numbers: [680, 798, 63, 163, 580, 283, 700, 882, 423] sum: 4572\n",
      "line_number 37 matched_numbers: [524, 474, 456, 670, 96, 986, 839, 952, 330, 726, 484, 916] sum: 7453\n",
      "line_number 38 matched_numbers: [632, 27, 739, 953, 929] sum: 3280\n",
      "line_number 39 matched_numbers: [821, 384, 95, 531, 478, 950, 295] sum: 3554\n",
      "line_number 40 matched_numbers: [31, 346, 779, 247, 761] sum: 2164\n",
      "line_number 41 matched_numbers: [854, 6, 10, 174, 726, 852, 642, 260, 462, 457] sum: 4443\n",
      "line_number 42 matched_numbers: [32, 272, 89, 310, 894, 83, 251, 408, 721, 303] sum: 3363\n",
      "line_number 43 matched_numbers: [771, 406, 227] sum: 1404\n",
      "line_number 44 matched_numbers: [260, 360, 213, 425, 49, 968, 944, 131, 645, 410, 240, 354, 528] sum: 5527\n",
      "line_number 45 matched_numbers: [716, 412, 470, 155, 256] sum: 2009\n",
      "line_number 46 matched_numbers: [867, 348, 69, 852, 419, 798, 787, 3, 994] sum: 5137\n",
      "line_number 47 matched_numbers: [565, 744, 270, 529, 432, 323] sum: 2863\n",
      "line_number 48 matched_numbers: [159, 467, 612, 214, 805, 911, 878, 704, 382, 900] sum: 6032\n",
      "line_number 49 matched_numbers: [490, 542, 46, 878, 512, 336, 445, 898, 212] sum: 4359\n",
      "line_number 50 matched_numbers: [868, 19, 508, 192, 143, 636] sum: 2366\n",
      "line_number 51 matched_numbers: [592, 176, 608, 290, 620, 814] sum: 3100\n",
      "line_number 52 matched_numbers: [586, 60, 545, 99, 536, 815, 820, 598, 373] sum: 4432\n",
      "line_number 53 matched_numbers: [985, 776, 4, 704, 217, 531, 709, 308, 339] sum: 4573\n",
      "line_number 54 matched_numbers: [359, 869, 139, 164, 981] sum: 2512\n",
      "line_number 55 matched_numbers: [951, 408, 564, 222, 781, 249, 205, 404] sum: 3784\n",
      "line_number 56 matched_numbers: [351, 289, 34, 7, 65] sum: 746\n",
      "line_number 57 matched_numbers: [102, 550, 137, 254, 772, 599, 734] sum: 3148\n",
      "line_number 58 matched_numbers: [715, 591, 926, 767, 719, 322, 229, 721, 563] sum: 5553\n",
      "line_number 59 matched_numbers: [889, 188, 401, 566, 873, 801] sum: 3718\n",
      "line_number 60 matched_numbers: [690, 948, 908, 622, 655, 676, 374, 747, 622, 144] sum: 6386\n",
      "line_number 61 matched_numbers: [409, 379, 340, 817, 850, 780, 510, 974] sum: 5059\n",
      "line_number 62 matched_numbers: [844, 622, 241, 313, 475, 170, 371, 147, 532, 325, 778] sum: 4818\n",
      "line_number 63 matched_numbers: [155, 480, 566, 731, 440, 373] sum: 2745\n",
      "line_number 64 matched_numbers: [931, 787, 26, 178, 372, 890, 540] sum: 3724\n",
      "line_number 65 matched_numbers: [988, 494, 900, 177, 762] sum: 3321\n",
      "line_number 66 matched_numbers: [112, 606, 423, 831, 227, 814, 215] sum: 3228\n",
      "line_number 67 matched_numbers: [247, 172, 955, 132, 493, 43] sum: 2042\n",
      "line_number 68 matched_numbers: [10, 383, 409, 285, 860, 916, 406, 760, 473, 834] sum: 5336\n",
      "line_number 69 matched_numbers: [620, 395] sum: 1015\n",
      "line_number 70 matched_numbers: [760, 361, 991, 285, 522, 437, 332, 302, 533] sum: 4523\n",
      "line_number 71 matched_numbers: [828, 864, 632, 190] sum: 2514\n",
      "line_number 72 matched_numbers: [209, 626, 802, 198, 901, 294, 843, 178, 980] sum: 5031\n",
      "line_number 73 matched_numbers: [493, 42, 582, 993, 908, 916] sum: 3934\n",
      "line_number 74 matched_numbers: [207, 983, 269, 223, 187, 206, 827, 73, 542, 901, 78] sum: 4496\n",
      "line_number 75 matched_numbers: [97, 627, 856, 716, 357, 238, 70] sum: 2961\n",
      "line_number 76 matched_numbers: [168, 186, 747] sum: 1101\n",
      "line_number 77 matched_numbers: [374, 747, 525, 92, 449, 376, 88, 580, 342, 814] sum: 4387\n",
      "line_number 78 matched_numbers: [191, 156, 868, 33, 973, 176, 792] sum: 3189\n",
      "line_number 79 matched_numbers: [246, 767, 133, 629, 928, 233, 945, 459, 778] sum: 5118\n",
      "line_number 80 matched_numbers: [493, 268, 508, 619, 420, 67, 458] sum: 2833\n",
      "line_number 81 matched_numbers: [110, 623, 331, 263, 610, 297, 902, 100, 473, 231] sum: 3940\n",
      "line_number 82 matched_numbers: [336, 482, 502, 542] sum: 1862\n",
      "line_number 83 matched_numbers: [924, 853, 371, 905, 412, 817, 97] sum: 4379\n",
      "line_number 84 matched_numbers: [671, 891, 374, 589, 774, 757, 8, 708] sum: 4772\n",
      "line_number 85 matched_numbers: [638, 431, 104, 552, 346] sum: 2071\n",
      "line_number 86 matched_numbers: [44, 995, 369, 177] sum: 1585\n",
      "line_number 87 matched_numbers: [949, 351, 557, 777, 454, 538, 625] sum: 4251\n",
      "line_number 88 matched_numbers: [242, 201, 957, 163, 636, 777] sum: 2976\n",
      "line_number 89 matched_numbers: [169, 840, 900, 256, 229, 110, 196, 699, 502, 861] sum: 4762\n",
      "line_number 90 matched_numbers: [239, 465, 914, 412, 147, 392] sum: 2569\n",
      "line_number 91 matched_numbers: [526, 670, 613, 625, 55, 572, 322, 235, 515] sum: 4133\n",
      "line_number 92 matched_numbers: [333, 975, 487, 272, 779, 107] sum: 2953\n",
      "line_number 93 matched_numbers: [215, 556, 549, 359, 944] sum: 2623\n",
      "line_number 94 matched_numbers: [899, 446, 797, 98, 795, 991, 248, 15, 664, 115] sum: 5068\n",
      "line_number 95 matched_numbers: [842, 86] sum: 928\n",
      "line_number 96 matched_numbers: [683, 288, 582, 159, 656, 464, 99, 753] sum: 3684\n",
      "line_number 97 matched_numbers: [937, 752, 361, 759, 635, 550, 810, 200, 44, 927, 519] sum: 6494\n",
      "line_number 98 matched_numbers: [401, 41, 568, 674, 977, 383, 306, 826] sum: 4176\n",
      "line_number 99 matched_numbers: [413, 143, 670, 957, 150, 138, 489, 916] sum: 3876\n",
      "line_number 100 matched_numbers: [542, 322, 808, 585, 646, 959, 732, 724, 328] sum: 5646\n",
      "line_number 101 matched_numbers: [4, 520, 294, 483, 56, 514, 13, 35] sum: 1919\n",
      "line_number 102 matched_numbers: [712, 241, 712, 370, 550, 798, 365, 922, 550] sum: 5220\n",
      "line_number 103 matched_numbers: [145, 498, 434, 291, 51, 902] sum: 2321\n",
      "line_number 104 matched_numbers: [776, 877, 87, 997, 285, 775, 845, 962, 651, 509, 321] sum: 7085\n",
      "line_number 105 matched_numbers: [184, 418, 54, 35, 782, 201, 734, 866] sum: 3274\n",
      "line_number 106 matched_numbers: [416, 749, 816, 830, 204, 277, 890, 33] sum: 4215\n",
      "line_number 107 matched_numbers: [319, 861, 917, 976, 995] sum: 4068\n",
      "line_number 108 matched_numbers: [828, 84, 338, 348, 64, 614, 781, 29, 875, 229, 234, 312] sum: 4736\n",
      "line_number 109 matched_numbers: [456, 9, 280, 235, 280] sum: 1260\n",
      "line_number 110 matched_numbers: [841, 554, 442, 769, 418, 603, 15, 882, 920, 759] sum: 6203\n",
      "line_number 111 matched_numbers: [553, 784, 759, 533, 770] sum: 3399\n",
      "line_number 112 matched_numbers: [435, 29, 382, 121, 52] sum: 1019\n",
      "line_number 113 matched_numbers: [340, 121, 260, 339, 11, 991, 255, 970, 928, 294, 17, 457] sum: 4983\n",
      "line_number 114 matched_numbers: [238, 518, 569, 163, 487, 578, 86, 362] sum: 3001\n",
      "line_number 115 matched_numbers: [610, 19, 892, 678, 44, 893, 627, 359] sum: 4122\n",
      "line_number 116 matched_numbers: [431, 450, 146, 603, 872, 987] sum: 3489\n",
      "line_number 117 matched_numbers: [848, 745, 443, 591, 957, 816, 72] sum: 4472\n",
      "line_number 118 matched_numbers: [892, 87, 191, 33, 424, 780, 611, 184, 831] sum: 4033\n",
      "line_number 119 matched_numbers: [301, 904, 527, 494, 123] sum: 2349\n",
      "line_number 120 matched_numbers: [183, 530, 872, 710, 868, 436, 824, 727, 577, 498, 532, 842] sum: 7599\n",
      "line_number 121 matched_numbers: [174, 762, 340, 312, 705] sum: 2293\n",
      "line_number 122 matched_numbers: [269, 873, 915, 729, 995, 321, 102, 443, 205, 15, 808, 792] sum: 6467\n",
      "line_number 123 matched_numbers: [425, 286, 556, 572] sum: 1839\n",
      "line_number 124 matched_numbers: [520, 766, 74, 692, 81, 91] sum: 2224\n",
      "line_number 125 matched_numbers: [670, 720, 169, 164, 193, 971, 991, 559, 288, 720, 706, 402, 18] sum: 6571\n",
      "line_number 126 matched_numbers: [383, 705, 763, 6, 270, 873, 109, 254] sum: 3363\n",
      "line_number 127 matched_numbers: [226, 841, 252, 884, 48, 678, 539] sum: 3468\n",
      "line_number 128 matched_numbers: [911, 713, 192, 594, 33, 786, 851, 807, 472, 890, 563, 522] sum: 7334\n",
      "line_number 129 matched_numbers: [894, 25, 671, 475, 145, 137, 953, 36, 125, 249, 774, 549, 696] sum: 5729\n",
      "line_number 130 matched_numbers: [90, 273, 94, 667, 132, 120, 697, 910, 567, 240] sum: 3790\n",
      "line_number 131 matched_numbers: [294, 595, 506, 655, 295, 777, 896] sum: 4018\n",
      "line_number 132 matched_numbers: [448, 370, 829, 356, 611, 474, 76, 972, 726, 829, 287] sum: 5978\n",
      "line_number 133 matched_numbers: [384, 431, 291, 459] sum: 1565\n",
      "line_number 134 matched_numbers: [296, 794, 759, 590, 410, 233, 477, 342, 729] sum: 4630\n",
      "line_number 135 matched_numbers: [989, 568, 571, 488, 123, 988, 285] sum: 4012\n",
      "line_number 136 matched_numbers: [667, 857, 127, 343, 506, 702, 295, 600, 626] sum: 4723\n",
      "line_number 137 matched_numbers: [563, 349, 945, 964, 33, 642, 431, 968] sum: 4895\n",
      "line_number 138 matched_numbers: [229, 48, 745, 569, 787, 887] sum: 3265\n",
      "line_number 139 matched_numbers: [369, 515, 174, 633, 973] sum: 2664\n"
     ]
    },
    {
     "data": {
      "text/plain": [
       "531932"
      ]
     },
     "execution_count": 13,
     "metadata": {},
     "output_type": "execute_result"
    }
   ],
   "source": [
    "total = 0\n",
    "for line_number, l in enumerate(lines):\n",
    "    if line_number > 0:\n",
    "        prev_line = lines[line_number - 1]\n",
    "    else:\n",
    "        prev_line = None\n",
    "    if line_number < total_lines - 1:\n",
    "        next_line = lines[line_number + 1]\n",
    "    else:\n",
    "        next_line = None\n",
    "    \n",
    "    matched_numbers = check_line_with_context(l=l, prev_line=prev_line, next_line=next_line)\n",
    "    print('line_number', line_number, 'matched_numbers:', matched_numbers, 'sum:', sum(matched_numbers))\n",
    "    total += sum(matched_numbers)\n",
    "        \n",
    "total  "
   ]
  },
  {
   "cell_type": "markdown",
   "metadata": {},
   "source": [
    "## Part 2"
   ]
  },
  {
   "cell_type": "markdown",
   "metadata": {},
   "source": [
    "The missing part wasn't the only issue - one of the gears in the engine is wrong. A gear is any * symbol that is adjacent to exactly two part numbers. Its gear ratio is the result of multiplying those two numbers together.\n",
    "\n",
    "This time, you need to find the gear ratio of every gear and add them all up so that the engineer can figure out which gear needs to be replaced.\n",
    "\n",
    "Consider the same engine schematic again:\n",
    "```\n",
    "467..114..\n",
    "...*......\n",
    "..35..633.\n",
    "......#...\n",
    "617*......\n",
    ".....+.58.\n",
    "..592.....\n",
    "......755.\n",
    "...$.*....\n",
    ".664.598..\n",
    "```\n",
    "In this schematic, there are two gears. The first is in the top left; it has part numbers 467 and 35, so its gear ratio is 16345. The second gear is in the lower right; its gear ratio is 451490. (The * adjacent to 617 is not a gear because it is only adjacent to one part number.) Adding up all of the gear ratios produces 467835.\n",
    "\n",
    "What is the sum of all of the gear ratios in your engine schematic?"
   ]
  },
  {
   "cell_type": "markdown",
   "metadata": {},
   "source": [
    "There may be a nice solution if we had a dict of gear locations where elements are all adjacent part numbers. The solution based on the 1st part (based on numbers) will contain crazy conditions. \n",
    "\n",
    "So we base the solution on the gear and search for the adjacent part numbers.\n",
    "\n",
    "1. The current line and neighbouring are considered\n",
    "2. Asterisk is found. Store index to dict (line, line_index)\n",
    "3. In-line adjacency check. Add to dict values list\n",
    "4. Other line (both: top and bot) may have 1\\2 diagonal neighbours or only 1 intersecting straght the same index\n",
    "    * if index above\\below the asterisk is a digit, find it's borders (both sides) and store to the dict values list. break\n",
    "    * elif \n",
    "        * index above\\below -1 is a digit, find it's border to the left and store to the dict values list. DON'T BREAK\n",
    "        * index above\\below +1 is a digit, find it's border to the right and store to the dict value list."
   ]
  },
  {
   "cell_type": "code",
   "execution_count": 61,
   "metadata": {},
   "outputs": [],
   "source": [
    "def find_number(l, idx, direction) -> str:\n",
    "    if direction == 0:\n",
    "        current_symbol = l[idx]\n",
    "        if current_symbol.isdigit():  # there is a number crossing this idx\n",
    "            return find_number(l=l, idx=idx, direction=-1) + current_symbol + find_number(l=l, idx=idx, direction=1)\n",
    "    \n",
    "    elif direction == -1:\n",
    "        if idx <= 0:\n",
    "            return ''\n",
    "        \n",
    "        left_symbol = l[idx-1]\n",
    "        if left_symbol.isdigit():\n",
    "            return find_number(l, idx-1, direction=direction) + left_symbol\n",
    "        else:\n",
    "            return ''\n",
    "    \n",
    "    elif direction == 1:\n",
    "        if idx >= len(l) - 1:\n",
    "            return ''\n",
    "        \n",
    "        right_symbol = l[idx+1]\n",
    "        if right_symbol.isdigit():\n",
    "            return right_symbol + find_number(l, idx+1, direction=direction)\n",
    "        else:\n",
    "            return ''\n",
    "\n",
    "find_number('.....621.3', 3, 0)"
   ]
  },
  {
   "cell_type": "code",
   "execution_count": 62,
   "metadata": {},
   "outputs": [],
   "source": [
    "def find_in_line(l, idx):\n",
    "    left_in_line = find_number(l=l, idx=idx, direction=-1)\n",
    "    right_in_line = find_number(l=l, idx=idx, direction=1)\n",
    "    res = []\n",
    "    if left_in_line: res.append(left_in_line)\n",
    "    if right_in_line: res.append(right_in_line)\n",
    "    return res\n",
    "\n",
    "def find_in_other_line(l, idx):\n",
    "    non_diag_number = find_number(l=l, idx=idx, direction=0)\n",
    "    if non_diag_number:\n",
    "        return [non_diag_number]\n",
    "    else:\n",
    "        return find_in_line(l=l, idx=idx)"
   ]
  },
  {
   "cell_type": "code",
   "execution_count": 63,
   "metadata": {},
   "outputs": [
    {
     "data": {
      "text/plain": [
       "{(1, 72): ['520', '864'], (1, 119): ['465', '169']}"
      ]
     },
     "execution_count": 63,
     "metadata": {},
     "output_type": "execute_result"
    }
   ],
   "source": [
    "def find_gears(l, prev_line, next_line, line_number, gears_dict):\n",
    "    for idx, el in enumerate(l):\n",
    "        if el == '*':\n",
    "            gears_dict[(line_number, idx)] = []\n",
    "            gears_dict[(line_number, idx)] += find_in_line(l, idx)\n",
    "            if prev_line:\n",
    "                gears_dict[(line_number, idx)] += find_in_other_line(l=prev_line, idx=idx)\n",
    "            if next_line:\n",
    "                gears_dict[(line_number, idx)] += find_in_other_line(l=next_line, idx=idx)\n",
    "            \n",
    "    return gears_dict\n",
    "\n",
    "find_gears(lines[1], lines[0], lines[2], 1, {})"
   ]
  },
  {
   "cell_type": "code",
   "execution_count": 65,
   "metadata": {},
   "outputs": [],
   "source": [
    "gears_dict = {}\n",
    "for line_number, l in enumerate(lines):\n",
    "    if line_number > 0:\n",
    "        prev_line = lines[line_number - 1]\n",
    "    else:\n",
    "        prev_line = None\n",
    "    if line_number < total_lines - 1:\n",
    "        next_line = lines[line_number + 1]\n",
    "    else:\n",
    "        next_line = None\n",
    "    \n",
    "    gears_dict = find_gears(l=l, prev_line=prev_line, next_line=next_line, line_number=line_number, gears_dict=gears_dict)"
   ]
  },
  {
   "cell_type": "code",
   "execution_count": 70,
   "metadata": {},
   "outputs": [
    {
     "data": {
      "text/plain": [
       "(1, 2)"
      ]
     },
     "execution_count": 70,
     "metadata": {},
     "output_type": "execute_result"
    }
   ],
   "source": [
    "lengths = [len(v) for v in gears_dict.values()]\n",
    "min(lengths), max(lengths)"
   ]
  },
  {
   "cell_type": "markdown",
   "metadata": {},
   "source": [
    "thanks god, there are no cases with 3-member gears"
   ]
  },
  {
   "cell_type": "code",
   "execution_count": 73,
   "metadata": {},
   "outputs": [
    {
     "data": {
      "text/plain": [
       "73646890"
      ]
     },
     "execution_count": 73,
     "metadata": {},
     "output_type": "execute_result"
    }
   ],
   "source": [
    "total = 0\n",
    "for k, v in gears_dict.items():\n",
    "    if len(v) == 2:\n",
    "        # print(k, v)\n",
    "        total += int(v[0]) * int(v[1])\n",
    "\n",
    "total"
   ]
  },
  {
   "cell_type": "markdown",
   "metadata": {},
   "source": [
    "# Day 4"
   ]
  },
  {
   "cell_type": "markdown",
   "metadata": {},
   "source": [
    "## Part 1\n",
    "The Elf leads you over to the pile of colorful cards. There, you discover dozens of scratchcards, all with their opaque covering already scratched off. Picking one up, it looks like each card has two lists of numbers separated by a vertical bar (|): a list of winning numbers and then a list of numbers you have. You organize the information into a table (your puzzle input).\n",
    "\n",
    "As far as the Elf has been able to figure out, you have to figure out which of the numbers you have appear in the list of winning numbers. The first match makes the card worth one point and each match after the first doubles the point value of that card.\n",
    "\n",
    "For example:\n",
    "```\n",
    "Card 1: 41 48 83 86 17 | 83 86  6 31 17  9 48 53\n",
    "Card 2: 13 32 20 16 61 | 61 30 68 82 17 32 24 19\n",
    "Card 3:  1 21 53 59 44 | 69 82 63 72 16 21 14  1\n",
    "Card 4: 41 92 73 84 69 | 59 84 76 51 58  5 54 83\n",
    "Card 5: 87 83 26 28 32 | 88 30 70 12 93 22 82 36\n",
    "Card 6: 31 18 13 56 72 | 74 77 10 23 35 67 36 11\n",
    "```\n",
    "In the above example, card 1 has five winning numbers (41, 48, 83, 86, and 17) and eight numbers you have (83, 86, 6, 31, 17, 9, 48, and 53). Of the numbers you have, four of them (48, 83, 17, and 86) are winning numbers! That means card 1 is worth 8 points (1 for the first match, then doubled three times for each of the three matches after the first).\n",
    "\n",
    "Card 2 has two winning numbers (32 and 61), so it is worth 2 points.\n",
    "Card 3 has two winning numbers (1 and 21), so it is worth 2 points.\n",
    "Card 4 has one winning number (84), so it is worth 1 point.\n",
    "Card 5 has no winning numbers, so it is worth no points.\n",
    "Card 6 has no winning numbers, so it is worth no points.\n",
    "So, in this example, the Elf's pile of scratchcards is worth 13 points.\n",
    "\n",
    "Take a seat in the large pile of colorful cards. How many points are they worth in total?"
   ]
  },
  {
   "cell_type": "code",
   "execution_count": 52,
   "metadata": {},
   "outputs": [
    {
     "data": {
      "text/plain": [
       "(190, 116)"
      ]
     },
     "execution_count": 52,
     "metadata": {},
     "output_type": "execute_result"
    }
   ],
   "source": [
    "file_path = '../data/day4.txt'\n",
    "with open(file_path, 'r') as file:\n",
    "    lines = [line.strip() for line in file]\n",
    "\n",
    "len(lines), len(lines[0])"
   ]
  },
  {
   "cell_type": "code",
   "execution_count": 16,
   "metadata": {},
   "outputs": [
    {
     "data": {
      "text/plain": [
       "[[2, 15, 17, 11, 64, 59, 45, 41, 61, 19],\n",
       " [4,\n",
       "  36,\n",
       "  62,\n",
       "  43,\n",
       "  94,\n",
       "  41,\n",
       "  24,\n",
       "  25,\n",
       "  13,\n",
       "  83,\n",
       "  97,\n",
       "  86,\n",
       "  61,\n",
       "  90,\n",
       "  67,\n",
       "  7,\n",
       "  15,\n",
       "  58,\n",
       "  18,\n",
       "  19,\n",
       "  38,\n",
       "  17,\n",
       "  49,\n",
       "  52,\n",
       "  37]]"
      ]
     },
     "execution_count": 16,
     "metadata": {},
     "output_type": "execute_result"
    }
   ],
   "source": [
    "def extract_lists(s):\n",
    "    try:\n",
    "        two_strings = s.split(':')[1].split(' | ')\n",
    "    except:\n",
    "        print(s)\n",
    "    res = []\n",
    "    for s in two_strings:\n",
    "        res.append([int(el.strip()) for el in s.split(' ') if el.strip() != ''])\n",
    "    return res\n",
    "\n",
    "extract_lists(lines[0])"
   ]
  },
  {
   "cell_type": "code",
   "execution_count": 19,
   "metadata": {},
   "outputs": [
    {
     "data": {
      "text/plain": [
       "15205"
      ]
     },
     "execution_count": 19,
     "metadata": {},
     "output_type": "execute_result"
    }
   ],
   "source": [
    "total = 0\n",
    "for l in lines:\n",
    "    winning, given = extract_lists(l)\n",
    "    points = 0\n",
    "    # print(l)\n",
    "    for el in given:\n",
    "        if el in winning:\n",
    "            if points == 0:\n",
    "                points = 1\n",
    "            else:\n",
    "                points *= 2\n",
    "            # print(el)\n",
    "    total += points\n",
    "total"
   ]
  },
  {
   "cell_type": "markdown",
   "metadata": {},
   "source": [
    "## Part 2\n",
    "Just as you're about to report your findings to the Elf, one of you realizes that the rules have actually been printed on the back of every card this whole time.\n",
    "\n",
    "There's no such thing as \"points\". Instead, scratchcards only cause you to win more scratchcards equal to the number of winning numbers you have.\n",
    "\n",
    "Specifically, you win copies of the scratchcards below the winning card equal to the number of matches. So, if card 10 were to have 5 matching numbers, you would win one copy each of cards 11, 12, 13, 14, and 15.\n",
    "\n",
    "Copies of scratchcards are scored like normal scratchcards and have the same card number as the card they copied. So, if you win a copy of card 10 and it has 5 matching numbers, it would then win a copy of the same cards that the original card 10 won: cards 11, 12, 13, 14, and 15. This process repeats until none of the copies cause you to win any more cards. (Cards will never make you copy a card past the end of the table.)\n",
    "\n",
    "This time, the above example goes differently:\n",
    "```\n",
    "Card 1: 41 48 83 86 17 | 83 86  6 31 17  9 48 53\n",
    "Card 2: 13 32 20 16 61 | 61 30 68 82 17 32 24 19\n",
    "Card 3:  1 21 53 59 44 | 69 82 63 72 16 21 14  1\n",
    "Card 4: 41 92 73 84 69 | 59 84 76 51 58  5 54 83\n",
    "Card 5: 87 83 26 28 32 | 88 30 70 12 93 22 82 36\n",
    "Card 6: 31 18 13 56 72 | 74 77 10 23 35 67 36 11\n",
    "```\n",
    "\n",
    "Card 1 has four matching numbers, so you win one copy each of the next four cards: cards 2, 3, 4, and 5.  \n",
    "Your original card 2 has two matching numbers, so you win one copy each of cards 3 and 4.  \n",
    "Your copy of card 2 also wins one copy each of cards 3 and 4.  \n",
    "Your four instances of card 3 (one original and three copies) have two matching numbers, so you win four copies each of cards 4 and 5.   \n",
    "Your eight instances of card 4 (one original and seven copies) have one matching number, so you win eight copies of card 5.  \n",
    "Your fourteen instances of card 5 (one original and thirteen copies) have no matching numbers and win no more cards.  \n",
    "Your one instance of card 6 (one original) has no matching numbers and wins no more cards.  \n",
    "Once all of the originals and copies have been processed, you end up with 1 instance of card 1, 2 instances of card 2, 4 instances of card 3, 8 instances of card 4, 14 instances of card 5, and 1 instance of card 6. In total, this example pile of scratchcards causes you to ultimately have 30 scratchcards!  \n",
    "\n",
    "Process all of the original and copied scratchcards until no more scratchcards are won. Including the original set of scratchcards, how many total scratchcards do you end up with?"
   ]
  },
  {
   "cell_type": "code",
   "execution_count": 32,
   "metadata": {},
   "outputs": [
    {
     "data": {
      "text/plain": [
       "[1,\n",
       " [2, 15, 17, 11, 64, 59, 45, 41, 61, 19],\n",
       " [4,\n",
       "  36,\n",
       "  62,\n",
       "  43,\n",
       "  94,\n",
       "  41,\n",
       "  24,\n",
       "  25,\n",
       "  13,\n",
       "  83,\n",
       "  97,\n",
       "  86,\n",
       "  61,\n",
       "  90,\n",
       "  67,\n",
       "  7,\n",
       "  15,\n",
       "  58,\n",
       "  18,\n",
       "  19,\n",
       "  38,\n",
       "  17,\n",
       "  49,\n",
       "  52,\n",
       "  37]]"
      ]
     },
     "execution_count": 32,
     "metadata": {},
     "output_type": "execute_result"
    }
   ],
   "source": [
    "def parse(s):\n",
    "    try:\n",
    "        card, values = s.split(':')\n",
    "        two_strings = values.split(' | ')\n",
    "    except:\n",
    "        print(s)\n",
    "    res = []\n",
    "    for s in two_strings:\n",
    "        res.append([int(el.strip()) for el in s.split(' ') if el.strip() != ''])\n",
    "\n",
    "    card = int(card.split(' ')[-1].strip())\n",
    "    return [card] + res\n",
    "\n",
    "parse(lines[0])"
   ]
  },
  {
   "cell_type": "code",
   "execution_count": 54,
   "metadata": {},
   "outputs": [
    {
     "data": {
      "text/plain": [
       "6189740"
      ]
     },
     "execution_count": 54,
     "metadata": {},
     "output_type": "execute_result"
    }
   ],
   "source": [
    "from collections import deque\n",
    "\n",
    "card_prize = {}\n",
    "queue = deque(range(1, len(lines) + 1))\n",
    "processed = 0\n",
    "\n",
    "while queue:\n",
    "    human_idx = queue.popleft()\n",
    "    s = lines[human_idx-1]\n",
    "    card_n, winning, given = parse(s)\n",
    "    # print('processing card number', card_n)\n",
    "    processed += 1\n",
    "    \n",
    "    if card_n in card_prize:\n",
    "        matches = card_prize[card_n]\n",
    "        # print('found card number', card_n, f\"with {matches} matches\") \n",
    "        for i in range(1, matches+1):\n",
    "            queue.append(card_n+i)\n",
    "            # print(f\"Adding card {card_n+i} to queue\") \n",
    "    else:\n",
    "        matches = 0\n",
    "        for el in given:\n",
    "            if el in winning:\n",
    "                matches += 1\n",
    "                queue.append(card_n+matches)\n",
    "                # print(f\"Adding card {card_n+matches} to queue\") \n",
    "        card_prize[card_n] = matches\n",
    "    \n",
    "processed"
   ]
  },
  {
   "cell_type": "markdown",
   "metadata": {},
   "source": [
    "https://www.instagram.com/reel/CvDZ7nSrjCQ/?igshid=MzRlODBiNWFlZA%3D%3D"
   ]
  },
  {
   "cell_type": "markdown",
   "metadata": {},
   "source": [
    "# Day 5"
   ]
  },
  {
   "cell_type": "markdown",
   "metadata": {},
   "source": [
    "## Part 1"
   ]
  },
  {
   "cell_type": "code",
   "execution_count": 48,
   "metadata": {},
   "outputs": [],
   "source": [
    "file_path = '../data/day5.txt'\n",
    "with open(file_path, 'r') as file:\n",
    "    lines = [line.strip() for line in file]\n",
    "\n",
    "# lines = \"\"\"seeds: 79 14 55 13\n",
    "\n",
    "# seed-to-soil map:\n",
    "# 50 98 2\n",
    "# 52 50 48\n",
    "\n",
    "# soil-to-fertilizer map:\n",
    "# 0 15 37\n",
    "# 37 52 2\n",
    "# 39 0 15\n",
    "\n",
    "# fertilizer-to-water map:\n",
    "# 49 53 8\n",
    "# 0 11 42\n",
    "# 42 0 7\n",
    "# 57 7 4\n",
    "\n",
    "# water-to-light map:\n",
    "# 88 18 7\n",
    "# 18 25 70\n",
    "\n",
    "# light-to-temperature map:\n",
    "# 45 77 23\n",
    "# 81 45 19\n",
    "# 68 64 13\n",
    "\n",
    "# temperature-to-humidity map:\n",
    "# 0 69 1\n",
    "# 1 0 69\n",
    "\n",
    "# humidity-to-location map:\n",
    "# 60 56 37\n",
    "# 56 93 4\n",
    "# \"\"\"\n",
    "# lines = lines.split('\\n')\n",
    "\n",
    "\n",
    "# len(lines)"
   ]
  },
  {
   "cell_type": "code",
   "execution_count": 49,
   "metadata": {},
   "outputs": [
    {
     "data": {
      "text/plain": [
       "[3082872446,\n",
       " 316680412,\n",
       " 2769223903,\n",
       " 74043323,\n",
       " 4131958457,\n",
       " 99539464,\n",
       " 109726392,\n",
       " 353536902,\n",
       " 619902767,\n",
       " 648714498,\n",
       " 3762874676,\n",
       " 148318192,\n",
       " 1545670780,\n",
       " 343889780,\n",
       " 4259893555,\n",
       " 6139816,\n",
       " 3980757676,\n",
       " 20172062,\n",
       " 2199623551,\n",
       " 196958359]"
      ]
     },
     "execution_count": 49,
     "metadata": {},
     "output_type": "execute_result"
    }
   ],
   "source": [
    "def get_seeds(lines):\n",
    "    l = lines[0]\n",
    "    seeds = l.split(': ')[-1]\n",
    "    seeds = seeds.split(' ')\n",
    "    return [int(s) for s in seeds]\n",
    "\n",
    "seeds = get_seeds(lines)\n",
    "seeds"
   ]
  },
  {
   "cell_type": "code",
   "execution_count": 50,
   "metadata": {},
   "outputs": [
    {
     "name": "stdout",
     "output_type": "stream",
     "text": [
      "new section seed-to-soil map:\n",
      "new section soil-to-fertilizer map:\n",
      "new section fertilizer-to-water map:\n",
      "new section water-to-light map:\n",
      "new section light-to-temperature map:\n",
      "new section temperature-to-humidity map:\n",
      "new section humidity-to-location map:\n"
     ]
    }
   ],
   "source": [
    "mapping_names = ['seed-to-soil', 'soil-to-fertilizer', 'fertilizer-to-water', 'water-to-light',\n",
    "                 'light-to-temperature', 'temperature-to-humidity', 'humidity-to-location']\n",
    "mappings = {k: [] for k in mapping_names}\n",
    "\n",
    "name_idx = -1\n",
    "for l in lines[2:]:\n",
    "    if l == '':\n",
    "        continue\n",
    "    \n",
    "    if name_idx < len(mapping_names) - 1 and mapping_names[name_idx+1] in l:\n",
    "        print('new section', l)\n",
    "        name_idx += 1\n",
    "        continue\n",
    "    mappings[mapping_names[name_idx]].append([int(el) for el in l.split(' ')])"
   ]
  },
  {
   "cell_type": "code",
   "execution_count": 51,
   "metadata": {},
   "outputs": [
    {
     "data": {
      "text/plain": [
       "{'seed-to-soil': [[2211745924, 1281207339, 39747980],\n",
       "  [3648083739, 2564129012, 145170114],\n",
       "  [4171944574, 2333022880, 44675857],\n",
       "  [540694760, 848661020, 78793182],\n",
       "  [256996824, 588160543, 260500477],\n",
       "  [1870557289, 1804847051, 174857657],\n",
       "  [3877597859, 2853012070, 228980636],\n",
       "  [1634159465, 2150723562, 100770342],\n",
       "  [3793253853, 2293912908, 39109972],\n",
       "  [652571990, 567856215, 20304328],\n",
       "  [2480343183, 3372556760, 130573730],\n",
       "  [1831144195, 528443121, 39413094],\n",
       "  [0, 1690920197, 113926854],\n",
       "  [3145720856, 3081992706, 290564054],\n",
       "  [624623106, 1979704708, 27948884],\n",
       "  [3844601856, 3751059243, 32996003],\n",
       "  [1260492360, 1175075910, 106131429],\n",
       "  [1366623789, 166330978, 138490835],\n",
       "  [1175000149, 927454202, 85492211],\n",
       "  [696570061, 1596389312, 94530885],\n",
       "  [2647046837, 3784055246, 498674019],\n",
       "  [4216620431, 2709299126, 78346865],\n",
       "  [953230443, 1450000160, 146389152],\n",
       "  [791100946, 1012946413, 162129497],\n",
       "  [1734929807, 427093569, 96214388],\n",
       "  [672876318, 403399826, 23693743],\n",
       "  [113926854, 2007653592, 143069970],\n",
       "  [2045414946, 0, 166330978],\n",
       "  [1099619595, 328019272, 75380554],\n",
       "  [3832363825, 4282729265, 12238031],\n",
       "  [619487942, 523307957, 5135164],\n",
       "  [517497301, 304821813, 23197459],\n",
       "  [2293912908, 2377698737, 186430275],\n",
       "  [1505114624, 1320955319, 129044841],\n",
       "  [2610916913, 3714929319, 36129924],\n",
       "  [3436284910, 3503130490, 211798829],\n",
       "  [4106578495, 2787645991, 65366079]],\n",
       " 'soil-to-fertilizer': [[2733576308, 471599794, 76965554],\n",
       "  [1171423854, 1329782324, 37554133],\n",
       "  [2640052871, 928987130, 93523437],\n",
       "  [2015828352, 548565348, 204028986],\n",
       "  [3562821857, 3651707516, 643259780],\n",
       "  [1208977987, 2596877127, 12575372],\n",
       "  [778871551, 2204324824, 392552303],\n",
       "  [1221553359, 2609452499, 201089363],\n",
       "  [3520687457, 3069361301, 42134400],\n",
       "  [4240454288, 3542205804, 54513008],\n",
       "  [2219857338, 1367336457, 420195533],\n",
       "  [3034988650, 3111495701, 430710103],\n",
       "  [307271757, 0, 471599794],\n",
       "  [1422642722, 2082393746, 121931078],\n",
       "  [3465698753, 3596718812, 54988704],\n",
       "  [0, 1022510567, 307271757],\n",
       "  [1544573800, 1787531990, 294861756],\n",
       "  [4206081637, 3034988650, 34372651],\n",
       "  [1839435556, 752594334, 176392796]],\n",
       " 'fertilizer-to-water': [[1807260819, 3957534991, 337432305],\n",
       "  [774926879, 2718324291, 701236360],\n",
       "  [2351569884, 1690420176, 794087185],\n",
       "  [313174888, 2484507361, 233816930],\n",
       "  [3145657069, 541109949, 949949029],\n",
       "  [546991818, 313174888, 227935061],\n",
       "  [2144693124, 3750658231, 206876760],\n",
       "  [4095606098, 1491058978, 199361198],\n",
       "  [1476163239, 3419560651, 331097580]],\n",
       " 'water-to-light': [[3834982820, 3688486185, 202897824],\n",
       "  [2016707141, 372287565, 116618935],\n",
       "  [3386838019, 3412408553, 81116937],\n",
       "  [1125723906, 705568567, 205087174],\n",
       "  [4037880644, 1840142480, 150018623],\n",
       "  [2359176858, 4109550629, 126312910],\n",
       "  [3328178239, 4050890849, 58659780],\n",
       "  [1801115923, 3893484758, 43944958],\n",
       "  [1516002989, 1645262885, 194879595],\n",
       "  [3501845456, 488906500, 216662067],\n",
       "  [1373868013, 2223115169, 142134976],\n",
       "  [3467954956, 3641943956, 33890500],\n",
       "  [1845060881, 3937429716, 113461133],\n",
       "  [3718507523, 910655741, 57371540],\n",
       "  [3315526510, 3675834456, 12651729],\n",
       "  [2936874590, 2031117287, 84929853],\n",
       "  [1710882584, 3551710617, 90233339],\n",
       "  [372287565, 2365250145, 753436341],\n",
       "  [2133326076, 968027281, 225850782],\n",
       "  [1330811080, 1990161103, 40956184],\n",
       "  [1958522014, 3493525490, 58185127],\n",
       "  [3021804443, 3118686486, 293722067],\n",
       "  [2485489768, 1193878063, 451384822],\n",
       "  [3775879063, 4235863539, 59103757],\n",
       "  [1371767264, 3891384009, 2100749],\n",
       "  [4187899267, 2116047140, 107068029]],\n",
       " 'light-to-temperature': [[156743496, 2059819668, 37694357],\n",
       "  [4058204935, 4136802755, 38991573],\n",
       "  [2484168315, 1803830764, 54458297],\n",
       "  [2053264847, 2531370441, 7735546],\n",
       "  [586814267, 2539105987, 96956250],\n",
       "  [2538626612, 2097514025, 117228608],\n",
       "  [4097196508, 3782742182, 197770788],\n",
       "  [1246999413, 607900903, 25957627],\n",
       "  [1877009740, 1752361784, 30081637],\n",
       "  [683770517, 3121708332, 89729874],\n",
       "  [1835387899, 343006762, 41621841],\n",
       "  [1806332066, 3242032508, 29055833],\n",
       "  [2212907940, 137512351, 205494411],\n",
       "  [809588378, 2954088675, 69458905],\n",
       "  [1689902424, 3271088341, 436818],\n",
       "  [3306521233, 894737794, 308504080],\n",
       "  [3235066415, 3050253514, 71454818],\n",
       "  [1147299995, 1960120250, 99699418],\n",
       "  [2046683718, 749851354, 6581129],\n",
       "  [3782742182, 4222506720, 5456115],\n",
       "  [2061000393, 756432483, 138305311],\n",
       "  [792839631, 591152156, 16748747],\n",
       "  [1478425864, 2742612115, 211476560],\n",
       "  [2793367571, 2636062237, 73608402],\n",
       "  [2471831801, 2214742633, 12336514],\n",
       "  [194437853, 1622309324, 130052460],\n",
       "  [3901915150, 3980512970, 156289785],\n",
       "  [2655855220, 0, 137512351],\n",
       "  [324490313, 1359985370, 262323954],\n",
       "  [3855202758, 4175794328, 46712392],\n",
       "  [2445108285, 1782443421, 21387343],\n",
       "  [2467550357, 3211438206, 4281444],\n",
       "  [3788198297, 4227962835, 67004461],\n",
       "  [2199305704, 2709670639, 13602236],\n",
       "  [1272957040, 385683332, 205468824],\n",
       "  [1690339242, 633858530, 115992824],\n",
       "  [1907091377, 2227079147, 139592341],\n",
       "  [0, 1203241874, 156743496],\n",
       "  [2866975973, 1858289061, 24590288],\n",
       "  [1120987137, 3215719650, 26312858],\n",
       "  [2891566261, 3271525159, 343500154],\n",
       "  [2466495628, 384628603, 1054729],\n",
       "  [1043746236, 1882879349, 77240901],\n",
       "  [879047283, 2366671488, 164698953],\n",
       "  [773500391, 2723272875, 19339240],\n",
       "  [2418402351, 3023547580, 26705934]],\n",
       " 'temperature-to-humidity': [[159374282, 333555332, 155635040],\n",
       "  [2263203984, 507165487, 202752561],\n",
       "  [1337996197, 836383358, 269347352],\n",
       "  [733930089, 139752127, 104367475],\n",
       "  [2840449774, 3878218681, 416748615],\n",
       "  [3373626730, 3111757526, 416998602],\n",
       "  [3943881399, 2795875886, 241056063],\n",
       "  [3790625332, 2642619819, 153256067],\n",
       "  [3298801153, 3036931949, 30341941],\n",
       "  [1671783850, 1980182260, 485774285],\n",
       "  [0, 313933177, 19622155],\n",
       "  [2642619819, 3680388726, 197829955],\n",
       "  [2157558135, 1398186167, 105645849],\n",
       "  [4283100212, 3528756128, 11867084],\n",
       "  [843670838, 1503832016, 347905328],\n",
       "  [1607343549, 244119602, 64440301],\n",
       "  [315009322, 709918048, 126465310],\n",
       "  [441474632, 1105730710, 292455457],\n",
       "  [3257198389, 3540623212, 41602764],\n",
       "  [838297564, 308559903, 5373274],\n",
       "  [1320021082, 489190372, 17975115],\n",
       "  [4184937462, 3582225976, 98162750],\n",
       "  [1191576166, 1851737344, 128444916],\n",
       "  [3329143094, 3067273890, 44483636],\n",
       "  [19622155, 0, 139752127]],\n",
       " 'humidity-to-location': [[3728200417, 3220538748, 36833684],\n",
       "  [1907946842, 1065499951, 70751518],\n",
       "  [1978698360, 2011387412, 298481649],\n",
       "  [4048923771, 3541262102, 246043525],\n",
       "  [1314245652, 402299218, 396512619],\n",
       "  [577039234, 798811837, 266688114],\n",
       "  [3249926596, 2795059130, 273974120],\n",
       "  [1734859977, 229212353, 173086865],\n",
       "  [2718652009, 3787305627, 454867466],\n",
       "  [1710758271, 1405898165, 24101706],\n",
       "  [843727348, 1510857580, 66114574],\n",
       "  [3765034101, 3257372432, 283889670],\n",
       "  [1179488618, 1876630378, 134757034],\n",
       "  [909841922, 1136251469, 269646696],\n",
       "  [3675406214, 4242173093, 52794203],\n",
       "  [310070062, 1576972154, 266969172],\n",
       "  [229212353, 1429999871, 80857709],\n",
       "  [3523900716, 3069033250, 151505498],\n",
       "  [3173519475, 2718652009, 76407121],\n",
       "  [2277180009, 1843941326, 32689052]]}"
      ]
     },
     "execution_count": 51,
     "metadata": {},
     "output_type": "execute_result"
    }
   ],
   "source": [
    "mappings"
   ]
  },
  {
   "cell_type": "markdown",
   "metadata": {},
   "source": [
    "if input is within range 'source range start' -> 'source range start' + 'range length', apply mapping. Otherwise return input"
   ]
  },
  {
   "cell_type": "code",
   "execution_count": null,
   "metadata": {},
   "outputs": [],
   "source": [
    "def map_almanac(input, mapping_values: list):\n",
    "    for destination_range_start, source_range_start, range_length in mapping_values:\n",
    "        mapping_range = [source_range_start, source_range_start + range_length - 1]\n",
    "        if mapping_range[0] <= input <= mapping_range[1]:\n",
    "            return input + (destination_range_start - source_range_start)\n",
    "    return input\n",
    "        \n",
    "for i in range(100):\n",
    "    print(i, map_almanac(i, mappings['seed-to-soil']))"
   ]
  },
  {
   "cell_type": "code",
   "execution_count": 28,
   "metadata": {},
   "outputs": [],
   "source": [
    "from tqdm.notebook import tqdm\n",
    "\n",
    "tqdm.pandas()"
   ]
  },
  {
   "cell_type": "code",
   "execution_count": 15,
   "metadata": {},
   "outputs": [
    {
     "data": {
      "application/vnd.jupyter.widget-view+json": {
       "model_id": "ca85631e11674f90aea369a49996a6cc",
       "version_major": 2,
       "version_minor": 0
      },
      "text/plain": [
       "  0%|          | 0/20 [00:00<?, ?it/s]"
      ]
     },
     "metadata": {},
     "output_type": "display_data"
    },
    {
     "data": {
      "application/vnd.jupyter.widget-view+json": {
       "model_id": "10331d29662f47ad8c02057fb6fa37e7",
       "version_major": 2,
       "version_minor": 0
      },
      "text/plain": [
       "  0%|          | 0/7 [00:00<?, ?it/s]"
      ]
     },
     "metadata": {},
     "output_type": "display_data"
    },
    {
     "data": {
      "application/vnd.jupyter.widget-view+json": {
       "model_id": "3cca8a91d43b493e9ed5f1c05c43e225",
       "version_major": 2,
       "version_minor": 0
      },
      "text/plain": [
       "  0%|          | 0/7 [00:00<?, ?it/s]"
      ]
     },
     "metadata": {},
     "output_type": "display_data"
    },
    {
     "data": {
      "application/vnd.jupyter.widget-view+json": {
       "model_id": "5fbe846dddbc4cd7a99f857628c9dd56",
       "version_major": 2,
       "version_minor": 0
      },
      "text/plain": [
       "  0%|          | 0/7 [00:00<?, ?it/s]"
      ]
     },
     "metadata": {},
     "output_type": "display_data"
    },
    {
     "data": {
      "application/vnd.jupyter.widget-view+json": {
       "model_id": "6d9759e436a54b57a3b7706c89f096da",
       "version_major": 2,
       "version_minor": 0
      },
      "text/plain": [
       "  0%|          | 0/7 [00:00<?, ?it/s]"
      ]
     },
     "metadata": {},
     "output_type": "display_data"
    },
    {
     "data": {
      "application/vnd.jupyter.widget-view+json": {
       "model_id": "b314a6c8295d4c1e8286a121e5c66c59",
       "version_major": 2,
       "version_minor": 0
      },
      "text/plain": [
       "  0%|          | 0/7 [00:00<?, ?it/s]"
      ]
     },
     "metadata": {},
     "output_type": "display_data"
    },
    {
     "data": {
      "application/vnd.jupyter.widget-view+json": {
       "model_id": "c1f39642b8b242c0ac3dc7ba2459a756",
       "version_major": 2,
       "version_minor": 0
      },
      "text/plain": [
       "  0%|          | 0/7 [00:00<?, ?it/s]"
      ]
     },
     "metadata": {},
     "output_type": "display_data"
    },
    {
     "data": {
      "application/vnd.jupyter.widget-view+json": {
       "model_id": "b1575dd88db547f3a44d75384e40c6e9",
       "version_major": 2,
       "version_minor": 0
      },
      "text/plain": [
       "  0%|          | 0/7 [00:00<?, ?it/s]"
      ]
     },
     "metadata": {},
     "output_type": "display_data"
    },
    {
     "data": {
      "application/vnd.jupyter.widget-view+json": {
       "model_id": "7a71fd49d78b4636841b0e30992abcc4",
       "version_major": 2,
       "version_minor": 0
      },
      "text/plain": [
       "  0%|          | 0/7 [00:00<?, ?it/s]"
      ]
     },
     "metadata": {},
     "output_type": "display_data"
    },
    {
     "data": {
      "application/vnd.jupyter.widget-view+json": {
       "model_id": "f082938ae2924c53a19cf5fc103788bc",
       "version_major": 2,
       "version_minor": 0
      },
      "text/plain": [
       "  0%|          | 0/7 [00:00<?, ?it/s]"
      ]
     },
     "metadata": {},
     "output_type": "display_data"
    },
    {
     "data": {
      "application/vnd.jupyter.widget-view+json": {
       "model_id": "4602ebfac0004859a7668f750034be10",
       "version_major": 2,
       "version_minor": 0
      },
      "text/plain": [
       "  0%|          | 0/7 [00:00<?, ?it/s]"
      ]
     },
     "metadata": {},
     "output_type": "display_data"
    },
    {
     "data": {
      "application/vnd.jupyter.widget-view+json": {
       "model_id": "1b7eda0676b047359a4f2eb64225b60f",
       "version_major": 2,
       "version_minor": 0
      },
      "text/plain": [
       "  0%|          | 0/7 [00:00<?, ?it/s]"
      ]
     },
     "metadata": {},
     "output_type": "display_data"
    },
    {
     "data": {
      "application/vnd.jupyter.widget-view+json": {
       "model_id": "2dcf74af95ee4485864def820fa6f2b0",
       "version_major": 2,
       "version_minor": 0
      },
      "text/plain": [
       "  0%|          | 0/7 [00:00<?, ?it/s]"
      ]
     },
     "metadata": {},
     "output_type": "display_data"
    },
    {
     "data": {
      "application/vnd.jupyter.widget-view+json": {
       "model_id": "44a174ad2b9847fda9927c3d3cc60a2f",
       "version_major": 2,
       "version_minor": 0
      },
      "text/plain": [
       "  0%|          | 0/7 [00:00<?, ?it/s]"
      ]
     },
     "metadata": {},
     "output_type": "display_data"
    },
    {
     "data": {
      "application/vnd.jupyter.widget-view+json": {
       "model_id": "fc33d6d39d5747ccbf7af4f6cc45fc50",
       "version_major": 2,
       "version_minor": 0
      },
      "text/plain": [
       "  0%|          | 0/7 [00:00<?, ?it/s]"
      ]
     },
     "metadata": {},
     "output_type": "display_data"
    },
    {
     "data": {
      "application/vnd.jupyter.widget-view+json": {
       "model_id": "1555321b53834f26973eee69eadaa209",
       "version_major": 2,
       "version_minor": 0
      },
      "text/plain": [
       "  0%|          | 0/7 [00:00<?, ?it/s]"
      ]
     },
     "metadata": {},
     "output_type": "display_data"
    },
    {
     "data": {
      "application/vnd.jupyter.widget-view+json": {
       "model_id": "383bed7cefc944c3918585cf443acb06",
       "version_major": 2,
       "version_minor": 0
      },
      "text/plain": [
       "  0%|          | 0/7 [00:00<?, ?it/s]"
      ]
     },
     "metadata": {},
     "output_type": "display_data"
    },
    {
     "data": {
      "application/vnd.jupyter.widget-view+json": {
       "model_id": "6735042cd09544f3963d00f3a30dfa46",
       "version_major": 2,
       "version_minor": 0
      },
      "text/plain": [
       "  0%|          | 0/7 [00:00<?, ?it/s]"
      ]
     },
     "metadata": {},
     "output_type": "display_data"
    },
    {
     "data": {
      "application/vnd.jupyter.widget-view+json": {
       "model_id": "29aa3151fd874c578c1f7c3c45d2abf0",
       "version_major": 2,
       "version_minor": 0
      },
      "text/plain": [
       "  0%|          | 0/7 [00:00<?, ?it/s]"
      ]
     },
     "metadata": {},
     "output_type": "display_data"
    },
    {
     "data": {
      "application/vnd.jupyter.widget-view+json": {
       "model_id": "90cea818f26e4deb811cb27bc703d625",
       "version_major": 2,
       "version_minor": 0
      },
      "text/plain": [
       "  0%|          | 0/7 [00:00<?, ?it/s]"
      ]
     },
     "metadata": {},
     "output_type": "display_data"
    },
    {
     "data": {
      "application/vnd.jupyter.widget-view+json": {
       "model_id": "5809fc8c759e4b138f08e5f64def8106",
       "version_major": 2,
       "version_minor": 0
      },
      "text/plain": [
       "  0%|          | 0/7 [00:00<?, ?it/s]"
      ]
     },
     "metadata": {},
     "output_type": "display_data"
    }
   ],
   "source": [
    "results = []\n",
    "for input in tqdm(seeds, total=len(seeds)):\n",
    "    # print('seed', input)\n",
    "    for step in tqdm(mapping_names, total=len(mapping_names)):\n",
    "        input = map_almanac(input, mappings[step])\n",
    "        # print(step, input)\n",
    "    results.append(input)"
   ]
  },
  {
   "cell_type": "code",
   "execution_count": 17,
   "metadata": {},
   "outputs": [
    {
     "data": {
      "text/plain": [
       "[1085436433,\n",
       " 84470622,\n",
       " 797022648,\n",
       " 3040934752,\n",
       " 2473940599,\n",
       " 3066430893,\n",
       " 3076617821,\n",
       " 2837833773,\n",
       " 4058019656,\n",
       " 2450588295,\n",
       " 3210752671,\n",
       " 1175734550,\n",
       " 2761597611,\n",
       " 2828186651,\n",
       " 1061720983,\n",
       " 1611747764,\n",
       " 136887475,\n",
       " 1625780010,\n",
       " 970058274,\n",
       " 4099273491]"
      ]
     },
     "execution_count": 17,
     "metadata": {},
     "output_type": "execute_result"
    }
   ],
   "source": [
    "results"
   ]
  },
  {
   "cell_type": "code",
   "execution_count": 18,
   "metadata": {},
   "outputs": [
    {
     "data": {
      "text/plain": [
       "84470622"
      ]
     },
     "execution_count": 18,
     "metadata": {},
     "output_type": "execute_result"
    }
   ],
   "source": [
    "min(results)"
   ]
  },
  {
   "cell_type": "markdown",
   "metadata": {},
   "source": [
    "## Part 2"
   ]
  },
  {
   "cell_type": "markdown",
   "metadata": {},
   "source": [
    "The worst thing you can do is to iterate over the solution in part 1. \n",
    "\n",
    "Alternatively, we can check intersections of input and mapping ranges until the whole input is mapped. Importantly, output has to be sorted to keep this mapping going. If mapping has interruptions, it has to be split into sorted pieces. Or just pieces of shape [start, len]. There may be a separate func for this output prettification. Do we need to process them somehow in an organised way? Looks like not. Just pass each [start, len] range to the next step. All the results from the last step (doesn't mean which path produced it) is a location to consider"
   ]
  },
  {
   "cell_type": "code",
   "execution_count": 53,
   "metadata": {},
   "outputs": [
    {
     "data": {
      "text/plain": [
       "[[2045415025, 14], [2045415001, 13]]"
      ]
     },
     "execution_count": 53,
     "metadata": {},
     "output_type": "execute_result"
    }
   ],
   "source": [
    "def map_almanac(input_ranges: List[List[int]], mapping_values: List) -> List[List[int]]:\n",
    "    res = []\n",
    "    current_input_ranges = input_ranges\n",
    "    next_input_ranges = []\n",
    "\n",
    "    for i, (destination_range_start, source_range_start, range_length) in enumerate(mapping_values):\n",
    "        mapping_range = [source_range_start, source_range_start + range_length - 1]\n",
    "        \n",
    "        # print(i, 'mapping_range', mapping_range, 'current_input_ranges', current_input_ranges)\n",
    "\n",
    "        for input_range in current_input_ranges:  # all the ranges from the previous step have to be processed\n",
    "            # input_range = input_ranges.popleft()\n",
    "            # print('input_range', input_range)\n",
    "            input_start = input_range[0]\n",
    "            input_end = input_range[0] + input_range[1] - 1\n",
    "        \n",
    "            intersection_start = max(input_start, mapping_range[0])\n",
    "            intersection_end = min(input_end, mapping_range[1])\n",
    "            \n",
    "            if intersection_start <= intersection_end:\n",
    "                shift = destination_range_start - source_range_start\n",
    "                # print('have instersection. appending to res', [intersection_start + shift, intersection_end - intersection_start + 1])\n",
    "                res.append([intersection_start + shift, intersection_end - intersection_start + 1])\n",
    "                # add remaining pieces of start, len to the next round of input_ranges\n",
    "                if input_start < intersection_start:\n",
    "                    # print('have left remainder. appending to input_ranges', [input_start, intersection_start - input_start + 1])\n",
    "                    next_input_ranges.append([input_start, intersection_start - input_start + 1])\n",
    "                if input_end > intersection_end:\n",
    "                    # print('have right remainder. appending to input_ranges', [intersection_end, input_end - intersection_end + 1])\n",
    "                    next_input_ranges.append([intersection_end, input_end - intersection_end + 1])\n",
    "            else:\n",
    "                if i == (len(mapping_values) - 1):  # there are no mappings remaining. just mapping 1-2-1\n",
    "                    # print('no intersection. last stage. appending to res', input_range)\n",
    "                    res.append(input_range)\n",
    "                else:\n",
    "                    # print('no intersection. not last stage. appending to next_input_ranges', input_range)\n",
    "                    next_input_ranges.append(input_range)\n",
    "\n",
    "        current_input_ranges = next_input_ranges\n",
    "        next_input_ranges = []\n",
    "    return res\n",
    "        \n",
    "map_almanac([[79, 14], [55, 13]], mappings['seed-to-soil'])"
   ]
  },
  {
   "cell_type": "code",
   "execution_count": 54,
   "metadata": {},
   "outputs": [
    {
     "data": {
      "text/plain": [
       "[[3082872446, 316680412],\n",
       " [2769223903, 74043323],\n",
       " [4131958457, 99539464],\n",
       " [109726392, 353536902],\n",
       " [619902767, 648714498],\n",
       " [3762874676, 148318192],\n",
       " [1545670780, 343889780],\n",
       " [4259893555, 6139816],\n",
       " [3980757676, 20172062],\n",
       " [2199623551, 196958359]]"
      ]
     },
     "execution_count": 54,
     "metadata": {},
     "output_type": "execute_result"
    }
   ],
   "source": [
    "def extract_pairs(lst):\n",
    "    pairs = []\n",
    "    for i in range(0, len(lst), 2):\n",
    "        # Append the pair to the result list\n",
    "        # Use slicing to handle cases where the list has an odd number of elements\n",
    "        pairs.append(lst[i:i+2])\n",
    "    return pairs\n",
    "\n",
    "extract_pairs(seeds)"
   ]
  },
  {
   "cell_type": "code",
   "execution_count": 55,
   "metadata": {},
   "outputs": [
    {
     "data": {
      "application/vnd.jupyter.widget-view+json": {
       "model_id": "199a1512c8f54b68aa6be4e1a642a087",
       "version_major": 2,
       "version_minor": 0
      },
      "text/plain": [
       "  0%|          | 0/7 [00:00<?, ?it/s]"
      ]
     },
     "metadata": {},
     "output_type": "display_data"
    },
    {
     "name": "stdout",
     "output_type": "stream",
     "text": [
      "\n",
      "\n",
      "\n",
      "step seed-to-soil\n",
      "input [[3082872446, 316680412], [2769223903, 74043323], [4131958457, 99539464], [109726392, 353536902], [619902767, 648714498], [3762874676, 148318192], [1545670780, 343889780], [4259893555, 6139816], [3980757676, 20172062], [2199623551, 196958359]] \n",
      "\n",
      "\n",
      "\n",
      "\n",
      "step soil-to-fertilizer\n",
      "input [[4171944574, 44675857], [540694760, 78793182], [288739048, 228758253], [1870557289, 84713509], [1683059454, 51870353], [3793253853, 39109972], [2480343183, 26996098], [0, 113926854], [3146600596, 289684314], [3856417289, 21180570], [1260492360, 93541355], [1366623789, 138490835], [1175000149, 85492211], [696570061, 94530885], [2994950048, 99539464], [2647046837, 127137622], [3122885146, 6139816], [2843749267, 20172062], [4276545208, 18422088], [1048901063, 50718532], [791100946, 162129497], [1734929807, 36169725], [672876318, 23693743], [2155141338, 56604586], [1099619595, 75380554], [517497301, 23197459], [2293912908, 18883173], [3372556759, 2], [4106578495, 55621235], [166330977, 2], [304821812, 2], [328019271, 2], [403399825, 2], [427093568, 2], [848661019, 2], [927454201, 2], [1012946412, 2], [1175075909, 2], [3784055245, 2], [1596389311, 2], [1690920196, 2], [1804847050, 2], [2251493903, 42419006], [2333022879, 2], [2377698736, 2]] \n",
      "\n",
      "\n",
      "\n",
      "\n",
      "step fertilizer-to-water\n",
      "input [[2802671274, 7870588], [2733576308, 45897507], [2779473815, 23197459], [1171423854, 24251391], [1208265319, 712668], [2640052871, 24243313], [2724012153, 2], [2015828352, 70922594], [2163833065, 56024273], [2140139322, 23693743], [4083058915, 44675857], [3704368194, 39109972], [3767531630, 21180570], [4187659549, 18422088], [4017692836, 55621235], [3695169586, 2], [1054889910, 26996098], [778871551, 7421100], [868459635, 18883173], [826040630, 42419006], [907569606, 2], [952245463, 2], [1259147697, 127137622], [3520687457, 25128211], [2535580335, 51870353], [2219857338, 137778167], [2587450688, 36169725], [2448910192, 2], [2543441077, 2], [3070093545, 289684314], [3046378095, 6139816], [3296049708, 2], [596010805, 182860746], [307271757, 113926854], [473602734, 2], [612093569, 2], [635291028, 2], [710671582, 2], [734365325, 2], [1495390314, 49183486], [237981793, 69289964], [152489582, 85492211], [26390496, 50718532], [77109028, 75380554], [152565342, 2], [1627599099, 84713509], [1561888860, 2], [4206081637, 34372651], [548565347, 2], [471599793, 2], [1329782323, 2], [1367336456, 2], [1839435556, 38506612], [2994950048, 40038603], [3069361300, 2], [2843749267, 20172062], [1877942168, 137886184], [2204324823, 2], [1935502241, 2], [2014295423, 2]] \n",
      "\n",
      "\n",
      "\n",
      "\n",
      "step water-to-light\n",
      "input [[1932784743, 44675857], [2037385377, 18422088], [1867418664, 55621235], [2055807465, 34372651], [859273862, 7870588], [790178896, 45897507], [836076403, 23197459], [780614741, 2], [1126696133, 289684314], [1102980683, 6139816], [1352652296, 2], [1051552636, 40038603], [1125963888, 2], [900351855, 20172062], [2676978060, 70922594], [2824982773, 56024273], [2801289030, 23693743], [2881007046, 137778167], [3110059900, 2], [2351569884, 21892432], [2500585264, 38506612], [2539091876, 137886184], [2865474531, 2], [2596651949, 2], [2675445131, 2], [468720398, 24243313], [364247862, 51870353], [416118215, 36169725], [372108604, 2], [3775970974, 24251391], [3812812439, 712668], [3659437030, 26996098], [3383418671, 7421100], [3473006755, 18883173], [3430587750, 42419006], [3512116726, 2], [3556792583, 2], [3863694817, 127137622], [3200557925, 182860746], [3216640689, 2], [3239838148, 2], [3315218702, 2], [3338912445, 2], [3153112467, 2], [3934329443, 2], [3971883576, 2], [546991818, 108023723], [707419664, 2], [705416723, 2], [2161566523, 21180570], [4099937434, 49183486], [4232146219, 62821077], [4166435980, 2], [1760970782, 39109972], [1751772174, 2], [1577290045, 25128211], [307271757, 5903132], [237981793, 69289964], [152489582, 85492211], [26390496, 50718532], [77109028, 75380554], [152565342, 2], [1690420175, 2]] \n",
      "\n",
      "\n",
      "\n",
      "\n",
      "step light-to-temperature\n",
      "input [[3922467609, 24251391], [3959309074, 712668], [4010191452, 27689192], [2113139974, 20186102], [2016707141, 43830650], [2060537791, 36169725], [3447436221, 18883173], [3405017216, 42419006], [1279429201, 7870588], [1210334235, 45897507], [1256231742, 23197459], [1200770080, 2], [1320507194, 10303886], [1127575003, 2], [4130522907, 44675857], [4065156828, 55621235], [2359176858, 39570291], [2481772448, 3717320], [2416062209, 2], [3377224824, 9613195], [1801115923, 43944958], [1841960608, 2], [1631710886, 39109972], [1622512278, 2], [1561160279, 2], [3501845456, 4057211], [3559930774, 108023723], [3718355679, 2], [1502322728, 13680261], [3485448030, 16397426], [1845060881, 53402723], [1879514741, 2], [3718507523, 9868176], [3315526510, 10598672], [2943142680, 18422088], [2961564768, 34372651], [1715964550, 2], [684015480, 70922594], [832020193, 56024273], [808326450, 23693743], [888044466, 137778167], [1117097320, 2], [372287565, 8212171], [507622684, 38506612], [546129296, 137886184], [872511951, 2], [603689369, 2], [682482551, 2], [2291994928, 67181930], [2268279478, 6139816], [2216851431, 40038603], [2291262683, 2], [1977113250, 2], [3286536628, 7421100], [3103675882, 182860746], [3119758646, 2], [3142956105, 2], [3218336659, 2], [3242030402, 2], [3056230424, 2], [2485489768, 222502384], [2644264001, 2], [2868901750, 25128211], [3775879063, 59103757], [1371767264, 2100749], [1193878062, 2], [910655740, 2], [2365250144, 2], [488906499, 2], [364247862, 8039704], [372108604, 2], [3675834455, 2], [3891384008, 2], [3893484757, 2], [3937429715, 2], [4233418650, 21180570], [4109550628, 2], [4235863538, 2], [307271757, 5903132], [237981793, 69289964], [152489582, 85492211], [26390496, 50718532], [77109028, 75380554], [152565342, 2]] \n",
      "\n",
      "\n",
      "\n",
      "\n",
      "step temperature-to-humidity\n",
      "input [[156743496, 718123], [157461619, 36169725], [4058204935, 38396009], [2484168315, 41230117], [2522298159, 2], [2525398432, 13228180], [2053264847, 7735546], [586814267, 96956250], [2554252561, 20186102], [4236921935, 24251391], [4273763400, 712668], [4097196508, 52240638], [4205838334, 2], [4207939083, 2], [4251884041, 2], [1246999413, 25957627], [683770517, 89729874], [705018290, 2], [1864668702, 8212171], [1856628999, 8039704], [1864489741, 2], [1806332066, 29055833], [2382667346, 5903132], [2313377382, 69289964], [2227885171, 85492211], [2212907940, 14977231], [2227960931, 2], [809588378, 7476093], [817064471, 34372651], [1689902424, 436818], [3612553519, 2], [3539358442, 2], [3306521233, 131084839], [3528880759, 2], [3605661501, 2], [3322439179, 2], [3288488783, 18032450], [3304571547, 2], [3241043325, 2], [1203886886, 43112527], [1164292995, 2], [2046683718, 5086720], [2136588103, 56024273], [2112894360, 23693743], [2192612376, 6693328], [2177079861, 2], [792839631, 16748747], [805376844, 2], [1678956429, 10945995], [1604715499, 25128211], [2793367571, 71929915], [2801569335, 2], [2473940599, 10227716], [203839415, 39109972], [194640807, 2], [288093079, 2], [3931593632, 27689192], [4051925087, 6279848], [3986559008, 55621235], [4030952808, 2], [2682245716, 50718532], [2732964248, 60403323], [525665222, 2], [466827671, 13680261], [336272207, 2100749], [2463780787, 2714841], [2467550357, 4281444], [3793654112, 21180570], [3796099000, 2], [1394896392, 38506612], [1433403004, 45022860], [1376180207, 2], [1740496192, 65835874], [1690339242, 50156950], [1738963263, 2], [2039189088, 7494630], [1972007158, 67181930], [1948291708, 6139816], [1907091377, 29810887], [1971274913, 2], [2045262374, 2], [76187327, 7870588], [7092361, 45897507], [52989868, 23197459], [117265320, 10303886], [2866975973, 24590288], [2888201653, 2], [1120987137, 26312858], [1123604146, 2], [1147297889, 2], [3067477323, 18883173], [3025058318, 42419006], [2997265926, 9613195], [3121886558, 4057211], [3179971876, 55094539], [3105489132, 16397426], [2935567612, 10598672], [2906577730, 7421100], [2891566261, 15011469], [1043746236, 15584255], [879047283, 32075661], [994148243, 3717320], [928438004, 2], [997865563, 45880673], [2059819667, 2], [4136802754, 2], [2366671487, 2], [1803830763, 2], [3615025312, 52929185], [3718355679, 2], [1858289060, 2], [1882879348, 2], [3718507523, 9868176], [2954088674, 2], [749851353, 2], [894737793, 2], [591152155, 2], [607900902, 2], [633858529, 2], [2227079146, 2], [3121708331, 2], [3211438205, 2], [3215719649, 2], [3242032507, 2], [3271088340, 2], [3271525158, 2], [2531370440, 2], [2539105986, 2], [2636062236, 2], [3775879063, 6863120], [3675834455, 2], [137512350, 2]] \n",
      "\n",
      "\n",
      "\n",
      "\n",
      "step humidity-to-location\n",
      "input [[292646621, 13680261], [162091157, 2100749], [2342852764, 96956250], [2439809014, 26147531], [2461056787, 2], [2281703719, 2], [2347190652, 2], [2363939399, 2], [2389897026, 2], [1337996197, 15053764], [1545359075, 15584255], [1380660122, 32075661], [1495761082, 3717320], [1430050843, 2], [1499478402, 45880673], [1396350632, 2], [750921458, 718123], [751639581, 36169725], [798017377, 39109972], [788818769, 2], [3020436028, 38396009], [3199153028, 24251391], [3235994493, 712668], [3059427601, 52240638], [3168069427, 2], [3170170176, 2], [3214115134, 2], [2893824725, 27689192], [3014156180, 6279848], [2948790101, 55621235], [2993183901, 2], [3099033847, 2], [3568390437, 131084839], [3584308383, 2], [3550357987, 18032450], [3566440751, 2], [3502912529, 2], [3383755762, 4057211], [3441841080, 55094539], [3373626730, 10129032], [3383577535, 2], [3473307409, 2], [3477588853, 2], [3503901711, 2], [3532957544, 2], [3533394362, 2], [3943881399, 69421600], [3949574848, 2], [4014981486, 24590288], [4036207166, 2], [4173063831, 11873631], [4145271439, 9613195], [4083573125, 10598672], [4054583243, 7421100], [4039571774, 15011469], [4102094187, 2], [3941373084, 2508315], [3830251229, 50718532], [3880969761, 60403323], [3298801153, 30341941], [1744866437, 7735546], [2074268936, 5903132], [2004978972, 69289964], [1919486761, 85492211], [1904509530, 14977231], [1919562521, 2], [1738285308, 5086720], [1828189693, 56024273], [1804495950, 23693743], [1884213966, 6693328], [1868681451, 2], [2155382377, 2175758], [1730790678, 7494630], [1671783850, 59006828], [1736863964, 2], [1751421257, 2], [2058273077, 2], [1918680736, 2], [2755885205, 21180570], [2758330093, 2], [2680586772, 2], [2680738616, 9868176], [2738110156, 6863120], [2157558135, 35216837], [2192774972, 45022860], [4293702526, 2], [4283224843, 2], [1146170888, 29055833], [1029741246, 436818], [1018795251, 10945995], [944554321, 25128211], [1080335014, 65835874], [1030178064, 50156950], [1078802085, 2], [1143669585, 2], [1651317026, 2], [315009322, 63582343], [414679652, 7476093], [422155745, 19318887], [397930905, 16748747], [410468118, 2], [354942627, 2], [582743335, 25957627], [539630808, 43112527], [500036917, 2], [730640314, 3289775], [711924129, 2], [456731059, 26312858], [459348068, 2], [483041811, 2], [4215265005, 2], [4208372987, 2], [4217736798, 52929185], [4278545941, 2], [1204507524, 8212171], [1196467821, 8039704], [1204328563, 2], [1311845980, 8175102], [1288130530, 6139816], [1246930199, 29810887], [1311113735, 2], [1198127882, 2], [1222718170, 2], [3329346527, 18883173], [3329143094, 203434], [3367358336, 6268394], [2484168315, 41230117], [2522298159, 2], [2525398432, 13228180], [2554252561, 20186102], [709918047, 2], [836383357, 2], [2795875885, 2], [2473940599, 10227716], [2465956544, 539084], [2467550357, 4281444], [1398186166, 2], [1980182259, 2], [95809482, 7870588], [26714516, 45897507], [72612023, 23197459], [136887475, 10303886], [3036931948, 2], [3067273889, 2], [3111757525, 2], [2531370440, 2], [2539105986, 2], [2636062236, 2], [157134505, 2]] \n",
      "\n"
     ]
    }
   ],
   "source": [
    "results = []\n",
    "input = extract_pairs(seeds)\n",
    "for step in tqdm(mapping_names, total=len(mapping_names)):\n",
    "    print('\\n\\n\\nstep', step)\n",
    "    print('input', input, '\\n')\n",
    "    input = map_almanac(input, mappings[step])\n",
    "    # print(step, input)\n",
    "    results.append(input)"
   ]
  },
  {
   "cell_type": "code",
   "execution_count": 56,
   "metadata": {},
   "outputs": [
    {
     "data": {
      "text/plain": [
       "26714516"
      ]
     },
     "execution_count": 56,
     "metadata": {},
     "output_type": "execute_result"
    }
   ],
   "source": [
    "sorted(input, key= lambda x: x[0])[0][0]"
   ]
  },
  {
   "cell_type": "markdown",
   "metadata": {},
   "source": [
    "# Day 6"
   ]
  },
  {
   "cell_type": "markdown",
   "metadata": {},
   "source": [
    "## Part 1\n",
    "The organizer brings you over to the area where the boat races are held. The boats are much smaller than you expected - they're actually toy boats, each with a big button on top. Holding down the button charges the boat, and releasing the button allows the boat to move. Boats move faster if their button was held longer, but time spent holding the button counts against the total race time. You can only hold the button at the start of the race, and boats don't move until the button is released.\n",
    "\n",
    "For example:\n",
    "```\n",
    "Time:      7  15   30\n",
    "Distance:  9  40  200\n",
    "```\n",
    "This document describes three races:\n",
    "\n",
    "The first race lasts 7 milliseconds. The record distance in this race is 9 millimeters.\n",
    "The second race lasts 15 milliseconds. The record distance in this race is 40 millimeters.\n",
    "The third race lasts 30 milliseconds. The record distance in this race is 200 millimeters.\n",
    "Your toy boat has a starting speed of zero millimeters per millisecond. For each whole millisecond you spend at the beginning of the race holding down the button, the boat's speed increases by one millimeter per millisecond.\n",
    "\n",
    "So, because the first race lasts 7 milliseconds, you only have a few options:\n",
    "\n",
    "Don't hold the button at all (that is, hold it for 0 milliseconds) at the start of the race. The boat won't move; it will have traveled 0 millimeters by the end of the race.\n",
    "Hold the button for 1 millisecond at the start of the race. Then, the boat will travel at a speed of 1 millimeter per millisecond for 6 milliseconds, reaching a total distance traveled of 6 millimeters.\n",
    "Hold the button for 2 milliseconds, giving the boat a speed of 2 millimeters per millisecond. It will then get 5 milliseconds to move, reaching a total distance of 10 millimeters.\n",
    "Hold the button for 3 milliseconds. After its remaining 4 milliseconds of travel time, the boat will have gone 12 millimeters.\n",
    "Hold the button for 4 milliseconds. After its remaining 3 milliseconds of travel time, the boat will have gone 12 millimeters.\n",
    "Hold the button for 5 milliseconds, causing the boat to travel a total of 10 millimeters.\n",
    "Hold the button for 6 milliseconds, causing the boat to travel a total of 6 millimeters.\n",
    "Hold the button for 7 milliseconds. That's the entire duration of the race. You never let go of the button. The boat can't move until you let go of the button. Please make sure you let go of the button so the boat gets to move. 0 millimeters.\n",
    "Since the current record for this race is 9 millimeters, there are actually 4 different ways you could win: you could hold the button for 2, 3, 4, or 5 milliseconds at the start of the race.\n",
    "\n",
    "In the second race, you could hold the button for at least 4 milliseconds and at most 11 milliseconds and beat the record, a total of 8 different ways to win.\n",
    "\n",
    "In the third race, you could hold the button for at least 11 milliseconds and no more than 19 milliseconds and still beat the record, a total of 9 ways you could win.\n",
    "\n",
    "To see how much margin of error you have, determine the number of ways you can beat the record in each race; in this example, if you multiply these values together, you get 288 (4 * 8 * 9).\n",
    "\n",
    "Determine the number of ways you could beat the record in each race. What do you get if you multiply these numbers together?\n",
    "\n"
   ]
  },
  {
   "cell_type": "code",
   "execution_count": 24,
   "metadata": {},
   "outputs": [],
   "source": [
    "file_path = '../data/day6.txt'\n",
    "with open(file_path, 'r') as file:\n",
    "    lines = [line.strip() for line in file]"
   ]
  },
  {
   "cell_type": "code",
   "execution_count": 28,
   "metadata": {},
   "outputs": [
    {
     "data": {
      "text/plain": [
       "[[61, 430], [67, 1036], [75, 1307], [71, 1150]]"
      ]
     },
     "execution_count": 28,
     "metadata": {},
     "output_type": "execute_result"
    }
   ],
   "source": [
    "def parse_races(text_lines):\n",
    "    time_values = [int(value) for value in text_lines[0].split() if value.isdigit()]\n",
    "    distance_values = [int(value) for value in text_lines[1].split() if value.isdigit()]\n",
    "    races = [[time_values[i], distance_values[i]] for i in range(len(time_values))]\n",
    "\n",
    "    return races\n",
    "\n",
    "races = parse_races(lines)\n",
    "races"
   ]
  },
  {
   "cell_type": "markdown",
   "metadata": {},
   "source": [
    "travelled = load_time * time - load_time ** 2  \n",
    "travelled > record  \n",
    "load_time * time - load_time ** 2 > record  \n",
    "searching for corners  \n",
    "load_time * time - load_time ** 2 - record = 0  \n",
    "load_time ^ 2 - load_time * time + record = 0  \n",
    "our X is load_time  \n",
    "D = time ** 2 - 4*record  \n",
    "x1 = (time - D^0.5)/2  \n",
    "x2 = (time + D^0.5)/2"
   ]
  },
  {
   "cell_type": "code",
   "execution_count": 102,
   "metadata": {},
   "outputs": [
    {
     "data": {
      "text/plain": [
       "(1.6972243622680054, 5.302775637731995)"
      ]
     },
     "execution_count": 102,
     "metadata": {},
     "output_type": "execute_result"
    }
   ],
   "source": [
    "def find_roots(time, record):\n",
    "    D = time**2 - 4*record\n",
    "    x1 = (time - D**0.5)/2\n",
    "    x2 = (time + D**0.5)/2\n",
    "    return x1, x2\n",
    "x1, x2 = find_roots(time=7, record=9)\n",
    "x1, x2"
   ]
  },
  {
   "cell_type": "code",
   "execution_count": 15,
   "metadata": {},
   "outputs": [
    {
     "data": {
      "text/plain": [
       "4"
      ]
     },
     "execution_count": 15,
     "metadata": {},
     "output_type": "execute_result"
    }
   ],
   "source": [
    "import math\n",
    "\n",
    "def count_integers_between(x1, x2):\n",
    "    return math.floor(x2) - math.ceil(x1) + 1\n",
    "\n",
    "count_integers_between(x1, x2)"
   ]
  },
  {
   "cell_type": "code",
   "execution_count": 21,
   "metadata": {},
   "outputs": [
    {
     "name": "stdout",
     "output_type": "stream",
     "text": [
      "CPU times: user 1 µs, sys: 0 ns, total: 1 µs\n",
      "Wall time: 2.15 µs\n"
     ]
    }
   ],
   "source": [
    "%time\n",
    "output = 1\n",
    "for (time, record) in races:\n",
    "    x1, x2 = find_roots(time, record)\n",
    "    ways_to_win = count_integers_between(x1, x2)\n",
    "    output *= ways_to_win"
   ]
  },
  {
   "cell_type": "code",
   "execution_count": null,
   "metadata": {},
   "outputs": [],
   "source": [
    "output"
   ]
  },
  {
   "cell_type": "markdown",
   "metadata": {},
   "source": [
    "## Part 2"
   ]
  },
  {
   "cell_type": "code",
   "execution_count": 38,
   "metadata": {},
   "outputs": [
    {
     "data": {
      "text/plain": [
       "(61677571, 430103613071150)"
      ]
     },
     "execution_count": 38,
     "metadata": {},
     "output_type": "execute_result"
    }
   ],
   "source": [
    "total_time, total_distance = '', ''\n",
    "for (time, record) in races:\n",
    "    total_time += str(time)\n",
    "    total_distance += str(record)\n",
    "\n",
    "total_time = int(total_time)\n",
    "total_distance = int(total_distance)\n",
    "total_time, total_distance"
   ]
  },
  {
   "cell_type": "markdown",
   "metadata": {},
   "source": [
    "load_time ^ 2 - time * load_time + record = 0  "
   ]
  },
  {
   "attachments": {
    "image-2.png": {
     "image/png": "[encoded data removed]"
    },
    "image.png": {
     "image/png": "[encoded data removed]"
    }
   },
   "cell_type": "markdown",
   "metadata": {},
   "source": [
    "Reduced_quadratic_equation  \n",
    "![image-2.png](attachment:image-2.png)  \n",
    "![image.png](attachment:image.png)  \n",
    "p = -time  \n",
    "q = record"
   ]
  },
  {
   "cell_type": "code",
   "execution_count": 122,
   "metadata": {},
   "outputs": [
    {
     "data": {
      "text/plain": [
       "(8014958.51932342, 53662612.48067658, 45647654)"
      ]
     },
     "execution_count": 122,
     "metadata": {},
     "output_type": "execute_result"
    }
   ],
   "source": [
    "def find_roots_optimized(p, q):\n",
    "    p_half = p / 2\n",
    "    D_half = (p_half**2 - q)**0.5\n",
    "    x1 = -p_half + D_half\n",
    "    x2 = -p_half - D_half\n",
    "    if x1 > x2:\n",
    "        return x2, x1\n",
    "    return x1, x2\n",
    "x1, x2 = find_roots_optimized(p=-total_time, q=total_distance)\n",
    "x1, x2, count_integers_between(x1, x2)"
   ]
  },
  {
   "cell_type": "code",
   "execution_count": 123,
   "metadata": {},
   "outputs": [
    {
     "name": "stdout",
     "output_type": "stream",
     "text": [
      "CPU times: user 1 µs, sys: 0 ns, total: 1 µs\n",
      "Wall time: 2.15 µs\n"
     ]
    }
   ],
   "source": [
    "%time\n",
    "x1, x2 = find_roots_optimized(total_time, total_distance)\n",
    "output = count_integers_between(x1, x2)"
   ]
  },
  {
   "cell_type": "code",
   "execution_count": 66,
   "metadata": {},
   "outputs": [
    {
     "data": {
      "text/plain": [
       "45647654"
      ]
     },
     "execution_count": 66,
     "metadata": {},
     "output_type": "execute_result"
    }
   ],
   "source": [
    "output"
   ]
  },
  {
   "cell_type": "markdown",
   "metadata": {},
   "source": [
    "# Day 7"
   ]
  },
  {
   "cell_type": "markdown",
   "metadata": {},
   "source": [
    "## Part 1\n",
    "Because the journey will take a few days, she offers to teach you the game of Camel Cards. Camel Cards is sort of similar to poker except it's designed to be easier to play while riding a camel.\n",
    "\n",
    "In Camel Cards, you get a list of hands, and your goal is to order them based on the strength of each hand. A hand consists of five cards labeled one of A, K, Q, J, T, 9, 8, 7, 6, 5, 4, 3, or 2. The relative strength of each card follows this order, where A is the highest and 2 is the lowest.\n",
    "\n",
    "Every hand is exactly one type. From strongest to weakest, they are:\n",
    "\n",
    "- Five of a kind, where all five cards have the same label: AAAAA\n",
    "- Four of a kind, where four cards have the same label and one card has a different label: AA8AA\n",
    "- Full house, where three cards have the same label, and the remaining two cards share a different label: 23332\n",
    "- Three of a kind, where three cards have the same label, and the remaining two cards are each different from any other card in the hand: TTT98\n",
    "- Two pair, where two cards share one label, two other cards share a second label, and the remaining card has a third label: 23432\n",
    "- One pair, where two cards share one label, and the other three cards have a different label from the pair and each other: A23A4\n",
    "- High card, where all cards' labels are distinct: 23456\n",
    "Hands are primarily ordered based on type; for example, every full house is stronger than any three of a kind.\n",
    "\n",
    "If two hands have the same type, a second ordering rule takes effect. Start by comparing the first card in each hand. If these cards are different, the hand with the stronger first card is considered stronger. If the first card in each hand have the same label, however, then move on to considering the second card in each hand. If they differ, the hand with the higher second card wins; otherwise, continue with the third card in each hand, then the fourth, then the fifth.\n",
    "\n",
    "So, 33332 and 2AAAA are both four of a kind hands, but 33332 is stronger because its first card is stronger. Similarly, 77888 and 77788 are both a full house, but 77888 is stronger because its third card is stronger (and both hands have the same first and second card).\n",
    "\n",
    "To play Camel Cards, you are given a list of hands and their corresponding bid (your puzzle input). For example:\n",
    "```\n",
    "32T3K 765\n",
    "T55J5 684\n",
    "KK677 28\n",
    "KTJJT 220\n",
    "QQQJA 483\n",
    "```\n",
    "This example shows five hands; each hand is followed by its bid amount. **Each hand wins an amount equal to its bid multiplied by its rank, where the weakest hand gets rank 1, the second-weakest hand gets rank 2, and so on up to the strongest hand. Because there are five hands in this example, the strongest hand will have rank 5 and its bid will be multiplied by 5**.\n",
    "\n",
    "So, the first step is to put the hands in order of strength:\n",
    "\n",
    "32T3K is the only one pair and the other hands are all a stronger type, so it gets rank 1.  \n",
    "KK677 and KTJJT are both two pair. Their first cards both have the same label, but the second card of KK677 is stronger (K vs T), so KTJJT gets rank 2 and KK677 gets rank 3.  \n",
    "T55J5 and QQQJA are both three of a kind. QQQJA has a stronger first card, so it gets rank 5 and T55J5 gets rank 4.  \n",
    "Now, you can determine the total winnings of this set of hands by adding up the result of multiplying each hand's bid with its rank (765 * 1 + 220 * 2 + 28 * 3 + 684 * 4 + 483 * 5). So the total winnings in this example are 6440.  \n",
    "\n",
    "Find the rank of every hand in your set. What are the total winnings?"
   ]
  },
  {
   "cell_type": "code",
   "execution_count": 1,
   "metadata": {},
   "outputs": [],
   "source": [
    "file_path = '../data/day7.txt'\n",
    "with open(file_path, 'r') as file:\n",
    "    lines = [line.strip() for line in file]"
   ]
  },
  {
   "cell_type": "code",
   "execution_count": 16,
   "metadata": {},
   "outputs": [],
   "source": [
    "cards_priority = ('A', 'K', 'Q', 'J', 'T', '9', '8', '7', '6', '5', '4', '3', '2')"
   ]
  },
  {
   "cell_type": "code",
   "execution_count": 17,
   "metadata": {},
   "outputs": [
    {
     "data": {
      "text/plain": [
       "1"
      ]
     },
     "execution_count": 17,
     "metadata": {},
     "output_type": "execute_result"
    }
   ],
   "source": [
    "def compare_pair_of_cards(card1, card2, cards_priority):\n",
    "    # 1 - 1st if higher, 0 - continue\n",
    "    i1 = cards_priority.index(card1)\n",
    "    i2 = cards_priority.index(card2)\n",
    "    if i1 < i2:\n",
    "        return 1\n",
    "    elif i1 == i2:\n",
    "        return 0\n",
    "    else:\n",
    "        return -1\n",
    "    \n",
    "compare_pair_of_cards('A', 'Q', cards_priority)"
   ]
  },
  {
   "cell_type": "code",
   "execution_count": 18,
   "metadata": {},
   "outputs": [
    {
     "data": {
      "text/plain": [
       "-1"
      ]
     },
     "execution_count": 18,
     "metadata": {},
     "output_type": "execute_result"
    }
   ],
   "source": [
    "compare_pair_of_cards('9', 'Q', cards_priority)"
   ]
  },
  {
   "cell_type": "code",
   "execution_count": 36,
   "metadata": {},
   "outputs": [
    {
     "name": "stdout",
     "output_type": "stream",
     "text": [
      "AAAAA 6\n",
      "AAAA1 5\n",
      "1AAAA 5\n",
      "AAQQQ 4\n",
      "11133 4\n",
      "11123 3\n",
      "21113 3\n",
      "11223 2\n",
      "AATT4 2\n",
      "11345 1\n",
      "A3T3K 1\n",
      "23456 0\n"
     ]
    }
   ],
   "source": [
    "from collections import Counter\n",
    "def extract_combination(hand):\n",
    "    counter = Counter(hand)\n",
    "    pair_of_three = False\n",
    "    pair_of_twoo = False\n",
    "    for value, count in counter.most_common():  # ordered desc\n",
    "        # print(value, count)\n",
    "        if count == 5:\n",
    "            return 6\n",
    "        elif count == 4:\n",
    "            return 5\n",
    "        elif count == 3:\n",
    "            pair_of_three = True\n",
    "        elif count == 2:\n",
    "            if pair_of_three:\n",
    "                return 4\n",
    "            if pair_of_twoo:\n",
    "                return 2\n",
    "            pair_of_twoo = True\n",
    "    if pair_of_three:\n",
    "        return 3\n",
    "    if pair_of_twoo:\n",
    "        return 1\n",
    "    return 0\n",
    "\n",
    "for hand in ['AAAAA', 'AAAA1', '1AAAA', 'AAQQQ', '11133', '11123', '21113', '11223', 'AATT4', '11345', 'A3T3K', '23456']:\n",
    "    print(hand, extract_combination(hand))"
   ]
  },
  {
   "cell_type": "code",
   "execution_count": 46,
   "metadata": {},
   "outputs": [
    {
     "data": {
      "text/plain": [
       "-1"
      ]
     },
     "execution_count": 46,
     "metadata": {},
     "output_type": "execute_result"
    }
   ],
   "source": [
    "def _compare_hands(hand1, hand2, cards_priority):\n",
    "    comb1 = extract_combination(hand1)\n",
    "    comb2 = extract_combination(hand2)\n",
    "    if comb1 > comb2:\n",
    "        return 1\n",
    "    elif comb1 < comb2:\n",
    "        return -1\n",
    "    else:\n",
    "        for c1, c2 in zip(hand1, hand2):\n",
    "            res = compare_pair_of_cards(c1, c2, cards_priority)\n",
    "            if res != 0:\n",
    "                return res\n",
    "        return res\n",
    "    \n",
    "def compare_hands(hand1, hand2):\n",
    "    return _compare_hands(hand1, hand2, cards_priority)\n",
    "    \n",
    "compare_hands('32T3K', 'T55J5')"
   ]
  },
  {
   "cell_type": "code",
   "execution_count": 47,
   "metadata": {},
   "outputs": [
    {
     "data": {
      "text/plain": [
       "1"
      ]
     },
     "execution_count": 47,
     "metadata": {},
     "output_type": "execute_result"
    }
   ],
   "source": [
    "compare_hands('T55J5', '32T3K')"
   ]
  },
  {
   "cell_type": "code",
   "execution_count": 48,
   "metadata": {},
   "outputs": [
    {
     "data": {
      "text/plain": [
       "0"
      ]
     },
     "execution_count": 48,
     "metadata": {},
     "output_type": "execute_result"
    }
   ],
   "source": [
    "compare_hands('T55J5', 'T55J5')"
   ]
  },
  {
   "cell_type": "code",
   "execution_count": 49,
   "metadata": {},
   "outputs": [
    {
     "data": {
      "text/plain": [
       "['32T3K', 'KTJJT', 'KK677', 'T55J5', 'QQQJA']"
      ]
     },
     "execution_count": 49,
     "metadata": {},
     "output_type": "execute_result"
    }
   ],
   "source": [
    "from functools import cmp_to_key\n",
    "\n",
    "sorted(['32T3K', 'T55J5', 'KK677', 'KTJJT', 'QQQJA'], key=cmp_to_key(compare_hands))"
   ]
  },
  {
   "cell_type": "code",
   "execution_count": 50,
   "metadata": {},
   "outputs": [],
   "source": [
    "hands = []\n",
    "bids = []\n",
    "for l in lines:\n",
    "    hand, bid = l.split(' ')\n",
    "    hands.append(hand)\n",
    "    bids.append(int(bid))"
   ]
  },
  {
   "cell_type": "code",
   "execution_count": 55,
   "metadata": {},
   "outputs": [],
   "source": [
    "def compare_wrapper(pair1, pair2):\n",
    "    return compare_hands(pair1[0], pair2[0])\n",
    "\n",
    "combined = sorted(zip(hands, bids), key=cmp_to_key(compare_wrapper))"
   ]
  },
  {
   "cell_type": "code",
   "execution_count": 59,
   "metadata": {},
   "outputs": [],
   "source": [
    "sorted_hands, sorted_bids = zip(*combined)"
   ]
  },
  {
   "cell_type": "code",
   "execution_count": 63,
   "metadata": {},
   "outputs": [
    {
     "data": {
      "text/plain": [
       "248812215"
      ]
     },
     "execution_count": 63,
     "metadata": {},
     "output_type": "execute_result"
    }
   ],
   "source": [
    "sum([i*bid for i, bid in enumerate(sorted_bids, 1)])"
   ]
  },
  {
   "cell_type": "markdown",
   "metadata": {},
   "source": [
    "## Part 2\n",
    "To make things a little more interesting, the Elf introduces one additional rule. Now, J cards are jokers - wildcards that can act like whatever card would make the hand the strongest type possible.\n",
    "\n",
    "To balance this, J cards are now the weakest individual cards, weaker even than 2. The other cards stay in the same order: A, K, Q, T, 9, 8, 7, 6, 5, 4, 3, 2, J.\n",
    "\n",
    "J cards can pretend to be whatever card is best for the purpose of determining hand type; for example, QJJQ2 is now considered four of a kind. However, for the purpose of breaking ties between two hands of the same type, J is always treated as J, not the card it's pretending to be: JKKK2 is weaker than QQQQ2 because J is weaker than Q.\n",
    "\n",
    "Now, the above example goes very differently:\n",
    "```\n",
    "32T3K 765\n",
    "T55J5 684\n",
    "KK677 28\n",
    "KTJJT 220\n",
    "QQQJA 483\n",
    "```\n",
    "32T3K is still the only one pair; it doesn't contain any jokers, so its strength doesn't increase.\n",
    "KK677 is now the only two pair, making it the second-weakest hand.\n",
    "T55J5, KTJJT, and QQQJA are now all four of a kind! T55J5 gets rank 3, QQQJA gets rank 4, and KTJJT gets rank 5.\n",
    "With the new joker rule, the total winnings in this example are 5905.\n",
    "\n",
    "Using the new joker rule, find the rank of every hand in your set. What are the new total winnings?"
   ]
  },
  {
   "cell_type": "code",
   "execution_count": 84,
   "metadata": {},
   "outputs": [],
   "source": [
    "cards_priority = ('A', 'K', 'Q', 'T', '9', '8', '7', '6', '5', '4', '3', '2', 'J')\n",
    "\n",
    "from collections import Counter\n",
    "def extract_combination(hand):\n",
    "    counter = Counter(hand)\n",
    "    pair_of_three = False\n",
    "    pair_of_twoo = False\n",
    "\n",
    "    most_common_items = counter.most_common()\n",
    "    j_bonus = 0\n",
    "    for i, (k, v) in enumerate(most_common_items):\n",
    "        if k == 'J':\n",
    "            j_bonus = v\n",
    "            most_common_items.pop(i)\n",
    "\n",
    "    if j_bonus:\n",
    "        if most_common_items:\n",
    "            char, count = most_common_items[0]\n",
    "            most_common_items[0] = (char, count + j_bonus)\n",
    "        else:\n",
    "            return 6  # there was JJJJJ\n",
    "        \n",
    "    for value, count in most_common_items:  # ordered desc\n",
    "        # print(value, count)\n",
    "        if count == 5:\n",
    "            return 6\n",
    "        elif count == 4:\n",
    "            return 5\n",
    "        elif count == 3:\n",
    "            pair_of_three = True\n",
    "        elif count == 2:\n",
    "            if pair_of_three:\n",
    "                return 4\n",
    "            if pair_of_twoo:\n",
    "                return 2\n",
    "            pair_of_twoo = True\n",
    "    if pair_of_three:\n",
    "        return 3\n",
    "    if pair_of_twoo:\n",
    "        return 1\n",
    "    return 0"
   ]
  },
  {
   "cell_type": "code",
   "execution_count": 85,
   "metadata": {},
   "outputs": [
    {
     "data": {
      "text/plain": [
       "6"
      ]
     },
     "execution_count": 85,
     "metadata": {},
     "output_type": "execute_result"
    }
   ],
   "source": [
    "extract_combination('JJJJJ')"
   ]
  },
  {
   "cell_type": "code",
   "execution_count": 86,
   "metadata": {},
   "outputs": [
    {
     "data": {
      "text/plain": [
       "['32T3K', 'KK677', 'T55J5', 'QQQJA', 'KTJJT']"
      ]
     },
     "execution_count": 86,
     "metadata": {},
     "output_type": "execute_result"
    }
   ],
   "source": [
    "sorted(['32T3K', 'T55J5', 'KK677', 'KTJJT', 'QQQJA'], key=cmp_to_key(compare_hands))"
   ]
  },
  {
   "cell_type": "code",
   "execution_count": 87,
   "metadata": {},
   "outputs": [
    {
     "data": {
      "text/plain": [
       "250057090"
      ]
     },
     "execution_count": 87,
     "metadata": {},
     "output_type": "execute_result"
    }
   ],
   "source": [
    "combined = sorted(zip(hands, bids), key=cmp_to_key(compare_wrapper))\n",
    "sorted_hands, sorted_bids = zip(*combined)\n",
    "sum([i*bid for i, bid in enumerate(sorted_bids, 1)])"
   ]
  },
  {
   "cell_type": "markdown",
   "metadata": {},
   "source": [
    "# Day 8"
   ]
  },
  {
   "cell_type": "markdown",
   "metadata": {},
   "source": [
    "## Part 1"
   ]
  },
  {
   "cell_type": "code",
   "execution_count": 90,
   "metadata": {},
   "outputs": [
    {
     "data": {
      "text/plain": [
       "['LLRLRLLRRLRLRLLRRLRRRLRRRLRRLRRLRLRLRRRLLRLRRLRLRRRLRLLRRLRLRLLRRRLLRLRRRLRLRRLRRLRLLRRLRRLRLRLRLLRLLRRLRRLRRLRRLRRLRLLRLRLRRRLRRRLRRLRLRLRRLRRRLRLRRRLRLRLRLRRRLRRLRRLRRRLLLLRRLRRLRLRRRLRLRRRLRRLLLLRLRLRRRLRRRLRLRRLLRLRLRRRLRLRLRRRLRLLRRRLRRLRLRLRRRLRLLRRLLRRRLRRRLRRRLRRLRLRLRRRLRRRLRRRLLRRRR',\n",
       " '',\n",
       " 'NNN = (TNT, XDJ)',\n",
       " 'GKJ = (TQD, PDP)',\n",
       " 'VPC = (TST, FDJ)',\n",
       " 'MNG = (GQS, RVK)',\n",
       " 'JQF = (LLK, BQH)',\n",
       " 'HPS = (XDJ, TNT)',\n",
       " 'VSD = (GNK, HJS)',\n",
       " 'VGT = (KXR, FMP)',\n",
       " 'GQB = (GTX, HLC)',\n",
       " 'PLJ = (QCS, TVN)',\n",
       " 'BXM = (GMB, LBC)',\n",
       " 'XJQ = (NHG, NQD)',\n",
       " 'NKX = (KBJ, GTS)',\n",
       " 'PKT = (XFK, SKR)',\n",
       " 'HJB = (LRX, KQG)',\n",
       " 'SNM = (PLN, CJT)',\n",
       " 'LQD = (MTK, KMS)',\n",
       " 'KTN = (SSC, KPL)',\n",
       " 'LVJ = (CQJ, GPP)',\n",
       " 'GSV = (SNM, JKK)',\n",
       " 'CPH = (DCQ, FCP)',\n",
       " 'TDV = (JFD, HKH)',\n",
       " 'SBS = (NFC, CGC)',\n",
       " 'DBG = (GST, LGH)',\n",
       " 'LHS = (GHG, TRD)',\n",
       " 'BPP = (DLF, NJT)',\n",
       " 'TNT = (VNX, PTR)',\n",
       " 'VTN = (XHM, NMQ)',\n",
       " 'BRD = (KLF, HXJ)',\n",
       " 'TJT = (BVD, PFN)',\n",
       " 'GNK = (NMT, LLX)',\n",
       " 'DVH = (GQS, RVK)',\n",
       " 'KRJ = (QSP, TTQ)',\n",
       " 'KQC = (TNX, MDC)',\n",
       " 'XVS = (LRC, DLC)',\n",
       " 'XLP = (XCH, BJQ)',\n",
       " 'KQG = (LKK, TVP)',\n",
       " 'QHB = (JPL, JPL)',\n",
       " 'RGV = (SXB, FKH)',\n",
       " 'GSK = (JQN, THB)',\n",
       " 'XDT = (GLG, XKD)',\n",
       " 'XCT = (MMN, XDM)',\n",
       " 'KLF = (NPB, RRB)',\n",
       " 'XLT = (QRB, VHB)',\n",
       " 'HKS = (NNN, HPS)',\n",
       " 'NMT = (MSL, VXC)',\n",
       " 'PML = (NHN, FQH)',\n",
       " 'FMQ = (HGC, FBH)',\n",
       " 'JGG = (XTB, XTB)',\n",
       " 'KMC = (PPS, SVT)',\n",
       " 'GLG = (SPG, KFK)',\n",
       " 'QJN = (HJB, QCP)',\n",
       " 'SGH = (FDV, QPX)',\n",
       " 'DFM = (BFX, PNS)',\n",
       " 'CSK = (MDQ, GFX)',\n",
       " 'MXG = (MXC, BJV)',\n",
       " 'JTX = (SQN, JBK)',\n",
       " 'KFN = (VQM, PFH)',\n",
       " 'SFJ = (KDF, NKB)',\n",
       " 'JNK = (DLK, LHV)',\n",
       " 'DTG = (XHQ, DSR)',\n",
       " 'SHC = (FQV, HKK)',\n",
       " 'DBM = (VDP, PGK)',\n",
       " 'PNC = (LMH, RXH)',\n",
       " 'HXJ = (RRB, NPB)',\n",
       " 'MKS = (KMX, FKS)',\n",
       " 'NPA = (TPC, SNK)',\n",
       " 'LJK = (FPF, SHP)',\n",
       " 'LBH = (HQB, TTC)',\n",
       " 'JML = (LTN, SFS)',\n",
       " 'MXS = (FDL, SXH)',\n",
       " 'HHV = (VRL, JVC)',\n",
       " 'NQD = (KVJ, DXM)',\n",
       " 'HMA = (TVC, RBX)',\n",
       " 'BCP = (SQD, RGD)',\n",
       " 'SLP = (CQF, HXG)',\n",
       " 'KGF = (RPN, PKQ)',\n",
       " 'TGG = (VQM, PFH)',\n",
       " 'HQD = (MDV, GND)',\n",
       " 'BJX = (LCN, QMG)',\n",
       " 'NBQ = (NSV, VJR)',\n",
       " 'BBX = (KHG, FDC)',\n",
       " 'SSQ = (BNQ, MXX)',\n",
       " 'TST = (MJB, TDV)',\n",
       " 'JQL = (SDG, DLJ)',\n",
       " 'TVN = (SJM, KMC)',\n",
       " 'XHD = (DDG, RSG)',\n",
       " 'GQA = (NQS, CNH)',\n",
       " 'QFL = (QSQ, VVN)',\n",
       " 'THG = (FBM, VQX)',\n",
       " 'QLZ = (RBX, TVC)',\n",
       " 'TPM = (DQN, MGG)',\n",
       " 'QXV = (MTK, KMS)',\n",
       " 'VNX = (PTP, VSD)',\n",
       " 'STQ = (XDC, JFR)',\n",
       " 'XVQ = (PJM, MRN)',\n",
       " 'XTT = (BHF, RBR)',\n",
       " 'LQS = (DBB, HNR)',\n",
       " 'KXG = (FKS, KMX)',\n",
       " 'XCP = (MXK, DBX)',\n",
       " 'QRV = (JSK, STC)',\n",
       " 'VVG = (DRF, QNR)',\n",
       " 'FTC = (CSK, FPC)',\n",
       " 'GFV = (VSK, GFQ)',\n",
       " 'JSM = (LNC, XTF)',\n",
       " 'LJC = (JFG, XBK)',\n",
       " 'TQD = (XJQ, MFM)',\n",
       " 'HJS = (LLX, NMT)',\n",
       " 'CBP = (PTX, LGD)',\n",
       " 'LGT = (CTD, CTD)',\n",
       " 'HMP = (FQJ, KGC)',\n",
       " 'MSL = (MSD, BFL)',\n",
       " 'QPX = (QFH, JMK)',\n",
       " 'KBH = (MGF, TMH)',\n",
       " 'XMT = (MXC, BJV)',\n",
       " 'XGR = (KPF, DLH)',\n",
       " 'RGH = (MBM, KNT)',\n",
       " 'CDP = (BLG, NVN)',\n",
       " 'BLG = (TQC, DTD)',\n",
       " 'MSD = (RVP, RQP)',\n",
       " 'KXT = (CVM, JQL)',\n",
       " 'MRN = (MNX, PNC)',\n",
       " 'RLG = (BNP, VNR)',\n",
       " 'PSH = (XQG, SLP)',\n",
       " 'XTF = (NTT, VGT)',\n",
       " 'KVJ = (JVX, HPJ)',\n",
       " 'PGF = (KRJ, CRS)',\n",
       " 'VSV = (NKQ, PJG)',\n",
       " 'TLV = (QHJ, GFG)',\n",
       " 'BNP = (NFR, PGR)',\n",
       " 'XQG = (CQF, HXG)',\n",
       " 'KGC = (FKF, KCS)',\n",
       " 'HQF = (QPX, FDV)',\n",
       " 'PFN = (JGX, FMQ)',\n",
       " 'HFD = (DBG, CBD)',\n",
       " 'KQZ = (HXJ, KLF)',\n",
       " 'HPM = (VSV, LTR)',\n",
       " 'FGX = (SVR, GQB)',\n",
       " 'SGJ = (THB, JQN)',\n",
       " 'NKK = (QHB, QHB)',\n",
       " 'FLF = (RLC, MXP)',\n",
       " 'SRV = (QHM, LQS)',\n",
       " 'NPB = (BPG, CVQ)',\n",
       " 'VNR = (NFR, PGR)',\n",
       " 'FNF = (TXL, CXT)',\n",
       " 'PTB = (QXQ, BDK)',\n",
       " 'BXN = (HQF, SGH)',\n",
       " 'RGT = (MGN, GFN)',\n",
       " 'FSP = (VRK, QNN)',\n",
       " 'GHT = (PML, HTJ)',\n",
       " 'CBD = (LGH, GST)',\n",
       " 'LMH = (TJC, DNN)',\n",
       " 'PTP = (GNK, HJS)',\n",
       " 'XDC = (GHT, JTR)',\n",
       " 'HTJ = (NHN, FQH)',\n",
       " 'XFK = (NKX, HTV)',\n",
       " 'PBP = (CJJ, GKS)',\n",
       " 'KMX = (XSJ, PMK)',\n",
       " 'CVQ = (FKX, GXP)',\n",
       " 'SFV = (MXS, FLR)',\n",
       " 'BQH = (VMH, PKT)',\n",
       " 'NFR = (RTX, SBJ)',\n",
       " 'KCS = (XGR, JXT)',\n",
       " 'GND = (SFJ, DGL)',\n",
       " 'DTF = (JCC, LVC)',\n",
       " 'KLM = (XLP, QRQ)',\n",
       " 'VQV = (DNC, SST)',\n",
       " 'NKF = (KFN, TGG)',\n",
       " 'CJT = (LDP, QKM)',\n",
       " 'NPF = (TNC, LXF)',\n",
       " 'MHK = (MLX, NHX)',\n",
       " 'LGD = (DLP, CNJ)',\n",
       " 'MLF = (QKK, QRK)',\n",
       " 'LQB = (NKJ, SHN)',\n",
       " 'SNS = (KMV, HCG)',\n",
       " 'VPN = (HFV, LNX)',\n",
       " 'XTB = (XLT, VRF)',\n",
       " 'LNX = (HFB, QVF)',\n",
       " 'XGF = (NRN, KCF)',\n",
       " 'PNS = (JNQ, MCT)',\n",
       " 'BJG = (DNC, SST)',\n",
       " 'PQN = (SCL, VPX)',\n",
       " 'NGQ = (DGT, RLF)',\n",
       " 'GGX = (LQS, QHM)',\n",
       " 'VVT = (MHK, LTJ)',\n",
       " 'QJH = (XTF, LNC)',\n",
       " 'BBP = (FNX, RTK)',\n",
       " 'DDP = (JBR, KLD)',\n",
       " 'GDV = (KXT, BJT)',\n",
       " 'GDT = (CFB, PSH)',\n",
       " 'LGH = (CRK, SCF)',\n",
       " 'JNB = (DXQ, FBK)',\n",
       " 'DLH = (XJD, GDT)',\n",
       " 'NCQ = (MXP, RLC)',\n",
       " 'LXP = (SPR, RTF)',\n",
       " 'GRQ = (FNX, RTK)',\n",
       " 'KBJ = (DNB, TDP)',\n",
       " 'LXK = (CTD, JML)',\n",
       " 'DBB = (TJD, FNF)',\n",
       " 'RBR = (JTX, XKN)',\n",
       " 'GPD = (LXN, PLD)',\n",
       " 'JNM = (QRM, MSV)',\n",
       " 'LNC = (VGT, NTT)',\n",
       " 'GVT = (VVN, QSQ)',\n",
       " 'KCD = (GFB, MFL)',\n",
       " 'HDG = (VFQ, DTF)',\n",
       " 'RGD = (GGX, SRV)',\n",
       " 'KJK = (SRJ, QGV)',\n",
       " 'DSL = (MNG, DVH)',\n",
       " 'DSR = (VQV, BJG)',\n",
       " 'NHB = (HPS, NNN)',\n",
       " 'JVX = (JRT, GDQ)',\n",
       " 'TGB = (DCG, VXK)',\n",
       " 'MXN = (PST, GBF)',\n",
       " 'CTP = (XGM, SFV)',\n",
       " 'BPG = (GXP, FKX)',\n",
       " 'HRT = (LXF, TNC)',\n",
       " 'SST = (HDG, VJS)',\n",
       " 'PDP = (XJQ, MFM)',\n",
       " 'BDK = (TFM, GRM)',\n",
       " 'PPS = (RQV, BXN)',\n",
       " 'SSS = (TJQ, GNQ)',\n",
       " 'TXL = (QRV, PPH)',\n",
       " 'RRQ = (RXF, PGF)',\n",
       " 'PSX = (LLM, FXM)',\n",
       " 'FBK = (JDQ, DSX)',\n",
       " 'JLR = (LSM, NXT)',\n",
       " 'SPR = (DTG, RKQ)',\n",
       " 'PGC = (TJT, HXC)',\n",
       " 'LLD = (LHS, RLV)',\n",
       " 'NRH = (XBB, FGX)',\n",
       " 'SXH = (HMP, LSK)',\n",
       " 'JVC = (MLN, XKM)',\n",
       " 'MGF = (GGT, XMS)',\n",
       " 'TTS = (TNX, TNX)',\n",
       " 'FCP = (PLJ, KND)',\n",
       " 'LRX = (TVP, LKK)',\n",
       " 'VKJ = (PGN, XPX)',\n",
       " 'VRL = (XKM, MLN)',\n",
       " 'RQV = (SGH, HQF)',\n",
       " 'CRS = (QSP, TTQ)',\n",
       " 'BJC = (FCJ, TSC)',\n",
       " 'CSP = (BNM, FLN)',\n",
       " 'XHQ = (BJG, VQV)',\n",
       " 'CRK = (DKC, QQQ)',\n",
       " 'HFB = (BVM, VMP)',\n",
       " 'SQN = (QJN, KKV)',\n",
       " 'DGK = (FVX, RGT)',\n",
       " 'HTP = (HCF, HFR)',\n",
       " 'RFT = (NMF, DRL)',\n",
       " 'TRJ = (SHN, NKJ)',\n",
       " 'XJD = (PSH, CFB)',\n",
       " 'FQJ = (FKF, KCS)',\n",
       " 'VHB = (KDM, DSB)',\n",
       " 'SKR = (NKX, HTV)',\n",
       " 'LCN = (TLV, FMC)',\n",
       " 'MTC = (PST, GBF)',\n",
       " 'QRK = (XNR, SPD)',\n",
       " 'TCK = (MDK, BCP)',\n",
       " 'DNN = (HHV, MVS)',\n",
       " 'JNQ = (PBP, VDG)',\n",
       " 'NKQ = (MKX, HVD)',\n",
       " 'FTV = (MNG, DVH)',\n",
       " 'SJM = (SVT, PPS)',\n",
       " 'KCB = (NKK, CNF)',\n",
       " 'KJN = (PRV, BVK)',\n",
       " 'PRV = (SVP, FTM)',\n",
       " 'HFV = (HFB, QVF)',\n",
       " 'NFC = (FVC, TBN)',\n",
       " 'LMC = (QRK, QKK)',\n",
       " 'KNF = (CHN, GFV)',\n",
       " 'XNP = (SGJ, GSK)',\n",
       " 'QQB = (MLF, LMC)',\n",
       " 'CVM = (DLJ, SDG)',\n",
       " 'RSG = (LBH, TLD)',\n",
       " 'PGR = (RTX, SBJ)',\n",
       " 'VTD = (QGV, SRJ)',\n",
       " 'LBC = (PRH, CSP)',\n",
       " 'RKX = (NHL, XMM)',\n",
       " 'MXK = (XJN, PTB)',\n",
       " 'MJD = (DLC, LRC)',\n",
       " 'GDR = (FCX, KNF)',\n",
       " 'VXK = (THG, BPN)',\n",
       " 'GPP = (NRC, DHQ)',\n",
       " 'SDN = (FKH, SXB)',\n",
       " 'KJH = (BJX, VHX)',\n",
       " 'RNQ = (DNX, GPL)',\n",
       " 'VQX = (RXP, SSS)',\n",
       " 'PPH = (JSK, STC)',\n",
       " 'KKV = (HJB, QCP)',\n",
       " 'ZZZ = (FGX, XBB)',\n",
       " 'PTN = (KCD, HPQ)',\n",
       " 'GMP = (KHG, FDC)',\n",
       " 'NTT = (KXR, FMP)',\n",
       " 'GBF = (KXG, MKS)',\n",
       " 'VPX = (JFB, HSN)',\n",
       " 'SVG = (BPP, RPK)',\n",
       " 'PJG = (MKX, HVD)',\n",
       " 'HNR = (TJD, FNF)',\n",
       " 'XBB = (SVR, GQB)',\n",
       " 'FBM = (SSS, RXP)',\n",
       " 'RTX = (QJQ, KJN)',\n",
       " 'MSV = (KQH, LRF)',\n",
       " 'MGN = (LGT, LXK)',\n",
       " 'QDH = (CFV, DHZ)',\n",
       " 'NPR = (GDR, DCF)',\n",
       " 'HSN = (VLG, QNC)',\n",
       " 'PTM = (VGG, CQX)',\n",
       " 'VCP = (BCL, XDT)',\n",
       " 'LBP = (MPD, MPD)',\n",
       " 'NRK = (NNL, XKC)',\n",
       " 'QCT = (BBL, SVH)',\n",
       " 'RPL = (MMH, CDP)',\n",
       " 'RXH = (TJC, DNN)',\n",
       " 'DGL = (KDF, NKB)',\n",
       " 'GTQ = (PGF, RXF)',\n",
       " 'FXG = (BGH, MTH)',\n",
       " 'FQH = (VCJ, HPM)',\n",
       " 'LTN = (SCP, SCP)',\n",
       " 'JMK = (LPX, JNM)',\n",
       " 'SCL = (JFB, HSN)',\n",
       " 'TKV = (XHC, HQD)',\n",
       " 'BDT = (TTS, KQC)',\n",
       " 'MXX = (SKB, LPC)',\n",
       " 'RPN = (QJK, BXM)',\n",
       " 'MFL = (NDC, TPM)',\n",
       " 'DXM = (HPJ, JVX)',\n",
       " 'QXM = (LHS, RLV)',\n",
       " 'QHM = (HNR, DBB)',\n",
       " 'QRB = (KDM, DSB)',\n",
       " 'JMG = (PLD, LXN)',\n",
       " 'QSQ = (BNS, XNC)',\n",
       " 'CXA = (XLT, VRF)',\n",
       " 'MXC = (LQD, QXV)',\n",
       " 'CNJ = (QQP, PXV)',\n",
       " 'BPM = (BRD, BRD)',\n",
       " 'BFV = (FCJ, TSC)',\n",
       " 'KPL = (RPL, HBT)',\n",
       " 'JJR = (QNN, VRK)',\n",
       " 'KHG = (VDS, LKJ)',\n",
       " 'DRC = (HFR, HCF)',\n",
       " 'DLF = (RFT, STN)',\n",
       " 'GKS = (QQB, RLT)',\n",
       " 'TBD = (LFP, PQN)',\n",
       " 'XNC = (QBD, DDP)',\n",
       " 'TGC = (JNB, JXF)',\n",
       " 'KCF = (LBP, JHT)',\n",
       " 'NKB = (CCJ, RGH)',\n",
       " 'NPH = (JQF, QJC)',\n",
       " 'BJQ = (LJC, QMT)',\n",
       " 'GTS = (TDP, DNB)',\n",
       " 'XSJ = (KTN, VXJ)',\n",
       " 'QXQ = (GRM, TFM)',\n",
       " 'FCJ = (FKJ, DSK)',\n",
       " 'FPF = (CQH, HML)',\n",
       " 'VCJ = (LTR, VSV)',\n",
       " 'QJK = (LBC, GMB)',\n",
       " 'PMK = (VXJ, KTN)',\n",
       " 'FXM = (BNT, VVG)',\n",
       " 'DDG = (TLD, LBH)',\n",
       " 'MDB = (FDJ, TST)',\n",
       " 'BSF = (VXK, DCG)',\n",
       " 'BVK = (FTM, SVP)',\n",
       " 'RTG = (JSH, LKD)',\n",
       " 'BPN = (VQX, FBM)',\n",
       " 'BJT = (CVM, JQL)',\n",
       " 'DFS = (BCP, MDK)',\n",
       " 'GRM = (MDB, VPC)',\n",
       " 'TRD = (NRK, HPF)',\n",
       " 'FKH = (XHD, SNT)',\n",
       " 'LXF = (BDX, TKV)',\n",
       " 'JBK = (KKV, QJN)',\n",
       " 'JBP = (BNP, VNR)',\n",
       " 'PKF = (BJX, VHX)',\n",
       " 'DLK = (DGK, XST)',\n",
       " 'TFM = (MDB, VPC)',\n",
       " 'VDP = (VVR, MHR)',\n",
       " 'RDP = (VJR, NSV)',\n",
       " 'PTX = (CNJ, DLP)',\n",
       " 'DCG = (THG, BPN)',\n",
       " 'BCV = (LTJ, MHK)',\n",
       " 'FKJ = (NBQ, RDP)',\n",
       " 'PHK = (KGF, SBX)',\n",
       " 'JDQ = (PTN, RFF)',\n",
       " 'TNC = (BDX, TKV)',\n",
       " 'KCJ = (RPK, BPP)',\n",
       " 'DLJ = (FTC, TGF)',\n",
       " 'FQG = (GVT, QFL)',\n",
       " 'LFP = (SCL, VPX)',\n",
       " 'PBG = (KNC, PFX)',\n",
       " 'QCP = (LRX, KQG)',\n",
       " 'NRC = (GPD, JMG)',\n",
       " 'PHH = (DGT, RLF)',\n",
       " 'XCH = (LJC, QMT)',\n",
       " 'VXJ = (KPL, SSC)',\n",
       " 'TNX = (BPM, BPM)',\n",
       " 'PTR = (VSD, PTP)',\n",
       " 'NDC = (DQN, DQN)',\n",
       " 'SVT = (RQV, BXN)',\n",
       " 'NTJ = (SHC, QCM)',\n",
       " 'SHM = (SNM, JKK)',\n",
       " 'TLD = (TTC, HQB)',\n",
       " 'MMN = (JNK, RRS)',\n",
       " 'NPC = (MTC, MXN)',\n",
       " 'NMF = (QBM, CTP)',\n",
       " 'CQX = (NRH, ZZZ)',\n",
       " 'BNT = (DRF, QNR)',\n",
       " 'BJZ = (CNH, NQS)',\n",
       " 'KFK = (XCT, PPG)',\n",
       " 'SDG = (TGF, FTC)',\n",
       " 'CBB = (HFV, LNX)',\n",
       " 'VFQ = (LVC, JCC)',\n",
       " 'LRF = (KLM, JGL)',\n",
       " 'TTC = (JLR, GFT)',\n",
       " 'PFH = (SHG, XTT)',\n",
       " 'RLT = (MLF, LMC)',\n",
       " 'XPJ = (JPL, BJZ)',\n",
       " 'PKQ = (BXM, QJK)',\n",
       " 'TNS = (GDR, DCF)',\n",
       " 'FKX = (PKG, QQL)',\n",
       " 'MJB = (HKH, JFD)',\n",
       " 'JTN = (JSM, QJH)',\n",
       " 'QTG = (NRN, KCF)',\n",
       " 'MPX = (CHR, TGC)',\n",
       " 'JKK = (CJT, PLN)',\n",
       " 'LKK = (DRC, HTP)',\n",
       " 'RXF = (KRJ, CRS)',\n",
       " 'QNC = (LFB, FQG)',\n",
       " 'RKQ = (DSR, XHQ)',\n",
       " 'LCX = (PGK, VDP)',\n",
       " 'KSG = (LLD, QXM)',\n",
       " 'RPK = (NJT, DLF)',\n",
       " 'KDM = (KSG, PLL)',\n",
       " 'TVP = (HTP, DRC)',\n",
       " 'DCB = (NKK, NKK)',\n",
       " 'DQN = (STJ, STJ)',\n",
       " 'JSH = (TRS, GKJ)',\n",
       " 'LDP = (XGS, LJK)',\n",
       " 'QRM = (LRF, KQH)',\n",
       " 'VGG = (NRH, NRH)',\n",
       " 'LLK = (VMH, PKT)',\n",
       " 'VSK = (PHH, NGQ)',\n",
       " 'JFB = (VLG, QNC)',\n",
       " 'BCL = (XKD, GLG)',\n",
       " 'RTF = (RKQ, DTG)',\n",
       " 'KPF = (GDT, XJD)',\n",
       " 'DHZ = (SNK, TPC)',\n",
       " 'LPC = (DCB, KCB)',\n",
       " 'KDF = (RGH, CCJ)',\n",
       " 'PLL = (QXM, LLD)',\n",
       " 'XHS = (FXM, LLM)',\n",
       " 'BHF = (JTX, XKN)',\n",
       " 'RRS = (DLK, LHV)',\n",
       " 'FFL = (HKS, NHB)',\n",
       " 'VRF = (QRB, VHB)',\n",
       " 'LSQ = (MRN, PJM)',\n",
       " 'SCD = (MXK, DBX)',\n",
       " 'SPD = (FXG, RDX)',\n",
       " 'CFM = (PQN, LFP)',\n",
       " 'QKK = (SPD, XNR)',\n",
       " 'LVC = (JJR, FSP)',\n",
       " 'RLV = (TRD, GHG)',\n",
       " 'HKK = (SSP, XNP)',\n",
       " 'JCC = (FSP, JJR)',\n",
       " 'JHT = (MPD, SCN)',\n",
       " 'RVP = (XVQ, LSQ)',\n",
       " 'HPQ = (GFB, MFL)',\n",
       " 'JRT = (VTN, SKP)',\n",
       " 'DTD = (TGB, BSF)',\n",
       " 'PKG = (SKX, DGB)',\n",
       " 'VMP = (RLG, JBP)',\n",
       " 'DSX = (RFF, PTN)',\n",
       " 'QRQ = (BJQ, XCH)',\n",
       " 'LLX = (VXC, MSL)',\n",
       " 'SVH = (DFS, TCK)',\n",
       " 'XNR = (RDX, FXG)',\n",
       " 'QKM = (LJK, XGS)',\n",
       " 'MMH = (BLG, NVN)',\n",
       " 'SKB = (DCB, KCB)',\n",
       " 'JXT = (KPF, DLH)',\n",
       " 'SVV = (BCV, VVT)',\n",
       " 'KLD = (MHM, PVJ)',\n",
       " 'QNN = (SVV, NQK)',\n",
       " 'FCX = (GFV, CHN)',\n",
       " 'BNS = (QBD, DDP)',\n",
       " 'SHP = (HML, CQH)',\n",
       " 'TJD = (TXL, CXT)',\n",
       " 'BQF = (FCP, DCQ)',\n",
       " 'MKX = (SNS, CCN)',\n",
       " 'JKF = (NPH, KGL)',\n",
       " 'LFB = (QFL, GVT)',\n",
       " 'DCQ = (PLJ, KND)',\n",
       " 'SVP = (VGX, JCR)',\n",
       " 'PGN = (XMT, MXG)',\n",
       " 'NVZ = (VRF, XLT)',\n",
       " 'VBR = (BDM, LXP)',\n",
       " 'GTX = (PHK, DSN)',\n",
       " 'BDX = (XHC, HQD)',\n",
       " 'JGX = (HGC, FBH)',\n",
       " 'BBL = (DFS, TCK)',\n",
       " 'KNT = (BBX, GMP)',\n",
       " 'TLP = (LXH, TKF)',\n",
       " 'TDS = (CBB, VPN)',\n",
       " 'CTD = (LTN, LTN)',\n",
       " 'HCG = (RRQ, GTQ)',\n",
       " 'VRG = (TTS, KQC)',\n",
       " 'RLC = (TLP, FQX)',\n",
       " 'FBH = (DBM, LCX)',\n",
       " 'SCP = (TVC, RBX)',\n",
       " 'CGC = (TBN, FVC)',\n",
       " 'JFG = (NQP, GDV)',\n",
       " 'BVM = (RLG, JBP)',\n",
       " 'DCF = (KNF, FCX)',\n",
       " 'BJV = (QXV, LQD)',\n",
       " 'QBD = (JBR, KLD)',\n",
       " 'QFG = (BBL, SVH)',\n",
       " 'RFF = (HPQ, KCD)',\n",
       " 'QJQ = (PRV, BVK)',\n",
       " 'FMC = (QHJ, GFG)',\n",
       " 'PXV = (STQ, VHK)',\n",
       " 'VVN = (XNC, BNS)',\n",
       " 'NHG = (DXM, KVJ)',\n",
       " 'SSP = (SGJ, GSK)',\n",
       " 'QMT = (JFG, XBK)',\n",
       " 'VRK = (NQK, SVV)',\n",
       " 'SNT = (DDG, RSG)',\n",
       " 'RRB = (BPG, CVQ)',\n",
       " 'DXQ = (JDQ, DSX)',\n",
       " 'FMP = (SHM, GSV)',\n",
       " 'VMF = (FJX, VBR)',\n",
       " 'NKJ = (GKP, SBS)',\n",
       " 'XGM = (FLR, MXS)',\n",
       " 'SKX = (NLH, RTG)',\n",
       " 'XMS = (FDP, PRK)',\n",
       " 'SPG = (PPG, XCT)',\n",
       " 'QNR = (MPX, SXC)',\n",
       " 'MDC = (BPM, CTR)',\n",
       " 'SMR = (TJT, HXC)',\n",
       " 'TBN = (FJS, TDS)',\n",
       " 'BGH = (NPF, HRT)',\n",
       " 'VDS = (XHS, PSX)',\n",
       " 'RBX = (CDJ, PBG)',\n",
       " 'VLC = (CQJ, GPP)',\n",
       " 'SVR = (GTX, HLC)',\n",
       " 'MDV = (DGL, SFJ)',\n",
       " 'GMB = (CSP, PRH)',\n",
       " 'QSP = (TBD, CFM)',\n",
       " 'GFQ = (PHH, NGQ)',\n",
       " 'HXG = (BDT, VRG)',\n",
       " 'PPG = (XDM, MMN)',\n",
       " 'MSH = (SHC, QCM)',\n",
       " 'CHR = (JXF, JNB)',\n",
       " 'RDX = (MTH, BGH)',\n",
       " 'VXC = (MSD, BFL)',\n",
       " 'DLP = (PXV, QQP)',\n",
       " 'MXP = (FQX, TLP)',\n",
       " 'TTQ = (TBD, CFM)',\n",
       " 'GHG = (HPF, NRK)',\n",
       " 'SNK = (BQF, CPH)',\n",
       " 'MGG = (STJ, QDH)',\n",
       " 'CCJ = (MBM, KNT)',\n",
       " 'NNL = (KBH, LKC)',\n",
       " 'LKD = (GKJ, TRS)',\n",
       " 'GFN = (LGT, LXK)',\n",
       " 'QBM = (XGM, SFV)',\n",
       " 'STJ = (CFV, CFV)',\n",
       " 'DSK = (RDP, NBQ)',\n",
       " 'TSC = (FKJ, DSK)',\n",
       " 'NSV = (LQB, TRJ)',\n",
       " 'FKF = (XGR, JXT)',\n",
       " 'DNX = (NTJ, MSH)',\n",
       " 'NLH = (JSH, LKD)',\n",
       " 'CFV = (TPC, SNK)',\n",
       " 'DRP = (VBR, FJX)',\n",
       " 'BDM = (SPR, RTF)',\n",
       " 'TGF = (FPC, CSK)',\n",
       " 'CNH = (VXD, LFX)',\n",
       " 'BFL = (RQP, RVP)',\n",
       " 'XHC = (GND, MDV)',\n",
       " 'CJJ = (RLT, QQB)',\n",
       " 'HPH = (XMM, NHL)',\n",
       " 'PRH = (FLN, BNM)',\n",
       " 'JCR = (THT, VCP)',\n",
       " 'VHK = (XDC, JFR)',\n",
       " 'NQP = (KXT, BJT)',\n",
       " 'CDJ = (KNC, PFX)',\n",
       " 'SCF = (DKC, QQQ)',\n",
       " 'JBR = (MHM, PVJ)',\n",
       " 'TPC = (BQF, CPH)',\n",
       " 'FDC = (LKJ, VDS)',\n",
       " 'KNC = (XCQ, VKJ)',\n",
       " 'VQM = (SHG, XTT)',\n",
       " 'KND = (QCS, TVN)',\n",
       " 'MDM = (GPL, DNX)',\n",
       " 'FJX = (LXP, BDM)',\n",
       " 'BDV = (XTB, NVZ)',\n",
       " 'LBM = (KFN, TGG)',\n",
       " 'XKC = (KBH, LKC)',\n",
       " 'QVF = (VMP, BVM)',\n",
       " 'SHG = (RBR, BHF)',\n",
       " 'DNB = (SVC, SSQ)',\n",
       " 'SCN = (JGG, BDV)',\n",
       " 'SXC = (TGC, CHR)',\n",
       " 'XSL = (KCJ, SVG)',\n",
       " 'TKF = (VLC, LVJ)',\n",
       " 'LKJ = (XHS, PSX)',\n",
       " 'VHX = (QMG, LCN)',\n",
       " 'HGC = (LCX, DBM)',\n",
       " 'MLN = (HFD, KVM)',\n",
       " 'XDM = (JNK, RRS)',\n",
       " 'RTK = (PKD, NPC)',\n",
       " 'QQQ = (DSL, FTV)',\n",
       " 'VJS = (DTF, VFQ)',\n",
       " 'LLM = (VVG, BNT)',\n",
       " 'MFM = (NHG, NQD)',\n",
       " 'NQK = (VVT, BCV)',\n",
       " 'NHN = (HPM, VCJ)',\n",
       " 'SKP = (NMQ, XHM)',\n",
       " 'HXC = (BVD, PFN)',\n",
       " 'LSK = (FQJ, KGC)',\n",
       " 'FPC = (GFX, MDQ)',\n",
       " 'STC = (RBF, PTM)',\n",
       " 'CTR = (BRD, KQZ)',\n",
       " 'BNQ = (SKB, LPC)',\n",
       " 'QQL = (SKX, DGB)',\n",
       " 'NHX = (RKX, HPH)',\n",
       " 'QHJ = (GRQ, BBP)',\n",
       " 'XCQ = (XPX, PGN)',\n",
       " 'HTV = (GTS, KBJ)',\n",
       " 'JXF = (DXQ, FBK)',\n",
       " 'JTR = (HTJ, PML)',\n",
       " 'JHB = (JSM, QJH)',\n",
       " 'CQF = (BDT, VRG)',\n",
       " 'GNQ = (QCT, QFG)',\n",
       " 'TQC = (TGB, BSF)',\n",
       " 'SFS = (SCP, QLZ)',\n",
       " 'MDQ = (MJD, XVS)',\n",
       " 'DLC = (TMM, DFM)',\n",
       " 'FLN = (RGV, SDN)',\n",
       " 'PVJ = (QTG, XGF)',\n",
       " 'JFR = (JTR, GHT)',\n",
       " 'PGK = (VVR, MHR)',\n",
       " 'TDP = (SSQ, SVC)',\n",
       " 'RLF = (RKP, SKK)',\n",
       " 'HJN = (NHB, HKS)',\n",
       " 'VJR = (TRJ, LQB)',\n",
       " 'VGX = (VCP, THT)',\n",
       " 'DSB = (PLL, KSG)',\n",
       " 'FTM = (VGX, JCR)',\n",
       " 'MHR = (LBM, NKF)',\n",
       " 'JFD = (CBP, HLJ)',\n",
       " 'HKH = (CBP, HLJ)',\n",
       " 'FDV = (QFH, JMK)',\n",
       " 'NHL = (RQG, JKF)',\n",
       " 'CQJ = (DHQ, NRC)',\n",
       " 'HVD = (SNS, CCN)',\n",
       " 'PLN = (QKM, LDP)',\n",
       " 'THT = (BCL, XDT)',\n",
       " 'FDP = (SCD, XCP)',\n",
       " 'TJC = (HHV, MVS)',\n",
       " 'QCM = (HKK, FQV)',\n",
       " 'TJQ = (QCT, QFG)',\n",
       " 'HFR = (KJH, PKF)',\n",
       " 'RQG = (NPH, KGL)',\n",
       " 'SRJ = (TNS, NPR)',\n",
       " 'LTR = (NKQ, PJG)',\n",
       " 'XST = (FVX, RGT)',\n",
       " 'MBM = (GMP, BBX)',\n",
       " 'KVM = (CBD, DBG)',\n",
       " 'MVS = (VRL, JVC)',\n",
       " 'SSC = (RPL, HBT)',\n",
       " 'QQP = (VHK, STQ)',\n",
       " 'CHQ = (SVG, KCJ)',\n",
       " 'BVD = (FMQ, JGX)',\n",
       " 'FNX = (NPC, PKD)',\n",
       " 'FJS = (CBB, VPN)',\n",
       " 'PLD = (FFL, HJN)',\n",
       " 'TVC = (CDJ, PBG)',\n",
       " 'DBX = (XJN, PTB)',\n",
       " 'MDK = (SQD, RGD)',\n",
       " 'JPL = (NQS, CNH)',\n",
       " 'VDG = (GKS, CJJ)',\n",
       " 'HQB = (GFT, JLR)',\n",
       " 'GQS = (VMF, DRP)',\n",
       " 'PST = (MKS, KXG)',\n",
       " 'XGS = (SHP, FPF)',\n",
       " 'XDJ = (VNX, PTR)',\n",
       " 'MHM = (QTG, XGF)',\n",
       " 'SHN = (SBS, GKP)',\n",
       " 'LFX = (FLF, NCQ)',\n",
       " 'BFX = (JNQ, MCT)',\n",
       " 'XHM = (RNQ, MDM)',\n",
       " 'LXN = (HJN, FFL)',\n",
       " 'HPJ = (JRT, GDQ)',\n",
       " 'NVN = (DTD, TQC)',\n",
       " 'KGL = (QJC, JQF)',\n",
       " 'MCT = (PBP, VDG)',\n",
       " 'QFH = (LPX, JNM)',\n",
       " 'FVC = (FJS, TDS)',\n",
       " 'DRL = (QBM, CTP)',\n",
       " 'LTJ = (MLX, NHX)',\n",
       " 'THB = (JTN, JHB)',\n",
       " 'SBX = (RPN, PKQ)',\n",
       " 'KMV = (RRQ, GTQ)',\n",
       " 'MNX = (LMH, RXH)',\n",
       " 'LKC = (TMH, MGF)',\n",
       " 'TMM = (BFX, PNS)',\n",
       " 'TMH = (XMS, GGT)',\n",
       " 'LPX = (QRM, MSV)',\n",
       " 'STN = (DRL, NMF)',\n",
       " 'RKP = (CHQ, XSL)',\n",
       " 'DNC = (HDG, VJS)',\n",
       " 'XMM = (JKF, RQG)',\n",
       " 'GFT = (LSM, NXT)',\n",
       " 'LSM = (SMR, PGC)',\n",
       " 'FKS = (XSJ, PMK)',\n",
       " 'MPD = (JGG, JGG)',\n",
       " 'DKC = (DSL, FTV)',\n",
       " 'HLC = (DSN, PHK)',\n",
       " 'KMS = (BJC, BFV)',\n",
       " 'NJT = (RFT, STN)',\n",
       " 'JSK = (RBF, RBF)',\n",
       " 'HLJ = (LGD, PTX)',\n",
       " 'QMG = (TLV, FMC)',\n",
       " 'GPL = (NTJ, MSH)',\n",
       " 'RQP = (XVQ, LSQ)',\n",
       " 'GGT = (FDP, PRK)',\n",
       " 'XKN = (JBK, SQN)',\n",
       " 'FVX = (MGN, GFN)',\n",
       " 'GST = (CRK, SCF)',\n",
       " 'MTK = (BFV, BJC)',\n",
       " 'CCN = (KMV, HCG)',\n",
       " 'TRS = (PDP, TQD)',\n",
       " 'NRN = (LBP, JHT)',\n",
       " 'GFG = (GRQ, BBP)',\n",
       " 'XBK = (NQP, GDV)',\n",
       " 'CXT = (QRV, PPH)',\n",
       " 'FQV = (SSP, XNP)',\n",
       " 'GFB = (NDC, TPM)',\n",
       " 'VXD = (NCQ, FLF)',\n",
       " 'XPX = (MXG, XMT)',\n",
       " 'SQD = (SRV, GGX)',\n",
       " 'GKP = (NFC, CGC)',\n",
       " 'AAA = (XBB, FGX)',\n",
       " 'KXR = (SHM, GSV)',\n",
       " 'DGB = (RTG, NLH)',\n",
       " 'PJM = (PNC, MNX)',\n",
       " 'QGV = (NPR, TNS)',\n",
       " 'CFB = (SLP, XQG)',\n",
       " 'FDJ = (TDV, MJB)',\n",
       " 'DSN = (KGF, SBX)',\n",
       " 'FLR = (FDL, SXH)',\n",
       " 'JGL = (QRQ, XLP)',\n",
       " 'JQN = (JTN, JHB)',\n",
       " 'MTH = (NPF, HRT)',\n",
       " 'PRK = (SCD, XCP)',\n",
       " 'VHA = (KLF, HXJ)',\n",
       " 'VVR = (NKF, LBM)',\n",
       " 'CQH = (VTD, KJK)',\n",
       " 'DRF = (MPX, SXC)',\n",
       " 'FDL = (LSK, HMP)',\n",
       " 'PFX = (XCQ, VKJ)',\n",
       " 'HPF = (XKC, NNL)',\n",
       " 'LXH = (LVJ, VLC)',\n",
       " 'SVC = (MXX, BNQ)',\n",
       " 'GFX = (XVS, MJD)',\n",
       " 'DGT = (SKK, RKP)',\n",
       " 'XKD = (KFK, SPG)',\n",
       " 'XJN = (BDK, QXQ)',\n",
       " 'KQH = (KLM, JGL)',\n",
       " 'VMH = (SKR, XFK)',\n",
       " 'CHN = (VSK, GFQ)',\n",
       " 'LHV = (DGK, XST)',\n",
       " 'HCF = (PKF, KJH)',\n",
       " 'CNF = (QHB, XPJ)',\n",
       " 'QCS = (SJM, KMC)',\n",
       " 'GXP = (QQL, PKG)',\n",
       " 'SBJ = (QJQ, KJN)',\n",
       " 'DHQ = (GPD, JMG)',\n",
       " 'VLG = (FQG, LFB)',\n",
       " 'GDQ = (VTN, SKP)',\n",
       " 'NMQ = (MDM, RNQ)',\n",
       " 'XKM = (KVM, HFD)',\n",
       " 'BNM = (SDN, RGV)',\n",
       " 'MLX = (RKX, HPH)',\n",
       " 'QJC = (LLK, BQH)',\n",
       " 'HML = (KJK, VTD)',\n",
       " 'SKK = (CHQ, XSL)',\n",
       " 'FQX = (TKF, LXH)',\n",
       " 'PKD = (MXN, MTC)',\n",
       " 'NQS = (LFX, VXD)',\n",
       " 'HBT = (CDP, MMH)',\n",
       " 'LRC = (DFM, TMM)',\n",
       " 'NXT = (SMR, PGC)',\n",
       " 'SXB = (XHD, SNT)',\n",
       " 'RBF = (VGG, VGG)',\n",
       " 'RXP = (GNQ, TJQ)',\n",
       " 'RVK = (DRP, VMF)']"
      ]
     },
     "execution_count": 90,
     "metadata": {},
     "output_type": "execute_result"
    }
   ],
   "source": [
    "file_path = '../data/day8.txt'\n",
    "with open(file_path, 'r') as file:\n",
    "    lines = [line.strip() for line in file]\n",
    "\n",
    "lines"
   ]
  },
  {
   "cell_type": "code",
   "execution_count": 101,
   "metadata": {},
   "outputs": [],
   "source": [
    "instructions = lines[0]\n",
    "mapping = {l.split(' = ')[0]: l.split(' = ')[1][1:-1].split(', ') for l in lines[2:]}"
   ]
  },
  {
   "cell_type": "code",
   "execution_count": 106,
   "metadata": {},
   "outputs": [
    {
     "data": {
      "text/plain": [
       "'LLRLRLLRRLRLRLLRRLRRRLRRRLRRLRRLRLRLRRRLLRLRRLRLRRRLRLLRRLRLRLLRRRLLRLRRRLRLRRLRRLRLLRRLRRLRLRLRLLRLLRRLRRLRRLRRLRRLRLLRLRLRRRLRRRLRRLRLRLRRLRRRLRLRRRLRLRLRLRRRLRRLRRLRRRLLLLRRLRRLRLRRRLRLRRRLRRLLLLRLRLRRRLRRRLRLRRLLRLRLRRRLRLRLRRRLRLLRRRLRRLRLRLRRRLRLLRRLLRRRLRRRLRRRLRRLRLRLRRRLRRRLRRRLLRRRR'"
      ]
     },
     "execution_count": 106,
     "metadata": {},
     "output_type": "execute_result"
    }
   ],
   "source": [
    "instructions"
   ]
  },
  {
   "cell_type": "code",
   "execution_count": 108,
   "metadata": {},
   "outputs": [],
   "source": [
    "current_stage = 'AAA'\n",
    "total_steps = 0\n",
    "to_break = False\n",
    "while True:\n",
    "    for side in instructions:\n",
    "        if side == 'L':\n",
    "            current_stage = mapping[current_stage][0]\n",
    "        else:\n",
    "            current_stage = mapping[current_stage][1]\n",
    "        total_steps += 1\n",
    "\n",
    "        if current_stage == 'ZZZ':\n",
    "            to_break = True\n",
    "            break\n",
    "\n",
    "    if to_break:\n",
    "        break"
   ]
  },
  {
   "cell_type": "code",
   "execution_count": 109,
   "metadata": {},
   "outputs": [
    {
     "data": {
      "text/plain": [
       "23147"
      ]
     },
     "execution_count": 109,
     "metadata": {},
     "output_type": "execute_result"
    }
   ],
   "source": [
    "total_steps"
   ]
  },
  {
   "cell_type": "markdown",
   "metadata": {},
   "source": [
    "## Part 2"
   ]
  },
  {
   "cell_type": "markdown",
   "metadata": {},
   "source": [
    "We need sth like Least common multiple. It would be quite easy if it happened only at the end of the secuence. But this may happen anytime in the middle. To count LCM for each instruction step? The least is the first. A small boost may be achieved by removing the found beams from the loop.\n",
    "\n",
    "There should be some way to optimize paths and probably skip some sequences of steps. This may be achievable as we iterate over a small sequence of maps for millions of times"
   ]
  },
  {
   "cell_type": "code",
   "execution_count": 135,
   "metadata": {},
   "outputs": [],
   "source": [
    "from collections import defaultdict\n",
    "from tqdm.notebook import tqdm\n",
    "tqdm.pandas()"
   ]
  },
  {
   "cell_type": "code",
   "execution_count": 206,
   "metadata": {},
   "outputs": [
    {
     "data": {
      "application/vnd.jupyter.widget-view+json": {
       "model_id": "9375f1679bbe402c82571a8542b2563c",
       "version_major": 2,
       "version_minor": 0
      },
      "text/plain": [
       "  0%|          | 0/99 [00:00<?, ?it/s]"
      ]
     },
     "metadata": {},
     "output_type": "display_data"
    }
   ],
   "source": [
    "current_stages = [k for k in mapping if k[-1] == 'A']\n",
    "total_steps = 0\n",
    "to_break = False\n",
    "instructions_lcm = defaultdict(lambda: {i: [] for i, stage in enumerate(current_stages)})\n",
    "\n",
    "for iter in tqdm(range(1, 100)):\n",
    "    for instr_idx, side in enumerate(instructions):\n",
    "        if side == 'L':\n",
    "            current_stages = [mapping[current_stage][0] for current_stage in current_stages]\n",
    "        else:\n",
    "            current_stages = [mapping[current_stage][1] for current_stage in current_stages]\n",
    "        total_steps += 1\n",
    "\n",
    "        for i, current_stage in enumerate(current_stages):\n",
    "            if current_stage[-1] == 'Z':\n",
    "                instructions_lcm[instr_idx][i].append(iter)\n",
    "                if all(l for l in list(instructions_lcm[instr_idx].values())):\n",
    "                    to_break = True\n",
    "                    break\n",
    "        \n",
    "        if to_break:\n",
    "            break\n",
    "    \n",
    "    if to_break:\n",
    "            break"
   ]
  },
  {
   "cell_type": "code",
   "execution_count": 209,
   "metadata": {},
   "outputs": [
    {
     "name": "stdout",
     "output_type": "stream",
     "text": [
      "('Key 292 has non-empty lists: {0: [67], 1: [47], 2: [73], 3: [59], 4: [79], '\n",
      " '5: [71]}')\n"
     ]
    }
   ],
   "source": [
    "from pprint import pprint\n",
    "\n",
    "for key, inner_dict in instructions_lcm.items():\n",
    "    non_empty_lists = [lst for lst in inner_dict.values() if lst]\n",
    "    if len(non_empty_lists) == len(current_stages):\n",
    "        pprint(f\"Key {key} has non-empty lists: {inner_dict}\")"
   ]
  },
  {
   "cell_type": "markdown",
   "metadata": {},
   "source": [
    "all of them are prime"
   ]
  },
  {
   "cell_type": "code",
   "execution_count": 210,
   "metadata": {},
   "outputs": [
    {
     "name": "stdout",
     "output_type": "stream",
     "text": [
      "0 [67]\n",
      "1 [47]\n",
      "2 [73]\n",
      "3 [59]\n",
      "4 [79]\n",
      "5 [71]\n"
     ]
    }
   ],
   "source": [
    "lcm = 1\n",
    "for k, v in instructions_lcm[292].items():\n",
    "    print(k, v)\n",
    "    lcm *= v[0]"
   ]
  },
  {
   "cell_type": "code",
   "execution_count": 211,
   "metadata": {},
   "outputs": [
    {
     "data": {
      "text/plain": [
       "22289513667691"
      ]
     },
     "execution_count": 211,
     "metadata": {},
     "output_type": "execute_result"
    }
   ],
   "source": [
    "lcm*len(instructions)"
   ]
  },
  {
   "cell_type": "code",
   "execution_count": 2,
   "metadata": {},
   "outputs": [
    {
     "data": {
      "text/plain": [
       "155.92162045943385"
      ]
     },
     "execution_count": 2,
     "metadata": {},
     "output_type": "execute_result"
    }
   ],
   "source": [
    "# I stopped my fist attempt after 75 mins with the result of 7445485538\n",
    "expected_mins = 22289513667691 * 75 / 7445485538\n",
    "expected_hours = expected_mins / 60\n",
    "expected_days = expected_hours / 24\n",
    "expected_days"
   ]
  },
  {
   "cell_type": "markdown",
   "metadata": {},
   "source": [
    "# Day 9"
   ]
  },
  {
   "cell_type": "markdown",
   "metadata": {},
   "source": [
    "## Part 1"
   ]
  },
  {
   "cell_type": "code",
   "execution_count": 1,
   "metadata": {},
   "outputs": [
    {
     "data": {
      "text/plain": [
       "['12 23 42 82 168 344 680 1276 2260 3777 5966 8922 12640 16938 21356 25028 26524 23659 13266 -9070 -49320',\n",
       " '15 34 71 134 240 423 740 1277 2160 3570 5754 9047 14050 22517 40542 87994 223135 601424 1607163 4133978 10159334',\n",
       " '15 39 81 147 248 422 771 1513 3049 6045 11529 21003 36570 61076 98267 152961 231235 340627 490353 691539 957468',\n",
       " '6 11 39 100 210 397 707 1227 2161 4026 8085 17220 37600 81773 174330 362339 734970 1461479 2866653 5582890 10857048',\n",
       " '10 21 40 70 110 160 247 497 1286 3512 9042 21403 46799 95536 183913 336607 589690 995214 1631382 2631681 4270936',\n",
       " '27 38 57 93 169 347 778 1790 4032 8709 17982 35689 68709 129621 241968 450775 843758 1594525 3051300 5919610 11636474',\n",
       " '0 -4 -8 -12 -16 -20 -24 -28 -32 -36 -40 -44 -48 -52 -56 -60 -64 -68 -72 -76 -80',\n",
       " '1 -2 -3 16 82 231 523 1096 2290 4870 10357 21425 42223 78313 135653 217669 318919 413118 432325 232846 -458168',\n",
       " '13 12 21 69 199 471 972 1841 3324 5890 10472 18967 35283 67555 132843 266976 544707 1119752 2301727 4699093 9476243',\n",
       " '13 33 65 109 165 233 313 405 509 625 753 893 1045 1209 1385 1573 1773 1985 2209 2445 2693',\n",
       " '1 -7 -8 18 99 273 589 1103 1865 2893 4130 5380 6219 5877 3087 -4103 -18559 -44335 -86996 -153994 -255101',\n",
       " '3 17 45 93 165 264 395 571 824 1221 1892 3125 5745 12419 31491 86912 241517 647397 1647963 3973625 9099649',\n",
       " '10 23 36 54 93 182 365 703 1276 2185 3554 5532 8295 12048 17027 23501 31774 42187 55120 70994 90273',\n",
       " '12 25 56 107 187 336 661 1384 2902 5859 11230 20417 35357 58642 93651 144694 217168 317725 454452 637063 877103',\n",
       " '26 52 92 163 304 579 1070 1857 2998 4558 6798 10729 19368 40209 89648 200383 433154 894600 1763496 3328199 6038784',\n",
       " '-2 4 21 57 124 243 467 947 2087 4859 11374 25825 55922 114901 224068 415613 735200 1244058 2022171 3180313 4904132',\n",
       " '2 8 22 52 121 282 649 1447 3091 6335 12598 24686 48299 94956 187324 368505 717934 1379022 2609637 4880779 9081913',\n",
       " '20 24 36 69 136 250 424 671 1004 1436 1980 2649 3456 4414 5536 6835 8324 10016 11924 14061 16440',\n",
       " '5 11 26 50 83 125 176 236 305 383 470 566 671 785 908 1040 1181 1331 1490 1658 1835',\n",
       " '12 22 23 24 48 144 418 1087 2572 5679 11974 24545 49482 98650 194806 381099 739121 1424384 2738677 5282639 10285311',\n",
       " '5 6 13 28 53 90 141 208 293 398 525 676 853 1058 1293 1560 1861 2198 2573 2988 3445',\n",
       " '10 16 41 102 234 506 1054 2152 4351 8726 17285 33631 64079 119717 220538 404035 742961 1380936 2601168 4954146 9486849',\n",
       " '15 15 18 32 74 184 464 1152 2736 6111 12795 25277 47725 87635 159744 295021 560437 1100595 2221932 4556766 9371860',\n",
       " '17 33 61 120 248 516 1061 2159 4365 8753 17295 33424 62832 114560 202443 346979 577697 936105 1479305 2284368 3453568',\n",
       " '22 49 90 156 268 457 764 1240 1946 2953 4342 6204 8640 11761 15688 20552 26494 33665 42226 52348 64212',\n",
       " '20 36 73 141 257 455 802 1430 2605 4884 9472 18990 39005 80867 166705 338022 670560 1300620 2472769 4626995 8555831',\n",
       " '23 50 96 173 301 507 816 1225 1662 1961 1934 1707 2654 9616 35844 113649 316753 805908 1919180 4344905 9442347',\n",
       " '26 37 39 32 27 65 248 783 2040 4632 9560 18577 35201 67391 134001 279031 600774 1307683 2819725 5943834 12165623',\n",
       " '21 37 61 107 198 368 672 1208 2155 3831 6775 11857 20420 34458 56834 91542 144017 221497 333441 492007 712594',\n",
       " '4 2 -3 -6 16 117 394 1006 2223 4545 8949 17340 33299 63236 118068 215550 383390 663276 1115933 1827310 2915970',\n",
       " '7 5 7 23 82 257 711 1785 4160 9138 19104 38254 73705 137144 247226 432998 738709 1230467 2005325 3203521 5024764',\n",
       " '2 18 49 96 159 249 410 749 1469 2897 5496 9847 16584 26262 39135 54818 71804 86804 93875 83298 40165',\n",
       " '15 26 33 31 22 23 72 239 657 1604 3708 8453 19418 45245 106508 250980 586179 1345990 3021895 6612319 14080774',\n",
       " '12 29 67 144 279 503 879 1531 2686 4737 8339 14554 25065 42483 70775 115845 186304 294469 457635 699668 1052971',\n",
       " '19 23 32 47 59 55 31 16 127 708 2665 8203 22309 55516 128736 281274 583539 1156461 2200214 4035543 7161807',\n",
       " '10 9 16 45 125 309 685 1389 2620 4657 7878 12781 20007 30365 44859 64717 91422 126745 172780 231981 307201',\n",
       " '8 17 41 85 154 258 419 674 1059 1548 1914 1491 -1120 -8181 -22171 -42982 -60172 -35063 136561 696871 2159272',\n",
       " '6 2 9 46 144 356 768 1524 2902 5509 10696 21316 42928 85429 164786 303955 531245 873760 1344656 1929684 2599487',\n",
       " '7 13 39 95 204 419 839 1630 3062 5586 10021 18045 33466 65340 135201 293071 651731 1458387 3242246 7115374 15381672',\n",
       " '13 16 13 9 17 60 180 465 1108 2512 5452 11299 22302 41912 75117 128739 211623 334624 510271 751957 1072471',\n",
       " '6 2 -2 -6 -10 -14 -18 -22 -26 -30 -34 -38 -42 -46 -50 -54 -58 -62 -66 -70 -74',\n",
       " '11 21 51 123 270 550 1073 2042 3808 6951 12433 21930 38539 68170 122065 221025 402057 728257 1302799 2287877 3929316',\n",
       " '11 24 51 94 158 269 509 1079 2406 5315 11292 22869 44167 81638 145052 248780 413429 667890 1051865 1618944 2440308',\n",
       " '11 9 8 11 21 41 74 123 191 281 396 539 713 921 1166 1451 1779 2153 2576 3051 3581',\n",
       " '21 46 95 196 399 782 1466 2650 4690 8266 14709 26617 49028 91734 173958 333777 646619 1260214 2457923 4768850 9152061',\n",
       " '-7 5 31 71 125 193 275 371 481 605 743 895 1061 1241 1435 1643 1865 2101 2351 2615 2893',\n",
       " '3 17 47 97 176 318 630 1394 3267 7653 17382 37962 79934 163342 326127 639455 1234643 2348417 4395537 8079943 14556772',\n",
       " '1 5 16 41 92 192 388 781 1600 3380 7367 16390 36645 81173 176337 373376 768211 1534183 2974410 5603063 10268194',\n",
       " '16 36 57 83 133 258 583 1386 3218 7059 14511 28075 51691 92031 161701 286836 524079 996507 1966292 3976716 8123144',\n",
       " '12 25 48 88 169 350 745 1545 3042 5654 9963 16846 27992 47642 87632 180451 410268 981779 2364538 5581148 12758639',\n",
       " '19 29 50 106 228 460 871 1570 2721 4555 7376 11558 17530 25746 36637 50542 67615 87705 110206 133874 156608',\n",
       " '-10 -19 -27 -29 -20 5 51 123 226 365 545 771 1048 1381 1775 2235 2766 3373 4061 4835 5700',\n",
       " '13 38 79 139 222 344 567 1074 2311 5237 11749 25392 52543 104430 200766 376821 698259 1293730 2427213 4656039 9165638',\n",
       " '19 38 69 120 196 308 498 884 1726 3509 7050 13696 25837 48275 91545 179170 362157 745928 1537467 3123904 6198218',\n",
       " '24 49 86 150 269 484 849 1431 2310 3579 5344 7724 10851 14870 19939 26229 33924 43221 54330 67474 82889',\n",
       " '7 18 29 40 51 62 73 84 95 106 117 128 139 150 161 172 183 194 205 216 227',\n",
       " '24 47 78 112 144 169 182 178 152 99 14 -108 -272 -483 -746 -1066 -1448 -1897 -2418 -3016 -3696',\n",
       " '9 2 2 29 110 272 529 867 1250 1704 2586 5226 13282 35444 90674 218126 495443 1071502 2223126 4450075 8629042',\n",
       " '1 6 25 67 149 308 617 1205 2297 4315 8109 15411 29632 57200 109894 209324 396293 750976 1435741 2782551 5463323',\n",
       " '14 25 52 116 250 505 956 1708 2902 4721 7396 11212 16514 23713 33292 45812 61918 82345 107924 139588 178378',\n",
       " '1 19 46 89 178 377 800 1650 3323 6656 13448 27446 56064 113192 223554 429189 798757 1440513 2519946 4283247 7087950',\n",
       " '23 33 54 103 195 353 629 1145 2178 4330 8843 18140 36696 72368 138340 255868 458041 794807 1339548 2197525 3516553',\n",
       " '13 32 51 66 79 100 142 209 281 305 207 -53 -353 -169 1826 8384 24597 59190 126291 247792 456431',\n",
       " '16 27 51 108 230 461 857 1486 2428 3775 5631 8112 11346 15473 20645 27026 34792 44131 55243 68340 83646',\n",
       " '12 4 4 27 97 261 612 1319 2671 5172 9783 18503 35622 70173 140365 281103 556102 1076588 2029158 3716051 6611871',\n",
       " '0 8 23 54 123 265 528 973 1674 2718 4205 6248 8973 12519 17038 22695 29668 38148 48339 60458 74735',\n",
       " '13 28 41 46 44 60 169 540 1521 3810 8783 19072 39490 78366 149266 272961 479501 810760 1325705 2115606 3347448',\n",
       " '10 36 89 189 375 724 1379 2596 4835 8954 16639 31352 60365 118985 239073 485798 989906 2008729 4039473 8025686 15726089',\n",
       " '14 21 37 76 152 279 471 742 1106 1577 2169 2896 3772 4811 6027 7434 9046 10877 12941 15252 17824',\n",
       " '4 23 54 97 150 204 247 301 532 1486 4523 12582 31599 73400 162073 348415 742439 1584669 3397580 7296726 15609169',\n",
       " '8 14 17 9 -18 -55 -47 148 812 2432 5777 11987 22674 40035 66977 107254 165616 247970 361553 515117 719126',\n",
       " '-6 -5 14 69 182 375 672 1127 1915 3561 7468 17075 40274 94194 214185 469888 992764 2021515 3974646 7563229 13962050',\n",
       " '-7 -6 3 28 83 197 442 997 2271 5123 11246 23837 48787 96856 187753 357880 674949 1265048 2361413 4389658 8112139',\n",
       " '17 29 52 93 175 349 710 1421 2749 5117 9176 15901 26715 43645 69514 108173 164777 246109 360956 520541 739015',\n",
       " '16 21 25 37 86 235 599 1379 2936 5956 11806 23271 46045 91750 184157 372288 758444 1558423 3229987 6742565 14131100',\n",
       " '21 44 72 97 115 134 191 389 964 2388 5507 11703 23056 42466 73676 121115 189455 282748 402978 547829 707433',\n",
       " '2 13 51 142 332 698 1374 2605 4842 8891 16129 28800 50404 86192 143780 233895 371266 575673 873167 1297474 1891596',\n",
       " '-3 -4 -4 9 56 172 416 886 1739 3216 5672 9611 15726 24944 38476 57872 85081 122516 173124 240461 328772',\n",
       " '19 25 33 48 84 189 495 1300 3199 7317 15775 32655 65938 131202 258381 503887 972651 1859993 3535757 6721174 12868440',\n",
       " '6 19 53 133 311 693 1480 3033 5981 11400 21100 38066 67108 115784 195669 324052 526152 837953 1309767 2010643 3033749',\n",
       " '6 23 54 104 195 376 732 1399 2599 4721 8508 15508 29189 57643 119845 259373 572956 1267205 2767030 5916226 12338927',\n",
       " '17 28 34 33 24 11 20 131 528 1584 4047 9514 21640 49058 112038 256981 586879 1323687 2933530 6373928 13574464',\n",
       " '-3 4 21 51 105 213 434 875 1742 3459 6904 13824 27504 53778 102483 189470 339299 588758 991359 1622977 2588811',\n",
       " '13 25 55 113 225 449 904 1831 3718 7546 15273 30806 61970 124436 249300 497110 982731 1917647 3679267 6920687 12739335',\n",
       " '2 7 17 44 106 227 437 772 1274 1991 2977 4292 6002 8179 10901 14252 18322 23207 29009 35836 43802',\n",
       " '17 23 28 34 56 131 336 832 1965 4491 10062 22220 48288 102684 212226 423765 813665 1496731 2628376 4386946 6911520',\n",
       " '-2 12 38 85 176 357 708 1352 2460 4252 7004 11119 17476 28672 52658 112029 265450 653240 1588186 3726829 8377872',\n",
       " '6 8 10 18 37 69 111 153 176 150 32 -236 -729 -1541 -2787 -4605 -7158 -10636 -15258 -21274 -28967',\n",
       " '19 32 67 132 238 408 692 1190 2083 3682 6534 11681 21272 39920 77557 155217 316419 649028 1326253 2681698 5343402',\n",
       " '9 13 15 14 11 13 45 185 643 1915 5078 12386 28533 63352 137456 293614 618821 1285549 2626241 5263674 10332631',\n",
       " '16 26 38 52 68 86 106 128 152 178 206 236 268 302 338 376 416 458 502 548 596',\n",
       " '15 17 15 0 -42 -124 -236 -296 -58 1059 4308 12301 30382 69227 149452 309246 616213 1184609 2198865 3943522 6838250',\n",
       " '13 34 77 158 292 502 849 1495 2813 5560 11131 21914 41768 76648 135403 230775 380629 609446 950113 1446046 2153684',\n",
       " '29 50 89 159 280 490 863 1537 2772 5090 9596 18641 37065 74350 148120 289547 551359 1019298 1828043 3182795 5387918',\n",
       " '14 20 36 72 149 317 676 1400 2764 5174 9200 15612 25419 39911 60704 89788 129578 182968 253388 344864 462081',\n",
       " '18 33 48 66 95 157 309 688 1613 3806 8824 19824 42825 88716 176442 338164 627848 1135839 2013700 3516158 6070647',\n",
       " '3 11 37 102 253 583 1273 2672 5439 10784 20859 39374 72595 131145 233723 415411 746339 1372141 2597305 5048170 9976569',\n",
       " '0 1 21 79 212 487 1024 2049 4009 7805 15242 29878 58635 114950 225182 442034 873022 1740613 3507271 7129617 14561582',\n",
       " '14 26 46 95 206 436 885 1716 3177 5654 9845 17260 31459 60807 124182 262286 559538 1186104 2478626 5095643 10316494',\n",
       " '-4 -1 13 47 112 219 374 578 848 1281 2193 4399 9800 22685 52674 121271 276057 620630 1376470 3008722 6478201',\n",
       " '-1 0 5 28 87 209 453 975 2173 4961 11234 24626 51794 104808 205998 398114 765319 1474902 2856323 5544028 10724189',\n",
       " '2 11 45 112 217 362 544 761 1051 1612 3096 7268 18426 46373 112435 261189 582408 1250505 2592783 5203456 10128151',\n",
       " '1 10 29 71 160 332 637 1159 2098 3994 8216 17889 39501 85564 179013 360790 703924 1341902 2529732 4780667 9176991',\n",
       " '-10 -20 -23 4 95 295 660 1257 2164 3470 5275 7690 10837 14849 19870 26055 33570 42592 53309 65920 80635',\n",
       " '11 9 21 59 135 261 449 711 1059 1505 2061 2739 3551 4509 5625 6911 8379 10041 11909 13995 16311',\n",
       " '1 19 51 97 157 231 319 421 537 667 811 969 1141 1327 1527 1741 1969 2211 2467 2737 3021',\n",
       " '-3 -1 10 39 104 238 513 1097 2359 5037 10484 21007 40314 74084 130675 221985 364481 580411 899214 1359143 2009116',\n",
       " '1 10 20 30 39 44 44 60 185 677 2101 5525 12816 27236 54922 108622 216493 441168 918078 1927684 4024457',\n",
       " '11 11 11 24 76 206 462 893 1537 2405 3461 4598 5610 6160 5744 3651 -1081 -9713 -23857 -45532 -77224',\n",
       " '18 22 26 28 26 25 41 99 234 523 1207 3022 7991 21246 55208 139195 341286 816868 1912760 4381912 9808620',\n",
       " '22 34 61 124 262 539 1047 1910 3313 5620 9728 17964 36115 77645 171868 378894 815640 1699206 3416575 6633036 12456092',\n",
       " '4 10 16 22 28 34 40 46 52 58 64 70 76 82 88 94 100 106 112 118 124',\n",
       " '5 4 3 2 1 0 -1 -2 -3 -4 -5 -6 -7 -8 -9 -10 -11 -12 -13 -14 -15',\n",
       " '9 8 21 69 176 372 699 1212 1959 2919 3883 4288 3066 -1343 -10535 -24783 -40075 -42542 1113 159039 557924',\n",
       " '1 16 60 158 358 738 1408 2507 4195 6640 10000 14400 19904 26482 33972 42037 50117 57376 62644 64354 60474',\n",
       " '20 22 21 17 10 0 -13 -29 -48 -70 -95 -123 -154 -188 -225 -265 -308 -354 -403 -455 -510',\n",
       " '-3 5 23 60 143 319 656 1258 2334 4412 8884 19231 43538 99304 222123 480607 1000995 2006303 3876685 7239966 13104153',\n",
       " '10 15 25 44 88 208 523 1256 2764 5551 10251 17566 28142 42364 60049 80014 99494 113383 113269 86232 13372',\n",
       " '13 37 81 153 272 480 861 1571 2883 5251 9397 16425 27966 46358 74865 117939 181529 273441 403753 585289 834156',\n",
       " '2 7 28 68 140 291 635 1395 2954 5915 11170 19978 34052 55655 87705 133889 198786 287999 408296 567760 775948',\n",
       " '20 28 50 96 174 294 475 763 1288 2415 5077 11414 25876 56981 119980 240885 463014 859349 1559953 2818936 5181974',\n",
       " '7 13 15 4 -22 -46 -20 147 601 1555 3301 6222 10804 17648 27482 41173 59739 84361 116395 157384 209070',\n",
       " '17 38 79 147 243 361 487 598 661 632 455 61 -633 -1725 -3329 -5576 -8615 -12614 -17761 -24265 -32357',\n",
       " '4 8 17 36 79 179 408 922 2076 4699 10679 24083 53127 113416 232994 459879 872908 1596882 2823181 4837214 8054279',\n",
       " '-6 -14 -17 -3 44 151 373 826 1744 3570 7093 13645 25374 45611 79351 133870 219502 350602 546723 834037 1247032',\n",
       " '16 17 11 6 33 172 590 1587 3655 7582 14694 27463 51007 96643 189932 388072 815806 1736311 3685345 7715308 15823521',\n",
       " '0 1 14 52 147 372 878 1951 4092 8121 15304 27500 47323 78312 125100 193571 290992 426105 609162 851884 1167323',\n",
       " '-8 -12 -16 -20 -24 -28 -32 -36 -40 -44 -48 -52 -56 -60 -64 -68 -72 -76 -80 -84 -88',\n",
       " '7 19 31 43 55 67 79 91 103 115 127 139 151 163 175 187 199 211 223 235 247',\n",
       " '18 32 52 91 175 357 745 1552 3186 6428 12816 25489 50979 102809 208305 420810 840554 1648848 3162100 5914471 10780879',\n",
       " '11 17 30 73 191 465 1027 2076 3901 6929 11845 19909 33795 59746 112848 229237 492797 1090457 2421002 5299149 11321357',\n",
       " '14 21 29 38 48 59 71 84 98 113 129 146 164 183 203 224 246 269 293 318 344',\n",
       " '-4 5 35 101 221 416 710 1130 1706 2471 3461 4715 6275 8186 10496 13256 16520 20345 24791 29921 35801',\n",
       " '7 24 54 104 190 348 660 1307 2673 5543 11461 23347 46542 90617 172651 323416 599235 1104514 2033496 3745154 6892958',\n",
       " '14 33 59 95 154 263 467 833 1454 2453 3987 6251 9482 13963 20027 28061 38510 51881 68747 89751 115610',\n",
       " '18 36 61 97 164 320 696 1557 3426 7359 15549 32578 67840 139937 284216 565080 1095282 2065110 3785205 6747735 11711788',\n",
       " '17 33 68 134 253 481 956 1980 4146 8531 17018 32923 62344 117095 220838 421203 812439 1575645 3047096 5829844 10969911',\n",
       " '0 -4 3 45 163 437 1033 2283 4804 9660 18569 34155 60243 102193 167267 265021 407712 610708 892887 1277009 1790043',\n",
       " '10 31 79 182 377 719 1314 2397 4488 8673 17071 33558 64819 121781 221434 388961 659958 1082315 1717031 2636830 3920909',\n",
       " '14 16 34 83 178 338 590 982 1624 2777 5002 9372 17764 33343 61654 113513 212633 414525 850169 1820632 3990833',\n",
       " '22 34 60 123 269 581 1201 2367 4472 8145 14347 24491 40682 66416 108613 182895 325854 621100 1250690 2590843 5381575',\n",
       " '12 22 52 117 235 441 816 1531 2906 5484 10120 18085 31185 51895 83508 130299 197704 292514 423084 599557 834103',\n",
       " '13 15 25 52 98 149 162 60 -243 -759 -1253 -927 2193 12653 41110 113380 292561 730027 1776413 4211078 9695696',\n",
       " '16 33 71 147 295 577 1094 1997 3498 5881 9513 14855 22473 33049 47392 66449 91316 123249 163675 214203 276635',\n",
       " '12 34 79 159 284 454 646 795 776 409 -471 -1813 -2921 -1652 6989 33242 96632 232776 504815 1022459 1973298',\n",
       " '-8 -5 5 22 46 77 115 160 212 271 337 410 490 577 671 772 880 995 1117 1246 1382',\n",
       " '27 45 65 79 88 116 228 556 1337 2967 6075 11621 21022 36310 60326 96954 151399 230513 343173 500715 717428',\n",
       " '19 29 35 31 11 -16 7 244 1058 3136 7629 16255 31258 55035 89131 132154 175973 199327 157687 -32129 -514491',\n",
       " '-4 -6 6 48 146 346 721 1368 2386 3824 5586 7278 7980 5924 -1943 -20534 -57360 -123458 -234538 -412380 -686514',\n",
       " '10 16 22 28 34 40 46 52 58 64 70 76 82 88 94 100 106 112 118 124 130',\n",
       " '-1 2 13 43 113 264 586 1280 2780 5992 12771 26881 55911 115042 234364 472995 946217 1877326 3695649 7218859 13985161',\n",
       " '12 33 65 110 170 247 343 460 600 765 957 1178 1430 1715 2035 2392 2788 3225 3705 4230 4802',\n",
       " '2 2 12 46 130 310 667 1358 2732 5616 11941 26010 56943 123223 260866 537596 1076622 2095565 3970036 7340823 13306956',\n",
       " '13 14 15 16 17 18 19 20 21 22 23 24 25 26 27 28 29 30 31 32 33',\n",
       " '-5 0 10 23 41 87 236 675 1835 4679 11284 25922 56925 119712 241462 468036 873883 1575810 2751654 4665065 7697793',\n",
       " '24 48 97 178 306 515 878 1551 2863 5493 10828 21713 44020 89815 183426 372443 746638 1468994 2824479 5293880 9661890',\n",
       " '7 18 37 71 133 243 438 806 1571 3290 7299 16693 38385 87208 193646 417621 871759 1758470 3425433 6442527 11697805',\n",
       " '-3 -5 -7 -9 -11 -13 -15 -17 -19 -21 -23 -25 -27 -29 -31 -33 -35 -37 -39 -41 -43',\n",
       " '3 6 8 9 9 8 6 3 -1 -6 -12 -19 -27 -36 -46 -57 -69 -82 -96 -111 -127',\n",
       " '12 21 31 43 64 119 264 596 1264 2508 4796 9197 18226 37530 78957 165768 341020 680471 1311741 2441911 4396260',\n",
       " '4 3 5 28 113 330 780 1593 2922 4933 7791 11642 16591 22676 29838 37887 46464 54999 62665 68328 70493',\n",
       " '-3 -11 -15 -5 39 166 486 1225 2832 6203 13146 27299 55836 112460 222393 430337 812703 1495793 2682079 4687259 7991389',\n",
       " '2 15 44 105 228 460 868 1542 2598 4181 6468 9671 14040 19866 27484 37276 49674 65163 84284 107637 135884',\n",
       " '3 11 40 101 203 362 624 1102 2027 3813 7136 13027 22979 39068 64088 101700 156595 234671 343224 491153 689179',\n",
       " '8 14 31 75 163 315 572 1036 1948 3855 7982 17025 36728 78840 166482 343879 694468 1375852 2689261 5219099 10111301',\n",
       " '11 3 -7 -2 59 262 781 1951 4373 9055 17611 32574 57932 100100 169798 285943 484107 835051 1484409 2734358 5204293',\n",
       " '5 14 38 89 186 362 690 1343 2704 5543 11283 22391 42971 79763 144129 256634 458380 839057 1603913 3225958 6774521',\n",
       " '26 44 66 86 105 151 313 808 2113 5202 11927 25568 51546 98241 177780 306554 505084 796680 1204120 1743314 2412607',\n",
       " '11 33 60 102 190 391 841 1805 3768 7559 14517 26739 47549 82604 142745 251264 461497 896897 1837070 3892788 8345232',\n",
       " '1 11 30 55 97 192 415 917 2026 4480 9893 21594 46024 94927 188628 360754 664823 1183201 2039008 3411641 5556675',\n",
       " '9 8 8 4 -15 -66 -156 -237 -108 783 3719 11405 29158 66855 141981 284214 542091 992418 1753218 3001154 4994519',\n",
       " '5 5 17 55 129 252 459 846 1653 3444 7492 16579 36599 79643 169694 352720 713885 1405871 2693995 5025999 9137181',\n",
       " '0 13 44 102 195 329 521 849 1583 3473 8319 20037 46613 103696 221291 456385 916926 1807321 3514066 6764684 12917467',\n",
       " '-6 -11 -13 -4 32 126 332 745 1560 3245 6975 15596 35578 80698 178596 381901 786366 1559421 2983795 5522420 9912764',\n",
       " '-1 -3 -7 -5 31 163 501 1217 2559 4865 8577 14255 22591 34423 50749 72741 101759 139365 187337 247683 322655',\n",
       " '21 39 77 152 295 563 1051 1904 3329 5607 9105 14288 21731 32131 46319 65272 90125 122183 162933 214056 277439',\n",
       " '6 29 65 126 248 503 1024 2069 4175 8497 17505 36341 75339 154532 311548 615478 1191847 2269281 4269830 7987834 14947253',\n",
       " '20 40 73 127 227 424 804 1497 2686 4616 7603 12043 18421 27320 39430 55557 76632 103720 138029 180919 233911',\n",
       " '15 38 75 134 233 416 790 1593 3316 6923 14248 28714 56658 109863 210647 402612 774114 1510081 3005673 6111536 12652594',\n",
       " '7 5 15 45 96 157 201 191 120 139 873 4093 14036 39952 101162 237550 531921 1157605 2477551 5243665 10982708',\n",
       " '13 17 31 67 147 310 634 1286 2613 5287 10517 20341 38011 68484 119032 199984 325613 515181 794155 1195607 1761811',\n",
       " '17 33 54 81 115 157 208 269 341 425 522 633 759 901 1060 1237 1433 1649 1886 2145 2427',\n",
       " '28 54 99 175 307 547 991 1792 3153 5286 8362 12600 18924 31165 61765 144619 361520 893414 2115587 4769009 10261479',\n",
       " '20 36 69 139 273 505 876 1434 2234 3338 4815 6741 9199 12279 16078 20700 26256 32864 40649 49743 60285',\n",
       " '5 8 31 94 226 478 942 1781 3298 6123 11687 23304 48451 103329 221681 471406 985175 2015814 4035247 7910522 15218324',\n",
       " '27 35 51 98 222 513 1138 2401 4856 9517 18251 34532 64911 121863 229160 431651 812377 1521391 2822579 5167286 9306748',\n",
       " '12 18 24 30 36 42 48 54 60 66 72 78 84 90 96 102 108 114 120 126 132',\n",
       " '5 14 30 60 119 234 466 966 2094 4650 10290 22218 46247 92318 176623 324791 577635 1003771 1730224 3017395 5437035',\n",
       " '-4 2 15 37 71 129 250 540 1263 3047 7341 17400 40333 91193 200824 430390 897530 1822532 3608915 6983275 13237359',\n",
       " '24 39 59 84 114 149 189 234 284 339 399 464 534 609 689 774 864 959 1059 1164 1274',\n",
       " '6 8 15 26 40 56 73 90 106 120 131 138 140 136 125 106 78 40 -9 -70 -144',\n",
       " '5 12 38 98 215 420 760 1327 2319 4138 7527 13771 25077 45463 82903 154219 295579 584290 1184142 2442474 5104989',\n",
       " '15 20 30 67 165 370 740 1345 2267 3600 5450 7935 11185 15342 20560 27005 34855 44300 55542 68795 84285',\n",
       " '12 24 49 91 167 328 704 1596 3655 8207 17801 37071 74010 141751 260934 462706 792350 1313466 2112529 3303523 5032193',\n",
       " '7 6 2 -4 -4 22 111 328 805 1860 4298 10072 23590 54100 119775 254360 517539 1010538 1898906 3444916 6052608',\n",
       " '24 41 68 110 172 259 376 528 720 957 1244 1586 1988 2455 2992 3604 4296 5073 5940 6902 7964',\n",
       " '4 -2 -4 16 84 230 492 935 1688 2998 5296 9266 15904 26550 42872 66777 100220 144878 201652 269956 346748',\n",
       " '10 4 6 36 129 338 741 1461 2717 4950 9122 17381 34440 70266 145074 298276 604163 1199220 2330420 4443939 8357344',\n",
       " '-6 5 46 132 274 482 787 1296 2299 4470 9269 19793 42598 91531 195593 414745 871234 1811092 3723960 7574705 15246840',\n",
       " '14 29 56 116 256 575 1274 2734 5619 10989 20383 35781 59259 91989 131979 169563 179100 104581 -164174 -829374 -2243510']"
      ]
     },
     "execution_count": 1,
     "metadata": {},
     "output_type": "execute_result"
    }
   ],
   "source": [
    "file_path = '../data/day9.txt'\n",
    "with open(file_path, 'r') as file:\n",
    "    lines = [line.strip() for line in file]\n",
    "\n",
    "lines"
   ]
  },
  {
   "cell_type": "code",
   "execution_count": 8,
   "metadata": {},
   "outputs": [
    {
     "data": {
      "text/plain": [
       "28"
      ]
     },
     "execution_count": 8,
     "metadata": {},
     "output_type": "execute_result"
    }
   ],
   "source": [
    "def predict(l):\n",
    "    \n",
    "    def get_diffs(arr):\n",
    "        res = []\n",
    "        for i in range(1, len(arr)):\n",
    "            res.append(arr[i] - arr[i-1])\n",
    "        return res\n",
    "    \n",
    "    diffs = [int(el) for el in l.split(' ')]\n",
    "    pred = 0\n",
    "    while not all(el == 0 for el in diffs):\n",
    "        pred += diffs[-1]\n",
    "        diffs = get_diffs(diffs)\n",
    "    \n",
    "    return pred\n",
    "\n",
    "predict('1 3 6 10 15 21')"
   ]
  },
  {
   "cell_type": "code",
   "execution_count": 9,
   "metadata": {},
   "outputs": [],
   "source": [
    "s = 0\n",
    "for l in lines:\n",
    "    s+= predict(l)"
   ]
  },
  {
   "cell_type": "code",
   "execution_count": 10,
   "metadata": {},
   "outputs": [
    {
     "data": {
      "text/plain": [
       "1868368343"
      ]
     },
     "execution_count": 10,
     "metadata": {},
     "output_type": "execute_result"
    }
   ],
   "source": [
    "s"
   ]
  },
  {
   "cell_type": "markdown",
   "metadata": {},
   "source": [
    "## Part 2"
   ]
  },
  {
   "cell_type": "markdown",
   "metadata": {},
   "source": [
    "if all zeros, return the first element and add it to the above calculated first element. array passed below, one res returned above"
   ]
  },
  {
   "cell_type": "code",
   "execution_count": 24,
   "metadata": {},
   "outputs": [
    {
     "data": {
      "text/plain": [
       "5"
      ]
     },
     "execution_count": 24,
     "metadata": {},
     "output_type": "execute_result"
    }
   ],
   "source": [
    "def f(arr):\n",
    "    res = []\n",
    "    for i in range(1, len(arr)):\n",
    "        res.append(arr[i] - arr[i-1])\n",
    "    if all(el == 0 for el in res):\n",
    "        return 0\n",
    "    else:\n",
    "        return res[0] - f(res)\n",
    "    \n",
    "f([10, 13, 16, 21, 30, 45])"
   ]
  },
  {
   "cell_type": "code",
   "execution_count": 26,
   "metadata": {},
   "outputs": [
    {
     "data": {
      "text/plain": [
       "0"
      ]
     },
     "execution_count": 26,
     "metadata": {},
     "output_type": "execute_result"
    }
   ],
   "source": [
    "def predict(l):\n",
    "    l = [int(el) for el in l.split(' ')]\n",
    "    pred = l[0] - f(l)\n",
    "    \n",
    "    return pred\n",
    "\n",
    "predict('1 3 6 10 15')"
   ]
  },
  {
   "cell_type": "code",
   "execution_count": 27,
   "metadata": {},
   "outputs": [],
   "source": [
    "s = 0\n",
    "for l in lines:\n",
    "    s+= predict(l)"
   ]
  },
  {
   "cell_type": "code",
   "execution_count": 28,
   "metadata": {},
   "outputs": [
    {
     "data": {
      "text/plain": [
       "1022"
      ]
     },
     "execution_count": 28,
     "metadata": {},
     "output_type": "execute_result"
    }
   ],
   "source": [
    "s"
   ]
  },
  {
   "cell_type": "markdown",
   "metadata": {},
   "source": [
    "# Day 10"
   ]
  },
  {
   "cell_type": "code",
   "execution_count": 86,
   "metadata": {},
   "outputs": [
    {
     "data": {
      "text/plain": [
       "(140, 140)"
      ]
     },
     "execution_count": 86,
     "metadata": {},
     "output_type": "execute_result"
    }
   ],
   "source": [
    "file_path = '../data/day10.txt'\n",
    "with open(file_path, 'r') as file:\n",
    "    lines = [line.strip() for line in file]\n",
    "\n",
    "\n",
    "# lines = [\".....\",\n",
    "# \".S-7.\",\n",
    "# \".|.|.\", \n",
    "# \".L-J.\", \".....\"]\n",
    "# for l in lines:\n",
    "#     print(l)\n",
    "\n",
    "# lines = [\n",
    "# \"..........\", \n",
    "# \".S------7.\", \n",
    "# \".|F----7|.\", \n",
    "# \".||1234||.\", \n",
    "# \".||5678||.\", \n",
    "# \".|L-7F-J|.\", \n",
    "# \".|AB||CD|.\", \n",
    "# \".L--JL--J.\", \n",
    "# \"..........\", \n",
    "# ]\n",
    "\n",
    "# lines = [\n",
    "# \".F----7F7F7F7F-7....\",\n",
    "# \".|F--7||||||||FJ....\",\n",
    "# \".||.FJ||||||||L7....\",\n",
    "# \"FJL7L7LJLJ||LJ.L-7..\",\n",
    "# \"L--J.L7...LJS7F-7L7.\",\n",
    "# \"....F-J..F7FJ|L7L7L7\",\n",
    "# \"....L7.F7||L7|.L7L7|\",\n",
    "# \".....|FJLJ|FJ|F7|.LJ\",\n",
    "# \"....FJL-7.||.||||...\",\n",
    "# \"....L---J.LJ.LJLJ...\",\n",
    "# ]\n",
    "\n",
    "len(lines), len(lines[0])"
   ]
  },
  {
   "cell_type": "code",
   "execution_count": 2,
   "metadata": {},
   "outputs": [],
   "source": [
    "def chars_connect_up(ch: str, up_ch: str = None) -> bool:\n",
    "    if up_ch is None:\n",
    "        return False\n",
    "    if ch in ['S', '|', 'L', 'J'] and up_ch in ['|', '7', 'F']:\n",
    "        return True\n",
    "    return False\n",
    "\n",
    "def chars_connect_down(ch: str, down_ch: str = None) -> bool:\n",
    "    if down_ch is None:\n",
    "        return False\n",
    "    if ch in ['S', '|', '7', 'F'] and down_ch in ['|', 'L', 'J']:\n",
    "        return True\n",
    "    return False\n",
    "\n",
    "def chars_connect_right(ch: str, right_ch: str = None) -> bool:\n",
    "    if right_ch is None:\n",
    "        return False\n",
    "    if ch in ['S', '-', 'L', 'F'] and right_ch in ['-', 'J', '7']:\n",
    "        return True\n",
    "    return False\n",
    "\n",
    "def chars_connect_left(ch: str, left_ch: str = None) -> bool:\n",
    "    if left_ch is None:\n",
    "        return False\n",
    "    if ch in ['S', '-', 'J', '7'] and left_ch in ['-', 'L', 'F']:\n",
    "        return True\n",
    "    return False"
   ]
  },
  {
   "cell_type": "markdown",
   "metadata": {},
   "source": [
    "## Part 1\n",
    "\n",
    "The pipes are arranged in a two-dimensional grid of tiles:\n",
    "\n",
    "* | is a vertical pipe connecting north and south.\n",
    "* \\- is a horizontal pipe connecting east and west.\n",
    "* L is a 90-degree bend connecting north and east.\n",
    "* J is a 90-degree bend connecting north and west.\n",
    "* 7 is a 90-degree bend connecting south and west.\n",
    "* F is a 90-degree bend connecting south and east.\n",
    "* . is ground; there is no pipe in this tile.\n",
    "* S is the starting position of the animal; there is a pipe on this tile, but your sketch doesn't show what shape the pipe has.\n",
    "\n",
    "Based on the acoustics of the animal's scurrying, you're confident the pipe that contains the animal is one large, continuous loop."
   ]
  },
  {
   "cell_type": "markdown",
   "metadata": {},
   "source": [
    "Recursive step. Has duration until this cell. Check which cell to go next (there max one such). If blocked or end, then return current location and path_len to it. Otherwise start a new step passing the current path_len and the next cell which connects to the current. The next cell becomes the base for the next step"
   ]
  },
  {
   "cell_type": "code",
   "execution_count": 217,
   "metadata": {},
   "outputs": [],
   "source": [
    "def search(sketch, sketch_shape, current_cell, path_len, blocked_backward: str = None):\n",
    "    print('Entered search on cell', current_cell)\n",
    "    x, y = current_cell\n",
    "    current_ch = sketch[x][y]\n",
    "    print('current_ch', current_ch)\n",
    "\n",
    "    if not blocked_backward == 'up' and x > 0:  # not top row\n",
    "        up_ch = sketch[x-1][y]\n",
    "        if up_ch != 'S' and chars_connect_up(current_ch, up_ch):\n",
    "            print('going up')\n",
    "            return search(sketch, sketch_shape, (x-1, y), path_len+1, blocked_backward='down')\n",
    "    if not blocked_backward == 'down' and x < sketch_shape[0] - 1:  # not last row\n",
    "        down_ch = sketch[x+1][y]\n",
    "        if down_ch != 'S' and chars_connect_down(current_ch, down_ch):\n",
    "            print('going down')\n",
    "            return search(sketch, sketch_shape, (x+1, y), path_len+1, blocked_backward='up')\n",
    "        \n",
    "    if not blocked_backward == 'right' and y < sketch_shape[1] - 1:  \n",
    "        right_ch = sketch[x][y+1]\n",
    "        if right_ch != 'S' and chars_connect_right(current_ch, right_ch):\n",
    "            print('going right')\n",
    "            return search(sketch, sketch_shape, (x, y+1), path_len+1, blocked_backward='left')\n",
    "    if not blocked_backward == 'left' and y > 0: \n",
    "        left_ch = sketch[x][y-1]\n",
    "        if left_ch != 'S' and chars_connect_left(current_ch, left_ch):\n",
    "            print('going left')\n",
    "            return search(sketch, sketch_shape, (x, y-1), path_len+1, blocked_backward='right')\n",
    "        \n",
    "    return path_len"
   ]
  },
  {
   "cell_type": "code",
   "execution_count": 30,
   "metadata": {},
   "outputs": [
    {
     "data": {
      "text/plain": [
       "3000"
      ]
     },
     "execution_count": 30,
     "metadata": {},
     "output_type": "execute_result"
    }
   ],
   "source": [
    "import sys\n",
    "sys.getrecursionlimit()"
   ]
  },
  {
   "cell_type": "code",
   "execution_count": 35,
   "metadata": {},
   "outputs": [],
   "source": [
    "sys.setrecursionlimit(15000)"
   ]
  },
  {
   "cell_type": "code",
   "execution_count": 39,
   "metadata": {},
   "outputs": [
    {
     "name": "stdout",
     "output_type": "stream",
     "text": [
      "start_pos [1, 1]\n",
      "Entered search on cell [1, 1]\n",
      "current_ch S\n",
      "going down\n",
      "Entered search on cell (2, 1)\n",
      "current_ch |\n",
      "going down\n",
      "Entered search on cell (3, 1)\n",
      "current_ch L\n",
      "going right\n",
      "Entered search on cell (3, 2)\n",
      "current_ch -\n",
      "going right\n",
      "Entered search on cell (3, 3)\n",
      "current_ch J\n",
      "going up\n",
      "Entered search on cell (2, 3)\n",
      "current_ch |\n",
      "going up\n",
      "Entered search on cell (1, 3)\n",
      "current_ch 7\n",
      "going left\n",
      "Entered search on cell (1, 2)\n",
      "current_ch -\n"
     ]
    },
    {
     "data": {
      "text/plain": [
       "4"
      ]
     },
     "execution_count": 39,
     "metadata": {},
     "output_type": "execute_result"
    }
   ],
   "source": [
    "for i, l in enumerate(lines):\n",
    "    if 'S' in l:\n",
    "        start_pos = [i, l.index('S')]\n",
    "print('start_pos', start_pos)\n",
    "\n",
    "rows = len(lines)\n",
    "cols = len(lines[0])\n",
    "\n",
    "x, y = start_pos\n",
    "res = search(sketch=lines, sketch_shape=(rows, cols), current_cell=start_pos, path_len=0)     \n",
    "(res + 1) // 2"
   ]
  },
  {
   "cell_type": "code",
   "execution_count": 40,
   "metadata": {},
   "outputs": [
    {
     "data": {
      "text/plain": [
       "6951"
      ]
     },
     "execution_count": 40,
     "metadata": {},
     "output_type": "execute_result"
    }
   ],
   "source": [
    "13902//2"
   ]
  },
  {
   "cell_type": "markdown",
   "metadata": {},
   "source": [
    "## Part 2"
   ]
  },
  {
   "cell_type": "code",
   "execution_count": 87,
   "metadata": {},
   "outputs": [
    {
     "name": "stdout",
     "output_type": "stream",
     "text": [
      "start_pos (57, 65)\n"
     ]
    }
   ],
   "source": [
    "for i, l in enumerate(lines):\n",
    "    if 'S' in l:\n",
    "        start_pos = (i, l.index('S'))\n",
    "print('start_pos', start_pos)\n",
    "\n",
    "rows = len(lines)\n",
    "cols = len(lines[0])\n",
    "\n",
    "pipe_locs = {}\n",
    "\n",
    "current_cell = start_pos\n",
    "blocked_backward = None\n",
    "path_len = 0\n",
    "while True:\n",
    "    # print('Entered search on cell', current_cell)\n",
    "    path_len += 0\n",
    "    x, y = current_cell\n",
    "    current_ch = lines[x][y]\n",
    "    pipe_locs[current_cell] = (current_ch, path_len)\n",
    "    # print('current_ch', current_ch)\n",
    "\n",
    "    if not blocked_backward == 'up' and x > 0:  # not top row\n",
    "        up_ch = lines[x-1][y]\n",
    "        if up_ch != 'S' and chars_connect_up(current_ch, up_ch):\n",
    "            # print('going up')\n",
    "            current_cell = (x-1, y)\n",
    "            path_len += 1\n",
    "            blocked_backward = 'down'\n",
    "            continue\n",
    "    \n",
    "    if not blocked_backward == 'right' and y < cols - 1:  \n",
    "        right_ch = lines[x][y+1]\n",
    "        if right_ch != 'S' and chars_connect_right(current_ch, right_ch):\n",
    "            # print('going right')\n",
    "            current_cell = (x, y+1)\n",
    "            path_len += 1\n",
    "            blocked_backward = 'left'\n",
    "            continue\n",
    "        \n",
    "    if not blocked_backward == 'down' and x < rows - 1:  # not last row\n",
    "        down_ch = lines[x+1][y]\n",
    "        if down_ch != 'S' and chars_connect_down(current_ch, down_ch):\n",
    "            # print('going down')\n",
    "            current_cell = (x+1, y)\n",
    "            path_len += 1\n",
    "            blocked_backward='up'\n",
    "            continue\n",
    "            \n",
    "    if not blocked_backward == 'left' and y > 0: \n",
    "        left_ch = lines[x][y-1]\n",
    "        if left_ch != 'S' and chars_connect_left(current_ch, left_ch):\n",
    "            # print('going left')\n",
    "            current_cell = (x, y-1)\n",
    "            path_len += 1 \n",
    "            blocked_backward = 'right'\n",
    "            continue\n",
    "        \n",
    "    break"
   ]
  },
  {
   "cell_type": "markdown",
   "metadata": {},
   "source": [
    "Ideas:\n",
    "1. ~~If the dot is not a pipe and is connected to a dot (even diagonally) which touches the border, then it's also an outlier~~\n",
    "2. Some kind of tracking on the fly which part is out and which is in\n",
    "3. ~~Non-pipe character based. Check surroundings somehow.~~\n",
    "4. Expand dense pipes filling them with garbage to kind of stretch these sequences '==='. So that no pipe touches any other except of the next one. Then apply idea 1\n",
    "\n",
    "Finally. Filling algorithm. \n",
    "1. If the dot is:\n",
    "    1. not a pipe\n",
    "    2. and \n",
    "        1. touches the border\n",
    "        2. or is connected to a dot (even diagonally) which is an outlier\n",
    "    then it's also an outlier. Mark it with O\n",
    "2. For all other undecided points do the following:\n",
    "    1. Decide from each side of the line the dot is. If two, select any.\n",
    "    2. Iterate over the ordered dict (pipe_locs) until back to the dot.\n",
    "    3. If on the way there was an outlier at the same side, then the dot check is also an outlier"
   ]
  },
  {
   "cell_type": "code",
   "execution_count": 88,
   "metadata": {},
   "outputs": [],
   "source": [
    "def touches_the_border(matrix, pos):\n",
    "    x, y = pos\n",
    "    if x == 0 or y == 0 or x == (len(matrix[0]) - 1) or y == (len(matrix[1]) - 1):\n",
    "        return True\n",
    "    return False\n",
    "\n",
    "def is_valid(matrix, x, y):\n",
    "    return 0 <= x < len(matrix) and 0 <= y < len(matrix[0])\n",
    "\n",
    "def touches_outlier(matrix, pos, outlier='O'):\n",
    "    x, y = pos\n",
    "    directions = [(-1, -1), (-1, 0), (-1, 1),  # diagonally and vertically up\n",
    "                  (0, -1), (0, 1),            # horizontally\n",
    "                  (1, -1), (1, 0), (1, 1)]    # diagonally and vertically down\n",
    "\n",
    "    for dx, dy in directions:\n",
    "        nx, ny = x + dx, y + dy\n",
    "        if is_valid(matrix, nx, ny) and matrix[nx][ny] == outlier:  # Assuming 'O' represents outer cells\n",
    "            return True\n",
    "    return False"
   ]
  },
  {
   "cell_type": "code",
   "execution_count": 89,
   "metadata": {},
   "outputs": [],
   "source": [
    "changed = True\n",
    "\n",
    "while changed:\n",
    "    changed = False  # Reset the flag at the beginning of each iteration\n",
    "\n",
    "    for i, line in enumerate(lines):\n",
    "        line_chars = list(line)\n",
    "\n",
    "        for j, char in enumerate(line_chars):\n",
    "            if ((i, j) not in pipe_locs) and (touches_the_border(lines, (i, j)) or touches_outlier(lines, (i, j))) and line_chars[j] != 'O':\n",
    "                line_chars[j] = 'O'\n",
    "                changed = True  # Mark that a change was made in this iteration\n",
    "\n",
    "        lines[i] = ''.join(line_chars)\n",
    "\n",
    "    # The loop repeats until no changes are made in a complete pass"
   ]
  },
  {
   "cell_type": "code",
   "execution_count": 90,
   "metadata": {},
   "outputs": [
    {
     "data": {
      "text/plain": [
       "[True, True]"
      ]
     },
     "execution_count": 90,
     "metadata": {},
     "output_type": "execute_result"
    }
   ],
   "source": [
    "def find_next_pipe(pipe_locs, current_pipe):\n",
    "    items = list(pipe_locs.items())\n",
    "    for i, (pos, _) in enumerate(items):\n",
    "        if pos == current_pipe:\n",
    "            # If at the end of the list, return the first item's position\n",
    "            return items[(i+1) % len(items)][0]\n",
    "    return None\n",
    "\n",
    "def decide_position(target_pos, current_pipe_pos, current_pipe_type, next_pipe_pos):\n",
    "    # Determine the direction of the pipe\n",
    "    pipe_delta_x = next_pipe_pos[0] - current_pipe_pos[0]\n",
    "    pipe_delta_y = next_pipe_pos[1] - current_pipe_pos[1]\n",
    "\n",
    "    if current_pipe_type == 'L':\n",
    "        if pipe_delta_y > 0:  # Moving right from top\n",
    "            if (target_pos[0] < current_pipe_pos[0]) and (target_pos[1] > current_pipe_pos[1]):  # target_pos is 'inside' the corner\n",
    "                return 'left'\n",
    "            else:  # target_pos is 'outside' the corner\n",
    "                return \"right\"\n",
    "        elif pipe_delta_x < 0:  # moving top from right\n",
    "            if (target_pos[0] < current_pipe_pos[0]) and (target_pos[1] > current_pipe_pos[1]):  # target_pos is 'inside' the corner\n",
    "                return 'right'\n",
    "            else:  # target_pos is 'outside' the corner\n",
    "                return \"left\"\n",
    "\n",
    "    elif current_pipe_type == 'J':\n",
    "        if pipe_delta_y < 0:  # Moving left from top\n",
    "            if (target_pos[0] < current_pipe_pos[0]) and (target_pos[1] < current_pipe_pos[1]):\n",
    "                return 'right'\n",
    "            else:  \n",
    "                return \"left\"\n",
    "        elif pipe_delta_x < 0:  # Moving top from left\n",
    "            if (target_pos[0] < current_pipe_pos[0]) and (target_pos[1] < current_pipe_pos[1]):\n",
    "                return 'left'\n",
    "            else:  \n",
    "                return \"right\"\n",
    "\n",
    "    elif current_pipe_type == '7':\n",
    "        if pipe_delta_x > 0:  # Moving down from left\n",
    "            if (target_pos[0] > current_pipe_pos[0]) and (target_pos[1] < current_pipe_pos[1]):\n",
    "                return 'right'\n",
    "            else:  \n",
    "                return \"left\"\n",
    "        elif pipe_delta_y < 0:  # Moving left from bottom\n",
    "            if (target_pos[0] > current_pipe_pos[0]) and (target_pos[1] < current_pipe_pos[1]):\n",
    "                return 'left'\n",
    "            else:  \n",
    "                return \"right\"\n",
    "\n",
    "    elif current_pipe_type == 'F':\n",
    "        if pipe_delta_x > 0:  # Moving down from right\n",
    "            if (target_pos[0] > current_pipe_pos[0]) and (target_pos[1] > current_pipe_pos[1]):\n",
    "                return 'left'\n",
    "            else:  \n",
    "                return \"right\"\n",
    "        elif pipe_delta_y > 0:  # Moving right from bottom\n",
    "            if (target_pos[0] > current_pipe_pos[0]) and (target_pos[1] > current_pipe_pos[1]):\n",
    "                return 'right'\n",
    "            else:  \n",
    "                return \"left\"\n",
    "            \n",
    "    # Logic for straight pipes\n",
    "    elif current_pipe_type == '|':\n",
    "        if pipe_delta_x > 0:  # down\n",
    "            if target_pos[1] < current_pipe_pos[1]:\n",
    "                return \"right\"\n",
    "            else:\n",
    "                return \"left\"\n",
    "        else:  # up\n",
    "            if target_pos[1] < current_pipe_pos[1]:\n",
    "                return \"left\"\n",
    "            else:\n",
    "                return \"right\"\n",
    "    \n",
    "    elif current_pipe_type == '-':\n",
    "        if pipe_delta_y > 0:  # right\n",
    "            if target_pos[0] < current_pipe_pos[0]:\n",
    "                return 'left'\n",
    "            else:\n",
    "                return 'right'\n",
    "        else:\n",
    "            if target_pos[0] < current_pipe_pos[0]:\n",
    "                return 'right'\n",
    "            else:\n",
    "                return 'left'\n",
    "\n",
    "    else:\n",
    "        return \"undefined\"  # No movement or unclear direction\n",
    "\n",
    "# Test the function with the given examples\n",
    "test_cases = [\n",
    "    ((4, 7), (3, 6), 'L', (2, 6), 'left'),\n",
    "    ((3, 14), (2, 13), '|', (3, 13), 'left')\n",
    "]\n",
    "\n",
    "# Running the function on the test cases\n",
    "results = [answer == decide_position(target, curr_pipe, type, next_pipe) for (target, curr_pipe, type, next_pipe, answer) in test_cases]\n",
    "results"
   ]
  },
  {
   "cell_type": "code",
   "execution_count": 91,
   "metadata": {},
   "outputs": [],
   "source": [
    "def find_neighbouring_pipe(target_pos, pipe_locs):\n",
    "    # finds a pipe around the target position\n",
    "    x, y = target_pos\n",
    "    directions = [(-1, -1), (-1, 0), (-1, 1), \n",
    "                  (0, -1), (0, 1), \n",
    "                  (1, -1), (1, 0), (1, 1)]\n",
    "\n",
    "    for dx, dy in directions:\n",
    "        nx, ny = x + dx, y + dy\n",
    "        if (nx, ny) in pipe_locs:\n",
    "            return (nx, ny)\n",
    "    return None\n",
    "\n",
    "def get_neighbors(current_pipe_pos, position, next_pipe_pos, pipe_type):\n",
    "    x, y = current_pipe_pos\n",
    "    next_x, next_y = next_pipe_pos\n",
    "\n",
    "    if pipe_type in ['|', '-']:\n",
    "        # For straight pipes, use the original logic\n",
    "        return get_straight_pipe_neighbors(current_pipe_pos, position, next_pipe_pos)\n",
    "    else:\n",
    "        # For corner pipes, determine the neighbors based on the corner type and position\n",
    "        return get_corner_pipe_neighbors(current_pipe_pos, position, next_pipe_pos, pipe_type)\n",
    "\n",
    "def get_straight_pipe_neighbors(pos, position, next_pos):\n",
    "    x, y = pos\n",
    "    next_x, next_y = next_pos\n",
    "\n",
    "    # Determine the direction of the pipe\n",
    "    if x == next_x:  # Horizontal pipe\n",
    "        if next_y > y:  # left to right\n",
    "            if position == 'left':\n",
    "                return [(x-1, y)]\n",
    "            elif position == 'right':\n",
    "                return [(x+1, y)]\n",
    "        else:\n",
    "            if position == 'left':\n",
    "                return [(x+1, y)]\n",
    "            elif position == 'right':\n",
    "                return [(x-1, y)]\n",
    "    elif y == next_y:  # Vertical pipe\n",
    "        if next_x > x:  # top to bot\n",
    "            if position == 'left':\n",
    "                return [(x, y+1)]\n",
    "            elif position == 'right':\n",
    "                return [(x, y-1)]\n",
    "        else:  # bot to top\n",
    "            if position == 'left':\n",
    "                return [(x, y-1)]\n",
    "            elif position == 'right':\n",
    "                return [(x, y+1)]\n",
    "\n",
    "    return []\n",
    "\n",
    "def get_corner_pipe_neighbors(current_pipe_pos, position, next_pipe_pos, pipe_type):\n",
    "    x, y = current_pipe_pos\n",
    "    next_x, next_y = next_pipe_pos\n",
    "\n",
    "    if pipe_type == 'L':\n",
    "        outside_locs = [(x, y-1), (x+1, y-1), (x+1, y)]  # Outside the corner\n",
    "        inside_locs = [(x-1, y+1)]  # Inside the corner\n",
    "        if x == next_x:  # from top to right\n",
    "            if position == 'left':\n",
    "                return inside_locs  \n",
    "            elif position == 'right':\n",
    "                return outside_locs  \n",
    "        elif y == next_y:  # from right to top\n",
    "            if position == 'left':\n",
    "                return outside_locs\n",
    "            elif position == 'right':\n",
    "                return inside_locs\n",
    "    \n",
    "    elif pipe_type == 'J':\n",
    "        outside_locs = [(x, y+1), (x+1, y+1), (x+1, y)]  # Outside the corner\n",
    "        inside_locs = [(x-1, y-1)]  # Inside the corner\n",
    "        if x == next_x:  # top to left\n",
    "            if position == 'left':\n",
    "                return outside_locs\n",
    "            elif position == 'right':\n",
    "                return inside_locs\n",
    "        elif y == next_y:  # left to top\n",
    "            if position == 'left':\n",
    "                return inside_locs\n",
    "            elif position == 'right':\n",
    "                return outside_locs\n",
    "\n",
    "    elif pipe_type == '7':\n",
    "        outside_locs = [(x, y+1), (x-1, y+1), (x-1, y)]  # Outside the corner\n",
    "        inside_locs = [(x+1, y-1)]  # Inside the corner\n",
    "        if x == next_x:  # bottom to left\n",
    "            # print(f\"Processing corner '7'. bottom to left\")\n",
    "            if position == 'left':\n",
    "                # print(f\"left, returning inside_locs\")\n",
    "                return inside_locs\n",
    "            elif position == 'right':\n",
    "                # print(f\"right, returning outside_locs\")\n",
    "                return outside_locs\n",
    "        elif y == next_y:  # left to bottom\n",
    "            # print(f\"Processing corner '7'. left to bottom\")\n",
    "            if position == 'left':\n",
    "                # print(f\"left, returning outside_locs\")\n",
    "                return outside_locs\n",
    "            elif position == 'right':\n",
    "                # print(f\"right, returning inside_locs\")\n",
    "                return inside_locs\n",
    "\n",
    "    elif pipe_type == 'F':\n",
    "        outside_locs = [(x-1, y-1), (x-1, y), (x, y-1)]  # Outside the corner\n",
    "        inside_locs = [(x+1, y+1)]  # Inside the corner\n",
    "        if y == next_y:  # right to bottom\n",
    "            if position == 'left':\n",
    "                return inside_locs\n",
    "            elif position == 'right':\n",
    "                return outside_locs\n",
    "        elif x == next_x:  # bottom to right\n",
    "            if position == 'left':\n",
    "                return outside_locs\n",
    "            elif position == 'right':\n",
    "                return inside_locs\n",
    "\n",
    "    return []\n",
    "\n",
    "def is_outlier(matrix, pos):\n",
    "    x, y = pos\n",
    "    if 0 <= x < len(matrix) and 0 <= y < len(matrix[0]) and matrix[x][y] in ['O', 'o']:\n",
    "        return True\n",
    "    return False\n",
    "\n",
    "find_neighbouring_pipe(target_pos=(4, 4), pipe_locs=pipe_locs)"
   ]
  },
  {
   "cell_type": "code",
   "execution_count": 92,
   "metadata": {},
   "outputs": [
    {
     "data": {
      "application/vnd.jupyter.widget-view+json": {
       "model_id": "652e79ed6c034ffa866ee50b8ac15e4d",
       "version_major": 2,
       "version_minor": 0
      },
      "text/plain": [
       "  0%|          | 0/140 [00:00<?, ?it/s]"
      ]
     },
     "metadata": {},
     "output_type": "display_data"
    }
   ],
   "source": [
    "from tqdm.notebook import tqdm\n",
    "tqdm.pandas()\n",
    "from copy import deepcopy\n",
    "\n",
    "def has_outlier_on_the_side(current_pipe, next_pipe, relative_position, pipe_locs):\n",
    "    pipe_type = pipe_locs[current_pipe][0]\n",
    "    neighbors = get_neighbors(current_pipe, relative_position, next_pipe, pipe_type)\n",
    "    for pos in neighbors:\n",
    "        if is_outlier(lines, pos):\n",
    "            # print(f'For {char, (i, j)} current_pipe pipe is {pipe_type}({current_pipe}), then {next_pipe}. Position {relative_position}. Pipe neighbours: {neighbors}. Has outlier at {pos}. Break')\n",
    "            return True\n",
    "    return False\n",
    "\n",
    "for i, line in tqdm(enumerate(lines), total=len(lines)):\n",
    "# for i, line in enumerate(lines):\n",
    "    line_chars = list(line)\n",
    "    for j, char in enumerate(line_chars):\n",
    "        to_continue = False\n",
    "        if not (i, j) in pipe_locs and char != 'O':\n",
    "            target_pos = (i, j)\n",
    "            neighbouring_pipe_pos = find_neighbouring_pipe((i, j), pipe_locs)\n",
    "            if neighbouring_pipe_pos:\n",
    "                next_pipe = find_next_pipe(pipe_locs=pipe_locs, current_pipe=neighbouring_pipe_pos)\n",
    "\n",
    "                pipe_type = pipe_locs[neighbouring_pipe_pos][0]\n",
    "                relative_position = decide_position(target_pos, neighbouring_pipe_pos, pipe_type, next_pipe)\n",
    "                # print(f\"For {char, (i, j)} found a neigbour pipe {neighbouring_pipe_pos} with next pipe {next_pipe}, relative_position {relative_position}\")\n",
    "\n",
    "                \n",
    "                if has_outlier_on_the_side(neighbouring_pipe_pos, next_pipe, relative_position, pipe_locs):\n",
    "                    line_chars[j] = 'o'\n",
    "                    continue\n",
    "                \n",
    "                current_pipe = deepcopy(next_pipe)\n",
    "                next_pipe = find_next_pipe(pipe_locs, current_pipe)\n",
    "                while current_pipe != neighbouring_pipe_pos:  # we have to stop after a loop\n",
    "                    # print(f\"For {char, (i, j)}. current_pipe {current_pipe}, next_pipe {next_pipe}\")\n",
    "\n",
    "                    # print(f\"Considering pipe {current_pipe}\")\n",
    "                    if has_outlier_on_the_side(current_pipe, next_pipe, relative_position, pipe_locs):\n",
    "                        line_chars[j] = 'o'\n",
    "                        break\n",
    "\n",
    "                    # Move to next pipe segment\n",
    "                    current_pipe = next_pipe\n",
    "                    next_pipe = find_next_pipe(pipe_locs, current_pipe)\n",
    "    \n",
    "    lines[i] = ''.join(line_chars)"
   ]
  },
  {
   "cell_type": "code",
   "execution_count": 567,
   "metadata": {},
   "outputs": [],
   "source": [
    "changed = True\n",
    "\n",
    "while changed:\n",
    "    changed = False  # Reset the flag at the beginning of each iteration\n",
    "\n",
    "    for i, line in enumerate(lines):\n",
    "        line_chars = list(line)\n",
    "\n",
    "        for j, char in enumerate(line_chars):\n",
    "            if ((i, j) not in pipe_locs) and (touches_the_border(lines, (i, j)) or touches_outlier(lines, (i, j), 'o')) and line_chars[j] != 'o':\n",
    "                line_chars[j] = 'o'\n",
    "                changed = True  # Mark that a change was made in this iteration\n",
    "\n",
    "        lines[i] = ''.join(line_chars)\n",
    "\n",
    "    # The loop repeats until no changes are made in a complete pass"
   ]
  },
  {
   "cell_type": "code",
   "execution_count": 93,
   "metadata": {},
   "outputs": [
    {
     "name": "stdout",
     "output_type": "stream",
     "text": [
      "\u001b[32mO\u001b[0m\u001b[32mO\u001b[0m\u001b[32mO\u001b[0m\u001b[32mO\u001b[0m\u001b[32mO\u001b[0m\u001b[32mO\u001b[0m\u001b[32mO\u001b[0m\u001b[32mO\u001b[0m\u001b[32mO\u001b[0m\u001b[32mO\u001b[0m\u001b[32mO\u001b[0m\u001b[32mO\u001b[0m\u001b[32mO\u001b[0m\u001b[32mO\u001b[0m\u001b[32mO\u001b[0m\u001b[32mO\u001b[0m\u001b[32mO\u001b[0m\u001b[32mO\u001b[0m\u001b[32mO\u001b[0m\u001b[32mO\u001b[0m\u001b[32mO\u001b[0m\u001b[32mO\u001b[0m\u001b[32mO\u001b[0m\u001b[32mO\u001b[0m\u001b[32mO\u001b[0m\u001b[32mO\u001b[0m\u001b[32mO\u001b[0m\u001b[32mO\u001b[0m\u001b[32mO\u001b[0m\u001b[32mO\u001b[0m\u001b[32mO\u001b[0m\u001b[32mO\u001b[0m\u001b[32mO\u001b[0m\u001b[32mO\u001b[0m\u001b[32mO\u001b[0m\u001b[32mO\u001b[0m\u001b[32mO\u001b[0m\u001b[32mO\u001b[0m\u001b[32mO\u001b[0m\u001b[32mO\u001b[0m\u001b[32mO\u001b[0m\u001b[32mO\u001b[0m\u001b[32mO\u001b[0m\u001b[32mO\u001b[0m\u001b[32mO\u001b[0m\u001b[32mO\u001b[0m\u001b[32mO\u001b[0m\u001b[32mO\u001b[0m\u001b[32mO\u001b[0m\u001b[32mO\u001b[0m\u001b[32mO\u001b[0m\u001b[32mO\u001b[0m\u001b[32mO\u001b[0m\u001b[32mO\u001b[0m\u001b[32mO\u001b[0m\u001b[32mO\u001b[0m\u001b[32mO\u001b[0m\u001b[32mO\u001b[0m\u001b[32mO\u001b[0m\u001b[32mO\u001b[0m\u001b[32mO\u001b[0m\u001b[32mO\u001b[0m\u001b[32mO\u001b[0m\u001b[32mO\u001b[0m\u001b[32mO\u001b[0m\u001b[32mO\u001b[0m\u001b[32mO\u001b[0m\u001b[32mO\u001b[0m\u001b[32mO\u001b[0m\u001b[32mO\u001b[0m\u001b[32mO\u001b[0m\u001b[32mO\u001b[0m\u001b[32mO\u001b[0m\u001b[32mO\u001b[0m\u001b[32mO\u001b[0m\u001b[32mO\u001b[0m\u001b[32mO\u001b[0m\u001b[32mO\u001b[0m\u001b[32mO\u001b[0m\u001b[32mO\u001b[0m\u001b[32mO\u001b[0m\u001b[32mO\u001b[0m\u001b[32mO\u001b[0m\u001b[32mO\u001b[0m\u001b[32mO\u001b[0m\u001b[32mO\u001b[0m\u001b[32mO\u001b[0m\u001b[32mO\u001b[0m\u001b[32mO\u001b[0m\u001b[32mO\u001b[0m\u001b[32mO\u001b[0m\u001b[32mO\u001b[0m\u001b[32mO\u001b[0m\u001b[32mO\u001b[0m\u001b[32mO\u001b[0m\u001b[32mO\u001b[0m\u001b[32mO\u001b[0m\u001b[32mO\u001b[0m\u001b[32mO\u001b[0m\u001b[32mO\u001b[0m\u001b[32mO\u001b[0m\u001b[32mO\u001b[0m\u001b[32mO\u001b[0m\u001b[32mO\u001b[0m\u001b[32mO\u001b[0m\u001b[32mO\u001b[0m\u001b[32mO\u001b[0m\u001b[32mO\u001b[0m\u001b[32mO\u001b[0m\u001b[32mO\u001b[0m\u001b[32mO\u001b[0m\u001b[32mO\u001b[0m\u001b[32mO\u001b[0m\u001b[32mO\u001b[0m\u001b[32mO\u001b[0m\u001b[32mO\u001b[0m\u001b[32mO\u001b[0m\u001b[32mO\u001b[0m\u001b[32mO\u001b[0m\u001b[32mO\u001b[0m\u001b[32mO\u001b[0m\u001b[32mO\u001b[0m\u001b[32mO\u001b[0m\u001b[32mO\u001b[0m\u001b[32mO\u001b[0m\u001b[32mO\u001b[0m\u001b[32mO\u001b[0m\u001b[32mO\u001b[0m\u001b[32mO\u001b[0m\u001b[32mO\u001b[0m\u001b[32mO\u001b[0m\u001b[32mO\u001b[0m\u001b[32mO\u001b[0m\u001b[32mO\u001b[0m\u001b[32mO\u001b[0m\u001b[32mO\u001b[0m\u001b[32mO\u001b[0m\u001b[32mO\u001b[0m\u001b[32mO\u001b[0m\u001b[32mO\u001b[0m\n",
      "\u001b[32mO\u001b[0m\u001b[32mO\u001b[0m\u001b[32mO\u001b[0m\u001b[32mO\u001b[0m\u001b[32mO\u001b[0m\u001b[32mO\u001b[0m\u001b[32mO\u001b[0m\u001b[32mO\u001b[0m\u001b[32mO\u001b[0m\u001b[32mO\u001b[0m\u001b[32mO\u001b[0m\u001b[32mO\u001b[0m\u001b[32mO\u001b[0m\u001b[32mO\u001b[0m\u001b[32mO\u001b[0m\u001b[32mO\u001b[0m\u001b[32mO\u001b[0m\u001b[32mO\u001b[0m\u001b[32mO\u001b[0m\u001b[32mO\u001b[0m\u001b[32mO\u001b[0m\u001b[32mO\u001b[0m\u001b[32mO\u001b[0m\u001b[32mO\u001b[0m\u001b[32mO\u001b[0m\u001b[32mO\u001b[0m\u001b[32mO\u001b[0m\u001b[32mO\u001b[0m\u001b[32mO\u001b[0m\u001b[32mO\u001b[0m\u001b[32mO\u001b[0m\u001b[32mO\u001b[0m\u001b[32mO\u001b[0m\u001b[32mO\u001b[0m\u001b[32mO\u001b[0m\u001b[32mO\u001b[0m\u001b[32mO\u001b[0m\u001b[32mO\u001b[0m\u001b[32mO\u001b[0m\u001b[32mO\u001b[0m\u001b[32mO\u001b[0m\u001b[32mO\u001b[0m\u001b[32mO\u001b[0m\u001b[32mO\u001b[0m\u001b[32mO\u001b[0m\u001b[32mO\u001b[0m\u001b[32mO\u001b[0m\u001b[32mO\u001b[0m\u001b[32mO\u001b[0m\u001b[32mO\u001b[0m\u001b[32mO\u001b[0m\u001b[32mO\u001b[0m\u001b[32mO\u001b[0m\u001b[32mO\u001b[0m\u001b[32mO\u001b[0m\u001b[32mO\u001b[0m\u001b[32mO\u001b[0m\u001b[32mO\u001b[0m\u001b[32mO\u001b[0m\u001b[32mO\u001b[0m\u001b[32mO\u001b[0m\u001b[32mO\u001b[0m\u001b[32mO\u001b[0m\u001b[32mO\u001b[0m\u001b[32mO\u001b[0m\u001b[32mO\u001b[0m\u001b[32mO\u001b[0m\u001b[32mO\u001b[0m\u001b[32mO\u001b[0m\u001b[32mO\u001b[0m\u001b[32mO\u001b[0m\u001b[32mO\u001b[0m\u001b[32mO\u001b[0m\u001b[32mO\u001b[0m\u001b[32mO\u001b[0m\u001b[32mO\u001b[0m\u001b[32mO\u001b[0m\u001b[32mO\u001b[0m\u001b[32mO\u001b[0m\u001b[32mO\u001b[0m\u001b[32mO\u001b[0m\u001b[32mO\u001b[0m\u001b[32mO\u001b[0m\u001b[32mO\u001b[0m\u001b[32mO\u001b[0m\u001b[32mO\u001b[0m\u001b[32mO\u001b[0m\u001b[32mO\u001b[0m\u001b[32mO\u001b[0m\u001b[32mO\u001b[0m\u001b[32mO\u001b[0m\u001b[32mO\u001b[0m\u001b[32mO\u001b[0m\u001b[32mO\u001b[0m\u001b[32mO\u001b[0m\u001b[32mO\u001b[0m\u001b[32mO\u001b[0m\u001b[32mO\u001b[0m\u001b[32mO\u001b[0m\u001b[32mO\u001b[0m\u001b[32mO\u001b[0m\u001b[32mO\u001b[0m\u001b[32mO\u001b[0m\u001b[32mO\u001b[0m\u001b[32mO\u001b[0m\u001b[32mO\u001b[0m\u001b[32mO\u001b[0m\u001b[32mO\u001b[0m\u001b[32mO\u001b[0m\u001b[32mO\u001b[0m\u001b[32mO\u001b[0m\u001b[32mO\u001b[0m\u001b[32mO\u001b[0m\u001b[32mO\u001b[0m\u001b[32mO\u001b[0m\u001b[32mO\u001b[0m\u001b[32mO\u001b[0m\u001b[32mO\u001b[0m\u001b[32mO\u001b[0m\u001b[32mO\u001b[0m\u001b[32mO\u001b[0m\u001b[32mO\u001b[0m\u001b[32mO\u001b[0m\u001b[32mO\u001b[0m\u001b[32mO\u001b[0m\u001b[32mO\u001b[0m\u001b[32mO\u001b[0m\u001b[32mO\u001b[0m\u001b[32mO\u001b[0m\u001b[32mO\u001b[0m\u001b[32mO\u001b[0m\u001b[32mO\u001b[0m\u001b[32mO\u001b[0m\u001b[32mO\u001b[0m\u001b[32mO\u001b[0m\u001b[32mO\u001b[0m\u001b[32mO\u001b[0m\u001b[32mO\u001b[0m\u001b[32mO\u001b[0m\u001b[32mO\u001b[0m\n",
      "\u001b[32mO\u001b[0m\u001b[32mO\u001b[0m\u001b[32mO\u001b[0m\u001b[32mO\u001b[0m\u001b[32mO\u001b[0m\u001b[32mO\u001b[0m\u001b[32mO\u001b[0m\u001b[32mO\u001b[0m\u001b[32mO\u001b[0m\u001b[32mO\u001b[0m\u001b[32mO\u001b[0m\u001b[32mO\u001b[0m\u001b[32mO\u001b[0m\u001b[32mO\u001b[0m\u001b[32mO\u001b[0m\u001b[32mO\u001b[0m\u001b[32mO\u001b[0m\u001b[32mO\u001b[0m\u001b[32mO\u001b[0m\u001b[32mO\u001b[0m\u001b[32mO\u001b[0m\u001b[32mO\u001b[0m\u001b[32mO\u001b[0m\u001b[32mO\u001b[0m\u001b[32mO\u001b[0m\u001b[32mO\u001b[0m\u001b[32mO\u001b[0m\u001b[32mO\u001b[0m\u001b[32mO\u001b[0m\u001b[32mO\u001b[0m\u001b[32mO\u001b[0m\u001b[32mO\u001b[0m\u001b[32mO\u001b[0m\u001b[32mO\u001b[0m\u001b[32mO\u001b[0m\u001b[32mO\u001b[0m\u001b[32mO\u001b[0m\u001b[32mO\u001b[0m\u001b[32mO\u001b[0m\u001b[32mO\u001b[0m\u001b[32mO\u001b[0m\u001b[32mO\u001b[0m\u001b[32mO\u001b[0m\u001b[32mO\u001b[0m\u001b[32mO\u001b[0m\u001b[32mO\u001b[0m\u001b[32mO\u001b[0m\u001b[32mO\u001b[0m\u001b[32mO\u001b[0m\u001b[32mO\u001b[0m\u001b[32mO\u001b[0m\u001b[32mO\u001b[0m\u001b[32mO\u001b[0m\u001b[32mO\u001b[0m\u001b[32mO\u001b[0m\u001b[32mO\u001b[0m\u001b[32mO\u001b[0m\u001b[32mO\u001b[0m\u001b[32mO\u001b[0m\u001b[32mO\u001b[0m\u001b[32mO\u001b[0m\u001b[32mO\u001b[0m\u001b[32mO\u001b[0m\u001b[32mO\u001b[0m\u001b[32mO\u001b[0m\u001b[32mO\u001b[0m\u001b[32mO\u001b[0m\u001b[32mO\u001b[0m\u001b[32mO\u001b[0m\u001b[32mO\u001b[0m\u001b[32mO\u001b[0m\u001b[32mO\u001b[0m\u001b[32mO\u001b[0m\u001b[32mO\u001b[0m\u001b[32mO\u001b[0m\u001b[32mO\u001b[0m\u001b[32mO\u001b[0m\u001b[32mO\u001b[0m\u001b[32mO\u001b[0m\u001b[32mO\u001b[0m\u001b[32mO\u001b[0m\u001b[32mO\u001b[0m\u001b[32mO\u001b[0m\u001b[32mO\u001b[0m\u001b[32mO\u001b[0m\u001b[32mO\u001b[0m\u001b[32mO\u001b[0m\u001b[32mO\u001b[0m\u001b[32mO\u001b[0m\u001b[32mO\u001b[0m\u001b[32mO\u001b[0m\u001b[32mO\u001b[0m\u001b[32mO\u001b[0m\u001b[32mO\u001b[0m\u001b[32mO\u001b[0m\u001b[32mO\u001b[0m\u001b[32mO\u001b[0m\u001b[32mO\u001b[0m\u001b[32mO\u001b[0m\u001b[32mO\u001b[0m\u001b[32mO\u001b[0m\u001b[32mO\u001b[0m\u001b[32mO\u001b[0m\u001b[32mO\u001b[0m\u001b[32mO\u001b[0m\u001b[32mO\u001b[0m\u001b[32mO\u001b[0m\u001b[32mO\u001b[0m\u001b[32mO\u001b[0m\u001b[32mO\u001b[0m\u001b[32mO\u001b[0m\u001b[32mO\u001b[0m\u001b[32mO\u001b[0m\u001b[32mO\u001b[0m\u001b[32mO\u001b[0m\u001b[32mO\u001b[0m\u001b[32mO\u001b[0m\u001b[32mO\u001b[0m\u001b[32mO\u001b[0m\u001b[32mO\u001b[0m\u001b[32mO\u001b[0m\u001b[32mO\u001b[0m\u001b[32mO\u001b[0m\u001b[32mO\u001b[0m\u001b[32mO\u001b[0m\u001b[32mO\u001b[0m\u001b[32mO\u001b[0m\u001b[32mO\u001b[0m\u001b[32mO\u001b[0m\u001b[32mO\u001b[0m\u001b[32mO\u001b[0m\u001b[32mO\u001b[0m\u001b[32mO\u001b[0m\u001b[32mO\u001b[0m\u001b[32mO\u001b[0m\u001b[32mO\u001b[0m\u001b[32mO\u001b[0m\u001b[32mO\u001b[0m\u001b[32mO\u001b[0m\u001b[32mO\u001b[0m\n",
      "\u001b[32mO\u001b[0m\u001b[32mO\u001b[0m\u001b[32mO\u001b[0m\u001b[32mO\u001b[0m\u001b[32mO\u001b[0m\u001b[32mO\u001b[0m\u001b[32mO\u001b[0m\u001b[32mO\u001b[0m\u001b[32mO\u001b[0m\u001b[32mO\u001b[0m\u001b[32mO\u001b[0m\u001b[32mO\u001b[0m\u001b[32mO\u001b[0m\u001b[32mO\u001b[0m\u001b[32mO\u001b[0m\u001b[32mO\u001b[0m\u001b[32mO\u001b[0m\u001b[32mO\u001b[0m\u001b[32mO\u001b[0m\u001b[32mO\u001b[0m\u001b[32mO\u001b[0m\u001b[32mO\u001b[0m\u001b[32mO\u001b[0m\u001b[32mO\u001b[0m\u001b[32mO\u001b[0m\u001b[32mO\u001b[0m\u001b[32mO\u001b[0m\u001b[32mO\u001b[0m\u001b[32mO\u001b[0m\u001b[32mO\u001b[0m\u001b[32mO\u001b[0m\u001b[32mO\u001b[0m\u001b[32mO\u001b[0m\u001b[32mO\u001b[0m\u001b[32mO\u001b[0m\u001b[32mO\u001b[0m\u001b[32mO\u001b[0m\u001b[32mO\u001b[0m\u001b[32mO\u001b[0m\u001b[32mO\u001b[0m\u001b[32mO\u001b[0m\u001b[32mO\u001b[0m\u001b[32mO\u001b[0m\u001b[32mO\u001b[0m\u001b[32mO\u001b[0m\u001b[32mO\u001b[0m\u001b[32mO\u001b[0m\u001b[32mO\u001b[0m\u001b[32mO\u001b[0m\u001b[32mO\u001b[0m\u001b[32mO\u001b[0m\u001b[32mO\u001b[0m\u001b[32mO\u001b[0m\u001b[32mO\u001b[0m\u001b[32mO\u001b[0m\u001b[32mO\u001b[0m\u001b[32mO\u001b[0m\u001b[32mO\u001b[0m\u001b[32mO\u001b[0m\u001b[32mO\u001b[0m\u001b[32mO\u001b[0m\u001b[32mO\u001b[0m\u001b[32mO\u001b[0m\u001b[32mO\u001b[0m\u001b[32mO\u001b[0m\u001b[32mO\u001b[0m\u001b[32mO\u001b[0m\u001b[32mO\u001b[0m\u001b[32mO\u001b[0m\u001b[32mO\u001b[0m\u001b[32mO\u001b[0m\u001b[32mO\u001b[0m\u001b[32mO\u001b[0m\u001b[32mO\u001b[0m\u001b[32mO\u001b[0m\u001b[32mO\u001b[0m\u001b[32mO\u001b[0m\u001b[32mO\u001b[0m\u001b[32mO\u001b[0m\u001b[32mO\u001b[0m\u001b[32mO\u001b[0m\u001b[32mO\u001b[0m\u001b[32mO\u001b[0m\u001b[32mO\u001b[0m\u001b[32mO\u001b[0m\u001b[32mO\u001b[0m\u001b[32mO\u001b[0m\u001b[32mO\u001b[0m\u001b[32mO\u001b[0m\u001b[32mO\u001b[0m\u001b[32mO\u001b[0m\u001b[32mO\u001b[0m\u001b[32mO\u001b[0m\u001b[32mO\u001b[0m\u001b[32mO\u001b[0m\u001b[32mO\u001b[0m\u001b[32mO\u001b[0m\u001b[32mO\u001b[0m\u001b[32mO\u001b[0m\u001b[32mO\u001b[0m\u001b[32mO\u001b[0m\u001b[32mO\u001b[0m\u001b[32mO\u001b[0m\u001b[32mO\u001b[0m\u001b[32mO\u001b[0m\u001b[32mO\u001b[0m\u001b[32mO\u001b[0m\u001b[32mO\u001b[0m\u001b[32mO\u001b[0m\u001b[32mO\u001b[0m\u001b[32mO\u001b[0m\u001b[32mO\u001b[0m\u001b[32mO\u001b[0m\u001b[32mO\u001b[0m\u001b[32mO\u001b[0m\u001b[32mO\u001b[0m\u001b[32mO\u001b[0m\u001b[32mO\u001b[0m\u001b[32mO\u001b[0m\u001b[32mO\u001b[0m\u001b[32mO\u001b[0m\u001b[32mO\u001b[0m\u001b[32mO\u001b[0m\u001b[32mO\u001b[0m\u001b[32mO\u001b[0m\u001b[32mO\u001b[0m\u001b[32mO\u001b[0m\u001b[32mO\u001b[0m\u001b[32mO\u001b[0m\u001b[32mO\u001b[0m\u001b[32mO\u001b[0m\u001b[32mO\u001b[0m\u001b[32mO\u001b[0m\u001b[32mO\u001b[0m\u001b[32mO\u001b[0m\u001b[32mO\u001b[0m\u001b[32mO\u001b[0m\u001b[32mO\u001b[0m\u001b[32mO\u001b[0m\u001b[32mO\u001b[0m\n",
      "\u001b[32mO\u001b[0m\u001b[32mO\u001b[0m\u001b[32mO\u001b[0m\u001b[32mO\u001b[0m\u001b[32mO\u001b[0m\u001b[32mO\u001b[0m\u001b[32mO\u001b[0m\u001b[32mO\u001b[0m\u001b[32mO\u001b[0m\u001b[32mO\u001b[0m\u001b[32mO\u001b[0m\u001b[32mO\u001b[0m\u001b[32mO\u001b[0m\u001b[32mO\u001b[0m\u001b[32mO\u001b[0m\u001b[32mO\u001b[0m\u001b[32mO\u001b[0m\u001b[32mO\u001b[0m\u001b[32mO\u001b[0m\u001b[32mO\u001b[0m\u001b[32mO\u001b[0m\u001b[32mO\u001b[0m\u001b[32mO\u001b[0m\u001b[32mO\u001b[0m\u001b[32mO\u001b[0m\u001b[32mO\u001b[0m\u001b[32mO\u001b[0m\u001b[32mO\u001b[0m\u001b[31m┏\u001b[0m\u001b[31m┓\u001b[0m\u001b[32mO\u001b[0m\u001b[32mO\u001b[0m\u001b[32mO\u001b[0m\u001b[32mO\u001b[0m\u001b[32mO\u001b[0m\u001b[32mO\u001b[0m\u001b[32mO\u001b[0m\u001b[32mO\u001b[0m\u001b[32mO\u001b[0m\u001b[32mO\u001b[0m\u001b[32mO\u001b[0m\u001b[32mO\u001b[0m\u001b[32mO\u001b[0m\u001b[32mO\u001b[0m\u001b[32mO\u001b[0m\u001b[32mO\u001b[0m\u001b[32mO\u001b[0m\u001b[32mO\u001b[0m\u001b[32mO\u001b[0m\u001b[32mO\u001b[0m\u001b[32mO\u001b[0m\u001b[32mO\u001b[0m\u001b[32mO\u001b[0m\u001b[32mO\u001b[0m\u001b[32mO\u001b[0m\u001b[32mO\u001b[0m\u001b[32mO\u001b[0m\u001b[32mO\u001b[0m\u001b[32mO\u001b[0m\u001b[32mO\u001b[0m\u001b[32mO\u001b[0m\u001b[32mO\u001b[0m\u001b[32mO\u001b[0m\u001b[32mO\u001b[0m\u001b[32mO\u001b[0m\u001b[32mO\u001b[0m\u001b[32mO\u001b[0m\u001b[32mO\u001b[0m\u001b[32mO\u001b[0m\u001b[32mO\u001b[0m\u001b[32mO\u001b[0m\u001b[32mO\u001b[0m\u001b[32mO\u001b[0m\u001b[32mO\u001b[0m\u001b[32mO\u001b[0m\u001b[32mO\u001b[0m\u001b[32mO\u001b[0m\u001b[32mO\u001b[0m\u001b[32mO\u001b[0m\u001b[32mO\u001b[0m\u001b[32mO\u001b[0m\u001b[32mO\u001b[0m\u001b[32mO\u001b[0m\u001b[32mO\u001b[0m\u001b[32mO\u001b[0m\u001b[32mO\u001b[0m\u001b[32mO\u001b[0m\u001b[32mO\u001b[0m\u001b[32mO\u001b[0m\u001b[32mO\u001b[0m\u001b[32mO\u001b[0m\u001b[32mO\u001b[0m\u001b[32mO\u001b[0m\u001b[32mO\u001b[0m\u001b[32mO\u001b[0m\u001b[32mO\u001b[0m\u001b[32mO\u001b[0m\u001b[32mO\u001b[0m\u001b[32mO\u001b[0m\u001b[32mO\u001b[0m\u001b[32mO\u001b[0m\u001b[32mO\u001b[0m\u001b[32mO\u001b[0m\u001b[32mO\u001b[0m\u001b[32mO\u001b[0m\u001b[32mO\u001b[0m\u001b[32mO\u001b[0m\u001b[32mO\u001b[0m\u001b[32mO\u001b[0m\u001b[32mO\u001b[0m\u001b[32mO\u001b[0m\u001b[32mO\u001b[0m\u001b[32mO\u001b[0m\u001b[32mO\u001b[0m\u001b[32mO\u001b[0m\u001b[32mO\u001b[0m\u001b[32mO\u001b[0m\u001b[32mO\u001b[0m\u001b[32mO\u001b[0m\u001b[32mO\u001b[0m\u001b[32mO\u001b[0m\u001b[32mO\u001b[0m\u001b[32mO\u001b[0m\u001b[32mO\u001b[0m\u001b[32mO\u001b[0m\u001b[32mO\u001b[0m\u001b[32mO\u001b[0m\u001b[32mO\u001b[0m\u001b[32mO\u001b[0m\u001b[32mO\u001b[0m\u001b[32mO\u001b[0m\u001b[32mO\u001b[0m\u001b[32mO\u001b[0m\u001b[32mO\u001b[0m\u001b[32mO\u001b[0m\u001b[32mO\u001b[0m\u001b[32mO\u001b[0m\u001b[32mO\u001b[0m\u001b[32mO\u001b[0m\u001b[32mO\u001b[0m\n",
      "\u001b[32mO\u001b[0m\u001b[32mO\u001b[0m\u001b[32mO\u001b[0m\u001b[32mO\u001b[0m\u001b[32mO\u001b[0m\u001b[32mO\u001b[0m\u001b[32mO\u001b[0m\u001b[32mO\u001b[0m\u001b[32mO\u001b[0m\u001b[32mO\u001b[0m\u001b[32mO\u001b[0m\u001b[32mO\u001b[0m\u001b[32mO\u001b[0m\u001b[32mO\u001b[0m\u001b[32mO\u001b[0m\u001b[32mO\u001b[0m\u001b[32mO\u001b[0m\u001b[32mO\u001b[0m\u001b[32mO\u001b[0m\u001b[32mO\u001b[0m\u001b[32mO\u001b[0m\u001b[32mO\u001b[0m\u001b[32mO\u001b[0m\u001b[32mO\u001b[0m\u001b[32mO\u001b[0m\u001b[32mO\u001b[0m\u001b[32mO\u001b[0m\u001b[32mO\u001b[0m\u001b[31m┃\u001b[0m\u001b[31m┃\u001b[0m\u001b[32mO\u001b[0m\u001b[32mO\u001b[0m\u001b[32mO\u001b[0m\u001b[32mO\u001b[0m\u001b[32mO\u001b[0m\u001b[32mO\u001b[0m\u001b[32mO\u001b[0m\u001b[32mO\u001b[0m\u001b[32mO\u001b[0m\u001b[32mO\u001b[0m\u001b[32mO\u001b[0m\u001b[32mO\u001b[0m\u001b[32mO\u001b[0m\u001b[32mO\u001b[0m\u001b[32mO\u001b[0m\u001b[32mO\u001b[0m\u001b[32mO\u001b[0m\u001b[32mO\u001b[0m\u001b[32mO\u001b[0m\u001b[32mO\u001b[0m\u001b[32mO\u001b[0m\u001b[32mO\u001b[0m\u001b[32mO\u001b[0m\u001b[32mO\u001b[0m\u001b[32mO\u001b[0m\u001b[32mO\u001b[0m\u001b[32mO\u001b[0m\u001b[32mO\u001b[0m\u001b[32mO\u001b[0m\u001b[32mO\u001b[0m\u001b[32mO\u001b[0m\u001b[32mO\u001b[0m\u001b[32mO\u001b[0m\u001b[32mO\u001b[0m\u001b[32mO\u001b[0m\u001b[32mO\u001b[0m\u001b[32mO\u001b[0m\u001b[32mO\u001b[0m\u001b[32mO\u001b[0m\u001b[32mO\u001b[0m\u001b[32mO\u001b[0m\u001b[32mO\u001b[0m\u001b[32mO\u001b[0m\u001b[32mO\u001b[0m\u001b[32mO\u001b[0m\u001b[32mO\u001b[0m\u001b[32mO\u001b[0m\u001b[32mO\u001b[0m\u001b[32mO\u001b[0m\u001b[32mO\u001b[0m\u001b[32mO\u001b[0m\u001b[32mO\u001b[0m\u001b[32mO\u001b[0m\u001b[32mO\u001b[0m\u001b[32mO\u001b[0m\u001b[32mO\u001b[0m\u001b[32mO\u001b[0m\u001b[32mO\u001b[0m\u001b[32mO\u001b[0m\u001b[32mO\u001b[0m\u001b[32mO\u001b[0m\u001b[32mO\u001b[0m\u001b[32mO\u001b[0m\u001b[32mO\u001b[0m\u001b[32mO\u001b[0m\u001b[32mO\u001b[0m\u001b[32mO\u001b[0m\u001b[32mO\u001b[0m\u001b[32mO\u001b[0m\u001b[32mO\u001b[0m\u001b[32mO\u001b[0m\u001b[32mO\u001b[0m\u001b[32mO\u001b[0m\u001b[32mO\u001b[0m\u001b[32mO\u001b[0m\u001b[32mO\u001b[0m\u001b[32mO\u001b[0m\u001b[32mO\u001b[0m\u001b[32mO\u001b[0m\u001b[32mO\u001b[0m\u001b[32mO\u001b[0m\u001b[32mO\u001b[0m\u001b[32mO\u001b[0m\u001b[32mO\u001b[0m\u001b[32mO\u001b[0m\u001b[32mO\u001b[0m\u001b[32mO\u001b[0m\u001b[32mO\u001b[0m\u001b[32mO\u001b[0m\u001b[32mO\u001b[0m\u001b[32mO\u001b[0m\u001b[32mO\u001b[0m\u001b[32mO\u001b[0m\u001b[32mO\u001b[0m\u001b[32mO\u001b[0m\u001b[32mO\u001b[0m\u001b[32mO\u001b[0m\u001b[32mO\u001b[0m\u001b[32mO\u001b[0m\u001b[32mO\u001b[0m\u001b[32mO\u001b[0m\u001b[32mO\u001b[0m\u001b[32mO\u001b[0m\u001b[32mO\u001b[0m\u001b[32mO\u001b[0m\u001b[32mO\u001b[0m\u001b[32mO\u001b[0m\u001b[32mO\u001b[0m\u001b[32mO\u001b[0m\u001b[32mO\u001b[0m\n",
      "\u001b[32mO\u001b[0m\u001b[32mO\u001b[0m\u001b[32mO\u001b[0m\u001b[32mO\u001b[0m\u001b[32mO\u001b[0m\u001b[32mO\u001b[0m\u001b[32mO\u001b[0m\u001b[32mO\u001b[0m\u001b[32mO\u001b[0m\u001b[32mO\u001b[0m\u001b[32mO\u001b[0m\u001b[32mO\u001b[0m\u001b[32mO\u001b[0m\u001b[32mO\u001b[0m\u001b[32mO\u001b[0m\u001b[32mO\u001b[0m\u001b[32mO\u001b[0m\u001b[32mO\u001b[0m\u001b[32mO\u001b[0m\u001b[32mO\u001b[0m\u001b[32mO\u001b[0m\u001b[32mO\u001b[0m\u001b[32mO\u001b[0m\u001b[32mO\u001b[0m\u001b[32mO\u001b[0m\u001b[32mO\u001b[0m\u001b[32mO\u001b[0m\u001b[31m┏\u001b[0m\u001b[31m┛\u001b[0m\u001b[31m┃\u001b[0m\u001b[32mO\u001b[0m\u001b[32mO\u001b[0m\u001b[32mO\u001b[0m\u001b[32mO\u001b[0m\u001b[32mO\u001b[0m\u001b[32mO\u001b[0m\u001b[32mO\u001b[0m\u001b[32mO\u001b[0m\u001b[32mO\u001b[0m\u001b[32mO\u001b[0m\u001b[32mO\u001b[0m\u001b[32mO\u001b[0m\u001b[31m┏\u001b[0m\u001b[31m┓\u001b[0m\u001b[32mO\u001b[0m\u001b[32mO\u001b[0m\u001b[32mO\u001b[0m\u001b[32mO\u001b[0m\u001b[32mO\u001b[0m\u001b[32mO\u001b[0m\u001b[32mO\u001b[0m\u001b[32mO\u001b[0m\u001b[32mO\u001b[0m\u001b[32mO\u001b[0m\u001b[32mO\u001b[0m\u001b[32mO\u001b[0m\u001b[32mO\u001b[0m\u001b[32mO\u001b[0m\u001b[32mO\u001b[0m\u001b[32mO\u001b[0m\u001b[32mO\u001b[0m\u001b[32mO\u001b[0m\u001b[32mO\u001b[0m\u001b[32mO\u001b[0m\u001b[32mO\u001b[0m\u001b[32mO\u001b[0m\u001b[32mO\u001b[0m\u001b[32mO\u001b[0m\u001b[32mO\u001b[0m\u001b[32mO\u001b[0m\u001b[32mO\u001b[0m\u001b[32mO\u001b[0m\u001b[32mO\u001b[0m\u001b[32mO\u001b[0m\u001b[32mO\u001b[0m\u001b[32mO\u001b[0m\u001b[32mO\u001b[0m\u001b[32mO\u001b[0m\u001b[32mO\u001b[0m\u001b[32mO\u001b[0m\u001b[32mO\u001b[0m\u001b[32mO\u001b[0m\u001b[32mO\u001b[0m\u001b[32mO\u001b[0m\u001b[32mO\u001b[0m\u001b[32mO\u001b[0m\u001b[32mO\u001b[0m\u001b[32mO\u001b[0m\u001b[32mO\u001b[0m\u001b[32mO\u001b[0m\u001b[32mO\u001b[0m\u001b[32mO\u001b[0m\u001b[32mO\u001b[0m\u001b[32mO\u001b[0m\u001b[32mO\u001b[0m\u001b[32mO\u001b[0m\u001b[32mO\u001b[0m\u001b[32mO\u001b[0m\u001b[32mO\u001b[0m\u001b[32mO\u001b[0m\u001b[32mO\u001b[0m\u001b[32mO\u001b[0m\u001b[32mO\u001b[0m\u001b[32mO\u001b[0m\u001b[32mO\u001b[0m\u001b[31m┏\u001b[0m\u001b[31m┓\u001b[0m\u001b[32mO\u001b[0m\u001b[32mO\u001b[0m\u001b[32mO\u001b[0m\u001b[32mO\u001b[0m\u001b[32mO\u001b[0m\u001b[32mO\u001b[0m\u001b[32mO\u001b[0m\u001b[32mO\u001b[0m\u001b[32mO\u001b[0m\u001b[32mO\u001b[0m\u001b[32mO\u001b[0m\u001b[32mO\u001b[0m\u001b[32mO\u001b[0m\u001b[32mO\u001b[0m\u001b[32mO\u001b[0m\u001b[32mO\u001b[0m\u001b[32mO\u001b[0m\u001b[32mO\u001b[0m\u001b[32mO\u001b[0m\u001b[32mO\u001b[0m\u001b[32mO\u001b[0m\u001b[32mO\u001b[0m\u001b[32mO\u001b[0m\u001b[32mO\u001b[0m\u001b[32mO\u001b[0m\u001b[32mO\u001b[0m\u001b[32mO\u001b[0m\u001b[32mO\u001b[0m\u001b[32mO\u001b[0m\u001b[32mO\u001b[0m\u001b[32mO\u001b[0m\u001b[32mO\u001b[0m\u001b[32mO\u001b[0m\n",
      "\u001b[32mO\u001b[0m\u001b[32mO\u001b[0m\u001b[32mO\u001b[0m\u001b[32mO\u001b[0m\u001b[32mO\u001b[0m\u001b[32mO\u001b[0m\u001b[32mO\u001b[0m\u001b[32mO\u001b[0m\u001b[32mO\u001b[0m\u001b[32mO\u001b[0m\u001b[32mO\u001b[0m\u001b[32mO\u001b[0m\u001b[32mO\u001b[0m\u001b[32mO\u001b[0m\u001b[32mO\u001b[0m\u001b[32mO\u001b[0m\u001b[32mO\u001b[0m\u001b[32mO\u001b[0m\u001b[32mO\u001b[0m\u001b[32mO\u001b[0m\u001b[32mO\u001b[0m\u001b[32mO\u001b[0m\u001b[32mO\u001b[0m\u001b[32mO\u001b[0m\u001b[32mO\u001b[0m\u001b[32mO\u001b[0m\u001b[32mO\u001b[0m\u001b[31m┗\u001b[0m\u001b[31m┓\u001b[0m\u001b[31m┃\u001b[0m\u001b[32mO\u001b[0m\u001b[31m┏\u001b[0m\u001b[31m┓\u001b[0m\u001b[32mO\u001b[0m\u001b[32mO\u001b[0m\u001b[32mO\u001b[0m\u001b[32mO\u001b[0m\u001b[31m┏\u001b[0m\u001b[31m┓\u001b[0m\u001b[32mO\u001b[0m\u001b[32mO\u001b[0m\u001b[32mO\u001b[0m\u001b[31m┃\u001b[0m\u001b[31m┗\u001b[0m\u001b[31m┓\u001b[0m\u001b[32mO\u001b[0m\u001b[32mO\u001b[0m\u001b[32mO\u001b[0m\u001b[32mO\u001b[0m\u001b[32mO\u001b[0m\u001b[32mO\u001b[0m\u001b[32mO\u001b[0m\u001b[32mO\u001b[0m\u001b[32mO\u001b[0m\u001b[32mO\u001b[0m\u001b[32mO\u001b[0m\u001b[32mO\u001b[0m\u001b[32mO\u001b[0m\u001b[32mO\u001b[0m\u001b[32mO\u001b[0m\u001b[32mO\u001b[0m\u001b[32mO\u001b[0m\u001b[32mO\u001b[0m\u001b[32mO\u001b[0m\u001b[32mO\u001b[0m\u001b[32mO\u001b[0m\u001b[32mO\u001b[0m\u001b[32mO\u001b[0m\u001b[32mO\u001b[0m\u001b[32mO\u001b[0m\u001b[32mO\u001b[0m\u001b[32mO\u001b[0m\u001b[32mO\u001b[0m\u001b[32mO\u001b[0m\u001b[32mO\u001b[0m\u001b[32mO\u001b[0m\u001b[32mO\u001b[0m\u001b[32mO\u001b[0m\u001b[32mO\u001b[0m\u001b[32mO\u001b[0m\u001b[32mO\u001b[0m\u001b[32mO\u001b[0m\u001b[32mO\u001b[0m\u001b[32mO\u001b[0m\u001b[32mO\u001b[0m\u001b[32mO\u001b[0m\u001b[32mO\u001b[0m\u001b[32mO\u001b[0m\u001b[32mO\u001b[0m\u001b[32mO\u001b[0m\u001b[32mO\u001b[0m\u001b[32mO\u001b[0m\u001b[32mO\u001b[0m\u001b[32mO\u001b[0m\u001b[32mO\u001b[0m\u001b[32mO\u001b[0m\u001b[32mO\u001b[0m\u001b[32mO\u001b[0m\u001b[32mO\u001b[0m\u001b[32mO\u001b[0m\u001b[32mO\u001b[0m\u001b[32mO\u001b[0m\u001b[32mO\u001b[0m\u001b[32mO\u001b[0m\u001b[32mO\u001b[0m\u001b[31m┃\u001b[0m\u001b[31m┗\u001b[0m\u001b[31m┓\u001b[0m\u001b[32mO\u001b[0m\u001b[32mO\u001b[0m\u001b[32mO\u001b[0m\u001b[32mO\u001b[0m\u001b[32mO\u001b[0m\u001b[32mO\u001b[0m\u001b[32mO\u001b[0m\u001b[32mO\u001b[0m\u001b[32mO\u001b[0m\u001b[32mO\u001b[0m\u001b[32mO\u001b[0m\u001b[32mO\u001b[0m\u001b[32mO\u001b[0m\u001b[32mO\u001b[0m\u001b[32mO\u001b[0m\u001b[32mO\u001b[0m\u001b[32mO\u001b[0m\u001b[32mO\u001b[0m\u001b[32mO\u001b[0m\u001b[32mO\u001b[0m\u001b[32mO\u001b[0m\u001b[32mO\u001b[0m\u001b[32mO\u001b[0m\u001b[32mO\u001b[0m\u001b[32mO\u001b[0m\u001b[32mO\u001b[0m\u001b[32mO\u001b[0m\u001b[32mO\u001b[0m\u001b[32mO\u001b[0m\u001b[32mO\u001b[0m\u001b[32mO\u001b[0m\u001b[32mO\u001b[0m\n",
      "\u001b[32mO\u001b[0m\u001b[32mO\u001b[0m\u001b[32mO\u001b[0m\u001b[32mO\u001b[0m\u001b[32mO\u001b[0m\u001b[32mO\u001b[0m\u001b[32mO\u001b[0m\u001b[32mO\u001b[0m\u001b[32mO\u001b[0m\u001b[32mO\u001b[0m\u001b[32mO\u001b[0m\u001b[32mO\u001b[0m\u001b[32mO\u001b[0m\u001b[32mO\u001b[0m\u001b[32mO\u001b[0m\u001b[32mO\u001b[0m\u001b[32mO\u001b[0m\u001b[32mO\u001b[0m\u001b[32mO\u001b[0m\u001b[32mO\u001b[0m\u001b[32mO\u001b[0m\u001b[32mO\u001b[0m\u001b[32mO\u001b[0m\u001b[32mO\u001b[0m\u001b[32mO\u001b[0m\u001b[31m┏\u001b[0m\u001b[31m━\u001b[0m\u001b[31m┓\u001b[0m\u001b[31m┃\u001b[0m\u001b[31m┃\u001b[0m\u001b[32mO\u001b[0m\u001b[31m┃\u001b[0m\u001b[31m┃\u001b[0m\u001b[32mO\u001b[0m\u001b[32mO\u001b[0m\u001b[32mO\u001b[0m\u001b[32mO\u001b[0m\u001b[31m┃\u001b[0m\u001b[31m┃\u001b[0m\u001b[32mO\u001b[0m\u001b[32mO\u001b[0m\u001b[31m┏\u001b[0m\u001b[31m┛\u001b[0m\u001b[31m┏\u001b[0m\u001b[31m┛\u001b[0m\u001b[31m┏\u001b[0m\u001b[31m┓\u001b[0m\u001b[31m┏\u001b[0m\u001b[31m━\u001b[0m\u001b[31m━\u001b[0m\u001b[31m━\u001b[0m\u001b[31m┓\u001b[0m\u001b[32mO\u001b[0m\u001b[32mO\u001b[0m\u001b[32mO\u001b[0m\u001b[32mO\u001b[0m\u001b[32mO\u001b[0m\u001b[32mO\u001b[0m\u001b[32mO\u001b[0m\u001b[32mO\u001b[0m\u001b[32mO\u001b[0m\u001b[32mO\u001b[0m\u001b[32mO\u001b[0m\u001b[32mO\u001b[0m\u001b[32mO\u001b[0m\u001b[32mO\u001b[0m\u001b[32mO\u001b[0m\u001b[32mO\u001b[0m\u001b[32mO\u001b[0m\u001b[32mO\u001b[0m\u001b[32mO\u001b[0m\u001b[32mO\u001b[0m\u001b[32mO\u001b[0m\u001b[32mO\u001b[0m\u001b[32mO\u001b[0m\u001b[32mO\u001b[0m\u001b[32mO\u001b[0m\u001b[32mO\u001b[0m\u001b[32mO\u001b[0m\u001b[32mO\u001b[0m\u001b[32mO\u001b[0m\u001b[32mO\u001b[0m\u001b[32mO\u001b[0m\u001b[32mO\u001b[0m\u001b[32mO\u001b[0m\u001b[32mO\u001b[0m\u001b[32mO\u001b[0m\u001b[32mO\u001b[0m\u001b[32mO\u001b[0m\u001b[32mO\u001b[0m\u001b[32mO\u001b[0m\u001b[32mO\u001b[0m\u001b[32mO\u001b[0m\u001b[32mO\u001b[0m\u001b[32mO\u001b[0m\u001b[32mO\u001b[0m\u001b[32mO\u001b[0m\u001b[32mO\u001b[0m\u001b[31m┏\u001b[0m\u001b[31m┓\u001b[0m\u001b[31m┏\u001b[0m\u001b[31m┓\u001b[0m\u001b[31m┏\u001b[0m\u001b[31m━\u001b[0m\u001b[31m━\u001b[0m\u001b[31m┛\u001b[0m\u001b[31m┏\u001b[0m\u001b[31m┛\u001b[0m\u001b[32mO\u001b[0m\u001b[32mO\u001b[0m\u001b[32mO\u001b[0m\u001b[32mO\u001b[0m\u001b[32mO\u001b[0m\u001b[32mO\u001b[0m\u001b[32mO\u001b[0m\u001b[32mO\u001b[0m\u001b[32mO\u001b[0m\u001b[32mO\u001b[0m\u001b[32mO\u001b[0m\u001b[32mO\u001b[0m\u001b[32mO\u001b[0m\u001b[32mO\u001b[0m\u001b[32mO\u001b[0m\u001b[32mO\u001b[0m\u001b[32mO\u001b[0m\u001b[32mO\u001b[0m\u001b[32mO\u001b[0m\u001b[32mO\u001b[0m\u001b[32mO\u001b[0m\u001b[32mO\u001b[0m\u001b[32mO\u001b[0m\u001b[32mO\u001b[0m\u001b[32mO\u001b[0m\u001b[32mO\u001b[0m\u001b[32mO\u001b[0m\u001b[32mO\u001b[0m\u001b[32mO\u001b[0m\u001b[32mO\u001b[0m\u001b[32mO\u001b[0m\u001b[32mO\u001b[0m\n",
      "\u001b[32mO\u001b[0m\u001b[32mO\u001b[0m\u001b[32mO\u001b[0m\u001b[32mO\u001b[0m\u001b[32mO\u001b[0m\u001b[32mO\u001b[0m\u001b[32mO\u001b[0m\u001b[32mO\u001b[0m\u001b[32mO\u001b[0m\u001b[32mO\u001b[0m\u001b[32mO\u001b[0m\u001b[32mO\u001b[0m\u001b[32mO\u001b[0m\u001b[32mO\u001b[0m\u001b[32mO\u001b[0m\u001b[32mO\u001b[0m\u001b[32mO\u001b[0m\u001b[32mO\u001b[0m\u001b[32mO\u001b[0m\u001b[32mO\u001b[0m\u001b[32mO\u001b[0m\u001b[32mO\u001b[0m\u001b[32mO\u001b[0m\u001b[32mO\u001b[0m\u001b[32mO\u001b[0m\u001b[31m┗\u001b[0m\u001b[31m┓\u001b[0m\u001b[31m┃\u001b[0m\u001b[31m┃\u001b[0m\u001b[31m┗\u001b[0m\u001b[31m┓\u001b[0m\u001b[31m┃\u001b[0m\u001b[31m┃\u001b[0m\u001b[32mO\u001b[0m\u001b[32mO\u001b[0m\u001b[32mO\u001b[0m\u001b[32mO\u001b[0m\u001b[31m┃\u001b[0m\u001b[31m┃\u001b[0m\u001b[31m┏\u001b[0m\u001b[31m┓\u001b[0m\u001b[31m┗\u001b[0m\u001b[31m┓\u001b[0m\u001b[31m┗\u001b[0m\u001b[31m━\u001b[0m\u001b[31m┛\u001b[0m\u001b[31m┃\u001b[0m\u001b[31m┃\u001b[0m\u001b[31m┏\u001b[0m\u001b[31m━\u001b[0m\u001b[31m━\u001b[0m\u001b[31m┛\u001b[0m\u001b[32mO\u001b[0m\u001b[32mO\u001b[0m\u001b[32mO\u001b[0m\u001b[32mO\u001b[0m\u001b[31m┏\u001b[0m\u001b[31m┓\u001b[0m\u001b[32mO\u001b[0m\u001b[32mO\u001b[0m\u001b[32mO\u001b[0m\u001b[32mO\u001b[0m\u001b[32mO\u001b[0m\u001b[32mO\u001b[0m\u001b[32mO\u001b[0m\u001b[31m┏\u001b[0m\u001b[31m┓\u001b[0m\u001b[32mO\u001b[0m\u001b[32mO\u001b[0m\u001b[32mO\u001b[0m\u001b[32mO\u001b[0m\u001b[32mO\u001b[0m\u001b[32mO\u001b[0m\u001b[32mO\u001b[0m\u001b[32mO\u001b[0m\u001b[32mO\u001b[0m\u001b[32mO\u001b[0m\u001b[32mO\u001b[0m\u001b[32mO\u001b[0m\u001b[32mO\u001b[0m\u001b[32mO\u001b[0m\u001b[32mO\u001b[0m\u001b[32mO\u001b[0m\u001b[32mO\u001b[0m\u001b[32mO\u001b[0m\u001b[32mO\u001b[0m\u001b[32mO\u001b[0m\u001b[32mO\u001b[0m\u001b[32mO\u001b[0m\u001b[32mO\u001b[0m\u001b[32mO\u001b[0m\u001b[32mO\u001b[0m\u001b[32mO\u001b[0m\u001b[32mO\u001b[0m\u001b[32mO\u001b[0m\u001b[31m┏\u001b[0m\u001b[31m━\u001b[0m\u001b[31m┓\u001b[0m\u001b[31m┃\u001b[0m\u001b[31m┃\u001b[0m\u001b[31m┃\u001b[0m\u001b[31m┃\u001b[0m\u001b[31m┃\u001b[0m\u001b[31m┏\u001b[0m\u001b[31m━\u001b[0m\u001b[31m┓\u001b[0m\u001b[31m┃\u001b[0m\u001b[31m┏\u001b[0m\u001b[31m┓\u001b[0m\u001b[32mO\u001b[0m\u001b[32mO\u001b[0m\u001b[32mO\u001b[0m\u001b[32mO\u001b[0m\u001b[31m┏\u001b[0m\u001b[31m┓\u001b[0m\u001b[32mO\u001b[0m\u001b[32mO\u001b[0m\u001b[32mO\u001b[0m\u001b[32mO\u001b[0m\u001b[32mO\u001b[0m\u001b[32mO\u001b[0m\u001b[32mO\u001b[0m\u001b[32mO\u001b[0m\u001b[32mO\u001b[0m\u001b[32mO\u001b[0m\u001b[32mO\u001b[0m\u001b[32mO\u001b[0m\u001b[32mO\u001b[0m\u001b[32mO\u001b[0m\u001b[32mO\u001b[0m\u001b[32mO\u001b[0m\u001b[32mO\u001b[0m\u001b[32mO\u001b[0m\u001b[32mO\u001b[0m\u001b[32mO\u001b[0m\u001b[32mO\u001b[0m\u001b[32mO\u001b[0m\u001b[32mO\u001b[0m\u001b[32mO\u001b[0m\u001b[32mO\u001b[0m\n",
      "\u001b[32mO\u001b[0m\u001b[32mO\u001b[0m\u001b[32mO\u001b[0m\u001b[32mO\u001b[0m\u001b[32mO\u001b[0m\u001b[32mO\u001b[0m\u001b[32mO\u001b[0m\u001b[32mO\u001b[0m\u001b[32mO\u001b[0m\u001b[32mO\u001b[0m\u001b[32mO\u001b[0m\u001b[32mO\u001b[0m\u001b[32mO\u001b[0m\u001b[32mO\u001b[0m\u001b[32mO\u001b[0m\u001b[32mO\u001b[0m\u001b[32mO\u001b[0m\u001b[32mO\u001b[0m\u001b[32mO\u001b[0m\u001b[32mO\u001b[0m\u001b[32mO\u001b[0m\u001b[32mO\u001b[0m\u001b[32mO\u001b[0m\u001b[32mO\u001b[0m\u001b[32mO\u001b[0m\u001b[32mO\u001b[0m\u001b[31m┃\u001b[0m\u001b[31m┃\u001b[0m\u001b[31m┗\u001b[0m\u001b[31m┓\u001b[0m\u001b[31m┃\u001b[0m\u001b[31m┃\u001b[0m\u001b[31m┗\u001b[0m\u001b[31m━\u001b[0m\u001b[31m┓\u001b[0m\u001b[31m┏\u001b[0m\u001b[31m┓\u001b[0m\u001b[31m┃\u001b[0m\u001b[31m┗\u001b[0m\u001b[31m┛\u001b[0m\u001b[31m┗\u001b[0m\u001b[31m┓\u001b[0m\u001b[31m┗\u001b[0m\u001b[31m┓\u001b[0m\u001b[31m┏\u001b[0m\u001b[31m━\u001b[0m\u001b[31m┛\u001b[0m\u001b[31m┃\u001b[0m\u001b[31m┃\u001b[0m\u001b[31m┏\u001b[0m\u001b[31m┓\u001b[0m\u001b[31m┏\u001b[0m\u001b[31m┓\u001b[0m\u001b[32mO\u001b[0m\u001b[31m┏\u001b[0m\u001b[31m┓\u001b[0m\u001b[31m┃\u001b[0m\u001b[31m┗\u001b[0m\u001b[31m┓\u001b[0m\u001b[32mO\u001b[0m\u001b[32mO\u001b[0m\u001b[32mO\u001b[0m\u001b[32mO\u001b[0m\u001b[32mO\u001b[0m\u001b[32mO\u001b[0m\u001b[31m┃\u001b[0m\u001b[31m┃\u001b[0m\u001b[32mO\u001b[0m\u001b[32mO\u001b[0m\u001b[32mO\u001b[0m\u001b[32mO\u001b[0m\u001b[32mO\u001b[0m\u001b[32mO\u001b[0m\u001b[32mO\u001b[0m\u001b[32mO\u001b[0m\u001b[32mO\u001b[0m\u001b[32mO\u001b[0m\u001b[32mO\u001b[0m\u001b[32mO\u001b[0m\u001b[32mO\u001b[0m\u001b[32mO\u001b[0m\u001b[32mO\u001b[0m\u001b[32mO\u001b[0m\u001b[32mO\u001b[0m\u001b[32mO\u001b[0m\u001b[31m┏\u001b[0m\u001b[31m┓\u001b[0m\u001b[32mO\u001b[0m\u001b[32mO\u001b[0m\u001b[32mO\u001b[0m\u001b[32mO\u001b[0m\u001b[31m┏\u001b[0m\u001b[31m━\u001b[0m\u001b[31m┓\u001b[0m\u001b[31m┏\u001b[0m\u001b[31m┛\u001b[0m\u001b[31m┏\u001b[0m\u001b[31m┛\u001b[0m\u001b[31m┃\u001b[0m\u001b[31m┗\u001b[0m\u001b[31m┛\u001b[0m\u001b[31m┃\u001b[0m\u001b[31m┗\u001b[0m\u001b[31m┛\u001b[0mo\u001b[31m┃\u001b[0m\u001b[31m┗\u001b[0m\u001b[31m┛\u001b[0m\u001b[31m┗\u001b[0m\u001b[31m┓\u001b[0m\u001b[32mO\u001b[0m\u001b[32mO\u001b[0m\u001b[31m┏\u001b[0m\u001b[31m┛\u001b[0m\u001b[31m┗\u001b[0m\u001b[31m┓\u001b[0m\u001b[32mO\u001b[0m\u001b[32mO\u001b[0m\u001b[31m┏\u001b[0m\u001b[31m┓\u001b[0m\u001b[32mO\u001b[0m\u001b[32mO\u001b[0m\u001b[32mO\u001b[0m\u001b[32mO\u001b[0m\u001b[32mO\u001b[0m\u001b[32mO\u001b[0m\u001b[32mO\u001b[0m\u001b[32mO\u001b[0m\u001b[32mO\u001b[0m\u001b[32mO\u001b[0m\u001b[32mO\u001b[0m\u001b[32mO\u001b[0m\u001b[32mO\u001b[0m\u001b[32mO\u001b[0m\u001b[32mO\u001b[0m\u001b[32mO\u001b[0m\u001b[32mO\u001b[0m\u001b[32mO\u001b[0m\u001b[32mO\u001b[0m\u001b[32mO\u001b[0m\n",
      "\u001b[32mO\u001b[0m\u001b[32mO\u001b[0m\u001b[32mO\u001b[0m\u001b[32mO\u001b[0m\u001b[32mO\u001b[0m\u001b[32mO\u001b[0m\u001b[32mO\u001b[0m\u001b[32mO\u001b[0m\u001b[32mO\u001b[0m\u001b[32mO\u001b[0m\u001b[32mO\u001b[0m\u001b[32mO\u001b[0m\u001b[32mO\u001b[0m\u001b[32mO\u001b[0m\u001b[32mO\u001b[0m\u001b[32mO\u001b[0m\u001b[32mO\u001b[0m\u001b[32mO\u001b[0m\u001b[32mO\u001b[0m\u001b[32mO\u001b[0m\u001b[32mO\u001b[0m\u001b[32mO\u001b[0m\u001b[32mO\u001b[0m\u001b[32mO\u001b[0m\u001b[32mO\u001b[0m\u001b[31m┏\u001b[0m\u001b[31m┛\u001b[0m\u001b[31m┗\u001b[0m\u001b[31m━\u001b[0m\u001b[31m┛\u001b[0m\u001b[31m┗\u001b[0m\u001b[31m┛\u001b[0m\u001b[31m┏\u001b[0m\u001b[31m━\u001b[0m\u001b[31m┛\u001b[0m\u001b[31m┃\u001b[0m\u001b[31m┃\u001b[0m\u001b[31m┃\u001b[0m\u001b[31m┏\u001b[0m\u001b[31m┓\u001b[0m\u001b[31m┏\u001b[0m\u001b[31m┛\u001b[0m\u001b[31m┏\u001b[0m\u001b[31m┛\u001b[0m\u001b[31m┗\u001b[0m\u001b[31m━\u001b[0m\u001b[31m━\u001b[0m\u001b[31m┛\u001b[0m\u001b[31m┗\u001b[0m\u001b[31m┛\u001b[0m\u001b[31m┃\u001b[0m\u001b[31m┃\u001b[0m\u001b[31m┗\u001b[0m\u001b[31m┓\u001b[0m\u001b[31m┃\u001b[0m\u001b[31m┃\u001b[0m\u001b[31m┃\u001b[0m\u001b[31m┏\u001b[0m\u001b[31m┛\u001b[0m\u001b[32mO\u001b[0m\u001b[32mO\u001b[0m\u001b[32mO\u001b[0m\u001b[32mO\u001b[0m\u001b[32mO\u001b[0m\u001b[32mO\u001b[0m\u001b[31m┃\u001b[0m\u001b[31m┗\u001b[0m\u001b[31m━\u001b[0m\u001b[31m┓\u001b[0m\u001b[31m┏\u001b[0m\u001b[31m━\u001b[0m\u001b[31m┓\u001b[0m\u001b[32mO\u001b[0m\u001b[32mO\u001b[0m\u001b[32mO\u001b[0m\u001b[32mO\u001b[0m\u001b[32mO\u001b[0m\u001b[32mO\u001b[0m\u001b[32mO\u001b[0m\u001b[32mO\u001b[0m\u001b[32mO\u001b[0m\u001b[32mO\u001b[0m\u001b[32mO\u001b[0m\u001b[32mO\u001b[0m\u001b[31m┏\u001b[0m\u001b[31m┛\u001b[0m\u001b[31m┗\u001b[0m\u001b[31m┓\u001b[0m\u001b[32mO\u001b[0m\u001b[32mO\u001b[0m\u001b[32mO\u001b[0m\u001b[31m┗\u001b[0m\u001b[31m┓\u001b[0m\u001b[31m┃\u001b[0m\u001b[31m┗\u001b[0m\u001b[31m┓\u001b[0m\u001b[31m┗\u001b[0m\u001b[31m┓\u001b[0m\u001b[31m┗\u001b[0m\u001b[31m━\u001b[0m\u001b[31m┓\u001b[0m\u001b[31m┗\u001b[0m\u001b[31m┓\u001b[0m\u001b[31m┏\u001b[0m\u001b[31m━\u001b[0m\u001b[31m┛\u001b[0m\u001b[31m┏\u001b[0m\u001b[31m━\u001b[0m\u001b[31m━\u001b[0m\u001b[31m┛\u001b[0m\u001b[31m┏\u001b[0m\u001b[31m┓\u001b[0m\u001b[31m┗\u001b[0m\u001b[31m┓\u001b[0m\u001b[31m┏\u001b[0m\u001b[31m┛\u001b[0m\u001b[31m┏\u001b[0m\u001b[31m━\u001b[0m\u001b[31m┛\u001b[0m\u001b[31m┃\u001b[0m\u001b[32mO\u001b[0m\u001b[32mO\u001b[0m\u001b[32mO\u001b[0m\u001b[32mO\u001b[0m\u001b[32mO\u001b[0m\u001b[32mO\u001b[0m\u001b[32mO\u001b[0m\u001b[32mO\u001b[0m\u001b[32mO\u001b[0m\u001b[32mO\u001b[0m\u001b[32mO\u001b[0m\u001b[32mO\u001b[0m\u001b[32mO\u001b[0m\u001b[32mO\u001b[0m\u001b[32mO\u001b[0m\u001b[32mO\u001b[0m\u001b[32mO\u001b[0m\u001b[32mO\u001b[0m\u001b[32mO\u001b[0m\u001b[32mO\u001b[0m\n",
      "\u001b[32mO\u001b[0m\u001b[32mO\u001b[0m\u001b[32mO\u001b[0m\u001b[32mO\u001b[0m\u001b[32mO\u001b[0m\u001b[32mO\u001b[0m\u001b[32mO\u001b[0m\u001b[32mO\u001b[0m\u001b[32mO\u001b[0m\u001b[32mO\u001b[0m\u001b[32mO\u001b[0m\u001b[32mO\u001b[0m\u001b[32mO\u001b[0m\u001b[32mO\u001b[0m\u001b[32mO\u001b[0m\u001b[32mO\u001b[0m\u001b[32mO\u001b[0m\u001b[32mO\u001b[0m\u001b[32mO\u001b[0m\u001b[32mO\u001b[0m\u001b[32mO\u001b[0m\u001b[32mO\u001b[0m\u001b[32mO\u001b[0m\u001b[32mO\u001b[0m\u001b[32mO\u001b[0m\u001b[31m┗\u001b[0m\u001b[31m━\u001b[0m\u001b[31m┓\u001b[0m\u001b[31m┏\u001b[0m\u001b[31m━\u001b[0m\u001b[31m┓\u001b[0m\u001b[31m┏\u001b[0m\u001b[31m┛\u001b[0mo\u001b[31m┏\u001b[0m\u001b[31m┛\u001b[0m\u001b[31m┃\u001b[0m\u001b[31m┃\u001b[0m\u001b[31m┃\u001b[0m\u001b[31m┗\u001b[0m\u001b[31m┛\u001b[0mo\u001b[31m┗\u001b[0m\u001b[31m┓\u001b[0m\u001b[31m┏\u001b[0m\u001b[31m━\u001b[0m\u001b[31m━\u001b[0m\u001b[31m┓\u001b[0m\u001b[31m┏\u001b[0m\u001b[31m┓\u001b[0m\u001b[31m┃\u001b[0m\u001b[31m┗\u001b[0m\u001b[31m┓\u001b[0m\u001b[31m┗\u001b[0m\u001b[31m┛\u001b[0m\u001b[31m┃\u001b[0m\u001b[31m┃\u001b[0m\u001b[31m┗\u001b[0m\u001b[31m━\u001b[0m\u001b[31m┓\u001b[0m\u001b[32mO\u001b[0m\u001b[32mO\u001b[0m\u001b[32mO\u001b[0m\u001b[31m┏\u001b[0m\u001b[31m┓\u001b[0m\u001b[31m┃\u001b[0m\u001b[31m┏\u001b[0m\u001b[31m━\u001b[0m\u001b[31m┛\u001b[0m\u001b[31m┗\u001b[0m\u001b[31m┓\u001b[0m\u001b[31m┃\u001b[0m\u001b[31m┏\u001b[0m\u001b[31m┓\u001b[0m\u001b[32mO\u001b[0m\u001b[32mO\u001b[0m\u001b[32mO\u001b[0m\u001b[32mO\u001b[0m\u001b[32mO\u001b[0m\u001b[31m┏\u001b[0m\u001b[31m┓\u001b[0m\u001b[32mO\u001b[0m\u001b[32mO\u001b[0m\u001b[32mO\u001b[0m\u001b[31m┗\u001b[0m\u001b[31m━\u001b[0m\u001b[31m┓\u001b[0m\u001b[31m┗\u001b[0m\u001b[31m┓\u001b[0m\u001b[32mO\u001b[0m\u001b[31m┏\u001b[0m\u001b[31m━\u001b[0m\u001b[31m┛\u001b[0m\u001b[31m┗\u001b[0m\u001b[31m┓\u001b[0m\u001b[31m┃\u001b[0m\u001b[31m┏\u001b[0m\u001b[31m┛\u001b[0m\u001b[31m┏\u001b[0m\u001b[31m━\u001b[0m\u001b[31m┛\u001b[0m\u001b[31m┏\u001b[0m\u001b[31m┛\u001b[0m\u001b[31m┗\u001b[0m\u001b[31m━\u001b[0m\u001b[31m┓\u001b[0m\u001b[31m┗\u001b[0m\u001b[31m━\u001b[0m\u001b[31m┓\u001b[0m\u001b[31m┏\u001b[0m\u001b[31m┛\u001b[0m\u001b[31m┃\u001b[0m\u001b[31m┏\u001b[0m\u001b[31m┛\u001b[0m\u001b[31m┗\u001b[0m\u001b[31m┓\u001b[0m\u001b[31m┃\u001b[0m\u001b[31m┏\u001b[0m\u001b[31m━\u001b[0m\u001b[31m┛\u001b[0m\u001b[32mO\u001b[0m\u001b[32mO\u001b[0m\u001b[32mO\u001b[0m\u001b[32mO\u001b[0m\u001b[32mO\u001b[0m\u001b[32mO\u001b[0m\u001b[32mO\u001b[0m\u001b[32mO\u001b[0m\u001b[32mO\u001b[0m\u001b[32mO\u001b[0m\u001b[32mO\u001b[0m\u001b[32mO\u001b[0m\u001b[32mO\u001b[0m\u001b[32mO\u001b[0m\u001b[32mO\u001b[0m\u001b[32mO\u001b[0m\u001b[32mO\u001b[0m\u001b[32mO\u001b[0m\u001b[32mO\u001b[0m\u001b[32mO\u001b[0m\n",
      "\u001b[32mO\u001b[0m\u001b[32mO\u001b[0m\u001b[32mO\u001b[0m\u001b[32mO\u001b[0m\u001b[32mO\u001b[0m\u001b[32mO\u001b[0m\u001b[32mO\u001b[0m\u001b[32mO\u001b[0m\u001b[32mO\u001b[0m\u001b[32mO\u001b[0m\u001b[32mO\u001b[0m\u001b[32mO\u001b[0m\u001b[32mO\u001b[0m\u001b[32mO\u001b[0m\u001b[32mO\u001b[0m\u001b[32mO\u001b[0m\u001b[32mO\u001b[0m\u001b[32mO\u001b[0m\u001b[32mO\u001b[0m\u001b[32mO\u001b[0m\u001b[32mO\u001b[0m\u001b[32mO\u001b[0m\u001b[32mO\u001b[0m\u001b[32mO\u001b[0m\u001b[32mO\u001b[0m\u001b[32mO\u001b[0m\u001b[32mO\u001b[0m\u001b[31m┃\u001b[0m\u001b[31m┃\u001b[0m\u001b[31m┏\u001b[0m\u001b[31m┛\u001b[0m\u001b[31m┗\u001b[0m\u001b[31m┓\u001b[0mo\u001b[31m┗\u001b[0m\u001b[31m┓\u001b[0m\u001b[31m┗\u001b[0m\u001b[31m┛\u001b[0m\u001b[31m┗\u001b[0m\u001b[31m┓\u001b[0m\u001b[31m┏\u001b[0m\u001b[31m━\u001b[0m\u001b[31m━\u001b[0m\u001b[31m┛\u001b[0m\u001b[31m┗\u001b[0m\u001b[31m━\u001b[0m\u001b[31m┓\u001b[0m\u001b[31m┗\u001b[0m\u001b[31m┛\u001b[0m\u001b[31m┗\u001b[0m\u001b[31m┛\u001b[0mo\u001b[31m┃\u001b[0m\u001b[31m┏\u001b[0m\u001b[31m┓\u001b[0m\u001b[31m┗\u001b[0m\u001b[31m┛\u001b[0m\u001b[31m┏\u001b[0m\u001b[31m━\u001b[0m\u001b[31m┛\u001b[0m\u001b[32mO\u001b[0m\u001b[32mO\u001b[0m\u001b[31m┏\u001b[0m\u001b[31m┛\u001b[0m\u001b[31m┃\u001b[0m\u001b[31m┃\u001b[0m\u001b[31m┗\u001b[0m\u001b[31m┓\u001b[0m\u001b[31m┏\u001b[0m\u001b[31m━\u001b[0m\u001b[31m┛\u001b[0m\u001b[31m┗\u001b[0m\u001b[31m┛\u001b[0m\u001b[31m┃\u001b[0m\u001b[32mO\u001b[0m\u001b[32mO\u001b[0m\u001b[32mO\u001b[0m\u001b[32mO\u001b[0m\u001b[32mO\u001b[0m\u001b[31m┃\u001b[0m\u001b[31m┗\u001b[0m\u001b[31m┓\u001b[0m\u001b[31m┏\u001b[0m\u001b[31m━\u001b[0m\u001b[31m┓\u001b[0mo\u001b[31m┗\u001b[0m\u001b[31m┓\u001b[0m\u001b[31m┃\u001b[0m\u001b[32mO\u001b[0m\u001b[31m┗\u001b[0m\u001b[31m━\u001b[0m\u001b[31m┓\u001b[0m\u001b[31m┏\u001b[0m\u001b[31m┛\u001b[0m\u001b[31m┃\u001b[0m\u001b[31m┗\u001b[0m\u001b[31m┓\u001b[0m\u001b[31m┃\u001b[0m\u001b[31m┏\u001b[0m\u001b[31m━\u001b[0m\u001b[31m┛\u001b[0mo\u001b[31m┏\u001b[0m\u001b[31m┓\u001b[0m\u001b[31m┗\u001b[0m\u001b[31m┓\u001b[0m\u001b[31m┏\u001b[0m\u001b[31m┛\u001b[0m\u001b[31m┃\u001b[0m\u001b[31m┏\u001b[0m\u001b[31m┛\u001b[0m\u001b[31m┃\u001b[0m\u001b[31m┏\u001b[0m\u001b[31m┓\u001b[0m\u001b[31m┗\u001b[0m\u001b[31m┛\u001b[0m\u001b[31m┗\u001b[0m\u001b[31m┓\u001b[0m\u001b[32mO\u001b[0m\u001b[32mO\u001b[0m\u001b[32mO\u001b[0m\u001b[32mO\u001b[0m\u001b[32mO\u001b[0m\u001b[32mO\u001b[0m\u001b[32mO\u001b[0m\u001b[32mO\u001b[0m\u001b[32mO\u001b[0m\u001b[32mO\u001b[0m\u001b[32mO\u001b[0m\u001b[32mO\u001b[0m\u001b[32mO\u001b[0m\u001b[32mO\u001b[0m\u001b[32mO\u001b[0m\u001b[32mO\u001b[0m\u001b[32mO\u001b[0m\u001b[32mO\u001b[0m\u001b[32mO\u001b[0m\u001b[32mO\u001b[0m\u001b[32mO\u001b[0m\n",
      "\u001b[32mO\u001b[0m\u001b[32mO\u001b[0m\u001b[32mO\u001b[0m\u001b[32mO\u001b[0m\u001b[32mO\u001b[0m\u001b[32mO\u001b[0m\u001b[32mO\u001b[0m\u001b[32mO\u001b[0m\u001b[32mO\u001b[0m\u001b[32mO\u001b[0m\u001b[32mO\u001b[0m\u001b[32mO\u001b[0m\u001b[32mO\u001b[0m\u001b[32mO\u001b[0m\u001b[32mO\u001b[0m\u001b[32mO\u001b[0m\u001b[32mO\u001b[0m\u001b[32mO\u001b[0m\u001b[32mO\u001b[0m\u001b[32mO\u001b[0m\u001b[32mO\u001b[0m\u001b[32mO\u001b[0m\u001b[32mO\u001b[0m\u001b[32mO\u001b[0m\u001b[32mO\u001b[0m\u001b[32mO\u001b[0m\u001b[32mO\u001b[0m\u001b[31m┗\u001b[0m\u001b[31m┛\u001b[0m\u001b[31m┃\u001b[0m\u001b[31m┏\u001b[0m\u001b[31m┓\u001b[0m\u001b[31m┗\u001b[0m\u001b[31m┓\u001b[0mo\u001b[31m┗\u001b[0m\u001b[31m━\u001b[0m\u001b[31m┓\u001b[0m\u001b[31m┏\u001b[0m\u001b[31m┛\u001b[0m\u001b[31m┗\u001b[0m\u001b[31m┓\u001b[0m\u001b[31m┏\u001b[0m\u001b[31m━\u001b[0m\u001b[31m━\u001b[0m\u001b[31m━\u001b[0m\u001b[31m┛\u001b[0mo\u001b[31m┏\u001b[0m\u001b[31m━\u001b[0m\u001b[31m━\u001b[0m\u001b[31m┓\u001b[0m\u001b[31m┗\u001b[0m\u001b[31m┛\u001b[0m\u001b[31m┗\u001b[0m\u001b[31m━\u001b[0m\u001b[31m┓\u001b[0m\u001b[31m┗\u001b[0m\u001b[31m━\u001b[0m\u001b[31m┓\u001b[0m\u001b[31m┏\u001b[0m\u001b[31m┓\u001b[0m\u001b[31m┗\u001b[0m\u001b[31m┓\u001b[0m\u001b[31m┃\u001b[0m\u001b[31m┃\u001b[0m\u001b[31m┏\u001b[0m\u001b[31m┛\u001b[0m\u001b[31m┗\u001b[0m\u001b[31m━\u001b[0m\u001b[31m┓\u001b[0m\u001b[31m┏\u001b[0m\u001b[31m━\u001b[0m\u001b[31m┛\u001b[0m\u001b[32mO\u001b[0m\u001b[32mO\u001b[0m\u001b[32mO\u001b[0m\u001b[32mO\u001b[0m\u001b[32mO\u001b[0m\u001b[31m┗\u001b[0m\u001b[31m┓\u001b[0m\u001b[31m┗\u001b[0m\u001b[31m┛\u001b[0m\u001b[31m┏\u001b[0m\u001b[31m┛\u001b[0mo\u001b[31m┏\u001b[0m\u001b[31m┛\u001b[0m\u001b[31m┗\u001b[0m\u001b[31m┓\u001b[0m\u001b[31m┏\u001b[0m\u001b[31m━\u001b[0m\u001b[31m┛\u001b[0m\u001b[31m┃\u001b[0mo\u001b[31m┗\u001b[0m\u001b[31m┓\u001b[0m\u001b[31m┗\u001b[0m\u001b[31m┛\u001b[0m\u001b[31m┗\u001b[0m\u001b[31m┓\u001b[0mo\u001b[31m┏\u001b[0m\u001b[31m┛\u001b[0m\u001b[31m┗\u001b[0m\u001b[31m┓\u001b[0m\u001b[31m┃\u001b[0m\u001b[31m┗\u001b[0m\u001b[31m┓\u001b[0m\u001b[31m┃\u001b[0m\u001b[31m┃\u001b[0mo\u001b[31m┗\u001b[0m\u001b[31m┛\u001b[0m\u001b[31m┃\u001b[0m\u001b[31m┏\u001b[0m\u001b[31m━\u001b[0m\u001b[31m━\u001b[0m\u001b[31m┛\u001b[0m\u001b[32mO\u001b[0m\u001b[32mO\u001b[0m\u001b[32mO\u001b[0m\u001b[32mO\u001b[0m\u001b[32mO\u001b[0m\u001b[32mO\u001b[0m\u001b[32mO\u001b[0m\u001b[32mO\u001b[0m\u001b[32mO\u001b[0m\u001b[32mO\u001b[0m\u001b[32mO\u001b[0m\u001b[32mO\u001b[0m\u001b[32mO\u001b[0m\u001b[32mO\u001b[0m\u001b[32mO\u001b[0m\u001b[32mO\u001b[0m\u001b[32mO\u001b[0m\u001b[32mO\u001b[0m\u001b[32mO\u001b[0m\u001b[32mO\u001b[0m\u001b[32mO\u001b[0m\n",
      "\u001b[32mO\u001b[0m\u001b[32mO\u001b[0m\u001b[32mO\u001b[0m\u001b[32mO\u001b[0m\u001b[32mO\u001b[0m\u001b[32mO\u001b[0m\u001b[32mO\u001b[0m\u001b[32mO\u001b[0m\u001b[32mO\u001b[0m\u001b[32mO\u001b[0m\u001b[32mO\u001b[0m\u001b[32mO\u001b[0m\u001b[32mO\u001b[0m\u001b[32mO\u001b[0m\u001b[32mO\u001b[0m\u001b[32mO\u001b[0m\u001b[32mO\u001b[0m\u001b[32mO\u001b[0m\u001b[32mO\u001b[0m\u001b[32mO\u001b[0m\u001b[32mO\u001b[0m\u001b[32mO\u001b[0m\u001b[32mO\u001b[0m\u001b[32mO\u001b[0m\u001b[32mO\u001b[0m\u001b[32mO\u001b[0m\u001b[32mO\u001b[0m\u001b[31m┏\u001b[0m\u001b[31m━\u001b[0m\u001b[31m┛\u001b[0m\u001b[31m┃\u001b[0m\u001b[31m┗\u001b[0m\u001b[31m━\u001b[0m\u001b[31m┛\u001b[0m\u001b[31m┏\u001b[0m\u001b[31m━\u001b[0m\u001b[31m━\u001b[0m\u001b[31m┛\u001b[0m\u001b[31m┗\u001b[0m\u001b[31m┓\u001b[0m\u001b[31m┏\u001b[0m\u001b[31m┛\u001b[0m\u001b[31m┗\u001b[0m\u001b[31m━\u001b[0m\u001b[31m━\u001b[0m\u001b[31m┓\u001b[0m\u001b[31m┏\u001b[0m\u001b[31m┓\u001b[0m\u001b[31m┗\u001b[0m\u001b[31m┓\u001b[0m\u001b[31m┏\u001b[0m\u001b[31m┛\u001b[0m\u001b[31m┏\u001b[0m\u001b[31m┓\u001b[0m\u001b[31m┏\u001b[0m\u001b[31m━\u001b[0m\u001b[31m┛\u001b[0m\u001b[31m┏\u001b[0m\u001b[31m━\u001b[0m\u001b[31m┛\u001b[0m\u001b[31m┃\u001b[0m\u001b[31m┗\u001b[0m\u001b[31m┓\u001b[0m\u001b[31m┃\u001b[0m\u001b[31m┃\u001b[0m\u001b[31m┃\u001b[0m\u001b[31m┃\u001b[0m\u001b[31m┏\u001b[0m\u001b[31m┓\u001b[0m\u001b[31m┏\u001b[0m\u001b[31m┛\u001b[0m\u001b[31m┗\u001b[0m\u001b[31m━\u001b[0m\u001b[31m━\u001b[0m\u001b[31m┓\u001b[0m\u001b[32mO\u001b[0m\u001b[31m┏\u001b[0m\u001b[31m┓\u001b[0m\u001b[31m┏\u001b[0m\u001b[31m┓\u001b[0m\u001b[31m┃\u001b[0m\u001b[31m┏\u001b[0m\u001b[31m┓\u001b[0m\u001b[31m┗\u001b[0m\u001b[31m━\u001b[0m\u001b[31m┓\u001b[0m\u001b[31m┗\u001b[0m\u001b[31m┓\u001b[0m\u001b[31m┏\u001b[0m\u001b[31m┛\u001b[0m\u001b[31m┗\u001b[0m\u001b[31m━\u001b[0m\u001b[31m┓\u001b[0m\u001b[31m┗\u001b[0m\u001b[31m━\u001b[0m\u001b[31m┓\u001b[0m\u001b[31m┗\u001b[0m\u001b[31m┓\u001b[0m\u001b[31m┏\u001b[0m\u001b[31m┓\u001b[0m\u001b[31m┗\u001b[0m\u001b[31m━\u001b[0m\u001b[31m┛\u001b[0m\u001b[31m┏\u001b[0m\u001b[31m━\u001b[0m\u001b[31m┛\u001b[0m\u001b[31m┃\u001b[0m\u001b[31m┏\u001b[0m\u001b[31m┛\u001b[0m\u001b[31m┃\u001b[0m\u001b[31m┗\u001b[0m\u001b[31m┓\u001b[0m\u001b[31m┏\u001b[0m\u001b[31m━\u001b[0m\u001b[31m┛\u001b[0m\u001b[31m┗\u001b[0m\u001b[31m━\u001b[0m\u001b[31m┓\u001b[0m\u001b[31m┏\u001b[0m\u001b[31m┓\u001b[0m\u001b[32mO\u001b[0m\u001b[32mO\u001b[0m\u001b[32mO\u001b[0m\u001b[32mO\u001b[0m\u001b[32mO\u001b[0m\u001b[32mO\u001b[0m\u001b[32mO\u001b[0m\u001b[32mO\u001b[0m\u001b[32mO\u001b[0m\u001b[32mO\u001b[0m\u001b[32mO\u001b[0m\u001b[32mO\u001b[0m\u001b[32mO\u001b[0m\u001b[32mO\u001b[0m\u001b[32mO\u001b[0m\u001b[32mO\u001b[0m\u001b[32mO\u001b[0m\u001b[32mO\u001b[0m\u001b[32mO\u001b[0m\u001b[32mO\u001b[0m\n",
      "\u001b[32mO\u001b[0m\u001b[32mO\u001b[0m\u001b[32mO\u001b[0m\u001b[32mO\u001b[0m\u001b[32mO\u001b[0m\u001b[32mO\u001b[0m\u001b[32mO\u001b[0m\u001b[32mO\u001b[0m\u001b[32mO\u001b[0m\u001b[32mO\u001b[0m\u001b[32mO\u001b[0m\u001b[32mO\u001b[0m\u001b[32mO\u001b[0m\u001b[32mO\u001b[0m\u001b[32mO\u001b[0m\u001b[32mO\u001b[0m\u001b[32mO\u001b[0m\u001b[32mO\u001b[0m\u001b[32mO\u001b[0m\u001b[32mO\u001b[0m\u001b[32mO\u001b[0m\u001b[32mO\u001b[0m\u001b[31m┏\u001b[0m\u001b[31m┓\u001b[0m\u001b[32mO\u001b[0m\u001b[32mO\u001b[0m\u001b[32mO\u001b[0m\u001b[31m┗\u001b[0m\u001b[31m━\u001b[0m\u001b[31m┓\u001b[0m\u001b[31m┃\u001b[0m\u001b[31m┏\u001b[0m\u001b[31m┓\u001b[0mo\u001b[31m┗\u001b[0m\u001b[31m┓\u001b[0m\u001b[31m┏\u001b[0m\u001b[31m━\u001b[0m\u001b[31m┓\u001b[0m\u001b[31m┃\u001b[0m\u001b[31m┃\u001b[0m\u001b[31m┏\u001b[0m\u001b[31m┓\u001b[0m\u001b[31m┏\u001b[0m\u001b[31m━\u001b[0m\u001b[31m┛\u001b[0m\u001b[31m┃\u001b[0m\u001b[31m┃\u001b[0m\u001b[31m┏\u001b[0m\u001b[31m┛\u001b[0m\u001b[31m┗\u001b[0m\u001b[31m┓\u001b[0m\u001b[31m┃\u001b[0m\u001b[31m┃\u001b[0m\u001b[31m┗\u001b[0m\u001b[31m━\u001b[0m\u001b[31m┓\u001b[0m\u001b[31m┃\u001b[0m\u001b[31m┏\u001b[0m\u001b[31m┓\u001b[0m\u001b[31m┗\u001b[0m\u001b[31m┓\u001b[0m\u001b[31m┃\u001b[0m\u001b[31m┃\u001b[0m\u001b[31m┗\u001b[0m\u001b[31m┛\u001b[0m\u001b[31m┃\u001b[0m\u001b[31m┃\u001b[0m\u001b[31m┃\u001b[0m\u001b[31m┗\u001b[0m\u001b[31m┓\u001b[0m\u001b[31m┏\u001b[0m\u001b[31m━\u001b[0m\u001b[31m━\u001b[0m\u001b[31m┛\u001b[0m\u001b[31m┏\u001b[0m\u001b[31m┛\u001b[0m\u001b[31m┃\u001b[0m\u001b[31m┃\u001b[0m\u001b[31m┃\u001b[0m\u001b[31m┗\u001b[0m\u001b[31m┛\u001b[0m\u001b[31m┗\u001b[0m\u001b[31m━\u001b[0m\u001b[31m┓\u001b[0m\u001b[31m┃\u001b[0m\u001b[31m┏\u001b[0m\u001b[31m┛\u001b[0m\u001b[31m┃\u001b[0m\u001b[31m┏\u001b[0m\u001b[31m━\u001b[0m\u001b[31m┓\u001b[0m\u001b[31m┃\u001b[0m\u001b[31m┏\u001b[0m\u001b[31m━\u001b[0m\u001b[31m┛\u001b[0m\u001b[31m┏\u001b[0m\u001b[31m┛\u001b[0m\u001b[31m┃\u001b[0m\u001b[31m┃\u001b[0m\u001b[31m┏\u001b[0m\u001b[31m━\u001b[0m\u001b[31m┓\u001b[0m\u001b[31m┗\u001b[0m\u001b[31m┓\u001b[0m\u001b[31m┏\u001b[0m\u001b[31m┛\u001b[0m\u001b[31m┗\u001b[0m\u001b[31m┓\u001b[0m\u001b[31m┃\u001b[0m\u001b[31m┏\u001b[0m\u001b[31m┛\u001b[0m\u001b[31m┗\u001b[0m\u001b[31m┓\u001b[0m\u001b[31m┏\u001b[0m\u001b[31m━\u001b[0m\u001b[31m━\u001b[0m\u001b[31m┛\u001b[0m\u001b[31m┃\u001b[0m\u001b[31m┗\u001b[0m\u001b[31m━\u001b[0m\u001b[31m┓\u001b[0m\u001b[32mO\u001b[0m\u001b[32mO\u001b[0m\u001b[32mO\u001b[0m\u001b[32mO\u001b[0m\u001b[32mO\u001b[0m\u001b[32mO\u001b[0m\u001b[32mO\u001b[0m\u001b[32mO\u001b[0m\u001b[32mO\u001b[0m\u001b[32mO\u001b[0m\u001b[32mO\u001b[0m\u001b[32mO\u001b[0m\u001b[32mO\u001b[0m\u001b[32mO\u001b[0m\u001b[32mO\u001b[0m\u001b[32mO\u001b[0m\u001b[32mO\u001b[0m\u001b[32mO\u001b[0m\n",
      "\u001b[32mO\u001b[0m\u001b[32mO\u001b[0m\u001b[32mO\u001b[0m\u001b[32mO\u001b[0m\u001b[32mO\u001b[0m\u001b[32mO\u001b[0m\u001b[32mO\u001b[0m\u001b[32mO\u001b[0m\u001b[32mO\u001b[0m\u001b[32mO\u001b[0m\u001b[32mO\u001b[0m\u001b[32mO\u001b[0m\u001b[32mO\u001b[0m\u001b[32mO\u001b[0m\u001b[32mO\u001b[0m\u001b[32mO\u001b[0m\u001b[32mO\u001b[0m\u001b[32mO\u001b[0m\u001b[32mO\u001b[0m\u001b[32mO\u001b[0m\u001b[32mO\u001b[0m\u001b[32mO\u001b[0m\u001b[31m┃\u001b[0m\u001b[31m┃\u001b[0m\u001b[31m┏\u001b[0m\u001b[31m┓\u001b[0m\u001b[31m┏\u001b[0m\u001b[31m┓\u001b[0m\u001b[31m┏\u001b[0m\u001b[31m┛\u001b[0m\u001b[31m┗\u001b[0m\u001b[31m┛\u001b[0m\u001b[31m┗\u001b[0m\u001b[31m┓\u001b[0mo\u001b[31m┗\u001b[0m\u001b[31m┛\u001b[0mo\u001b[31m┃\u001b[0m\u001b[31m┗\u001b[0m\u001b[31m┛\u001b[0m\u001b[31m┃\u001b[0m\u001b[31m┃\u001b[0m\u001b[31m┃\u001b[0m\u001b[31m┏\u001b[0m\u001b[31m━\u001b[0m\u001b[31m┛\u001b[0m\u001b[31m┃\u001b[0m\u001b[31m┃\u001b[0m\u001b[31m┏\u001b[0m\u001b[31m┓\u001b[0m\u001b[31m┃\u001b[0m\u001b[31m┃\u001b[0m\u001b[31m┗\u001b[0m\u001b[31m┓\u001b[0m\u001b[31m┏\u001b[0m\u001b[31m┛\u001b[0m\u001b[31m┗\u001b[0m\u001b[31m┛\u001b[0m\u001b[31m┗\u001b[0m\u001b[31m┓\u001b[0m\u001b[31m┃\u001b[0m\u001b[31m┃\u001b[0m\u001b[31m┃\u001b[0m\u001b[31m┏\u001b[0m\u001b[31m━\u001b[0m\u001b[31m┛\u001b[0m\u001b[31m┃\u001b[0m\u001b[31m┗\u001b[0m\u001b[31m┓\u001b[0m\u001b[31m┃\u001b[0m\u001b[31m┗\u001b[0m\u001b[31m┓\u001b[0m\u001b[31m┏\u001b[0m\u001b[31m┓\u001b[0m\u001b[31m┗\u001b[0m\u001b[31m┓\u001b[0m\u001b[31m┃\u001b[0m\u001b[31m┃\u001b[0m\u001b[31m┗\u001b[0m\u001b[31m┓\u001b[0m\u001b[31m┏\u001b[0m\u001b[31m━\u001b[0m\u001b[31m┓\u001b[0m\u001b[31m┃\u001b[0m\u001b[31m┗\u001b[0m\u001b[31m┛\u001b[0m\u001b[31m┏\u001b[0m\u001b[31m┛\u001b[0m\u001b[31m┗\u001b[0m\u001b[31m┓\u001b[0m\u001b[31m┃\u001b[0m\u001b[31m┃\u001b[0m\u001b[31m┗\u001b[0m\u001b[31m━\u001b[0m\u001b[31m┓\u001b[0m\u001b[31m┗\u001b[0m\u001b[31m━\u001b[0m\u001b[31m┛\u001b[0m\u001b[31m┃\u001b[0m\u001b[31m┃\u001b[0m\u001b[31m┏\u001b[0m\u001b[31m┛\u001b[0m\u001b[31m┏\u001b[0m\u001b[31m┛\u001b[0m\u001b[31m┃\u001b[0m\u001b[31m┏\u001b[0m\u001b[31m━\u001b[0m\u001b[31m┛\u001b[0m\u001b[31m┃\u001b[0m\u001b[31m┃\u001b[0mo\u001b[31m┏\u001b[0m\u001b[31m┛\u001b[0m\u001b[31m┗\u001b[0m\u001b[31m┓\u001b[0m\u001b[31m┏\u001b[0m\u001b[31m┓\u001b[0m\u001b[31m┃\u001b[0m\u001b[31m┏\u001b[0m\u001b[31m━\u001b[0m\u001b[31m┛\u001b[0m\u001b[32mO\u001b[0m\u001b[32mO\u001b[0m\u001b[32mO\u001b[0m\u001b[32mO\u001b[0m\u001b[32mO\u001b[0m\u001b[32mO\u001b[0m\u001b[32mO\u001b[0m\u001b[32mO\u001b[0m\u001b[32mO\u001b[0m\u001b[32mO\u001b[0m\u001b[32mO\u001b[0m\u001b[32mO\u001b[0m\u001b[32mO\u001b[0m\u001b[32mO\u001b[0m\u001b[32mO\u001b[0m\u001b[32mO\u001b[0m\u001b[32mO\u001b[0m\u001b[32mO\u001b[0m\n",
      "\u001b[32mO\u001b[0m\u001b[32mO\u001b[0m\u001b[32mO\u001b[0m\u001b[32mO\u001b[0m\u001b[32mO\u001b[0m\u001b[32mO\u001b[0m\u001b[32mO\u001b[0m\u001b[32mO\u001b[0m\u001b[32mO\u001b[0m\u001b[32mO\u001b[0m\u001b[32mO\u001b[0m\u001b[32mO\u001b[0m\u001b[32mO\u001b[0m\u001b[32mO\u001b[0m\u001b[32mO\u001b[0m\u001b[32mO\u001b[0m\u001b[32mO\u001b[0m\u001b[32mO\u001b[0m\u001b[32mO\u001b[0m\u001b[32mO\u001b[0m\u001b[32mO\u001b[0m\u001b[32mO\u001b[0m\u001b[31m┃\u001b[0m\u001b[31m┗\u001b[0m\u001b[31m┛\u001b[0m\u001b[31m┃\u001b[0m\u001b[31m┃\u001b[0m\u001b[31m┃\u001b[0m\u001b[31m┃\u001b[0m\u001b[31m┏\u001b[0m\u001b[31m━\u001b[0m\u001b[31m━\u001b[0m\u001b[31m━\u001b[0m\u001b[31m┛\u001b[0m\u001b[31m┏\u001b[0m\u001b[31m┓\u001b[0mo\u001b[31m┏\u001b[0m\u001b[31m┛\u001b[0m\u001b[31m┏\u001b[0m\u001b[31m━\u001b[0m\u001b[31m┛\u001b[0m\u001b[31m┗\u001b[0m\u001b[31m┛\u001b[0m\u001b[31m┗\u001b[0m\u001b[31m━\u001b[0m\u001b[31m┓\u001b[0m\u001b[31m┗\u001b[0m\u001b[31m┛\u001b[0m\u001b[31m┃\u001b[0m\u001b[31m┗\u001b[0m\u001b[31m┛\u001b[0m\u001b[31m┗\u001b[0m\u001b[31m┓\u001b[0m\u001b[31m┗\u001b[0m\u001b[31m┛\u001b[0m\u001b[31m┏\u001b[0m\u001b[31m━\u001b[0m\u001b[31m━\u001b[0m\u001b[31m━\u001b[0m\u001b[31m┛\u001b[0m\u001b[31m┃\u001b[0m\u001b[31m┗\u001b[0m\u001b[31m┛\u001b[0m\u001b[31m┗\u001b[0m\u001b[31m┓\u001b[0m\u001b[31m┏\u001b[0m\u001b[31m┛\u001b[0m\u001b[31m┏\u001b[0m\u001b[31m┛\u001b[0m\u001b[31m┃\u001b[0m\u001b[31m┏\u001b[0m\u001b[31m┛\u001b[0m\u001b[31m┃\u001b[0m\u001b[31m┃\u001b[0mo\u001b[31m┃\u001b[0m\u001b[31m┃\u001b[0m\u001b[31m┃\u001b[0m\u001b[31m┏\u001b[0m\u001b[31m┛\u001b[0m\u001b[31m┃\u001b[0m\u001b[31m┏\u001b[0m\u001b[31m┛\u001b[0m\u001b[31m┗\u001b[0m\u001b[31m━\u001b[0m\u001b[31m┓\u001b[0m\u001b[31m┗\u001b[0m\u001b[31m━\u001b[0m\u001b[31m┓\u001b[0m\u001b[31m┃\u001b[0m\u001b[31m┃\u001b[0m\u001b[31m┃\u001b[0m\u001b[31m┏\u001b[0m\u001b[31m━\u001b[0m\u001b[31m┛\u001b[0m\u001b[31m┏\u001b[0m\u001b[31m━\u001b[0m\u001b[31m┓\u001b[0m\u001b[31m┗\u001b[0m\u001b[31m┛\u001b[0m\u001b[31m┃\u001b[0m\u001b[31m┏\u001b[0m\u001b[31m┛\u001b[0m\u001b[31m┏\u001b[0m\u001b[31m┛\u001b[0m\u001b[31m┗\u001b[0m\u001b[31m┓\u001b[0mo\u001b[31m┃\u001b[0m\u001b[31m┗\u001b[0m\u001b[31m━\u001b[0m\u001b[31m┛\u001b[0m\u001b[31m┏\u001b[0m\u001b[31m━\u001b[0m\u001b[31m┛\u001b[0m\u001b[31m┃\u001b[0m\u001b[31m┃\u001b[0m\u001b[31m┃\u001b[0m\u001b[31m┗\u001b[0m\u001b[31m┓\u001b[0m\u001b[32mO\u001b[0m\u001b[32mO\u001b[0m\u001b[32mO\u001b[0m\u001b[32mO\u001b[0m\u001b[32mO\u001b[0m\u001b[32mO\u001b[0m\u001b[32mO\u001b[0m\u001b[32mO\u001b[0m\u001b[32mO\u001b[0m\u001b[32mO\u001b[0m\u001b[32mO\u001b[0m\u001b[32mO\u001b[0m\u001b[32mO\u001b[0m\u001b[32mO\u001b[0m\u001b[32mO\u001b[0m\u001b[32mO\u001b[0m\u001b[32mO\u001b[0m\u001b[32mO\u001b[0m\u001b[32mO\u001b[0m\n",
      "\u001b[32mO\u001b[0m\u001b[32mO\u001b[0m\u001b[32mO\u001b[0m\u001b[32mO\u001b[0m\u001b[32mO\u001b[0m\u001b[32mO\u001b[0m\u001b[32mO\u001b[0m\u001b[32mO\u001b[0m\u001b[32mO\u001b[0m\u001b[32mO\u001b[0m\u001b[32mO\u001b[0m\u001b[32mO\u001b[0m\u001b[32mO\u001b[0m\u001b[32mO\u001b[0m\u001b[32mO\u001b[0m\u001b[32mO\u001b[0m\u001b[31m┏\u001b[0m\u001b[31m━\u001b[0m\u001b[31m┓\u001b[0m\u001b[32mO\u001b[0m\u001b[32mO\u001b[0m\u001b[32mO\u001b[0m\u001b[31m┗\u001b[0m\u001b[31m━\u001b[0m\u001b[31m┓\u001b[0m\u001b[31m┃\u001b[0m\u001b[31m┃\u001b[0m\u001b[31m┗\u001b[0m\u001b[31m┛\u001b[0m\u001b[31m┗\u001b[0m\u001b[31m┓\u001b[0m\u001b[31m┏\u001b[0m\u001b[31m┓\u001b[0m\u001b[31m┏\u001b[0m\u001b[31m┛\u001b[0m\u001b[31m┗\u001b[0m\u001b[31m┓\u001b[0m\u001b[31m┗\u001b[0m\u001b[31m┓\u001b[0m\u001b[31m┃\u001b[0mo\u001b[31m┏\u001b[0m\u001b[31m┓\u001b[0m\u001b[31m┏\u001b[0m\u001b[31m━\u001b[0m\u001b[31m┓\u001b[0m\u001b[31m┃\u001b[0m\u001b[31m┏\u001b[0m\u001b[31m┓\u001b[0m\u001b[31m┗\u001b[0m\u001b[31m┓\u001b[0m\u001b[31m┏\u001b[0m\u001b[31m┓\u001b[0m\u001b[31m┗\u001b[0m\u001b[31m━\u001b[0m\u001b[31m┓\u001b[0m\u001b[31m┗\u001b[0m\u001b[31m┓\u001b[0mo\u001b[31m┏\u001b[0m\u001b[31m┓\u001b[0m\u001b[31m┗\u001b[0m\u001b[31m┓\u001b[0m\u001b[31m┏\u001b[0m\u001b[31m━\u001b[0m\u001b[31m┛\u001b[0m\u001b[31m┃\u001b[0m\u001b[31m┏\u001b[0m\u001b[31m┛\u001b[0m\u001b[31m┏\u001b[0m\u001b[31m┛\u001b[0m\u001b[31m┗\u001b[0m\u001b[31m┓\u001b[0m\u001b[31m┃\u001b[0m\u001b[31m┃\u001b[0m\u001b[31m┏\u001b[0m\u001b[31m┛\u001b[0m\u001b[31m┗\u001b[0m\u001b[31m┛\u001b[0m\u001b[31m┗\u001b[0m\u001b[31m┓\u001b[0m\u001b[31m┃\u001b[0m\u001b[31m┃\u001b[0mo\u001b[31m┏\u001b[0m\u001b[31m┓\u001b[0m\u001b[31m┗\u001b[0m\u001b[31m━\u001b[0m\u001b[31m┓\u001b[0m\u001b[31m┗\u001b[0m\u001b[31m┛\u001b[0m\u001b[31m┗\u001b[0m\u001b[31m┛\u001b[0m\u001b[31m┗\u001b[0m\u001b[31m━\u001b[0m\u001b[31m━\u001b[0m\u001b[31m┛\u001b[0m\u001b[31m┏\u001b[0m\u001b[31m┛\u001b[0mo\u001b[31m┏\u001b[0m\u001b[31m┛\u001b[0m\u001b[31m┗\u001b[0m\u001b[31m┓\u001b[0m\u001b[31m┃\u001b[0m\u001b[31m┏\u001b[0m\u001b[31m┓\u001b[0m\u001b[31m┗\u001b[0m\u001b[31m┓\u001b[0m\u001b[31m┃\u001b[0m\u001b[31m┏\u001b[0m\u001b[31m━\u001b[0m\u001b[31m┓\u001b[0m\u001b[31m┗\u001b[0m\u001b[31m┓\u001b[0m\u001b[31m┏\u001b[0m\u001b[31m┛\u001b[0m\u001b[31m┃\u001b[0m\u001b[31m┗\u001b[0m\u001b[31m┓\u001b[0m\u001b[31m┗\u001b[0m\u001b[31m━\u001b[0m\u001b[31m┓\u001b[0m\u001b[32mO\u001b[0m\u001b[32mO\u001b[0m\u001b[32mO\u001b[0m\u001b[32mO\u001b[0m\u001b[32mO\u001b[0m\u001b[32mO\u001b[0m\u001b[32mO\u001b[0m\u001b[32mO\u001b[0m\u001b[32mO\u001b[0m\u001b[32mO\u001b[0m\u001b[32mO\u001b[0m\u001b[32mO\u001b[0m\u001b[32mO\u001b[0m\u001b[32mO\u001b[0m\u001b[32mO\u001b[0m\u001b[32mO\u001b[0m\u001b[32mO\u001b[0m\n",
      "\u001b[32mO\u001b[0m\u001b[32mO\u001b[0m\u001b[32mO\u001b[0m\u001b[32mO\u001b[0m\u001b[32mO\u001b[0m\u001b[32mO\u001b[0m\u001b[32mO\u001b[0m\u001b[32mO\u001b[0m\u001b[32mO\u001b[0m\u001b[32mO\u001b[0m\u001b[32mO\u001b[0m\u001b[32mO\u001b[0m\u001b[32mO\u001b[0m\u001b[32mO\u001b[0m\u001b[32mO\u001b[0m\u001b[32mO\u001b[0m\u001b[31m┗\u001b[0m\u001b[31m┓\u001b[0m\u001b[31m┃\u001b[0m\u001b[31m┏\u001b[0m\u001b[31m━\u001b[0m\u001b[31m┓\u001b[0m\u001b[31m┏\u001b[0m\u001b[31m┓\u001b[0m\u001b[31m┃\u001b[0m\u001b[31m┃\u001b[0m\u001b[31m┗\u001b[0m\u001b[31m━\u001b[0m\u001b[31m━\u001b[0m\u001b[31m┓\u001b[0m\u001b[31m┗\u001b[0m\u001b[31m┛\u001b[0m\u001b[31m┃\u001b[0m\u001b[31m┗\u001b[0m\u001b[31m━\u001b[0m\u001b[31m┓\u001b[0m\u001b[31m┃\u001b[0m\u001b[31m┏\u001b[0m\u001b[31m┛\u001b[0m\u001b[31m┃\u001b[0m\u001b[31m┏\u001b[0m\u001b[31m┛\u001b[0m\u001b[31m┃\u001b[0m\u001b[31m┗\u001b[0m\u001b[31m┓\u001b[0m\u001b[31m┃\u001b[0m\u001b[31m┗\u001b[0m\u001b[31m┛\u001b[0m\u001b[31m┗\u001b[0m\u001b[31m┓\u001b[0m\u001b[31m┗\u001b[0m\u001b[31m┛\u001b[0m\u001b[31m┗\u001b[0m\u001b[31m┓\u001b[0mo\u001b[31m┃\u001b[0m\u001b[31m┏\u001b[0m\u001b[31m┛\u001b[0m\u001b[31m┏\u001b[0m\u001b[31m┛\u001b[0m\u001b[31m┗\u001b[0m\u001b[31m━\u001b[0m\u001b[31m┛\u001b[0m\u001b[31m┗\u001b[0m\u001b[31m━\u001b[0m\u001b[31m┓\u001b[0m\u001b[31m┃\u001b[0m\u001b[31m┗\u001b[0m\u001b[31m┓\u001b[0m\u001b[31m┗\u001b[0m\u001b[31m┓\u001b[0m\u001b[31m┏\u001b[0m\u001b[31m┛\u001b[0m\u001b[31m┃\u001b[0m\u001b[31m┃\u001b[0m\u001b[31m┗\u001b[0m\u001b[31m┓\u001b[0m\u001b[31m┏\u001b[0m\u001b[31m━\u001b[0m\u001b[31m━\u001b[0m\u001b[31m┛\u001b[0m\u001b[31m┃\u001b[0m\u001b[31m┗\u001b[0m\u001b[31m┓\u001b[0m\u001b[31m┃\u001b[0m\u001b[31m┗\u001b[0m\u001b[31m┓\u001b[0m\u001b[31m┏\u001b[0m\u001b[31m┛\u001b[0m\u001b[31m┏\u001b[0m\u001b[31m━\u001b[0m\u001b[31m┓\u001b[0m\u001b[31m┏\u001b[0m\u001b[31m┓\u001b[0m\u001b[31m┏\u001b[0m\u001b[31m━\u001b[0m\u001b[31m━\u001b[0m\u001b[31m┛\u001b[0m\u001b[31m┏\u001b[0m\u001b[31m━\u001b[0m\u001b[31m┛\u001b[0m\u001b[31m┏\u001b[0m\u001b[31m┓\u001b[0m\u001b[31m┃\u001b[0m\u001b[31m┗\u001b[0m\u001b[31m┛\u001b[0m\u001b[31m┃\u001b[0m\u001b[31m┏\u001b[0m\u001b[31m┛\u001b[0m\u001b[31m┗\u001b[0m\u001b[31m┛\u001b[0m\u001b[31m┏\u001b[0m\u001b[31m┛\u001b[0m\u001b[31m┏\u001b[0m\u001b[31m┛\u001b[0m\u001b[31m┗\u001b[0m\u001b[31m┓\u001b[0m\u001b[31m┃\u001b[0mo\u001b[31m┃\u001b[0m\u001b[31m┏\u001b[0m\u001b[31m━\u001b[0m\u001b[31m┛\u001b[0m\u001b[32mO\u001b[0m\u001b[32mO\u001b[0m\u001b[32mO\u001b[0m\u001b[32mO\u001b[0m\u001b[32mO\u001b[0m\u001b[32mO\u001b[0m\u001b[32mO\u001b[0m\u001b[32mO\u001b[0m\u001b[32mO\u001b[0m\u001b[32mO\u001b[0m\u001b[32mO\u001b[0m\u001b[32mO\u001b[0m\u001b[32mO\u001b[0m\u001b[32mO\u001b[0m\u001b[32mO\u001b[0m\u001b[32mO\u001b[0m\u001b[32mO\u001b[0m\n",
      "\u001b[32mO\u001b[0m\u001b[32mO\u001b[0m\u001b[32mO\u001b[0m\u001b[32mO\u001b[0m\u001b[32mO\u001b[0m\u001b[32mO\u001b[0m\u001b[32mO\u001b[0m\u001b[32mO\u001b[0m\u001b[32mO\u001b[0m\u001b[32mO\u001b[0m\u001b[32mO\u001b[0m\u001b[32mO\u001b[0m\u001b[32mO\u001b[0m\u001b[32mO\u001b[0m\u001b[32mO\u001b[0m\u001b[32mO\u001b[0m\u001b[32mO\u001b[0m\u001b[31m┃\u001b[0m\u001b[31m┗\u001b[0m\u001b[31m┛\u001b[0m\u001b[31m┏\u001b[0m\u001b[31m┛\u001b[0m\u001b[31m┃\u001b[0m\u001b[31m┃\u001b[0m\u001b[31m┃\u001b[0m\u001b[31m┃\u001b[0m\u001b[31m┏\u001b[0m\u001b[31m┓\u001b[0mo\u001b[31m┗\u001b[0m\u001b[31m━\u001b[0m\u001b[31m┓\u001b[0m\u001b[31m┃\u001b[0m\u001b[31m┏\u001b[0m\u001b[31m┓\u001b[0m\u001b[31m┃\u001b[0m\u001b[31m┃\u001b[0m\u001b[31m┃\u001b[0m\u001b[31m┏\u001b[0m\u001b[31m┛\u001b[0m\u001b[31m┃\u001b[0m\u001b[31m┏\u001b[0m\u001b[31m┛\u001b[0mo\u001b[31m┃\u001b[0m\u001b[31m┗\u001b[0m\u001b[31m┓\u001b[0m\u001b[31m┏\u001b[0m\u001b[31m┓\u001b[0m\u001b[31m┃\u001b[0m\u001b[31m┏\u001b[0m\u001b[31m━\u001b[0m\u001b[31m━\u001b[0m\u001b[31m┛\u001b[0m\u001b[31m┏\u001b[0m\u001b[31m┛\u001b[0m\u001b[31m┃\u001b[0mo\u001b[31m┗\u001b[0m\u001b[31m┓\u001b[0m\u001b[31m┏\u001b[0m\u001b[31m━\u001b[0m\u001b[31m━\u001b[0m\u001b[31m━\u001b[0m\u001b[31m━\u001b[0m\u001b[31m┛\u001b[0m\u001b[31m┗\u001b[0m\u001b[31m┓\u001b[0m\u001b[31m┃\u001b[0m\u001b[31m┏\u001b[0m\u001b[31m┛\u001b[0m\u001b[31m┃\u001b[0m\u001b[31m┏\u001b[0m\u001b[31m┛\u001b[0m\u001b[31m┃\u001b[0mo\u001b[31m┃\u001b[0m\u001b[31m┃\u001b[0mo\u001b[31m┏\u001b[0m\u001b[31m┓\u001b[0m\u001b[31m┗\u001b[0m\u001b[31m┓\u001b[0m\u001b[31m┃\u001b[0m\u001b[31m┗\u001b[0m\u001b[31m┓\u001b[0m\u001b[31m┃\u001b[0m\u001b[31m┃\u001b[0m\u001b[31m┏\u001b[0m\u001b[31m┛\u001b[0mo\u001b[31m┗\u001b[0m\u001b[31m┛\u001b[0m\u001b[31m┗\u001b[0m\u001b[31m┛\u001b[0m\u001b[31m┏\u001b[0m\u001b[31m━\u001b[0m\u001b[31m┓\u001b[0m\u001b[31m┗\u001b[0m\u001b[31m━\u001b[0m\u001b[31m┓\u001b[0m\u001b[31m┃\u001b[0m\u001b[31m┗\u001b[0m\u001b[31m┛\u001b[0mo\u001b[31m┏\u001b[0m\u001b[31m┛\u001b[0m\u001b[31m┗\u001b[0m\u001b[31m━\u001b[0m\u001b[31m┓\u001b[0m\u001b[31m┏\u001b[0m\u001b[31m┛\u001b[0m\u001b[31m┏\u001b[0m\u001b[31m┛\u001b[0m\u001b[31m┏\u001b[0m\u001b[31m┓\u001b[0m\u001b[31m┃\u001b[0m\u001b[31m┃\u001b[0m\u001b[31m┏\u001b[0m\u001b[31m┛\u001b[0m\u001b[31m┗\u001b[0m\u001b[31m━\u001b[0m\u001b[31m━\u001b[0m\u001b[31m━\u001b[0m\u001b[31m━\u001b[0m\u001b[31m┓\u001b[0m\u001b[32mO\u001b[0m\u001b[32mO\u001b[0m\u001b[32mO\u001b[0m\u001b[32mO\u001b[0m\u001b[32mO\u001b[0m\u001b[32mO\u001b[0m\u001b[32mO\u001b[0m\u001b[32mO\u001b[0m\u001b[32mO\u001b[0m\u001b[32mO\u001b[0m\u001b[32mO\u001b[0m\u001b[32mO\u001b[0m\u001b[32mO\u001b[0m\u001b[32mO\u001b[0m\n",
      "\u001b[32mO\u001b[0m\u001b[32mO\u001b[0m\u001b[32mO\u001b[0m\u001b[32mO\u001b[0m\u001b[32mO\u001b[0m\u001b[32mO\u001b[0m\u001b[32mO\u001b[0m\u001b[32mO\u001b[0m\u001b[32mO\u001b[0m\u001b[32mO\u001b[0m\u001b[32mO\u001b[0m\u001b[32mO\u001b[0m\u001b[32mO\u001b[0m\u001b[32mO\u001b[0m\u001b[32mO\u001b[0m\u001b[32mO\u001b[0m\u001b[32mO\u001b[0m\u001b[31m┃\u001b[0m\u001b[31m┏\u001b[0m\u001b[31m┓\u001b[0m\u001b[31m┃\u001b[0m\u001b[31m┏\u001b[0m\u001b[31m┛\u001b[0m\u001b[31m┃\u001b[0m\u001b[31m┃\u001b[0m\u001b[31m┗\u001b[0m\u001b[31m┛\u001b[0m\u001b[31m┗\u001b[0m\u001b[31m┓\u001b[0m\u001b[31m┏\u001b[0m\u001b[31m┓\u001b[0m\u001b[31m┃\u001b[0m\u001b[31m┗\u001b[0m\u001b[31m┛\u001b[0m\u001b[31m┗\u001b[0m\u001b[31m┛\u001b[0m\u001b[31m┃\u001b[0m\u001b[31m┃\u001b[0m\u001b[31m┗\u001b[0m\u001b[31m┓\u001b[0m\u001b[31m┃\u001b[0m\u001b[31m┗\u001b[0m\u001b[31m━\u001b[0m\u001b[31m┓\u001b[0m\u001b[31m┃\u001b[0m\u001b[31m┏\u001b[0m\u001b[31m┛\u001b[0m\u001b[31m┃\u001b[0m\u001b[31m┗\u001b[0m\u001b[31m┛\u001b[0m\u001b[31m┃\u001b[0m\u001b[31m┏\u001b[0m\u001b[31m┓\u001b[0m\u001b[31m┏\u001b[0m\u001b[31m┛\u001b[0m\u001b[31m┏\u001b[0m\u001b[31m┛\u001b[0m\u001b[31m┏\u001b[0m\u001b[31m┓\u001b[0m\u001b[31m┃\u001b[0m\u001b[31m┃\u001b[0m\u001b[31m┏\u001b[0m\u001b[31m┓\u001b[0m\u001b[31m┏\u001b[0m\u001b[31m┓\u001b[0m\u001b[31m┏\u001b[0m\u001b[31m┓\u001b[0m\u001b[31m┃\u001b[0m\u001b[31m┃\u001b[0m\u001b[31m┗\u001b[0m\u001b[31m┓\u001b[0m\u001b[31m┗\u001b[0m\u001b[31m┛\u001b[0m\u001b[31m┏\u001b[0m\u001b[31m┛\u001b[0m\u001b[31m┏\u001b[0m\u001b[31m┛\u001b[0m\u001b[31m┃\u001b[0m\u001b[31m┏\u001b[0m\u001b[31m┛\u001b[0m\u001b[31m┗\u001b[0m\u001b[31m┓\u001b[0m\u001b[31m┃\u001b[0m\u001b[31m┃\u001b[0m\u001b[31m┏\u001b[0m\u001b[31m┛\u001b[0m\u001b[31m┗\u001b[0m\u001b[31m┛\u001b[0m\u001b[31m┃\u001b[0m\u001b[31m┏\u001b[0m\u001b[31m━\u001b[0m\u001b[31m━\u001b[0m\u001b[31m━\u001b[0m\u001b[31m━\u001b[0m\u001b[31m┓\u001b[0m\u001b[31m┗\u001b[0m\u001b[31m┓\u001b[0m\u001b[31m┃\u001b[0m\u001b[31m┏\u001b[0m\u001b[31m┓\u001b[0m\u001b[31m┃\u001b[0m\u001b[31m┗\u001b[0m\u001b[31m┓\u001b[0m\u001b[31m┏\u001b[0m\u001b[31m┓\u001b[0m\u001b[31m┗\u001b[0m\u001b[31m┓\u001b[0m\u001b[31m┏\u001b[0m\u001b[31m━\u001b[0m\u001b[31m┛\u001b[0m\u001b[31m┗\u001b[0m\u001b[31m┓\u001b[0m\u001b[31m┃\u001b[0mo\u001b[31m┃\u001b[0m\u001b[31m┗\u001b[0m\u001b[31m┛\u001b[0m\u001b[31m┗\u001b[0m\u001b[31m┛\u001b[0m\u001b[31m┏\u001b[0m\u001b[31m━\u001b[0m\u001b[31m━\u001b[0m\u001b[31m━\u001b[0m\u001b[31m━\u001b[0m\u001b[31m━\u001b[0m\u001b[31m┛\u001b[0m\u001b[32mO\u001b[0m\u001b[32mO\u001b[0m\u001b[32mO\u001b[0m\u001b[32mO\u001b[0m\u001b[32mO\u001b[0m\u001b[32mO\u001b[0m\u001b[32mO\u001b[0m\u001b[32mO\u001b[0m\u001b[32mO\u001b[0m\u001b[32mO\u001b[0m\u001b[32mO\u001b[0m\u001b[32mO\u001b[0m\u001b[32mO\u001b[0m\u001b[32mO\u001b[0m\n",
      "\u001b[32mO\u001b[0m\u001b[32mO\u001b[0m\u001b[32mO\u001b[0m\u001b[32mO\u001b[0m\u001b[32mO\u001b[0m\u001b[32mO\u001b[0m\u001b[32mO\u001b[0m\u001b[32mO\u001b[0m\u001b[32mO\u001b[0m\u001b[32mO\u001b[0m\u001b[32mO\u001b[0m\u001b[32mO\u001b[0m\u001b[32mO\u001b[0m\u001b[32mO\u001b[0m\u001b[31m┏\u001b[0m\u001b[31m┓\u001b[0m\u001b[32mO\u001b[0m\u001b[31m┗\u001b[0m\u001b[31m┛\u001b[0m\u001b[31m┃\u001b[0m\u001b[31m┃\u001b[0m\u001b[31m┃\u001b[0m\u001b[31m┏\u001b[0m\u001b[31m┛\u001b[0m\u001b[31m┗\u001b[0m\u001b[31m━\u001b[0m\u001b[31m━\u001b[0m\u001b[31m┓\u001b[0m\u001b[31m┗\u001b[0m\u001b[31m┛\u001b[0m\u001b[31m┃\u001b[0m\u001b[31m┃\u001b[0m\u001b[31m┏\u001b[0m\u001b[31m━\u001b[0m\u001b[31m━\u001b[0m\u001b[31m┓\u001b[0m\u001b[31m┃\u001b[0m\u001b[31m┃\u001b[0m\u001b[31m┏\u001b[0m\u001b[31m┛\u001b[0m\u001b[31m┃\u001b[0m\u001b[31m┏\u001b[0m\u001b[31m━\u001b[0m\u001b[31m┛\u001b[0m\u001b[31m┃\u001b[0m\u001b[31m┗\u001b[0m\u001b[31m┓\u001b[0m\u001b[31m┗\u001b[0m\u001b[31m━\u001b[0m\u001b[31m┓\u001b[0m\u001b[31m┃\u001b[0m\u001b[31m┃\u001b[0m\u001b[31m┃\u001b[0m\u001b[31m┗\u001b[0m\u001b[31m┓\u001b[0m\u001b[31m┗\u001b[0m\u001b[31m┓\u001b[0m\u001b[31m┃\u001b[0m\u001b[31m┃\u001b[0m\u001b[31m┃\u001b[0m\u001b[31m┃\u001b[0m\u001b[31m┃\u001b[0m\u001b[31m┗\u001b[0m\u001b[31m┛\u001b[0m\u001b[31m┃\u001b[0m\u001b[31m┃\u001b[0m\u001b[31m┃\u001b[0m\u001b[31m┃\u001b[0m\u001b[31m┃\u001b[0mo\u001b[31m┗\u001b[0m\u001b[31m┓\u001b[0m\u001b[31m┏\u001b[0m\u001b[31m┛\u001b[0mo\u001b[31m┗\u001b[0m\u001b[31m┓\u001b[0m\u001b[31m┃\u001b[0m\u001b[31m┗\u001b[0m\u001b[31m┓\u001b[0m\u001b[31m┏\u001b[0m\u001b[31m┛\u001b[0m\u001b[31m┃\u001b[0m\u001b[31m┃\u001b[0m\u001b[31m┗\u001b[0m\u001b[31m━\u001b[0m\u001b[31m━\u001b[0m\u001b[31m┓\u001b[0m\u001b[31m┃\u001b[0m\u001b[31m┃\u001b[0m\u001b[31m┏\u001b[0m\u001b[31m━\u001b[0m\u001b[31m━\u001b[0m\u001b[31m━\u001b[0m\u001b[31m┛\u001b[0m\u001b[31m┏\u001b[0m\u001b[31m┛\u001b[0m\u001b[31m┃\u001b[0m\u001b[31m┃\u001b[0m\u001b[31m┗\u001b[0m\u001b[31m┛\u001b[0m\u001b[31m┏\u001b[0m\u001b[31m┛\u001b[0m\u001b[31m┃\u001b[0m\u001b[31m┃\u001b[0m\u001b[31m┏\u001b[0m\u001b[31m┛\u001b[0m\u001b[31m┗\u001b[0m\u001b[31m┓\u001b[0m\u001b[31m┏\u001b[0m\u001b[31m┓\u001b[0m\u001b[31m┃\u001b[0m\u001b[31m┃\u001b[0m\u001b[31m┏\u001b[0m\u001b[31m┛\u001b[0m\u001b[31m┏\u001b[0m\u001b[31m━\u001b[0m\u001b[31m━\u001b[0m\u001b[31m━\u001b[0m\u001b[31m┛\u001b[0mo\u001b[31m┏\u001b[0m\u001b[31m┓\u001b[0m\u001b[31m┏\u001b[0m\u001b[31m┓\u001b[0m\u001b[32mO\u001b[0m\u001b[32mO\u001b[0m\u001b[32mO\u001b[0m\u001b[32mO\u001b[0m\u001b[32mO\u001b[0m\u001b[32mO\u001b[0m\u001b[32mO\u001b[0m\u001b[32mO\u001b[0m\u001b[32mO\u001b[0m\u001b[32mO\u001b[0m\u001b[32mO\u001b[0m\u001b[32mO\u001b[0m\u001b[32mO\u001b[0m\u001b[32mO\u001b[0m\u001b[32mO\u001b[0m\n",
      "\u001b[32mO\u001b[0m\u001b[32mO\u001b[0m\u001b[32mO\u001b[0m\u001b[32mO\u001b[0m\u001b[32mO\u001b[0m\u001b[32mO\u001b[0m\u001b[32mO\u001b[0m\u001b[32mO\u001b[0m\u001b[32mO\u001b[0m\u001b[32mO\u001b[0m\u001b[32mO\u001b[0m\u001b[32mO\u001b[0m\u001b[32mO\u001b[0m\u001b[32mO\u001b[0m\u001b[31m┃\u001b[0m\u001b[31m┗\u001b[0m\u001b[31m━\u001b[0m\u001b[31m━\u001b[0m\u001b[31m━\u001b[0m\u001b[31m┛\u001b[0m\u001b[31m┗\u001b[0m\u001b[31m┛\u001b[0m\u001b[31m┗\u001b[0m\u001b[31m┓\u001b[0mo\u001b[31m┏\u001b[0m\u001b[31m┓\u001b[0m\u001b[31m┗\u001b[0m\u001b[31m┓\u001b[0m\u001b[31m┏\u001b[0m\u001b[31m┛\u001b[0m\u001b[31m┗\u001b[0m\u001b[31m┛\u001b[0m\u001b[31m┏\u001b[0m\u001b[31m━\u001b[0m\u001b[31m┛\u001b[0m\u001b[31m┗\u001b[0m\u001b[31m┛\u001b[0m\u001b[31m┗\u001b[0m\u001b[31m┓\u001b[0m\u001b[31m┃\u001b[0m\u001b[31m┃\u001b[0m\u001b[31m┏\u001b[0m\u001b[31m━\u001b[0m\u001b[31m┛\u001b[0m\u001b[31m┏\u001b[0m\u001b[31m┛\u001b[0m\u001b[31m┏\u001b[0m\u001b[31m━\u001b[0m\u001b[31m┛\u001b[0m\u001b[31m┗\u001b[0m\u001b[31m┛\u001b[0m\u001b[31m┗\u001b[0m\u001b[31m┓\u001b[0m\u001b[31m┃\u001b[0m\u001b[31m┏\u001b[0m\u001b[31m┛\u001b[0m\u001b[31m┃\u001b[0m\u001b[31m┃\u001b[0m\u001b[31m┃\u001b[0m\u001b[31m┃\u001b[0m\u001b[31m┃\u001b[0m\u001b[31m┏\u001b[0m\u001b[31m━\u001b[0m\u001b[31m┛\u001b[0m\u001b[31m┃\u001b[0m\u001b[31m┗\u001b[0m\u001b[31m┛\u001b[0m\u001b[31m┃\u001b[0m\u001b[31m┏\u001b[0m\u001b[31m┓\u001b[0m\u001b[31m┃\u001b[0m\u001b[31m┗\u001b[0m\u001b[31m━\u001b[0m\u001b[31m━\u001b[0m\u001b[31m┓\u001b[0m\u001b[31m┃\u001b[0m\u001b[31m┃\u001b[0m\u001b[31m┏\u001b[0m\u001b[31m┛\u001b[0m\u001b[31m┃\u001b[0mo\u001b[31m┃\u001b[0m\u001b[31m┃\u001b[0mo\u001b[31m┏\u001b[0m\u001b[31m┓\u001b[0m\u001b[31m┃\u001b[0m\u001b[31m┃\u001b[0m\u001b[31m┃\u001b[0m\u001b[31m┃\u001b[0m\u001b[31m┏\u001b[0m\u001b[31m━\u001b[0m\u001b[31m━\u001b[0m\u001b[31m┓\u001b[0m\u001b[31m┗\u001b[0m\u001b[31m┓\u001b[0m\u001b[31m┃\u001b[0m\u001b[31m┗\u001b[0m\u001b[31m━\u001b[0m\u001b[31m┓\u001b[0m\u001b[31m┗\u001b[0m\u001b[31m┓\u001b[0m\u001b[31m┃\u001b[0m\u001b[31m┃\u001b[0m\u001b[31m┗\u001b[0m\u001b[31m┓\u001b[0m\u001b[31m┏\u001b[0m\u001b[31m┛\u001b[0m\u001b[31m┃\u001b[0m\u001b[31m┗\u001b[0m\u001b[31m┛\u001b[0m\u001b[31m┃\u001b[0m\u001b[31m┃\u001b[0m\u001b[31m┏\u001b[0m\u001b[31m┛\u001b[0m\u001b[31m┏\u001b[0m\u001b[31m┓\u001b[0m\u001b[31m┏\u001b[0m\u001b[31m━\u001b[0m\u001b[31m━\u001b[0m\u001b[31m┛\u001b[0m\u001b[31m┗\u001b[0m\u001b[31m┛\u001b[0m\u001b[31m┗\u001b[0m\u001b[31m┓\u001b[0m\u001b[32mO\u001b[0m\u001b[32mO\u001b[0m\u001b[32mO\u001b[0m\u001b[32mO\u001b[0m\u001b[32mO\u001b[0m\u001b[32mO\u001b[0m\u001b[32mO\u001b[0m\u001b[32mO\u001b[0m\u001b[32mO\u001b[0m\u001b[32mO\u001b[0m\u001b[32mO\u001b[0m\u001b[32mO\u001b[0m\u001b[32mO\u001b[0m\u001b[32mO\u001b[0m\n",
      "\u001b[32mO\u001b[0m\u001b[32mO\u001b[0m\u001b[32mO\u001b[0m\u001b[32mO\u001b[0m\u001b[32mO\u001b[0m\u001b[32mO\u001b[0m\u001b[32mO\u001b[0m\u001b[32mO\u001b[0m\u001b[32mO\u001b[0m\u001b[32mO\u001b[0m\u001b[32mO\u001b[0m\u001b[32mO\u001b[0m\u001b[32mO\u001b[0m\u001b[32mO\u001b[0m\u001b[31m┗\u001b[0m\u001b[31m━\u001b[0m\u001b[31m━\u001b[0m\u001b[31m┓\u001b[0m\u001b[31m┏\u001b[0m\u001b[31m━\u001b[0m\u001b[31m━\u001b[0m\u001b[31m┓\u001b[0m\u001b[31m┏\u001b[0m\u001b[31m┛\u001b[0m\u001b[31m┏\u001b[0m\u001b[31m┛\u001b[0m\u001b[31m┗\u001b[0m\u001b[31m━\u001b[0m\u001b[31m┛\u001b[0m\u001b[31m┃\u001b[0m\u001b[31m┏\u001b[0m\u001b[31m┓\u001b[0mo\u001b[31m┃\u001b[0m\u001b[31m┏\u001b[0m\u001b[31m┓\u001b[0m\u001b[31m┏\u001b[0m\u001b[31m━\u001b[0m\u001b[31m┓\u001b[0m\u001b[31m┃\u001b[0m\u001b[31m┃\u001b[0m\u001b[31m┃\u001b[0m\u001b[31m┃\u001b[0m\u001b[31m┏\u001b[0m\u001b[31m━\u001b[0m\u001b[31m┛\u001b[0mo\u001b[31m┗\u001b[0m\u001b[31m━\u001b[0m\u001b[31m━\u001b[0m\u001b[31m━\u001b[0m\u001b[31m┓\u001b[0m\u001b[31m┏\u001b[0m\u001b[31m┛\u001b[0m\u001b[31m┃\u001b[0m\u001b[31m┃\u001b[0m\u001b[31m┏\u001b[0m\u001b[31m┛\u001b[0m\u001b[31m┃\u001b[0m\u001b[31m┃\u001b[0m\u001b[31m┃\u001b[0m\u001b[31m┃\u001b[0m\u001b[31m┗\u001b[0m\u001b[31m━\u001b[0m\u001b[31m┓\u001b[0m\u001b[31m┃\u001b[0m\u001b[31m┏\u001b[0m\u001b[31m┓\u001b[0m\u001b[31m┃\u001b[0m\u001b[31m┃\u001b[0m\u001b[31m┃\u001b[0m\u001b[31m┃\u001b[0m\u001b[31m┏\u001b[0m\u001b[31m━\u001b[0m\u001b[31m━\u001b[0m\u001b[31m┛\u001b[0m\u001b[31m┃\u001b[0m\u001b[31m┃\u001b[0m\u001b[31m┃\u001b[0m\u001b[31m┏\u001b[0m\u001b[31m┛\u001b[0m\u001b[31m┏\u001b[0m\u001b[31m┛\u001b[0m\u001b[31m┃\u001b[0m\u001b[31m┏\u001b[0m\u001b[31m┛\u001b[0m\u001b[31m┃\u001b[0m\u001b[31m┃\u001b[0m\u001b[31m┃\u001b[0m\u001b[31m┃\u001b[0m\u001b[31m┃\u001b[0m\u001b[31m┃\u001b[0m\u001b[31m┏\u001b[0m\u001b[31m━\u001b[0m\u001b[31m┛\u001b[0m\u001b[31m┏\u001b[0m\u001b[31m┛\u001b[0m\u001b[31m┃\u001b[0m\u001b[31m┏\u001b[0m\u001b[31m━\u001b[0m\u001b[31m┛\u001b[0m\u001b[31m┏\u001b[0m\u001b[31m┛\u001b[0m\u001b[31m┃\u001b[0m\u001b[31m┃\u001b[0mo\u001b[31m┃\u001b[0m\u001b[31m┃\u001b[0m\u001b[31m┏\u001b[0m\u001b[31m┛\u001b[0m\u001b[31m┏\u001b[0m\u001b[31m━\u001b[0m\u001b[31m┛\u001b[0m\u001b[31m┃\u001b[0m\u001b[31m┃\u001b[0mo\u001b[31m┃\u001b[0m\u001b[31m┗\u001b[0m\u001b[31m┛\u001b[0m\u001b[31m┏\u001b[0m\u001b[31m━\u001b[0m\u001b[31m━\u001b[0m\u001b[31m┓\u001b[0m\u001b[31m┏\u001b[0m\u001b[31m┓\u001b[0m\u001b[31m┗\u001b[0m\u001b[31m━\u001b[0m\u001b[31m┓\u001b[0m\u001b[32mO\u001b[0m\u001b[32mO\u001b[0m\u001b[32mO\u001b[0m\u001b[32mO\u001b[0m\u001b[32mO\u001b[0m\u001b[32mO\u001b[0m\u001b[32mO\u001b[0m\u001b[32mO\u001b[0m\u001b[32mO\u001b[0m\u001b[32mO\u001b[0m\u001b[32mO\u001b[0m\u001b[32mO\u001b[0m\n",
      "\u001b[32mO\u001b[0m\u001b[32mO\u001b[0m\u001b[32mO\u001b[0m\u001b[32mO\u001b[0m\u001b[32mO\u001b[0m\u001b[32mO\u001b[0m\u001b[32mO\u001b[0m\u001b[32mO\u001b[0m\u001b[32mO\u001b[0m\u001b[32mO\u001b[0m\u001b[32mO\u001b[0m\u001b[32mO\u001b[0m\u001b[32mO\u001b[0m\u001b[32mO\u001b[0m\u001b[32mO\u001b[0m\u001b[31m┏\u001b[0m\u001b[31m┓\u001b[0m\u001b[31m┃\u001b[0m\u001b[31m┃\u001b[0m\u001b[31m┏\u001b[0m\u001b[31m━\u001b[0m\u001b[31m┛\u001b[0m\u001b[31m┃\u001b[0m\u001b[31m┏\u001b[0m\u001b[31m┛\u001b[0m\u001b[31m┏\u001b[0m\u001b[31m━\u001b[0m\u001b[31m━\u001b[0m\u001b[31m┓\u001b[0m\u001b[31m┃\u001b[0m\u001b[31m┃\u001b[0m\u001b[31m┗\u001b[0m\u001b[31m┓\u001b[0m\u001b[31m┗\u001b[0m\u001b[31m┛\u001b[0m\u001b[31m┃\u001b[0m\u001b[31m┃\u001b[0m\u001b[31m┏\u001b[0m\u001b[31m┛\u001b[0m\u001b[31m┗\u001b[0m\u001b[31m┛\u001b[0m\u001b[31m┗\u001b[0m\u001b[31m┛\u001b[0m\u001b[31m┗\u001b[0m\u001b[31m┓\u001b[0m\u001b[31m┏\u001b[0m\u001b[31m┓\u001b[0mo\u001b[31m┏\u001b[0m\u001b[31m┓\u001b[0mo\u001b[31m┃\u001b[0m\u001b[31m┃\u001b[0m\u001b[31m┏\u001b[0m\u001b[31m┛\u001b[0m\u001b[31m┃\u001b[0m\u001b[31m┗\u001b[0m\u001b[31m┓\u001b[0m\u001b[31m┃\u001b[0m\u001b[31m┃\u001b[0m\u001b[31m┃\u001b[0m\u001b[31m┃\u001b[0m\u001b[31m┏\u001b[0m\u001b[31m━\u001b[0m\u001b[31m┛\u001b[0m\u001b[31m┃\u001b[0m\u001b[31m┃\u001b[0m\u001b[31m┗\u001b[0m\u001b[31m┛\u001b[0m\u001b[31m┃\u001b[0m\u001b[31m┗\u001b[0m\u001b[31m┛\u001b[0m\u001b[31m┗\u001b[0m\u001b[31m┓\u001b[0m\u001b[31m┏\u001b[0m\u001b[31m┓\u001b[0m\u001b[31m┃\u001b[0m\u001b[31m┃\u001b[0m\u001b[31m┃\u001b[0m\u001b[31m┗\u001b[0m\u001b[31m┓\u001b[0m\u001b[31m┗\u001b[0m\u001b[31m┓\u001b[0m\u001b[31m┗\u001b[0m\u001b[31m┛\u001b[0m\u001b[31m┏\u001b[0m\u001b[31m┛\u001b[0m\u001b[31m┃\u001b[0m\u001b[31m┗\u001b[0m\u001b[31m┛\u001b[0m\u001b[31m┗\u001b[0m\u001b[31m┛\u001b[0m\u001b[31m┗\u001b[0m\u001b[31m┓\u001b[0m\u001b[31m┏\u001b[0m\u001b[31m┛\u001b[0m\u001b[31m┏\u001b[0m\u001b[31m┛\u001b[0m\u001b[31m┗\u001b[0m\u001b[31m━\u001b[0m\u001b[31m┓\u001b[0m\u001b[31m┃\u001b[0m\u001b[31m┏\u001b[0m\u001b[31m┛\u001b[0m\u001b[31m┗\u001b[0m\u001b[31m┓\u001b[0m\u001b[31m┃\u001b[0m\u001b[31m┗\u001b[0m\u001b[31m┛\u001b[0m\u001b[31m┏\u001b[0m\u001b[31m┛\u001b[0m\u001b[31m┏\u001b[0m\u001b[31m┓\u001b[0m\u001b[31m┃\u001b[0m\u001b[31m┗\u001b[0m\u001b[31m━\u001b[0m\u001b[31m┛\u001b[0m\u001b[31m┏\u001b[0m\u001b[31m┓\u001b[0m\u001b[31m┗\u001b[0m\u001b[31m━\u001b[0m\u001b[31m┓\u001b[0m\u001b[31m┗\u001b[0m\u001b[31m┛\u001b[0m\u001b[31m┃\u001b[0m\u001b[31m┏\u001b[0m\u001b[31m━\u001b[0m\u001b[31m┛\u001b[0m\u001b[32mO\u001b[0m\u001b[32mO\u001b[0m\u001b[32mO\u001b[0m\u001b[32mO\u001b[0m\u001b[32mO\u001b[0m\u001b[32mO\u001b[0m\u001b[32mO\u001b[0m\u001b[32mO\u001b[0m\u001b[32mO\u001b[0m\u001b[32mO\u001b[0m\u001b[32mO\u001b[0m\u001b[32mO\u001b[0m\n",
      "\u001b[32mO\u001b[0m\u001b[32mO\u001b[0m\u001b[32mO\u001b[0m\u001b[32mO\u001b[0m\u001b[32mO\u001b[0m\u001b[32mO\u001b[0m\u001b[32mO\u001b[0m\u001b[32mO\u001b[0m\u001b[32mO\u001b[0m\u001b[32mO\u001b[0m\u001b[32mO\u001b[0m\u001b[32mO\u001b[0m\u001b[32mO\u001b[0m\u001b[32mO\u001b[0m\u001b[32mO\u001b[0m\u001b[31m┃\u001b[0m\u001b[31m┗\u001b[0m\u001b[31m┛\u001b[0m\u001b[31m┃\u001b[0m\u001b[31m┃\u001b[0m\u001b[31m┏\u001b[0m\u001b[31m┓\u001b[0m\u001b[31m┃\u001b[0m\u001b[31m┗\u001b[0m\u001b[31m━\u001b[0m\u001b[31m┛\u001b[0m\u001b[31m┏\u001b[0m\u001b[31m┓\u001b[0m\u001b[31m┃\u001b[0m\u001b[31m┃\u001b[0m\u001b[31m┃\u001b[0m\u001b[31m┏\u001b[0m\u001b[31m┛\u001b[0m\u001b[31m┏\u001b[0m\u001b[31m┓\u001b[0m\u001b[31m┗\u001b[0m\u001b[31m┛\u001b[0m\u001b[31m┗\u001b[0m\u001b[31m━\u001b[0m\u001b[31m━\u001b[0m\u001b[31m┓\u001b[0m\u001b[31m┏\u001b[0m\u001b[31m━\u001b[0m\u001b[31m━\u001b[0m\u001b[31m┛\u001b[0m\u001b[31m┃\u001b[0m\u001b[31m┃\u001b[0m\u001b[31m┏\u001b[0m\u001b[31m┛\u001b[0m\u001b[31m┃\u001b[0m\u001b[31m┏\u001b[0m\u001b[31m┛\u001b[0m\u001b[31m┃\u001b[0m\u001b[31m┗\u001b[0m\u001b[31m┓\u001b[0m\u001b[31m┗\u001b[0m\u001b[31m┓\u001b[0m\u001b[31m┃\u001b[0m\u001b[31m┗\u001b[0m\u001b[31m┛\u001b[0m\u001b[31m┗\u001b[0m\u001b[31m┛\u001b[0m\u001b[31m┗\u001b[0m\u001b[31m━\u001b[0m\u001b[31m┓\u001b[0m\u001b[31m┃\u001b[0m\u001b[31m┃\u001b[0m\u001b[31m┏\u001b[0m\u001b[31m━\u001b[0m\u001b[31m┛\u001b[0m\u001b[31m┏\u001b[0m\u001b[31m━\u001b[0m\u001b[31m━\u001b[0m\u001b[31m┛\u001b[0m\u001b[31m┃\u001b[0m\u001b[31m┃\u001b[0m\u001b[31m┃\u001b[0m\u001b[31m┃\u001b[0m\u001b[31m┗\u001b[0m\u001b[31m┓\u001b[0m\u001b[31m┗\u001b[0m\u001b[31m┓\u001b[0m\u001b[31m┃\u001b[0m\u001b[31m┏\u001b[0m\u001b[31m┓\u001b[0m\u001b[31m┃\u001b[0m\u001b[31m┏\u001b[0m\u001b[31m┛\u001b[0m\u001b[31m┏\u001b[0m\u001b[31m━\u001b[0m\u001b[31m━\u001b[0m\u001b[31m┓\u001b[0m\u001b[31m┏\u001b[0m\u001b[31m┛\u001b[0m\u001b[31m┗\u001b[0m\u001b[31m┓\u001b[0m\u001b[31m┃\u001b[0m\u001b[31m┏\u001b[0m\u001b[31m┓\u001b[0m\u001b[31m┏\u001b[0m\u001b[31m┛\u001b[0m\u001b[31m┗\u001b[0m\u001b[31m┛\u001b[0m\u001b[31m┏\u001b[0m\u001b[31m━\u001b[0m\u001b[31m┛\u001b[0m\u001b[31m┗\u001b[0m\u001b[31m━\u001b[0m\u001b[31m┓\u001b[0m\u001b[31m┗\u001b[0m\u001b[31m━\u001b[0m\u001b[31m┛\u001b[0m\u001b[31m┗\u001b[0m\u001b[31m┛\u001b[0m\u001b[31m┏\u001b[0m\u001b[31m┓\u001b[0m\u001b[31m┏\u001b[0m\u001b[31m┛\u001b[0m\u001b[31m┗\u001b[0m\u001b[31m━\u001b[0m\u001b[31m━\u001b[0m\u001b[31m┛\u001b[0m\u001b[31m┏\u001b[0m\u001b[31m┓\u001b[0m\u001b[31m┃\u001b[0m\u001b[31m┗\u001b[0m\u001b[31m━\u001b[0m\u001b[31m┓\u001b[0m\u001b[32mO\u001b[0m\u001b[32mO\u001b[0m\u001b[32mO\u001b[0m\u001b[32mO\u001b[0m\u001b[32mO\u001b[0m\u001b[32mO\u001b[0m\u001b[32mO\u001b[0m\u001b[32mO\u001b[0m\u001b[32mO\u001b[0m\u001b[32mO\u001b[0m\u001b[32mO\u001b[0m\u001b[32mO\u001b[0m\n",
      "\u001b[32mO\u001b[0m\u001b[32mO\u001b[0m\u001b[32mO\u001b[0m\u001b[32mO\u001b[0m\u001b[32mO\u001b[0m\u001b[32mO\u001b[0m\u001b[32mO\u001b[0m\u001b[32mO\u001b[0m\u001b[32mO\u001b[0m\u001b[32mO\u001b[0m\u001b[31m┏\u001b[0m\u001b[31m┓\u001b[0m\u001b[32mO\u001b[0m\u001b[32mO\u001b[0m\u001b[32mO\u001b[0m\u001b[31m┃\u001b[0m\u001b[31m┏\u001b[0m\u001b[31m━\u001b[0m\u001b[31m┛\u001b[0m\u001b[31m┗\u001b[0m\u001b[31m┛\u001b[0m\u001b[31m┃\u001b[0m\u001b[31m┃\u001b[0m\u001b[31m┏\u001b[0m\u001b[31m┓\u001b[0m\u001b[31m┏\u001b[0m\u001b[31m┛\u001b[0m\u001b[31m┗\u001b[0m\u001b[31m┛\u001b[0m\u001b[31m┗\u001b[0m\u001b[31m┛\u001b[0m\u001b[31m┗\u001b[0m\u001b[31m┓\u001b[0m\u001b[31m┃\u001b[0m\u001b[31m┃\u001b[0m\u001b[31m┏\u001b[0m\u001b[31m┓\u001b[0mo\u001b[31m┏\u001b[0m\u001b[31m┓\u001b[0m\u001b[31m┃\u001b[0m\u001b[31m┃\u001b[0mo\u001b[31m┏\u001b[0m\u001b[31m┓\u001b[0m\u001b[31m┃\u001b[0m\u001b[31m┃\u001b[0m\u001b[31m┗\u001b[0m\u001b[31m┓\u001b[0m\u001b[31m┃\u001b[0m\u001b[31m┗\u001b[0m\u001b[31m┓\u001b[0m\u001b[31m┃\u001b[0m\u001b[31m┏\u001b[0m\u001b[31m┛\u001b[0m\u001b[31m┏\u001b[0m\u001b[31m┛\u001b[0m\u001b[31m┗\u001b[0m\u001b[31m┓\u001b[0m\u001b[31m┏\u001b[0m\u001b[31m━\u001b[0m\u001b[31m━\u001b[0m\u001b[31m━\u001b[0m\u001b[31m┓\u001b[0m\u001b[31m┗\u001b[0m\u001b[31m┛\u001b[0m\u001b[31m┃\u001b[0m\u001b[31m┃\u001b[0m\u001b[31m┏\u001b[0m\u001b[31m┓\u001b[0m\u001b[31m┃\u001b[0m\u001b[31m┏\u001b[0m\u001b[31m┓\u001b[0m\u001b[31m┏\u001b[0m\u001b[31m┛\u001b[0m\u001b[31m┗\u001b[0m\u001b[31m┛\u001b[0m\u001b[31m┃\u001b[0m\u001b[31m┏\u001b[0m\u001b[31m┛\u001b[0m\u001b[31m┏\u001b[0m\u001b[31m┛\u001b[0m\u001b[31m┗\u001b[0m\u001b[31m┛\u001b[0m\u001b[31m┃\u001b[0m\u001b[31m┃\u001b[0m\u001b[31m┃\u001b[0m\u001b[31m┏\u001b[0m\u001b[31m┛\u001b[0m\u001b[31m┏\u001b[0m\u001b[31m┓\u001b[0m\u001b[31m┗\u001b[0m\u001b[31m┛\u001b[0m\u001b[31m┏\u001b[0m\u001b[31m━\u001b[0m\u001b[31m┛\u001b[0m\u001b[31m┃\u001b[0m\u001b[31m┃\u001b[0m\u001b[31m┃\u001b[0m\u001b[31m┃\u001b[0m\u001b[31m┏\u001b[0m\u001b[31m━\u001b[0m\u001b[31m━\u001b[0m\u001b[31m┛\u001b[0m\u001b[31m┏\u001b[0m\u001b[31m┓\u001b[0m\u001b[31m┏\u001b[0m\u001b[31m┓\u001b[0m\u001b[31m┗\u001b[0m\u001b[31m┓\u001b[0m\u001b[31m┏\u001b[0m\u001b[31m━\u001b[0m\u001b[31m━\u001b[0m\u001b[31m━\u001b[0m\u001b[31m┛\u001b[0m\u001b[31m┗\u001b[0m\u001b[31m┛\u001b[0m\u001b[31m┏\u001b[0m\u001b[31m┓\u001b[0m\u001b[31m┏\u001b[0m\u001b[31m━\u001b[0m\u001b[31m━\u001b[0m\u001b[31m┛\u001b[0m\u001b[31m┃\u001b[0m\u001b[31m┗\u001b[0m\u001b[31m┓\u001b[0m\u001b[31m┏\u001b[0m\u001b[31m┛\u001b[0m\u001b[32mO\u001b[0m\u001b[32mO\u001b[0m\u001b[32mO\u001b[0m\u001b[32mO\u001b[0m\u001b[32mO\u001b[0m\u001b[32mO\u001b[0m\u001b[32mO\u001b[0m\u001b[32mO\u001b[0m\u001b[32mO\u001b[0m\u001b[32mO\u001b[0m\u001b[32mO\u001b[0m\u001b[32mO\u001b[0m\n",
      "\u001b[32mO\u001b[0m\u001b[32mO\u001b[0m\u001b[32mO\u001b[0m\u001b[32mO\u001b[0m\u001b[32mO\u001b[0m\u001b[32mO\u001b[0m\u001b[32mO\u001b[0m\u001b[32mO\u001b[0m\u001b[32mO\u001b[0m\u001b[31m┏\u001b[0m\u001b[31m┛\u001b[0m\u001b[31m┗\u001b[0m\u001b[31m┓\u001b[0m\u001b[31m┏\u001b[0m\u001b[31m┓\u001b[0m\u001b[31m┗\u001b[0m\u001b[31m┛\u001b[0m\u001b[31m┏\u001b[0m\u001b[31m━\u001b[0m\u001b[31m━\u001b[0m\u001b[31m━\u001b[0m\u001b[31m┛\u001b[0m\u001b[31m┃\u001b[0m\u001b[31m┃\u001b[0m\u001b[31m┃\u001b[0m\u001b[31m┗\u001b[0m\u001b[31m━\u001b[0m\u001b[31m━\u001b[0m\u001b[31m━\u001b[0m\u001b[31m━\u001b[0m\u001b[31m━\u001b[0m\u001b[31m┓\u001b[0m\u001b[31m┃\u001b[0m\u001b[31m┃\u001b[0m\u001b[31m┃\u001b[0m\u001b[31m┃\u001b[0m\u001b[31m┃\u001b[0m\u001b[31m┏\u001b[0m\u001b[31m┛\u001b[0m\u001b[31m┃\u001b[0m\u001b[31m┃\u001b[0m\u001b[31m┃\u001b[0m\u001b[31m┏\u001b[0m\u001b[31m┛\u001b[0m\u001b[31m┗\u001b[0m\u001b[31m┛\u001b[0m\u001b[31m┗\u001b[0m\u001b[31m┓\u001b[0m\u001b[31m┃\u001b[0m\u001b[31m┃\u001b[0m\u001b[31m┏\u001b[0m\u001b[31m┛\u001b[0m\u001b[31m┗\u001b[0m\u001b[31m┛\u001b[0m\u001b[31m┏\u001b[0m\u001b[31m┛\u001b[0moo\u001b[31m┃\u001b[0m\u001b[31m┗\u001b[0m\u001b[31m┓\u001b[0m\u001b[31m┏\u001b[0m\u001b[31m┓\u001b[0m\u001b[31m┗\u001b[0m\u001b[31m━\u001b[0m\u001b[31m━\u001b[0m\u001b[31m┛\u001b[0m\u001b[31m┗\u001b[0m\u001b[31m┛\u001b[0m\u001b[31m┃\u001b[0m\u001b[31m┃\u001b[0m\u001b[31m┃\u001b[0m\u001b[31m┃\u001b[0m\u001b[31m┗\u001b[0m\u001b[31m━\u001b[0m\u001b[31m━\u001b[0m\u001b[31m┓\u001b[0m\u001b[31m┗\u001b[0m\u001b[31m┛\u001b[0m\u001b[31m┏\u001b[0m\u001b[31m┛\u001b[0m\u001b[31m┏\u001b[0m\u001b[31m┓\u001b[0m\u001b[31m┏\u001b[0m\u001b[31m┛\u001b[0m\u001b[31m┗\u001b[0m\u001b[31m┛\u001b[0m\u001b[31m┃\u001b[0m\u001b[31m┏\u001b[0m\u001b[31m┛\u001b[0m\u001b[31m┃\u001b[0m\u001b[31m┏\u001b[0m\u001b[31m┓\u001b[0m\u001b[31m┗\u001b[0m\u001b[31m━\u001b[0m\u001b[31m┓\u001b[0m\u001b[31m┃\u001b[0m\u001b[31m┃\u001b[0m\u001b[31m┃\u001b[0m\u001b[31m┃\u001b[0m\u001b[31m┗\u001b[0m\u001b[31m━\u001b[0m\u001b[31m┓\u001b[0m\u001b[31m┏\u001b[0m\u001b[31m┛\u001b[0m\u001b[31m┃\u001b[0m\u001b[31m┃\u001b[0m\u001b[31m┗\u001b[0m\u001b[31m┓\u001b[0m\u001b[31m┃\u001b[0m\u001b[31m┃\u001b[0mo\u001b[31m┏\u001b[0m\u001b[31m━\u001b[0m\u001b[31m━\u001b[0m\u001b[31m━\u001b[0m\u001b[31m━\u001b[0m\u001b[31m┛\u001b[0m\u001b[31m┗\u001b[0m\u001b[31m┛\u001b[0m\u001b[31m┏\u001b[0m\u001b[31m┓\u001b[0m\u001b[31m┏\u001b[0m\u001b[31m┛\u001b[0mo\u001b[31m┗\u001b[0m\u001b[31m┛\u001b[0m\u001b[32mO\u001b[0m\u001b[32mO\u001b[0m\u001b[32mO\u001b[0m\u001b[32mO\u001b[0m\u001b[32mO\u001b[0m\u001b[32mO\u001b[0m\u001b[32mO\u001b[0m\u001b[32mO\u001b[0m\u001b[32mO\u001b[0m\u001b[32mO\u001b[0m\u001b[32mO\u001b[0m\u001b[32mO\u001b[0m\u001b[32mO\u001b[0m\n",
      "\u001b[32mO\u001b[0m\u001b[32mO\u001b[0m\u001b[32mO\u001b[0m\u001b[32mO\u001b[0m\u001b[32mO\u001b[0m\u001b[32mO\u001b[0m\u001b[32mO\u001b[0m\u001b[32mO\u001b[0m\u001b[32mO\u001b[0m\u001b[31m┗\u001b[0m\u001b[31m━\u001b[0m\u001b[31m┓\u001b[0m\u001b[31m┗\u001b[0m\u001b[31m┛\u001b[0m\u001b[31m┗\u001b[0m\u001b[31m━\u001b[0m\u001b[31m┓\u001b[0m\u001b[31m┗\u001b[0m\u001b[31m━\u001b[0m\u001b[31m━\u001b[0m\u001b[31m━\u001b[0m\u001b[31m┓\u001b[0m\u001b[31m┃\u001b[0m\u001b[31m┃\u001b[0m\u001b[31m┃\u001b[0mo\u001b[31m┏\u001b[0m\u001b[31m━\u001b[0m\u001b[31m┓\u001b[0m\u001b[31m┏\u001b[0m\u001b[31m┓\u001b[0m\u001b[31m┃\u001b[0m\u001b[31m┃\u001b[0m\u001b[31m┃\u001b[0m\u001b[31m┃\u001b[0m\u001b[31m┃\u001b[0m\u001b[31m┃\u001b[0m\u001b[31m┗\u001b[0m\u001b[31m┓\u001b[0m\u001b[31m┗\u001b[0m\u001b[31m┛\u001b[0m\u001b[31m┗\u001b[0m\u001b[31m┛\u001b[0m\u001b[31m┏\u001b[0m\u001b[31m┓\u001b[0m\u001b[31m┏\u001b[0m\u001b[31m┓\u001b[0m\u001b[31m┃\u001b[0m\u001b[31m┃\u001b[0m\u001b[31m┃\u001b[0m\u001b[31m┗\u001b[0m\u001b[31m━\u001b[0m\u001b[31m━\u001b[0m\u001b[31m┓\u001b[0m\u001b[31m┗\u001b[0m\u001b[31m┓\u001b[0mo\u001b[31m┏\u001b[0m\u001b[31m┛\u001b[0m\u001b[31m┏\u001b[0m\u001b[31m┛\u001b[0m\u001b[31m┃\u001b[0m\u001b[31m┃\u001b[0m\u001b[31m┏\u001b[0m\u001b[31m┓\u001b[0m\u001b[31m┏\u001b[0m\u001b[31m┓\u001b[0mo\u001b[31m┏\u001b[0m\u001b[31m┛\u001b[0m\u001b[31m┃\u001b[0m\u001b[31m┃\u001b[0m\u001b[31m┗\u001b[0m\u001b[31m┓\u001b[0m\u001b[31m┏\u001b[0m\u001b[31m━\u001b[0m\u001b[31m┛\u001b[0m\u001b[31m┏\u001b[0m\u001b[31m━\u001b[0m\u001b[31m┛\u001b[0m\u001b[31m┏\u001b[0m\u001b[31m┛\u001b[0m\u001b[31m┃\u001b[0m\u001b[31m┗\u001b[0m\u001b[31m━\u001b[0m\u001b[31m━\u001b[0m\u001b[31m┓\u001b[0m\u001b[31m┃\u001b[0m\u001b[31m┃\u001b[0m\u001b[31m┏\u001b[0m\u001b[31m┛\u001b[0m\u001b[31m┃\u001b[0m\u001b[31m┃\u001b[0m\u001b[31m┏\u001b[0m\u001b[31m┓\u001b[0m\u001b[31m┃\u001b[0m\u001b[31m┃\u001b[0m\u001b[31m┃\u001b[0m\u001b[31m┃\u001b[0m\u001b[31m┃\u001b[0m\u001b[31m┏\u001b[0m\u001b[31m━\u001b[0m\u001b[31m┛\u001b[0m\u001b[31m┃\u001b[0m\u001b[31m┏\u001b[0m\u001b[31m┛\u001b[0m\u001b[31m┗\u001b[0m\u001b[31m┓\u001b[0m\u001b[31m┃\u001b[0m\u001b[31m┃\u001b[0m\u001b[31m┗\u001b[0m\u001b[31m━\u001b[0m\u001b[31m┛\u001b[0m\u001b[31m┏\u001b[0m\u001b[31m━\u001b[0m\u001b[31m━\u001b[0m\u001b[31m━\u001b[0m\u001b[31m━\u001b[0m\u001b[31m━\u001b[0m\u001b[31m┓\u001b[0m\u001b[31m┃\u001b[0m\u001b[31m┗\u001b[0m\u001b[31m┛\u001b[0m\u001b[31m┏\u001b[0m\u001b[31m━\u001b[0m\u001b[31m┓\u001b[0m\u001b[32mO\u001b[0m\u001b[31m┏\u001b[0m\u001b[31m━\u001b[0m\u001b[31m┓\u001b[0m\u001b[32mO\u001b[0m\u001b[32mO\u001b[0m\u001b[32mO\u001b[0m\u001b[32mO\u001b[0m\u001b[32mO\u001b[0m\u001b[32mO\u001b[0m\u001b[32mO\u001b[0m\u001b[32mO\u001b[0m\u001b[32mO\u001b[0m\u001b[32mO\u001b[0m\n",
      "\u001b[32mO\u001b[0m\u001b[32mO\u001b[0m\u001b[32mO\u001b[0m\u001b[32mO\u001b[0m\u001b[32mO\u001b[0m\u001b[32mO\u001b[0m\u001b[32mO\u001b[0m\u001b[32mO\u001b[0m\u001b[32mO\u001b[0m\u001b[32mO\u001b[0m\u001b[32mO\u001b[0m\u001b[31m┗\u001b[0m\u001b[31m━\u001b[0m\u001b[31m┓\u001b[0m\u001b[31m┏\u001b[0m\u001b[31m┓\u001b[0m\u001b[31m┗\u001b[0m\u001b[31m┓\u001b[0m\u001b[31m┏\u001b[0m\u001b[31m━\u001b[0m\u001b[31m━\u001b[0m\u001b[31m┛\u001b[0m\u001b[31m┗\u001b[0m\u001b[31m┛\u001b[0m\u001b[31m┗\u001b[0m\u001b[31m┓\u001b[0m\u001b[31m┗\u001b[0m\u001b[31m┓\u001b[0m\u001b[31m┗\u001b[0m\u001b[31m┛\u001b[0m\u001b[31m┗\u001b[0m\u001b[31m┛\u001b[0m\u001b[31m┃\u001b[0m\u001b[31m┃\u001b[0m\u001b[31m┃\u001b[0m\u001b[31m┃\u001b[0m\u001b[31m┃\u001b[0mo\u001b[31m┃\u001b[0m\u001b[31m┏\u001b[0m\u001b[31m━\u001b[0m\u001b[31m━\u001b[0m\u001b[31m━\u001b[0m\u001b[31m┛\u001b[0m\u001b[31m┗\u001b[0m\u001b[31m┛\u001b[0m\u001b[31m┗\u001b[0m\u001b[31m┛\u001b[0m\u001b[31m┃\u001b[0m\u001b[31m┃\u001b[0m\u001b[31m┏\u001b[0m\u001b[31m┓\u001b[0mo\u001b[31m┗\u001b[0m\u001b[31m┓\u001b[0m\u001b[31m┗\u001b[0m\u001b[31m┓\u001b[0m\u001b[31m┗\u001b[0m\u001b[31m┓\u001b[0m\u001b[31m┗\u001b[0m\u001b[31m━\u001b[0m\u001b[31m┛\u001b[0m\u001b[31m┃\u001b[0m\u001b[31m┃\u001b[0m\u001b[31m┗\u001b[0m\u001b[31m┛\u001b[0m\u001b[31m┗\u001b[0m\u001b[31m┓\u001b[0m\u001b[31m┗\u001b[0m\u001b[31m┓\u001b[0m\u001b[31m┃\u001b[0m\u001b[31m┃\u001b[0m\u001b[31m┏\u001b[0m\u001b[31m┛\u001b[0m\u001b[31m┗\u001b[0m\u001b[31m━\u001b[0m\u001b[31m┓\u001b[0m\u001b[31m┃\u001b[0m\u001b[31m┏\u001b[0m\u001b[31m┓\u001b[0m\u001b[31m┃\u001b[0m\u001b[31m┏\u001b[0m\u001b[31m┛\u001b[0m\u001b[31m┏\u001b[0m\u001b[31m┓\u001b[0mo\u001b[31m┃\u001b[0m\u001b[31m┃\u001b[0m\u001b[31m┃\u001b[0m\u001b[31m┗\u001b[0m\u001b[31m┓\u001b[0m\u001b[31m┃\u001b[0m\u001b[31m┃\u001b[0m\u001b[31m┃\u001b[0m\u001b[31m┃\u001b[0m\u001b[31m┃\u001b[0m\u001b[31m┗\u001b[0m\u001b[31m┛\u001b[0m\u001b[31m┃\u001b[0m\u001b[31m┃\u001b[0m\u001b[31m┗\u001b[0m\u001b[31m┓\u001b[0mo\u001b[31m┃\u001b[0m\u001b[31m┃\u001b[0mo\u001b[31m┏\u001b[0m\u001b[31m┛\u001b[0m\u001b[31m┗\u001b[0m\u001b[31m┛\u001b[0m\u001b[31m┏\u001b[0m\u001b[31m━\u001b[0m\u001b[31m┓\u001b[0m\u001b[31m┗\u001b[0m\u001b[31m━\u001b[0m\u001b[31m━\u001b[0m\u001b[31m━\u001b[0m\u001b[31m┓\u001b[0mo\u001b[31m┗\u001b[0m\u001b[31m┛\u001b[0m\u001b[31m┏\u001b[0m\u001b[31m━\u001b[0m\u001b[31m┛\u001b[0m\u001b[31m┏\u001b[0m\u001b[31m┛\u001b[0m\u001b[32mO\u001b[0m\u001b[31m┃\u001b[0m\u001b[31m┏\u001b[0m\u001b[31m┛\u001b[0m\u001b[32mO\u001b[0m\u001b[32mO\u001b[0m\u001b[32mO\u001b[0m\u001b[32mO\u001b[0m\u001b[32mO\u001b[0m\u001b[32mO\u001b[0m\u001b[32mO\u001b[0m\u001b[32mO\u001b[0m\u001b[32mO\u001b[0m\u001b[32mO\u001b[0m\n",
      "\u001b[32mO\u001b[0m\u001b[32mO\u001b[0m\u001b[32mO\u001b[0m\u001b[32mO\u001b[0m\u001b[32mO\u001b[0m\u001b[32mO\u001b[0m\u001b[32mO\u001b[0m\u001b[32mO\u001b[0m\u001b[32mO\u001b[0m\u001b[32mO\u001b[0m\u001b[32mO\u001b[0m\u001b[31m┏\u001b[0m\u001b[31m┓\u001b[0m\u001b[31m┗\u001b[0m\u001b[31m┛\u001b[0m\u001b[31m┃\u001b[0m\u001b[31m┏\u001b[0m\u001b[31m┛\u001b[0m\u001b[31m┗\u001b[0m\u001b[31m━\u001b[0m\u001b[31m━\u001b[0m\u001b[31m━\u001b[0m\u001b[31m━\u001b[0m\u001b[31m┓\u001b[0m\u001b[31m┏\u001b[0m\u001b[31m┛\u001b[0mo\u001b[31m┗\u001b[0m\u001b[31m┓\u001b[0m\u001b[31m┏\u001b[0m\u001b[31m━\u001b[0m\u001b[31m┓\u001b[0m\u001b[31m┗\u001b[0m\u001b[31m┛\u001b[0m\u001b[31m┗\u001b[0m\u001b[31m┛\u001b[0m\u001b[31m┃\u001b[0m\u001b[31m┏\u001b[0m\u001b[31m┛\u001b[0m\u001b[31m┗\u001b[0m\u001b[31m━\u001b[0m\u001b[31m━\u001b[0m\u001b[31m━\u001b[0m\u001b[31m━\u001b[0m\u001b[31m┓\u001b[0m\u001b[31m┏\u001b[0m\u001b[31m┓\u001b[0mo\u001b[31m┃\u001b[0m\u001b[31m┃\u001b[0m\u001b[31m┃\u001b[0m\u001b[31m┃\u001b[0m\u001b[31m┏\u001b[0m\u001b[31m┓\u001b[0m\u001b[31m┃\u001b[0m\u001b[31m┏\u001b[0m\u001b[31m┛\u001b[0mo\u001b[31m┗\u001b[0m\u001b[31m━\u001b[0m\u001b[31m┓\u001b[0m\u001b[31m┏\u001b[0m\u001b[31m┛\u001b[0m\u001b[31m┗\u001b[0m\u001b[31m┓\u001b[0m\u001b[31m┏\u001b[0m\u001b[31m━\u001b[0m\u001b[31m┛\u001b[0m\u001b[31m┏\u001b[0m\u001b[31m┛\u001b[0m\u001b[31m┗\u001b[0m\u001b[31m┛\u001b[0m\u001b[31m┃\u001b[0m\u001b[31m┏\u001b[0m\u001b[31m┓\u001b[0mo\u001b[31m┃\u001b[0m\u001b[31m┃\u001b[0m\u001b[31m┃\u001b[0m\u001b[31m┃\u001b[0m\u001b[31m┃\u001b[0m\u001b[31m┃\u001b[0m\u001b[31m┏\u001b[0m\u001b[31m┛\u001b[0m\u001b[31m┗\u001b[0m\u001b[31m┓\u001b[0m\u001b[31m┃\u001b[0m\u001b[31m┃\u001b[0m\u001b[31m┗\u001b[0m\u001b[31m┓\u001b[0m\u001b[31m┃\u001b[0m\u001b[31m┃\u001b[0m\u001b[31m┗\u001b[0m\u001b[31m┛\u001b[0m\u001b[31m┃\u001b[0m\u001b[31m┗\u001b[0m\u001b[31m━\u001b[0m\u001b[31m┓\u001b[0m\u001b[31m┃\u001b[0m\u001b[31m┃\u001b[0m\u001b[31m┏\u001b[0m\u001b[31m┛\u001b[0m\u001b[31m┏\u001b[0m\u001b[31m┛\u001b[0m\u001b[31m┗\u001b[0m\u001b[31m━\u001b[0m\u001b[31m┛\u001b[0m\u001b[31m┏\u001b[0m\u001b[31m┓\u001b[0m\u001b[31m┏\u001b[0m\u001b[31m┛\u001b[0mo\u001b[31m┗\u001b[0m\u001b[31m━\u001b[0m\u001b[31m┓\u001b[0m\u001b[31m┏\u001b[0m\u001b[31m┓\u001b[0m\u001b[31m┗\u001b[0m\u001b[31m━\u001b[0m\u001b[31m━\u001b[0m\u001b[31m┓\u001b[0m\u001b[31m┃\u001b[0m\u001b[31m┏\u001b[0m\u001b[31m┓\u001b[0m\u001b[31m┃\u001b[0m\u001b[32mO\u001b[0m\u001b[31m┏\u001b[0m\u001b[31m┛\u001b[0m\u001b[31m┗\u001b[0m\u001b[31m┓\u001b[0m\u001b[32mO\u001b[0m\u001b[32mO\u001b[0m\u001b[32mO\u001b[0m\u001b[32mO\u001b[0m\u001b[32mO\u001b[0m\u001b[32mO\u001b[0m\u001b[32mO\u001b[0m\u001b[32mO\u001b[0m\u001b[32mO\u001b[0m\u001b[32mO\u001b[0m\n",
      "\u001b[32mO\u001b[0m\u001b[32mO\u001b[0m\u001b[32mO\u001b[0m\u001b[32mO\u001b[0m\u001b[32mO\u001b[0m\u001b[32mO\u001b[0m\u001b[32mO\u001b[0m\u001b[32mO\u001b[0m\u001b[32mO\u001b[0m\u001b[32mO\u001b[0m\u001b[32mO\u001b[0m\u001b[31m┃\u001b[0m\u001b[31m┗\u001b[0m\u001b[31m┓\u001b[0mo\u001b[31m┃\u001b[0m\u001b[31m┃\u001b[0mo\u001b[31m┏\u001b[0m\u001b[31m┓\u001b[0m\u001b[31m┏\u001b[0m\u001b[31m━\u001b[0m\u001b[31m━\u001b[0m\u001b[31m┛\u001b[0m\u001b[31m┗\u001b[0m\u001b[31m━\u001b[0m\u001b[31m━\u001b[0m\u001b[31m━\u001b[0m\u001b[31m┛\u001b[0m\u001b[31m┗\u001b[0m\u001b[31m┓\u001b[0m\u001b[31m┗\u001b[0m\u001b[31m━\u001b[0m\u001b[31m━\u001b[0m\u001b[31m━\u001b[0m\u001b[31m┓\u001b[0m\u001b[31m┃\u001b[0m\u001b[31m┗\u001b[0m\u001b[31m┓\u001b[0m\u001b[31m┏\u001b[0m\u001b[31m━\u001b[0m\u001b[31m━\u001b[0m\u001b[31m━\u001b[0m\u001b[31m━\u001b[0m\u001b[31m┛\u001b[0m\u001b[31m┃\u001b[0m\u001b[31m┃\u001b[0m\u001b[31m┏\u001b[0m\u001b[31m┛\u001b[0m\u001b[31m┃\u001b[0m\u001b[31m┃\u001b[0m\u001b[31m┃\u001b[0m\u001b[31m┃\u001b[0m\u001b[31m┗\u001b[0m\u001b[31m┛\u001b[0m\u001b[31m┃\u001b[0m\u001b[31m┏\u001b[0m\u001b[31m┓\u001b[0m\u001b[31m┏\u001b[0m\u001b[31m━\u001b[0m\u001b[31m┛\u001b[0m\u001b[31m┃\u001b[0m\u001b[31m┏\u001b[0m\u001b[31m┓\u001b[0m\u001b[31m┃\u001b[0m\u001b[31m┃\u001b[0m\u001b[31m┏\u001b[0m\u001b[31m┓\u001b[0m\u001b[31m┗\u001b[0m\u001b[31m━\u001b[0m\u001b[31m━\u001b[0m\u001b[31m┓\u001b[0m\u001b[31m┃\u001b[0m\u001b[31m┃\u001b[0m\u001b[31m┃\u001b[0m\u001b[31m┏\u001b[0m\u001b[31m┛\u001b[0m\u001b[31m┃\u001b[0m\u001b[31m┃\u001b[0m\u001b[31m┗\u001b[0m\u001b[31m┛\u001b[0m\u001b[31m┃\u001b[0m\u001b[31m┗\u001b[0m\u001b[31m┓\u001b[0m\u001b[31m┏\u001b[0m\u001b[31m┛\u001b[0m\u001b[31m┃\u001b[0m\u001b[31m┗\u001b[0m\u001b[31m┓\u001b[0m\u001b[31m┃\u001b[0m\u001b[31m┃\u001b[0m\u001b[31m┃\u001b[0m\u001b[31m┏\u001b[0m\u001b[31m━\u001b[0m\u001b[31m┛\u001b[0m\u001b[31m┏\u001b[0m\u001b[31m┓\u001b[0m\u001b[31m┃\u001b[0m\u001b[31m┗\u001b[0m\u001b[31m┛\u001b[0m\u001b[31m┗\u001b[0m\u001b[31m┓\u001b[0m\u001b[31m┗\u001b[0m\u001b[31m━\u001b[0m\u001b[31m┓\u001b[0m\u001b[31m┏\u001b[0m\u001b[31m━\u001b[0m\u001b[31m┛\u001b[0m\u001b[31m┃\u001b[0m\u001b[31m┗\u001b[0m\u001b[31m┓\u001b[0m\u001b[31m┏\u001b[0m\u001b[31m┓\u001b[0mo\u001b[31m┗\u001b[0m\u001b[31m┛\u001b[0m\u001b[31m┗\u001b[0m\u001b[31m━\u001b[0m\u001b[31m━\u001b[0m\u001b[31m━\u001b[0m\u001b[31m┛\u001b[0m\u001b[31m┃\u001b[0m\u001b[31m┃\u001b[0m\u001b[31m┗\u001b[0m\u001b[31m┛\u001b[0m\u001b[31m┏\u001b[0m\u001b[31m┛\u001b[0m\u001b[31m┏\u001b[0m\u001b[31m┓\u001b[0m\u001b[31m┗\u001b[0m\u001b[31m━\u001b[0m\u001b[31m┓\u001b[0m\u001b[32mO\u001b[0m\u001b[32mO\u001b[0m\u001b[32mO\u001b[0m\u001b[32mO\u001b[0m\u001b[32mO\u001b[0m\u001b[32mO\u001b[0m\u001b[32mO\u001b[0m\u001b[32mO\u001b[0m\n",
      "\u001b[32mO\u001b[0m\u001b[32mO\u001b[0m\u001b[32mO\u001b[0m\u001b[32mO\u001b[0m\u001b[32mO\u001b[0m\u001b[32mO\u001b[0m\u001b[32mO\u001b[0m\u001b[32mO\u001b[0m\u001b[32mO\u001b[0m\u001b[32mO\u001b[0m\u001b[32mO\u001b[0m\u001b[31m┗\u001b[0m\u001b[31m┓\u001b[0m\u001b[31m┗\u001b[0m\u001b[31m━\u001b[0m\u001b[31m┛\u001b[0m\u001b[31m┗\u001b[0m\u001b[31m┓\u001b[0m\u001b[31m┃\u001b[0m\u001b[31m┃\u001b[0m\u001b[31m┗\u001b[0m\u001b[31m━\u001b[0m\u001b[31m━\u001b[0m\u001b[31m━\u001b[0m\u001b[31m━\u001b[0m\u001b[31m━\u001b[0m\u001b[31m━\u001b[0m\u001b[31m━\u001b[0m\u001b[31m┓\u001b[0m\u001b[31m┏\u001b[0m\u001b[31m┛\u001b[0mo\u001b[31m┏\u001b[0m\u001b[31m━\u001b[0m\u001b[31m━\u001b[0m\u001b[31m┛\u001b[0m\u001b[31m┃\u001b[0mo\u001b[31m┃\u001b[0m\u001b[31m┃\u001b[0m\u001b[31m┏\u001b[0m\u001b[31m┓\u001b[0mo\u001b[31m┏\u001b[0m\u001b[31m┓\u001b[0m\u001b[31m┃\u001b[0m\u001b[31m┃\u001b[0m\u001b[31m┃\u001b[0m\u001b[31m┏\u001b[0m\u001b[31m┛\u001b[0m\u001b[31m┃\u001b[0m\u001b[31m┃\u001b[0m\u001b[31m┗\u001b[0m\u001b[31m━\u001b[0m\u001b[31m┓\u001b[0m\u001b[31m┃\u001b[0m\u001b[31m┃\u001b[0m\u001b[31m┃\u001b[0m\u001b[31m┗\u001b[0m\u001b[31m┓\u001b[0m\u001b[31m┏\u001b[0m\u001b[31m┛\u001b[0m\u001b[31m┃\u001b[0m\u001b[31m┃\u001b[0m\u001b[31m┃\u001b[0m\u001b[31m┃\u001b[0m\u001b[31m┃\u001b[0m\u001b[31m┃\u001b[0m\u001b[31m┏\u001b[0m\u001b[31m┓\u001b[0mo\u001b[31m┃\u001b[0m\u001b[31m┃\u001b[0m\u001b[31m┃\u001b[0m\u001b[31m┃\u001b[0m\u001b[31m┃\u001b[0m\u001b[31m┏\u001b[0m\u001b[31m┛\u001b[0m\u001b[31m┗\u001b[0m\u001b[31m━\u001b[0m\u001b[31m┓\u001b[0m\u001b[31m┃\u001b[0mo\u001b[31m┃\u001b[0m\u001b[31m┃\u001b[0mo\u001b[31m┃\u001b[0m\u001b[31m┏\u001b[0m\u001b[31m┛\u001b[0m\u001b[31m┃\u001b[0m\u001b[31m┃\u001b[0m\u001b[31m┃\u001b[0m\u001b[31m┃\u001b[0m\u001b[31m┏\u001b[0m\u001b[31m┓\u001b[0m\u001b[31m┃\u001b[0m\u001b[31m┃\u001b[0m\u001b[31m┗\u001b[0m\u001b[31m┓\u001b[0m\u001b[31m┏\u001b[0m\u001b[31m━\u001b[0m\u001b[31m┛\u001b[0m\u001b[31m┏\u001b[0m\u001b[31m┓\u001b[0m\u001b[31m┃\u001b[0m\u001b[31m┃\u001b[0m\u001b[31m┏\u001b[0m\u001b[31m┓\u001b[0m\u001b[31m┗\u001b[0m\u001b[31m━\u001b[0m\u001b[31m┛\u001b[0m\u001b[31m┃\u001b[0m\u001b[31m┗\u001b[0m\u001b[31m┓\u001b[0mo\u001b[31m┏\u001b[0m\u001b[31m━\u001b[0m\u001b[31m━\u001b[0m\u001b[31m┓\u001b[0mo\u001b[31m┏\u001b[0m\u001b[31m┛\u001b[0m\u001b[31m┗\u001b[0m\u001b[31m┓\u001b[0m\u001b[31m┏\u001b[0m\u001b[31m┛\u001b[0m\u001b[31m┏\u001b[0m\u001b[31m┛\u001b[0m\u001b[31m┗\u001b[0m\u001b[31m┓\u001b[0m\u001b[31m┏\u001b[0m\u001b[31m┛\u001b[0m\u001b[32mO\u001b[0m\u001b[32mO\u001b[0m\u001b[32mO\u001b[0m\u001b[32mO\u001b[0m\u001b[32mO\u001b[0m\u001b[32mO\u001b[0m\u001b[32mO\u001b[0m\u001b[32mO\u001b[0m\n",
      "\u001b[32mO\u001b[0m\u001b[32mO\u001b[0m\u001b[32mO\u001b[0m\u001b[32mO\u001b[0m\u001b[32mO\u001b[0m\u001b[32mO\u001b[0m\u001b[32mO\u001b[0m\u001b[32mO\u001b[0m\u001b[32mO\u001b[0m\u001b[32mO\u001b[0m\u001b[32mO\u001b[0m\u001b[32mO\u001b[0m\u001b[31m┗\u001b[0m\u001b[31m━\u001b[0m\u001b[31m━\u001b[0m\u001b[31m━\u001b[0m\u001b[31m┓\u001b[0m\u001b[31m┃\u001b[0m\u001b[31m┃\u001b[0m\u001b[31m┗\u001b[0m\u001b[31m━\u001b[0m\u001b[31m┓\u001b[0m\u001b[31m┏\u001b[0m\u001b[31m━\u001b[0m\u001b[31m━\u001b[0m\u001b[31m┓\u001b[0m\u001b[31m┏\u001b[0m\u001b[31m━\u001b[0m\u001b[31m┛\u001b[0m\u001b[31m┃\u001b[0m\u001b[31m┏\u001b[0m\u001b[31m━\u001b[0m\u001b[31m┛\u001b[0m\u001b[31m┏\u001b[0m\u001b[31m━\u001b[0m\u001b[31m┓\u001b[0m\u001b[31m┗\u001b[0m\u001b[31m┓\u001b[0m\u001b[31m┃\u001b[0m\u001b[31m┃\u001b[0m\u001b[31m┃\u001b[0m\u001b[31m┃\u001b[0m\u001b[31m┏\u001b[0m\u001b[31m┛\u001b[0m\u001b[31m┗\u001b[0m\u001b[31m┛\u001b[0m\u001b[31m┃\u001b[0m\u001b[31m┃\u001b[0m\u001b[31m┗\u001b[0m\u001b[31m┓\u001b[0m\u001b[31m┃\u001b[0m\u001b[31m┗\u001b[0m\u001b[31m┓\u001b[0m\u001b[31m┏\u001b[0m\u001b[31m┛\u001b[0m\u001b[31m┃\u001b[0m\u001b[31m┃\u001b[0m\u001b[31m┃\u001b[0m\u001b[31m┏\u001b[0m\u001b[31m┛\u001b[0m\u001b[31m┃\u001b[0m\u001b[31m┏\u001b[0m\u001b[31m┛\u001b[0m\u001b[31m┃\u001b[0m\u001b[31m┃\u001b[0m\u001b[31m┃\u001b[0m\u001b[31m┃\u001b[0m\u001b[31m┃\u001b[0m\u001b[31m┃\u001b[0m\u001b[31m┗\u001b[0m\u001b[31m┓\u001b[0m\u001b[31m┃\u001b[0m\u001b[31m┗\u001b[0m\u001b[31m┛\u001b[0m\u001b[31m┃\u001b[0m\u001b[31m┃\u001b[0m\u001b[31m┗\u001b[0m\u001b[31m┓\u001b[0m\u001b[31m┏\u001b[0m\u001b[31m┓\u001b[0m\u001b[31m┃\u001b[0m\u001b[31m┗\u001b[0m\u001b[31m┓\u001b[0m\u001b[31m┃\u001b[0m\u001b[31m┃\u001b[0m\u001b[31m┏\u001b[0m\u001b[31m┛\u001b[0m\u001b[31m┗\u001b[0m\u001b[31m┓\u001b[0m\u001b[31m┃\u001b[0m\u001b[31m┃\u001b[0m\u001b[31m┃\u001b[0m\u001b[31m┗\u001b[0m\u001b[31m┛\u001b[0m\u001b[31m┃\u001b[0m\u001b[31m┃\u001b[0m\u001b[31m┃\u001b[0m\u001b[31m┏\u001b[0m\u001b[31m┛\u001b[0m\u001b[31m┗\u001b[0m\u001b[31m┓\u001b[0m\u001b[31m┏\u001b[0m\u001b[31m┛\u001b[0m\u001b[31m┃\u001b[0m\u001b[31m┃\u001b[0m\u001b[31m┃\u001b[0m\u001b[31m┃\u001b[0m\u001b[31m┃\u001b[0m\u001b[31m┏\u001b[0m\u001b[31m┓\u001b[0mo\u001b[31m┗\u001b[0m\u001b[31m┓\u001b[0m\u001b[31m┗\u001b[0m\u001b[31m━\u001b[0m\u001b[31m┛\u001b[0m\u001b[31m┏\u001b[0m\u001b[31m┓\u001b[0m\u001b[31m┗\u001b[0m\u001b[31m┓\u001b[0m\u001b[31m┃\u001b[0m\u001b[31m┏\u001b[0m\u001b[31m━\u001b[0m\u001b[31m┛\u001b[0m\u001b[31m┗\u001b[0m\u001b[31m┓\u001b[0m\u001b[31m┗\u001b[0m\u001b[31m━\u001b[0m\u001b[31m┓\u001b[0m\u001b[31m┗\u001b[0m\u001b[31m┛\u001b[0m\u001b[32mO\u001b[0m\u001b[32mO\u001b[0m\u001b[32mO\u001b[0m\u001b[32mO\u001b[0m\u001b[32mO\u001b[0m\u001b[32mO\u001b[0m\u001b[32mO\u001b[0m\u001b[32mO\u001b[0m\u001b[32mO\u001b[0m\n",
      "\u001b[32mO\u001b[0m\u001b[32mO\u001b[0m\u001b[32mO\u001b[0m\u001b[32mO\u001b[0m\u001b[32mO\u001b[0m\u001b[32mO\u001b[0m\u001b[32mO\u001b[0m\u001b[32mO\u001b[0m\u001b[31m┏\u001b[0m\u001b[31m━\u001b[0m\u001b[31m┓\u001b[0m\u001b[31m┏\u001b[0m\u001b[31m━\u001b[0m\u001b[31m━\u001b[0m\u001b[31m━\u001b[0m\u001b[31m━\u001b[0m\u001b[31m┛\u001b[0m\u001b[31m┃\u001b[0m\u001b[31m┗\u001b[0m\u001b[31m━\u001b[0m\u001b[31m┓\u001b[0m\u001b[31m┃\u001b[0m\u001b[31m┗\u001b[0m\u001b[31m━\u001b[0m\u001b[31m┓\u001b[0m\u001b[31m┃\u001b[0m\u001b[31m┗\u001b[0m\u001b[31m━\u001b[0m\u001b[31m┓\u001b[0m\u001b[31m┃\u001b[0m\u001b[31m┗\u001b[0m\u001b[31m━\u001b[0m\u001b[31m━\u001b[0m\u001b[31m┛\u001b[0mo\u001b[31m┗\u001b[0m\u001b[31m┓\u001b[0m\u001b[31m┃\u001b[0m\u001b[31m┃\u001b[0m\u001b[31m┃\u001b[0m\u001b[31m┃\u001b[0m\u001b[31m┃\u001b[0m\u001b[31m┃\u001b[0m\u001b[31m┏\u001b[0m\u001b[31m━\u001b[0m\u001b[31m━\u001b[0m\u001b[31m┛\u001b[0m\u001b[31m┃\u001b[0m|\u001b[31m┗\u001b[0m\u001b[31m┛\u001b[0m-\u001b[31m┃\u001b[0m\u001b[31m┗\u001b[0m\u001b[31m┓\u001b[0m\u001b[31m┃\u001b[0m\u001b[31m┃\u001b[0m\u001b[31m┃\u001b[0m\u001b[31m┃\u001b[0m\u001b[31m┏\u001b[0m\u001b[31m┛\u001b[0m\u001b[31m┗\u001b[0m\u001b[31m┓\u001b[0m\u001b[31m┃\u001b[0m\u001b[31m┃\u001b[0m\u001b[31m┃\u001b[0m\u001b[31m┃\u001b[0m\u001b[31m┃\u001b[0m\u001b[31m┃\u001b[0m\u001b[31m┏\u001b[0m\u001b[31m┛\u001b[0m\u001b[31m┗\u001b[0m\u001b[31m━\u001b[0m\u001b[31m┓\u001b[0m\u001b[31m┃\u001b[0m\u001b[31m┗\u001b[0m\u001b[31m┓\u001b[0m\u001b[31m┗\u001b[0m\u001b[31m┛\u001b[0m\u001b[31m┃\u001b[0m\u001b[31m┃\u001b[0m\u001b[31m┏\u001b[0m\u001b[31m┛\u001b[0m\u001b[31m┃\u001b[0m\u001b[31m┗\u001b[0m\u001b[31m┛\u001b[0m\u001b[31m┏\u001b[0m\u001b[31m━\u001b[0m\u001b[31m┛\u001b[0m\u001b[31m┃\u001b[0m\u001b[31m┃\u001b[0m\u001b[31m┗\u001b[0m\u001b[31m┓\u001b[0m\u001b[31m┏\u001b[0m\u001b[31m┛\u001b[0m\u001b[31m┃\u001b[0m\u001b[31m┃\u001b[0m\u001b[31m┃\u001b[0m\u001b[31m┏\u001b[0m\u001b[31m┓\u001b[0m\u001b[31m┃\u001b[0m\u001b[31m┃\u001b[0mJ\u001b[31m┗\u001b[0m\u001b[31m┛\u001b[0m\u001b[31m┗\u001b[0m\u001b[31m┛\u001b[0m\u001b[31m┗\u001b[0m\u001b[31m┛\u001b[0m\u001b[31m┗\u001b[0m\u001b[31m┓\u001b[0mo\u001b[31m┃\u001b[0m\u001b[31m┏\u001b[0m\u001b[31m━\u001b[0m\u001b[31m━\u001b[0m\u001b[31m┛\u001b[0m\u001b[31m┗\u001b[0m\u001b[31m━\u001b[0m\u001b[31m┛\u001b[0m\u001b[31m┃\u001b[0m\u001b[31m┃\u001b[0mo\u001b[31m┏\u001b[0m\u001b[31m━\u001b[0m\u001b[31m┛\u001b[0m\u001b[31m┏\u001b[0m\u001b[31m┓\u001b[0m\u001b[31m┗\u001b[0m\u001b[31m┓\u001b[0m\u001b[32mO\u001b[0m\u001b[32mO\u001b[0m\u001b[32mO\u001b[0m\u001b[32mO\u001b[0m\u001b[32mO\u001b[0m\u001b[32mO\u001b[0m\u001b[32mO\u001b[0m\u001b[32mO\u001b[0m\u001b[32mO\u001b[0m\u001b[32mO\u001b[0m\n",
      "\u001b[32mO\u001b[0m\u001b[32mO\u001b[0m\u001b[32mO\u001b[0m\u001b[32mO\u001b[0m\u001b[32mO\u001b[0m\u001b[32mO\u001b[0m\u001b[32mO\u001b[0m\u001b[32mO\u001b[0m\u001b[31m┗\u001b[0m\u001b[31m┓\u001b[0m\u001b[31m┗\u001b[0m\u001b[31m┛\u001b[0m\u001b[31m┏\u001b[0m\u001b[31m━\u001b[0m\u001b[31m━\u001b[0m\u001b[31m━\u001b[0m\u001b[31m┓\u001b[0m\u001b[31m┗\u001b[0m\u001b[31m┓\u001b[0m\u001b[31m┏\u001b[0m\u001b[31m┛\u001b[0m\u001b[31m┗\u001b[0m\u001b[31m━\u001b[0m\u001b[31m━\u001b[0m\u001b[31m┛\u001b[0m\u001b[31m┃\u001b[0m\u001b[31m┏\u001b[0m\u001b[31m┓\u001b[0m\u001b[31m┗\u001b[0m\u001b[31m┛\u001b[0m\u001b[31m┏\u001b[0m\u001b[31m┓\u001b[0m\u001b[31m┏\u001b[0m\u001b[31m━\u001b[0m\u001b[31m━\u001b[0m\u001b[31m━\u001b[0m\u001b[31m┛\u001b[0m\u001b[31m┃\u001b[0m\u001b[31m┃\u001b[0m\u001b[31m┃\u001b[0m\u001b[31m┃\u001b[0m\u001b[31m┗\u001b[0m\u001b[31m┛\u001b[0m\u001b[31m┃\u001b[0m\u001b[31m┏\u001b[0m\u001b[31m━\u001b[0m\u001b[31m┓\u001b[0m\u001b[31m┗\u001b[0m\u001b[31m┓\u001b[0m\u001b[31m┏\u001b[0m\u001b[31m━\u001b[0m\u001b[31m━\u001b[0m\u001b[31m┛\u001b[0m\u001b[31m┏\u001b[0m\u001b[31m┛\u001b[0m\u001b[31m┗\u001b[0m\u001b[31m┛\u001b[0m\u001b[31m┗\u001b[0m\u001b[31m┛\u001b[0m\u001b[31m┗\u001b[0m\u001b[31m┓\u001b[0m\u001b[31m┏\u001b[0m\u001b[31m┛\u001b[0m\u001b[31m┃\u001b[0m\u001b[31m┃\u001b[0m\u001b[31m┃\u001b[0m\u001b[31m┃\u001b[0m\u001b[31m┃\u001b[0m\u001b[31m┃\u001b[0m\u001b[31m┗\u001b[0m\u001b[31m┓\u001b[0m\u001b[31m┏\u001b[0m\u001b[31m┓\u001b[0m\u001b[31m┃\u001b[0m\u001b[31m┃\u001b[0m\u001b[31m┏\u001b[0m\u001b[31m┛\u001b[0m\u001b[31m┏\u001b[0m\u001b[31m━\u001b[0m\u001b[31m┛\u001b[0m\u001b[31m┃\u001b[0m\u001b[31m┗\u001b[0m\u001b[31m┓\u001b[0m\u001b[31m┗\u001b[0m\u001b[31m━\u001b[0m\u001b[31m┓\u001b[0m\u001b[31m┗\u001b[0m\u001b[31m━\u001b[0m\u001b[31m┓\u001b[0m\u001b[31m┃\u001b[0m\u001b[31m┗\u001b[0m\u001b[31m┓\u001b[0m\u001b[31m┃\u001b[0m\u001b[31m┗\u001b[0m\u001b[31m━\u001b[0m\u001b[31m┛\u001b[0m\u001b[31m┃\u001b[0m\u001b[31m┃\u001b[0m\u001b[31m┃\u001b[0m\u001b[31m┗\u001b[0m\u001b[31m┛\u001b[0m\u001b[31m┃\u001b[0m\u001b[31m┏\u001b[0m\u001b[31m━\u001b[0m\u001b[31m┓\u001b[0m\u001b[31m┏\u001b[0m\u001b[31m━\u001b[0m\u001b[31m━\u001b[0m\u001b[31m━\u001b[0m\u001b[31m━\u001b[0m\u001b[31m┛\u001b[0m\u001b[31m┏\u001b[0m\u001b[31m┛\u001b[0m\u001b[31m┗\u001b[0m\u001b[31m━\u001b[0m\u001b[31m━\u001b[0m\u001b[31m━\u001b[0m\u001b[31m━\u001b[0m\u001b[31m┓\u001b[0mo\u001b[31m┃\u001b[0m\u001b[31m┗\u001b[0m\u001b[31m━\u001b[0m\u001b[31m┛\u001b[0m\u001b[31m┏\u001b[0m\u001b[31m┓\u001b[0m\u001b[31m┃\u001b[0m\u001b[31m┗\u001b[0m\u001b[31m━\u001b[0m\u001b[31m┛\u001b[0m\u001b[32mO\u001b[0m\u001b[32mO\u001b[0m\u001b[32mO\u001b[0m\u001b[32mO\u001b[0m\u001b[32mO\u001b[0m\u001b[32mO\u001b[0m\u001b[32mO\u001b[0m\u001b[32mO\u001b[0m\u001b[32mO\u001b[0m\u001b[32mO\u001b[0m\n",
      "\u001b[32mO\u001b[0m\u001b[32mO\u001b[0m\u001b[32mO\u001b[0m\u001b[32mO\u001b[0m\u001b[32mO\u001b[0m\u001b[32mO\u001b[0m\u001b[32mO\u001b[0m\u001b[32mO\u001b[0m\u001b[32mO\u001b[0m\u001b[31m┗\u001b[0m\u001b[31m━\u001b[0m\u001b[31m┓\u001b[0m\u001b[31m┃\u001b[0m\u001b[31m┏\u001b[0m\u001b[31m━\u001b[0m\u001b[31m━\u001b[0m\u001b[31m┛\u001b[0m\u001b[31m┏\u001b[0m\u001b[31m┛\u001b[0m\u001b[31m┗\u001b[0m\u001b[31m━\u001b[0m\u001b[31m━\u001b[0m\u001b[31m━\u001b[0m\u001b[31m━\u001b[0m\u001b[31m┓\u001b[0m\u001b[31m┃\u001b[0m\u001b[31m┃\u001b[0m\u001b[31m┃\u001b[0m\u001b[31m┏\u001b[0m\u001b[31m┓\u001b[0m\u001b[31m┃\u001b[0m\u001b[31m┃\u001b[0m\u001b[31m┗\u001b[0m\u001b[31m━\u001b[0m\u001b[31m━\u001b[0m\u001b[31m━\u001b[0m\u001b[31m┓\u001b[0m\u001b[31m┃\u001b[0m\u001b[31m┃\u001b[0m\u001b[31m┃\u001b[0m\u001b[31m┗\u001b[0m\u001b[31m━\u001b[0m\u001b[31m┓\u001b[0m\u001b[31m┗\u001b[0m\u001b[31m┛\u001b[0mL\u001b[31m┗\u001b[0m\u001b[31m┓\u001b[0m\u001b[31m┃\u001b[0m\u001b[31m┗\u001b[0m\u001b[31m┓\u001b[0m\u001b[31m┏\u001b[0m\u001b[31m┓\u001b[0m\u001b[31m┗\u001b[0m\u001b[31m━\u001b[0m\u001b[31m━\u001b[0m\u001b[31m━\u001b[0m\u001b[31m━\u001b[0m\u001b[31m┓\u001b[0m\u001b[31m┏\u001b[0m\u001b[31m┛\u001b[0m\u001b[31m┗\u001b[0m\u001b[31m┓\u001b[0m\u001b[31m┃\u001b[0m\u001b[31m┃\u001b[0m\u001b[31m┃\u001b[0m\u001b[31m┃\u001b[0m\u001b[31m┃\u001b[0m\u001b[31m┃\u001b[0m\u001b[31m┏\u001b[0m\u001b[31m┛\u001b[0m\u001b[31m┃\u001b[0m\u001b[31m┃\u001b[0m\u001b[31m┃\u001b[0m\u001b[31m┃\u001b[0m\u001b[31m┃\u001b[0mF\u001b[31m┗\u001b[0m\u001b[31m━\u001b[0m\u001b[31m┓\u001b[0m\u001b[31m┃\u001b[0m\u001b[31m┏\u001b[0m\u001b[31m┛\u001b[0m\u001b[31m┏\u001b[0m\u001b[31m━\u001b[0m\u001b[31m┛\u001b[0m\u001b[31m┏\u001b[0m\u001b[31m━\u001b[0m\u001b[31m┛\u001b[0m\u001b[31m┃\u001b[0m\u001b[31m┏\u001b[0m\u001b[31m┛\u001b[0m\u001b[31m┗\u001b[0m\u001b[31m━\u001b[0m\u001b[31m┓\u001b[0m\u001b[31m┏\u001b[0m\u001b[31m┛\u001b[0m\u001b[31m┃\u001b[0m\u001b[31m┃\u001b[0m\u001b[31m┏\u001b[0m\u001b[31m┓\u001b[0m\u001b[31m┃\u001b[0m\u001b[31m┗\u001b[0m\u001b[31m┓\u001b[0m\u001b[31m┗\u001b[0m\u001b[31m┛\u001b[0m\u001b[31m┏\u001b[0m\u001b[31m┓\u001b[0m\u001b[31m┏\u001b[0m\u001b[31m┓\u001b[0mo\u001b[31m┃\u001b[0m\u001b[31m┏\u001b[0m\u001b[31m━\u001b[0m\u001b[31m━\u001b[0m\u001b[31m━\u001b[0m\u001b[31m━\u001b[0m\u001b[31m━\u001b[0m\u001b[31m┛\u001b[0m\u001b[31m┏\u001b[0m\u001b[31m┛\u001b[0m\u001b[31m┏\u001b[0m\u001b[31m━\u001b[0m\u001b[31m┓\u001b[0m\u001b[31m┃\u001b[0m\u001b[31m┃\u001b[0m\u001b[31m┗\u001b[0m\u001b[31m┓\u001b[0m\u001b[31m┏\u001b[0m\u001b[31m┓\u001b[0m\u001b[31m┏\u001b[0m\u001b[31m┓\u001b[0m\u001b[32mO\u001b[0m\u001b[32mO\u001b[0m\u001b[32mO\u001b[0m\u001b[32mO\u001b[0m\u001b[32mO\u001b[0m\u001b[32mO\u001b[0m\u001b[32mO\u001b[0m\u001b[32mO\u001b[0m\n",
      "\u001b[32mO\u001b[0m\u001b[32mO\u001b[0m\u001b[32mO\u001b[0m\u001b[32mO\u001b[0m\u001b[32mO\u001b[0m\u001b[32mO\u001b[0m\u001b[32mO\u001b[0m\u001b[32mO\u001b[0m\u001b[32mO\u001b[0m\u001b[32mO\u001b[0m\u001b[32mO\u001b[0m\u001b[31m┗\u001b[0m\u001b[31m┛\u001b[0m\u001b[31m┗\u001b[0m\u001b[31m━\u001b[0m\u001b[31m━\u001b[0m\u001b[31m┓\u001b[0m\u001b[31m┗\u001b[0m\u001b[31m┓\u001b[0mo\u001b[31m┏\u001b[0m\u001b[31m━\u001b[0m\u001b[31m━\u001b[0m\u001b[31m━\u001b[0m\u001b[31m┛\u001b[0m\u001b[31m┗\u001b[0m\u001b[31m┛\u001b[0m\u001b[31m┗\u001b[0m\u001b[31m┛\u001b[0m\u001b[31m┗\u001b[0m\u001b[31m┛\u001b[0m\u001b[31m┗\u001b[0m\u001b[31m━\u001b[0m\u001b[31m━\u001b[0m\u001b[31m━\u001b[0m\u001b[31m━\u001b[0m\u001b[31m┛\u001b[0m\u001b[31m┗\u001b[0m\u001b[31m┛\u001b[0m\u001b[31m┃\u001b[0m\u001b[31m┏\u001b[0m\u001b[31m━\u001b[0m\u001b[31m┛\u001b[0m7\u001b[31m┏\u001b[0m\u001b[31m━\u001b[0m\u001b[31m━\u001b[0m\u001b[31m┛\u001b[0m\u001b[31m┗\u001b[0m\u001b[31m┓\u001b[0m\u001b[31m┃\u001b[0m\u001b[31m┃\u001b[0m\u001b[31m┗\u001b[0m\u001b[31m┓\u001b[0m\u001b[31m┏\u001b[0m\u001b[31m━\u001b[0m\u001b[31m┓\u001b[0m\u001b[31m┏\u001b[0m\u001b[31m┛\u001b[0m\u001b[31m┗\u001b[0m\u001b[31m┓\u001b[0m\u001b[31m┏\u001b[0m\u001b[31m┛\u001b[0m\u001b[31m┗\u001b[0m\u001b[31m┛\u001b[0m\u001b[31m┃\u001b[0m\u001b[31m┃\u001b[0m\u001b[31m┗\u001b[0m\u001b[31m┛\u001b[0m\u001b[31m┗\u001b[0m\u001b[31m┓\u001b[0m\u001b[31m┃\u001b[0m\u001b[31m┃\u001b[0m\u001b[31m┃\u001b[0m\u001b[31m┃\u001b[0m\u001b[31m┗\u001b[0m\u001b[31m━\u001b[0m\u001b[31m━\u001b[0m\u001b[31m┓\u001b[0m\u001b[31m┗\u001b[0m\u001b[31m┛\u001b[0m\u001b[31m┗\u001b[0m\u001b[31m┓\u001b[0m\u001b[31m┗\u001b[0m\u001b[31m┓\u001b[0m\u001b[31m┏\u001b[0m\u001b[31m┛\u001b[0m\u001b[31m┏\u001b[0m\u001b[31m┓\u001b[0m\u001b[31m┃\u001b[0m\u001b[31m┃\u001b[0m\u001b[31m┏\u001b[0m\u001b[31m┓\u001b[0m\u001b[31m┏\u001b[0m\u001b[31m┛\u001b[0m\u001b[31m┃\u001b[0m\u001b[31m┏\u001b[0m\u001b[31m┛\u001b[0m\u001b[31m┗\u001b[0m\u001b[31m┛\u001b[0m\u001b[31m┗\u001b[0m\u001b[31m┛\u001b[0m\u001b[31m┏\u001b[0m\u001b[31m┛\u001b[0m\u001b[31m┏\u001b[0m\u001b[31m┓\u001b[0m\u001b[31m┃\u001b[0m\u001b[31m┗\u001b[0m\u001b[31m┛\u001b[0m\u001b[31m┗\u001b[0m\u001b[31m━\u001b[0m\u001b[31m┛\u001b[0m\u001b[31m┗\u001b[0m\u001b[31m━\u001b[0m\u001b[31m━\u001b[0m\u001b[31m━\u001b[0m\u001b[31m━\u001b[0m\u001b[31m━\u001b[0m\u001b[31m┓\u001b[0m\u001b[31m┃\u001b[0m\u001b[31m┏\u001b[0m\u001b[31m┛\u001b[0mo\u001b[31m┗\u001b[0m\u001b[31m┛\u001b[0m\u001b[31m┗\u001b[0m\u001b[31m┓\u001b[0m\u001b[31m┃\u001b[0m\u001b[31m┃\u001b[0m\u001b[31m┗\u001b[0m\u001b[31m┛\u001b[0m\u001b[31m┗\u001b[0m\u001b[31m┓\u001b[0m\u001b[32mO\u001b[0m\u001b[32mO\u001b[0m\u001b[32mO\u001b[0m\u001b[32mO\u001b[0m\u001b[32mO\u001b[0m\u001b[32mO\u001b[0m\u001b[32mO\u001b[0m\n",
      "\u001b[32mO\u001b[0m\u001b[32mO\u001b[0m\u001b[32mO\u001b[0m\u001b[32mO\u001b[0m\u001b[32mO\u001b[0m\u001b[32mO\u001b[0m\u001b[32mO\u001b[0m\u001b[32mO\u001b[0m\u001b[32mO\u001b[0m\u001b[32mO\u001b[0m\u001b[32mO\u001b[0m\u001b[31m┏\u001b[0m\u001b[31m┓\u001b[0mo\u001b[31m┏\u001b[0m\u001b[31m┓\u001b[0m\u001b[31m┗\u001b[0m\u001b[31m┓\u001b[0m\u001b[31m┗\u001b[0m\u001b[31m┓\u001b[0m\u001b[31m┗\u001b[0m\u001b[31m━\u001b[0m\u001b[31m━\u001b[0m\u001b[31m┓\u001b[0m\u001b[31m┏\u001b[0m\u001b[31m┓\u001b[0m\u001b[31m┏\u001b[0m\u001b[31m━\u001b[0m\u001b[31m┓\u001b[0m\u001b[31m┏\u001b[0m\u001b[31m━\u001b[0m\u001b[31m━\u001b[0m\u001b[31m━\u001b[0m\u001b[31m━\u001b[0m\u001b[31m━\u001b[0m\u001b[31m━\u001b[0m\u001b[31m━\u001b[0m\u001b[31m━\u001b[0m\u001b[31m┓\u001b[0m\u001b[31m┃\u001b[0m\u001b[31m┗\u001b[0m\u001b[31m━\u001b[0m\u001b[31m━\u001b[0m\u001b[31m┓\u001b[0m\u001b[31m┗\u001b[0m\u001b[31m━\u001b[0m\u001b[31m━\u001b[0m\u001b[31m┓\u001b[0m\u001b[31m┏\u001b[0m\u001b[31m┛\u001b[0m\u001b[31m┃\u001b[0m\u001b[31m┃\u001b[0m\u001b[31m┏\u001b[0m\u001b[31m┛\u001b[0m\u001b[31m┗\u001b[0m\u001b[31m┓\u001b[0m\u001b[31m┃\u001b[0m\u001b[31m┗\u001b[0m\u001b[31m┓\u001b[0m\u001b[31m┏\u001b[0m\u001b[31m┛\u001b[0m\u001b[31m┃\u001b[0m.F\u001b[31m┏\u001b[0m\u001b[31m┛\u001b[0m\u001b[31m┃\u001b[0m\u001b[31m┏\u001b[0m\u001b[31m┓\u001b[0m\u001b[31m┏\u001b[0m\u001b[31m┛\u001b[0m\u001b[31m┃\u001b[0m\u001b[31m┃\u001b[0m\u001b[31m┃\u001b[0m\u001b[31m┗\u001b[0m\u001b[31m┓\u001b[0m\u001b[31m┏\u001b[0m\u001b[31m━\u001b[0m\u001b[31m┛\u001b[0m\u001b[31m┏\u001b[0m\u001b[31m━\u001b[0m\u001b[31m━\u001b[0m\u001b[31m┛\u001b[0m\u001b[31m┏\u001b[0m\u001b[31m┛\u001b[0m\u001b[31m┃\u001b[0m\u001b[31m┏\u001b[0m\u001b[31m┛\u001b[0m\u001b[31m┃\u001b[0m\u001b[31m┃\u001b[0m\u001b[31m┃\u001b[0m\u001b[31m┃\u001b[0m\u001b[31m┃\u001b[0m\u001b[31m┃\u001b[0mL\u001b[31m┃\u001b[0m\u001b[31m┗\u001b[0m\u001b[31m━\u001b[0m\u001b[31m┓\u001b[0m\u001b[31m┏\u001b[0m\u001b[31m━\u001b[0m\u001b[31m━\u001b[0m\u001b[31m┛\u001b[0m\u001b[31m┏\u001b[0m\u001b[31m┛\u001b[0m\u001b[31m┗\u001b[0m\u001b[31m┛\u001b[0m\u001b[31m┏\u001b[0m\u001b[31m┓\u001b[0m\u001b[31m┏\u001b[0m\u001b[31m━\u001b[0m\u001b[31m┓\u001b[0m\u001b[31m┏\u001b[0m\u001b[31m━\u001b[0m\u001b[31m━\u001b[0m\u001b[31m━\u001b[0m\u001b[31m━\u001b[0m\u001b[31m━\u001b[0m\u001b[31m┛\u001b[0m\u001b[31m┃\u001b[0m\u001b[31m┃\u001b[0m\u001b[31m┏\u001b[0m\u001b[31m┓\u001b[0m\u001b[31m┏\u001b[0m\u001b[31m━\u001b[0m\u001b[31m┓\u001b[0m\u001b[31m┗\u001b[0m\u001b[31m┛\u001b[0m\u001b[31m┃\u001b[0m\u001b[31m┏\u001b[0m\u001b[31m━\u001b[0m\u001b[31m━\u001b[0m\u001b[31m┛\u001b[0m\u001b[32mO\u001b[0m\u001b[32mO\u001b[0m\u001b[32mO\u001b[0m\u001b[32mO\u001b[0m\u001b[32mO\u001b[0m\u001b[32mO\u001b[0m\u001b[32mO\u001b[0m\n",
      "\u001b[32mO\u001b[0m\u001b[32mO\u001b[0m\u001b[32mO\u001b[0m\u001b[32mO\u001b[0m\u001b[32mO\u001b[0m\u001b[32mO\u001b[0m\u001b[32mO\u001b[0m\u001b[32mO\u001b[0m\u001b[32mO\u001b[0m\u001b[32mO\u001b[0m\u001b[32mO\u001b[0m\u001b[31m┃\u001b[0m\u001b[31m┃\u001b[0m\u001b[31m┏\u001b[0m\u001b[31m┛\u001b[0m\u001b[31m┗\u001b[0m\u001b[31m┓\u001b[0m\u001b[31m┗\u001b[0m\u001b[31m┓\u001b[0m\u001b[31m┗\u001b[0m\u001b[31m┓\u001b[0m\u001b[31m┏\u001b[0m\u001b[31m┓\u001b[0m\u001b[31m┗\u001b[0m\u001b[31m┛\u001b[0m\u001b[31m┗\u001b[0m\u001b[31m┛\u001b[0mo\u001b[31m┗\u001b[0m\u001b[31m┛\u001b[0mo\u001b[31m┏\u001b[0m\u001b[31m━\u001b[0m\u001b[31m━\u001b[0m\u001b[31m┓\u001b[0m\u001b[31m┏\u001b[0m\u001b[31m━\u001b[0m\u001b[31m━\u001b[0m\u001b[31m┛\u001b[0m\u001b[31m┃\u001b[0m\u001b[31m┏\u001b[0m\u001b[31m┓\u001b[0m\u001b[31m┏\u001b[0m\u001b[31m┛\u001b[0m\u001b[31m┏\u001b[0m\u001b[31m━\u001b[0m\u001b[31m━\u001b[0m\u001b[31m┛\u001b[0m\u001b[31m┗\u001b[0m\u001b[31m┓\u001b[0m\u001b[31m┃\u001b[0m\u001b[31m┃\u001b[0m\u001b[31m┗\u001b[0m\u001b[31m┓\u001b[0m\u001b[31m┏\u001b[0m\u001b[31m┛\u001b[0m\u001b[31m┗\u001b[0m\u001b[31m━\u001b[0m\u001b[31m┛\u001b[0m\u001b[31m┗\u001b[0m\u001b[31m┓\u001b[0m\u001b[31m┗\u001b[0m\u001b[31m┓\u001b[0m\u001b[31m┏\u001b[0m\u001b[31m┛\u001b[0m\u001b[31m┏\u001b[0m\u001b[31m┛\u001b[0m\u001b[31m┃\u001b[0m\u001b[31m┗\u001b[0m\u001b[31m┛\u001b[0m\u001b[31m┏\u001b[0m\u001b[31m┛\u001b[0m\u001b[31m┃\u001b[0m\u001b[31m┃\u001b[0m\u001b[31m┏\u001b[0m\u001b[31m┛\u001b[0m\u001b[31m┗\u001b[0m\u001b[31m┓\u001b[0m.\u001b[31m┗\u001b[0m\u001b[31m━\u001b[0m\u001b[31m━\u001b[0m\u001b[31m┓\u001b[0m\u001b[31m┃\u001b[0m\u001b[31m┏\u001b[0m\u001b[31m┛\u001b[0m\u001b[31m┗\u001b[0m\u001b[31m┓\u001b[0m\u001b[31m┃\u001b[0m\u001b[31m┃\u001b[0m\u001b[31m┃\u001b[0m\u001b[31m┃\u001b[0m\u001b[31m┃\u001b[0m\u001b[31m┗\u001b[0m\u001b[31m┓\u001b[0m\u001b[31m┗\u001b[0m\u001b[31m━\u001b[0m\u001b[31m━\u001b[0m\u001b[31m┛\u001b[0m\u001b[31m┗\u001b[0m\u001b[31m━\u001b[0m\u001b[31m━\u001b[0m\u001b[31m━\u001b[0m\u001b[31m┛\u001b[0mJ\u001b[31m┏\u001b[0m\u001b[31m┓\u001b[0m\u001b[31m┃\u001b[0m\u001b[31m┗\u001b[0m\u001b[31m┛\u001b[0mo\u001b[31m┃\u001b[0m\u001b[31m┗\u001b[0m\u001b[31m┓\u001b[0m\u001b[31m┏\u001b[0m\u001b[31m━\u001b[0m\u001b[31m━\u001b[0m\u001b[31m┓\u001b[0m\u001b[31m┏\u001b[0m\u001b[31m┛\u001b[0m\u001b[31m┃\u001b[0m\u001b[31m┃\u001b[0m\u001b[31m┗\u001b[0m\u001b[31m┛\u001b[0m\u001b[31m┏\u001b[0m\u001b[31m┛\u001b[0mo\u001b[31m┏\u001b[0m\u001b[31m┛\u001b[0m\u001b[31m┃\u001b[0m\u001b[32mO\u001b[0m\u001b[32mO\u001b[0m\u001b[32mO\u001b[0m\u001b[32mO\u001b[0m\u001b[32mO\u001b[0m\u001b[32mO\u001b[0m\u001b[32mO\u001b[0m\u001b[32mO\u001b[0m\u001b[32mO\u001b[0m\u001b[32mO\u001b[0m\n",
      "\u001b[32mO\u001b[0m\u001b[32mO\u001b[0m\u001b[32mO\u001b[0m\u001b[32mO\u001b[0m\u001b[32mO\u001b[0m\u001b[32mO\u001b[0m\u001b[32mO\u001b[0m\u001b[32mO\u001b[0m\u001b[32mO\u001b[0m\u001b[32mO\u001b[0m\u001b[32mO\u001b[0m\u001b[31m┃\u001b[0m\u001b[31m┃\u001b[0m\u001b[31m┗\u001b[0m\u001b[31m━\u001b[0m\u001b[31m┓\u001b[0m\u001b[31m┗\u001b[0m\u001b[31m┓\u001b[0m\u001b[31m┗\u001b[0m\u001b[31m┓\u001b[0m\u001b[31m┃\u001b[0m\u001b[31m┃\u001b[0m\u001b[31m┃\u001b[0mo\u001b[31m┏\u001b[0m\u001b[31m━\u001b[0m\u001b[31m━\u001b[0m\u001b[31m┓\u001b[0mo\u001b[31m┏\u001b[0m\u001b[31m┓\u001b[0m\u001b[31m┗\u001b[0m\u001b[31m━\u001b[0m\u001b[31m┓\u001b[0m\u001b[31m┗\u001b[0m\u001b[31m┛\u001b[0mJ\u001b[31m┏\u001b[0m\u001b[31m┓\u001b[0m\u001b[31m┃\u001b[0m\u001b[31m┃\u001b[0m\u001b[31m┗\u001b[0m\u001b[31m┛\u001b[0m.\u001b[31m┗\u001b[0m\u001b[31m━\u001b[0m\u001b[31m┓\u001b[0m\u001b[31m┏\u001b[0m\u001b[31m┓\u001b[0m\u001b[31m┃\u001b[0m\u001b[31m┗\u001b[0m\u001b[31m┛\u001b[0m\u001b[31m┏\u001b[0m\u001b[31m┛\u001b[0m\u001b[31m┗\u001b[0m\u001b[31m━\u001b[0m\u001b[31m┓\u001b[0m\u001b[31m┏\u001b[0m\u001b[31m━\u001b[0m\u001b[31m━\u001b[0m\u001b[31m┛\u001b[0m\u001b[31m┏\u001b[0m\u001b[31m┛\u001b[0m\u001b[31m┃\u001b[0m\u001b[31m┏\u001b[0m\u001b[31m┛\u001b[0mL\u001b[31m┗\u001b[0m\u001b[31m━\u001b[0m\u001b[31m┓\u001b[0m\u001b[31m┗\u001b[0m\u001b[31m┓\u001b[0m\u001b[31m┃\u001b[0m\u001b[31m┃\u001b[0m\u001b[31m┗\u001b[0m\u001b[31m┓\u001b[0m\u001b[31m┏\u001b[0m\u001b[31m┛\u001b[0m\u001b[31m┏\u001b[0m\u001b[31m━\u001b[0m\u001b[31m━\u001b[0m\u001b[31m┓\u001b[0m\u001b[31m┃\u001b[0m\u001b[31m┃\u001b[0m\u001b[31m┃\u001b[0m\u001b[31m┏\u001b[0m\u001b[31m┓\u001b[0m\u001b[31m┃\u001b[0m\u001b[31m┃\u001b[0m\u001b[31m┃\u001b[0m\u001b[31m┃\u001b[0m\u001b[31m┃\u001b[0m\u001b[31m┗\u001b[0m\u001b[31m┓\u001b[0m\u001b[31m┗\u001b[0m\u001b[31m┓\u001b[0m\u001b[31m┏\u001b[0m\u001b[31m━\u001b[0m\u001b[31m━\u001b[0m\u001b[31m━\u001b[0m\u001b[31m━\u001b[0m\u001b[31m━\u001b[0m\u001b[31m━\u001b[0m\u001b[31m┓\u001b[0m\u001b[31m┏\u001b[0m\u001b[31m┛\u001b[0m\u001b[31m┗\u001b[0m\u001b[31m┛\u001b[0mo\u001b[31m┏\u001b[0m\u001b[31m┓\u001b[0m\u001b[31m┗\u001b[0m\u001b[31m━\u001b[0m\u001b[31m┛\u001b[0m\u001b[31m┃\u001b[0m\u001b[31m┏\u001b[0m\u001b[31m┓\u001b[0m\u001b[31m┃\u001b[0m\u001b[31m┗\u001b[0m\u001b[31m┓\u001b[0m\u001b[31m┃\u001b[0m\u001b[31m┃\u001b[0m\u001b[31m┏\u001b[0m\u001b[31m━\u001b[0m\u001b[31m┛\u001b[0m\u001b[31m┏\u001b[0m\u001b[31m┓\u001b[0m\u001b[31m┃\u001b[0m\u001b[31m┏\u001b[0m\u001b[31m┛\u001b[0m\u001b[32mO\u001b[0m\u001b[32mO\u001b[0m\u001b[32mO\u001b[0m\u001b[32mO\u001b[0m\u001b[31m┏\u001b[0m\u001b[31m┓\u001b[0m\u001b[32mO\u001b[0m\u001b[32mO\u001b[0m\u001b[32mO\u001b[0m\u001b[32mO\u001b[0m\n",
      "\u001b[32mO\u001b[0m\u001b[32mO\u001b[0m\u001b[32mO\u001b[0m\u001b[32mO\u001b[0m\u001b[32mO\u001b[0m\u001b[32mO\u001b[0m\u001b[32mO\u001b[0m\u001b[32mO\u001b[0m\u001b[32mO\u001b[0m\u001b[31m┏\u001b[0m\u001b[31m━\u001b[0m\u001b[31m┛\u001b[0m\u001b[31m┗\u001b[0m\u001b[31m━\u001b[0m\u001b[31m┓\u001b[0m\u001b[31m┗\u001b[0m\u001b[31m┓\u001b[0m\u001b[31m┃\u001b[0m\u001b[31m┏\u001b[0m\u001b[31m┛\u001b[0m\u001b[31m┗\u001b[0m\u001b[31m┛\u001b[0m\u001b[31m┗\u001b[0m\u001b[31m━\u001b[0m\u001b[31m┛\u001b[0m\u001b[31m┏\u001b[0m\u001b[31m┓\u001b[0m\u001b[31m┗\u001b[0m\u001b[31m━\u001b[0m\u001b[31m┛\u001b[0m\u001b[31m┗\u001b[0m\u001b[31m━\u001b[0m\u001b[31m┓\u001b[0m\u001b[31m┗\u001b[0m\u001b[31m━\u001b[0m\u001b[31m━\u001b[0m\u001b[31m┓\u001b[0m\u001b[31m┃\u001b[0m\u001b[31m┃\u001b[0m\u001b[31m┃\u001b[0m\u001b[31m┗\u001b[0m\u001b[31m┓\u001b[0m\u001b[31m┏\u001b[0m\u001b[31m━\u001b[0m\u001b[31m┓\u001b[0m|\u001b[31m┗\u001b[0m\u001b[31m┛\u001b[0m\u001b[31m┃\u001b[0m\u001b[31m┗\u001b[0m\u001b[31m┓\u001b[0m\u001b[31m┏\u001b[0m\u001b[31m┛\u001b[0m\u001b[31m┏\u001b[0m\u001b[31m━\u001b[0m\u001b[31m┓\u001b[0m\u001b[31m┃\u001b[0m\u001b[31m┗\u001b[0m\u001b[31m━\u001b[0m\u001b[31m━\u001b[0m\u001b[31m┓\u001b[0m\u001b[31m┗\u001b[0m\u001b[31m┓\u001b[0m\u001b[31m┃\u001b[0m\u001b[31m┃\u001b[0mF\u001b[31m┏\u001b[0m\u001b[31m━\u001b[0m\u001b[31m━\u001b[0m\u001b[31m┛\u001b[0m\u001b[31m┏\u001b[0m\u001b[31m┛\u001b[0m\u001b[31m┗\u001b[0m\u001b[31m┛\u001b[0m\u001b[31m┏\u001b[0m\u001b[31m┛\u001b[0m\u001b[31m┗\u001b[0m\u001b[31m━\u001b[0m\u001b[31m┛\u001b[0m\u001b[31m┏\u001b[0m\u001b[31m━\u001b[0m\u001b[31m┛\u001b[0m\u001b[31m┃\u001b[0m\u001b[31m┃\u001b[0m\u001b[31m┗\u001b[0m\u001b[31m┛\u001b[0m\u001b[31m┃\u001b[0m\u001b[31m┃\u001b[0m\u001b[31m┃\u001b[0m\u001b[31m┃\u001b[0m\u001b[31m┗\u001b[0m\u001b[31m┛\u001b[0m\u001b[31m┏\u001b[0m\u001b[31m┛\u001b[0m\u001b[31m┏\u001b[0m\u001b[31m┛\u001b[0m\u001b[31m┗\u001b[0m\u001b[31m━\u001b[0m\u001b[31m━\u001b[0m\u001b[31m━\u001b[0m\u001b[31m━\u001b[0m\u001b[31m┓\u001b[0m\u001b[31m┏\u001b[0m\u001b[31m┛\u001b[0m\u001b[31m┗\u001b[0m\u001b[31m━\u001b[0m\u001b[31m━\u001b[0m\u001b[31m━\u001b[0m\u001b[31m━\u001b[0m\u001b[31m┛\u001b[0m\u001b[31m┗\u001b[0m\u001b[31m━\u001b[0m\u001b[31m┓\u001b[0m\u001b[31m┏\u001b[0m\u001b[31m┛\u001b[0m\u001b[31m┃\u001b[0m\u001b[31m┃\u001b[0m\u001b[31m┃\u001b[0m\u001b[31m┏\u001b[0m\u001b[31m┛\u001b[0m\u001b[31m┗\u001b[0m\u001b[31m┛\u001b[0m\u001b[31m┗\u001b[0m\u001b[31m┓\u001b[0mo\u001b[31m┃\u001b[0m\u001b[31m┃\u001b[0m\u001b[31m┃\u001b[0m\u001b[31m┗\u001b[0m\u001b[31m━\u001b[0m\u001b[31m┓\u001b[0m\u001b[31m┏\u001b[0m\u001b[31m━\u001b[0m\u001b[31m━\u001b[0m\u001b[31m┛\u001b[0m\u001b[31m┃\u001b[0m\u001b[32mO\u001b[0m\u001b[32mO\u001b[0m\u001b[32mO\u001b[0m\u001b[32mO\u001b[0m\n",
      "\u001b[32mO\u001b[0m\u001b[32mO\u001b[0m\u001b[32mO\u001b[0m\u001b[32mO\u001b[0m\u001b[32mO\u001b[0m\u001b[32mO\u001b[0m\u001b[32mO\u001b[0m\u001b[32mO\u001b[0m\u001b[32mO\u001b[0m\u001b[31m┗\u001b[0m\u001b[31m━\u001b[0m\u001b[31m━\u001b[0m\u001b[31m━\u001b[0m\u001b[31m┓\u001b[0m\u001b[31m┗\u001b[0m\u001b[31m━\u001b[0m\u001b[31m┛\u001b[0m\u001b[31m┃\u001b[0m\u001b[31m┗\u001b[0m\u001b[31m━\u001b[0m\u001b[31m┓\u001b[0m\u001b[31m┏\u001b[0m\u001b[31m┓\u001b[0m\u001b[31m┏\u001b[0m\u001b[31m━\u001b[0m\u001b[31m┛\u001b[0m\u001b[31m┗\u001b[0m\u001b[31m━\u001b[0m\u001b[31m┓\u001b[0m\u001b[31m┏\u001b[0m\u001b[31m━\u001b[0m\u001b[31m┓\u001b[0m\u001b[31m┗\u001b[0m\u001b[31m━\u001b[0m\u001b[31m┓\u001b[0m\u001b[31m┏\u001b[0m\u001b[31m┛\u001b[0m\u001b[31m┃\u001b[0m\u001b[31m┃\u001b[0m\u001b[31m┗\u001b[0m\u001b[31m━\u001b[0m\u001b[31m┛\u001b[0m\u001b[31m┗\u001b[0m\u001b[31m┓\u001b[0m\u001b[31m┗\u001b[0m\u001b[31m━\u001b[0m\u001b[31m┓\u001b[0mL\u001b[31m┗\u001b[0m\u001b[31m┓\u001b[0m\u001b[31m┃\u001b[0m\u001b[31m┗\u001b[0m\u001b[31m┓\u001b[0m\u001b[31m┃\u001b[0m\u001b[31m┏\u001b[0m\u001b[31m┛\u001b[0m\u001b[31m┗\u001b[0m\u001b[31m┓\u001b[0m.\u001b[31m┏\u001b[0m\u001b[31m┛\u001b[0m\u001b[31m┏\u001b[0m\u001b[31m┛\u001b[0m\u001b[31m┃\u001b[0m\u001b[31m┃\u001b[0m\u001b[31m┏\u001b[0m\u001b[31m┛\u001b[0m\u001b[31m┏\u001b[0m\u001b[31m━\u001b[0m\u001b[31m┓\u001b[0m\u001b[31m┗\u001b[0m\u001b[31m┓\u001b[0m-\u001b[31m┏\u001b[0m\u001b[31m┛\u001b[0m\u001b[31m┏\u001b[0m\u001b[31m┓\u001b[0m\u001b[31m┏\u001b[0m\u001b[31m┓\u001b[0m\u001b[31m┗\u001b[0m\u001b[31m━\u001b[0m\u001b[31m┓\u001b[0m\u001b[31m┃\u001b[0m\u001b[31m┗\u001b[0m\u001b[31m┓\u001b[0m-\u001b[31m┃\u001b[0m\u001b[31m┃\u001b[0m\u001b[31m┃\u001b[0m\u001b[31m┃\u001b[0m\u001b[31m┏\u001b[0m\u001b[31m━\u001b[0m\u001b[31m┛\u001b[0m\u001b[31m┏\u001b[0m\u001b[31m┛\u001b[0m\u001b[31m┏\u001b[0m\u001b[31m━\u001b[0m\u001b[31m┓\u001b[0m\u001b[31m┏\u001b[0m\u001b[31m┓\u001b[0m\u001b[31m┏\u001b[0m\u001b[31m┛\u001b[0m\u001b[31m┗\u001b[0m\u001b[31m━\u001b[0m\u001b[31m┓\u001b[0m\u001b[31m┏\u001b[0m\u001b[31m━\u001b[0m\u001b[31m━\u001b[0m\u001b[31m━\u001b[0m\u001b[31m━\u001b[0m\u001b[31m━\u001b[0m\u001b[31m━\u001b[0m\u001b[31m┛\u001b[0m\u001b[31m┗\u001b[0m\u001b[31m┓\u001b[0m\u001b[31m┃\u001b[0m\u001b[31m┗\u001b[0m\u001b[31m┛\u001b[0m\u001b[31m┃\u001b[0m\u001b[31m┏\u001b[0m\u001b[31m━\u001b[0m\u001b[31m━\u001b[0m\u001b[31m┓\u001b[0m\u001b[31m┗\u001b[0m\u001b[31m┓\u001b[0m\u001b[31m┃\u001b[0m\u001b[31m┗\u001b[0m\u001b[31m┛\u001b[0m\u001b[31m┏\u001b[0m\u001b[31m┓\u001b[0m\u001b[31m┗\u001b[0m\u001b[31m┛\u001b[0m\u001b[31m┏\u001b[0m\u001b[31m━\u001b[0m\u001b[31m━\u001b[0m\u001b[31m┛\u001b[0m\u001b[32mO\u001b[0m\u001b[32mO\u001b[0m\u001b[32mO\u001b[0m\u001b[32mO\u001b[0m\n",
      "\u001b[32mO\u001b[0m\u001b[32mO\u001b[0m\u001b[32mO\u001b[0m\u001b[32mO\u001b[0m\u001b[32mO\u001b[0m\u001b[31m┏\u001b[0m\u001b[31m┓\u001b[0m\u001b[32mO\u001b[0m\u001b[32mO\u001b[0m\u001b[31m┏\u001b[0m\u001b[31m┓\u001b[0m\u001b[31m┏\u001b[0m\u001b[31m━\u001b[0m\u001b[31m┛\u001b[0m\u001b[31m┏\u001b[0m\u001b[31m━\u001b[0m\u001b[31m┓\u001b[0m\u001b[31m┗\u001b[0m\u001b[31m━\u001b[0m\u001b[31m━\u001b[0m\u001b[31m┛\u001b[0m\u001b[31m┃\u001b[0m\u001b[31m┃\u001b[0m\u001b[31m┃\u001b[0m\u001b[31m┏\u001b[0m\u001b[31m━\u001b[0m\u001b[31m━\u001b[0m\u001b[31m━\u001b[0m\u001b[31m┛\u001b[0m\u001b[31m┗\u001b[0m\u001b[31m┓\u001b[0m\u001b[31m┗\u001b[0m\u001b[31m━\u001b[0m\u001b[31m┓\u001b[0m\u001b[31m┃\u001b[0m\u001b[31m┗\u001b[0m\u001b[31m━\u001b[0m\u001b[31m┛\u001b[0m\u001b[31m┗\u001b[0m\u001b[31m━\u001b[0m\u001b[31m┓\u001b[0m\u001b[31m┏\u001b[0m\u001b[31m┓\u001b[0m\u001b[31m┃\u001b[0m\u001b[31m┏\u001b[0m\u001b[31m━\u001b[0m\u001b[31m┛\u001b[0m\u001b[31m┏\u001b[0m\u001b[31m┓\u001b[0m\u001b[31m┗\u001b[0m\u001b[31m┛\u001b[0m\u001b[31m┏\u001b[0m\u001b[31m┛\u001b[0m\u001b[31m┃\u001b[0m\u001b[31m┃\u001b[0m\u001b[31m┏\u001b[0m\u001b[31m┓\u001b[0m\u001b[31m┗\u001b[0m\u001b[31m┓\u001b[0m\u001b[31m┗\u001b[0m\u001b[31m━\u001b[0m\u001b[31m┛\u001b[0mL\u001b[31m┗\u001b[0m\u001b[31m┛\u001b[0m\u001b[31m┃\u001b[0m\u001b[31m┏\u001b[0m\u001b[31m┛\u001b[0m\u001b[31m┏\u001b[0m\u001b[31m┛\u001b[0m\u001b[31m┏\u001b[0m\u001b[31m┛\u001b[0m\u001b[31m┏\u001b[0m\u001b[31m┛\u001b[0m\u001b[31m┏\u001b[0m\u001b[31m┛\u001b[0m\u001b[31m┃\u001b[0m\u001b[31m┃\u001b[0m\u001b[31m┗\u001b[0m\u001b[31m┓\u001b[0m\u001b[31m┏\u001b[0m\u001b[31m┛\u001b[0m\u001b[31m┃\u001b[0m\u001b[31m┏\u001b[0m\u001b[31m┛\u001b[0m\u001b[31m┏\u001b[0m\u001b[31m┛\u001b[0m\u001b[31m┃\u001b[0m\u001b[31m┗\u001b[0m\u001b[31m┛\u001b[0m\u001b[31m┗\u001b[0m\u001b[31m┓\u001b[0m\u001b[31m┏\u001b[0m\u001b[31m┛\u001b[0m7\u001b[31m┗\u001b[0m\u001b[31m┓\u001b[0m\u001b[31m┗\u001b[0m\u001b[31m┛\u001b[0m\u001b[31m┗\u001b[0m\u001b[31m┛\u001b[0m\u001b[31m┏\u001b[0m\u001b[31m━\u001b[0m\u001b[31m┓\u001b[0m\u001b[31m┗\u001b[0m\u001b[31m┛\u001b[0m\u001b[31m┏\u001b[0m\u001b[31m┓\u001b[0m\u001b[31m┏\u001b[0m\u001b[31m┓\u001b[0m\u001b[31m┏\u001b[0m\u001b[31m┓\u001b[0m\u001b[31m┏\u001b[0m\u001b[31m┓\u001b[0m\u001b[31m┃\u001b[0m\u001b[31m┗\u001b[0m\u001b[31m━\u001b[0m\u001b[31m━\u001b[0m\u001b[31m┛\u001b[0m\u001b[31m┗\u001b[0m\u001b[31m━\u001b[0m\u001b[31m┓\u001b[0m\u001b[31m┗\u001b[0m\u001b[31m━\u001b[0m\u001b[31m┛\u001b[0m\u001b[31m┃\u001b[0m\u001b[31m┏\u001b[0m\u001b[31m━\u001b[0m\u001b[31m┛\u001b[0m\u001b[31m┗\u001b[0m\u001b[31m┓\u001b[0m\u001b[31m┏\u001b[0m\u001b[31m┛\u001b[0m\u001b[32mO\u001b[0m\u001b[32mO\u001b[0m\u001b[32mO\u001b[0m\u001b[32mO\u001b[0m\u001b[32mO\u001b[0m\u001b[32mO\u001b[0m\u001b[32mO\u001b[0m\n",
      "\u001b[32mO\u001b[0m\u001b[32mO\u001b[0m\u001b[32mO\u001b[0m\u001b[32mO\u001b[0m\u001b[32mO\u001b[0m\u001b[31m┃\u001b[0m\u001b[31m┗\u001b[0m\u001b[31m━\u001b[0m\u001b[31m━\u001b[0m\u001b[31m┛\u001b[0m\u001b[31m┃\u001b[0m\u001b[31m┗\u001b[0m\u001b[31m━\u001b[0m\u001b[31m┓\u001b[0m\u001b[31m┃\u001b[0mo\u001b[31m┗\u001b[0m\u001b[31m┓\u001b[0m\u001b[31m┏\u001b[0m\u001b[31m┓\u001b[0m\u001b[31m┏\u001b[0m\u001b[31m┛\u001b[0m\u001b[31m┗\u001b[0m\u001b[31m┛\u001b[0m\u001b[31m┗\u001b[0m\u001b[31m┓\u001b[0m\u001b[31m┏\u001b[0m\u001b[31m┓\u001b[0m\u001b[31m┏\u001b[0m\u001b[31m━\u001b[0m\u001b[31m┛\u001b[0m\u001b[31m┏\u001b[0m\u001b[31m━\u001b[0m\u001b[31m┛\u001b[0m\u001b[31m┗\u001b[0m\u001b[31m━\u001b[0m\u001b[31m━\u001b[0m\u001b[31m┓\u001b[0m\u001b[31m┏\u001b[0m\u001b[31m━\u001b[0m\u001b[31m┛\u001b[0m\u001b[31m┃\u001b[0m\u001b[31m┗\u001b[0m\u001b[31m┛\u001b[0m\u001b[31m┗\u001b[0m\u001b[31m┓\u001b[0m\u001b[31m┏\u001b[0m\u001b[31m┛\u001b[0m\u001b[31m┗\u001b[0m\u001b[31m━\u001b[0m\u001b[31m┓\u001b[0m\u001b[31m┗\u001b[0m\u001b[31m━\u001b[0m\u001b[31m┛\u001b[0m\u001b[31m┃\u001b[0m\u001b[31m┃\u001b[0m\u001b[31m┗\u001b[0m\u001b[31m┓\u001b[0m\u001b[31m┗\u001b[0m\u001b[31m┓\u001b[0m\u001b[31m┏\u001b[0m\u001b[31m┓\u001b[0m|\u001b[31m┏\u001b[0m\u001b[31m━\u001b[0m\u001b[31m┛\u001b[0m\u001b[31m┃\u001b[0m\u001b[31m┏\u001b[0m\u001b[31m┛\u001b[0m\u001b[31m┏\u001b[0m\u001b[31m┛\u001b[0m7\u001b[31m┗\u001b[0m\u001b[31m┓\u001b[0m\u001b[31m┗\u001b[0m\u001b[31m┓\u001b[0m\u001b[31m┃\u001b[0m\u001b[31m┃\u001b[0m\u001b[31m┏\u001b[0m\u001b[31m┛\u001b[0m\u001b[31m┗\u001b[0m\u001b[31m┓\u001b[0m\u001b[31m┃\u001b[0m\u001b[31m┗\u001b[0m\u001b[31m┓\u001b[0m\u001b[31m┗\u001b[0m\u001b[31m┓\u001b[0m\u001b[31m┃\u001b[0m\u001b[31m┏\u001b[0m\u001b[31m┓\u001b[0m\u001b[31m┏\u001b[0m\u001b[31m┛\u001b[0m\u001b[31m┗\u001b[0m\u001b[31m━\u001b[0m\u001b[31m━\u001b[0m\u001b[31m┓\u001b[0m\u001b[31m┗\u001b[0m\u001b[31m━\u001b[0m\u001b[31m━\u001b[0m\u001b[31m┓\u001b[0m\u001b[31m┏\u001b[0m\u001b[31m┛\u001b[0m-\u001b[31m┗\u001b[0m\u001b[31m━\u001b[0m\u001b[31m━\u001b[0m\u001b[31m┛\u001b[0m\u001b[31m┗\u001b[0m\u001b[31m┛\u001b[0m\u001b[31m┗\u001b[0m\u001b[31m┛\u001b[0m\u001b[31m┃\u001b[0m\u001b[31m┃\u001b[0m\u001b[31m┗\u001b[0m\u001b[31m┛\u001b[0m\u001b[31m┏\u001b[0m\u001b[31m┓\u001b[0m\u001b[31m┏\u001b[0m\u001b[31m┓\u001b[0m\u001b[31m┏\u001b[0m\u001b[31m┓\u001b[0m\u001b[31m┗\u001b[0m\u001b[31m━\u001b[0m\u001b[31m┓\u001b[0mo\u001b[31m┃\u001b[0m\u001b[31m┗\u001b[0m\u001b[31m━\u001b[0m\u001b[31m━\u001b[0m\u001b[31m┓\u001b[0m\u001b[31m┗\u001b[0m\u001b[31m┛\u001b[0m\u001b[32mO\u001b[0m\u001b[32mO\u001b[0m\u001b[32mO\u001b[0m\u001b[32mO\u001b[0m\u001b[32mO\u001b[0m\u001b[32mO\u001b[0m\u001b[32mO\u001b[0m\u001b[32mO\u001b[0m\n",
      "\u001b[32mO\u001b[0m\u001b[32mO\u001b[0m\u001b[32mO\u001b[0m\u001b[32mO\u001b[0m\u001b[31m┏\u001b[0m\u001b[31m┛\u001b[0m\u001b[31m┏\u001b[0m\u001b[31m┓\u001b[0m\u001b[31m┏\u001b[0m\u001b[31m┓\u001b[0m\u001b[31m┗\u001b[0m\u001b[31m━\u001b[0m\u001b[31m━\u001b[0m\u001b[31m┛\u001b[0m\u001b[31m┃\u001b[0m\u001b[31m┏\u001b[0m\u001b[31m┓\u001b[0m\u001b[31m┃\u001b[0m\u001b[31m┃\u001b[0m\u001b[31m┃\u001b[0m\u001b[31m┗\u001b[0m\u001b[31m━\u001b[0m\u001b[31m┓\u001b[0m\u001b[31m┏\u001b[0m\u001b[31m┓\u001b[0m\u001b[31m┗\u001b[0m\u001b[31m┛\u001b[0m\u001b[31m┃\u001b[0m\u001b[31m┗\u001b[0m\u001b[31m┓\u001b[0mo\u001b[31m┗\u001b[0m\u001b[31m┓\u001b[0m\u001b[31m┏\u001b[0m\u001b[31m━\u001b[0m\u001b[31m┓\u001b[0m|\u001b[31m┗\u001b[0m\u001b[31m┛\u001b[0m\u001b[31m┏\u001b[0m\u001b[31m┓\u001b[0m\u001b[31m┃\u001b[0m\u001b[31m┏\u001b[0m\u001b[31m━\u001b[0m\u001b[31m━\u001b[0m\u001b[31m┛\u001b[0m\u001b[31m┃\u001b[0m\u001b[31m┏\u001b[0m\u001b[31m━\u001b[0m\u001b[31m━\u001b[0m\u001b[31m┛\u001b[0m-\u001b[31m┏\u001b[0m\u001b[31m┓\u001b[0m\u001b[31m┗\u001b[0m\u001b[31m┛\u001b[0m-\u001b[31m┗\u001b[0m\u001b[31m┓\u001b[0m\u001b[31m┗\u001b[0m\u001b[31m┛\u001b[0m\u001b[31m┗\u001b[0m\u001b[31m┓\u001b[0m\u001b[31m┃\u001b[0m\u001b[31m┏\u001b[0m\u001b[31m┓\u001b[0m\u001b[31m┃\u001b[0m\u001b[31m┃\u001b[0m\u001b[31m┏\u001b[0m\u001b[31m┛\u001b[0m\u001b[31m┏\u001b[0m\u001b[31m━\u001b[0m\u001b[31m━\u001b[0m\u001b[31m┛\u001b[0m\u001b[31m┏\u001b[0m\u001b[31m┛\u001b[0m\u001b[31m┗\u001b[0m\u001b[31m┛\u001b[0m\u001b[31m┗\u001b[0m\u001b[31m┓\u001b[0m\u001b[31m┏\u001b[0m\u001b[31m┛\u001b[0m\u001b[31m┗\u001b[0m\u001b[31m━\u001b[0m\u001b[31m┛\u001b[0m\u001b[31m┏\u001b[0m\u001b[31m┛\u001b[0m\u001b[31m┃\u001b[0m\u001b[31m┃\u001b[0m\u001b[31m┗\u001b[0m\u001b[31m┛\u001b[0m\u001b[31m┏\u001b[0m\u001b[31m━\u001b[0m\u001b[31m━\u001b[0m\u001b[31m━\u001b[0m\u001b[31m┛\u001b[0m\u001b[31m┏\u001b[0m\u001b[31m━\u001b[0m\u001b[31m━\u001b[0m\u001b[31m┛\u001b[0m\u001b[31m┃\u001b[0m\u001b[31m┏\u001b[0m\u001b[31m┓\u001b[0m\u001b[31m┏\u001b[0m\u001b[31m━\u001b[0m\u001b[31m━\u001b[0m\u001b[31m━\u001b[0m\u001b[31m━\u001b[0m\u001b[31m━\u001b[0m\u001b[31m━\u001b[0m\u001b[31m━\u001b[0m\u001b[31m┛\u001b[0m\u001b[31m┗\u001b[0m\u001b[31m┓\u001b[0m\u001b[31m┏\u001b[0m\u001b[31m┛\u001b[0m\u001b[31m┗\u001b[0m\u001b[31m┛\u001b[0m\u001b[31m┗\u001b[0m\u001b[31m┛\u001b[0m\u001b[31m┗\u001b[0m\u001b[31m━\u001b[0m\u001b[31m┓\u001b[0m\u001b[31m┗\u001b[0m\u001b[31m┓\u001b[0m\u001b[31m┃\u001b[0m\u001b[31m┏\u001b[0m\u001b[31m━\u001b[0m\u001b[31m━\u001b[0m\u001b[31m┛\u001b[0m\u001b[31m┏\u001b[0m\u001b[31m┓\u001b[0m\u001b[32mO\u001b[0m\u001b[32mO\u001b[0m\u001b[32mO\u001b[0m\u001b[32mO\u001b[0m\u001b[32mO\u001b[0m\u001b[32mO\u001b[0m\u001b[32mO\u001b[0m\u001b[32mO\u001b[0m\n",
      "\u001b[32mO\u001b[0m\u001b[32mO\u001b[0m\u001b[32mO\u001b[0m\u001b[32mO\u001b[0m\u001b[31m┗\u001b[0m\u001b[31m━\u001b[0m\u001b[31m┛\u001b[0m\u001b[31m┗\u001b[0m\u001b[31m┛\u001b[0m\u001b[31m┃\u001b[0m\u001b[31m┏\u001b[0m\u001b[31m┓\u001b[0m\u001b[31m┏\u001b[0m\u001b[31m┓\u001b[0m\u001b[31m┃\u001b[0m\u001b[31m┃\u001b[0m\u001b[31m┗\u001b[0m\u001b[31m┛\u001b[0m\u001b[31m┃\u001b[0m\u001b[31m┃\u001b[0m\u001b[31m┏\u001b[0m\u001b[31m━\u001b[0m\u001b[31m┛\u001b[0m\u001b[31m┃\u001b[0m\u001b[31m┗\u001b[0m\u001b[31m━\u001b[0m\u001b[31m━\u001b[0m\u001b[31m┛\u001b[0m\u001b[31m┏\u001b[0m\u001b[31m┛\u001b[0m\u001b[31m┏\u001b[0m\u001b[31m━\u001b[0m\u001b[31m┛\u001b[0m\u001b[31m┃\u001b[0m\u001b[31m┏\u001b[0m\u001b[31m┛\u001b[0m\u001b[31m┏\u001b[0m\u001b[31m┓\u001b[0mL\u001b[31m┃\u001b[0m\u001b[31m┗\u001b[0m\u001b[31m┛\u001b[0m\u001b[31m┗\u001b[0m\u001b[31m┓\u001b[0m\u001b[31m┏\u001b[0m\u001b[31m━\u001b[0m\u001b[31m┛\u001b[0m\u001b[31m┗\u001b[0m\u001b[31m┓\u001b[0m\u001b[31m┏\u001b[0m\u001b[31m┓\u001b[0m\u001b[31m┏\u001b[0m\u001b[31m┛\u001b[0m\u001b[31m┗\u001b[0m\u001b[31m━\u001b[0m\u001b[31m┓\u001b[0m\u001b[31m┏\u001b[0m\u001b[31m┓\u001b[0m\u001b[31m┗\u001b[0m\u001b[31m┓\u001b[0m\u001b[31m┏\u001b[0m\u001b[31m━\u001b[0m\u001b[31m┛\u001b[0m\u001b[31m┃\u001b[0m\u001b[31m┃\u001b[0m\u001b[31m┗\u001b[0m\u001b[31m┛\u001b[0m\u001b[31m┃\u001b[0m\u001b[31m┃\u001b[0m7\u001b[31m┗\u001b[0m\u001b[31m━\u001b[0m\u001b[31m┓\u001b[0m\u001b[31m┏\u001b[0m\u001b[31m┛\u001b[0m\u001b[31m┏\u001b[0m\u001b[31m━\u001b[0m\u001b[31m┓\u001b[0m\u001b[31m┏\u001b[0m\u001b[31m┛\u001b[0m\u001b[31m┗\u001b[0m\u001b[31m━\u001b[0m\u001b[31m━\u001b[0m\u001b[31m┓\u001b[0m.\u001b[31m┗\u001b[0m\u001b[31m━\u001b[0m\u001b[31m┛\u001b[0m\u001b[31m┗\u001b[0m\u001b[31m━\u001b[0m\u001b[31m┓\u001b[0m\u001b[31m┃\u001b[0m\u001b[31m┏\u001b[0m\u001b[31m┓\u001b[0mL\u001b[31m┏\u001b[0m\u001b[31m┛\u001b[0m\u001b[31m┏\u001b[0m\u001b[31m━\u001b[0m\u001b[31m━\u001b[0m\u001b[31m┛\u001b[0m\u001b[31m┃\u001b[0m\u001b[31m┃\u001b[0m\u001b[31m┗\u001b[0m\u001b[31m━\u001b[0m\u001b[31m━\u001b[0m\u001b[31m━\u001b[0m\u001b[31m┓\u001b[0m\u001b[31m┏\u001b[0m\u001b[31m┓\u001b[0mo\u001b[31m┏\u001b[0m\u001b[31m━\u001b[0m\u001b[31m┛\u001b[0m\u001b[31m┗\u001b[0m\u001b[31m━\u001b[0m\u001b[31m━\u001b[0m\u001b[31m━\u001b[0m\u001b[31m━\u001b[0m\u001b[31m━\u001b[0m\u001b[31m━\u001b[0m\u001b[31m┓\u001b[0m\u001b[31m┗\u001b[0m\u001b[31m┓\u001b[0m\u001b[31m┃\u001b[0m\u001b[31m┃\u001b[0m\u001b[31m┗\u001b[0m\u001b[31m┓\u001b[0m\u001b[31m┏\u001b[0m\u001b[31m┓\u001b[0m\u001b[31m┃\u001b[0m\u001b[31m┃\u001b[0m\u001b[32mO\u001b[0m\u001b[32mO\u001b[0m\u001b[32mO\u001b[0m\u001b[32mO\u001b[0m\u001b[32mO\u001b[0m\u001b[32mO\u001b[0m\u001b[32mO\u001b[0m\u001b[32mO\u001b[0m\n",
      "\u001b[32mO\u001b[0m\u001b[32mO\u001b[0m\u001b[32mO\u001b[0m\u001b[32mO\u001b[0m\u001b[32mO\u001b[0m\u001b[31m┏\u001b[0m\u001b[31m━\u001b[0m\u001b[31m━\u001b[0m\u001b[31m━\u001b[0m\u001b[31m┛\u001b[0m\u001b[31m┃\u001b[0m\u001b[31m┃\u001b[0m\u001b[31m┃\u001b[0m\u001b[31m┃\u001b[0m\u001b[31m┃\u001b[0m\u001b[31m┗\u001b[0m\u001b[31m┓\u001b[0m\u001b[31m┏\u001b[0m\u001b[31m┛\u001b[0m\u001b[31m┃\u001b[0m\u001b[31m┃\u001b[0m\u001b[31m┏\u001b[0m\u001b[31m┓\u001b[0m\u001b[31m┗\u001b[0m\u001b[31m━\u001b[0m\u001b[31m━\u001b[0m\u001b[31m━\u001b[0m\u001b[31m┓\u001b[0m\u001b[31m┃\u001b[0mo\u001b[31m┗\u001b[0m\u001b[31m┓\u001b[0m\u001b[31m┏\u001b[0m\u001b[31m┛\u001b[0m\u001b[31m┗\u001b[0m\u001b[31m━\u001b[0m\u001b[31m┛\u001b[0m\u001b[31m┗\u001b[0m\u001b[31m━\u001b[0m\u001b[31m┛\u001b[0m\u001b[31m┏\u001b[0m\u001b[31m━\u001b[0m\u001b[31m┓\u001b[0m\u001b[31m┗\u001b[0m\u001b[31m┛\u001b[0m\u001b[31m┏\u001b[0m\u001b[31m━\u001b[0m\u001b[31m━\u001b[0m\u001b[31m┛\u001b[0m\u001b[31m┃\u001b[0m\u001b[31m┗\u001b[0m\u001b[31m┛\u001b[0m\u001b[31m┏\u001b[0m\u001b[31m┓\u001b[0m\u001b[31m┏\u001b[0m\u001b[31m┛\u001b[0m\u001b[31m┃\u001b[0m\u001b[31m┗\u001b[0m\u001b[31m┓\u001b[0m\u001b[31m┃\u001b[0m\u001b[31m┗\u001b[0m\u001b[31m┓\u001b[0m\u001b[31m┏\u001b[0m\u001b[31m┛\u001b[0m\u001b[31m┗\u001b[0m\u001b[31m┓\u001b[0mL\u001b[31m┗\u001b[0m\u001b[31m┛\u001b[0m\u001b[31m┏\u001b[0m\u001b[31m━\u001b[0m\u001b[31m━\u001b[0m\u001b[31m┛\u001b[0m\u001b[31m┗\u001b[0m\u001b[31m━\u001b[0m\u001b[31m┛\u001b[0m\u001b[31m┏\u001b[0m\u001b[31m┛\u001b[0m\u001b[31m┃\u001b[0m\u001b[31m┏\u001b[0m\u001b[31m┓\u001b[0m\u001b[31m┏\u001b[0m\u001b[31m┓\u001b[0m\u001b[31m┗\u001b[0m\u001b[31m┓\u001b[0m\u001b[31m┏\u001b[0m\u001b[31m┓\u001b[0m\u001b[31m┏\u001b[0m\u001b[31m━\u001b[0m\u001b[31m━\u001b[0m\u001b[31m┛\u001b[0m\u001b[31m┃\u001b[0m\u001b[31m┃\u001b[0m\u001b[31m┗\u001b[0m\u001b[31m━\u001b[0m\u001b[31m┛\u001b[0m\u001b[31m┏\u001b[0m\u001b[31m┛\u001b[0m\u001b[31m┏\u001b[0m\u001b[31m━\u001b[0m\u001b[31m━\u001b[0m\u001b[31m┛\u001b[0m\u001b[31m┗\u001b[0m\u001b[31m┓\u001b[0mF\u001b[31m┏\u001b[0m\u001b[31m┓\u001b[0m\u001b[31m┗\u001b[0m\u001b[31m┛\u001b[0m\u001b[31m┗\u001b[0m\u001b[31m━\u001b[0m\u001b[31m┛\u001b[0m\u001b[31m┏\u001b[0m\u001b[31m━\u001b[0m\u001b[31m┓\u001b[0m\u001b[31m┏\u001b[0m\u001b[31m┓\u001b[0m\u001b[31m┏\u001b[0m\u001b[31m┓\u001b[0m\u001b[31m┏\u001b[0m\u001b[31m┓\u001b[0m\u001b[31m┗\u001b[0m\u001b[31m┓\u001b[0m\u001b[31m┗\u001b[0m\u001b[31m┛\u001b[0m\u001b[31m┗\u001b[0m\u001b[31m┓\u001b[0m\u001b[31m┗\u001b[0m\u001b[31m┛\u001b[0m\u001b[31m┗\u001b[0m\u001b[31m┛\u001b[0m\u001b[31m┗\u001b[0m\u001b[31m━\u001b[0m\u001b[31m━\u001b[0m\u001b[31m━\u001b[0m\u001b[31m┓\u001b[0m\u001b[32mO\u001b[0m\u001b[32mO\u001b[0m\u001b[32mO\u001b[0m\u001b[32mO\u001b[0m\n",
      "\u001b[32mO\u001b[0m\u001b[32mO\u001b[0m\u001b[32mO\u001b[0m\u001b[32mO\u001b[0m\u001b[32mO\u001b[0m\u001b[31m┗\u001b[0m\u001b[31m━\u001b[0m\u001b[31m━\u001b[0m\u001b[31m━\u001b[0m\u001b[31m━\u001b[0m\u001b[31m┛\u001b[0m\u001b[31m┃\u001b[0m\u001b[31m┃\u001b[0m\u001b[31m┗\u001b[0m\u001b[31m┛\u001b[0mo\u001b[31m┃\u001b[0m\u001b[31m┗\u001b[0m\u001b[31m┓\u001b[0m\u001b[31m┃\u001b[0m\u001b[31m┃\u001b[0m\u001b[31m┃\u001b[0m\u001b[31m┗\u001b[0m\u001b[31m━\u001b[0m\u001b[31m━\u001b[0m\u001b[31m┓\u001b[0m\u001b[31m┏\u001b[0m\u001b[31m┛\u001b[0m\u001b[31m┗\u001b[0m\u001b[31m┓\u001b[0mo\u001b[31m┗\u001b[0m\u001b[31m┛\u001b[0m\u001b[31m┏\u001b[0m\u001b[31m━\u001b[0m\u001b[31m━\u001b[0m\u001b[31m━\u001b[0m\u001b[31m━\u001b[0m\u001b[31m━\u001b[0m\u001b[31m┓\u001b[0m\u001b[31m┗\u001b[0m\u001b[31m┓\u001b[0m\u001b[31m┃\u001b[0m\u001b[31m┏\u001b[0m\u001b[31m┓\u001b[0m\u001b[31m┃\u001b[0mF\u001b[31m┏\u001b[0m\u001b[31m┓\u001b[0m\u001b[31m┃\u001b[0m\u001b[31m┏\u001b[0m\u001b[31m━\u001b[0m\u001b[31m┛\u001b[0m\u001b[31m┗\u001b[0m\u001b[31m┛\u001b[0mF\u001b[31m┗\u001b[0m\u001b[31m┓\u001b[0m\u001b[31m┗\u001b[0m\u001b[31m┛\u001b[0m\u001b[31m┏\u001b[0m\u001b[31m┛\u001b[0m\u001b[31m┃\u001b[0m\u001b[31m┏\u001b[0m\u001b[31m━\u001b[0m\u001b[31m┛\u001b[0m\u001b[31m┏\u001b[0m\u001b[31m━\u001b[0m\u001b[31m━\u001b[0m\u001b[31m┛\u001b[0m\u001b[31m┏\u001b[0m\u001b[31m━\u001b[0m\u001b[31m━\u001b[0m\u001b[31m┓\u001b[0m\u001b[31m┏\u001b[0m\u001b[31m━\u001b[0m\u001b[31m┛\u001b[0m-\u001b[31m┗\u001b[0m\u001b[31m┛\u001b[0m\u001b[31m┃\u001b[0m\u001b[31m┃\u001b[0m\u001b[31m┗\u001b[0m\u001b[31m┓\u001b[0m\u001b[31m┗\u001b[0m\u001b[31m┛\u001b[0m\u001b[31m┃\u001b[0m\u001b[31m┗\u001b[0m\u001b[31m━\u001b[0m\u001b[31m━\u001b[0m\u001b[31m┓\u001b[0m\u001b[31m┃\u001b[0m\u001b[31m┗\u001b[0m\u001b[31m┓\u001b[0m\u001b[31m┏\u001b[0m\u001b[31m┓\u001b[0m\u001b[31m┃\u001b[0m\u001b[31m┏\u001b[0m\u001b[31m┛\u001b[0m\u001b[31m┏\u001b[0m\u001b[31m┓\u001b[0m\u001b[31m┏\u001b[0m\u001b[31m┓\u001b[0m\u001b[31m┗\u001b[0m\u001b[31m━\u001b[0m\u001b[31m┛\u001b[0m\u001b[31m┗\u001b[0m\u001b[31m━\u001b[0m\u001b[31m━\u001b[0m\u001b[31m━\u001b[0m\u001b[31m━\u001b[0m\u001b[31m┓\u001b[0m\u001b[31m┃\u001b[0mo\u001b[31m┗\u001b[0m\u001b[31m┛\u001b[0m\u001b[31m┗\u001b[0m\u001b[31m┛\u001b[0m\u001b[31m┗\u001b[0m\u001b[31m┛\u001b[0m\u001b[31m┃\u001b[0m\u001b[31m┏\u001b[0m\u001b[31m┛\u001b[0m\u001b[31m┏\u001b[0m\u001b[31m┓\u001b[0mo\u001b[31m┃\u001b[0m\u001b[31m┏\u001b[0m\u001b[31m━\u001b[0m\u001b[31m━\u001b[0m\u001b[31m━\u001b[0m\u001b[31m━\u001b[0m\u001b[31m┓\u001b[0m\u001b[31m┏\u001b[0m\u001b[31m━\u001b[0m\u001b[31m┛\u001b[0m\u001b[32mO\u001b[0m\u001b[32mO\u001b[0m\u001b[32mO\u001b[0m\u001b[32mO\u001b[0m\n",
      "\u001b[32mO\u001b[0m\u001b[32mO\u001b[0m\u001b[32mO\u001b[0m\u001b[32mO\u001b[0m\u001b[32mO\u001b[0m\u001b[32mO\u001b[0m\u001b[31m┏\u001b[0m\u001b[31m━\u001b[0m\u001b[31m━\u001b[0m\u001b[31m━\u001b[0m\u001b[31m━\u001b[0m\u001b[31m┛\u001b[0m\u001b[31m┗\u001b[0m\u001b[31m┓\u001b[0m\u001b[31m┏\u001b[0m\u001b[31m━\u001b[0m\u001b[31m┛\u001b[0m\u001b[31m┏\u001b[0m\u001b[31m┛\u001b[0m\u001b[31m┃\u001b[0m\u001b[31m┃\u001b[0m\u001b[31m┗\u001b[0m\u001b[31m━\u001b[0m\u001b[31m━\u001b[0m\u001b[31m┓\u001b[0m\u001b[31m┗\u001b[0m\u001b[31m┛\u001b[0m\u001b[31m┏\u001b[0m\u001b[31m┓\u001b[0m\u001b[31m┃\u001b[0m\u001b[31m┏\u001b[0m\u001b[31m━\u001b[0m\u001b[31m┓\u001b[0m\u001b[31m┗\u001b[0m\u001b[31m━\u001b[0m\u001b[31m━\u001b[0m\u001b[31m━\u001b[0m\u001b[31m━\u001b[0m\u001b[31m┓\u001b[0m\u001b[31m┃\u001b[0m\u001b[31m┏\u001b[0m\u001b[31m┛\u001b[0m\u001b[31m┃\u001b[0m\u001b[31m┃\u001b[0m\u001b[31m┃\u001b[0m\u001b[31m┗\u001b[0m\u001b[31m━\u001b[0m\u001b[31m┛\u001b[0m\u001b[31m┗\u001b[0m\u001b[31m┛\u001b[0m\u001b[31m┗\u001b[0m\u001b[31m━\u001b[0m\u001b[31m━\u001b[0m\u001b[31m━\u001b[0m\u001b[31m━\u001b[0m\u001b[31m━\u001b[0m\u001b[31m┓\u001b[0m\u001b[31m┃\u001b[0m\u001b[31m┏\u001b[0m\u001b[31m┓\u001b[0m\u001b[31m┗\u001b[0m\u001b[31m┓\u001b[0m\u001b[31m┃\u001b[0m\u001b[31m┗\u001b[0m\u001b[31m┓\u001b[0m-\u001b[31m┗\u001b[0m\u001b[31m━\u001b[0m\u001b[31m┓\u001b[0m\u001b[31m┏\u001b[0m\u001b[31m┛\u001b[0mL\u001b[31m┏\u001b[0m\u001b[31m┛\u001b[0m\u001b[31m┗\u001b[0m\u001b[31m━\u001b[0m\u001b[31m┓\u001b[0m\u001b[31m┏\u001b[0m\u001b[31m┓\u001b[0m\u001b[31m┏\u001b[0m\u001b[31m┛\u001b[0m\u001b[31m┃\u001b[0mL\u001b[31m┗\u001b[0m\u001b[31m┓\u001b[0m\u001b[31m┏\u001b[0m\u001b[31m┛\u001b[0m7\u001b[31m┏\u001b[0m\u001b[31m┓\u001b[0m\u001b[31m┗\u001b[0m\u001b[31m┛\u001b[0mJ\u001b[31m┗\u001b[0m\u001b[31m┛\u001b[0m\u001b[31m┗\u001b[0m\u001b[31m┛\u001b[0m\u001b[31m┗\u001b[0m\u001b[31m━\u001b[0m\u001b[31m┛\u001b[0m\u001b[31m┗\u001b[0m\u001b[31m┛\u001b[0m\u001b[31m┗\u001b[0m\u001b[31m━\u001b[0m\u001b[31m━\u001b[0m\u001b[31m━\u001b[0m\u001b[31m━\u001b[0m\u001b[31m━\u001b[0m\u001b[31m━\u001b[0m\u001b[31m━\u001b[0m\u001b[31m┓\u001b[0m\u001b[31m┃\u001b[0m\u001b[31m┗\u001b[0m\u001b[31m━\u001b[0m\u001b[31m━\u001b[0m\u001b[31m━\u001b[0m\u001b[31m┓\u001b[0mo\u001b[31m┏\u001b[0m\u001b[31m┓\u001b[0m\u001b[31m┃\u001b[0m\u001b[31m┃\u001b[0m\u001b[31m┏\u001b[0m\u001b[31m┛\u001b[0m\u001b[31m┃\u001b[0m\u001b[31m┏\u001b[0m\u001b[31m┛\u001b[0m\u001b[31m┗\u001b[0m\u001b[31m┓\u001b[0m\u001b[31m┏\u001b[0m\u001b[31m━\u001b[0m\u001b[31m┓\u001b[0m\u001b[31m┗\u001b[0m\u001b[31m┛\u001b[0m\u001b[32mO\u001b[0m\u001b[32mO\u001b[0m\u001b[32mO\u001b[0m\u001b[32mO\u001b[0m\u001b[32mO\u001b[0m\u001b[32mO\u001b[0m\n",
      "\u001b[32mO\u001b[0m\u001b[32mO\u001b[0m\u001b[32mO\u001b[0m\u001b[32mO\u001b[0m\u001b[32mO\u001b[0m\u001b[32mO\u001b[0m\u001b[31m┗\u001b[0m\u001b[31m┓\u001b[0m\u001b[31m┏\u001b[0m\u001b[31m┓\u001b[0m\u001b[31m┏\u001b[0m\u001b[31m━\u001b[0m\u001b[31m┓\u001b[0m\u001b[31m┃\u001b[0m\u001b[31m┃\u001b[0m\u001b[31m┏\u001b[0m\u001b[31m┓\u001b[0m\u001b[31m┗\u001b[0m\u001b[31m┓\u001b[0m\u001b[31m┃\u001b[0m\u001b[31m┃\u001b[0mo\u001b[31m┏\u001b[0m\u001b[31m━\u001b[0m\u001b[31m┛\u001b[0m\u001b[31m┏\u001b[0m\u001b[31m┓\u001b[0m\u001b[31m┃\u001b[0m\u001b[31m┗\u001b[0m\u001b[31m┛\u001b[0m\u001b[31m┗\u001b[0m\u001b[31m┓\u001b[0m\u001b[31m┃\u001b[0m\u001b[31m┏\u001b[0m\u001b[31m┓\u001b[0m\u001b[31m┏\u001b[0m\u001b[31m┓\u001b[0m\u001b[31m┏\u001b[0m\u001b[31m┛\u001b[0m\u001b[31m┗\u001b[0m\u001b[31m┛\u001b[0mF\u001b[31m┗\u001b[0m\u001b[31m┛\u001b[0m\u001b[31m┃\u001b[0m\u001b[31m┏\u001b[0m\u001b[31m┓\u001b[0m\u001b[31m┏\u001b[0m\u001b[31m┓\u001b[0m\u001b[31m┏\u001b[0m\u001b[31m┓\u001b[0m\u001b[31m┏\u001b[0m\u001b[31m┓\u001b[0m\u001b[31m┏\u001b[0m\u001b[31m┓\u001b[0m\u001b[31m┏\u001b[0m\u001b[31m┛\u001b[0m\u001b[31m┃\u001b[0m\u001b[31m┃\u001b[0m\u001b[31m┃\u001b[0m\u001b[31m┏\u001b[0m\u001b[31m┛\u001b[0m\u001b[31m┃\u001b[0m\u001b[31m┏\u001b[0m\u001b[31m┛\u001b[0m\u001b[31m┏\u001b[0m\u001b[31m━\u001b[0m\u001b[31m━\u001b[0m\u001b[31m┛\u001b[0m\u001b[31m┗\u001b[0m\u001b[31m┓\u001b[0m\u001b[31m┏\u001b[0m\u001b[31m┛\u001b[0m\u001b[31m┏\u001b[0m\u001b[31m━\u001b[0m\u001b[31m┓\u001b[0m\u001b[31m┗\u001b[0m\u001b[31m┛\u001b[0m\u001b[31m┃\u001b[0m\u001b[31m┗\u001b[0m\u001b[31m┓\u001b[0m\u001b[31m┃\u001b[0m\u001b[31m┏\u001b[0m\u001b[31m┓\u001b[0m\u001b[31m┗\u001b[0m\u001b[31m┛\u001b[0m\u001b[31m┏\u001b[0m\u001b[31m━\u001b[0m\u001b[31m┛\u001b[0m\u001b[31m┗\u001b[0m\u001b[31m━\u001b[0m\u001b[31m━\u001b[0m\u001b[31m━\u001b[0m\u001b[31m━\u001b[0m\u001b[31m━\u001b[0m\u001b[31m━\u001b[0m\u001b[31m━\u001b[0m\u001b[31m┓\u001b[0m\u001b[31m┏\u001b[0m\u001b[31m┓\u001b[0mJ\u001b[31m┏\u001b[0m\u001b[31m━\u001b[0m\u001b[31m━\u001b[0m\u001b[31m━\u001b[0m\u001b[31m━\u001b[0m\u001b[31m┓\u001b[0m\u001b[31m┏\u001b[0m\u001b[31m┓\u001b[0m\u001b[31m┏\u001b[0m\u001b[31m┛\u001b[0m\u001b[31m┃\u001b[0m\u001b[31m┏\u001b[0m\u001b[31m┓\u001b[0m\u001b[31m┏\u001b[0m\u001b[31m┓\u001b[0m\u001b[31m┗\u001b[0m\u001b[31m┓\u001b[0m\u001b[31m┃\u001b[0m\u001b[31m┃\u001b[0m\u001b[31m┗\u001b[0m\u001b[31m┛\u001b[0m\u001b[31m┗\u001b[0m\u001b[31m┓\u001b[0m\u001b[31m┗\u001b[0m\u001b[31m┛\u001b[0m\u001b[31m┏\u001b[0m\u001b[31m┓\u001b[0m\u001b[31m┗\u001b[0m\u001b[31m┛\u001b[0m\u001b[31m┏\u001b[0m\u001b[31m┛\u001b[0m\u001b[32mO\u001b[0m\u001b[32mO\u001b[0m\u001b[32mO\u001b[0m\u001b[32mO\u001b[0m\u001b[32mO\u001b[0m\u001b[32mO\u001b[0m\u001b[32mO\u001b[0m\u001b[32mO\u001b[0m\n",
      "\u001b[32mO\u001b[0m\u001b[32mO\u001b[0m\u001b[32mO\u001b[0m\u001b[32mO\u001b[0m\u001b[32mO\u001b[0m\u001b[32mO\u001b[0m\u001b[32mO\u001b[0m\u001b[31m┗\u001b[0m\u001b[31m┛\u001b[0m\u001b[31m┃\u001b[0m\u001b[31m┃\u001b[0m\u001b[31m┏\u001b[0m\u001b[31m┛\u001b[0m\u001b[31m┃\u001b[0m\u001b[31m┃\u001b[0m\u001b[31m┃\u001b[0m\u001b[31m┃\u001b[0m\u001b[31m┏\u001b[0m\u001b[31m┛\u001b[0m\u001b[31m┗\u001b[0m\u001b[31m┛\u001b[0m\u001b[31m┏\u001b[0m\u001b[31m┛\u001b[0m\u001b[31m┏\u001b[0m\u001b[31m┓\u001b[0m\u001b[31m┃\u001b[0m\u001b[31m┃\u001b[0m\u001b[31m┃\u001b[0m\u001b[31m┏\u001b[0m\u001b[31m┓\u001b[0m\u001b[31m┏\u001b[0m\u001b[31m┛\u001b[0m\u001b[31m┗\u001b[0m\u001b[31m┛\u001b[0m\u001b[31m┗\u001b[0m\u001b[31m┛\u001b[0m\u001b[31m┗\u001b[0m\u001b[31m┛\u001b[0m\u001b[31m┏\u001b[0m\u001b[31m━\u001b[0m\u001b[31m━\u001b[0m\u001b[31m━\u001b[0m\u001b[31m━\u001b[0m\u001b[31m┓\u001b[0m\u001b[31m┃\u001b[0m\u001b[31m┃\u001b[0m\u001b[31m┗\u001b[0m\u001b[31m┛\u001b[0m\u001b[31m┃\u001b[0m\u001b[31m┃\u001b[0m\u001b[31m┗\u001b[0m\u001b[31m┛\u001b[0m\u001b[31m┗\u001b[0m\u001b[31m┛\u001b[0m\u001b[31m┃\u001b[0m\u001b[31m┃\u001b[0m\u001b[31m┏\u001b[0m\u001b[31m┛\u001b[0m\u001b[31m┃\u001b[0m\u001b[31m┃\u001b[0m\u001b[31m┗\u001b[0m\u001b[31m┓\u001b[0m\u001b[31m┃\u001b[0m\u001b[31m┗\u001b[0m\u001b[31m┓\u001b[0m\u001b[31m┗\u001b[0m\u001b[31m━\u001b[0m\u001b[31m┓\u001b[0m\u001b[31m┏\u001b[0m\u001b[31m┓\u001b[0m\u001b[31m┃\u001b[0m\u001b[31m┃\u001b[0m\u001b[31m┏\u001b[0m\u001b[31m┛\u001b[0mF\u001b[31m┗\u001b[0m\u001b[31m┓\u001b[0m\u001b[31m┏\u001b[0m\u001b[31m┛\u001b[0m\u001b[31m┏\u001b[0m\u001b[31m┛\u001b[0m\u001b[31m┗\u001b[0m\u001b[31m┛\u001b[0m\u001b[31m┗\u001b[0m\u001b[31m━\u001b[0m\u001b[31m┓\u001b[0m\u001b[31m┗\u001b[0m\u001b[31m┓\u001b[0m\u001b[31m┏\u001b[0m\u001b[31m┓\u001b[0m\u001b[31m┏\u001b[0m\u001b[31m┓\u001b[0m\u001b[31m┏\u001b[0m\u001b[31m┓\u001b[0m\u001b[31m┏\u001b[0m\u001b[31m━\u001b[0m\u001b[31m┓\u001b[0m\u001b[31m┗\u001b[0m\u001b[31m┛\u001b[0m\u001b[31m┗\u001b[0m\u001b[31m┓\u001b[0m\u001b[31m┗\u001b[0m\u001b[31m━\u001b[0m\u001b[31m━\u001b[0m\u001b[31m━\u001b[0m\u001b[31m┓\u001b[0m\u001b[31m┗\u001b[0m\u001b[31m┛\u001b[0m\u001b[31m┃\u001b[0m\u001b[31m┗\u001b[0m\u001b[31m┓\u001b[0m\u001b[31m┗\u001b[0m\u001b[31m┛\u001b[0m\u001b[31m┗\u001b[0m\u001b[31m┛\u001b[0m\u001b[31m┗\u001b[0m\u001b[31m┓\u001b[0m\u001b[31m┗\u001b[0m\u001b[31m┛\u001b[0m\u001b[31m┗\u001b[0m\u001b[31m━\u001b[0m\u001b[31m━\u001b[0m\u001b[31m━\u001b[0m\u001b[31m┛\u001b[0m\u001b[31m┏\u001b[0m\u001b[31m┓\u001b[0m\u001b[31m┃\u001b[0m\u001b[31m┗\u001b[0m\u001b[31m━\u001b[0m\u001b[31m┓\u001b[0m\u001b[31m┗\u001b[0m\u001b[31m━\u001b[0m\u001b[31m┓\u001b[0m\u001b[32mO\u001b[0m\u001b[31m┏\u001b[0m\u001b[31m┓\u001b[0m\u001b[32mO\u001b[0m\u001b[32mO\u001b[0m\u001b[32mO\u001b[0m\u001b[32mO\u001b[0m\n",
      "\u001b[32mO\u001b[0m\u001b[32mO\u001b[0m\u001b[32mO\u001b[0m\u001b[32mO\u001b[0m\u001b[32mO\u001b[0m\u001b[32mO\u001b[0m\u001b[32mO\u001b[0m\u001b[31m┏\u001b[0m\u001b[31m━\u001b[0m\u001b[31m┛\u001b[0m\u001b[31m┃\u001b[0m\u001b[31m┗\u001b[0m\u001b[31m━\u001b[0m\u001b[31m┛\u001b[0m\u001b[31m┗\u001b[0m\u001b[31m┛\u001b[0m\u001b[31m┗\u001b[0m\u001b[31m┛\u001b[0mo\u001b[31m┏\u001b[0m\u001b[31m┓\u001b[0m\u001b[31m┗\u001b[0m\u001b[31m━\u001b[0m\u001b[31m┛\u001b[0m\u001b[31m┗\u001b[0m\u001b[31m┛\u001b[0m\u001b[31m┗\u001b[0m\u001b[31m┛\u001b[0m\u001b[31m┃\u001b[0m\u001b[31m┃\u001b[0m\u001b[31m┗\u001b[0m\u001b[31m━\u001b[0m\u001b[31m━\u001b[0m\u001b[31m━\u001b[0m\u001b[31m━\u001b[0m\u001b[31m━\u001b[0m\u001b[31m┓\u001b[0mF\u001b[31m┃\u001b[0m\u001b[31m┏\u001b[0m\u001b[31m━\u001b[0m\u001b[31m━\u001b[0m\u001b[31m┓\u001b[0m\u001b[31m┃\u001b[0m\u001b[31m┃\u001b[0m\u001b[31m┗\u001b[0m\u001b[31m━\u001b[0m\u001b[31m┓\u001b[0m\u001b[31m┃\u001b[0m\u001b[31m┗\u001b[0m\u001b[31m━\u001b[0m\u001b[31m┓\u001b[0m\u001b[31m┏\u001b[0m\u001b[31m┓\u001b[0m\u001b[31m┃\u001b[0m\u001b[31m┃\u001b[0m\u001b[31m┃\u001b[0m\u001b[31m┏\u001b[0m\u001b[31m┛\u001b[0m\u001b[31m┃\u001b[0m\u001b[31m┏\u001b[0m\u001b[31m┛\u001b[0m\u001b[31m┗\u001b[0m\u001b[31m┓\u001b[0m\u001b[31m┃\u001b[0m\u001b[31m┏\u001b[0m\u001b[31m━\u001b[0m\u001b[31m┛\u001b[0m\u001b[31m┃\u001b[0m\u001b[31m┃\u001b[0m\u001b[31m┃\u001b[0m\u001b[31m┃\u001b[0m\u001b[31m┃\u001b[0m\u001b[31m┏\u001b[0m\u001b[31m━\u001b[0m\u001b[31m━\u001b[0m\u001b[31m┛\u001b[0m\u001b[31m┃\u001b[0m\u001b[31m┏\u001b[0m\u001b[31m┛\u001b[0m\u001b[31m┏\u001b[0m\u001b[31m━\u001b[0m\u001b[31m┓\u001b[0m\u001b[31m┏\u001b[0m\u001b[31m┓\u001b[0m\u001b[31m┃\u001b[0m\u001b[31m┏\u001b[0m\u001b[31m┛\u001b[0m\u001b[31m┃\u001b[0m\u001b[31m┗\u001b[0m\u001b[31m┛\u001b[0m\u001b[31m┗\u001b[0m\u001b[31m┛\u001b[0m\u001b[31m┗\u001b[0m\u001b[31m┛\u001b[0mL\u001b[31m┗\u001b[0m\u001b[31m━\u001b[0m\u001b[31m━\u001b[0m\u001b[31m┓\u001b[0m\u001b[31m┃\u001b[0m\u001b[31m┏\u001b[0m\u001b[31m━\u001b[0m\u001b[31m━\u001b[0m\u001b[31m━\u001b[0m\u001b[31m┛\u001b[0m\u001b[31m┏\u001b[0m\u001b[31m┓\u001b[0m\u001b[31m┗\u001b[0m\u001b[31m┓\u001b[0m\u001b[31m┗\u001b[0m\u001b[31m━\u001b[0m\u001b[31m━\u001b[0m\u001b[31m┓\u001b[0m\u001b[31m┏\u001b[0m\u001b[31m┓\u001b[0m\u001b[31m┃\u001b[0m\u001b[31m┏\u001b[0m\u001b[31m┓\u001b[0m\u001b[31m┏\u001b[0m\u001b[31m┓\u001b[0m\u001b[31m┏\u001b[0m\u001b[31m┓\u001b[0m\u001b[31m┏\u001b[0m\u001b[31m┛\u001b[0m\u001b[31m┃\u001b[0m\u001b[31m┃\u001b[0m\u001b[31m┏\u001b[0m\u001b[31m━\u001b[0m\u001b[31m┛\u001b[0m\u001b[31m┏\u001b[0m\u001b[31m┓\u001b[0m\u001b[31m┗\u001b[0m\u001b[31m━\u001b[0m\u001b[31m┛\u001b[0m\u001b[31m┗\u001b[0m\u001b[31m┓\u001b[0m\u001b[31m┏\u001b[0m\u001b[31m┓\u001b[0m\u001b[32mO\u001b[0m\n",
      "\u001b[32mO\u001b[0m\u001b[32mO\u001b[0m\u001b[32mO\u001b[0m\u001b[32mO\u001b[0m\u001b[32mO\u001b[0m\u001b[32mO\u001b[0m\u001b[32mO\u001b[0m\u001b[31m┗\u001b[0m\u001b[31m━\u001b[0m\u001b[31m┓\u001b[0m\u001b[31m┃\u001b[0m\u001b[31m┏\u001b[0m\u001b[31m━\u001b[0m\u001b[31m━\u001b[0m\u001b[31m┓\u001b[0m\u001b[31m┏\u001b[0m\u001b[31m┓\u001b[0m\u001b[31m┏\u001b[0m\u001b[31m━\u001b[0m\u001b[31m┛\u001b[0m\u001b[31m┗\u001b[0m\u001b[31m┓\u001b[0m\u001b[31m┏\u001b[0m\u001b[31m━\u001b[0m\u001b[31m━\u001b[0m\u001b[31m━\u001b[0m\u001b[31m┓\u001b[0m\u001b[31m┏\u001b[0m\u001b[31m┛\u001b[0m\u001b[31m┗\u001b[0m\u001b[31m━\u001b[0m\u001b[31m━\u001b[0m\u001b[31m━\u001b[0m\u001b[31m━\u001b[0m\u001b[31m━\u001b[0m\u001b[31m━\u001b[0m\u001b[31m┛\u001b[0m\u001b[31m┏\u001b[0m\u001b[31m┛\u001b[0m\u001b[31m┗\u001b[0m\u001b[31m━\u001b[0m\u001b[31m┓\u001b[0m\u001b[31m┃\u001b[0m\u001b[31m┃\u001b[0m\u001b[31m┃\u001b[0m\u001b[31m┏\u001b[0m\u001b[31m━\u001b[0m\u001b[31m┛\u001b[0m\u001b[31m┃\u001b[0m\u001b[31m┏\u001b[0m\u001b[31m┓\u001b[0m\u001b[31m┗\u001b[0m\u001b[31m┛\u001b[0m\u001b[31m┃\u001b[0m\u001b[31m┗\u001b[0m\u001b[31m┛\u001b[0m\u001b[31m┗\u001b[0m\u001b[31m┛\u001b[0m7\u001b[31m┃\u001b[0m\u001b[31m┃\u001b[0m.L\u001b[31m┃\u001b[0m\u001b[31m┃\u001b[0m\u001b[31m┗\u001b[0m\u001b[31m┓\u001b[0m\u001b[31m┏\u001b[0m\u001b[31m┛\u001b[0m\u001b[31m┗\u001b[0m\u001b[31m┛\u001b[0m\u001b[31m┃\u001b[0m\u001b[31m┃\u001b[0m\u001b[31m┗\u001b[0m\u001b[31m━\u001b[0m\u001b[31m┓\u001b[0m\u001b[31m┏\u001b[0m\u001b[31m┛\u001b[0m\u001b[31m┃\u001b[0m\u001b[31m┏\u001b[0m\u001b[31m┛\u001b[0m\u001b[31m┏\u001b[0m\u001b[31m┛\u001b[0m\u001b[31m┃\u001b[0m\u001b[31m┃\u001b[0m\u001b[31m┃\u001b[0m\u001b[31m┗\u001b[0m\u001b[31m┓\u001b[0m\u001b[31m┃\u001b[0m\u001b[31m┏\u001b[0m\u001b[31m━\u001b[0m\u001b[31m━\u001b[0m\u001b[31m┓\u001b[0m\u001b[31m┏\u001b[0m\u001b[31m━\u001b[0m\u001b[31m━\u001b[0m\u001b[31m━\u001b[0m\u001b[31m━\u001b[0m\u001b[31m━\u001b[0m\u001b[31m┛\u001b[0m\u001b[31m┗\u001b[0m\u001b[31m┛\u001b[0m\u001b[31m┏\u001b[0m\u001b[31m┓\u001b[0m\u001b[31m┏\u001b[0m\u001b[31m━\u001b[0m\u001b[31m┛\u001b[0m\u001b[31m┗\u001b[0m\u001b[31m┓\u001b[0m\u001b[31m┗\u001b[0m\u001b[31m┓\u001b[0m\u001b[31m┏\u001b[0m\u001b[31m┓\u001b[0m\u001b[31m┗\u001b[0m\u001b[31m┛\u001b[0m\u001b[31m┃\u001b[0m\u001b[31m┃\u001b[0m\u001b[31m┃\u001b[0m\u001b[31m┃\u001b[0m\u001b[31m┃\u001b[0m\u001b[31m┃\u001b[0m\u001b[31m┃\u001b[0m\u001b[31m┗\u001b[0m\u001b[31m┛\u001b[0m\u001b[31m┏\u001b[0m\u001b[31m┛\u001b[0m\u001b[31m┃\u001b[0m\u001b[31m┃\u001b[0m\u001b[31m┏\u001b[0m\u001b[31m┓\u001b[0m\u001b[31m┃\u001b[0m\u001b[31m┗\u001b[0m\u001b[31m━\u001b[0m\u001b[31m┓\u001b[0m\u001b[31m┏\u001b[0m\u001b[31m┓\u001b[0m\u001b[31m┗\u001b[0m\u001b[31m┛\u001b[0m\u001b[31m┃\u001b[0m\u001b[32mO\u001b[0m\n",
      "\u001b[32mO\u001b[0m\u001b[32mO\u001b[0m\u001b[32mO\u001b[0m\u001b[32mO\u001b[0m\u001b[32mO\u001b[0m\u001b[32mO\u001b[0m\u001b[32mO\u001b[0m\u001b[32mO\u001b[0m\u001b[32mO\u001b[0m\u001b[31m┃\u001b[0m\u001b[31m┃\u001b[0m\u001b[31m┗\u001b[0m\u001b[31m━\u001b[0m\u001b[31m┓\u001b[0m\u001b[31m┃\u001b[0m\u001b[31m┃\u001b[0m\u001b[31m┃\u001b[0m\u001b[31m┗\u001b[0m\u001b[31m━\u001b[0m\u001b[31m━\u001b[0m\u001b[31m┓\u001b[0m\u001b[31m┃\u001b[0m\u001b[31m┗\u001b[0m\u001b[31m━\u001b[0m\u001b[31m━\u001b[0m\u001b[31m┓\u001b[0m\u001b[31m┗\u001b[0m\u001b[31m┛\u001b[0m\u001b[31m┏\u001b[0m\u001b[31m━\u001b[0m\u001b[31m━\u001b[0m\u001b[31m┓\u001b[0m\u001b[31m┏\u001b[0m\u001b[31m━\u001b[0m\u001b[31m━\u001b[0m\u001b[31m━\u001b[0m\u001b[31m━\u001b[0m\u001b[31m┛\u001b[0m\u001b[31m┏\u001b[0m\u001b[31m┓\u001b[0m\u001b[31m┏\u001b[0m\u001b[31m┛\u001b[0m\u001b[31m┗\u001b[0m\u001b[31m┛\u001b[0m\u001b[31m┃\u001b[0m\u001b[31m┗\u001b[0m\u001b[31m━\u001b[0m\u001b[31m┓\u001b[0m\u001b[31m┃\u001b[0m\u001b[31m┃\u001b[0m\u001b[31m┗\u001b[0m\u001b[31m━\u001b[0m\u001b[31m━\u001b[0m\u001b[31m┛\u001b[0m\u001b[31m┏\u001b[0m\u001b[31m━\u001b[0m\u001b[31m━\u001b[0m\u001b[31m━\u001b[0m\u001b[31m┓\u001b[0m\u001b[31m┗\u001b[0m\u001b[31m┛\u001b[0m\u001b[31m┏\u001b[0m\u001b[31m━\u001b[0m\u001b[31m┛\u001b[0m\u001b[31m┃\u001b[0m\u001b[31m┏\u001b[0m\u001b[31m┛\u001b[0m\u001b[31m┗\u001b[0m\u001b[31m┓\u001b[0mJ\u001b[31m┏\u001b[0m\u001b[31m┛\u001b[0m\u001b[31m┃\u001b[0m\u001b[31m┏\u001b[0m\u001b[31m━\u001b[0m\u001b[31m┛\u001b[0m\u001b[31m┃\u001b[0m-\u001b[31m┃\u001b[0m\u001b[31m┗\u001b[0m\u001b[31m┓\u001b[0m\u001b[31m┗\u001b[0m\u001b[31m┓\u001b[0m\u001b[31m┃\u001b[0m\u001b[31m┗\u001b[0m\u001b[31m┛\u001b[0m.\u001b[31m┗\u001b[0m\u001b[31m┛\u001b[0m\u001b[31m┗\u001b[0m\u001b[31m━\u001b[0m\u001b[31m┓\u001b[0m\u001b[31m┃\u001b[0m\u001b[31m┗\u001b[0m\u001b[31m┓\u001b[0m\u001b[31m┏\u001b[0m\u001b[31m┓\u001b[0m\u001b[31m┏\u001b[0m\u001b[31m━\u001b[0m\u001b[31m━\u001b[0m\u001b[31m━\u001b[0m\u001b[31m━\u001b[0m\u001b[31m┛\u001b[0m\u001b[31m┗\u001b[0m\u001b[31m┛\u001b[0m\u001b[31m┏\u001b[0m\u001b[31m━\u001b[0m\u001b[31m━\u001b[0m\u001b[31m┛\u001b[0mo\u001b[31m┗\u001b[0m\u001b[31m┛\u001b[0m\u001b[31m┃\u001b[0m\u001b[31m┏\u001b[0m\u001b[31m━\u001b[0m\u001b[31m┛\u001b[0m\u001b[31m┃\u001b[0m\u001b[31m┃\u001b[0m\u001b[31m┃\u001b[0m\u001b[31m┃\u001b[0m\u001b[31m┃\u001b[0m\u001b[31m┗\u001b[0m\u001b[31m━\u001b[0m\u001b[31m┓\u001b[0m\u001b[31m┗\u001b[0m\u001b[31m━\u001b[0m\u001b[31m┛\u001b[0m\u001b[31m┗\u001b[0m\u001b[31m┛\u001b[0m\u001b[31m┃\u001b[0m\u001b[31m┃\u001b[0m\u001b[31m┏\u001b[0m\u001b[31m┓\u001b[0m\u001b[31m┗\u001b[0m\u001b[31m┛\u001b[0m\u001b[31m┗\u001b[0m\u001b[31m━\u001b[0m\u001b[31m━\u001b[0m\u001b[31m┛\u001b[0m\u001b[32mO\u001b[0m\n",
      "\u001b[32mO\u001b[0m\u001b[32mO\u001b[0m\u001b[32mO\u001b[0m\u001b[32mO\u001b[0m\u001b[32mO\u001b[0m\u001b[32mO\u001b[0m\u001b[32mO\u001b[0m\u001b[32mO\u001b[0m\u001b[32mO\u001b[0m\u001b[31m┗\u001b[0m\u001b[31m┛\u001b[0m\u001b[31m┏\u001b[0m\u001b[31m┓\u001b[0m\u001b[31m┃\u001b[0m\u001b[31m┗\u001b[0m\u001b[31m┛\u001b[0m\u001b[31m┗\u001b[0m\u001b[31m━\u001b[0m\u001b[31m━\u001b[0m\u001b[31m━\u001b[0m\u001b[31m┛\u001b[0m\u001b[31m┗\u001b[0m\u001b[31m┓\u001b[0m\u001b[31m┏\u001b[0m\u001b[31m━\u001b[0m\u001b[31m┛\u001b[0m\u001b[31m┏\u001b[0m\u001b[31m┓\u001b[0m\u001b[31m┗\u001b[0m\u001b[31m┓\u001b[0m\u001b[31m┏\u001b[0m\u001b[31m┛\u001b[0m\u001b[31m┃\u001b[0m\u001b[31m┏\u001b[0m\u001b[31m┓\u001b[0m\u001b[31m┏\u001b[0m\u001b[31m━\u001b[0m\u001b[31m┓\u001b[0m\u001b[31m┃\u001b[0m\u001b[31m┃\u001b[0m\u001b[31m┗\u001b[0m\u001b[31m┓\u001b[0m\u001b[31m┏\u001b[0m\u001b[31m┓\u001b[0m\u001b[31m┃\u001b[0m\u001b[31m┏\u001b[0m\u001b[31m┓\u001b[0m\u001b[31m┃\u001b[0m\u001b[31m┃\u001b[0m\u001b[31m┗\u001b[0m\u001b[31m━\u001b[0m\u001b[31m━\u001b[0m\u001b[31m━\u001b[0m\u001b[31m━\u001b[0m\u001b[31m┛\u001b[0m\u001b[31m┏\u001b[0m\u001b[31m━\u001b[0m\u001b[31m┓\u001b[0m\u001b[31m┗\u001b[0m\u001b[31m┓\u001b[0m-\u001b[31m┃\u001b[0m\u001b[31m┏\u001b[0m\u001b[31m━\u001b[0m\u001b[31m┛\u001b[0m\u001b[33mS\u001b[0m\u001b[31m┏\u001b[0m\u001b[31m┓\u001b[0m\u001b[31m┗\u001b[0m\u001b[31m┓\u001b[0m\u001b[31m┗\u001b[0m\u001b[31m┓\u001b[0m\u001b[31m┃\u001b[0m\u001b[31m┗\u001b[0m\u001b[31m┓\u001b[0m\u001b[31m┏\u001b[0m\u001b[31m┛\u001b[0m\u001b[31m┏\u001b[0m\u001b[31m┛\u001b[0m\u001b[31m┏\u001b[0m\u001b[31m┛\u001b[0m\u001b[31m┏\u001b[0m\u001b[31m┛\u001b[0m\u001b[31m┃\u001b[0m\u001b[31m┏\u001b[0m\u001b[31m┓\u001b[0m\u001b[31m┏\u001b[0m\u001b[31m┓\u001b[0m\u001b[31m┏\u001b[0m\u001b[31m┓\u001b[0m\u001b[31m┏\u001b[0m\u001b[31m┛\u001b[0m\u001b[31m┗\u001b[0m\u001b[31m┓\u001b[0m\u001b[31m┗\u001b[0m\u001b[31m┛\u001b[0m\u001b[31m┗\u001b[0m\u001b[31m┛\u001b[0m\u001b[31m┏\u001b[0m\u001b[31m━\u001b[0m\u001b[31m━\u001b[0m\u001b[31m━\u001b[0m\u001b[31m━\u001b[0m\u001b[31m━\u001b[0m\u001b[31m━\u001b[0m\u001b[31m┛\u001b[0m\u001b[31m┏\u001b[0m\u001b[31m━\u001b[0m\u001b[31m━\u001b[0m\u001b[31m━\u001b[0m\u001b[31m━\u001b[0m\u001b[31m┓\u001b[0m\u001b[31m┃\u001b[0m\u001b[31m┗\u001b[0m\u001b[31m━\u001b[0m\u001b[31m┓\u001b[0m\u001b[31m┃\u001b[0m\u001b[31m┃\u001b[0m\u001b[31m┗\u001b[0m\u001b[31m┛\u001b[0m\u001b[31m┗\u001b[0m\u001b[31m━\u001b[0m\u001b[31m━\u001b[0m\u001b[31m┛\u001b[0m\u001b[31m┏\u001b[0m\u001b[31m┓\u001b[0mo\u001b[31m┏\u001b[0m\u001b[31m━\u001b[0m\u001b[31m┛\u001b[0m\u001b[31m┗\u001b[0m\u001b[31m┛\u001b[0m\u001b[31m┗\u001b[0m\u001b[31m━\u001b[0m\u001b[31m━\u001b[0m\u001b[31m━\u001b[0m\u001b[31m━\u001b[0m\u001b[31m━\u001b[0m\u001b[31m━\u001b[0m\u001b[31m┓\u001b[0m\n",
      "\u001b[32mO\u001b[0m\u001b[32mO\u001b[0m\u001b[32mO\u001b[0m\u001b[32mO\u001b[0m\u001b[32mO\u001b[0m\u001b[32mO\u001b[0m\u001b[31m┏\u001b[0m\u001b[31m┓\u001b[0m\u001b[31m┏\u001b[0m\u001b[31m┓\u001b[0m\u001b[31m┏\u001b[0m\u001b[31m┛\u001b[0m\u001b[31m┃\u001b[0m\u001b[31m┗\u001b[0m\u001b[31m━\u001b[0m\u001b[31m━\u001b[0m\u001b[31m━\u001b[0m\u001b[31m━\u001b[0m\u001b[31m━\u001b[0m\u001b[31m━\u001b[0m\u001b[31m━\u001b[0m\u001b[31m┓\u001b[0m\u001b[31m┃\u001b[0m\u001b[31m┗\u001b[0m\u001b[31m━\u001b[0m\u001b[31m━\u001b[0m\u001b[31m┛\u001b[0m\u001b[31m┗\u001b[0m\u001b[31m━\u001b[0m\u001b[31m┛\u001b[0m\u001b[31m┗\u001b[0m\u001b[31m┓\u001b[0m\u001b[31m┃\u001b[0m\u001b[31m┃\u001b[0m\u001b[31m┃\u001b[0m\u001b[31m┗\u001b[0m\u001b[31m┓\u001b[0m\u001b[31m┗\u001b[0m\u001b[31m┛\u001b[0m\u001b[31m┗\u001b[0m\u001b[31m━\u001b[0m\u001b[31m┛\u001b[0m\u001b[31m┃\u001b[0m\u001b[31m┃\u001b[0m\u001b[31m┗\u001b[0m\u001b[31m┛\u001b[0m\u001b[31m┗\u001b[0m\u001b[31m┛\u001b[0m\u001b[31m┗\u001b[0m\u001b[31m┓\u001b[0m\u001b[31m┏\u001b[0m\u001b[31m┓\u001b[0m\u001b[31m┏\u001b[0m\u001b[31m┓\u001b[0m\u001b[31m┏\u001b[0m\u001b[31m┛\u001b[0m-\u001b[31m┗\u001b[0m\u001b[31m━\u001b[0m\u001b[31m┛\u001b[0mL\u001b[31m┗\u001b[0m\u001b[31m┛\u001b[0mJ7\u001b[31m┗\u001b[0m\u001b[31m┛\u001b[0m\u001b[31m┗\u001b[0m\u001b[31m┓\u001b[0m\u001b[31m┃\u001b[0mF\u001b[31m┃\u001b[0m\u001b[31m┗\u001b[0m\u001b[31m┓\u001b[0m\u001b[31m┃\u001b[0m\u001b[31m┃\u001b[0m\u001b[31m┏\u001b[0m\u001b[31m┛\u001b[0m\u001b[31m┏\u001b[0m\u001b[31m┛\u001b[0m7\u001b[31m┗\u001b[0m\u001b[31m┓\u001b[0m\u001b[31m┃\u001b[0m\u001b[31m┃\u001b[0m\u001b[31m┗\u001b[0m\u001b[31m┛\u001b[0m\u001b[31m┗\u001b[0m\u001b[31m┛\u001b[0m\u001b[31m┗\u001b[0m\u001b[31m┛\u001b[0m\u001b[31m┏\u001b[0m\u001b[31m┓\u001b[0m\u001b[31m┗\u001b[0m\u001b[31m┓\u001b[0m\u001b[31m┏\u001b[0m\u001b[31m┓\u001b[0m\u001b[31m┏\u001b[0m\u001b[31m┛\u001b[0m\u001b[31m┏\u001b[0m\u001b[31m┓\u001b[0m\u001b[31m┏\u001b[0m\u001b[31m━\u001b[0m\u001b[31m┓\u001b[0m\u001b[31m┏\u001b[0m\u001b[31m━\u001b[0m\u001b[31m┛\u001b[0m\u001b[31m┏\u001b[0m\u001b[31m┓\u001b[0m\u001b[31m┏\u001b[0m\u001b[31m┓\u001b[0m\u001b[31m┃\u001b[0m\u001b[31m┃\u001b[0m\u001b[31m┏\u001b[0m\u001b[31m┓\u001b[0m\u001b[31m┃\u001b[0m\u001b[31m┗\u001b[0m\u001b[31m┛\u001b[0m\u001b[31m┏\u001b[0m\u001b[31m━\u001b[0m\u001b[31m━\u001b[0m\u001b[31m━\u001b[0m\u001b[31m━\u001b[0m\u001b[31m┓\u001b[0m\u001b[31m┃\u001b[0m\u001b[31m┗\u001b[0m\u001b[31m┓\u001b[0m\u001b[31m┃\u001b[0m\u001b[31m┏\u001b[0m\u001b[31m┓\u001b[0m\u001b[31m┏\u001b[0m\u001b[31m┓\u001b[0m\u001b[31m┏\u001b[0m\u001b[31m┓\u001b[0m\u001b[31m┏\u001b[0m\u001b[31m━\u001b[0m\u001b[31m━\u001b[0m\u001b[31m━\u001b[0m\u001b[31m━\u001b[0m\u001b[31m┛\u001b[0m\n",
      "\u001b[32mO\u001b[0m\u001b[32mO\u001b[0m\u001b[32mO\u001b[0m\u001b[32mO\u001b[0m\u001b[32mO\u001b[0m\u001b[32mO\u001b[0m\u001b[31m┃\u001b[0m\u001b[31m┗\u001b[0m\u001b[31m┛\u001b[0m\u001b[31m┃\u001b[0m\u001b[31m┗\u001b[0m\u001b[31m┓\u001b[0m\u001b[31m┃\u001b[0m\u001b[31m┏\u001b[0m\u001b[31m━\u001b[0m\u001b[31m┓\u001b[0m\u001b[31m┏\u001b[0m\u001b[31m━\u001b[0m\u001b[31m┓\u001b[0m\u001b[31m┏\u001b[0m\u001b[31m━\u001b[0m\u001b[31m┛\u001b[0m\u001b[31m┗\u001b[0m\u001b[31m┓\u001b[0m\u001b[31m┏\u001b[0m\u001b[31m┓\u001b[0m\u001b[31m┏\u001b[0m\u001b[31m┓\u001b[0m\u001b[31m┏\u001b[0m\u001b[31m━\u001b[0m\u001b[31m━\u001b[0m\u001b[31m┛\u001b[0m\u001b[31m┃\u001b[0m\u001b[31m┃\u001b[0m\u001b[31m┗\u001b[0m\u001b[31m━\u001b[0m\u001b[31m┛\u001b[0m-\u001b[31m┏\u001b[0m\u001b[31m━\u001b[0m\u001b[31m━\u001b[0m\u001b[31m━\u001b[0m\u001b[31m┛\u001b[0m\u001b[31m┗\u001b[0m\u001b[31m━\u001b[0m\u001b[31m┓\u001b[0m\u001b[31m┏\u001b[0m\u001b[31m┓\u001b[0m\u001b[31m┏\u001b[0m\u001b[31m┛\u001b[0m\u001b[31m┃\u001b[0m\u001b[31m┃\u001b[0m\u001b[31m┃\u001b[0m\u001b[31m┃\u001b[0m\u001b[31m┗\u001b[0m\u001b[31m━\u001b[0m\u001b[31m━\u001b[0m\u001b[31m━\u001b[0m\u001b[31m┓\u001b[0m..J|JF-\u001b[31m┏\u001b[0m\u001b[31m━\u001b[0m\u001b[31m┛\u001b[0m\u001b[31m┗\u001b[0m\u001b[31m┓\u001b[0m\u001b[31m┗\u001b[0m\u001b[31m┓\u001b[0m\u001b[31m┃\u001b[0m\u001b[31m┃\u001b[0m\u001b[31m┃\u001b[0m\u001b[31m┃\u001b[0m\u001b[31m┏\u001b[0m\u001b[31m┛\u001b[0m-\u001b[31m┏\u001b[0m\u001b[31m┓\u001b[0m\u001b[31m┗\u001b[0m\u001b[31m┛\u001b[0m\u001b[31m┗\u001b[0m\u001b[31m━\u001b[0m\u001b[31m━\u001b[0m\u001b[31m━\u001b[0m\u001b[31m━\u001b[0m\u001b[31m┓\u001b[0m\u001b[31m┏\u001b[0m\u001b[31m┛\u001b[0m\u001b[31m┗\u001b[0m\u001b[31m┓\u001b[0m\u001b[31m┗\u001b[0m\u001b[31m┛\u001b[0m\u001b[31m┗\u001b[0m\u001b[31m┛\u001b[0m\u001b[31m┏\u001b[0m\u001b[31m┛\u001b[0m\u001b[31m┗\u001b[0m\u001b[31m┛\u001b[0m\u001b[31m┏\u001b[0m\u001b[31m┛\u001b[0m\u001b[31m┃\u001b[0m\u001b[31m┏\u001b[0m\u001b[31m━\u001b[0m\u001b[31m┛\u001b[0m\u001b[31m┗\u001b[0m\u001b[31m┛\u001b[0m\u001b[31m┗\u001b[0m\u001b[31m┛\u001b[0m\u001b[31m┗\u001b[0m\u001b[31m┛\u001b[0m\u001b[31m┗\u001b[0m\u001b[31m┛\u001b[0m\u001b[31m┏\u001b[0m\u001b[31m┓\u001b[0m\u001b[31m┗\u001b[0m\u001b[31m┓\u001b[0m\u001b[31m┏\u001b[0m\u001b[31m━\u001b[0m\u001b[31m┓\u001b[0m\u001b[31m┗\u001b[0m\u001b[31m┛\u001b[0m\u001b[31m┏\u001b[0m\u001b[31m┛\u001b[0m\u001b[31m┗\u001b[0m\u001b[31m┛\u001b[0m\u001b[31m┃\u001b[0m\u001b[31m┃\u001b[0m\u001b[31m┃\u001b[0m\u001b[31m┃\u001b[0m\u001b[31m┃\u001b[0m\u001b[31m┗\u001b[0m\u001b[31m━\u001b[0m\u001b[31m━\u001b[0m\u001b[31m━\u001b[0m\u001b[31m━\u001b[0m\u001b[31m┓\u001b[0m\n",
      "\u001b[32mO\u001b[0m\u001b[32mO\u001b[0m\u001b[32mO\u001b[0m\u001b[32mO\u001b[0m\u001b[32mO\u001b[0m\u001b[32mO\u001b[0m\u001b[31m┗\u001b[0m\u001b[31m━\u001b[0m\u001b[31m┓\u001b[0m\u001b[31m┗\u001b[0m\u001b[31m━\u001b[0m\u001b[31m┛\u001b[0m\u001b[31m┃\u001b[0m\u001b[31m┗\u001b[0m\u001b[31m┓\u001b[0m\u001b[31m┃\u001b[0m\u001b[31m┃\u001b[0m\u001b[31m┏\u001b[0m\u001b[31m┛\u001b[0m\u001b[31m┗\u001b[0m\u001b[31m━\u001b[0m\u001b[31m━\u001b[0m\u001b[31m┓\u001b[0m\u001b[31m┃\u001b[0m\u001b[31m┃\u001b[0m\u001b[31m┃\u001b[0m\u001b[31m┃\u001b[0m\u001b[31m┃\u001b[0m\u001b[31m┗\u001b[0m\u001b[31m┓\u001b[0m\u001b[31m┏\u001b[0m\u001b[31m┓\u001b[0m\u001b[31m┃\u001b[0m\u001b[31m┗\u001b[0m\u001b[31m━\u001b[0m\u001b[31m┓\u001b[0m\u001b[31m┏\u001b[0m\u001b[31m┓\u001b[0m\u001b[31m┃\u001b[0m\u001b[31m┏\u001b[0m\u001b[31m━\u001b[0m\u001b[31m━\u001b[0m\u001b[31m━\u001b[0m\u001b[31m━\u001b[0m\u001b[31m┓\u001b[0m\u001b[31m┗\u001b[0m\u001b[31m┛\u001b[0m\u001b[31m┃\u001b[0m\u001b[31m┗\u001b[0m\u001b[31m┓\u001b[0m\u001b[31m┃\u001b[0m\u001b[31m┃\u001b[0m\u001b[31m┃\u001b[0m\u001b[31m┃\u001b[0m\u001b[31m┏\u001b[0m\u001b[31m━\u001b[0m\u001b[31m━\u001b[0m\u001b[31m┓\u001b[0m\u001b[31m┃\u001b[0m7.F|.|J\u001b[31m┃\u001b[0m\u001b[31m┏\u001b[0m\u001b[31m┓\u001b[0m\u001b[31m┏\u001b[0m\u001b[31m┛\u001b[0m|\u001b[31m┗\u001b[0m\u001b[31m┛\u001b[0m\u001b[31m┃\u001b[0m\u001b[31m┃\u001b[0m\u001b[31m┗\u001b[0m\u001b[31m┛\u001b[0m\u001b[31m┏\u001b[0m\u001b[31m━\u001b[0m\u001b[31m┛\u001b[0m\u001b[31m┃\u001b[0m|\u001b[31m┏\u001b[0m\u001b[31m┓\u001b[0m\u001b[31m┏\u001b[0m\u001b[31m━\u001b[0m\u001b[31m━\u001b[0m\u001b[31m━\u001b[0m\u001b[31m┛\u001b[0m\u001b[31m┃\u001b[0m\u001b[31m┏\u001b[0m\u001b[31m━\u001b[0m\u001b[31m┛\u001b[0m\u001b[31m┏\u001b[0m\u001b[31m━\u001b[0m\u001b[31m━\u001b[0m\u001b[31m┓\u001b[0m\u001b[31m┗\u001b[0m\u001b[31m┓\u001b[0m\u001b[31m┏\u001b[0m\u001b[31m┓\u001b[0m\u001b[31m┗\u001b[0m\u001b[31m━\u001b[0m\u001b[31m┛\u001b[0m\u001b[31m┗\u001b[0m\u001b[31m━\u001b[0m\u001b[31m━\u001b[0m\u001b[31m━\u001b[0m\u001b[31m┓\u001b[0m\u001b[31m┏\u001b[0m\u001b[31m┓\u001b[0m\u001b[31m┏\u001b[0m\u001b[31m━\u001b[0m\u001b[31m━\u001b[0m\u001b[31m━\u001b[0m\u001b[31m┛\u001b[0m\u001b[31m┗\u001b[0m\u001b[31m━\u001b[0m\u001b[31m┛\u001b[0m\u001b[31m┗\u001b[0m\u001b[31m┓\u001b[0m\u001b[31m┗\u001b[0m\u001b[31m┓\u001b[0m\u001b[31m┏\u001b[0m\u001b[31m┛\u001b[0m\u001b[31m┏\u001b[0m\u001b[31m┓\u001b[0m\u001b[31m┏\u001b[0m\u001b[31m┛\u001b[0m\u001b[31m┃\u001b[0m\u001b[31m┗\u001b[0m\u001b[31m┛\u001b[0m\u001b[31m┃\u001b[0m\u001b[31m┏\u001b[0m\u001b[31m┓\u001b[0m\u001b[31m┏\u001b[0m\u001b[31m┓\u001b[0m\u001b[31m┏\u001b[0m\u001b[31m┛\u001b[0m\n",
      "\u001b[32mO\u001b[0m\u001b[32mO\u001b[0m\u001b[32mO\u001b[0m\u001b[32mO\u001b[0m\u001b[32mO\u001b[0m\u001b[32mO\u001b[0m\u001b[32mO\u001b[0m\u001b[32mO\u001b[0m\u001b[31m┗\u001b[0m\u001b[31m┓\u001b[0m\u001b[31m┏\u001b[0m\u001b[31m┓\u001b[0m\u001b[31m┗\u001b[0m\u001b[31m━\u001b[0m\u001b[31m┛\u001b[0m\u001b[31m┗\u001b[0m\u001b[31m┛\u001b[0m\u001b[31m┃\u001b[0m\u001b[31m┏\u001b[0m\u001b[31m━\u001b[0m\u001b[31m━\u001b[0m\u001b[31m━\u001b[0m\u001b[31m┛\u001b[0m\u001b[31m┗\u001b[0m\u001b[31m┛\u001b[0m\u001b[31m┗\u001b[0m\u001b[31m┛\u001b[0m\u001b[31m┃\u001b[0mo\u001b[31m┗\u001b[0m\u001b[31m┛\u001b[0m\u001b[31m┗\u001b[0m\u001b[31m┛\u001b[0m\u001b[31m┏\u001b[0m\u001b[31m┓\u001b[0m\u001b[31m┗\u001b[0m\u001b[31m┛\u001b[0m\u001b[31m┗\u001b[0m\u001b[31m┛\u001b[0m\u001b[31m┗\u001b[0m\u001b[31m━\u001b[0m\u001b[31m━\u001b[0m\u001b[31m━\u001b[0m\u001b[31m┓\u001b[0m\u001b[31m┗\u001b[0m\u001b[31m━\u001b[0m\u001b[31m┓\u001b[0m\u001b[31m┃\u001b[0m|\u001b[31m┗\u001b[0m\u001b[31m┛\u001b[0m\u001b[31m┃\u001b[0m\u001b[31m┃\u001b[0m\u001b[31m┃\u001b[0m\u001b[31m┃\u001b[0m\u001b[31m┏\u001b[0m\u001b[31m┓\u001b[0m\u001b[31m┗\u001b[0m\u001b[31m┛\u001b[0m7-LJ-F-\u001b[31m┗\u001b[0m\u001b[31m┛\u001b[0m\u001b[31m┃\u001b[0m\u001b[31m┗\u001b[0m\u001b[31m┓\u001b[0m7.|\u001b[31m┗\u001b[0m\u001b[31m┛\u001b[0m7\u001b[31m┏\u001b[0m\u001b[31m┛\u001b[0m\u001b[31m┏\u001b[0m\u001b[31m┓\u001b[0m\u001b[31m┗\u001b[0m\u001b[31m━\u001b[0m\u001b[31m┛\u001b[0m\u001b[31m┃\u001b[0m\u001b[31m┗\u001b[0m\u001b[31m━\u001b[0m\u001b[31m┓\u001b[0m\u001b[31m┏\u001b[0m\u001b[31m┓\u001b[0m\u001b[31m┃\u001b[0m\u001b[31m┗\u001b[0m\u001b[31m━\u001b[0m\u001b[31m━\u001b[0m\u001b[31m┛\u001b[0m\u001b[31m┏\u001b[0m\u001b[31m━\u001b[0m\u001b[31m┛\u001b[0m\u001b[31m┏\u001b[0m\u001b[31m┛\u001b[0m\u001b[31m┃\u001b[0m\u001b[31m┃\u001b[0m-\u001b[31m┏\u001b[0m\u001b[31m┓\u001b[0m\u001b[31m┏\u001b[0m\u001b[31m━\u001b[0m\u001b[31m━\u001b[0m\u001b[31m━\u001b[0m\u001b[31m┛\u001b[0m\u001b[31m┃\u001b[0m\u001b[31m┃\u001b[0m\u001b[31m┗\u001b[0m\u001b[31m┓\u001b[0m\u001b[31m┏\u001b[0m\u001b[31m┓\u001b[0m\u001b[31m┏\u001b[0m\u001b[31m┓\u001b[0m\u001b[31m┏\u001b[0m\u001b[31m━\u001b[0m\u001b[31m┓\u001b[0m\u001b[31m┗\u001b[0m\u001b[31m┓\u001b[0m\u001b[31m┗\u001b[0m\u001b[31m┛\u001b[0m\u001b[31m┏\u001b[0m\u001b[31m┛\u001b[0m\u001b[31m┃\u001b[0m\u001b[31m┗\u001b[0m\u001b[31m━\u001b[0m\u001b[31m┛\u001b[0m\u001b[32mO\u001b[0m\u001b[32mO\u001b[0m\u001b[31m┗\u001b[0m\u001b[31m┛\u001b[0m\u001b[31m┗\u001b[0m\u001b[31m┛\u001b[0m\u001b[31m┗\u001b[0m\u001b[31m┛\u001b[0m\u001b[32mO\u001b[0m\n",
      "\u001b[32mO\u001b[0m\u001b[32mO\u001b[0m\u001b[32mO\u001b[0m\u001b[32mO\u001b[0m\u001b[32mO\u001b[0m\u001b[32mO\u001b[0m\u001b[32mO\u001b[0m\u001b[32mO\u001b[0m\u001b[32mO\u001b[0m\u001b[31m┗\u001b[0m\u001b[31m┛\u001b[0m\u001b[31m┗\u001b[0m\u001b[31m━\u001b[0m\u001b[31m━\u001b[0m\u001b[31m━\u001b[0m\u001b[31m━\u001b[0m\u001b[31m┓\u001b[0m\u001b[31m┃\u001b[0m\u001b[31m┗\u001b[0m\u001b[31m━\u001b[0m\u001b[31m━\u001b[0m\u001b[31m━\u001b[0m\u001b[31m━\u001b[0m\u001b[31m━\u001b[0m\u001b[31m┓\u001b[0m\u001b[31m┏\u001b[0m\u001b[31m┓\u001b[0m\u001b[31m┗\u001b[0m\u001b[31m┓\u001b[0m\u001b[31m┏\u001b[0m\u001b[31m━\u001b[0m\u001b[31m┓\u001b[0m\u001b[31m┏\u001b[0m\u001b[31m┛\u001b[0m\u001b[31m┗\u001b[0m\u001b[31m━\u001b[0m\u001b[31m┓\u001b[0m\u001b[31m┏\u001b[0m\u001b[31m━\u001b[0m\u001b[31m━\u001b[0m\u001b[31m━\u001b[0m\u001b[31m━\u001b[0m\u001b[31m┓\u001b[0m\u001b[31m┗\u001b[0m\u001b[31m━\u001b[0m\u001b[31m┓\u001b[0m\u001b[31m┃\u001b[0m\u001b[31m┗\u001b[0m\u001b[31m━\u001b[0m\u001b[31m━\u001b[0m\u001b[31m┓\u001b[0m\u001b[31m┗\u001b[0m\u001b[31m┛\u001b[0m\u001b[31m┃\u001b[0m\u001b[31m┃\u001b[0m\u001b[31m┃\u001b[0m\u001b[31m┗\u001b[0m\u001b[31m┓\u001b[0mJJFLJFLLFL\u001b[31m┗\u001b[0m\u001b[31m┓\u001b[0m\u001b[31m┗\u001b[0m\u001b[31m┓\u001b[0m-J|L\u001b[31m┏\u001b[0m\u001b[31m┛\u001b[0m\u001b[31m┏\u001b[0m\u001b[31m┛\u001b[0m\u001b[31m┃\u001b[0m\u001b[31m┏\u001b[0m\u001b[31m━\u001b[0m\u001b[31m┓\u001b[0m\u001b[31m┗\u001b[0m\u001b[31m━\u001b[0m\u001b[31m━\u001b[0m\u001b[31m┛\u001b[0m\u001b[31m┃\u001b[0m\u001b[31m┃\u001b[0m\u001b[31m┃\u001b[0m\u001b[31m┏\u001b[0m\u001b[31m━\u001b[0m\u001b[31m┓\u001b[0m\u001b[31m┏\u001b[0m\u001b[31m┛\u001b[0m\u001b[31m┏\u001b[0m\u001b[31m┓\u001b[0m\u001b[31m┃\u001b[0m\u001b[31m┏\u001b[0m\u001b[31m┛\u001b[0m\u001b[31m┗\u001b[0m\u001b[31m━\u001b[0m\u001b[31m┛\u001b[0m\u001b[31m┗\u001b[0m\u001b[31m┛\u001b[0m\u001b[31m┏\u001b[0m\u001b[31m┓\u001b[0m\u001b[31m┏\u001b[0m\u001b[31m━\u001b[0m\u001b[31m┛\u001b[0m\u001b[31m┗\u001b[0m\u001b[31m┓\u001b[0m\u001b[31m┃\u001b[0m\u001b[31m┃\u001b[0m\u001b[31m┗\u001b[0m\u001b[31m┛\u001b[0m\u001b[31m┗\u001b[0m\u001b[31m┛\u001b[0mo\u001b[31m┗\u001b[0m\u001b[31m┓\u001b[0m\u001b[31m┗\u001b[0m\u001b[31m━\u001b[0m\u001b[31m━\u001b[0m\u001b[31m┛\u001b[0m\u001b[31m┏\u001b[0m\u001b[31m┛\u001b[0m\u001b[32mO\u001b[0m\u001b[32mO\u001b[0m\u001b[32mO\u001b[0m\u001b[32mO\u001b[0m\u001b[32mO\u001b[0m\u001b[32mO\u001b[0m\u001b[32mO\u001b[0m\u001b[32mO\u001b[0m\u001b[32mO\u001b[0m\u001b[32mO\u001b[0m\u001b[32mO\u001b[0m\u001b[32mO\u001b[0m\n",
      "\u001b[32mO\u001b[0m\u001b[32mO\u001b[0m\u001b[32mO\u001b[0m\u001b[32mO\u001b[0m\u001b[32mO\u001b[0m\u001b[32mO\u001b[0m\u001b[31m┏\u001b[0m\u001b[31m┓\u001b[0m\u001b[31m┏\u001b[0m\u001b[31m┓\u001b[0m\u001b[31m┏\u001b[0m\u001b[31m┓\u001b[0m\u001b[31m┏\u001b[0m\u001b[31m┓\u001b[0m\u001b[31m┏\u001b[0m\u001b[31m┓\u001b[0m\u001b[31m┃\u001b[0m\u001b[31m┃\u001b[0m\u001b[31m┏\u001b[0m\u001b[31m┓\u001b[0m\u001b[31m┏\u001b[0m\u001b[31m┓\u001b[0m\u001b[31m┏\u001b[0m\u001b[31m┓\u001b[0m\u001b[31m┗\u001b[0m\u001b[31m┛\u001b[0m\u001b[31m┗\u001b[0m\u001b[31m┓\u001b[0m\u001b[31m┃\u001b[0m\u001b[31m┗\u001b[0m\u001b[31m┓\u001b[0m\u001b[31m┃\u001b[0m\u001b[31m┗\u001b[0m\u001b[31m━\u001b[0m\u001b[31m━\u001b[0m\u001b[31m┓\u001b[0m\u001b[31m┗\u001b[0m\u001b[31m┛\u001b[0m\u001b[31m┏\u001b[0m\u001b[31m━\u001b[0m\u001b[31m━\u001b[0m\u001b[31m┓\u001b[0m\u001b[31m┃\u001b[0m\u001b[31m┏\u001b[0m\u001b[31m━\u001b[0m\u001b[31m┛\u001b[0m\u001b[31m┗\u001b[0m\u001b[31m┓\u001b[0m\u001b[31m┏\u001b[0m\u001b[31m┓\u001b[0m\u001b[31m┗\u001b[0m\u001b[31m┓\u001b[0m\u001b[31m┏\u001b[0m\u001b[31m┛\u001b[0m\u001b[31m┃\u001b[0m\u001b[31m┃\u001b[0m\u001b[31m┏\u001b[0m\u001b[31m┛\u001b[0mJ|JLF|-FLJL\u001b[31m┗\u001b[0m\u001b[31m━\u001b[0m\u001b[31m┛\u001b[0m.LJ.\u001b[31m┗\u001b[0m\u001b[31m┓\u001b[0m\u001b[31m┃\u001b[0m\u001b[31m┏\u001b[0m\u001b[31m┛\u001b[0m\u001b[31m┃\u001b[0m|\u001b[31m┗\u001b[0m\u001b[31m┓\u001b[0m\u001b[31m┏\u001b[0m\u001b[31m━\u001b[0m\u001b[31m┓\u001b[0m\u001b[31m┃\u001b[0m\u001b[31m┗\u001b[0m\u001b[31m┛\u001b[0m\u001b[31m┗\u001b[0m\u001b[31m┓\u001b[0m\u001b[31m┗\u001b[0m\u001b[31m┛\u001b[0m\u001b[31m┏\u001b[0m\u001b[31m┛\u001b[0m\u001b[31m┗\u001b[0m\u001b[31m┛\u001b[0m\u001b[31m┃\u001b[0m\u001b[31m┏\u001b[0m\u001b[31m┓\u001b[0m\u001b[31m┏\u001b[0m\u001b[31m━\u001b[0m\u001b[31m━\u001b[0m\u001b[31m━\u001b[0m\u001b[31m┛\u001b[0m\u001b[31m┗\u001b[0m\u001b[31m┛\u001b[0m\u001b[31m┏\u001b[0m\u001b[31m━\u001b[0m\u001b[31m━\u001b[0m\u001b[31m┛\u001b[0m\u001b[31m┃\u001b[0m\u001b[31m┃\u001b[0m\u001b[31m┏\u001b[0m\u001b[31m━\u001b[0m\u001b[31m┓\u001b[0m\u001b[31m┏\u001b[0m\u001b[31m━\u001b[0m\u001b[31m┓\u001b[0m\u001b[31m┃\u001b[0m\u001b[31m┏\u001b[0m\u001b[31m━\u001b[0m\u001b[31m┓\u001b[0m\u001b[31m┏\u001b[0m\u001b[31m┛\u001b[0m\u001b[32mO\u001b[0m\u001b[32mO\u001b[0m\u001b[32mO\u001b[0m\u001b[32mO\u001b[0m\u001b[32mO\u001b[0m\u001b[32mO\u001b[0m\u001b[32mO\u001b[0m\u001b[32mO\u001b[0m\u001b[32mO\u001b[0m\u001b[32mO\u001b[0m\u001b[32mO\u001b[0m\u001b[32mO\u001b[0m\u001b[32mO\u001b[0m\n",
      "\u001b[32mO\u001b[0m\u001b[32mO\u001b[0m\u001b[32mO\u001b[0m\u001b[32mO\u001b[0m\u001b[32mO\u001b[0m\u001b[31m┏\u001b[0m\u001b[31m┛\u001b[0m\u001b[31m┗\u001b[0m\u001b[31m┛\u001b[0m\u001b[31m┗\u001b[0m\u001b[31m┛\u001b[0m\u001b[31m┗\u001b[0m\u001b[31m┛\u001b[0m\u001b[31m┗\u001b[0m\u001b[31m┛\u001b[0m\u001b[31m┗\u001b[0m\u001b[31m┛\u001b[0m\u001b[31m┗\u001b[0m\u001b[31m┛\u001b[0m\u001b[31m┃\u001b[0m\u001b[31m┃\u001b[0m\u001b[31m┗\u001b[0m\u001b[31m┛\u001b[0m\u001b[31m┃\u001b[0m\u001b[31m┏\u001b[0m\u001b[31m━\u001b[0m\u001b[31m━\u001b[0m\u001b[31m┛\u001b[0m\u001b[31m┗\u001b[0m\u001b[31m━\u001b[0m\u001b[31m┛\u001b[0m\u001b[31m┗\u001b[0m\u001b[31m━\u001b[0m\u001b[31m━\u001b[0m\u001b[31m┓\u001b[0m\u001b[31m┗\u001b[0m\u001b[31m━\u001b[0m\u001b[31m┓\u001b[0m\u001b[31m┃\u001b[0m\u001b[31m┏\u001b[0m\u001b[31m━\u001b[0m\u001b[31m┛\u001b[0m\u001b[31m┃\u001b[0m\u001b[31m┗\u001b[0m\u001b[31m━\u001b[0m\u001b[31m━\u001b[0m\u001b[31m┓\u001b[0m\u001b[31m┃\u001b[0m\u001b[31m┃\u001b[0m\u001b[31m┗\u001b[0m\u001b[31m┓\u001b[0m\u001b[31m┃\u001b[0m\u001b[31m┗\u001b[0m\u001b[31m┓\u001b[0m\u001b[31m┗\u001b[0m\u001b[31m┛\u001b[0m\u001b[31m┗\u001b[0m\u001b[31m┓\u001b[0mL7.F-JJL|F|JLLF7JFL\u001b[31m┃\u001b[0m\u001b[31m┃\u001b[0m\u001b[31m┗\u001b[0m\u001b[31m━\u001b[0m\u001b[31m┛\u001b[0m\u001b[31m┏\u001b[0m\u001b[31m━\u001b[0m\u001b[31m┛\u001b[0m\u001b[31m┗\u001b[0m\u001b[31m┓\u001b[0m\u001b[31m┗\u001b[0m\u001b[31m┛\u001b[0m\u001b[31m┏\u001b[0m\u001b[31m━\u001b[0m\u001b[31m━\u001b[0m\u001b[31m┛\u001b[0m\u001b[31m┏\u001b[0m\u001b[31m┓\u001b[0m\u001b[31m┃\u001b[0m\u001b[31m┏\u001b[0m\u001b[31m┓\u001b[0m-\u001b[31m┗\u001b[0m\u001b[31m┛\u001b[0m\u001b[31m┗\u001b[0m\u001b[31m┛\u001b[0m\u001b[31m┏\u001b[0m\u001b[31m┓\u001b[0m\u001b[31m┏\u001b[0m\u001b[31m━\u001b[0m\u001b[31m━\u001b[0m\u001b[31m━\u001b[0m\u001b[31m┛\u001b[0m\u001b[31m┏\u001b[0m\u001b[31m┓\u001b[0mo\u001b[31m┃\u001b[0m\u001b[31m┃\u001b[0m\u001b[31m┃\u001b[0m\u001b[31m┏\u001b[0m\u001b[31m┛\u001b[0m\u001b[31m┃\u001b[0m\u001b[31m┏\u001b[0m\u001b[31m┛\u001b[0m\u001b[31m┗\u001b[0m\u001b[31m┛\u001b[0m\u001b[32mO\u001b[0m\u001b[31m┗\u001b[0m\u001b[31m┛\u001b[0m\u001b[32mO\u001b[0m\u001b[32mO\u001b[0m\u001b[32mO\u001b[0m\u001b[32mO\u001b[0m\u001b[32mO\u001b[0m\u001b[32mO\u001b[0m\u001b[32mO\u001b[0m\u001b[32mO\u001b[0m\u001b[32mO\u001b[0m\u001b[32mO\u001b[0m\u001b[32mO\u001b[0m\u001b[32mO\u001b[0m\u001b[32mO\u001b[0m\u001b[32mO\u001b[0m\n",
      "\u001b[32mO\u001b[0m\u001b[32mO\u001b[0m\u001b[32mO\u001b[0m\u001b[32mO\u001b[0m\u001b[32mO\u001b[0m\u001b[31m┃\u001b[0m\u001b[31m┏\u001b[0m\u001b[31m━\u001b[0m\u001b[31m┓\u001b[0m\u001b[31m┏\u001b[0m\u001b[31m━\u001b[0m\u001b[31m┓\u001b[0m\u001b[31m┏\u001b[0m\u001b[31m┓\u001b[0m\u001b[31m┏\u001b[0m\u001b[31m━\u001b[0m\u001b[31m┓\u001b[0m\u001b[31m┏\u001b[0m\u001b[31m┓\u001b[0m\u001b[31m┃\u001b[0m\u001b[31m┗\u001b[0m\u001b[31m┓\u001b[0m\u001b[31m┏\u001b[0m\u001b[31m┛\u001b[0m\u001b[31m┗\u001b[0m\u001b[31m┓\u001b[0m\u001b[31m┏\u001b[0m\u001b[31m┓\u001b[0m\u001b[31m┏\u001b[0m\u001b[31m━\u001b[0m\u001b[31m┓\u001b[0m\u001b[31m┏\u001b[0m\u001b[31m━\u001b[0m\u001b[31m┓\u001b[0m\u001b[31m┗\u001b[0m\u001b[31m━\u001b[0m\u001b[31m━\u001b[0m\u001b[31m┛\u001b[0m\u001b[31m┃\u001b[0m\u001b[31m┃\u001b[0m\u001b[31m┏\u001b[0m\u001b[31m┓\u001b[0m\u001b[31m┗\u001b[0m\u001b[31m━\u001b[0m\u001b[31m━\u001b[0m\u001b[31m━\u001b[0m\u001b[31m┛\u001b[0m\u001b[31m┗\u001b[0m\u001b[31m┛\u001b[0m.\u001b[31m┗\u001b[0m\u001b[31m┛\u001b[0mL\u001b[31m┃\u001b[0m\u001b[31m┏\u001b[0m\u001b[31m━\u001b[0m\u001b[31m┓\u001b[0m\u001b[31m┗\u001b[0m\u001b[31m┓\u001b[0mJ-LLJF-7-|7-.-|.7.\u001b[31m┗\u001b[0m\u001b[31m┛\u001b[0mL\u001b[31m┏\u001b[0m\u001b[31m┓\u001b[0m\u001b[31m┗\u001b[0m\u001b[31m┓\u001b[0m\u001b[31m┏\u001b[0m\u001b[31m━\u001b[0m\u001b[31m┛\u001b[0m\u001b[31m┏\u001b[0m\u001b[31m┓\u001b[0m\u001b[31m┗\u001b[0m\u001b[31m━\u001b[0m\u001b[31m━\u001b[0m\u001b[31m━\u001b[0m\u001b[31m┛\u001b[0m\u001b[31m┗\u001b[0m\u001b[31m┛\u001b[0m\u001b[31m┃\u001b[0m\u001b[31m┃\u001b[0m\u001b[31m┏\u001b[0m\u001b[31m┓\u001b[0m\u001b[31m┏\u001b[0m\u001b[31m┓\u001b[0mJ\u001b[31m┃\u001b[0m\u001b[31m┃\u001b[0m\u001b[31m┗\u001b[0m\u001b[31m┓\u001b[0m\u001b[31m┏\u001b[0m\u001b[31m━\u001b[0m\u001b[31m━\u001b[0m\u001b[31m┛\u001b[0m\u001b[31m┗\u001b[0m\u001b[31m┓\u001b[0m\u001b[31m┃\u001b[0m\u001b[31m┗\u001b[0m\u001b[31m┛\u001b[0m\u001b[31m┗\u001b[0m\u001b[31m━\u001b[0m\u001b[31m┛\u001b[0m\u001b[31m┗\u001b[0m\u001b[31m━\u001b[0m\u001b[31m━\u001b[0m\u001b[31m┓\u001b[0m\u001b[32mO\u001b[0m\u001b[32mO\u001b[0m\u001b[32mO\u001b[0m\u001b[32mO\u001b[0m\u001b[32mO\u001b[0m\u001b[32mO\u001b[0m\u001b[32mO\u001b[0m\u001b[32mO\u001b[0m\u001b[32mO\u001b[0m\u001b[32mO\u001b[0m\u001b[32mO\u001b[0m\u001b[32mO\u001b[0m\u001b[32mO\u001b[0m\u001b[32mO\u001b[0m\u001b[32mO\u001b[0m\u001b[32mO\u001b[0m\u001b[32mO\u001b[0m\n",
      "\u001b[32mO\u001b[0m\u001b[32mO\u001b[0m\u001b[32mO\u001b[0m\u001b[32mO\u001b[0m\u001b[32mO\u001b[0m\u001b[31m┗\u001b[0m\u001b[31m┛\u001b[0m\u001b[31m┏\u001b[0m\u001b[31m┛\u001b[0m\u001b[31m┃\u001b[0m\u001b[31m┏\u001b[0m\u001b[31m┛\u001b[0m\u001b[31m┃\u001b[0m\u001b[31m┗\u001b[0m\u001b[31m┛\u001b[0m\u001b[31m┏\u001b[0m\u001b[31m┛\u001b[0m\u001b[31m┃\u001b[0m\u001b[31m┃\u001b[0m\u001b[31m┗\u001b[0m\u001b[31m━\u001b[0m\u001b[31m┛\u001b[0m\u001b[31m┗\u001b[0m\u001b[31m━\u001b[0m\u001b[31m━\u001b[0m\u001b[31m┛\u001b[0m\u001b[31m┃\u001b[0m\u001b[31m┗\u001b[0m\u001b[31m┛\u001b[0m\u001b[31m┏\u001b[0m\u001b[31m┛\u001b[0m\u001b[31m┃\u001b[0m\u001b[31m┏\u001b[0m\u001b[31m┛\u001b[0m\u001b[31m┏\u001b[0m\u001b[31m┓\u001b[0m.\u001b[31m┏\u001b[0m\u001b[31m┛\u001b[0m\u001b[31m┗\u001b[0m\u001b[31m┛\u001b[0m\u001b[31m┗\u001b[0m\u001b[31m┓\u001b[0m\u001b[31m┏\u001b[0m\u001b[31m┓\u001b[0m\u001b[31m┏\u001b[0m\u001b[31m┓\u001b[0m\u001b[31m┏\u001b[0m\u001b[31m┓\u001b[0m-\u001b[31m┏\u001b[0m\u001b[31m┓\u001b[0mL\u001b[31m┗\u001b[0m\u001b[31m┛\u001b[0m|\u001b[31m┗\u001b[0m\u001b[31m━\u001b[0m\u001b[31m┛\u001b[0m|--7.L|.LL|J|JL-|\u001b[31m┏\u001b[0m\u001b[31m┓\u001b[0m-\u001b[31m┏\u001b[0m\u001b[31m┛\u001b[0m\u001b[31m┗\u001b[0m\u001b[31m┓\u001b[0m\u001b[31m┗\u001b[0m\u001b[31m┛\u001b[0m\u001b[31m┏\u001b[0m\u001b[31m┓\u001b[0m\u001b[31m┃\u001b[0m\u001b[31m┃\u001b[0m\u001b[31m┏\u001b[0m\u001b[31m┓\u001b[0m\u001b[31m┏\u001b[0m\u001b[31m┓\u001b[0m\u001b[31m┏\u001b[0m\u001b[31m┓\u001b[0m\u001b[31m┏\u001b[0m\u001b[31m┛\u001b[0m\u001b[31m┃\u001b[0m\u001b[31m┃\u001b[0m\u001b[31m┗\u001b[0m\u001b[31m┛\u001b[0m\u001b[31m┗\u001b[0m\u001b[31m━\u001b[0m\u001b[31m┛\u001b[0m\u001b[31m┗\u001b[0m\u001b[31m━\u001b[0m\u001b[31m┛\u001b[0m\u001b[31m┃\u001b[0m\u001b[31m┏\u001b[0m\u001b[31m━\u001b[0m\u001b[31m━\u001b[0m\u001b[31m━\u001b[0m\u001b[31m┛\u001b[0m\u001b[31m┃\u001b[0m\u001b[31m┏\u001b[0m\u001b[31m━\u001b[0m\u001b[31m━\u001b[0m\u001b[31m━\u001b[0m\u001b[31m━\u001b[0m\u001b[31m┓\u001b[0m\u001b[31m┏\u001b[0m\u001b[31m━\u001b[0m\u001b[31m┛\u001b[0m\u001b[31m┏\u001b[0m\u001b[31m┓\u001b[0m\u001b[32mO\u001b[0m\u001b[32mO\u001b[0m\u001b[32mO\u001b[0m\u001b[32mO\u001b[0m\u001b[32mO\u001b[0m\u001b[32mO\u001b[0m\u001b[32mO\u001b[0m\u001b[32mO\u001b[0m\u001b[32mO\u001b[0m\u001b[32mO\u001b[0m\u001b[32mO\u001b[0m\u001b[32mO\u001b[0m\u001b[32mO\u001b[0m\u001b[32mO\u001b[0m\u001b[32mO\u001b[0m\n",
      "\u001b[32mO\u001b[0m\u001b[32mO\u001b[0m\u001b[32mO\u001b[0m\u001b[31m┏\u001b[0m\u001b[31m━\u001b[0m\u001b[31m━\u001b[0m\u001b[31m┓\u001b[0m\u001b[31m┗\u001b[0m\u001b[31m━\u001b[0m\u001b[31m┛\u001b[0m\u001b[31m┗\u001b[0m\u001b[31m━\u001b[0m\u001b[31m┛\u001b[0m\u001b[31m┏\u001b[0m\u001b[31m━\u001b[0m\u001b[31m┛\u001b[0m\u001b[31m┏\u001b[0m\u001b[31m┛\u001b[0m\u001b[31m┗\u001b[0m\u001b[31m┓\u001b[0m\u001b[31m┏\u001b[0m\u001b[31m┓\u001b[0m\u001b[31m┏\u001b[0m\u001b[31m┓\u001b[0m\u001b[31m┏\u001b[0m\u001b[31m┓\u001b[0m\u001b[31m┗\u001b[0m\u001b[31m┓\u001b[0mo\u001b[31m┗\u001b[0m\u001b[31m┓\u001b[0m\u001b[31m┃\u001b[0m\u001b[31m┗\u001b[0m\u001b[31m━\u001b[0m\u001b[31m┛\u001b[0m\u001b[31m┗\u001b[0m\u001b[31m━\u001b[0m\u001b[31m┛\u001b[0m\u001b[31m┏\u001b[0m\u001b[31m┓\u001b[0m\u001b[31m┏\u001b[0m\u001b[31m┓\u001b[0m\u001b[31m┗\u001b[0m\u001b[31m┛\u001b[0m\u001b[31m┗\u001b[0m\u001b[31m┛\u001b[0m\u001b[31m┗\u001b[0m\u001b[31m┛\u001b[0m\u001b[31m┗\u001b[0m\u001b[31m━\u001b[0m\u001b[31m┛\u001b[0m\u001b[31m┗\u001b[0m\u001b[31m┓\u001b[0m.\u001b[31m┏\u001b[0m\u001b[31m┓\u001b[0m7\u001b[31m┏\u001b[0m\u001b[31m┓\u001b[0m---JJJ|F7-F-|7--\u001b[31m┏\u001b[0m\u001b[31m┛\u001b[0m\u001b[31m┗\u001b[0m\u001b[31m┓\u001b[0m\u001b[31m┗\u001b[0m\u001b[31m━\u001b[0m\u001b[31m┓\u001b[0m\u001b[31m┗\u001b[0m\u001b[31m━\u001b[0m\u001b[31m━\u001b[0m\u001b[31m┛\u001b[0m\u001b[31m┗\u001b[0m\u001b[31m┛\u001b[0m\u001b[31m┗\u001b[0m\u001b[31m┛\u001b[0m\u001b[31m┗\u001b[0m\u001b[31m┛\u001b[0m\u001b[31m┗\u001b[0m\u001b[31m┛\u001b[0m\u001b[31m┃\u001b[0m\u001b[31m┗\u001b[0m\u001b[31m┓\u001b[0m\u001b[31m┃\u001b[0m\u001b[31m┗\u001b[0m\u001b[31m━\u001b[0m\u001b[31m┓\u001b[0m\u001b[31m┏\u001b[0m\u001b[31m━\u001b[0m\u001b[31m┓\u001b[0m\u001b[31m┏\u001b[0m\u001b[31m┓\u001b[0mo\u001b[31m┃\u001b[0m\u001b[31m┗\u001b[0m\u001b[31m━\u001b[0m\u001b[31m━\u001b[0m\u001b[31m━\u001b[0m\u001b[31m━\u001b[0m\u001b[31m┛\u001b[0m\u001b[31m┗\u001b[0m\u001b[31m━\u001b[0m\u001b[31m━\u001b[0m\u001b[31m━\u001b[0m\u001b[31m┓\u001b[0m\u001b[31m┃\u001b[0m\u001b[31m┗\u001b[0m\u001b[31m━\u001b[0m\u001b[31m━\u001b[0m\u001b[31m┛\u001b[0m\u001b[31m┗\u001b[0m\u001b[31m┓\u001b[0m\u001b[32mO\u001b[0m\u001b[32mO\u001b[0m\u001b[32mO\u001b[0m\u001b[32mO\u001b[0m\u001b[32mO\u001b[0m\u001b[32mO\u001b[0m\u001b[32mO\u001b[0m\u001b[32mO\u001b[0m\u001b[32mO\u001b[0m\u001b[32mO\u001b[0m\u001b[32mO\u001b[0m\u001b[32mO\u001b[0m\u001b[32mO\u001b[0m\u001b[32mO\u001b[0m\n",
      "\u001b[32mO\u001b[0m\u001b[32mO\u001b[0m\u001b[32mO\u001b[0m\u001b[31m┗\u001b[0m\u001b[31m━\u001b[0m\u001b[31m┓\u001b[0m\u001b[31m┃\u001b[0m\u001b[31m┏\u001b[0m\u001b[31m━\u001b[0m\u001b[31m━\u001b[0m\u001b[31m┓\u001b[0m\u001b[31m┏\u001b[0m\u001b[31m┓\u001b[0m\u001b[31m┗\u001b[0m\u001b[31m┓\u001b[0m\u001b[31m┏\u001b[0m\u001b[31m┛\u001b[0m\u001b[31m┏\u001b[0m\u001b[31m┓\u001b[0m\u001b[31m┗\u001b[0m\u001b[31m┛\u001b[0m\u001b[31m┃\u001b[0m\u001b[31m┃\u001b[0m\u001b[31m┗\u001b[0m\u001b[31m┛\u001b[0m\u001b[31m┗\u001b[0m\u001b[31m┓\u001b[0m\u001b[31m┃\u001b[0m\u001b[31m┏\u001b[0m\u001b[31m━\u001b[0m\u001b[31m┛\u001b[0m\u001b[31m┃\u001b[0m\u001b[31m┏\u001b[0m\u001b[31m━\u001b[0m\u001b[31m━\u001b[0m\u001b[31m━\u001b[0m\u001b[31m━\u001b[0m\u001b[31m━\u001b[0m\u001b[31m┛\u001b[0m\u001b[31m┃\u001b[0m\u001b[31m┃\u001b[0m\u001b[31m┗\u001b[0m\u001b[31m┓\u001b[0m\u001b[31m┏\u001b[0m\u001b[31m┓\u001b[0m\u001b[31m┏\u001b[0m\u001b[31m━\u001b[0m\u001b[31m━\u001b[0m\u001b[31m━\u001b[0m\u001b[31m┓\u001b[0m\u001b[31m┏\u001b[0m\u001b[31m━\u001b[0m\u001b[31m┛\u001b[0m7\u001b[31m┃\u001b[0m\u001b[31m┗\u001b[0m\u001b[31m━\u001b[0m\u001b[31m┛\u001b[0m\u001b[31m┃\u001b[0mJ7..LF--JF|F|L-J\u001b[31m┗\u001b[0m\u001b[31m━\u001b[0m\u001b[31m┓\u001b[0m\u001b[31m┗\u001b[0m\u001b[31m┓\u001b[0m\u001b[31m┏\u001b[0m\u001b[31m┛\u001b[0m\u001b[31m┏\u001b[0m\u001b[31m━\u001b[0m\u001b[31m━\u001b[0m\u001b[31m┓\u001b[0m\u001b[31m┏\u001b[0m\u001b[31m━\u001b[0m\u001b[31m┓\u001b[0m\u001b[31m┏\u001b[0m\u001b[31m━\u001b[0m\u001b[31m━\u001b[0m\u001b[31m━\u001b[0m\u001b[31m┓\u001b[0m\u001b[31m┗\u001b[0m\u001b[31m━\u001b[0m\u001b[31m┛\u001b[0m\u001b[31m┃\u001b[0m\u001b[31m┏\u001b[0m\u001b[31m━\u001b[0m\u001b[31m┛\u001b[0m\u001b[31m┃\u001b[0mF\u001b[31m┗\u001b[0m\u001b[31m┛\u001b[0m\u001b[31m┗\u001b[0m\u001b[31m━\u001b[0m\u001b[31m┛\u001b[0m\u001b[31m┏\u001b[0m\u001b[31m━\u001b[0m\u001b[31m┓\u001b[0m\u001b[31m┏\u001b[0m\u001b[31m┓\u001b[0m\u001b[31m┏\u001b[0m\u001b[31m━\u001b[0m\u001b[31m━\u001b[0m\u001b[31m━\u001b[0m\u001b[31m━\u001b[0m\u001b[31m┛\u001b[0m\u001b[31m┃\u001b[0m\u001b[31m┏\u001b[0m\u001b[31m━\u001b[0m\u001b[31m━\u001b[0m\u001b[31m━\u001b[0m\u001b[31m━\u001b[0m\u001b[31m┛\u001b[0m\u001b[31m┏\u001b[0m\u001b[31m┓\u001b[0m\u001b[32mO\u001b[0m\u001b[32mO\u001b[0m\u001b[32mO\u001b[0m\u001b[32mO\u001b[0m\u001b[32mO\u001b[0m\u001b[32mO\u001b[0m\u001b[32mO\u001b[0m\u001b[32mO\u001b[0m\u001b[32mO\u001b[0m\u001b[32mO\u001b[0m\u001b[32mO\u001b[0m\u001b[32mO\u001b[0m\n",
      "\u001b[32mO\u001b[0m\u001b[32mO\u001b[0m\u001b[31m┏\u001b[0m\u001b[31m━\u001b[0m\u001b[31m━\u001b[0m\u001b[31m┛\u001b[0m\u001b[31m┗\u001b[0m\u001b[31m┛\u001b[0m\u001b[31m┏\u001b[0m\u001b[31m┓\u001b[0m\u001b[31m┃\u001b[0m\u001b[31m┃\u001b[0m\u001b[31m┃\u001b[0m\u001b[31m┏\u001b[0m\u001b[31m┛\u001b[0m\u001b[31m┃\u001b[0m\u001b[31m┏\u001b[0m\u001b[31m┛\u001b[0m\u001b[31m┗\u001b[0m\u001b[31m━\u001b[0m\u001b[31m━\u001b[0m\u001b[31m┛\u001b[0m\u001b[31m┃\u001b[0m\u001b[31m┏\u001b[0m\u001b[31m┓\u001b[0mo\u001b[31m┃\u001b[0m\u001b[31m┃\u001b[0m\u001b[31m┗\u001b[0m\u001b[31m━\u001b[0m\u001b[31m┓\u001b[0m\u001b[31m┃\u001b[0m\u001b[31m┗\u001b[0m\u001b[31m━\u001b[0m\u001b[31m━\u001b[0m\u001b[31m┓\u001b[0m\u001b[31m┏\u001b[0m\u001b[31m┓\u001b[0mJ\u001b[31m┃\u001b[0m\u001b[31m┗\u001b[0m\u001b[31m┓\u001b[0m\u001b[31m┃\u001b[0m\u001b[31m┃\u001b[0m\u001b[31m┗\u001b[0m\u001b[31m┛\u001b[0mF\u001b[31m┏\u001b[0m\u001b[31m┓\u001b[0m\u001b[31m┗\u001b[0m\u001b[31m┛\u001b[0m\u001b[31m┏\u001b[0m\u001b[31m━\u001b[0m\u001b[31m┓\u001b[0m\u001b[31m┃\u001b[0m\u001b[31m┏\u001b[0m\u001b[31m━\u001b[0m\u001b[31m━\u001b[0m\u001b[31m┛\u001b[0m777-.F.L-FL|JL|.\u001b[31m┏\u001b[0m\u001b[31m━\u001b[0m\u001b[31m┛\u001b[0m\u001b[31m┏\u001b[0m\u001b[31m┛\u001b[0m\u001b[31m┗\u001b[0m\u001b[31m━\u001b[0m\u001b[31m┛\u001b[0m\u001b[31m┏\u001b[0m\u001b[31m┓\u001b[0m\u001b[31m┗\u001b[0m\u001b[31m┛\u001b[0m\u001b[31m┏\u001b[0m\u001b[31m┛\u001b[0m\u001b[31m┗\u001b[0m\u001b[31m┓\u001b[0m\u001b[31m┏\u001b[0m\u001b[31m━\u001b[0m\u001b[31m┛\u001b[0m\u001b[31m┏\u001b[0m\u001b[31m━\u001b[0m\u001b[31m┓\u001b[0m\u001b[31m┗\u001b[0m\u001b[31m┛\u001b[0m\u001b[31m┏\u001b[0m\u001b[31m┓\u001b[0m\u001b[31m┃\u001b[0m\u001b[31m┏\u001b[0m\u001b[31m━\u001b[0m\u001b[31m━\u001b[0m\u001b[31m━\u001b[0m\u001b[31m━\u001b[0m\u001b[31m━\u001b[0m\u001b[31m┛\u001b[0mo\u001b[31m┗\u001b[0m\u001b[31m┛\u001b[0m\u001b[31m┃\u001b[0m\u001b[31m┗\u001b[0m\u001b[31m━\u001b[0m\u001b[31m━\u001b[0m\u001b[31m━\u001b[0m\u001b[31m┓\u001b[0mo\u001b[31m┗\u001b[0m\u001b[31m┛\u001b[0m\u001b[31m┏\u001b[0m\u001b[31m━\u001b[0m\u001b[31m┓\u001b[0m\u001b[31m┏\u001b[0m\u001b[31m┓\u001b[0m\u001b[31m┃\u001b[0m\u001b[31m┃\u001b[0m\u001b[32mO\u001b[0m\u001b[32mO\u001b[0m\u001b[32mO\u001b[0m\u001b[32mO\u001b[0m\u001b[32mO\u001b[0m\u001b[32mO\u001b[0m\u001b[32mO\u001b[0m\u001b[32mO\u001b[0m\u001b[32mO\u001b[0m\u001b[32mO\u001b[0m\u001b[32mO\u001b[0m\u001b[32mO\u001b[0m\n",
      "\u001b[32mO\u001b[0m\u001b[32mO\u001b[0m\u001b[31m┃\u001b[0m\u001b[31m┏\u001b[0m\u001b[31m┓\u001b[0m\u001b[31m┏\u001b[0m\u001b[31m┓\u001b[0m\u001b[31m┏\u001b[0m\u001b[31m┛\u001b[0m\u001b[31m┃\u001b[0m\u001b[31m┃\u001b[0m\u001b[31m┃\u001b[0m\u001b[31m┃\u001b[0m\u001b[31m┗\u001b[0m\u001b[31m━\u001b[0m\u001b[31m┛\u001b[0m\u001b[31m┗\u001b[0m\u001b[31m━\u001b[0m\u001b[31m━\u001b[0m\u001b[31m━\u001b[0m\u001b[31m━\u001b[0m\u001b[31m┓\u001b[0m\u001b[31m┗\u001b[0m\u001b[31m┛\u001b[0m\u001b[31m┗\u001b[0m\u001b[31m┓\u001b[0m\u001b[31m┗\u001b[0m\u001b[31m┛\u001b[0m\u001b[31m┏\u001b[0m\u001b[31m━\u001b[0m\u001b[31m┛\u001b[0m\u001b[31m┃\u001b[0mo\u001b[31m┏\u001b[0m\u001b[31m┓\u001b[0m\u001b[31m┗\u001b[0m\u001b[31m┛\u001b[0m\u001b[31m┗\u001b[0m\u001b[31m┓\u001b[0m\u001b[31m┗\u001b[0m\u001b[31m━\u001b[0m\u001b[31m┛\u001b[0m\u001b[31m┃\u001b[0m\u001b[31m┗\u001b[0m\u001b[31m┓\u001b[0m\u001b[31m┏\u001b[0m\u001b[31m┓\u001b[0m\u001b[31m┃\u001b[0m\u001b[31m┗\u001b[0m\u001b[31m┓\u001b[0m-\u001b[31m┗\u001b[0m\u001b[31m┓\u001b[0m\u001b[31m┗\u001b[0m\u001b[31m┛\u001b[0m\u001b[31m┗\u001b[0m\u001b[31m┓\u001b[0mJJJLLF-LJ7.|L|.F\u001b[31m┏\u001b[0m\u001b[31m━\u001b[0m\u001b[31m┛\u001b[0m\u001b[31m┏\u001b[0m\u001b[31m┓\u001b[0m\u001b[31m┗\u001b[0m\u001b[31m━\u001b[0m\u001b[31m┓\u001b[0mF\u001b[31m┏\u001b[0m\u001b[31m┛\u001b[0m\u001b[31m┗\u001b[0m\u001b[31m┓\u001b[0m-\u001b[31m┗\u001b[0m\u001b[31m━\u001b[0m\u001b[31m━\u001b[0m\u001b[31m┛\u001b[0m\u001b[31m┗\u001b[0m\u001b[31m━\u001b[0m\u001b[31m┓\u001b[0m\u001b[31m┃\u001b[0m7\u001b[31m┃\u001b[0m\u001b[31m┏\u001b[0m\u001b[31m━\u001b[0m\u001b[31m┛\u001b[0m\u001b[31m┗\u001b[0m\u001b[31m┛\u001b[0m\u001b[31m┗\u001b[0m\u001b[31m━\u001b[0m\u001b[31m━\u001b[0m\u001b[31m━\u001b[0m\u001b[31m━\u001b[0m\u001b[31m━\u001b[0m\u001b[31m┓\u001b[0m\u001b[31m┏\u001b[0m\u001b[31m┓\u001b[0mo\u001b[31m┗\u001b[0m\u001b[31m━\u001b[0m\u001b[31m━\u001b[0m\u001b[31m━\u001b[0m\u001b[31m┓\u001b[0m\u001b[31m┃\u001b[0m\u001b[31m┏\u001b[0m\u001b[31m━\u001b[0m\u001b[31m━\u001b[0m\u001b[31m┛\u001b[0m\u001b[31m┏\u001b[0m\u001b[31m┛\u001b[0m\u001b[31m┃\u001b[0m\u001b[31m┃\u001b[0m\u001b[31m┃\u001b[0m\u001b[31m┃\u001b[0m\u001b[32mO\u001b[0m\u001b[32mO\u001b[0m\u001b[32mO\u001b[0m\u001b[32mO\u001b[0m\u001b[32mO\u001b[0m\u001b[32mO\u001b[0m\u001b[32mO\u001b[0m\u001b[32mO\u001b[0m\u001b[32mO\u001b[0m\u001b[32mO\u001b[0m\u001b[32mO\u001b[0m\u001b[32mO\u001b[0m\n",
      "\u001b[32mO\u001b[0m\u001b[32mO\u001b[0m\u001b[31m┃\u001b[0m\u001b[31m┃\u001b[0m\u001b[31m┗\u001b[0m\u001b[31m┛\u001b[0m\u001b[31m┗\u001b[0m\u001b[31m┛\u001b[0mo\u001b[31m┃\u001b[0m\u001b[31m┗\u001b[0m\u001b[31m┛\u001b[0m\u001b[31m┗\u001b[0m\u001b[31m━\u001b[0m\u001b[31m━\u001b[0m\u001b[31m━\u001b[0m\u001b[31m┓\u001b[0mo\u001b[31m┏\u001b[0m\u001b[31m┓\u001b[0m\u001b[31m┏\u001b[0m\u001b[31m┛\u001b[0m\u001b[31m┏\u001b[0m\u001b[31m━\u001b[0m\u001b[31m━\u001b[0m\u001b[31m┛\u001b[0m\u001b[31m┏\u001b[0m\u001b[31m┓\u001b[0m\u001b[31m┃\u001b[0m\u001b[31m┏\u001b[0m\u001b[31m┓\u001b[0m\u001b[31m┃\u001b[0m\u001b[31m┏\u001b[0m\u001b[31m┛\u001b[0m\u001b[31m┗\u001b[0m\u001b[31m━\u001b[0m\u001b[31m┓\u001b[0m\u001b[31m┏\u001b[0m\u001b[31m┛\u001b[0m\u001b[31m┏\u001b[0m\u001b[31m┓\u001b[0mL\u001b[31m┗\u001b[0m\u001b[31m━\u001b[0m\u001b[31m┛\u001b[0m\u001b[31m┃\u001b[0m\u001b[31m┃\u001b[0m\u001b[31m┗\u001b[0m\u001b[31m┓\u001b[0m\u001b[31m┗\u001b[0m\u001b[31m┓\u001b[0m\u001b[31m┏\u001b[0m\u001b[31m┛\u001b[0m\u001b[31m┏\u001b[0m\u001b[31m┓\u001b[0m\u001b[31m┏\u001b[0m\u001b[31m┛\u001b[0mJ.F|FLJ.F-7F.|FJ\u001b[31m┗\u001b[0m\u001b[31m━\u001b[0m\u001b[31m━\u001b[0m\u001b[31m┛\u001b[0m\u001b[31m┃\u001b[0m\u001b[31m┏\u001b[0m\u001b[31m┓\u001b[0m\u001b[31m┗\u001b[0m\u001b[31m┓\u001b[0m\u001b[31m┗\u001b[0m\u001b[31m━\u001b[0m\u001b[31m┓\u001b[0m\u001b[31m┃\u001b[0m\u001b[31m┏\u001b[0m\u001b[31m┓\u001b[0m\u001b[31m┏\u001b[0m\u001b[31m┓\u001b[0m\u001b[31m┏\u001b[0m\u001b[31m┓\u001b[0m\u001b[31m┏\u001b[0m\u001b[31m┛\u001b[0m\u001b[31m┃\u001b[0m\u001b[31m┏\u001b[0m\u001b[31m┛\u001b[0m\u001b[31m┃\u001b[0m\u001b[31m┏\u001b[0m\u001b[31m━\u001b[0m\u001b[31m━\u001b[0m\u001b[31m━\u001b[0m\u001b[31m━\u001b[0m\u001b[31m━\u001b[0m\u001b[31m━\u001b[0m\u001b[31m━\u001b[0m\u001b[31m━\u001b[0m\u001b[31m━\u001b[0m\u001b[31m┛\u001b[0m\u001b[31m┃\u001b[0m\u001b[31m┗\u001b[0m\u001b[31m┓\u001b[0m\u001b[31m┏\u001b[0m\u001b[31m┓\u001b[0m\u001b[31m┏\u001b[0m\u001b[31m┓\u001b[0m\u001b[31m┗\u001b[0m\u001b[31m┛\u001b[0m\u001b[31m┃\u001b[0m\u001b[31m┏\u001b[0m\u001b[31m━\u001b[0m\u001b[31m━\u001b[0m\u001b[31m┛\u001b[0m\u001b[31m┏\u001b[0m\u001b[31m┛\u001b[0m\u001b[31m┗\u001b[0m\u001b[31m┛\u001b[0m\u001b[31m┗\u001b[0m\u001b[31m━\u001b[0m\u001b[31m┓\u001b[0m\u001b[32mO\u001b[0m\u001b[32mO\u001b[0m\u001b[32mO\u001b[0m\u001b[32mO\u001b[0m\u001b[32mO\u001b[0m\u001b[32mO\u001b[0m\u001b[32mO\u001b[0m\u001b[32mO\u001b[0m\u001b[32mO\u001b[0m\u001b[32mO\u001b[0m\n",
      "\u001b[32mO\u001b[0m\u001b[32mO\u001b[0m\u001b[31m┗\u001b[0m\u001b[31m┛\u001b[0m\u001b[32mO\u001b[0m\u001b[32mO\u001b[0m\u001b[31m┏\u001b[0m\u001b[31m┓\u001b[0m\u001b[31m┏\u001b[0m\u001b[31m┛\u001b[0m\u001b[31m┏\u001b[0m\u001b[31m┓\u001b[0m\u001b[31m┏\u001b[0m\u001b[31m┓\u001b[0m\u001b[31m┏\u001b[0m\u001b[31m┓\u001b[0m\u001b[31m┗\u001b[0m\u001b[31m━\u001b[0m\u001b[31m┛\u001b[0m\u001b[31m┗\u001b[0m\u001b[31m┛\u001b[0m\u001b[31m┏\u001b[0m\u001b[31m┛\u001b[0m\u001b[31m┏\u001b[0m\u001b[31m━\u001b[0m\u001b[31m━\u001b[0m\u001b[31m┛\u001b[0m\u001b[31m┃\u001b[0m\u001b[31m┗\u001b[0m\u001b[31m┛\u001b[0m\u001b[31m┗\u001b[0m\u001b[31m┛\u001b[0m\u001b[31m┗\u001b[0m\u001b[31m━\u001b[0m\u001b[31m━\u001b[0m\u001b[31m┓\u001b[0m\u001b[31m┗\u001b[0m\u001b[31m┛\u001b[0m\u001b[31m┏\u001b[0m\u001b[31m┛\u001b[0m\u001b[31m┗\u001b[0m\u001b[31m┓\u001b[0m|\u001b[31m┏\u001b[0m\u001b[31m━\u001b[0m\u001b[31m┛\u001b[0m\u001b[31m┗\u001b[0m\u001b[31m┓\u001b[0m\u001b[31m┃\u001b[0m\u001b[31m┏\u001b[0m\u001b[31m┛\u001b[0m\u001b[31m┃\u001b[0m\u001b[31m┏\u001b[0m\u001b[31m┛\u001b[0m\u001b[31m┗\u001b[0m\u001b[31m┛\u001b[0mJJ7FL77F-J---7FF-JL|.\u001b[31m┗\u001b[0m\u001b[31m┛\u001b[0m\u001b[31m┗\u001b[0m\u001b[31m┓\u001b[0m\u001b[31m┗\u001b[0m\u001b[31m━\u001b[0m\u001b[31m━\u001b[0m\u001b[31m┛\u001b[0m\u001b[31m┗\u001b[0m\u001b[31m┛\u001b[0m\u001b[31m┃\u001b[0m\u001b[31m┃\u001b[0m\u001b[31m┃\u001b[0m\u001b[31m┃\u001b[0m\u001b[31m┃\u001b[0m\u001b[31m┗\u001b[0m\u001b[31m━\u001b[0m\u001b[31m┛\u001b[0m\u001b[31m┗\u001b[0m\u001b[31m━\u001b[0m\u001b[31m┛\u001b[0m\u001b[31m┗\u001b[0m\u001b[31m━\u001b[0m\u001b[31m━\u001b[0m\u001b[31m┓\u001b[0m\u001b[31m┏\u001b[0m\u001b[31m━\u001b[0m\u001b[31m━\u001b[0m\u001b[31m━\u001b[0m\u001b[31m━\u001b[0m\u001b[31m━\u001b[0m\u001b[31m━\u001b[0m\u001b[31m┛\u001b[0m\u001b[31m┏\u001b[0m\u001b[31m┛\u001b[0m\u001b[31m┃\u001b[0m\u001b[31m┃\u001b[0m\u001b[31m┃\u001b[0m\u001b[31m┗\u001b[0m\u001b[31m━\u001b[0m\u001b[31m━\u001b[0m\u001b[31m┛\u001b[0m\u001b[31m┗\u001b[0m\u001b[31m━\u001b[0m\u001b[31m━\u001b[0m\u001b[31m━\u001b[0m\u001b[31m┛\u001b[0m\u001b[31m┏\u001b[0m\u001b[31m━\u001b[0m\u001b[31m┓\u001b[0m\u001b[31m┏\u001b[0m\u001b[31m━\u001b[0m\u001b[31m┛\u001b[0m\u001b[32mO\u001b[0m\u001b[31m┏\u001b[0m\u001b[31m┓\u001b[0m\u001b[32mO\u001b[0m\u001b[32mO\u001b[0m\u001b[32mO\u001b[0m\u001b[32mO\u001b[0m\u001b[32mO\u001b[0m\u001b[32mO\u001b[0m\u001b[32mO\u001b[0m\n",
      "\u001b[32mO\u001b[0m\u001b[32mO\u001b[0m\u001b[32mO\u001b[0m\u001b[32mO\u001b[0m\u001b[32mO\u001b[0m\u001b[31m┏\u001b[0m\u001b[31m┛\u001b[0m\u001b[31m┗\u001b[0m\u001b[31m┛\u001b[0m\u001b[31m┏\u001b[0m\u001b[31m┛\u001b[0m\u001b[31m┗\u001b[0m\u001b[31m┛\u001b[0m\u001b[31m┗\u001b[0m\u001b[31m┛\u001b[0m\u001b[31m┗\u001b[0m\u001b[31m━\u001b[0m\u001b[31m┓\u001b[0m\u001b[31m┏\u001b[0m\u001b[31m┓\u001b[0m\u001b[31m┏\u001b[0m\u001b[31m┛\u001b[0mo\u001b[31m┗\u001b[0m\u001b[31m━\u001b[0m\u001b[31m━\u001b[0m\u001b[31m┓\u001b[0m\u001b[31m┃\u001b[0m\u001b[31m┏\u001b[0m\u001b[31m┓\u001b[0m\u001b[31m┏\u001b[0m\u001b[31m┓\u001b[0m\u001b[31m┏\u001b[0m\u001b[31m┓\u001b[0mo\u001b[31m┗\u001b[0m\u001b[31m━\u001b[0m\u001b[31m━\u001b[0m\u001b[31m┛\u001b[0m\u001b[31m┏\u001b[0m\u001b[31m━\u001b[0m\u001b[31m┛\u001b[0m\u001b[31m┏\u001b[0m\u001b[31m┛\u001b[0m\u001b[31m┏\u001b[0m\u001b[31m━\u001b[0m\u001b[31m┓\u001b[0m\u001b[31m┗\u001b[0m\u001b[31m┛\u001b[0m\u001b[31m┃\u001b[0m\u001b[31m┏\u001b[0m\u001b[31m┛\u001b[0m\u001b[31m┗\u001b[0m\u001b[31m┓\u001b[0m|\u001b[31m┏\u001b[0m\u001b[31m┓\u001b[0m-L77.L-7-FJ|7L-7F7.LL\u001b[31m┏\u001b[0m\u001b[31m━\u001b[0m\u001b[31m┛\u001b[0m\u001b[31m┏\u001b[0m\u001b[31m┓\u001b[0m\u001b[31m┏\u001b[0m\u001b[31m━\u001b[0m\u001b[31m━\u001b[0m\u001b[31m┓\u001b[0m\u001b[31m┃\u001b[0m\u001b[31m┃\u001b[0m\u001b[31m┃\u001b[0m\u001b[31m┃\u001b[0m\u001b[31m┃\u001b[0m\u001b[31m┏\u001b[0m\u001b[31m┓\u001b[0m|\u001b[31m┏\u001b[0m\u001b[31m━\u001b[0m\u001b[31m━\u001b[0m\u001b[31m┓\u001b[0m\u001b[31m┏\u001b[0m\u001b[31m━\u001b[0m\u001b[31m┛\u001b[0m\u001b[31m┃\u001b[0m\u001b[31m┏\u001b[0m\u001b[31m━\u001b[0m\u001b[31m━\u001b[0m\u001b[31m━\u001b[0m\u001b[31m━\u001b[0m\u001b[31m━\u001b[0m\u001b[31m━\u001b[0m\u001b[31m┛\u001b[0m\u001b[31m┏\u001b[0m\u001b[31m┛\u001b[0m\u001b[31m┗\u001b[0m\u001b[31m┛\u001b[0m\u001b[31m┏\u001b[0m\u001b[31m━\u001b[0m\u001b[31m━\u001b[0m\u001b[31m┓\u001b[0m\u001b[31m┏\u001b[0m\u001b[31m━\u001b[0m\u001b[31m━\u001b[0m\u001b[31m━\u001b[0m\u001b[31m━\u001b[0m\u001b[31m┛\u001b[0mo\u001b[31m┗\u001b[0m\u001b[31m┛\u001b[0m\u001b[32mO\u001b[0m\u001b[32mO\u001b[0m\u001b[31m┏\u001b[0m\u001b[31m┛\u001b[0m\u001b[31m┃\u001b[0m\u001b[32mO\u001b[0m\u001b[32mO\u001b[0m\u001b[32mO\u001b[0m\u001b[32mO\u001b[0m\u001b[32mO\u001b[0m\u001b[32mO\u001b[0m\u001b[32mO\u001b[0m\n",
      "\u001b[32mO\u001b[0m\u001b[32mO\u001b[0m\u001b[32mO\u001b[0m\u001b[32mO\u001b[0m\u001b[32mO\u001b[0m\u001b[31m┗\u001b[0m\u001b[31m━\u001b[0m\u001b[31m━\u001b[0m\u001b[31m┓\u001b[0m\u001b[31m┗\u001b[0m\u001b[31m┓\u001b[0mo\u001b[31m┏\u001b[0m\u001b[31m━\u001b[0m\u001b[31m━\u001b[0m\u001b[31m━\u001b[0m\u001b[31m━\u001b[0m\u001b[31m┛\u001b[0m\u001b[31m┃\u001b[0m\u001b[31m┃\u001b[0m\u001b[31m┃\u001b[0mo\u001b[31m┏\u001b[0m\u001b[31m━\u001b[0m\u001b[31m━\u001b[0m\u001b[31m┓\u001b[0m\u001b[31m┃\u001b[0m\u001b[31m┗\u001b[0m\u001b[31m┛\u001b[0m\u001b[31m┗\u001b[0m\u001b[31m┛\u001b[0m\u001b[31m┗\u001b[0m\u001b[31m┛\u001b[0m\u001b[31m┗\u001b[0m\u001b[31m━\u001b[0m\u001b[31m━\u001b[0m\u001b[31m━\u001b[0m\u001b[31m┓\u001b[0m\u001b[31m┏\u001b[0m\u001b[31m┛\u001b[0m\u001b[31m┏\u001b[0m\u001b[31m┓\u001b[0m\u001b[31m┃\u001b[0m\u001b[31m┏\u001b[0m\u001b[31m┛\u001b[0m|\u001b[31m┃\u001b[0m\u001b[31m┏\u001b[0m\u001b[31m┓\u001b[0m\u001b[31m┗\u001b[0m\u001b[31m┛\u001b[0m\u001b[31m┏\u001b[0m\u001b[31m━\u001b[0m\u001b[31m┛\u001b[0m\u001b[31m┏\u001b[0m\u001b[31m┛\u001b[0m\u001b[31m┃\u001b[0m7F|-F|J|L|JL|7-77L-7L\u001b[31m┗\u001b[0m\u001b[31m━\u001b[0m\u001b[31m┓\u001b[0m\u001b[31m┃\u001b[0m\u001b[31m┗\u001b[0m\u001b[31m┛\u001b[0m\u001b[31m┏\u001b[0m\u001b[31m━\u001b[0m\u001b[31m┛\u001b[0m\u001b[31m┃\u001b[0m\u001b[31m┃\u001b[0m\u001b[31m┃\u001b[0m\u001b[31m┃\u001b[0m\u001b[31m┃\u001b[0m\u001b[31m┃\u001b[0m\u001b[31m┃\u001b[0m\u001b[31m┏\u001b[0m\u001b[31m┛\u001b[0m\u001b[31m┏\u001b[0m\u001b[31m━\u001b[0m\u001b[31m┛\u001b[0m\u001b[31m┗\u001b[0m\u001b[31m━\u001b[0m\u001b[31m━\u001b[0m\u001b[31m┛\u001b[0m\u001b[31m┗\u001b[0m\u001b[31m━\u001b[0m\u001b[31m━\u001b[0m\u001b[31m┓\u001b[0m\u001b[31m┏\u001b[0m\u001b[31m━\u001b[0m\u001b[31m┓\u001b[0m\u001b[31m┏\u001b[0m\u001b[31m┛\u001b[0m\u001b[31m┏\u001b[0m\u001b[31m━\u001b[0m\u001b[31m┓\u001b[0m\u001b[31m┗\u001b[0m\u001b[31m━\u001b[0m\u001b[31m┓\u001b[0m\u001b[31m┃\u001b[0m\u001b[31m┗\u001b[0m\u001b[31m━\u001b[0m\u001b[31m━\u001b[0m\u001b[31m━\u001b[0m\u001b[31m┓\u001b[0m\u001b[31m┏\u001b[0m\u001b[31m┓\u001b[0mo\u001b[31m┏\u001b[0m\u001b[31m┓\u001b[0m\u001b[32mO\u001b[0m\u001b[31m┗\u001b[0m\u001b[31m┓\u001b[0m\u001b[31m┃\u001b[0m\u001b[32mO\u001b[0m\u001b[32mO\u001b[0m\u001b[32mO\u001b[0m\u001b[32mO\u001b[0m\u001b[32mO\u001b[0m\u001b[32mO\u001b[0m\u001b[32mO\u001b[0m\n",
      "\u001b[32mO\u001b[0m\u001b[32mO\u001b[0m\u001b[32mO\u001b[0m\u001b[32mO\u001b[0m\u001b[32mO\u001b[0m\u001b[32mO\u001b[0m\u001b[31m┏\u001b[0m\u001b[31m━\u001b[0m\u001b[31m┛\u001b[0m\u001b[31m┏\u001b[0m\u001b[31m┛\u001b[0m\u001b[31m┏\u001b[0m\u001b[31m┛\u001b[0m\u001b[31m┏\u001b[0m\u001b[31m━\u001b[0m\u001b[31m┓\u001b[0m\u001b[31m┏\u001b[0m\u001b[31m┓\u001b[0m\u001b[31m┃\u001b[0m\u001b[31m┃\u001b[0m\u001b[31m┗\u001b[0m\u001b[31m┓\u001b[0m\u001b[31m┗\u001b[0m\u001b[31m━\u001b[0m\u001b[31m┓\u001b[0m\u001b[31m┃\u001b[0m\u001b[31m┗\u001b[0m\u001b[31m┓\u001b[0m\u001b[31m┏\u001b[0m\u001b[31m┓\u001b[0m\u001b[31m┏\u001b[0m\u001b[31m┓\u001b[0m\u001b[31m┏\u001b[0m\u001b[31m┓\u001b[0m\u001b[31m┏\u001b[0m\u001b[31m┓\u001b[0mL\u001b[31m┗\u001b[0m\u001b[31m┛\u001b[0m\u001b[31m┏\u001b[0m\u001b[31m┛\u001b[0m\u001b[31m┗\u001b[0m\u001b[31m┛\u001b[0m\u001b[31m┗\u001b[0m\u001b[31m━\u001b[0m\u001b[31m┓\u001b[0m\u001b[31m┗\u001b[0m\u001b[31m┛\u001b[0m\u001b[31m┗\u001b[0m\u001b[31m━\u001b[0m\u001b[31m┓\u001b[0m\u001b[31m┗\u001b[0m\u001b[31m━\u001b[0m\u001b[31m━\u001b[0m\u001b[31m┛\u001b[0m\u001b[31m┏\u001b[0m\u001b[31m┛\u001b[0m--7.JJFJL77JL7.LJ-LF7\u001b[31m┏\u001b[0m\u001b[31m━\u001b[0m\u001b[31m┛\u001b[0m\u001b[31m┗\u001b[0m\u001b[31m┓\u001b[0m|\u001b[31m┗\u001b[0m\u001b[31m━\u001b[0m\u001b[31m┓\u001b[0m\u001b[31m┗\u001b[0m\u001b[31m┛\u001b[0m\u001b[31m┗\u001b[0m\u001b[31m┛\u001b[0m\u001b[31m┃\u001b[0m\u001b[31m┃\u001b[0m\u001b[31m┃\u001b[0m\u001b[31m┗\u001b[0m\u001b[31m┓\u001b[0m\u001b[31m┗\u001b[0m\u001b[31m┓\u001b[0m7\u001b[31m┏\u001b[0m\u001b[31m┓\u001b[0m\u001b[31m┏\u001b[0m\u001b[31m┓\u001b[0m\u001b[31m┏\u001b[0m\u001b[31m━\u001b[0m\u001b[31m━\u001b[0m\u001b[31m┛\u001b[0m\u001b[31m┃\u001b[0m\u001b[31m┏\u001b[0m\u001b[31m┛\u001b[0m\u001b[31m┃\u001b[0m\u001b[31m┏\u001b[0m\u001b[31m┛\u001b[0mo\u001b[31m┃\u001b[0m\u001b[31m┏\u001b[0m\u001b[31m┓\u001b[0m\u001b[31m┃\u001b[0m\u001b[31m┃\u001b[0m\u001b[31m┏\u001b[0m\u001b[31m┓\u001b[0m\u001b[31m┏\u001b[0m\u001b[31m┓\u001b[0m\u001b[31m┗\u001b[0m\u001b[31m┛\u001b[0m\u001b[31m┗\u001b[0m\u001b[31m━\u001b[0m\u001b[31m┛\u001b[0m\u001b[31m┗\u001b[0m\u001b[31m┓\u001b[0m\u001b[31m┏\u001b[0m\u001b[31m┛\u001b[0m\u001b[31m┃\u001b[0m\u001b[32mO\u001b[0m\u001b[32mO\u001b[0m\u001b[32mO\u001b[0m\u001b[32mO\u001b[0m\u001b[32mO\u001b[0m\u001b[32mO\u001b[0m\u001b[32mO\u001b[0m\n",
      "\u001b[32mO\u001b[0m\u001b[32mO\u001b[0m\u001b[32mO\u001b[0m\u001b[32mO\u001b[0m\u001b[32mO\u001b[0m\u001b[32mO\u001b[0m\u001b[31m┃\u001b[0m\u001b[31m┏\u001b[0m\u001b[31m┓\u001b[0m\u001b[31m┗\u001b[0m\u001b[31m┓\u001b[0m\u001b[31m┗\u001b[0m\u001b[31m┓\u001b[0m\u001b[31m┗\u001b[0m\u001b[31m┓\u001b[0m\u001b[31m┃\u001b[0m\u001b[31m┃\u001b[0m\u001b[31m┃\u001b[0m\u001b[31m┃\u001b[0m\u001b[31m┗\u001b[0m\u001b[31m━\u001b[0m\u001b[31m┛\u001b[0m\u001b[31m┏\u001b[0m\u001b[31m━\u001b[0m\u001b[31m┛\u001b[0m\u001b[31m┗\u001b[0m\u001b[31m━\u001b[0m\u001b[31m┛\u001b[0m\u001b[31m┃\u001b[0m\u001b[31m┗\u001b[0m\u001b[31m┛\u001b[0m\u001b[31m┗\u001b[0m\u001b[31m┛\u001b[0m\u001b[31m┗\u001b[0m\u001b[31m┛\u001b[0m\u001b[31m┗\u001b[0m\u001b[31m┓\u001b[0m|\u001b[31m┏\u001b[0m\u001b[31m┛\u001b[0m\u001b[31m┏\u001b[0m\u001b[31m━\u001b[0m\u001b[31m┓\u001b[0m\u001b[31m┏\u001b[0m\u001b[31m┓\u001b[0m\u001b[31m┗\u001b[0m\u001b[31m┓\u001b[0m\u001b[31m┏\u001b[0m\u001b[31m━\u001b[0m\u001b[31m┓\u001b[0m\u001b[31m┗\u001b[0m\u001b[31m┓\u001b[0m\u001b[31m┏\u001b[0m\u001b[31m━\u001b[0m\u001b[31m┓\u001b[0m\u001b[31m┗\u001b[0m\u001b[31m┓\u001b[0mJ-LJL|-J7|.7.|F7FFJL\u001b[31m┏\u001b[0m\u001b[31m┛\u001b[0m\u001b[31m┏\u001b[0m\u001b[31m┓\u001b[0m\u001b[31m┏\u001b[0m\u001b[31m┛\u001b[0m\u001b[31m┏\u001b[0m\u001b[31m━\u001b[0m\u001b[31m━\u001b[0m\u001b[31m┛\u001b[0m\u001b[31m┏\u001b[0m\u001b[31m┓\u001b[0m\u001b[31m┏\u001b[0m\u001b[31m┓\u001b[0m\u001b[31m┗\u001b[0m\u001b[31m┛\u001b[0m\u001b[31m┗\u001b[0m\u001b[31m┓\u001b[0m\u001b[31m┗\u001b[0m\u001b[31m┓\u001b[0m\u001b[31m┃\u001b[0m\u001b[31m┏\u001b[0m\u001b[31m┛\u001b[0m\u001b[31m┗\u001b[0m\u001b[31m┛\u001b[0m\u001b[31m┃\u001b[0m\u001b[31m┗\u001b[0m\u001b[31m━\u001b[0m\u001b[31m━\u001b[0m\u001b[31m━\u001b[0m\u001b[31m┛\u001b[0m\u001b[31m┗\u001b[0m\u001b[31m━\u001b[0m\u001b[31m┛\u001b[0m\u001b[31m┗\u001b[0m\u001b[31m━\u001b[0m\u001b[31m┓\u001b[0m\u001b[31m┃\u001b[0m\u001b[31m┃\u001b[0m\u001b[31m┗\u001b[0m\u001b[31m┛\u001b[0m\u001b[31m┗\u001b[0m\u001b[31m┛\u001b[0m\u001b[31m┗\u001b[0m\u001b[31m┛\u001b[0m\u001b[31m┗\u001b[0m\u001b[31m━\u001b[0m\u001b[31m━\u001b[0m\u001b[31m━\u001b[0m\u001b[31m━\u001b[0m\u001b[31m━\u001b[0m\u001b[31m━\u001b[0m\u001b[31m┛\u001b[0m\u001b[31m┃\u001b[0m\u001b[31m┏\u001b[0m\u001b[31m┛\u001b[0m\u001b[32mO\u001b[0m\u001b[32mO\u001b[0m\u001b[32mO\u001b[0m\u001b[31m┏\u001b[0m\u001b[31m┓\u001b[0m\u001b[32mO\u001b[0m\u001b[32mO\u001b[0m\n",
      "\u001b[32mO\u001b[0m\u001b[32mO\u001b[0m\u001b[32mO\u001b[0m\u001b[32mO\u001b[0m\u001b[32mO\u001b[0m\u001b[32mO\u001b[0m\u001b[31m┗\u001b[0m\u001b[31m┛\u001b[0m\u001b[31m┗\u001b[0m\u001b[31m━\u001b[0m\u001b[31m┛\u001b[0mo\u001b[31m┃\u001b[0m\u001b[31m┏\u001b[0m\u001b[31m┛\u001b[0m\u001b[31m┃\u001b[0m\u001b[31m┃\u001b[0m\u001b[31m┗\u001b[0m\u001b[31m┛\u001b[0m\u001b[31m┏\u001b[0m\u001b[31m━\u001b[0m\u001b[31m━\u001b[0m\u001b[31m┛\u001b[0m\u001b[31m┏\u001b[0m\u001b[31m━\u001b[0m\u001b[31m┓\u001b[0m\u001b[31m┏\u001b[0m\u001b[31m┓\u001b[0m\u001b[31m┃\u001b[0m\u001b[31m┏\u001b[0m\u001b[31m━\u001b[0m\u001b[31m━\u001b[0m\u001b[31m━\u001b[0m\u001b[31m━\u001b[0m\u001b[31m━\u001b[0m\u001b[31m━\u001b[0m\u001b[31m┛\u001b[0m\u001b[31m┏\u001b[0m\u001b[31m┛\u001b[0m\u001b[31m┏\u001b[0m\u001b[31m┛\u001b[0mJ\u001b[31m┗\u001b[0m\u001b[31m┛\u001b[0m\u001b[31m┗\u001b[0m\u001b[31m━\u001b[0m\u001b[31m┛\u001b[0m\u001b[31m┃\u001b[0m\u001b[31m┏\u001b[0m\u001b[31m┛\u001b[0m.\u001b[31m┃\u001b[0m\u001b[31m┗\u001b[0m\u001b[31m┓\u001b[0m\u001b[31m┗\u001b[0m\u001b[31m━\u001b[0m\u001b[31m┛\u001b[0mJ..JFLL-F77J7-LLLJ7-\u001b[31m┗\u001b[0m\u001b[31m━\u001b[0m\u001b[31m┛\u001b[0m\u001b[31m┗\u001b[0m\u001b[31m┛\u001b[0m\u001b[31m┏\u001b[0m\u001b[31m┛\u001b[0m\u001b[31m┏\u001b[0m\u001b[31m┓\u001b[0m\u001b[31m┏\u001b[0m\u001b[31m┛\u001b[0m\u001b[31m┃\u001b[0m\u001b[31m┃\u001b[0m\u001b[31m┗\u001b[0m\u001b[31m┓\u001b[0m\u001b[31m┏\u001b[0m\u001b[31m┓\u001b[0m\u001b[31m┗\u001b[0m\u001b[31m━\u001b[0m\u001b[31m┛\u001b[0m\u001b[31m┃\u001b[0m\u001b[31m┗\u001b[0m\u001b[31m━\u001b[0m\u001b[31m━\u001b[0m\u001b[31m┓\u001b[0m\u001b[31m┃\u001b[0m\u001b[31m┏\u001b[0m\u001b[31m━\u001b[0m\u001b[31m━\u001b[0m\u001b[31m━\u001b[0m\u001b[31m━\u001b[0m\u001b[31m━\u001b[0m\u001b[31m━\u001b[0m\u001b[31m┓\u001b[0m\u001b[31m┏\u001b[0m\u001b[31m━\u001b[0m\u001b[31m┛\u001b[0m\u001b[31m┗\u001b[0m\u001b[31m┛\u001b[0m\u001b[31m┏\u001b[0m\u001b[31m━\u001b[0m\u001b[31m━\u001b[0m\u001b[31m━\u001b[0m\u001b[31m━\u001b[0m\u001b[31m┓\u001b[0mo\u001b[31m┏\u001b[0m\u001b[31m┓\u001b[0m\u001b[31m┏\u001b[0m\u001b[31m━\u001b[0m\u001b[31m━\u001b[0m\u001b[31m┓\u001b[0mo\u001b[31m┃\u001b[0m\u001b[31m┗\u001b[0m\u001b[31m━\u001b[0m\u001b[31m┓\u001b[0m\u001b[31m┏\u001b[0m\u001b[31m┓\u001b[0m\u001b[31m┃\u001b[0m\u001b[31m┃\u001b[0m\u001b[32mO\u001b[0m\u001b[32mO\u001b[0m\n",
      "\u001b[32mO\u001b[0m\u001b[32mO\u001b[0m\u001b[32mO\u001b[0m\u001b[32mO\u001b[0m\u001b[32mO\u001b[0m\u001b[32mO\u001b[0m\u001b[32mO\u001b[0m\u001b[32mO\u001b[0m\u001b[32mO\u001b[0m\u001b[31m┏\u001b[0m\u001b[31m━\u001b[0m\u001b[31m━\u001b[0m\u001b[31m┛\u001b[0m\u001b[31m┃\u001b[0m\u001b[31m┏\u001b[0m\u001b[31m┛\u001b[0m\u001b[31m┗\u001b[0m\u001b[31m┓\u001b[0mo\u001b[31m┗\u001b[0m\u001b[31m━\u001b[0m\u001b[31m┓\u001b[0m\u001b[31m┏\u001b[0m\u001b[31m┛\u001b[0m\u001b[31m┏\u001b[0m\u001b[31m┛\u001b[0m\u001b[31m┃\u001b[0m\u001b[31m┗\u001b[0m\u001b[31m┛\u001b[0m\u001b[31m┗\u001b[0m\u001b[31m━\u001b[0m\u001b[31m┓\u001b[0m\u001b[31m┏\u001b[0m\u001b[31m━\u001b[0m\u001b[31m━\u001b[0m\u001b[31m━\u001b[0m\u001b[31m━\u001b[0m\u001b[31m┛\u001b[0m\u001b[31m┏\u001b[0m\u001b[31m┛\u001b[0mL\u001b[31m┏\u001b[0m\u001b[31m┓\u001b[0m\u001b[31m┏\u001b[0m\u001b[31m┓\u001b[0m\u001b[31m┏\u001b[0m\u001b[31m┓\u001b[0m\u001b[31m┃\u001b[0m\u001b[31m┃\u001b[0m\u001b[31m┏\u001b[0m\u001b[31m┓\u001b[0m\u001b[31m┗\u001b[0m\u001b[31m━\u001b[0m\u001b[31m┛\u001b[0m7\u001b[31m┏\u001b[0m\u001b[31m┓\u001b[0m-7|FJLL7L|L7JFFLLL|.|\u001b[31m┏\u001b[0m\u001b[31m━\u001b[0m\u001b[31m┓\u001b[0m\u001b[31m┏\u001b[0m\u001b[31m┛\u001b[0m\u001b[31m┏\u001b[0m\u001b[31m┛\u001b[0m\u001b[31m┗\u001b[0m\u001b[31m┛\u001b[0m-\u001b[31m┗\u001b[0m\u001b[31m┛\u001b[0m|\u001b[31m┗\u001b[0m\u001b[31m┛\u001b[0m\u001b[31m┗\u001b[0m\u001b[31m━\u001b[0m\u001b[31m━\u001b[0m\u001b[31m┓\u001b[0m\u001b[31m┃\u001b[0m\u001b[31m┏\u001b[0m\u001b[31m┓\u001b[0m7\u001b[31m┃\u001b[0m\u001b[31m┃\u001b[0m\u001b[31m┗\u001b[0m\u001b[31m━\u001b[0m\u001b[31m━\u001b[0m\u001b[31m━\u001b[0m\u001b[31m┓\u001b[0m\u001b[31m┏\u001b[0m\u001b[31m┓\u001b[0m\u001b[31m┃\u001b[0m\u001b[31m┗\u001b[0m\u001b[31m━\u001b[0m\u001b[31m┓\u001b[0mo\u001b[31m┏\u001b[0m\u001b[31m┛\u001b[0m\u001b[31m┏\u001b[0m\u001b[31m━\u001b[0m\u001b[31m━\u001b[0m\u001b[31m━\u001b[0m\u001b[31m┛\u001b[0m\u001b[31m┏\u001b[0m\u001b[31m┛\u001b[0m\u001b[31m┃\u001b[0m\u001b[31m┃\u001b[0m\u001b[31m┏\u001b[0m\u001b[31m━\u001b[0m\u001b[31m┛\u001b[0m\u001b[31m┏\u001b[0m\u001b[31m┛\u001b[0m\u001b[31m┏\u001b[0m\u001b[31m━\u001b[0m\u001b[31m┛\u001b[0m\u001b[31m┃\u001b[0m\u001b[31m┃\u001b[0m\u001b[31m┃\u001b[0m\u001b[31m┃\u001b[0m\u001b[32mO\u001b[0m\u001b[32mO\u001b[0m\n",
      "\u001b[32mO\u001b[0m\u001b[32mO\u001b[0m\u001b[32mO\u001b[0m\u001b[32mO\u001b[0m\u001b[32mO\u001b[0m\u001b[32mO\u001b[0m\u001b[32mO\u001b[0m\u001b[32mO\u001b[0m\u001b[32mO\u001b[0m\u001b[31m┗\u001b[0m\u001b[31m━\u001b[0m\u001b[31m┓\u001b[0m\u001b[31m┏\u001b[0m\u001b[31m┛\u001b[0m\u001b[31m┗\u001b[0m\u001b[31m┓\u001b[0m\u001b[31m┏\u001b[0m\u001b[31m┛\u001b[0m\u001b[31m┏\u001b[0m\u001b[31m━\u001b[0m\u001b[31m━\u001b[0m\u001b[31m┛\u001b[0m\u001b[31m┃\u001b[0mo\u001b[31m┗\u001b[0m\u001b[31m━\u001b[0m\u001b[31m┛\u001b[0m\u001b[31m┏\u001b[0m\u001b[31m━\u001b[0m\u001b[31m━\u001b[0m\u001b[31m┓\u001b[0m\u001b[31m┗\u001b[0m\u001b[31m┛\u001b[0m\u001b[31m┏\u001b[0m\u001b[31m━\u001b[0m\u001b[31m━\u001b[0m\u001b[31m━\u001b[0m\u001b[31m┓\u001b[0m\u001b[31m┃\u001b[0m\u001b[31m┏\u001b[0m\u001b[31m┓\u001b[0m\u001b[31m┃\u001b[0m\u001b[31m┗\u001b[0m\u001b[31m┛\u001b[0m\u001b[31m┗\u001b[0m\u001b[31m┛\u001b[0m\u001b[31m┗\u001b[0m\u001b[31m┛\u001b[0m\u001b[31m┗\u001b[0m\u001b[31m┛\u001b[0m\u001b[31m┗\u001b[0m\u001b[31m┓\u001b[0m\u001b[31m┏\u001b[0m\u001b[31m━\u001b[0m\u001b[31m┓\u001b[0m\u001b[31m┃\u001b[0m\u001b[31m┃\u001b[0m|FL||7.F-7LF77FLL|LLF\u001b[31m┗\u001b[0m\u001b[31m┓\u001b[0m\u001b[31m┗\u001b[0m\u001b[31m┛\u001b[0m\u001b[31m┏\u001b[0m\u001b[31m┛\u001b[0m\u001b[31m┏\u001b[0m\u001b[31m━\u001b[0m\u001b[31m━\u001b[0m\u001b[31m┓\u001b[0m\u001b[31m┏\u001b[0m\u001b[31m┓\u001b[0m\u001b[31m┏\u001b[0m\u001b[31m┓\u001b[0m\u001b[31m┏\u001b[0m\u001b[31m┓\u001b[0m\u001b[31m┏\u001b[0m\u001b[31m━\u001b[0m\u001b[31m┛\u001b[0m\u001b[31m┗\u001b[0m\u001b[31m┛\u001b[0m\u001b[31m┗\u001b[0m\u001b[31m━\u001b[0m\u001b[31m┛\u001b[0m\u001b[31m┗\u001b[0m\u001b[31m┓\u001b[0mL\u001b[31m┏\u001b[0m\u001b[31m┓\u001b[0m\u001b[31m┗\u001b[0m\u001b[31m┛\u001b[0m\u001b[31m┃\u001b[0m\u001b[31m┃\u001b[0m\u001b[31m┏\u001b[0m\u001b[31m┓\u001b[0m\u001b[31m┃\u001b[0m\u001b[31m┏\u001b[0m\u001b[31m┛\u001b[0m\u001b[31m┏\u001b[0m\u001b[31m┛\u001b[0m\u001b[31m┏\u001b[0m\u001b[31m━\u001b[0m\u001b[31m━\u001b[0m\u001b[31m┓\u001b[0m\u001b[31m┗\u001b[0m\u001b[31m┓\u001b[0m\u001b[31m┗\u001b[0m\u001b[31m┛\u001b[0m\u001b[31m┗\u001b[0m\u001b[31m┓\u001b[0mo\u001b[31m┃\u001b[0m\u001b[31m┏\u001b[0m\u001b[31m┛\u001b[0m\u001b[31m┏\u001b[0m\u001b[31m┓\u001b[0m\u001b[31m┃\u001b[0m\u001b[31m┗\u001b[0m\u001b[31m┛\u001b[0m\u001b[31m┃\u001b[0m\u001b[31m┏\u001b[0m\u001b[31m┓\u001b[0m\n",
      "\u001b[32mO\u001b[0m\u001b[32mO\u001b[0m\u001b[32mO\u001b[0m\u001b[32mO\u001b[0m\u001b[32mO\u001b[0m\u001b[32mO\u001b[0m\u001b[32mO\u001b[0m\u001b[32mO\u001b[0m\u001b[32mO\u001b[0m\u001b[32mO\u001b[0m\u001b[31m┏\u001b[0m\u001b[31m┛\u001b[0m\u001b[31m┃\u001b[0m\u001b[31m┏\u001b[0m\u001b[31m━\u001b[0m\u001b[31m┛\u001b[0m\u001b[31m┗\u001b[0m\u001b[31m┓\u001b[0m\u001b[31m┗\u001b[0m\u001b[31m┓\u001b[0m\u001b[31m┏\u001b[0m\u001b[31m┓\u001b[0m\u001b[31m┃\u001b[0m\u001b[31m┏\u001b[0m\u001b[31m━\u001b[0m\u001b[31m━\u001b[0m\u001b[31m┓\u001b[0m\u001b[31m┗\u001b[0m\u001b[31m━\u001b[0m\u001b[31m┓\u001b[0m\u001b[31m┗\u001b[0m\u001b[31m━\u001b[0m\u001b[31m━\u001b[0m\u001b[31m┛\u001b[0m\u001b[31m┏\u001b[0m\u001b[31m┓\u001b[0mL\u001b[31m┃\u001b[0m\u001b[31m┗\u001b[0m\u001b[31m┛\u001b[0m\u001b[31m┗\u001b[0m\u001b[31m┛\u001b[0m\u001b[31m┏\u001b[0m\u001b[31m┓\u001b[0m\u001b[31m┏\u001b[0m\u001b[31m━\u001b[0m\u001b[31m━\u001b[0m\u001b[31m━\u001b[0m\u001b[31m━\u001b[0m\u001b[31m━\u001b[0m\u001b[31m━\u001b[0m\u001b[31m┛\u001b[0m\u001b[31m┃\u001b[0m\u001b[31m┏\u001b[0m\u001b[31m┛\u001b[0m\u001b[31m┃\u001b[0m\u001b[31m┗\u001b[0m\u001b[31m┓\u001b[0mJF\u001b[31m┏\u001b[0m\u001b[31m━\u001b[0m\u001b[31m━\u001b[0m\u001b[31m━\u001b[0m\u001b[31m┓\u001b[0mJJ7FJF77JF-JL\u001b[31m┏\u001b[0m\u001b[31m┛\u001b[0m\u001b[31m┏\u001b[0m\u001b[31m┓\u001b[0m\u001b[31m┃\u001b[0mJ\u001b[31m┗\u001b[0m\u001b[31m━\u001b[0m\u001b[31m┓\u001b[0m\u001b[31m┃\u001b[0m\u001b[31m┃\u001b[0m\u001b[31m┃\u001b[0m\u001b[31m┃\u001b[0m\u001b[31m┃\u001b[0m\u001b[31m┃\u001b[0m\u001b[31m┗\u001b[0m\u001b[31m┛\u001b[0m\u001b[31m┏\u001b[0m\u001b[31m━\u001b[0m\u001b[31m━\u001b[0m\u001b[31m┓\u001b[0m\u001b[31m┏\u001b[0m\u001b[31m┓\u001b[0m\u001b[31m┏\u001b[0m\u001b[31m┓\u001b[0m\u001b[31m┗\u001b[0m\u001b[31m━\u001b[0m\u001b[31m┛\u001b[0m\u001b[31m┃\u001b[0m\u001b[31m┏\u001b[0m\u001b[31m┓\u001b[0m\u001b[31m┃\u001b[0m\u001b[31m┗\u001b[0m\u001b[31m┛\u001b[0m\u001b[31m┗\u001b[0m\u001b[31m┛\u001b[0m\u001b[31m┗\u001b[0m\u001b[31m┓\u001b[0m\u001b[31m┗\u001b[0m\u001b[31m━\u001b[0m\u001b[31m┛\u001b[0m\u001b[31m┏\u001b[0m\u001b[31m━\u001b[0m\u001b[31m┛\u001b[0m\u001b[31m┏\u001b[0m\u001b[31m┛\u001b[0m\u001b[31m┏\u001b[0m\u001b[31m━\u001b[0m\u001b[31m┓\u001b[0m\u001b[31m┃\u001b[0m\u001b[31m┏\u001b[0m\u001b[31m┛\u001b[0m\u001b[31m┗\u001b[0m\u001b[31m┓\u001b[0m\u001b[31m┃\u001b[0m\u001b[31m┃\u001b[0m\u001b[31m┃\u001b[0m\u001b[31m┏\u001b[0m\u001b[31m━\u001b[0m\u001b[31m┛\u001b[0m\u001b[31m┃\u001b[0m\u001b[31m┃\u001b[0m\n",
      "\u001b[32mO\u001b[0m\u001b[32mO\u001b[0m\u001b[32mO\u001b[0m\u001b[32mO\u001b[0m\u001b[32mO\u001b[0m\u001b[32mO\u001b[0m\u001b[32mO\u001b[0m\u001b[32mO\u001b[0m\u001b[32mO\u001b[0m\u001b[32mO\u001b[0m\u001b[31m┗\u001b[0m\u001b[31m━\u001b[0m\u001b[31m┛\u001b[0m\u001b[31m┗\u001b[0m\u001b[31m┓\u001b[0m\u001b[31m┏\u001b[0m\u001b[31m┓\u001b[0m\u001b[31m┗\u001b[0m\u001b[31m┓\u001b[0m\u001b[31m┗\u001b[0m\u001b[31m┛\u001b[0m\u001b[31m┗\u001b[0m\u001b[31m┛\u001b[0m\u001b[31m┗\u001b[0m\u001b[31m┓\u001b[0m\u001b[31m┏\u001b[0m\u001b[31m┛\u001b[0m\u001b[31m┏\u001b[0m\u001b[31m┓\u001b[0m\u001b[31m┗\u001b[0m\u001b[31m━\u001b[0m\u001b[31m━\u001b[0m\u001b[31m━\u001b[0m\u001b[31m━\u001b[0m\u001b[31m┛\u001b[0m\u001b[31m┗\u001b[0m\u001b[31m┓\u001b[0m\u001b[31m┃\u001b[0m\u001b[31m┏\u001b[0m\u001b[31m┓\u001b[0m\u001b[31m┏\u001b[0m\u001b[31m┓\u001b[0m\u001b[31m┃\u001b[0m\u001b[31m┃\u001b[0m\u001b[31m┃\u001b[0m\u001b[31m┏\u001b[0m\u001b[31m━\u001b[0m\u001b[31m━\u001b[0m\u001b[31m━\u001b[0m\u001b[31m┓\u001b[0m\u001b[31m┏\u001b[0m\u001b[31m┓\u001b[0m\u001b[31m┃\u001b[0m\u001b[31m┗\u001b[0m\u001b[31m┓\u001b[0m\u001b[31m┃\u001b[0m\u001b[31m┏\u001b[0m\u001b[31m┛\u001b[0m\u001b[31m┏\u001b[0m\u001b[31m┓\u001b[0m\u001b[31m┗\u001b[0m\u001b[31m┓\u001b[0m\u001b[31m┏\u001b[0m\u001b[31m━\u001b[0m\u001b[31m┛\u001b[0mJ|FL-FJ|.|F7|\u001b[31m┗\u001b[0m\u001b[31m━\u001b[0m\u001b[31m┛\u001b[0m\u001b[31m┗\u001b[0m\u001b[31m┛\u001b[0m\u001b[31m┏\u001b[0m\u001b[31m━\u001b[0m\u001b[31m━\u001b[0m\u001b[31m┛\u001b[0m\u001b[31m┗\u001b[0m\u001b[31m┛\u001b[0m\u001b[31m┗\u001b[0m\u001b[31m┛\u001b[0m\u001b[31m┗\u001b[0m\u001b[31m┛\u001b[0m\u001b[31m┏\u001b[0m\u001b[31m┓\u001b[0m\u001b[31m┃\u001b[0m.\u001b[31m┏\u001b[0m\u001b[31m┛\u001b[0m\u001b[31m┃\u001b[0m\u001b[31m┃\u001b[0m\u001b[31m┃\u001b[0m\u001b[31m┗\u001b[0m\u001b[31m┓\u001b[0m\u001b[31m┏\u001b[0m\u001b[31m┓\u001b[0m\u001b[31m┗\u001b[0m\u001b[31m┛\u001b[0m\u001b[31m┗\u001b[0m\u001b[31m┛\u001b[0m\u001b[31m┏\u001b[0m\u001b[31m━\u001b[0m\u001b[31m┓\u001b[0m\u001b[31m┏\u001b[0m\u001b[31m┓\u001b[0m\u001b[31m┃\u001b[0m\u001b[31m┏\u001b[0m\u001b[31m━\u001b[0m\u001b[31m━\u001b[0m\u001b[31m┛\u001b[0m\u001b[31m┏\u001b[0m\u001b[31m┓\u001b[0m\u001b[31m┗\u001b[0m\u001b[31m┓\u001b[0m\u001b[31m┃\u001b[0mo\u001b[31m┗\u001b[0m\u001b[31m┛\u001b[0m\u001b[31m┃\u001b[0m\u001b[31m┏\u001b[0m\u001b[31m━\u001b[0m\u001b[31m┛\u001b[0m\u001b[31m┃\u001b[0m\u001b[31m┃\u001b[0m\u001b[31m┃\u001b[0m\u001b[31m┃\u001b[0m\u001b[31m┏\u001b[0m\u001b[31m┓\u001b[0m\u001b[31m┃\u001b[0m\u001b[31m┃\u001b[0m\n",
      "\u001b[32mO\u001b[0m\u001b[32mO\u001b[0m\u001b[32mO\u001b[0m\u001b[32mO\u001b[0m\u001b[32mO\u001b[0m\u001b[32mO\u001b[0m\u001b[32mO\u001b[0m\u001b[32mO\u001b[0m\u001b[32mO\u001b[0m\u001b[32mO\u001b[0m\u001b[32mO\u001b[0m\u001b[32mO\u001b[0m\u001b[31m┏\u001b[0m\u001b[31m┓\u001b[0m\u001b[31m┗\u001b[0m\u001b[31m┛\u001b[0m\u001b[31m┗\u001b[0m\u001b[31m━\u001b[0m\u001b[31m┛\u001b[0m\u001b[31m┏\u001b[0m\u001b[31m━\u001b[0m\u001b[31m┓\u001b[0m\u001b[31m┏\u001b[0m\u001b[31m━\u001b[0m\u001b[31m┛\u001b[0m\u001b[31m┃\u001b[0mo\u001b[31m┃\u001b[0m\u001b[31m┃\u001b[0mo\u001b[31m┏\u001b[0m\u001b[31m┓\u001b[0mo\u001b[31m┏\u001b[0m\u001b[31m━\u001b[0m\u001b[31m━\u001b[0m\u001b[31m┛\u001b[0m\u001b[31m┗\u001b[0m\u001b[31m┛\u001b[0m\u001b[31m┗\u001b[0m\u001b[31m┛\u001b[0m\u001b[31m┗\u001b[0m\u001b[31m┛\u001b[0m\u001b[31m┃\u001b[0m\u001b[31m┗\u001b[0m\u001b[31m┛\u001b[0m\u001b[31m┏\u001b[0m\u001b[31m━\u001b[0m\u001b[31m┓\u001b[0m\u001b[31m┗\u001b[0m\u001b[31m┛\u001b[0m\u001b[31m┗\u001b[0m\u001b[31m┛\u001b[0m\u001b[31m┏\u001b[0m\u001b[31m┛\u001b[0m\u001b[31m┃\u001b[0m\u001b[31m┃\u001b[0m\u001b[31m┏\u001b[0m\u001b[31m┛\u001b[0m\u001b[31m┃\u001b[0m\u001b[31m┏\u001b[0m\u001b[31m┛\u001b[0m\u001b[31m┃\u001b[0m\u001b[31m┏\u001b[0m\u001b[31m┓\u001b[0mL\u001b[31m┏\u001b[0m\u001b[31m┓\u001b[0mJ||||-\u001b[31m┏\u001b[0m\u001b[31m┓\u001b[0m7\u001b[31m┏\u001b[0m\u001b[31m━\u001b[0m\u001b[31m┓\u001b[0mL\u001b[31m┏\u001b[0m\u001b[31m┓\u001b[0m\u001b[31m┗\u001b[0m\u001b[31m━\u001b[0m\u001b[31m━\u001b[0m\u001b[31m━\u001b[0m\u001b[31m┓\u001b[0m\u001b[31m┏\u001b[0m\u001b[31m━\u001b[0m\u001b[31m┓\u001b[0m\u001b[31m┏\u001b[0m\u001b[31m━\u001b[0m\u001b[31m┛\u001b[0m\u001b[31m┃\u001b[0m\u001b[31m┗\u001b[0m\u001b[31m┓\u001b[0m\u001b[31m┗\u001b[0m\u001b[31m━\u001b[0m\u001b[31m┛\u001b[0m\u001b[31m┃\u001b[0m\u001b[31m┃\u001b[0m\u001b[31m┏\u001b[0m\u001b[31m┛\u001b[0m\u001b[31m┃\u001b[0m\u001b[31m┃\u001b[0m\u001b[31m┏\u001b[0m\u001b[31m┓\u001b[0m\u001b[31m┏\u001b[0m\u001b[31m┓\u001b[0m\u001b[31m┃\u001b[0m\u001b[31m┏\u001b[0m\u001b[31m┛\u001b[0m\u001b[31m┃\u001b[0m\u001b[31m┗\u001b[0m\u001b[31m┛\u001b[0m\u001b[31m┗\u001b[0m\u001b[31m┓\u001b[0m\u001b[31m┏\u001b[0m\u001b[31m┓\u001b[0m\u001b[31m┃\u001b[0m\u001b[31m┗\u001b[0m\u001b[31m━\u001b[0m\u001b[31m┛\u001b[0m\u001b[31m┗\u001b[0m\u001b[31m┓\u001b[0moo\u001b[31m┃\u001b[0m\u001b[31m┃\u001b[0m\u001b[31m┏\u001b[0m\u001b[31m━\u001b[0m\u001b[31m┛\u001b[0m\u001b[31m┗\u001b[0m\u001b[31m┛\u001b[0m\u001b[31m┗\u001b[0m\u001b[31m┛\u001b[0m\u001b[31m┃\u001b[0m\u001b[31m┃\u001b[0m\u001b[31m┃\u001b[0m\n",
      "\u001b[32mO\u001b[0m\u001b[32mO\u001b[0m\u001b[32mO\u001b[0m\u001b[32mO\u001b[0m\u001b[32mO\u001b[0m\u001b[32mO\u001b[0m\u001b[32mO\u001b[0m\u001b[32mO\u001b[0m\u001b[32mO\u001b[0m\u001b[32mO\u001b[0m\u001b[32mO\u001b[0m\u001b[31m┏\u001b[0m\u001b[31m┛\u001b[0m\u001b[31m┃\u001b[0mo\u001b[31m┏\u001b[0m\u001b[31m┓\u001b[0m\u001b[31m┏\u001b[0m\u001b[31m┓\u001b[0m\u001b[31m┃\u001b[0m\u001b[31m┏\u001b[0m\u001b[31m┛\u001b[0m\u001b[31m┗\u001b[0m\u001b[31m━\u001b[0m\u001b[31m┓\u001b[0m\u001b[31m┃\u001b[0m\u001b[31m┏\u001b[0m\u001b[31m┛\u001b[0m\u001b[31m┗\u001b[0m\u001b[31m━\u001b[0m\u001b[31m┛\u001b[0m\u001b[31m┃\u001b[0m\u001b[31m┏\u001b[0m\u001b[31m┛\u001b[0m\u001b[31m┏\u001b[0m\u001b[31m┓\u001b[0m\u001b[31m┏\u001b[0m\u001b[31m┓\u001b[0m\u001b[31m┏\u001b[0m\u001b[31m━\u001b[0m\u001b[31m━\u001b[0m\u001b[31m┓\u001b[0m\u001b[31m┏\u001b[0m\u001b[31m┛\u001b[0m\u001b[31m┏\u001b[0m\u001b[31m┓\u001b[0m\u001b[31m┃\u001b[0m-\u001b[31m┗\u001b[0m\u001b[31m━\u001b[0m\u001b[31m━\u001b[0m\u001b[31m━\u001b[0m\u001b[31m━\u001b[0m\u001b[31m┛\u001b[0m\u001b[31m┏\u001b[0m\u001b[31m┛\u001b[0m\u001b[31m┗\u001b[0m\u001b[31m┛\u001b[0m\u001b[31m┏\u001b[0m\u001b[31m┛\u001b[0m\u001b[31m┗\u001b[0m\u001b[31m┓\u001b[0m\u001b[31m┗\u001b[0m\u001b[31m┛\u001b[0m\u001b[31m┃\u001b[0m\u001b[31m┏\u001b[0m\u001b[31m┛\u001b[0m\u001b[31m┃\u001b[0m7--|J|\u001b[31m┃\u001b[0m\u001b[31m┗\u001b[0m\u001b[31m┓\u001b[0m\u001b[31m┃\u001b[0m\u001b[31m┏\u001b[0m\u001b[31m┛\u001b[0m\u001b[31m┏\u001b[0m\u001b[31m┛\u001b[0m\u001b[31m┃\u001b[0m\u001b[31m┏\u001b[0m\u001b[31m━\u001b[0m\u001b[31m━\u001b[0m\u001b[31m━\u001b[0m\u001b[31m┛\u001b[0m\u001b[31m┗\u001b[0m\u001b[31m┓\u001b[0m\u001b[31m┗\u001b[0m\u001b[31m┛\u001b[0m\u001b[31m┏\u001b[0m\u001b[31m━\u001b[0m\u001b[31m┛\u001b[0m\u001b[31m┏\u001b[0m\u001b[31m┛\u001b[0m\u001b[31m┏\u001b[0m\u001b[31m━\u001b[0m\u001b[31m━\u001b[0m\u001b[31m┛\u001b[0m\u001b[31m┃\u001b[0m\u001b[31m┗\u001b[0m\u001b[31m━\u001b[0m\u001b[31m┛\u001b[0m\u001b[31m┗\u001b[0m\u001b[31m┛\u001b[0m\u001b[31m┃\u001b[0m\u001b[31m┃\u001b[0m\u001b[31m┃\u001b[0m\u001b[31m┃\u001b[0m\u001b[31m┗\u001b[0m\u001b[31m┓\u001b[0m\u001b[31m┗\u001b[0m\u001b[31m┓\u001b[0m\u001b[31m┏\u001b[0m\u001b[31m━\u001b[0m\u001b[31m┛\u001b[0m\u001b[31m┃\u001b[0m\u001b[31m┃\u001b[0m\u001b[31m┃\u001b[0m\u001b[31m┏\u001b[0m\u001b[31m━\u001b[0m\u001b[31m━\u001b[0m\u001b[31m┓\u001b[0m\u001b[31m┗\u001b[0m\u001b[31m┓\u001b[0m\u001b[31m┏\u001b[0m\u001b[31m┛\u001b[0m\u001b[31m┗\u001b[0m\u001b[31m┛\u001b[0m\u001b[31m┏\u001b[0m\u001b[31m┓\u001b[0m\u001b[31m┏\u001b[0m\u001b[31m┓\u001b[0m\u001b[31m┏\u001b[0m\u001b[31m┓\u001b[0m\u001b[31m┗\u001b[0m\u001b[31m┛\u001b[0m\u001b[31m┃\u001b[0m\n",
      "\u001b[32mO\u001b[0m\u001b[32mO\u001b[0m\u001b[32mO\u001b[0m\u001b[32mO\u001b[0m\u001b[32mO\u001b[0m\u001b[32mO\u001b[0m\u001b[32mO\u001b[0m\u001b[32mO\u001b[0m\u001b[32mO\u001b[0m\u001b[32mO\u001b[0m\u001b[32mO\u001b[0m\u001b[31m┗\u001b[0m\u001b[31m┓\u001b[0m\u001b[31m┗\u001b[0m\u001b[31m━\u001b[0m\u001b[31m┛\u001b[0m\u001b[31m┗\u001b[0m\u001b[31m┛\u001b[0m\u001b[31m┗\u001b[0m\u001b[31m┛\u001b[0m\u001b[31m┗\u001b[0m\u001b[31m━\u001b[0m\u001b[31m━\u001b[0m\u001b[31m┓\u001b[0m\u001b[31m┃\u001b[0m\u001b[31m┃\u001b[0m\u001b[31m┗\u001b[0m\u001b[31m┓\u001b[0m\u001b[31m┏\u001b[0m\u001b[31m━\u001b[0m\u001b[31m┓\u001b[0m\u001b[31m┃\u001b[0m\u001b[31m┗\u001b[0m\u001b[31m━\u001b[0m\u001b[31m┛\u001b[0m\u001b[31m┗\u001b[0m\u001b[31m┛\u001b[0m\u001b[31m┃\u001b[0m\u001b[31m┃\u001b[0m\u001b[31m┏\u001b[0m\u001b[31m━\u001b[0m\u001b[31m┛\u001b[0m\u001b[31m┗\u001b[0m\u001b[31m━\u001b[0m\u001b[31m┛\u001b[0m\u001b[31m┃\u001b[0m\u001b[31m┗\u001b[0m\u001b[31m━\u001b[0m\u001b[31m┓\u001b[0m\u001b[31m┏\u001b[0m\u001b[31m┓\u001b[0m\u001b[31m┏\u001b[0m\u001b[31m┓\u001b[0m-\u001b[31m┃\u001b[0m\u001b[31m┏\u001b[0m\u001b[31m┓\u001b[0m\u001b[31m┏\u001b[0m\u001b[31m┛\u001b[0m.L\u001b[31m┗\u001b[0m\u001b[31m━\u001b[0m\u001b[31m┓\u001b[0m\u001b[31m┃\u001b[0m\u001b[31m┃\u001b[0m\u001b[31m┏\u001b[0m\u001b[31m┛\u001b[0mJ.FJ7F\u001b[31m┗\u001b[0m\u001b[31m┓\u001b[0m\u001b[31m┗\u001b[0m\u001b[31m┛\u001b[0m\u001b[31m┗\u001b[0m\u001b[31m━\u001b[0m\u001b[31m┛\u001b[0m\u001b[31m┏\u001b[0m\u001b[31m┛\u001b[0m\u001b[31m┗\u001b[0m\u001b[31m━\u001b[0m\u001b[31m┓\u001b[0m\u001b[31m┏\u001b[0m\u001b[31m┓\u001b[0m\u001b[31m┏\u001b[0m\u001b[31m┛\u001b[0m\u001b[31m┏\u001b[0m\u001b[31m━\u001b[0m\u001b[31m┛\u001b[0m\u001b[31m┏\u001b[0m\u001b[31m┓\u001b[0m\u001b[31m┗\u001b[0m\u001b[31m┓\u001b[0m\u001b[31m┗\u001b[0m\u001b[31m━\u001b[0m\u001b[31m━\u001b[0m\u001b[31m━\u001b[0m\u001b[31m┛\u001b[0m\u001b[31m┏\u001b[0m\u001b[31m┓\u001b[0mJ\u001b[31m┏\u001b[0m\u001b[31m┓\u001b[0m\u001b[31m┗\u001b[0m\u001b[31m┛\u001b[0m\u001b[31m┗\u001b[0m\u001b[31m┛\u001b[0m\u001b[31m┏\u001b[0m\u001b[31m┛\u001b[0mo\u001b[31m┃\u001b[0m\u001b[31m┃\u001b[0mo\u001b[31m┏\u001b[0m\u001b[31m┛\u001b[0m\u001b[31m┗\u001b[0m\u001b[31m┛\u001b[0m\u001b[31m┗\u001b[0m\u001b[31m━\u001b[0m\u001b[31m┓\u001b[0m\u001b[31m┗\u001b[0m\u001b[31m━\u001b[0m\u001b[31m┛\u001b[0m\u001b[31m┗\u001b[0m\u001b[31m┓\u001b[0m\u001b[31m┏\u001b[0m\u001b[31m━\u001b[0m\u001b[31m┛\u001b[0m\u001b[31m┗\u001b[0m\u001b[31m┛\u001b[0m\u001b[31m┃\u001b[0m\u001b[31m┃\u001b[0m\u001b[31m┃\u001b[0m\u001b[31m┏\u001b[0m\u001b[31m┓\u001b[0m\u001b[31m┃\u001b[0m\n",
      "\u001b[32mO\u001b[0m\u001b[32mO\u001b[0m\u001b[32mO\u001b[0m\u001b[32mO\u001b[0m\u001b[32mO\u001b[0m\u001b[32mO\u001b[0m\u001b[32mO\u001b[0m\u001b[32mO\u001b[0m\u001b[32mO\u001b[0m\u001b[32mO\u001b[0m\u001b[32mO\u001b[0m\u001b[31m┏\u001b[0m\u001b[31m┛\u001b[0m\u001b[31m┏\u001b[0m\u001b[31m━\u001b[0m\u001b[31m━\u001b[0m\u001b[31m┓\u001b[0m\u001b[31m┏\u001b[0m\u001b[31m┓\u001b[0m\u001b[31m┏\u001b[0m\u001b[31m┓\u001b[0m\u001b[31m┏\u001b[0m\u001b[31m┓\u001b[0m\u001b[31m┃\u001b[0m\u001b[31m┃\u001b[0m\u001b[31m┗\u001b[0m\u001b[31m┓\u001b[0m\u001b[31m┗\u001b[0m\u001b[31m┛\u001b[0m\u001b[31m┏\u001b[0m\u001b[31m┛\u001b[0m\u001b[31m┗\u001b[0m\u001b[31m┓\u001b[0m\u001b[31m┏\u001b[0m\u001b[31m┓\u001b[0m\u001b[31m┏\u001b[0m\u001b[31m┓\u001b[0m\u001b[31m┗\u001b[0m\u001b[31m┛\u001b[0m\u001b[31m┗\u001b[0m\u001b[31m━\u001b[0m\u001b[31m━\u001b[0m\u001b[31m━\u001b[0m\u001b[31m┓\u001b[0mJ\u001b[31m┗\u001b[0m\u001b[31m━\u001b[0m\u001b[31m━\u001b[0m\u001b[31m┛\u001b[0m\u001b[31m┃\u001b[0m\u001b[31m┗\u001b[0m\u001b[31m┛\u001b[0m\u001b[31m┗\u001b[0m\u001b[31m┓\u001b[0m\u001b[31m┃\u001b[0m\u001b[31m┃\u001b[0m\u001b[31m┗\u001b[0m\u001b[31m┛\u001b[0m7F\u001b[31m┏\u001b[0m\u001b[31m┓\u001b[0m7\u001b[31m┃\u001b[0m\u001b[31m┗\u001b[0m\u001b[31m┛\u001b[0m\u001b[31m┃\u001b[0mJ|-FL\u001b[31m┏\u001b[0m\u001b[31m━\u001b[0m\u001b[31m┓\u001b[0m\u001b[31m┗\u001b[0m\u001b[31m━\u001b[0m\u001b[31m━\u001b[0m\u001b[31m━\u001b[0m\u001b[31m━\u001b[0m\u001b[31m┓\u001b[0m\u001b[31m┗\u001b[0m\u001b[31m┓\u001b[0m\u001b[31m┏\u001b[0m\u001b[31m┓\u001b[0m\u001b[31m┃\u001b[0m\u001b[31m┃\u001b[0m\u001b[31m┃\u001b[0m\u001b[31m┗\u001b[0m\u001b[31m┓\u001b[0m\u001b[31m┗\u001b[0m\u001b[31m━\u001b[0m\u001b[31m━\u001b[0m\u001b[31m┛\u001b[0m\u001b[31m┗\u001b[0m\u001b[31m┓\u001b[0m\u001b[31m┃\u001b[0mJ\u001b[31m┏\u001b[0m\u001b[31m┓\u001b[0m\u001b[31m┏\u001b[0m\u001b[31m━\u001b[0m\u001b[31m┛\u001b[0m\u001b[31m┗\u001b[0m\u001b[31m━\u001b[0m\u001b[31m┛\u001b[0m\u001b[31m┗\u001b[0m\u001b[31m┓\u001b[0m\u001b[31m┏\u001b[0m\u001b[31m━\u001b[0m\u001b[31m┓\u001b[0m\u001b[31m┗\u001b[0m\u001b[31m━\u001b[0m\u001b[31m┓\u001b[0m\u001b[31m┃\u001b[0m\u001b[31m┃\u001b[0m\u001b[31m┏\u001b[0m\u001b[31m┛\u001b[0m\u001b[31m┏\u001b[0m\u001b[31m┓\u001b[0m\u001b[31m┏\u001b[0m\u001b[31m━\u001b[0m\u001b[31m━\u001b[0m\u001b[31m┛\u001b[0m\u001b[31m┏\u001b[0m\u001b[31m┓\u001b[0mo\u001b[31m┏\u001b[0m\u001b[31m┛\u001b[0m\u001b[31m┃\u001b[0m\u001b[31m┏\u001b[0m\u001b[31m┓\u001b[0m\u001b[31m┏\u001b[0m\u001b[31m┓\u001b[0m\u001b[31m┗\u001b[0m\u001b[31m┛\u001b[0m\u001b[31m┗\u001b[0m\u001b[31m┛\u001b[0m\u001b[31m┃\u001b[0m\u001b[31m┃\u001b[0m\n",
      "\u001b[32mO\u001b[0m\u001b[32mO\u001b[0m\u001b[32mO\u001b[0m\u001b[32mO\u001b[0m\u001b[32mO\u001b[0m\u001b[32mO\u001b[0m\u001b[32mO\u001b[0m\u001b[32mO\u001b[0m\u001b[32mO\u001b[0m\u001b[32mO\u001b[0m\u001b[32mO\u001b[0m\u001b[31m┗\u001b[0m\u001b[31m━\u001b[0m\u001b[31m┛\u001b[0m\u001b[31m┏\u001b[0m\u001b[31m━\u001b[0m\u001b[31m┛\u001b[0m\u001b[31m┃\u001b[0m\u001b[31m┗\u001b[0m\u001b[31m┛\u001b[0m\u001b[31m┗\u001b[0m\u001b[31m┛\u001b[0m\u001b[31m┃\u001b[0m\u001b[31m┃\u001b[0m\u001b[31m┗\u001b[0m\u001b[31m┓\u001b[0m\u001b[31m┗\u001b[0m\u001b[31m━\u001b[0m\u001b[31m━\u001b[0m\u001b[31m┛\u001b[0m\u001b[31m┏\u001b[0m\u001b[31m┓\u001b[0m\u001b[31m┗\u001b[0m\u001b[31m┛\u001b[0m\u001b[31m┗\u001b[0m\u001b[31m┛\u001b[0m\u001b[31m┗\u001b[0m\u001b[31m━\u001b[0m\u001b[31m━\u001b[0m\u001b[31m┓\u001b[0m\u001b[31m┏\u001b[0m\u001b[31m┓\u001b[0m\u001b[31m┏\u001b[0m\u001b[31m┛\u001b[0m\u001b[31m┏\u001b[0m\u001b[31m┓\u001b[0m-\u001b[31m┏\u001b[0m\u001b[31m┓\u001b[0m\u001b[31m┃\u001b[0m\u001b[31m┏\u001b[0m\u001b[31m━\u001b[0m\u001b[31m━\u001b[0m\u001b[31m┛\u001b[0m\u001b[31m┃\u001b[0m\u001b[31m┗\u001b[0m\u001b[31m━\u001b[0m\u001b[31m━\u001b[0m\u001b[31m┓\u001b[0m\u001b[31m┏\u001b[0m\u001b[31m┛\u001b[0m\u001b[31m┗\u001b[0m\u001b[31m┓\u001b[0m\u001b[31m┗\u001b[0m\u001b[31m┓\u001b[0m\u001b[31m┏\u001b[0m\u001b[31m┛\u001b[0m\u001b[31m┏\u001b[0m\u001b[31m┓\u001b[0m\u001b[31m┏\u001b[0m\u001b[31m┓\u001b[0m-\u001b[31m┗\u001b[0m\u001b[31m┓\u001b[0m\u001b[31m┃\u001b[0m\u001b[31m┏\u001b[0m\u001b[31m┓\u001b[0m\u001b[31m┏\u001b[0m\u001b[31m┓\u001b[0m\u001b[31m┏\u001b[0m\u001b[31m┛\u001b[0m\u001b[31m┏\u001b[0m\u001b[31m┛\u001b[0m\u001b[31m┃\u001b[0m\u001b[31m┃\u001b[0m\u001b[31m┃\u001b[0m\u001b[31m┃\u001b[0m\u001b[31m┃\u001b[0m\u001b[31m┏\u001b[0m\u001b[31m┛\u001b[0m\u001b[31m┏\u001b[0m\u001b[31m━\u001b[0m\u001b[31m━\u001b[0m\u001b[31m━\u001b[0m\u001b[31m┓\u001b[0m\u001b[31m┗\u001b[0m\u001b[31m┛\u001b[0m\u001b[31m┏\u001b[0m\u001b[31m┛\u001b[0m\u001b[31m┃\u001b[0m\u001b[31m┗\u001b[0m\u001b[31m━\u001b[0m\u001b[31m━\u001b[0m\u001b[31m━\u001b[0m\u001b[31m━\u001b[0m\u001b[31m━\u001b[0m\u001b[31m┓\u001b[0m\u001b[31m┃\u001b[0m\u001b[31m┃\u001b[0mo\u001b[31m┗\u001b[0m\u001b[31m━\u001b[0m\u001b[31m┓\u001b[0m\u001b[31m┗\u001b[0m\u001b[31m┛\u001b[0m\u001b[31m┗\u001b[0m\u001b[31m┛\u001b[0m\u001b[31m┏\u001b[0m\u001b[31m┛\u001b[0m\u001b[31m┃\u001b[0m\u001b[31m┃\u001b[0m\u001b[31m┏\u001b[0m\u001b[31m━\u001b[0m\u001b[31m━\u001b[0m\u001b[31m┛\u001b[0m\u001b[31m┗\u001b[0m\u001b[31m┓\u001b[0m\u001b[31m┗\u001b[0m\u001b[31m┓\u001b[0m\u001b[31m┗\u001b[0m\u001b[31m┛\u001b[0m\u001b[31m┗\u001b[0m\u001b[31m┛\u001b[0m\u001b[31m┗\u001b[0m\u001b[31m━\u001b[0m\u001b[31m━\u001b[0m\u001b[31m━\u001b[0m\u001b[31m┓\u001b[0m\u001b[31m┃\u001b[0m\u001b[31m┃\u001b[0m\n",
      "\u001b[32mO\u001b[0m\u001b[32mO\u001b[0m\u001b[32mO\u001b[0m\u001b[32mO\u001b[0m\u001b[32mO\u001b[0m\u001b[32mO\u001b[0m\u001b[32mO\u001b[0m\u001b[32mO\u001b[0m\u001b[32mO\u001b[0m\u001b[32mO\u001b[0m\u001b[32mO\u001b[0m\u001b[32mO\u001b[0m\u001b[32mO\u001b[0m\u001b[32mO\u001b[0m\u001b[31m┗\u001b[0m\u001b[31m━\u001b[0m\u001b[31m━\u001b[0m\u001b[31m┛\u001b[0mo\u001b[31m┏\u001b[0m\u001b[31m┓\u001b[0m\u001b[31m┏\u001b[0m\u001b[31m┛\u001b[0m\u001b[31m┗\u001b[0m\u001b[31m┓\u001b[0m\u001b[31m┗\u001b[0m\u001b[31m━\u001b[0m\u001b[31m┓\u001b[0m\u001b[31m┏\u001b[0m\u001b[31m┓\u001b[0m\u001b[31m┃\u001b[0m\u001b[31m┗\u001b[0m\u001b[31m┓\u001b[0m\u001b[31m┏\u001b[0m\u001b[31m━\u001b[0m\u001b[31m━\u001b[0m\u001b[31m━\u001b[0m\u001b[31m━\u001b[0m\u001b[31m┓\u001b[0m\u001b[31m┗\u001b[0m\u001b[31m┛\u001b[0m\u001b[31m┗\u001b[0m\u001b[31m┛\u001b[0m\u001b[31m┏\u001b[0m\u001b[31m┛\u001b[0m\u001b[31m┗\u001b[0m\u001b[31m━\u001b[0m\u001b[31m┛\u001b[0m\u001b[31m┗\u001b[0m\u001b[31m┛\u001b[0m\u001b[31m┗\u001b[0m\u001b[31m━\u001b[0m\u001b[31m━\u001b[0m\u001b[31m━\u001b[0m\u001b[31m┛\u001b[0m\u001b[31m┏\u001b[0m\u001b[31m━\u001b[0m\u001b[31m━\u001b[0m\u001b[31m┛\u001b[0m\u001b[31m┗\u001b[0m\u001b[31m┓\u001b[0m\u001b[31m┏\u001b[0m\u001b[31m┛\u001b[0m\u001b[31m┏\u001b[0m\u001b[31m┛\u001b[0m\u001b[31m┗\u001b[0m\u001b[31m┓\u001b[0m\u001b[31m┃\u001b[0m\u001b[31m┗\u001b[0m\u001b[31m┛\u001b[0m\u001b[31m┃\u001b[0m\u001b[31m┏\u001b[0m\u001b[31m┓\u001b[0m\u001b[31m┃\u001b[0m\u001b[31m┗\u001b[0m\u001b[31m┛\u001b[0m\u001b[31m┗\u001b[0m\u001b[31m┛\u001b[0m\u001b[31m┃\u001b[0m\u001b[31m┗\u001b[0m\u001b[31m┓\u001b[0m\u001b[31m┃\u001b[0m-\u001b[31m┃\u001b[0m\u001b[31m┃\u001b[0m\u001b[31m┗\u001b[0m\u001b[31m┛\u001b[0m\u001b[31m┗\u001b[0m\u001b[31m┛\u001b[0mF\u001b[31m┗\u001b[0m\u001b[31m━\u001b[0m\u001b[31m━\u001b[0m\u001b[31m┓\u001b[0m\u001b[31m┗\u001b[0m\u001b[31m━\u001b[0m\u001b[31m┓\u001b[0m\u001b[31m┗\u001b[0m\u001b[31m┓\u001b[0m\u001b[31m┃\u001b[0mL\u001b[31m┏\u001b[0m\u001b[31m┓\u001b[0m|\u001b[31m┏\u001b[0m\u001b[31m━\u001b[0m\u001b[31m┛\u001b[0m\u001b[31m┃\u001b[0m\u001b[31m┗\u001b[0m\u001b[31m━\u001b[0m\u001b[31m━\u001b[0m\u001b[31m┓\u001b[0m\u001b[31m┃\u001b[0m\u001b[31m┏\u001b[0m\u001b[31m━\u001b[0m\u001b[31m┓\u001b[0m\u001b[31m┏\u001b[0m\u001b[31m┛\u001b[0mo\u001b[31m┗\u001b[0m\u001b[31m┛\u001b[0m\u001b[31m┃\u001b[0m\u001b[31m┏\u001b[0m\u001b[31m━\u001b[0m\u001b[31m━\u001b[0m\u001b[31m━\u001b[0m\u001b[31m┛\u001b[0m\u001b[31m┏\u001b[0m\u001b[31m┛\u001b[0m\u001b[31m┏\u001b[0m\u001b[31m━\u001b[0m\u001b[31m┓\u001b[0m\u001b[31m┏\u001b[0m\u001b[31m━\u001b[0m\u001b[31m━\u001b[0m\u001b[31m━\u001b[0m\u001b[31m━\u001b[0m\u001b[31m┛\u001b[0m\u001b[31m┃\u001b[0m\u001b[31m┃\u001b[0m\n",
      "\u001b[32mO\u001b[0m\u001b[32mO\u001b[0m\u001b[32mO\u001b[0m\u001b[32mO\u001b[0m\u001b[32mO\u001b[0m\u001b[32mO\u001b[0m\u001b[32mO\u001b[0m\u001b[32mO\u001b[0m\u001b[32mO\u001b[0m\u001b[32mO\u001b[0m\u001b[32mO\u001b[0m\u001b[32mO\u001b[0m\u001b[32mO\u001b[0m\u001b[32mO\u001b[0m\u001b[32mO\u001b[0m\u001b[31m┏\u001b[0m\u001b[31m┓\u001b[0m\u001b[31m┏\u001b[0m\u001b[31m━\u001b[0m\u001b[31m┛\u001b[0m\u001b[31m┗\u001b[0m\u001b[31m┛\u001b[0m\u001b[31m┏\u001b[0m\u001b[31m┓\u001b[0m\u001b[31m┗\u001b[0m\u001b[31m━\u001b[0m\u001b[31m━\u001b[0m\u001b[31m┛\u001b[0m\u001b[31m┃\u001b[0m\u001b[31m┃\u001b[0m\u001b[31m┃\u001b[0m\u001b[31m┏\u001b[0m\u001b[31m┛\u001b[0m\u001b[31m┃\u001b[0m\u001b[31m┏\u001b[0m\u001b[31m━\u001b[0m\u001b[31m━\u001b[0m\u001b[31m━\u001b[0m\u001b[31m┛\u001b[0m7\u001b[31m┏\u001b[0m\u001b[31m━\u001b[0m\u001b[31m━\u001b[0m\u001b[31m┛\u001b[0m\u001b[31m┏\u001b[0m\u001b[31m┓\u001b[0m\u001b[31m┏\u001b[0m\u001b[31m━\u001b[0m\u001b[31m━\u001b[0m\u001b[31m━\u001b[0m\u001b[31m━\u001b[0m\u001b[31m━\u001b[0m\u001b[31m━\u001b[0m\u001b[31m━\u001b[0m\u001b[31m┓\u001b[0m\u001b[31m┃\u001b[0m\u001b[31m┏\u001b[0m\u001b[31m┓\u001b[0m\u001b[31m┏\u001b[0m\u001b[31m┓\u001b[0m\u001b[31m┃\u001b[0m\u001b[31m┗\u001b[0m\u001b[31m┓\u001b[0m\u001b[31m┗\u001b[0m\u001b[31m┓\u001b[0m\u001b[31m┏\u001b[0m\u001b[31m┛\u001b[0m\u001b[31m┗\u001b[0m\u001b[31m┓\u001b[0m\u001b[31m┏\u001b[0m\u001b[31m┛\u001b[0m\u001b[31m┃\u001b[0m\u001b[31m┃\u001b[0m\u001b[31m┗\u001b[0m\u001b[31m━\u001b[0m\u001b[31m━\u001b[0m\u001b[31m━\u001b[0m\u001b[31m┓\u001b[0m\u001b[31m┗\u001b[0m\u001b[31m┓\u001b[0m\u001b[31m┃\u001b[0m\u001b[31m┗\u001b[0m\u001b[31m┓\u001b[0m\u001b[31m┃\u001b[0m\u001b[31m┗\u001b[0m\u001b[31m┓\u001b[0m\u001b[31m┏\u001b[0m\u001b[31m┓\u001b[0m\u001b[31m┏\u001b[0m\u001b[31m┓\u001b[0m\u001b[31m┏\u001b[0m\u001b[31m┓\u001b[0m\u001b[31m┏\u001b[0m\u001b[31m┛\u001b[0m\u001b[31m┏\u001b[0m\u001b[31m━\u001b[0m\u001b[31m┛\u001b[0m\u001b[31m┏\u001b[0m\u001b[31m┛\u001b[0m\u001b[31m┗\u001b[0m\u001b[31m━\u001b[0m\u001b[31m┛\u001b[0m\u001b[31m┗\u001b[0m\u001b[31m┓\u001b[0m\u001b[31m┗\u001b[0m\u001b[31m┓\u001b[0mo\u001b[31m┗\u001b[0m\u001b[31m━\u001b[0m\u001b[31m┓\u001b[0m\u001b[31m┏\u001b[0m\u001b[31m┛\u001b[0m\u001b[31m┃\u001b[0m\u001b[31m┗\u001b[0m\u001b[31m┓\u001b[0m\u001b[31m┃\u001b[0m\u001b[31m┗\u001b[0m\u001b[31m━\u001b[0m\u001b[31m━\u001b[0m\u001b[31m━\u001b[0m\u001b[31m━\u001b[0m\u001b[31m┛\u001b[0m\u001b[31m┗\u001b[0m\u001b[31m━\u001b[0m\u001b[31m━\u001b[0m\u001b[31m━\u001b[0m\u001b[31m━\u001b[0m\u001b[31m┛\u001b[0m\u001b[31m┏\u001b[0m\u001b[31m┛\u001b[0mo\u001b[31m┃\u001b[0m\u001b[31m┗\u001b[0m\u001b[31m━\u001b[0m\u001b[31m┓\u001b[0m\u001b[31m┏\u001b[0m\u001b[31m━\u001b[0m\u001b[31m┓\u001b[0m\u001b[31m┃\u001b[0m\u001b[31m┃\u001b[0m\n",
      "\u001b[32mO\u001b[0m\u001b[32mO\u001b[0m\u001b[32mO\u001b[0m\u001b[32mO\u001b[0m\u001b[32mO\u001b[0m\u001b[32mO\u001b[0m\u001b[32mO\u001b[0m\u001b[32mO\u001b[0m\u001b[32mO\u001b[0m\u001b[32mO\u001b[0m\u001b[31m┏\u001b[0m\u001b[31m┓\u001b[0m\u001b[31m┏\u001b[0m\u001b[31m┓\u001b[0m\u001b[31m┏\u001b[0m\u001b[31m┛\u001b[0m\u001b[31m┃\u001b[0m\u001b[31m┗\u001b[0m\u001b[31m━\u001b[0m\u001b[31m━\u001b[0m\u001b[31m━\u001b[0m\u001b[31m━\u001b[0m\u001b[31m┛\u001b[0m\u001b[31m┗\u001b[0m\u001b[31m━\u001b[0m\u001b[31m┓\u001b[0m\u001b[31m┏\u001b[0m\u001b[31m━\u001b[0m\u001b[31m┛\u001b[0m\u001b[31m┗\u001b[0m\u001b[31m┛\u001b[0m\u001b[31m┗\u001b[0m\u001b[31m━\u001b[0m\u001b[31m┛\u001b[0m\u001b[31m┗\u001b[0m\u001b[31m━\u001b[0m\u001b[31m━\u001b[0m\u001b[31m┓\u001b[0m\u001b[31m┏\u001b[0m\u001b[31m━\u001b[0m\u001b[31m┛\u001b[0m\u001b[31m┏\u001b[0m\u001b[31m┓\u001b[0m\u001b[31m┏\u001b[0m\u001b[31m┛\u001b[0m\u001b[31m┃\u001b[0m\u001b[31m┗\u001b[0m\u001b[31m━\u001b[0m\u001b[31m━\u001b[0m\u001b[31m━\u001b[0m\u001b[31m━\u001b[0m\u001b[31m━\u001b[0m\u001b[31m┓\u001b[0m.\u001b[31m┃\u001b[0m\u001b[31m┗\u001b[0m\u001b[31m┛\u001b[0m\u001b[31m┗\u001b[0m\u001b[31m┛\u001b[0m\u001b[31m┃\u001b[0m\u001b[31m┗\u001b[0m\u001b[31m┓\u001b[0m\u001b[31m┃\u001b[0m\u001b[31m┏\u001b[0m\u001b[31m┛\u001b[0m\u001b[31m┃\u001b[0m\u001b[31m┏\u001b[0m\u001b[31m┓\u001b[0m\u001b[31m┃\u001b[0m\u001b[31m┗\u001b[0m\u001b[31m┓\u001b[0m\u001b[31m┃\u001b[0m\u001b[31m┃\u001b[0m\u001b[31m┏\u001b[0m\u001b[31m┓\u001b[0m\u001b[31m┏\u001b[0m\u001b[31m┓\u001b[0m\u001b[31m┗\u001b[0m\u001b[31m┓\u001b[0m\u001b[31m┃\u001b[0m\u001b[31m┗\u001b[0m\u001b[31m┓\u001b[0m\u001b[31m┃\u001b[0m\u001b[31m┃\u001b[0m\u001b[31m┏\u001b[0m\u001b[31m┛\u001b[0m\u001b[31m┃\u001b[0m\u001b[31m┗\u001b[0m\u001b[31m┛\u001b[0m\u001b[31m┗\u001b[0m\u001b[31m┛\u001b[0m\u001b[31m┃\u001b[0m\u001b[31m┗\u001b[0m\u001b[31m┓\u001b[0m\u001b[31m┃\u001b[0m\u001b[31m┏\u001b[0m\u001b[31m┓\u001b[0m\u001b[31m┗\u001b[0m\u001b[31m━\u001b[0m\u001b[31m━\u001b[0m\u001b[31m━\u001b[0m\u001b[31m━\u001b[0m\u001b[31m┓\u001b[0m\u001b[31m┃\u001b[0mL\u001b[31m┗\u001b[0m\u001b[31m┓\u001b[0m\u001b[31m┏\u001b[0m\u001b[31m┓\u001b[0m\u001b[31m┗\u001b[0m\u001b[31m┛\u001b[0m\u001b[31m┏\u001b[0m\u001b[31m┛\u001b[0m\u001b[31m┏\u001b[0m\u001b[31m┛\u001b[0m\u001b[31m┃\u001b[0m\u001b[31m┏\u001b[0m\u001b[31m━\u001b[0m\u001b[31m━\u001b[0m\u001b[31m┓\u001b[0m\u001b[31m┏\u001b[0m\u001b[31m┓\u001b[0m\u001b[31m┏\u001b[0m\u001b[31m━\u001b[0m\u001b[31m━\u001b[0m\u001b[31m┓\u001b[0m\u001b[31m┏\u001b[0m\u001b[31m┓\u001b[0m\u001b[31m┗\u001b[0m\u001b[31m━\u001b[0m\u001b[31m┓\u001b[0m\u001b[31m┃\u001b[0m\u001b[31m┏\u001b[0m\u001b[31m┓\u001b[0m\u001b[31m┗\u001b[0m\u001b[31m┛\u001b[0m\u001b[31m┏\u001b[0m\u001b[31m┛\u001b[0m\u001b[31m┗\u001b[0m\u001b[31m┛\u001b[0m\n",
      "\u001b[32mO\u001b[0m\u001b[32mO\u001b[0m\u001b[32mO\u001b[0m\u001b[32mO\u001b[0m\u001b[32mO\u001b[0m\u001b[32mO\u001b[0m\u001b[32mO\u001b[0m\u001b[32mO\u001b[0m\u001b[32mO\u001b[0m\u001b[32mO\u001b[0m\u001b[31m┃\u001b[0m\u001b[31m┗\u001b[0m\u001b[31m┛\u001b[0m\u001b[31m┃\u001b[0m\u001b[31m┗\u001b[0m\u001b[31m┓\u001b[0m\u001b[31m┃\u001b[0m\u001b[31m┏\u001b[0m\u001b[31m━\u001b[0m\u001b[31m━\u001b[0m\u001b[31m━\u001b[0m\u001b[31m━\u001b[0m\u001b[31m━\u001b[0m\u001b[31m━\u001b[0m\u001b[31m━\u001b[0m\u001b[31m┛\u001b[0m\u001b[31m┃\u001b[0m\u001b[31m┏\u001b[0m\u001b[31m┓\u001b[0m\u001b[31m┏\u001b[0m\u001b[31m┓\u001b[0mo\u001b[31m┏\u001b[0m\u001b[31m┓\u001b[0mo\u001b[31m┏\u001b[0m\u001b[31m┓\u001b[0m\u001b[31m┃\u001b[0m\u001b[31m┃\u001b[0m\u001b[31m┏\u001b[0m\u001b[31m━\u001b[0m\u001b[31m┛\u001b[0m\u001b[31m┗\u001b[0m\u001b[31m┛\u001b[0m\u001b[31m┏\u001b[0m\u001b[31m┛\u001b[0m\u001b[31m┏\u001b[0m\u001b[31m━\u001b[0m\u001b[31m━\u001b[0m\u001b[31m┓\u001b[0m\u001b[31m┏\u001b[0m\u001b[31m━\u001b[0m\u001b[31m┛\u001b[0m\u001b[31m┏\u001b[0m\u001b[31m┛\u001b[0m\u001b[31m┏\u001b[0m\u001b[31m┓\u001b[0m\u001b[31m┏\u001b[0m\u001b[31m━\u001b[0m\u001b[31m┛\u001b[0m\u001b[31m┏\u001b[0m\u001b[31m┛\u001b[0m\u001b[31m┃\u001b[0m\u001b[31m┗\u001b[0m\u001b[31m┓\u001b[0m\u001b[31m┃\u001b[0m\u001b[31m┃\u001b[0m\u001b[31m┃\u001b[0m\u001b[31m┃\u001b[0m\u001b[31m┏\u001b[0m\u001b[31m┛\u001b[0m\u001b[31m┃\u001b[0m\u001b[31m┗\u001b[0m\u001b[31m┛\u001b[0m\u001b[31m┗\u001b[0m\u001b[31m┛\u001b[0m\u001b[31m┃\u001b[0m\u001b[31m┏\u001b[0m\u001b[31m┛\u001b[0m\u001b[31m┗\u001b[0m\u001b[31m┓\u001b[0m\u001b[31m┃\u001b[0m\u001b[31m┗\u001b[0m\u001b[31m┛\u001b[0m\u001b[31m┗\u001b[0m\u001b[31m┓\u001b[0m\u001b[31m┗\u001b[0m\u001b[31m━\u001b[0m\u001b[31m━\u001b[0m\u001b[31m━\u001b[0m\u001b[31m┓\u001b[0m\u001b[31m┃\u001b[0m|\u001b[31m┃\u001b[0m\u001b[31m┃\u001b[0m\u001b[31m┃\u001b[0m\u001b[31m┃\u001b[0m\u001b[31m┏\u001b[0m\u001b[31m━\u001b[0m\u001b[31m━\u001b[0m\u001b[31m━\u001b[0m\u001b[31m━\u001b[0m\u001b[31m┛\u001b[0m\u001b[31m┗\u001b[0m\u001b[31m━\u001b[0m\u001b[31m━\u001b[0m\u001b[31m┛\u001b[0m\u001b[31m┃\u001b[0m\u001b[31m┗\u001b[0m\u001b[31m━\u001b[0m\u001b[31m┓\u001b[0m\u001b[31m┃\u001b[0m\u001b[31m┏\u001b[0m\u001b[31m┛\u001b[0mo\u001b[31m┗\u001b[0m\u001b[31m┛\u001b[0m\u001b[31m┏\u001b[0m\u001b[31m┓\u001b[0m\u001b[31m┃\u001b[0m\u001b[31m┃\u001b[0m\u001b[31m┃\u001b[0m\u001b[31m┗\u001b[0m\u001b[31m━\u001b[0m\u001b[31m┓\u001b[0m\u001b[31m┃\u001b[0m\u001b[31m┃\u001b[0m\u001b[31m┗\u001b[0m\u001b[31m━\u001b[0m\u001b[31m┓\u001b[0m\u001b[31m┃\u001b[0m\u001b[31m┗\u001b[0m\u001b[31m┛\u001b[0m\u001b[31m┗\u001b[0m\u001b[31m┓\u001b[0m\u001b[31m┏\u001b[0m\u001b[31m┛\u001b[0m\u001b[32mO\u001b[0m\u001b[32mO\u001b[0m\u001b[32mO\u001b[0m\n",
      "\u001b[32mO\u001b[0m\u001b[32mO\u001b[0m\u001b[32mO\u001b[0m\u001b[32mO\u001b[0m\u001b[32mO\u001b[0m\u001b[32mO\u001b[0m\u001b[32mO\u001b[0m\u001b[31m┏\u001b[0m\u001b[31m┓\u001b[0m\u001b[32mO\u001b[0m\u001b[31m┗\u001b[0m\u001b[31m┓\u001b[0m\u001b[31m┏\u001b[0m\u001b[31m┛\u001b[0m\u001b[31m┏\u001b[0m\u001b[31m┛\u001b[0m\u001b[31m┃\u001b[0m\u001b[31m┗\u001b[0m\u001b[31m━\u001b[0m\u001b[31m━\u001b[0m\u001b[31m━\u001b[0m\u001b[31m━\u001b[0m\u001b[31m━\u001b[0m\u001b[31m━\u001b[0m\u001b[31m━\u001b[0m\u001b[31m━\u001b[0m\u001b[31m┛\u001b[0m\u001b[31m┃\u001b[0m\u001b[31m┃\u001b[0m\u001b[31m┃\u001b[0m\u001b[31m┃\u001b[0m\u001b[31m┏\u001b[0m\u001b[31m┛\u001b[0m\u001b[31m┗\u001b[0m\u001b[31m━\u001b[0m\u001b[31m┛\u001b[0m\u001b[31m┗\u001b[0m\u001b[31m┛\u001b[0m\u001b[31m┃\u001b[0m\u001b[31m┗\u001b[0m\u001b[31m━\u001b[0m\u001b[31m━\u001b[0m\u001b[31m━\u001b[0m\u001b[31m┓\u001b[0m\u001b[31m┗\u001b[0m\u001b[31m┓\u001b[0m\u001b[31m┗\u001b[0m\u001b[31m━\u001b[0m\u001b[31m┓\u001b[0m\u001b[31m┗\u001b[0m\u001b[31m┛\u001b[0m\u001b[31m┏\u001b[0m\u001b[31m┓\u001b[0m\u001b[31m┗\u001b[0m\u001b[31m━\u001b[0m\u001b[31m┛\u001b[0m\u001b[31m┗\u001b[0m\u001b[31m┛\u001b[0m\u001b[31m┏\u001b[0m\u001b[31m┓\u001b[0m\u001b[31m┗\u001b[0m\u001b[31m┓\u001b[0m\u001b[31m┗\u001b[0m\u001b[31m┓\u001b[0m\u001b[31m┃\u001b[0m\u001b[31m┃\u001b[0m\u001b[31m┃\u001b[0m\u001b[31m┗\u001b[0m\u001b[31m┛\u001b[0m\u001b[31m┗\u001b[0m\u001b[31m┓\u001b[0m\u001b[31m┗\u001b[0m\u001b[31m━\u001b[0m\u001b[31m━\u001b[0m\u001b[31m━\u001b[0m\u001b[31m┓\u001b[0m\u001b[31m┃\u001b[0m\u001b[31m┗\u001b[0m\u001b[31m━\u001b[0m\u001b[31m┓\u001b[0m\u001b[31m┃\u001b[0m\u001b[31m┃\u001b[0m\u001b[31m┏\u001b[0m\u001b[31m━\u001b[0m\u001b[31m┓\u001b[0m\u001b[31m┗\u001b[0m\u001b[31m┓\u001b[0m\u001b[31m┏\u001b[0m\u001b[31m━\u001b[0m\u001b[31m┓\u001b[0m\u001b[31m┃\u001b[0m\u001b[31m┗\u001b[0m\u001b[31m━\u001b[0m\u001b[31m┛\u001b[0m\u001b[31m┃\u001b[0m\u001b[31m┃\u001b[0m\u001b[31m┃\u001b[0m\u001b[31m┗\u001b[0m\u001b[31m━\u001b[0m\u001b[31m┓\u001b[0m\u001b[31m┏\u001b[0m\u001b[31m━\u001b[0m\u001b[31m━\u001b[0m\u001b[31m━\u001b[0m\u001b[31m━\u001b[0m\u001b[31m━\u001b[0m\u001b[31m━\u001b[0m\u001b[31m┛\u001b[0m\u001b[31m┏\u001b[0m\u001b[31m━\u001b[0m\u001b[31m┛\u001b[0m\u001b[31m┗\u001b[0m\u001b[31m┛\u001b[0m\u001b[31m┏\u001b[0m\u001b[31m┓\u001b[0m\u001b[31m┏\u001b[0m\u001b[31m━\u001b[0m\u001b[31m┛\u001b[0m\u001b[31m┃\u001b[0m\u001b[31m┗\u001b[0m\u001b[31m┛\u001b[0m\u001b[31m┗\u001b[0m\u001b[31m┓\u001b[0m\u001b[31m┏\u001b[0m\u001b[31m┛\u001b[0m\u001b[31m┗\u001b[0m\u001b[31m┛\u001b[0mo\u001b[31m┏\u001b[0m\u001b[31m┛\u001b[0m\u001b[31m┗\u001b[0m\u001b[31m┓\u001b[0m\u001b[31m┏\u001b[0m\u001b[31m┓\u001b[0m\u001b[31m┃\u001b[0m\u001b[31m┃\u001b[0m\u001b[32mO\u001b[0m\u001b[32mO\u001b[0m\u001b[32mO\u001b[0m\u001b[32mO\u001b[0m\n",
      "\u001b[32mO\u001b[0m\u001b[32mO\u001b[0m\u001b[32mO\u001b[0m\u001b[32mO\u001b[0m\u001b[32mO\u001b[0m\u001b[32mO\u001b[0m\u001b[32mO\u001b[0m\u001b[31m┃\u001b[0m\u001b[31m┃\u001b[0m\u001b[31m┏\u001b[0m\u001b[31m━\u001b[0m\u001b[31m┛\u001b[0m\u001b[31m┗\u001b[0m\u001b[31m┓\u001b[0m\u001b[31m┗\u001b[0m\u001b[31m┓\u001b[0m\u001b[31m┗\u001b[0m\u001b[31m┓\u001b[0m\u001b[31m┏\u001b[0m\u001b[31m━\u001b[0m\u001b[31m━\u001b[0m\u001b[31m┓\u001b[0m\u001b[31m┏\u001b[0m\u001b[31m┓\u001b[0m\u001b[31m┏\u001b[0m\u001b[31m┓\u001b[0m\u001b[31m┏\u001b[0m\u001b[31m┛\u001b[0m\u001b[31m┗\u001b[0m\u001b[31m┛\u001b[0m\u001b[31m┗\u001b[0m\u001b[31m┛\u001b[0m\u001b[31m┏\u001b[0m\u001b[31m━\u001b[0m\u001b[31m━\u001b[0m\u001b[31m┓\u001b[0m\u001b[31m┏\u001b[0m\u001b[31m┓\u001b[0m\u001b[31m┃\u001b[0m\u001b[31m┏\u001b[0m\u001b[31m━\u001b[0m\u001b[31m━\u001b[0m\u001b[31m━\u001b[0m\u001b[31m┛\u001b[0m-\u001b[31m┗\u001b[0m\u001b[31m━\u001b[0m\u001b[31m━\u001b[0m\u001b[31m┛\u001b[0mF\u001b[31m┏\u001b[0m\u001b[31m┛\u001b[0m\u001b[31m┗\u001b[0m\u001b[31m┓\u001b[0m\u001b[31m┏\u001b[0m\u001b[31m━\u001b[0m\u001b[31m┓\u001b[0m\u001b[31m┏\u001b[0m\u001b[31m┛\u001b[0m\u001b[31m┗\u001b[0m\u001b[31m┓\u001b[0m\u001b[31m┃\u001b[0m\u001b[31m┏\u001b[0m\u001b[31m┛\u001b[0m\u001b[31m┃\u001b[0m\u001b[31m┗\u001b[0m\u001b[31m┛\u001b[0m\u001b[31m┏\u001b[0m\u001b[31m━\u001b[0m\u001b[31m━\u001b[0m\u001b[31m┛\u001b[0m\u001b[31m┏\u001b[0m\u001b[31m┓\u001b[0m\u001b[31m┏\u001b[0m\u001b[31m┓\u001b[0m\u001b[31m┃\u001b[0m\u001b[31m┃\u001b[0m\u001b[31m┏\u001b[0m\u001b[31m━\u001b[0m\u001b[31m┛\u001b[0m\u001b[31m┗\u001b[0m\u001b[31m┛\u001b[0m\u001b[31m┗\u001b[0m\u001b[31m┓\u001b[0m\u001b[31m┗\u001b[0m\u001b[31m━\u001b[0m\u001b[31m┛\u001b[0m\u001b[31m┗\u001b[0m\u001b[31m┓\u001b[0m\u001b[31m┃\u001b[0m\u001b[31m┗\u001b[0m\u001b[31m━\u001b[0m\u001b[31m┓\u001b[0m\u001b[31m┏\u001b[0m\u001b[31m┛\u001b[0m\u001b[31m┃\u001b[0m\u001b[31m┗\u001b[0m\u001b[31m━\u001b[0m\u001b[31m┓\u001b[0m\u001b[31m┗\u001b[0m\u001b[31m┛\u001b[0m\u001b[31m┏\u001b[0m\u001b[31m┓\u001b[0m\u001b[31m┏\u001b[0m\u001b[31m┓\u001b[0m\u001b[31m┏\u001b[0m\u001b[31m┓\u001b[0m\u001b[31m┏\u001b[0m\u001b[31m┛\u001b[0mo\u001b[31m┏\u001b[0m\u001b[31m┓\u001b[0m\u001b[31m┏\u001b[0m\u001b[31m┛\u001b[0m\u001b[31m┗\u001b[0m\u001b[31m┛\u001b[0m\u001b[31m┏\u001b[0m\u001b[31m━\u001b[0m\u001b[31m┛\u001b[0m\u001b[31m┏\u001b[0m\u001b[31m┓\u001b[0m\u001b[31m┏\u001b[0m\u001b[31m┛\u001b[0m\u001b[31m┗\u001b[0m\u001b[31m━\u001b[0m\u001b[31m━\u001b[0m\u001b[31m━\u001b[0m\u001b[31m┓\u001b[0m\u001b[31m┗\u001b[0m\u001b[31m━\u001b[0m\u001b[31m━\u001b[0m\u001b[31m┛\u001b[0m\u001b[31m┃\u001b[0m\u001b[31m┗\u001b[0m\u001b[31m┛\u001b[0m\u001b[31m┗\u001b[0m\u001b[31m━\u001b[0m\u001b[31m┓\u001b[0m\u001b[32mO\u001b[0m\u001b[32mO\u001b[0m\n",
      "\u001b[32mO\u001b[0m\u001b[32mO\u001b[0m\u001b[32mO\u001b[0m\u001b[32mO\u001b[0m\u001b[32mO\u001b[0m\u001b[32mO\u001b[0m\u001b[32mO\u001b[0m\u001b[31m┃\u001b[0m\u001b[31m┃\u001b[0m\u001b[31m┗\u001b[0m\u001b[31m━\u001b[0m\u001b[31m┓\u001b[0m\u001b[31m┏\u001b[0m\u001b[31m┛\u001b[0m\u001b[31m┏\u001b[0m\u001b[31m┛\u001b[0m\u001b[31m┏\u001b[0m\u001b[31m┛\u001b[0m\u001b[31m┗\u001b[0m\u001b[31m━\u001b[0m\u001b[31m┓\u001b[0m\u001b[31m┗\u001b[0m\u001b[31m┛\u001b[0m\u001b[31m┗\u001b[0m\u001b[31m┛\u001b[0m\u001b[31m┗\u001b[0m\u001b[31m┛\u001b[0m\u001b[31m┏\u001b[0m\u001b[31m┓\u001b[0m\u001b[31m┏\u001b[0m\u001b[31m┓\u001b[0m\u001b[31m┏\u001b[0m\u001b[31m┛\u001b[0m\u001b[31m┏\u001b[0m\u001b[31m━\u001b[0m\u001b[31m┛\u001b[0m\u001b[31m┃\u001b[0m\u001b[31m┃\u001b[0m\u001b[31m┃\u001b[0m\u001b[31m┗\u001b[0m\u001b[31m━\u001b[0m\u001b[31m━\u001b[0m\u001b[31m━\u001b[0m\u001b[31m━\u001b[0m\u001b[31m━\u001b[0m\u001b[31m━\u001b[0m\u001b[31m┓\u001b[0m\u001b[31m┏\u001b[0m\u001b[31m┓\u001b[0m\u001b[31m┏\u001b[0m\u001b[31m┛\u001b[0m\u001b[31m┏\u001b[0m\u001b[31m━\u001b[0m\u001b[31m┛\u001b[0m\u001b[31m┗\u001b[0m\u001b[31m┓\u001b[0m\u001b[31m┃\u001b[0m\u001b[31m┗\u001b[0m\u001b[31m━\u001b[0m\u001b[31m┓\u001b[0m\u001b[31m┗\u001b[0m\u001b[31m┛\u001b[0m\u001b[31m┃\u001b[0m\u001b[31m┏\u001b[0m\u001b[31m┛\u001b[0m\u001b[31m┏\u001b[0m\u001b[31m━\u001b[0m\u001b[31m┛\u001b[0m\u001b[31m┏\u001b[0m\u001b[31m┓\u001b[0m7\u001b[31m┃\u001b[0m\u001b[31m┃\u001b[0m\u001b[31m┃\u001b[0m\u001b[31m┗\u001b[0m\u001b[31m┛\u001b[0m\u001b[31m┃\u001b[0m\u001b[31m┗\u001b[0m\u001b[31m━\u001b[0m\u001b[31m━\u001b[0m\u001b[31m┓\u001b[0m\u001b[31m┏\u001b[0m\u001b[31m┓\u001b[0m\u001b[31m┗\u001b[0m\u001b[31m━\u001b[0m\u001b[31m┓\u001b[0m\u001b[31m┏\u001b[0m\u001b[31m┓\u001b[0m\u001b[31m┃\u001b[0m\u001b[31m┃\u001b[0m\u001b[31m┏\u001b[0m\u001b[31m━\u001b[0m\u001b[31m┛\u001b[0m\u001b[31m┗\u001b[0m\u001b[31m┓\u001b[0m\u001b[31m┗\u001b[0m\u001b[31m┓\u001b[0m\u001b[31m┏\u001b[0m\u001b[31m┛\u001b[0m7\u001b[31m┏\u001b[0m\u001b[31m┛\u001b[0m\u001b[31m┗\u001b[0m\u001b[31m┛\u001b[0m\u001b[31m┗\u001b[0m\u001b[31m┛\u001b[0m\u001b[31m┗\u001b[0m\u001b[31m┛\u001b[0m\u001b[31m┏\u001b[0m\u001b[31m┓\u001b[0m\u001b[31m┃\u001b[0m\u001b[31m┗\u001b[0m\u001b[31m┛\u001b[0m\u001b[31m┏\u001b[0m\u001b[31m┓\u001b[0m\u001b[31m┏\u001b[0m\u001b[31m┛\u001b[0m\u001b[31m┏\u001b[0m\u001b[31m┓\u001b[0m\u001b[31m┃\u001b[0m\u001b[31m┃\u001b[0m\u001b[31m┗\u001b[0m\u001b[31m┓\u001b[0m\u001b[31m┏\u001b[0m\u001b[31m━\u001b[0m\u001b[31m━\u001b[0m\u001b[31m━\u001b[0m\u001b[31m┛\u001b[0m\u001b[31m┏\u001b[0m\u001b[31m┓\u001b[0m\u001b[31m┏\u001b[0m\u001b[31m┓\u001b[0m\u001b[31m┗\u001b[0m\u001b[31m━\u001b[0m\u001b[31m┓\u001b[0m\u001b[31m┏\u001b[0m\u001b[31m┓\u001b[0m\u001b[31m┃\u001b[0m\u001b[32mO\u001b[0m\u001b[32mO\u001b[0m\n",
      "\u001b[32mO\u001b[0m\u001b[32mO\u001b[0m\u001b[32mO\u001b[0m\u001b[32mO\u001b[0m\u001b[31m┏\u001b[0m\u001b[31m┓\u001b[0m\u001b[32mO\u001b[0m\u001b[31m┃\u001b[0m\u001b[31m┃\u001b[0mo\u001b[31m┏\u001b[0m\u001b[31m┛\u001b[0m\u001b[31m┃\u001b[0mo\u001b[31m┗\u001b[0m\u001b[31m┓\u001b[0m\u001b[31m┃\u001b[0m\u001b[31m┏\u001b[0m\u001b[31m┓\u001b[0m\u001b[31m┏\u001b[0m\u001b[31m┛\u001b[0m\u001b[31m┏\u001b[0m\u001b[31m┓\u001b[0m\u001b[31m┏\u001b[0m\u001b[31m━\u001b[0m\u001b[31m┓\u001b[0m\u001b[31m┏\u001b[0m\u001b[31m┛\u001b[0m\u001b[31m┗\u001b[0m\u001b[31m┛\u001b[0m\u001b[31m┃\u001b[0m\u001b[31m┃\u001b[0mo\u001b[31m┗\u001b[0m\u001b[31m━\u001b[0m\u001b[31m━\u001b[0m\u001b[31m┛\u001b[0m\u001b[31m┗\u001b[0m\u001b[31m┛\u001b[0m\u001b[31m┏\u001b[0m\u001b[31m━\u001b[0m\u001b[31m━\u001b[0m\u001b[31m━\u001b[0m\u001b[31m┓\u001b[0m\u001b[31m┏\u001b[0m\u001b[31m┓\u001b[0m\u001b[31m┃\u001b[0m\u001b[31m┃\u001b[0m\u001b[31m┃\u001b[0m\u001b[31m┗\u001b[0m\u001b[31m┓\u001b[0m\u001b[31m┃\u001b[0m\u001b[31m┏\u001b[0m\u001b[31m━\u001b[0m\u001b[31m━\u001b[0m\u001b[31m┛\u001b[0m\u001b[31m┃\u001b[0m\u001b[31m┏\u001b[0m\u001b[31m┓\u001b[0m\u001b[31m┗\u001b[0m\u001b[31m━\u001b[0m\u001b[31m┓\u001b[0m\u001b[31m┃\u001b[0m\u001b[31m┗\u001b[0m\u001b[31m┓\u001b[0m\u001b[31m┗\u001b[0m\u001b[31m━\u001b[0m\u001b[31m━\u001b[0m\u001b[31m┛\u001b[0m\u001b[31m┗\u001b[0m\u001b[31m━\u001b[0m\u001b[31m┛\u001b[0m\u001b[31m┃\u001b[0m\u001b[31m┗\u001b[0m\u001b[31m━\u001b[0m\u001b[31m┓\u001b[0m\u001b[31m┗\u001b[0m\u001b[31m┓\u001b[0m\u001b[31m┏\u001b[0m\u001b[31m━\u001b[0m\u001b[31m┛\u001b[0m\u001b[31m┃\u001b[0m\u001b[31m┗\u001b[0m\u001b[31m━\u001b[0m\u001b[31m━\u001b[0m\u001b[31m┛\u001b[0m\u001b[31m┃\u001b[0m\u001b[31m┗\u001b[0m\u001b[31m┛\u001b[0m\u001b[31m┃\u001b[0m\u001b[31m┃\u001b[0m\u001b[31m┏\u001b[0m\u001b[31m━\u001b[0m\u001b[31m┓\u001b[0m\u001b[31m┗\u001b[0m\u001b[31m━\u001b[0m\u001b[31m┛\u001b[0m\u001b[31m┗\u001b[0m\u001b[31m┓\u001b[0m\u001b[31m┏\u001b[0m\u001b[31m┛\u001b[0m\u001b[31m┏\u001b[0m\u001b[31m━\u001b[0m\u001b[31m━\u001b[0m\u001b[31m━\u001b[0m\u001b[31m━\u001b[0m\u001b[31m━\u001b[0m\u001b[31m━\u001b[0m\u001b[31m┛\u001b[0m\u001b[31m┗\u001b[0m\u001b[31m┛\u001b[0m\u001b[31m┏\u001b[0m\u001b[31m┓\u001b[0m\u001b[31m┃\u001b[0m\u001b[31m┃\u001b[0m\u001b[31m┗\u001b[0m\u001b[31m━\u001b[0m\u001b[31m┛\u001b[0m\u001b[31m┗\u001b[0m\u001b[31m┛\u001b[0m\u001b[31m┗\u001b[0m\u001b[31m┓\u001b[0m\u001b[31m┃\u001b[0m\u001b[31m┃\u001b[0m\u001b[31m┏\u001b[0m\u001b[31m┓\u001b[0m\u001b[31m┏\u001b[0m\u001b[31m┓\u001b[0m\u001b[31m┃\u001b[0m\u001b[31m┗\u001b[0m\u001b[31m┛\u001b[0m\u001b[31m┃\u001b[0m\u001b[31m┏\u001b[0m\u001b[31m┓\u001b[0m\u001b[31m┗\u001b[0m\u001b[31m┛\u001b[0m\u001b[31m┗\u001b[0m\u001b[31m┛\u001b[0m\u001b[32mO\u001b[0m\u001b[32mO\u001b[0m\n",
      "\u001b[32mO\u001b[0m\u001b[32mO\u001b[0m\u001b[32mO\u001b[0m\u001b[32mO\u001b[0m\u001b[31m┃\u001b[0m\u001b[31m┗\u001b[0m\u001b[31m━\u001b[0m\u001b[31m┛\u001b[0m\u001b[31m┗\u001b[0m\u001b[31m┓\u001b[0m\u001b[31m┗\u001b[0m\u001b[31m┓\u001b[0m\u001b[31m┃\u001b[0m\u001b[31m┏\u001b[0m\u001b[31m━\u001b[0m\u001b[31m┛\u001b[0m\u001b[31m┃\u001b[0m\u001b[31m┃\u001b[0m\u001b[31m┃\u001b[0m\u001b[31m┃\u001b[0m\u001b[31m┏\u001b[0m\u001b[31m┛\u001b[0m\u001b[31m┃\u001b[0m\u001b[31m┃\u001b[0m\u001b[31m┏\u001b[0m\u001b[31m┛\u001b[0m\u001b[31m┃\u001b[0m\u001b[31m┏\u001b[0m\u001b[31m━\u001b[0m\u001b[31m━\u001b[0m\u001b[31m┛\u001b[0m\u001b[31m┃\u001b[0m\u001b[31m┏\u001b[0m\u001b[31m┓\u001b[0m\u001b[31m┏\u001b[0m\u001b[31m━\u001b[0m\u001b[31m━\u001b[0m\u001b[31m┓\u001b[0m\u001b[31m┏\u001b[0m\u001b[31m┛\u001b[0m|\u001b[31m┏\u001b[0m\u001b[31m┓\u001b[0m\u001b[31m┗\u001b[0m\u001b[31m┛\u001b[0m\u001b[31m┗\u001b[0m\u001b[31m┛\u001b[0m\u001b[31m┃\u001b[0m\u001b[31m┃\u001b[0m\u001b[31m┏\u001b[0m\u001b[31m┛\u001b[0m\u001b[31m┃\u001b[0m\u001b[31m┗\u001b[0m\u001b[31m┓\u001b[0m\u001b[31m┏\u001b[0m\u001b[31m━\u001b[0m\u001b[31m┛\u001b[0m\u001b[31m┃\u001b[0m\u001b[31m┃\u001b[0m7\u001b[31m┏\u001b[0m\u001b[31m┛\u001b[0m\u001b[31m┃\u001b[0mJ\u001b[31m┗\u001b[0m\u001b[31m┓\u001b[0m\u001b[31m┏\u001b[0m\u001b[31m━\u001b[0m\u001b[31m━\u001b[0m\u001b[31m━\u001b[0m\u001b[31m━\u001b[0m\u001b[31m━\u001b[0m\u001b[31m┛\u001b[0m\u001b[31m┏\u001b[0m\u001b[31m┓\u001b[0m\u001b[31m┃\u001b[0m\u001b[31m┏\u001b[0m\u001b[31m┛\u001b[0m\u001b[31m┗\u001b[0m\u001b[31m┓\u001b[0m\u001b[31m┏\u001b[0m\u001b[31m┛\u001b[0m\u001b[31m┏\u001b[0m\u001b[31m┓\u001b[0m\u001b[31m┏\u001b[0m\u001b[31m┓\u001b[0m\u001b[31m┃\u001b[0m\u001b[31m┏\u001b[0m\u001b[31m┓\u001b[0m\u001b[31m┃\u001b[0m\u001b[31m┗\u001b[0m\u001b[31m┛\u001b[0m\u001b[31m┏\u001b[0m\u001b[31m┛\u001b[0m\u001b[31m┏\u001b[0m\u001b[31m━\u001b[0m\u001b[31m┓\u001b[0m\u001b[31m┏\u001b[0m\u001b[31m┛\u001b[0m\u001b[31m┗\u001b[0m\u001b[31m┓\u001b[0m\u001b[31m┃\u001b[0m|\u001b[31m┏\u001b[0m\u001b[31m━\u001b[0m\u001b[31m━\u001b[0m\u001b[31m━\u001b[0m\u001b[31m┓\u001b[0m\u001b[31m┏\u001b[0m\u001b[31m━\u001b[0m\u001b[31m━\u001b[0m\u001b[31m┛\u001b[0m\u001b[31m┗\u001b[0m\u001b[31m┛\u001b[0m\u001b[31m┗\u001b[0m\u001b[31m┓\u001b[0m\u001b[31m┏\u001b[0m\u001b[31m┓\u001b[0m\u001b[31m┏\u001b[0m\u001b[31m┓\u001b[0m\u001b[31m┏\u001b[0m\u001b[31m┛\u001b[0m\u001b[31m┗\u001b[0m\u001b[31m┛\u001b[0m\u001b[31m┃\u001b[0m\u001b[31m┃\u001b[0m\u001b[31m┃\u001b[0m\u001b[31m┃\u001b[0m\u001b[31m┗\u001b[0m\u001b[31m┓\u001b[0m\u001b[31m┏\u001b[0m\u001b[31m┛\u001b[0m\u001b[31m┃\u001b[0m\u001b[31m┗\u001b[0m\u001b[31m┓\u001b[0m\u001b[31m┏\u001b[0m\u001b[31m┓\u001b[0m\u001b[32mO\u001b[0m\u001b[32mO\u001b[0m\u001b[32mO\u001b[0m\n",
      "\u001b[32mO\u001b[0m\u001b[32mO\u001b[0m\u001b[32mO\u001b[0m\u001b[32mO\u001b[0m\u001b[31m┗\u001b[0m\u001b[31m━\u001b[0m\u001b[31m┓\u001b[0m\u001b[31m┏\u001b[0m\u001b[31m┓\u001b[0m\u001b[31m┗\u001b[0m\u001b[31m┓\u001b[0m\u001b[31m┃\u001b[0m\u001b[31m┃\u001b[0m\u001b[31m┗\u001b[0m\u001b[31m━\u001b[0m\u001b[31m┓\u001b[0m\u001b[31m┃\u001b[0m\u001b[31m┃\u001b[0m\u001b[31m┃\u001b[0m\u001b[31m┗\u001b[0m\u001b[31m┛\u001b[0mo\u001b[31m┗\u001b[0m\u001b[31m┛\u001b[0m\u001b[31m┗\u001b[0m\u001b[31m━\u001b[0m\u001b[31m┛\u001b[0m\u001b[31m┗\u001b[0m\u001b[31m━\u001b[0m\u001b[31m━\u001b[0m\u001b[31m━\u001b[0m\u001b[31m┛\u001b[0m\u001b[31m┃\u001b[0m\u001b[31m┃\u001b[0m\u001b[31m┗\u001b[0m\u001b[31m┓\u001b[0mL\u001b[31m┃\u001b[0m\u001b[31m┃\u001b[0m\u001b[31m┏\u001b[0m\u001b[31m┓\u001b[0m\u001b[31m┃\u001b[0m\u001b[31m┃\u001b[0m\u001b[31m┏\u001b[0m\u001b[31m┓\u001b[0mF\u001b[31m┏\u001b[0m\u001b[31m┛\u001b[0m\u001b[31m┃\u001b[0m\u001b[31m┃\u001b[0m\u001b[31m┏\u001b[0m\u001b[31m┛\u001b[0m\u001b[31m┏\u001b[0m\u001b[31m┛\u001b[0m\u001b[31m┗\u001b[0m\u001b[31m┓\u001b[0m\u001b[31m┏\u001b[0m\u001b[31m┛\u001b[0m\u001b[31m┗\u001b[0m\u001b[31m┓\u001b[0m\u001b[31m┗\u001b[0m\u001b[31m┓\u001b[0m\u001b[31m┃\u001b[0m\u001b[31m┏\u001b[0m\u001b[31m┓\u001b[0m\u001b[31m┃\u001b[0m\u001b[31m┃\u001b[0m|\u001b[31m┏\u001b[0m\u001b[31m┓\u001b[0m\u001b[31m┏\u001b[0m\u001b[31m━\u001b[0m\u001b[31m┓\u001b[0m\u001b[31m┃\u001b[0m\u001b[31m┃\u001b[0m\u001b[31m┃\u001b[0m\u001b[31m┃\u001b[0m\u001b[31m┏\u001b[0m\u001b[31m┓\u001b[0m\u001b[31m┃\u001b[0m\u001b[31m┃\u001b[0m\u001b[31m┏\u001b[0m\u001b[31m┛\u001b[0m\u001b[31m┃\u001b[0m\u001b[31m┃\u001b[0m\u001b[31m┃\u001b[0m\u001b[31m┗\u001b[0m\u001b[31m┛\u001b[0m\u001b[31m┃\u001b[0m\u001b[31m┃\u001b[0m\u001b[31m┏\u001b[0m\u001b[31m┓\u001b[0m\u001b[31m┗\u001b[0m\u001b[31m━\u001b[0m\u001b[31m┛\u001b[0m\u001b[31m┏\u001b[0m\u001b[31m┛\u001b[0m\u001b[31m┃\u001b[0m\u001b[31m┏\u001b[0m\u001b[31m┓\u001b[0m\u001b[31m┗\u001b[0m\u001b[31m┛\u001b[0m\u001b[31m┏\u001b[0m\u001b[31m┛\u001b[0m\u001b[31m┏\u001b[0m\u001b[31m┓\u001b[0mo\u001b[31m┗\u001b[0m\u001b[31m┛\u001b[0m\u001b[31m┏\u001b[0m\u001b[31m┓\u001b[0m\u001b[31m┏\u001b[0m\u001b[31m┓\u001b[0mo\u001b[31m┏\u001b[0m\u001b[31m┛\u001b[0m\u001b[31m┃\u001b[0m\u001b[31m┗\u001b[0m\u001b[31m┛\u001b[0m\u001b[31m┗\u001b[0m\u001b[31m┛\u001b[0m\u001b[31m┏\u001b[0m\u001b[31m┓\u001b[0mo\u001b[31m┃\u001b[0m\u001b[31m┗\u001b[0m\u001b[31m┛\u001b[0m\u001b[31m┗\u001b[0m\u001b[31m━\u001b[0m\u001b[31m┛\u001b[0m\u001b[31m┃\u001b[0m\u001b[31m┏\u001b[0m\u001b[31m┛\u001b[0m\u001b[31m┏\u001b[0m\u001b[31m┛\u001b[0m\u001b[31m┃\u001b[0m\u001b[31m┃\u001b[0m\u001b[32mO\u001b[0m\u001b[32mO\u001b[0m\u001b[32mO\u001b[0m\n",
      "\u001b[32mO\u001b[0m\u001b[32mO\u001b[0m\u001b[32mO\u001b[0m\u001b[32mO\u001b[0m\u001b[32mO\u001b[0m\u001b[32mO\u001b[0m\u001b[31m┗\u001b[0m\u001b[31m┛\u001b[0m\u001b[31m┗\u001b[0m\u001b[31m┓\u001b[0m\u001b[31m┗\u001b[0m\u001b[31m┛\u001b[0m\u001b[31m┗\u001b[0m\u001b[31m━\u001b[0m\u001b[31m━\u001b[0m\u001b[31m┛\u001b[0m\u001b[31m┗\u001b[0m\u001b[31m┛\u001b[0m\u001b[31m┃\u001b[0m\u001b[31m┏\u001b[0m\u001b[31m┓\u001b[0m\u001b[31m┏\u001b[0m\u001b[31m┓\u001b[0m\u001b[31m┏\u001b[0m\u001b[31m┓\u001b[0m\u001b[31m┏\u001b[0m\u001b[31m┓\u001b[0m\u001b[31m┏\u001b[0m\u001b[31m━\u001b[0m\u001b[31m┓\u001b[0m\u001b[31m┏\u001b[0m\u001b[31m┓\u001b[0m\u001b[31m┃\u001b[0m\u001b[31m┃\u001b[0mo\u001b[31m┗\u001b[0m\u001b[31m┓\u001b[0m\u001b[31m┃\u001b[0m\u001b[31m┗\u001b[0m\u001b[31m┛\u001b[0m\u001b[31m┗\u001b[0m\u001b[31m┛\u001b[0m\u001b[31m┃\u001b[0m\u001b[31m┃\u001b[0m\u001b[31m┗\u001b[0m\u001b[31m┓\u001b[0m\u001b[31m┗\u001b[0m\u001b[31m┓\u001b[0m\u001b[31m┃\u001b[0m\u001b[31m┃\u001b[0m\u001b[31m┃\u001b[0m|\u001b[31m┃\u001b[0m\u001b[31m┏\u001b[0m\u001b[31m━\u001b[0m\u001b[31m┛\u001b[0m\u001b[31m┗\u001b[0m\u001b[31m━\u001b[0m\u001b[31m┓\u001b[0m\u001b[31m┃\u001b[0m-\u001b[31m┃\u001b[0m\u001b[31m┃\u001b[0m\u001b[31m┃\u001b[0m\u001b[31m┃\u001b[0m\u001b[31m┃\u001b[0m\u001b[31m┗\u001b[0m\u001b[31m━\u001b[0m\u001b[31m┛\u001b[0m\u001b[31m┃\u001b[0m\u001b[31m┃\u001b[0m\u001b[31m┏\u001b[0m\u001b[31m┛\u001b[0m\u001b[31m┃\u001b[0m\u001b[31m┗\u001b[0m\u001b[31m┛\u001b[0m\u001b[31m┃\u001b[0m\u001b[31m┃\u001b[0m\u001b[31m┃\u001b[0m\u001b[31m┃\u001b[0m\u001b[31m┗\u001b[0m\u001b[31m┛\u001b[0m\u001b[31m┏\u001b[0m\u001b[31m┛\u001b[0m\u001b[31m┃\u001b[0m\u001b[31m┃\u001b[0m\u001b[31m┏\u001b[0m\u001b[31m┓\u001b[0m\u001b[31m┃\u001b[0m\u001b[31m┃\u001b[0m\u001b[31m┃\u001b[0m\u001b[31m┃\u001b[0m.\u001b[31m┏\u001b[0m\u001b[31m┓\u001b[0m\u001b[31m┗\u001b[0m\u001b[31m┓\u001b[0m\u001b[31m┗\u001b[0m\u001b[31m┛\u001b[0m\u001b[31m┗\u001b[0m\u001b[31m┓\u001b[0m|\u001b[31m┗\u001b[0m\u001b[31m━\u001b[0m\u001b[31m┛\u001b[0m\u001b[31m┗\u001b[0m\u001b[31m━\u001b[0m\u001b[31m━\u001b[0m\u001b[31m━\u001b[0m\u001b[31m┛\u001b[0m\u001b[31m┗\u001b[0m\u001b[31m┛\u001b[0m\u001b[31m┗\u001b[0m\u001b[31m┓\u001b[0m\u001b[31m┗\u001b[0m\u001b[31m┓\u001b[0m\u001b[31m┃\u001b[0mo\u001b[31m┏\u001b[0m\u001b[31m━\u001b[0m\u001b[31m━\u001b[0m\u001b[31m┛\u001b[0m\u001b[31m┗\u001b[0m\u001b[31m━\u001b[0m\u001b[31m┛\u001b[0m\u001b[31m┏\u001b[0m\u001b[31m┓\u001b[0m\u001b[31m┏\u001b[0m\u001b[31m┓\u001b[0m\u001b[31m┏\u001b[0m\u001b[31m┛\u001b[0m\u001b[31m┗\u001b[0m\u001b[31m┓\u001b[0m\u001b[31m┗\u001b[0m\u001b[31m━\u001b[0m\u001b[31m┛\u001b[0m\u001b[31m┗\u001b[0m\u001b[31m━\u001b[0m\u001b[31m┓\u001b[0m\u001b[32mO\u001b[0m\n",
      "\u001b[32mO\u001b[0m\u001b[32mO\u001b[0m\u001b[32mO\u001b[0m\u001b[32mO\u001b[0m\u001b[32mO\u001b[0m\u001b[32mO\u001b[0m\u001b[32mO\u001b[0m\u001b[32mO\u001b[0m\u001b[32mO\u001b[0m\u001b[31m┗\u001b[0m\u001b[31m┓\u001b[0m\u001b[31m┏\u001b[0m\u001b[31m━\u001b[0m\u001b[31m┓\u001b[0m\u001b[31m┏\u001b[0m\u001b[31m┓\u001b[0m\u001b[31m┏\u001b[0m\u001b[31m┓\u001b[0m\u001b[31m┃\u001b[0m\u001b[31m┃\u001b[0m\u001b[31m┃\u001b[0m\u001b[31m┃\u001b[0m\u001b[31m┃\u001b[0m\u001b[31m┃\u001b[0m\u001b[31m┃\u001b[0m\u001b[31m┃\u001b[0m\u001b[31m┃\u001b[0m\u001b[31m┗\u001b[0m\u001b[31m┓\u001b[0m\u001b[31m┃\u001b[0m\u001b[31m┃\u001b[0m\u001b[31m┗\u001b[0m\u001b[31m┛\u001b[0m\u001b[31m┗\u001b[0m\u001b[31m━\u001b[0m\u001b[31m━\u001b[0m\u001b[31m┛\u001b[0m\u001b[31m┗\u001b[0m\u001b[31m┓\u001b[0m\u001b[31m┏\u001b[0m\u001b[31m━\u001b[0m\u001b[31m━\u001b[0m\u001b[31m┛\u001b[0m\u001b[31m┃\u001b[0m\u001b[31m┏\u001b[0m\u001b[31m┛\u001b[0mF\u001b[31m┃\u001b[0m\u001b[31m┃\u001b[0m\u001b[31m┃\u001b[0m\u001b[31m┃\u001b[0m\u001b[31m┏\u001b[0m\u001b[31m┛\u001b[0m\u001b[31m┗\u001b[0m\u001b[31m━\u001b[0m\u001b[31m┓\u001b[0m\u001b[31m┏\u001b[0m\u001b[31m━\u001b[0m\u001b[31m┛\u001b[0m\u001b[31m┃\u001b[0m\u001b[31m┏\u001b[0m\u001b[31m┛\u001b[0m\u001b[31m┗\u001b[0m\u001b[31m┛\u001b[0m\u001b[31m┃\u001b[0m\u001b[31m┃\u001b[0m\u001b[31m┏\u001b[0m\u001b[31m━\u001b[0m\u001b[31m━\u001b[0m\u001b[31m┛\u001b[0m\u001b[31m┃\u001b[0m\u001b[31m┃\u001b[0mL\u001b[31m┗\u001b[0m\u001b[31m━\u001b[0m\u001b[31m┓\u001b[0m\u001b[31m┗\u001b[0m\u001b[31m┛\u001b[0m\u001b[31m┗\u001b[0m\u001b[31m┛\u001b[0m\u001b[31m┏\u001b[0m\u001b[31m┓\u001b[0m\u001b[31m┃\u001b[0m\u001b[31m┏\u001b[0m\u001b[31m┛\u001b[0m\u001b[31m┗\u001b[0m\u001b[31m┛\u001b[0m\u001b[31m┃\u001b[0m\u001b[31m┃\u001b[0m\u001b[31m┗\u001b[0m\u001b[31m┛\u001b[0m\u001b[31m┃\u001b[0m\u001b[31m┏\u001b[0m\u001b[31m┛\u001b[0m\u001b[31m┃\u001b[0m.\u001b[31m┗\u001b[0m\u001b[31m━\u001b[0m\u001b[31m┓\u001b[0m\u001b[31m┏\u001b[0m\u001b[31m┛\u001b[0m\u001b[31m┏\u001b[0m\u001b[31m━\u001b[0m\u001b[31m━\u001b[0m\u001b[31m━\u001b[0m\u001b[31m━\u001b[0m\u001b[31m━\u001b[0m\u001b[31m━\u001b[0m\u001b[31m━\u001b[0m\u001b[31m┓\u001b[0m\u001b[31m┏\u001b[0m\u001b[31m━\u001b[0m\u001b[31m┓\u001b[0m\u001b[31m┗\u001b[0m\u001b[31m┓\u001b[0m\u001b[31m┗\u001b[0m\u001b[31m┛\u001b[0m\u001b[31m┏\u001b[0m\u001b[31m┛\u001b[0m\u001b[31m┏\u001b[0m\u001b[31m┓\u001b[0m\u001b[31m┏\u001b[0m\u001b[31m━\u001b[0m\u001b[31m━\u001b[0m\u001b[31m┓\u001b[0m\u001b[31m┃\u001b[0m\u001b[31m┗\u001b[0m\u001b[31m┛\u001b[0m\u001b[31m┃\u001b[0m\u001b[31m┃\u001b[0mo\u001b[31m┏\u001b[0m\u001b[31m┛\u001b[0m\u001b[31m┏\u001b[0m\u001b[31m━\u001b[0m\u001b[31m┓\u001b[0m\u001b[31m┏\u001b[0m\u001b[31m━\u001b[0m\u001b[31m┛\u001b[0m\u001b[32mO\u001b[0m\n",
      "\u001b[32mO\u001b[0m\u001b[32mO\u001b[0m\u001b[32mO\u001b[0m\u001b[32mO\u001b[0m\u001b[32mO\u001b[0m\u001b[32mO\u001b[0m\u001b[32mO\u001b[0m\u001b[32mO\u001b[0m\u001b[32mO\u001b[0m\u001b[31m┏\u001b[0m\u001b[31m┛\u001b[0m\u001b[31m┃\u001b[0mo\u001b[31m┃\u001b[0m\u001b[31m┃\u001b[0m\u001b[31m┃\u001b[0m\u001b[31m┃\u001b[0m\u001b[31m┃\u001b[0m\u001b[31m┗\u001b[0m\u001b[31m┛\u001b[0m\u001b[31m┗\u001b[0m\u001b[31m┛\u001b[0m\u001b[31m┗\u001b[0m\u001b[31m┛\u001b[0m\u001b[31m┗\u001b[0m\u001b[31m┛\u001b[0m\u001b[31m┗\u001b[0m\u001b[31m━\u001b[0m\u001b[31m┛\u001b[0m\u001b[31m┗\u001b[0m\u001b[31m┛\u001b[0m\u001b[31m┏\u001b[0m\u001b[31m┓\u001b[0m\u001b[31m┏\u001b[0m\u001b[31m━\u001b[0m\u001b[31m━\u001b[0m\u001b[31m━\u001b[0m\u001b[31m┓\u001b[0m\u001b[31m┃\u001b[0m\u001b[31m┃\u001b[0m\u001b[31m┏\u001b[0m\u001b[31m┓\u001b[0m\u001b[31m┏\u001b[0m\u001b[31m┛\u001b[0m\u001b[31m┗\u001b[0m\u001b[31m━\u001b[0m\u001b[31m┓\u001b[0m\u001b[31m┃\u001b[0m\u001b[31m┃\u001b[0m\u001b[31m┃\u001b[0m\u001b[31m┃\u001b[0m\u001b[31m┗\u001b[0m\u001b[31m┓\u001b[0m\u001b[31m┏\u001b[0m\u001b[31m━\u001b[0m\u001b[31m┛\u001b[0m\u001b[31m┗\u001b[0m\u001b[31m┓\u001b[0m\u001b[31m┏\u001b[0m\u001b[31m┛\u001b[0m\u001b[31m┃\u001b[0m\u001b[31m┏\u001b[0m\u001b[31m━\u001b[0m\u001b[31m┓\u001b[0m\u001b[31m┃\u001b[0m\u001b[31m┃\u001b[0m\u001b[31m┃\u001b[0m-\u001b[31m┏\u001b[0m\u001b[31m┓\u001b[0m\u001b[31m┃\u001b[0m\u001b[31m┗\u001b[0m\u001b[31m┓\u001b[0m\u001b[31m┏\u001b[0m\u001b[31m┓\u001b[0m\u001b[31m┗\u001b[0m\u001b[31m━\u001b[0m\u001b[31m━\u001b[0m\u001b[31m┓\u001b[0m\u001b[31m┏\u001b[0m\u001b[31m┛\u001b[0m\u001b[31m┗\u001b[0m\u001b[31m┛\u001b[0m\u001b[31m┗\u001b[0m\u001b[31m━\u001b[0m\u001b[31m━\u001b[0m\u001b[31m┓\u001b[0m\u001b[31m┃\u001b[0m\u001b[31m┃\u001b[0m\u001b[31m┏\u001b[0m\u001b[31m━\u001b[0m\u001b[31m┛\u001b[0m\u001b[31m┗\u001b[0m\u001b[31m┓\u001b[0m\u001b[31m┃\u001b[0m\u001b[31m┏\u001b[0m\u001b[31m┓\u001b[0m\u001b[31m┏\u001b[0m\u001b[31m┛\u001b[0m\u001b[31m┗\u001b[0m\u001b[31m┓\u001b[0m\u001b[31m┗\u001b[0m\u001b[31m━\u001b[0m\u001b[31m━\u001b[0m\u001b[31m━\u001b[0m\u001b[31m━\u001b[0m\u001b[31m┓\u001b[0m\u001b[31m┏\u001b[0m\u001b[31m━\u001b[0m\u001b[31m┛\u001b[0m\u001b[31m┗\u001b[0m\u001b[31m┓\u001b[0m\u001b[31m┗\u001b[0m\u001b[31m┓\u001b[0m\u001b[31m┗\u001b[0m\u001b[31m━\u001b[0m\u001b[31m━\u001b[0m\u001b[31m┛\u001b[0m\u001b[31m┏\u001b[0m\u001b[31m┛\u001b[0m\u001b[31m┗\u001b[0m\u001b[31m┛\u001b[0m\u001b[31m┏\u001b[0m\u001b[31m┓\u001b[0m\u001b[31m┗\u001b[0m\u001b[31m┛\u001b[0m\u001b[31m┏\u001b[0m\u001b[31m━\u001b[0m\u001b[31m┛\u001b[0m\u001b[31m┗\u001b[0m\u001b[31m┓\u001b[0m\u001b[31m┗\u001b[0m\u001b[31m┓\u001b[0m\u001b[31m┃\u001b[0mo\u001b[31m┗\u001b[0m\u001b[31m┛\u001b[0m\u001b[32mO\u001b[0m\u001b[32mO\u001b[0m\u001b[32mO\u001b[0m\n",
      "\u001b[32mO\u001b[0m\u001b[32mO\u001b[0m\u001b[32mO\u001b[0m\u001b[32mO\u001b[0m\u001b[32mO\u001b[0m\u001b[32mO\u001b[0m\u001b[32mO\u001b[0m\u001b[32mO\u001b[0m\u001b[32mO\u001b[0m\u001b[31m┗\u001b[0m\u001b[31m┓\u001b[0m\u001b[31m┃\u001b[0m\u001b[31m┏\u001b[0m\u001b[31m┛\u001b[0m\u001b[31m┃\u001b[0m\u001b[31m┗\u001b[0m\u001b[31m┛\u001b[0m\u001b[31m┗\u001b[0m\u001b[31m┓\u001b[0m\u001b[31m┏\u001b[0m\u001b[31m━\u001b[0m\u001b[31m┓\u001b[0m\u001b[31m┏\u001b[0m\u001b[31m┓\u001b[0m\u001b[31m┏\u001b[0m\u001b[31m┓\u001b[0m\u001b[31m┏\u001b[0m\u001b[31m┓\u001b[0m\u001b[31m┏\u001b[0m\u001b[31m━\u001b[0m\u001b[31m┓\u001b[0m\u001b[31m┃\u001b[0m\u001b[31m┗\u001b[0m\u001b[31m┛\u001b[0m\u001b[31m┏\u001b[0m\u001b[31m━\u001b[0m\u001b[31m━\u001b[0m\u001b[31m┛\u001b[0m\u001b[31m┗\u001b[0m\u001b[31m┛\u001b[0m\u001b[31m┃\u001b[0m\u001b[31m┃\u001b[0m\u001b[31m┃\u001b[0m\u001b[31m┏\u001b[0m\u001b[31m━\u001b[0m\u001b[31m━\u001b[0m\u001b[31m┛\u001b[0m\u001b[31m┃\u001b[0m\u001b[31m┃\u001b[0m\u001b[31m┃\u001b[0m\u001b[31m┃\u001b[0m\u001b[31m┏\u001b[0m\u001b[31m┛\u001b[0m\u001b[31m┃\u001b[0m\u001b[31m┏\u001b[0m\u001b[31m┓\u001b[0m\u001b[31m┏\u001b[0m\u001b[31m┛\u001b[0m\u001b[31m┃\u001b[0mL\u001b[31m┗\u001b[0m\u001b[31m┛\u001b[0mJ\u001b[31m┃\u001b[0m\u001b[31m┗\u001b[0m\u001b[31m┛\u001b[0m\u001b[31m┗\u001b[0m\u001b[31m━\u001b[0m\u001b[31m┛\u001b[0m\u001b[31m┃\u001b[0m\u001b[31m┃\u001b[0m\u001b[31m┏\u001b[0m\u001b[31m┛\u001b[0m\u001b[31m┃\u001b[0m\u001b[31m┃\u001b[0m\u001b[31m┏\u001b[0m\u001b[31m━\u001b[0m\u001b[31m━\u001b[0m\u001b[31m┛\u001b[0m\u001b[31m┃\u001b[0m\u001b[31m┏\u001b[0m\u001b[31m┓\u001b[0m\u001b[31m┏\u001b[0m\u001b[31m┓\u001b[0m\u001b[31m┏\u001b[0m\u001b[31m━\u001b[0m\u001b[31m┛\u001b[0m\u001b[31m┗\u001b[0m\u001b[31m┛\u001b[0m\u001b[31m┗\u001b[0m\u001b[31m┓\u001b[0m\u001b[31m┏\u001b[0m\u001b[31m━\u001b[0m\u001b[31m┛\u001b[0m\u001b[31m┃\u001b[0m\u001b[31m┃\u001b[0m\u001b[31m┃\u001b[0m\u001b[31m┗\u001b[0m\u001b[31m━\u001b[0m\u001b[31m┓\u001b[0m\u001b[31m┃\u001b[0m7\u001b[31m┏\u001b[0m\u001b[31m━\u001b[0m\u001b[31m━\u001b[0m\u001b[31m━\u001b[0m\u001b[31m┛\u001b[0m\u001b[31m┗\u001b[0m\u001b[31m━\u001b[0m\u001b[31m━\u001b[0m\u001b[31m┓\u001b[0m\u001b[31m┃\u001b[0mo\u001b[31m┗\u001b[0m\u001b[31m┓\u001b[0m\u001b[31m┏\u001b[0m\u001b[31m━\u001b[0m\u001b[31m━\u001b[0m\u001b[31m┛\u001b[0m\u001b[31m┏\u001b[0m\u001b[31m━\u001b[0m\u001b[31m━\u001b[0m\u001b[31m┛\u001b[0m\u001b[31m┗\u001b[0m\u001b[31m━\u001b[0m\u001b[31m┓\u001b[0m\u001b[31m┗\u001b[0m\u001b[31m━\u001b[0m\u001b[31m━\u001b[0m\u001b[31m┓\u001b[0m\u001b[31m┗\u001b[0m\u001b[31m━\u001b[0m\u001b[31m┛\u001b[0m\u001b[31m┗\u001b[0m\u001b[31m━\u001b[0m\u001b[31m━\u001b[0m\u001b[31m┓\u001b[0m\u001b[31m┏\u001b[0m\u001b[31m┓\u001b[0m\u001b[32mO\u001b[0m\n",
      "\u001b[32mO\u001b[0m\u001b[32mO\u001b[0m\u001b[32mO\u001b[0m\u001b[32mO\u001b[0m\u001b[32mO\u001b[0m\u001b[32mO\u001b[0m\u001b[32mO\u001b[0m\u001b[32mO\u001b[0m\u001b[32mO\u001b[0m\u001b[31m┏\u001b[0m\u001b[31m┛\u001b[0m\u001b[31m┃\u001b[0m\u001b[31m┗\u001b[0m\u001b[31m━\u001b[0m\u001b[31m┛\u001b[0mo\u001b[31m┏\u001b[0m\u001b[31m━\u001b[0m\u001b[31m┛\u001b[0m\u001b[31m┗\u001b[0m\u001b[31m┓\u001b[0m\u001b[31m┃\u001b[0m\u001b[31m┃\u001b[0m\u001b[31m┃\u001b[0m\u001b[31m┃\u001b[0m\u001b[31m┃\u001b[0m\u001b[31m┃\u001b[0m\u001b[31m┃\u001b[0m\u001b[31m┃\u001b[0mo\u001b[31m┗\u001b[0m\u001b[31m┛\u001b[0m\u001b[31m┏\u001b[0m\u001b[31m┓\u001b[0m\u001b[31m┗\u001b[0m\u001b[31m━\u001b[0m\u001b[31m━\u001b[0m\u001b[31m━\u001b[0m\u001b[31m┓\u001b[0m\u001b[31m┏\u001b[0m\u001b[31m┛\u001b[0m\u001b[31m┗\u001b[0m\u001b[31m┛\u001b[0m\u001b[31m┃\u001b[0m\u001b[31m┏\u001b[0m\u001b[31m┓\u001b[0m\u001b[31m┏\u001b[0m\u001b[31m┛\u001b[0m\u001b[31m┃\u001b[0m\u001b[31m┃\u001b[0m\u001b[31m┃\u001b[0m\u001b[31m┗\u001b[0m\u001b[31m┓\u001b[0m\u001b[31m┗\u001b[0m\u001b[31m┛\u001b[0m\u001b[31m┃\u001b[0m\u001b[31m┃\u001b[0m\u001b[31m┏\u001b[0m\u001b[31m┛\u001b[0m\u001b[31m┏\u001b[0m\u001b[31m━\u001b[0m\u001b[31m┓\u001b[0m\u001b[31m┏\u001b[0m\u001b[31m┛\u001b[0m\u001b[31m┏\u001b[0m\u001b[31m━\u001b[0m\u001b[31m┓\u001b[0m\u001b[31m┏\u001b[0m\u001b[31m┓\u001b[0m\u001b[31m┃\u001b[0m\u001b[31m┃\u001b[0m\u001b[31m┗\u001b[0m\u001b[31m┓\u001b[0m\u001b[31m┃\u001b[0m\u001b[31m┃\u001b[0m\u001b[31m┗\u001b[0m\u001b[31m━\u001b[0m\u001b[31m━\u001b[0m\u001b[31m┓\u001b[0m\u001b[31m┃\u001b[0m\u001b[31m┃\u001b[0m\u001b[31m┗\u001b[0m\u001b[31m┛\u001b[0m\u001b[31m┃\u001b[0m\u001b[31m┗\u001b[0m\u001b[31m━\u001b[0m\u001b[31m━\u001b[0m\u001b[31m━\u001b[0m\u001b[31m┓\u001b[0m\u001b[31m┏\u001b[0m\u001b[31m┛\u001b[0m\u001b[31m┗\u001b[0m\u001b[31m━\u001b[0m\u001b[31m┓\u001b[0m\u001b[31m┗\u001b[0m\u001b[31m┛\u001b[0m\u001b[31m┃\u001b[0m\u001b[31m┏\u001b[0m\u001b[31m━\u001b[0m\u001b[31m┛\u001b[0m\u001b[31m┗\u001b[0m\u001b[31m┓\u001b[0m\u001b[31m┃\u001b[0m\u001b[31m┏\u001b[0m\u001b[31m━\u001b[0m\u001b[31m━\u001b[0m\u001b[31m━\u001b[0m\u001b[31m━\u001b[0m\u001b[31m━\u001b[0m\u001b[31m┓\u001b[0m\u001b[31m┗\u001b[0m\u001b[31m┛\u001b[0m\u001b[31m┏\u001b[0m\u001b[31m┓\u001b[0m\u001b[31m┗\u001b[0m\u001b[31m┛\u001b[0mo\u001b[31m┏\u001b[0m\u001b[31m┓\u001b[0m\u001b[31m┗\u001b[0m\u001b[31m━\u001b[0m\u001b[31m━\u001b[0m\u001b[31m┓\u001b[0m\u001b[31m┏\u001b[0m\u001b[31m━\u001b[0m\u001b[31m┛\u001b[0m\u001b[31m┏\u001b[0m\u001b[31m┓\u001b[0mo\u001b[31m┗\u001b[0m\u001b[31m┓\u001b[0m\u001b[31m┏\u001b[0m\u001b[31m┓\u001b[0m\u001b[31m┏\u001b[0m\u001b[31m━\u001b[0m\u001b[31m━\u001b[0m\u001b[31m┛\u001b[0m\u001b[31m┃\u001b[0m\u001b[31m┃\u001b[0m\u001b[32mO\u001b[0m\n",
      "\u001b[32mO\u001b[0m\u001b[32mO\u001b[0m\u001b[32mO\u001b[0m\u001b[32mO\u001b[0m\u001b[32mO\u001b[0m\u001b[32mO\u001b[0m\u001b[32mO\u001b[0m\u001b[32mO\u001b[0m\u001b[32mO\u001b[0m\u001b[31m┗\u001b[0m\u001b[31m┓\u001b[0m\u001b[31m┃\u001b[0m\u001b[31m┏\u001b[0m\u001b[31m━\u001b[0m\u001b[31m━\u001b[0m\u001b[31m┓\u001b[0m\u001b[31m┗\u001b[0m\u001b[31m━\u001b[0m\u001b[31m━\u001b[0m\u001b[31m━\u001b[0m\u001b[31m┛\u001b[0m\u001b[31m┃\u001b[0m\u001b[31m┃\u001b[0m\u001b[31m┗\u001b[0m\u001b[31m┛\u001b[0m\u001b[31m┗\u001b[0m\u001b[31m┛\u001b[0m\u001b[31m┗\u001b[0m\u001b[31m┛\u001b[0m\u001b[31m┏\u001b[0m\u001b[31m━\u001b[0m\u001b[31m━\u001b[0m\u001b[31m┛\u001b[0m\u001b[31m┃\u001b[0m\u001b[31m┏\u001b[0m\u001b[31m━\u001b[0m\u001b[31m━\u001b[0m\u001b[31m━\u001b[0m\u001b[31m┛\u001b[0m\u001b[31m┗\u001b[0m\u001b[31m━\u001b[0m\u001b[31m┓\u001b[0m\u001b[31m┏\u001b[0m\u001b[31m┛\u001b[0m\u001b[31m┃\u001b[0m\u001b[31m┃\u001b[0m\u001b[31m┗\u001b[0m\u001b[31m┓\u001b[0m\u001b[31m┃\u001b[0m\u001b[31m┃\u001b[0m\u001b[31m┗\u001b[0m\u001b[31m┓\u001b[0m\u001b[31m┃\u001b[0m\u001b[31m┏\u001b[0m\u001b[31m━\u001b[0m\u001b[31m┛\u001b[0m\u001b[31m┃\u001b[0m\u001b[31m┃\u001b[0mJ\u001b[31m┗\u001b[0m\u001b[31m┓\u001b[0m\u001b[31m┃\u001b[0m\u001b[31m┗\u001b[0m\u001b[31m┓\u001b[0m\u001b[31m┃\u001b[0mJ\u001b[31m┗\u001b[0m\u001b[31m┛\u001b[0m\u001b[31m┗\u001b[0m\u001b[31m┛\u001b[0m\u001b[31m┗\u001b[0m\u001b[31m┓\u001b[0m\u001b[31m┃\u001b[0m\u001b[31m┃\u001b[0m\u001b[31m┃\u001b[0mL\u001b[31m┏\u001b[0m\u001b[31m┓\u001b[0m\u001b[31m┃\u001b[0m\u001b[31m┗\u001b[0m\u001b[31m┛\u001b[0m\u001b[31m┏\u001b[0m\u001b[31m━\u001b[0m\u001b[31m┛\u001b[0m\u001b[31m┏\u001b[0m\u001b[31m┓\u001b[0m\u001b[31m┏\u001b[0m\u001b[31m┓\u001b[0m\u001b[31m┃\u001b[0m\u001b[31m┗\u001b[0m\u001b[31m━\u001b[0m\u001b[31m┓\u001b[0m7\u001b[31m┃\u001b[0m\u001b[31m┏\u001b[0m\u001b[31m━\u001b[0m\u001b[31m┛\u001b[0m\u001b[31m┗\u001b[0m\u001b[31m━\u001b[0m\u001b[31m┓\u001b[0m\u001b[31m┏\u001b[0m\u001b[31m┛\u001b[0m\u001b[31m┗\u001b[0m\u001b[31m┛\u001b[0m7\u001b[31m┏\u001b[0m\u001b[31m━\u001b[0m\u001b[31m━\u001b[0m\u001b[31m━\u001b[0m\u001b[31m┛\u001b[0m\u001b[31m┏\u001b[0m\u001b[31m━\u001b[0m\u001b[31m┛\u001b[0m\u001b[31m┗\u001b[0m\u001b[31m┓\u001b[0m\u001b[31m┏\u001b[0m\u001b[31m━\u001b[0m\u001b[31m┛\u001b[0m\u001b[31m┗\u001b[0m\u001b[31m┓\u001b[0m\u001b[31m┏\u001b[0m\u001b[31m━\u001b[0m\u001b[31m┛\u001b[0m\u001b[31m┗\u001b[0m\u001b[31m━\u001b[0m\u001b[31m━\u001b[0m\u001b[31m┛\u001b[0m\u001b[31m┗\u001b[0m\u001b[31m━\u001b[0m\u001b[31m┓\u001b[0m\u001b[31m┃\u001b[0m\u001b[31m┃\u001b[0m\u001b[31m┃\u001b[0m\u001b[31m┗\u001b[0m\u001b[31m┓\u001b[0m\u001b[31m┏\u001b[0m\u001b[31m━\u001b[0m\u001b[31m┛\u001b[0m\u001b[31m┃\u001b[0m\u001b[32mO\u001b[0m\n",
      "\u001b[32mO\u001b[0m\u001b[32mO\u001b[0m\u001b[32mO\u001b[0m\u001b[32mO\u001b[0m\u001b[32mO\u001b[0m\u001b[32mO\u001b[0m\u001b[32mO\u001b[0m\u001b[32mO\u001b[0m\u001b[32mO\u001b[0m\u001b[32mO\u001b[0m\u001b[31m┗\u001b[0m\u001b[31m┛\u001b[0m\u001b[31m┗\u001b[0m\u001b[31m━\u001b[0m\u001b[31m┓\u001b[0m\u001b[31m┃\u001b[0mo\u001b[31m┏\u001b[0m\u001b[31m┓\u001b[0m\u001b[31m┏\u001b[0m\u001b[31m┓\u001b[0m\u001b[31m┗\u001b[0m\u001b[31m┛\u001b[0m\u001b[31m┏\u001b[0m\u001b[31m━\u001b[0m\u001b[31m┓\u001b[0m\u001b[31m┏\u001b[0m\u001b[31m━\u001b[0m\u001b[31m┓\u001b[0m\u001b[31m┗\u001b[0m\u001b[31m━\u001b[0m\u001b[31m━\u001b[0m\u001b[31m┓\u001b[0m\u001b[31m┃\u001b[0m\u001b[31m┗\u001b[0m\u001b[31m━\u001b[0m\u001b[31m┓\u001b[0m\u001b[31m┏\u001b[0m\u001b[31m┓\u001b[0m\u001b[31m┏\u001b[0m\u001b[31m┓\u001b[0m\u001b[31m┃\u001b[0m\u001b[31m┗\u001b[0m\u001b[31m┓\u001b[0m\u001b[31m┃\u001b[0m\u001b[31m┗\u001b[0m\u001b[31m┓\u001b[0m\u001b[31m┃\u001b[0m\u001b[31m┗\u001b[0m\u001b[31m┛\u001b[0m\u001b[31m┏\u001b[0m\u001b[31m┛\u001b[0m\u001b[31m┃\u001b[0m\u001b[31m┃\u001b[0m\u001b[31m┏\u001b[0m\u001b[31m┓\u001b[0m\u001b[31m┃\u001b[0m\u001b[31m┃\u001b[0m\u001b[31m┏\u001b[0m\u001b[31m┓\u001b[0m\u001b[31m┃\u001b[0m\u001b[31m┃\u001b[0m\u001b[31m┏\u001b[0m\u001b[31m┛\u001b[0m\u001b[31m┗\u001b[0m\u001b[31m┓\u001b[0m\u001b[31m┏\u001b[0m\u001b[31m┓\u001b[0m\u001b[31m┏\u001b[0m\u001b[31m┓\u001b[0m\u001b[31m┏\u001b[0m\u001b[31m┛\u001b[0m\u001b[31m┃\u001b[0m\u001b[31m┃\u001b[0m\u001b[31m┗\u001b[0m\u001b[31m┓\u001b[0m\u001b[31m┃\u001b[0m\u001b[31m┃\u001b[0m\u001b[31m┗\u001b[0m\u001b[31m━\u001b[0m\u001b[31m┓\u001b[0m\u001b[31m┗\u001b[0m\u001b[31m┓\u001b[0m\u001b[31m┏\u001b[0m\u001b[31m┛\u001b[0m\u001b[31m┃\u001b[0m\u001b[31m┃\u001b[0m\u001b[31m┗\u001b[0m\u001b[31m┛\u001b[0m\u001b[31m┏\u001b[0m\u001b[31m━\u001b[0m\u001b[31m┛\u001b[0m\u001b[31m┏\u001b[0m\u001b[31m┛\u001b[0m\u001b[31m┗\u001b[0m\u001b[31m┓\u001b[0m\u001b[31m┏\u001b[0m\u001b[31m━\u001b[0m\u001b[31m┓\u001b[0m\u001b[31m┃\u001b[0m\u001b[31m┃\u001b[0m\u001b[31m┏\u001b[0m\u001b[31m┓\u001b[0m\u001b[31m┏\u001b[0m\u001b[31m━\u001b[0m\u001b[31m┛\u001b[0m\u001b[31m┏\u001b[0m\u001b[31m┓\u001b[0m\u001b[31m┏\u001b[0m\u001b[31m┓\u001b[0m\u001b[31m┗\u001b[0m\u001b[31m┓\u001b[0m\u001b[31m┏\u001b[0m\u001b[31m┓\u001b[0m\u001b[31m┗\u001b[0m\u001b[31m┛\u001b[0m\u001b[31m┏\u001b[0m\u001b[31m━\u001b[0m\u001b[31m┓\u001b[0m\u001b[31m┗\u001b[0m\u001b[31m┛\u001b[0m\u001b[31m┏\u001b[0m\u001b[31m━\u001b[0m\u001b[31m┓\u001b[0m\u001b[31m┏\u001b[0m\u001b[31m━\u001b[0m\u001b[31m━\u001b[0m\u001b[31m┓\u001b[0m\u001b[31m┏\u001b[0m\u001b[31m┛\u001b[0m\u001b[31m┗\u001b[0m\u001b[31m┛\u001b[0m\u001b[31m┗\u001b[0m\u001b[31m┓\u001b[0m\u001b[31m┗\u001b[0m\u001b[31m┛\u001b[0m\u001b[31m┏\u001b[0m\u001b[31m┓\u001b[0m\u001b[31m┃\u001b[0m\u001b[32mO\u001b[0m\n",
      "\u001b[32mO\u001b[0m\u001b[32mO\u001b[0m\u001b[32mO\u001b[0m\u001b[32mO\u001b[0m\u001b[32mO\u001b[0m\u001b[32mO\u001b[0m\u001b[32mO\u001b[0m\u001b[32mO\u001b[0m\u001b[32mO\u001b[0m\u001b[32mO\u001b[0m\u001b[32mO\u001b[0m\u001b[31m┏\u001b[0m\u001b[31m━\u001b[0m\u001b[31m━\u001b[0m\u001b[31m┛\u001b[0m\u001b[31m┗\u001b[0m\u001b[31m━\u001b[0m\u001b[31m┛\u001b[0m\u001b[31m┗\u001b[0m\u001b[31m┛\u001b[0m\u001b[31m┗\u001b[0m\u001b[31m━\u001b[0m\u001b[31m┓\u001b[0m\u001b[31m┗\u001b[0m\u001b[31m┓\u001b[0m\u001b[31m┃\u001b[0m\u001b[31m┗\u001b[0m\u001b[31m┓\u001b[0m\u001b[31m┗\u001b[0m\u001b[31m━\u001b[0m\u001b[31m━\u001b[0m\u001b[31m━\u001b[0m\u001b[31m┛\u001b[0m\u001b[31m┃\u001b[0m\u001b[31m┏\u001b[0m\u001b[31m━\u001b[0m\u001b[31m┛\u001b[0m\u001b[31m┃\u001b[0m\u001b[31m┃\u001b[0m\u001b[31m┃\u001b[0m\u001b[31m┃\u001b[0m\u001b[31m┃\u001b[0m\u001b[31m┏\u001b[0m\u001b[31m┛\u001b[0m\u001b[31m┗\u001b[0m\u001b[31m┓\u001b[0m\u001b[31m┃\u001b[0m\u001b[31m┗\u001b[0m\u001b[31m┓\u001b[0m\u001b[31m┏\u001b[0m\u001b[31m┛\u001b[0mJ\u001b[31m┃\u001b[0m\u001b[31m┃\u001b[0m\u001b[31m┃\u001b[0m\u001b[31m┃\u001b[0m\u001b[31m┃\u001b[0m\u001b[31m┃\u001b[0m\u001b[31m┃\u001b[0m\u001b[31m┃\u001b[0m\u001b[31m┃\u001b[0m\u001b[31m┃\u001b[0m\u001b[31m┗\u001b[0m\u001b[31m┓\u001b[0m\u001b[31m┏\u001b[0m\u001b[31m┛\u001b[0m\u001b[31m┃\u001b[0m\u001b[31m┃\u001b[0m\u001b[31m┃\u001b[0m\u001b[31m┃\u001b[0m\u001b[31m┗\u001b[0m\u001b[31m┓\u001b[0m\u001b[31m┃\u001b[0m\u001b[31m┃\u001b[0m\u001b[31m┏\u001b[0m\u001b[31m┛\u001b[0m\u001b[31m┃\u001b[0m\u001b[31m┃\u001b[0m\u001b[31m┏\u001b[0m\u001b[31m┓\u001b[0m\u001b[31m┃\u001b[0m\u001b[31m┏\u001b[0m\u001b[31m┛\u001b[0m\u001b[31m┃\u001b[0m\u001b[31m┏\u001b[0m\u001b[31m┛\u001b[0m\u001b[31m┗\u001b[0m\u001b[31m━\u001b[0m\u001b[31m┓\u001b[0m\u001b[31m┃\u001b[0m\u001b[31m┏\u001b[0m\u001b[31m┓\u001b[0m\u001b[31m┗\u001b[0m\u001b[31m━\u001b[0m\u001b[31m┓\u001b[0m\u001b[31m┃\u001b[0m\u001b[31m┗\u001b[0m\u001b[31m┓\u001b[0m\u001b[31m┃\u001b[0m\u001b[31m┃\u001b[0m\u001b[31m┃\u001b[0m\u001b[31m┃\u001b[0m\u001b[31m┃\u001b[0m\u001b[31m┗\u001b[0m\u001b[31m━\u001b[0m\u001b[31m━\u001b[0m\u001b[31m┛\u001b[0m\u001b[31m┗\u001b[0m\u001b[31m┛\u001b[0m\u001b[31m┗\u001b[0m\u001b[31m━\u001b[0m\u001b[31m┛\u001b[0m\u001b[31m┃\u001b[0m\u001b[31m┗\u001b[0m\u001b[31m┓\u001b[0m\u001b[31m┏\u001b[0m\u001b[31m┛\u001b[0mo\u001b[31m┃\u001b[0m\u001b[31m┏\u001b[0m\u001b[31m━\u001b[0m\u001b[31m┛\u001b[0m\u001b[31m┏\u001b[0m\u001b[31m┛\u001b[0m\u001b[31m┃\u001b[0m\u001b[31m┏\u001b[0m\u001b[31m┓\u001b[0m\u001b[31m┗\u001b[0m\u001b[31m┛\u001b[0moooo\u001b[31m┗\u001b[0m\u001b[31m┓\u001b[0m\u001b[31m┏\u001b[0m\u001b[31m┛\u001b[0m\u001b[31m┃\u001b[0m\u001b[31m┗\u001b[0m\u001b[31m┓\u001b[0m\n",
      "\u001b[32mO\u001b[0m\u001b[32mO\u001b[0m\u001b[32mO\u001b[0m\u001b[32mO\u001b[0m\u001b[32mO\u001b[0m\u001b[32mO\u001b[0m\u001b[32mO\u001b[0m\u001b[32mO\u001b[0m\u001b[32mO\u001b[0m\u001b[32mO\u001b[0m\u001b[32mO\u001b[0m\u001b[31m┗\u001b[0m\u001b[31m━\u001b[0m\u001b[31m━\u001b[0m\u001b[31m━\u001b[0m\u001b[31m━\u001b[0m\u001b[31m━\u001b[0m\u001b[31m┓\u001b[0m\u001b[31m┏\u001b[0m\u001b[31m┓\u001b[0m\u001b[31m┏\u001b[0m\u001b[31m━\u001b[0m\u001b[31m┛\u001b[0m\u001b[31m┏\u001b[0m\u001b[31m┛\u001b[0m\u001b[31m┗\u001b[0m\u001b[31m━\u001b[0m\u001b[31m┛\u001b[0m\u001b[31m┏\u001b[0m\u001b[31m┓\u001b[0m\u001b[31m┏\u001b[0m\u001b[31m━\u001b[0m\u001b[31m┓\u001b[0m\u001b[31m┗\u001b[0m\u001b[31m┛\u001b[0m\u001b[31m┏\u001b[0m\u001b[31m┓\u001b[0m\u001b[31m┃\u001b[0m\u001b[31m┗\u001b[0m\u001b[31m┛\u001b[0m\u001b[31m┃\u001b[0m\u001b[31m┃\u001b[0m\u001b[31m┃\u001b[0m\u001b[31m┏\u001b[0m\u001b[31m┓\u001b[0m\u001b[31m┃\u001b[0m\u001b[31m┃\u001b[0m\u001b[31m┏\u001b[0m\u001b[31m┛\u001b[0m\u001b[31m┃\u001b[0m\u001b[31m┏\u001b[0m\u001b[31m┓\u001b[0m\u001b[31m┃\u001b[0m\u001b[31m┃\u001b[0m\u001b[31m┃\u001b[0m\u001b[31m┃\u001b[0m\u001b[31m┃\u001b[0m\u001b[31m┃\u001b[0m\u001b[31m┃\u001b[0m\u001b[31m┃\u001b[0m\u001b[31m┃\u001b[0m\u001b[31m┃\u001b[0m\u001b[31m┏\u001b[0m\u001b[31m┛\u001b[0m\u001b[31m┃\u001b[0m\u001b[31m┏\u001b[0m\u001b[31m┛\u001b[0m\u001b[31m┃\u001b[0m\u001b[31m┃\u001b[0m\u001b[31m┃\u001b[0m\u001b[31m┏\u001b[0m\u001b[31m┛\u001b[0m\u001b[31m┃\u001b[0m\u001b[31m┃\u001b[0m\u001b[31m┗\u001b[0m\u001b[31m┓\u001b[0m\u001b[31m┃\u001b[0m\u001b[31m┃\u001b[0m\u001b[31m┃\u001b[0m\u001b[31m┃\u001b[0m\u001b[31m┃\u001b[0m\u001b[31m┗\u001b[0m\u001b[31m┓\u001b[0m\u001b[31m┃\u001b[0m\u001b[31m┗\u001b[0m\u001b[31m┓\u001b[0m\u001b[31m┏\u001b[0m\u001b[31m━\u001b[0m\u001b[31m┛\u001b[0m\u001b[31m┃\u001b[0m\u001b[31m┃\u001b[0m\u001b[31m┃\u001b[0m\u001b[31m┏\u001b[0m\u001b[31m┓\u001b[0m\u001b[31m┃\u001b[0m\u001b[31m┃\u001b[0m\u001b[31m┏\u001b[0m\u001b[31m┛\u001b[0m\u001b[31m┃\u001b[0m\u001b[31m┃\u001b[0m\u001b[31m┃\u001b[0m\u001b[31m┃\u001b[0m\u001b[31m┗\u001b[0m\u001b[31m┓\u001b[0m\u001b[31m┏\u001b[0m\u001b[31m━\u001b[0m\u001b[31m┓\u001b[0m\u001b[31m┏\u001b[0m\u001b[31m━\u001b[0m\u001b[31m━\u001b[0m\u001b[31m━\u001b[0m\u001b[31m━\u001b[0m\u001b[31m┛\u001b[0m\u001b[31m┏\u001b[0m\u001b[31m┛\u001b[0m\u001b[31m┃\u001b[0m\u001b[31m┏\u001b[0m\u001b[31m━\u001b[0m\u001b[31m┛\u001b[0m\u001b[31m┗\u001b[0m\u001b[31m━\u001b[0m\u001b[31m┓\u001b[0m\u001b[31m┗\u001b[0m\u001b[31m┓\u001b[0m\u001b[31m┗\u001b[0m\u001b[31m┛\u001b[0m\u001b[31m┗\u001b[0m\u001b[31m┓\u001b[0m\u001b[31m┏\u001b[0m\u001b[31m┓\u001b[0mooo\u001b[31m┏\u001b[0m\u001b[31m┛\u001b[0m\u001b[31m┃\u001b[0m\u001b[32mO\u001b[0m\u001b[31m┗\u001b[0m\u001b[31m┓\u001b[0m\u001b[31m┃\u001b[0m\n",
      "\u001b[32mO\u001b[0m\u001b[32mO\u001b[0m\u001b[32mO\u001b[0m\u001b[32mO\u001b[0m\u001b[32mO\u001b[0m\u001b[32mO\u001b[0m\u001b[32mO\u001b[0m\u001b[32mO\u001b[0m\u001b[32mO\u001b[0m\u001b[32mO\u001b[0m\u001b[32mO\u001b[0m\u001b[32mO\u001b[0m\u001b[31m┏\u001b[0m\u001b[31m━\u001b[0m\u001b[31m━\u001b[0m\u001b[31m━\u001b[0m\u001b[31m━\u001b[0m\u001b[31m┛\u001b[0m\u001b[31m┃\u001b[0m\u001b[31m┃\u001b[0m\u001b[31m┗\u001b[0m\u001b[31m━\u001b[0m\u001b[31m┓\u001b[0m\u001b[31m┗\u001b[0m\u001b[31m━\u001b[0m\u001b[31m━\u001b[0m\u001b[31m┓\u001b[0m\u001b[31m┏\u001b[0m\u001b[31m┛\u001b[0m\u001b[31m┃\u001b[0m\u001b[31m┃\u001b[0mo\u001b[31m┗\u001b[0m\u001b[31m┓\u001b[0m\u001b[31m┏\u001b[0m\u001b[31m┛\u001b[0m\u001b[31m┃\u001b[0m\u001b[31m┗\u001b[0m\u001b[31m━\u001b[0m\u001b[31m┓\u001b[0m\u001b[31m┃\u001b[0m\u001b[31m┃\u001b[0m\u001b[31m┃\u001b[0m\u001b[31m┃\u001b[0m\u001b[31m┗\u001b[0m\u001b[31m┛\u001b[0m\u001b[31m┃\u001b[0m\u001b[31m┃\u001b[0mo\u001b[31m┃\u001b[0m\u001b[31m┃\u001b[0m\u001b[31m┃\u001b[0m\u001b[31m┃\u001b[0m\u001b[31m┃\u001b[0m\u001b[31m┃\u001b[0m\u001b[31m┗\u001b[0m\u001b[31m┛\u001b[0m\u001b[31m┃\u001b[0m\u001b[31m┃\u001b[0m\u001b[31m┗\u001b[0m\u001b[31m┛\u001b[0m\u001b[31m┃\u001b[0m\u001b[31m┃\u001b[0m\u001b[31m┏\u001b[0m\u001b[31m┛\u001b[0m\u001b[31m┃\u001b[0mo\u001b[31m┃\u001b[0m\u001b[31m┃\u001b[0m\u001b[31m┃\u001b[0m\u001b[31m┃\u001b[0mo\u001b[31m┗\u001b[0m\u001b[31m┛\u001b[0mo\u001b[31m┃\u001b[0m\u001b[31m┃\u001b[0m\u001b[31m┃\u001b[0m\u001b[31m┃\u001b[0m\u001b[31m┃\u001b[0m\u001b[31m┃\u001b[0mo\u001b[31m┗\u001b[0m\u001b[31m┛\u001b[0mo\u001b[31m┃\u001b[0m\u001b[31m┗\u001b[0m\u001b[31m━\u001b[0m\u001b[31m┓\u001b[0m\u001b[31m┃\u001b[0m\u001b[31m┃\u001b[0m\u001b[31m┗\u001b[0m\u001b[31m┛\u001b[0m\u001b[31m┃\u001b[0m\u001b[31m┃\u001b[0m\u001b[31m┃\u001b[0m\u001b[31m┃\u001b[0m\u001b[31m┏\u001b[0m\u001b[31m┛\u001b[0m\u001b[31m┃\u001b[0m\u001b[31m┃\u001b[0m\u001b[31m┃\u001b[0m\u001b[31m┏\u001b[0m\u001b[31m┛\u001b[0m\u001b[31m┃\u001b[0mo\u001b[31m┗\u001b[0m\u001b[31m┛\u001b[0m\u001b[31m┏\u001b[0m\u001b[31m━\u001b[0m\u001b[31m━\u001b[0m\u001b[31m┓\u001b[0mo\u001b[31m┗\u001b[0m\u001b[31m┓\u001b[0m\u001b[31m┃\u001b[0m\u001b[31m┗\u001b[0m\u001b[31m━\u001b[0m\u001b[31m━\u001b[0m\u001b[31m━\u001b[0m\u001b[31m━\u001b[0m\u001b[31m┛\u001b[0mo\u001b[31m┗\u001b[0m\u001b[31m┓\u001b[0m\u001b[31m┏\u001b[0m\u001b[31m┓\u001b[0m\u001b[31m┗\u001b[0m\u001b[31m┛\u001b[0m\u001b[31m┗\u001b[0m\u001b[31m━\u001b[0m\u001b[31m━\u001b[0m\u001b[31m┓\u001b[0m\u001b[31m┃\u001b[0m\u001b[31m┏\u001b[0m\u001b[31m┛\u001b[0m\u001b[32mO\u001b[0m\u001b[32mO\u001b[0m\u001b[31m┗\u001b[0m\u001b[31m┛\u001b[0m\n",
      "\u001b[32mO\u001b[0m\u001b[32mO\u001b[0m\u001b[32mO\u001b[0m\u001b[32mO\u001b[0m\u001b[32mO\u001b[0m\u001b[32mO\u001b[0m\u001b[32mO\u001b[0m\u001b[32mO\u001b[0m\u001b[32mO\u001b[0m\u001b[32mO\u001b[0m\u001b[32mO\u001b[0m\u001b[31m┏\u001b[0m\u001b[31m┛\u001b[0m\u001b[31m┏\u001b[0m\u001b[31m┓\u001b[0m\u001b[31m┏\u001b[0m\u001b[31m━\u001b[0m\u001b[31m━\u001b[0m\u001b[31m┛\u001b[0m\u001b[31m┗\u001b[0m\u001b[31m━\u001b[0m\u001b[31m┓\u001b[0m\u001b[31m┗\u001b[0m\u001b[31m━\u001b[0m\u001b[31m━\u001b[0m\u001b[31m━\u001b[0m\u001b[31m┛\u001b[0m\u001b[31m┃\u001b[0m\u001b[31m┏\u001b[0m\u001b[31m┛\u001b[0m\u001b[31m┃\u001b[0m\u001b[31m┏\u001b[0m\u001b[31m━\u001b[0m\u001b[31m┛\u001b[0m\u001b[31m┃\u001b[0m\u001b[31m┏\u001b[0m\u001b[31m┛\u001b[0m\u001b[31m┏\u001b[0m\u001b[31m┓\u001b[0m\u001b[31m┃\u001b[0m\u001b[31m┃\u001b[0m\u001b[31m┃\u001b[0m\u001b[31m┃\u001b[0m\u001b[31m┗\u001b[0m\u001b[31m━\u001b[0m\u001b[31m┓\u001b[0m\u001b[31m┃\u001b[0m\u001b[31m┗\u001b[0m\u001b[31m┓\u001b[0m\u001b[31m┃\u001b[0m\u001b[31m┃\u001b[0m\u001b[31m┗\u001b[0m\u001b[31m┛\u001b[0m\u001b[31m┃\u001b[0m\u001b[31m┗\u001b[0m\u001b[31m┓\u001b[0mo\u001b[31m┃\u001b[0m\u001b[31m┗\u001b[0m\u001b[31m━\u001b[0m\u001b[31m┓\u001b[0m\u001b[31m┃\u001b[0m\u001b[31m┃\u001b[0m\u001b[31m┗\u001b[0m\u001b[31m┓\u001b[0m\u001b[31m┗\u001b[0m\u001b[31m┓\u001b[0m\u001b[31m┗\u001b[0m\u001b[31m┛\u001b[0m\u001b[31m┗\u001b[0m\u001b[31m┛\u001b[0m\u001b[31m┏\u001b[0m\u001b[31m━\u001b[0m\u001b[31m━\u001b[0m\u001b[31m━\u001b[0m\u001b[31m┛\u001b[0m\u001b[31m┃\u001b[0m\u001b[31m┗\u001b[0m\u001b[31m┛\u001b[0m\u001b[31m┃\u001b[0m\u001b[31m┗\u001b[0m\u001b[31m┓\u001b[0m\u001b[31m┏\u001b[0m\u001b[31m━\u001b[0m\u001b[31m━\u001b[0m\u001b[31m┛\u001b[0m\u001b[31m┏\u001b[0m\u001b[31m┓\u001b[0m\u001b[31m┃\u001b[0m\u001b[31m┃\u001b[0m\u001b[31m┃\u001b[0m\u001b[31m┏\u001b[0m\u001b[31m┓\u001b[0m\u001b[31m┗\u001b[0m\u001b[31m┛\u001b[0m\u001b[31m┃\u001b[0m\u001b[31m┃\u001b[0m\u001b[31m┃\u001b[0m\u001b[31m┏\u001b[0m\u001b[31m┛\u001b[0m\u001b[31m┃\u001b[0m\u001b[31m┃\u001b[0m\u001b[31m┗\u001b[0m\u001b[31m┓\u001b[0m\u001b[31m┗\u001b[0m\u001b[31m━\u001b[0m\u001b[31m━\u001b[0m\u001b[31m━\u001b[0m\u001b[31m┛\u001b[0m\u001b[31m┏\u001b[0m\u001b[31m┓\u001b[0m\u001b[31m┗\u001b[0m\u001b[31m┓\u001b[0mo\u001b[31m┗\u001b[0m\u001b[31m┛\u001b[0m\u001b[31m┏\u001b[0m\u001b[31m━\u001b[0m\u001b[31m━\u001b[0m\u001b[31m━\u001b[0m\u001b[31m━\u001b[0m\u001b[31m┓\u001b[0mo\u001b[31m┏\u001b[0m\u001b[31m┛\u001b[0m\u001b[31m┃\u001b[0m\u001b[31m┃\u001b[0m\u001b[31m┏\u001b[0m\u001b[31m━\u001b[0m\u001b[31m┓\u001b[0m\u001b[31m┏\u001b[0m\u001b[31m━\u001b[0m\u001b[31m┛\u001b[0m\u001b[31m┗\u001b[0m\u001b[31m┛\u001b[0m\u001b[32mO\u001b[0m\u001b[32mO\u001b[0m\u001b[32mO\u001b[0m\u001b[32mO\u001b[0m\u001b[32mO\u001b[0m\n",
      "\u001b[32mO\u001b[0m\u001b[32mO\u001b[0m\u001b[32mO\u001b[0m\u001b[32mO\u001b[0m\u001b[32mO\u001b[0m\u001b[32mO\u001b[0m\u001b[32mO\u001b[0m\u001b[32mO\u001b[0m\u001b[32mO\u001b[0m\u001b[32mO\u001b[0m\u001b[32mO\u001b[0m\u001b[31m┗\u001b[0m\u001b[31m━\u001b[0m\u001b[31m┛\u001b[0m\u001b[31m┗\u001b[0m\u001b[31m┛\u001b[0m\u001b[31m┏\u001b[0m\u001b[31m━\u001b[0m\u001b[31m━\u001b[0m\u001b[31m━\u001b[0m\u001b[31m━\u001b[0m\u001b[31m┛\u001b[0m\u001b[31m┏\u001b[0m\u001b[31m━\u001b[0m\u001b[31m━\u001b[0m\u001b[31m┓\u001b[0m\u001b[31m┏\u001b[0m\u001b[31m┛\u001b[0m\u001b[31m┗\u001b[0m\u001b[31m┓\u001b[0m\u001b[31m┃\u001b[0m\u001b[31m┃\u001b[0m\u001b[31m┏\u001b[0m\u001b[31m━\u001b[0m\u001b[31m┛\u001b[0m\u001b[31m┗\u001b[0m\u001b[31m┓\u001b[0m\u001b[31m┃\u001b[0m\u001b[31m┃\u001b[0m\u001b[31m┃\u001b[0m\u001b[31m┗\u001b[0m\u001b[31m┛\u001b[0m\u001b[31m┗\u001b[0m\u001b[31m┓\u001b[0m\u001b[31m┏\u001b[0m\u001b[31m┛\u001b[0m\u001b[31m┗\u001b[0m\u001b[31m┓\u001b[0m\u001b[31m┃\u001b[0m\u001b[31m┃\u001b[0m\u001b[31m┗\u001b[0m\u001b[31m━\u001b[0m\u001b[31m┓\u001b[0m\u001b[31m┗\u001b[0m\u001b[31m┓\u001b[0m\u001b[31m┗\u001b[0m\u001b[31m┓\u001b[0m\u001b[31m┃\u001b[0m\u001b[31m┏\u001b[0m\u001b[31m┓\u001b[0m\u001b[31m┃\u001b[0m\u001b[31m┗\u001b[0m\u001b[31m┛\u001b[0mo\u001b[31m┃\u001b[0m\u001b[31m┏\u001b[0m\u001b[31m┛\u001b[0mo\u001b[31m┏\u001b[0m\u001b[31m┓\u001b[0m\u001b[31m┏\u001b[0m\u001b[31m┛\u001b[0m\u001b[31m┏\u001b[0m\u001b[31m┓\u001b[0m\u001b[31m┏\u001b[0m\u001b[31m┓\u001b[0m\u001b[31m┗\u001b[0m\u001b[31m┓\u001b[0m\u001b[31m┏\u001b[0m\u001b[31m┛\u001b[0m\u001b[31m┏\u001b[0m\u001b[31m┛\u001b[0m\u001b[31m┗\u001b[0m\u001b[31m━\u001b[0m\u001b[31m┓\u001b[0m\u001b[31m┏\u001b[0m\u001b[31m┛\u001b[0m\u001b[31m┗\u001b[0m\u001b[31m┛\u001b[0m\u001b[31m┃\u001b[0m\u001b[31m┗\u001b[0m\u001b[31m┛\u001b[0m\u001b[31m┗\u001b[0m\u001b[31m┓\u001b[0mo\u001b[31m┃\u001b[0m\u001b[31m┃\u001b[0m\u001b[31m┃\u001b[0m\u001b[31m┃\u001b[0m\u001b[31m┏\u001b[0m\u001b[31m┛\u001b[0m\u001b[31m┃\u001b[0m\u001b[31m┏\u001b[0m\u001b[31m┛\u001b[0m\u001b[31m┏\u001b[0m\u001b[31m┓\u001b[0m\u001b[31m┏\u001b[0m\u001b[31m┓\u001b[0m\u001b[31m┏\u001b[0m\u001b[31m┛\u001b[0m\u001b[31m┗\u001b[0m\u001b[31m┓\u001b[0m\u001b[31m┗\u001b[0m\u001b[31m━\u001b[0m\u001b[31m━\u001b[0m\u001b[31m━\u001b[0m\u001b[31m┛\u001b[0m\u001b[31m┏\u001b[0m\u001b[31m━\u001b[0m\u001b[31m━\u001b[0m\u001b[31m┓\u001b[0m\u001b[31m┗\u001b[0m\u001b[31m┓\u001b[0m\u001b[31m┗\u001b[0m\u001b[31m━\u001b[0m\u001b[31m┛\u001b[0m\u001b[31m┃\u001b[0m\u001b[31m┗\u001b[0m\u001b[31m┓\u001b[0m\u001b[31m┃\u001b[0m\u001b[31m┗\u001b[0m\u001b[31m┓\u001b[0m\u001b[32mO\u001b[0m\u001b[32mO\u001b[0m\u001b[32mO\u001b[0m\u001b[32mO\u001b[0m\u001b[32mO\u001b[0m\u001b[32mO\u001b[0m\u001b[32mO\u001b[0m\u001b[32mO\u001b[0m\n",
      "\u001b[32mO\u001b[0m\u001b[32mO\u001b[0m\u001b[32mO\u001b[0m\u001b[32mO\u001b[0m\u001b[32mO\u001b[0m\u001b[32mO\u001b[0m\u001b[32mO\u001b[0m\u001b[32mO\u001b[0m\u001b[32mO\u001b[0m\u001b[32mO\u001b[0m\u001b[32mO\u001b[0m\u001b[32mO\u001b[0m\u001b[32mO\u001b[0m\u001b[31m┏\u001b[0m\u001b[31m━\u001b[0m\u001b[31m━\u001b[0m\u001b[31m┛\u001b[0m\u001b[31m┏\u001b[0m\u001b[31m┓\u001b[0m\u001b[31m┏\u001b[0m\u001b[31m━\u001b[0m\u001b[31m━\u001b[0m\u001b[31m┛\u001b[0m\u001b[31m┏\u001b[0m\u001b[31m┓\u001b[0m\u001b[31m┃\u001b[0m\u001b[31m┃\u001b[0m\u001b[31m┏\u001b[0m\u001b[31m┓\u001b[0m\u001b[31m┃\u001b[0m\u001b[31m┃\u001b[0m\u001b[31m┃\u001b[0m\u001b[31m┃\u001b[0m\u001b[31m┏\u001b[0m\u001b[31m━\u001b[0m\u001b[31m━\u001b[0m\u001b[31m┛\u001b[0m\u001b[31m┃\u001b[0m\u001b[31m┃\u001b[0m\u001b[31m┗\u001b[0m\u001b[31m┓\u001b[0m\u001b[31m┏\u001b[0m\u001b[31m┓\u001b[0m\u001b[31m┃\u001b[0m\u001b[31m┃\u001b[0mo\u001b[31m┏\u001b[0m\u001b[31m┛\u001b[0m\u001b[31m┃\u001b[0m\u001b[31m┗\u001b[0m\u001b[31m┓\u001b[0m\u001b[31m┏\u001b[0m\u001b[31m┛\u001b[0mo\u001b[31m┗\u001b[0m\u001b[31m┓\u001b[0m\u001b[31m┃\u001b[0m\u001b[31m┗\u001b[0m\u001b[31m┛\u001b[0m\u001b[31m┗\u001b[0m\u001b[31m┛\u001b[0mo\u001b[31m┏\u001b[0m\u001b[31m┓\u001b[0m\u001b[31m┃\u001b[0m\u001b[31m┃\u001b[0m\u001b[31m┏\u001b[0m\u001b[31m┓\u001b[0m\u001b[31m┃\u001b[0m\u001b[31m┃\u001b[0m\u001b[31m┗\u001b[0m\u001b[31m┓\u001b[0m\u001b[31m┃\u001b[0m\u001b[31m┗\u001b[0m\u001b[31m┛\u001b[0m\u001b[31m┗\u001b[0m\u001b[31m┓\u001b[0m\u001b[31m┃\u001b[0m\u001b[31m┃\u001b[0m\u001b[31m┏\u001b[0m\u001b[31m┛\u001b[0m\u001b[31m┏\u001b[0m\u001b[31m━\u001b[0m\u001b[31m━\u001b[0m\u001b[31m┛\u001b[0m\u001b[31m┗\u001b[0m\u001b[31m━\u001b[0m\u001b[31m┓\u001b[0m\u001b[31m┏\u001b[0m\u001b[31m┛\u001b[0m\u001b[31m┏\u001b[0m\u001b[31m━\u001b[0m\u001b[31m┓\u001b[0m\u001b[31m┗\u001b[0m\u001b[31m┓\u001b[0m\u001b[31m┃\u001b[0m\u001b[31m┃\u001b[0m\u001b[31m┃\u001b[0m\u001b[31m┃\u001b[0m\u001b[31m┃\u001b[0m\u001b[31m┏\u001b[0m\u001b[31m┛\u001b[0m\u001b[31m┗\u001b[0m\u001b[31m┓\u001b[0m\u001b[31m┃\u001b[0m\u001b[31m┃\u001b[0m\u001b[31m┃\u001b[0m\u001b[31m┃\u001b[0m\u001b[31m┗\u001b[0m\u001b[31m┓\u001b[0mo\u001b[31m┗\u001b[0m\u001b[31m┓\u001b[0m\u001b[31m┏\u001b[0m\u001b[31m━\u001b[0m\u001b[31m┓\u001b[0m\u001b[31m┏\u001b[0m\u001b[31m┛\u001b[0m\u001b[31m┏\u001b[0m\u001b[31m┓\u001b[0m\u001b[31m┗\u001b[0m\u001b[31m┓\u001b[0m\u001b[31m┗\u001b[0m\u001b[31m━\u001b[0m\u001b[31m━\u001b[0m\u001b[31m┓\u001b[0m\u001b[31m┃\u001b[0m\u001b[31m┏\u001b[0m\u001b[31m┛\u001b[0m\u001b[31m┗\u001b[0m\u001b[31m━\u001b[0m\u001b[31m┛\u001b[0m\u001b[32mO\u001b[0m\u001b[32mO\u001b[0m\u001b[32mO\u001b[0m\u001b[32mO\u001b[0m\u001b[32mO\u001b[0m\u001b[32mO\u001b[0m\u001b[32mO\u001b[0m\u001b[32mO\u001b[0m\n",
      "\u001b[32mO\u001b[0m\u001b[32mO\u001b[0m\u001b[32mO\u001b[0m\u001b[32mO\u001b[0m\u001b[32mO\u001b[0m\u001b[32mO\u001b[0m\u001b[32mO\u001b[0m\u001b[32mO\u001b[0m\u001b[32mO\u001b[0m\u001b[32mO\u001b[0m\u001b[32mO\u001b[0m\u001b[32mO\u001b[0m\u001b[32mO\u001b[0m\u001b[31m┃\u001b[0m\u001b[31m┏\u001b[0m\u001b[31m━\u001b[0m\u001b[31m━\u001b[0m\u001b[31m┛\u001b[0m\u001b[31m┃\u001b[0m\u001b[31m┃\u001b[0m\u001b[31m┏\u001b[0m\u001b[31m━\u001b[0m\u001b[31m━\u001b[0m\u001b[31m┛\u001b[0m\u001b[31m┗\u001b[0m\u001b[31m┛\u001b[0m\u001b[31m┃\u001b[0m\u001b[31m┃\u001b[0m\u001b[31m┗\u001b[0m\u001b[31m┛\u001b[0m\u001b[31m┃\u001b[0m\u001b[31m┃\u001b[0m\u001b[31m┃\u001b[0m\u001b[31m┗\u001b[0m\u001b[31m━\u001b[0m\u001b[31m━\u001b[0m\u001b[31m┓\u001b[0m\u001b[31m┃\u001b[0m\u001b[31m┃\u001b[0m\u001b[31m┏\u001b[0m\u001b[31m┛\u001b[0m\u001b[31m┃\u001b[0m\u001b[31m┗\u001b[0m\u001b[31m┛\u001b[0m\u001b[31m┗\u001b[0m\u001b[31m┓\u001b[0m\u001b[31m┗\u001b[0m\u001b[31m┓\u001b[0m\u001b[31m┗\u001b[0m\u001b[31m┓\u001b[0m\u001b[31m┃\u001b[0m\u001b[31m┗\u001b[0m\u001b[31m━\u001b[0m\u001b[31m━\u001b[0m\u001b[31m┓\u001b[0m\u001b[31m┃\u001b[0m\u001b[31m┗\u001b[0m\u001b[31m━\u001b[0m\u001b[31m━\u001b[0m\u001b[31m━\u001b[0m\u001b[31m┓\u001b[0m\u001b[31m┏\u001b[0m\u001b[31m┛\u001b[0m\u001b[31m┗\u001b[0m\u001b[31m┛\u001b[0m\u001b[31m┗\u001b[0m\u001b[31m┛\u001b[0m\u001b[31m┗\u001b[0m\u001b[31m┛\u001b[0m\u001b[31m┃\u001b[0m\u001b[31m┏\u001b[0m\u001b[31m┛\u001b[0m\u001b[31m┗\u001b[0m\u001b[31m━\u001b[0m\u001b[31m┓\u001b[0m\u001b[31m┏\u001b[0m\u001b[31m┛\u001b[0m\u001b[31m┃\u001b[0m\u001b[31m┃\u001b[0m\u001b[31m┗\u001b[0m\u001b[31m┓\u001b[0m\u001b[31m┃\u001b[0m\u001b[31m┏\u001b[0m\u001b[31m┓\u001b[0m\u001b[31m┏\u001b[0m\u001b[31m┓\u001b[0m\u001b[31m┏\u001b[0m\u001b[31m┛\u001b[0m\u001b[31m┗\u001b[0m\u001b[31m┓\u001b[0m\u001b[31m┃\u001b[0mo\u001b[31m┗\u001b[0m\u001b[31m┓\u001b[0m\u001b[31m┃\u001b[0m\u001b[31m┗\u001b[0m\u001b[31m┛\u001b[0m\u001b[31m┗\u001b[0m\u001b[31m┛\u001b[0m\u001b[31m┃\u001b[0m\u001b[31m┗\u001b[0m\u001b[31m┓\u001b[0m\u001b[31m┏\u001b[0m\u001b[31m┛\u001b[0m\u001b[31m┃\u001b[0m\u001b[31m┃\u001b[0m\u001b[31m┃\u001b[0m\u001b[31m┃\u001b[0m\u001b[31m┏\u001b[0m\u001b[31m┛\u001b[0m\u001b[31m┏\u001b[0m\u001b[31m┓\u001b[0m\u001b[31m┗\u001b[0m\u001b[31m┛\u001b[0m\u001b[31m┏\u001b[0m\u001b[31m┛\u001b[0m\u001b[31m┗\u001b[0m\u001b[31m━\u001b[0m\u001b[31m┛\u001b[0m\u001b[31m┗\u001b[0m\u001b[31m┓\u001b[0m\u001b[31m┃\u001b[0m\u001b[31m┏\u001b[0m\u001b[31m┓\u001b[0m\u001b[31m┏\u001b[0m\u001b[31m┛\u001b[0m\u001b[31m┃\u001b[0m\u001b[31m┗\u001b[0m\u001b[31m━\u001b[0m\u001b[31m┓\u001b[0m\u001b[32mO\u001b[0m\u001b[32mO\u001b[0m\u001b[32mO\u001b[0m\u001b[32mO\u001b[0m\u001b[32mO\u001b[0m\u001b[32mO\u001b[0m\u001b[32mO\u001b[0m\u001b[32mO\u001b[0m\u001b[32mO\u001b[0m\u001b[32mO\u001b[0m\n",
      "\u001b[32mO\u001b[0m\u001b[32mO\u001b[0m\u001b[32mO\u001b[0m\u001b[32mO\u001b[0m\u001b[32mO\u001b[0m\u001b[32mO\u001b[0m\u001b[32mO\u001b[0m\u001b[32mO\u001b[0m\u001b[32mO\u001b[0m\u001b[32mO\u001b[0m\u001b[32mO\u001b[0m\u001b[32mO\u001b[0m\u001b[32mO\u001b[0m\u001b[31m┗\u001b[0m\u001b[31m┛\u001b[0m\u001b[31m┏\u001b[0m\u001b[31m━\u001b[0m\u001b[31m━\u001b[0m\u001b[31m┛\u001b[0m\u001b[31m┃\u001b[0m\u001b[31m┗\u001b[0m\u001b[31m━\u001b[0m\u001b[31m━\u001b[0m\u001b[31m┓\u001b[0m\u001b[31m┏\u001b[0m\u001b[31m━\u001b[0m\u001b[31m┛\u001b[0m\u001b[31m┗\u001b[0m\u001b[31m━\u001b[0m\u001b[31m━\u001b[0m\u001b[31m┛\u001b[0m\u001b[31m┗\u001b[0m\u001b[31m┛\u001b[0mo\u001b[31m┏\u001b[0m\u001b[31m━\u001b[0m\u001b[31m┛\u001b[0m\u001b[31m┃\u001b[0m\u001b[31m┃\u001b[0m\u001b[31m┗\u001b[0m\u001b[31m┓\u001b[0m\u001b[31m┗\u001b[0m\u001b[31m━\u001b[0m\u001b[31m┓\u001b[0m\u001b[31m┏\u001b[0m\u001b[31m┛\u001b[0mo\u001b[31m┃\u001b[0m\u001b[31m┏\u001b[0m\u001b[31m┛\u001b[0m\u001b[31m┃\u001b[0m\u001b[31m┏\u001b[0m\u001b[31m┓\u001b[0m\u001b[31m┏\u001b[0m\u001b[31m┛\u001b[0m\u001b[31m┗\u001b[0m\u001b[31m┓\u001b[0m\u001b[31m┏\u001b[0m\u001b[31m━\u001b[0m\u001b[31m┓\u001b[0m\u001b[31m┃\u001b[0m\u001b[31m┃\u001b[0m\u001b[31m┏\u001b[0m\u001b[31m━\u001b[0m\u001b[31m┓\u001b[0m\u001b[31m┏\u001b[0m\u001b[31m┓\u001b[0m\u001b[31m┏\u001b[0m\u001b[31m━\u001b[0m\u001b[31m┛\u001b[0m\u001b[31m┃\u001b[0m\u001b[31m┏\u001b[0m\u001b[31m┓\u001b[0m\u001b[31m┏\u001b[0m\u001b[31m┛\u001b[0m\u001b[31m┗\u001b[0m\u001b[31m┓\u001b[0m\u001b[31m┃\u001b[0m\u001b[31m┗\u001b[0m\u001b[31m┓\u001b[0m\u001b[31m┃\u001b[0m\u001b[31m┃\u001b[0m\u001b[31m┃\u001b[0m\u001b[31m┃\u001b[0m\u001b[31m┃\u001b[0m\u001b[31m┃\u001b[0m\u001b[31m┗\u001b[0m\u001b[31m┓\u001b[0m\u001b[31m┏\u001b[0m\u001b[31m┛\u001b[0m\u001b[31m┗\u001b[0m\u001b[31m━\u001b[0m\u001b[31m┓\u001b[0m\u001b[31m┃\u001b[0m\u001b[31m┗\u001b[0m\u001b[31m━\u001b[0m\u001b[31m┓\u001b[0m\u001b[31m┏\u001b[0m\u001b[31m━\u001b[0m\u001b[31m┛\u001b[0m\u001b[31m┏\u001b[0m\u001b[31m┛\u001b[0m\u001b[31m┗\u001b[0m\u001b[31m┓\u001b[0m\u001b[31m┃\u001b[0m\u001b[31m┃\u001b[0m\u001b[31m┃\u001b[0m\u001b[31m┃\u001b[0m\u001b[31m┗\u001b[0m\u001b[31m━\u001b[0m\u001b[31m┛\u001b[0m\u001b[31m┗\u001b[0m\u001b[31m━\u001b[0m\u001b[31m┓\u001b[0m\u001b[31m┗\u001b[0m\u001b[31m━\u001b[0m\u001b[31m━\u001b[0m\u001b[31m┓\u001b[0m\u001b[31m┏\u001b[0m\u001b[31m┓\u001b[0m\u001b[31m┃\u001b[0m\u001b[31m┃\u001b[0m\u001b[31m┃\u001b[0m\u001b[31m┃\u001b[0m\u001b[31m┃\u001b[0mo\u001b[31m┃\u001b[0m\u001b[31m┏\u001b[0m\u001b[31m━\u001b[0m\u001b[31m┛\u001b[0m\u001b[32mO\u001b[0m\u001b[32mO\u001b[0m\u001b[32mO\u001b[0m\u001b[32mO\u001b[0m\u001b[32mO\u001b[0m\u001b[32mO\u001b[0m\u001b[32mO\u001b[0m\u001b[32mO\u001b[0m\u001b[32mO\u001b[0m\u001b[32mO\u001b[0m\n",
      "\u001b[32mO\u001b[0m\u001b[32mO\u001b[0m\u001b[32mO\u001b[0m\u001b[32mO\u001b[0m\u001b[32mO\u001b[0m\u001b[32mO\u001b[0m\u001b[32mO\u001b[0m\u001b[32mO\u001b[0m\u001b[32mO\u001b[0m\u001b[32mO\u001b[0m\u001b[32mO\u001b[0m\u001b[32mO\u001b[0m\u001b[32mO\u001b[0m\u001b[31m┏\u001b[0m\u001b[31m━\u001b[0m\u001b[31m┛\u001b[0m\u001b[31m┏\u001b[0m\u001b[31m━\u001b[0m\u001b[31m┓\u001b[0m\u001b[31m┃\u001b[0m\u001b[31m┏\u001b[0m\u001b[31m━\u001b[0m\u001b[31m━\u001b[0m\u001b[31m┛\u001b[0m\u001b[31m┃\u001b[0mo\u001b[31m┏\u001b[0m\u001b[31m┓\u001b[0m\u001b[31m┏\u001b[0m\u001b[31m┓\u001b[0m\u001b[31m┏\u001b[0m\u001b[31m┓\u001b[0m\u001b[31m┏\u001b[0m\u001b[31m┓\u001b[0m\u001b[31m┃\u001b[0m\u001b[31m┏\u001b[0m\u001b[31m━\u001b[0m\u001b[31m┛\u001b[0m\u001b[31m┗\u001b[0m\u001b[31m┓\u001b[0m\u001b[31m┃\u001b[0mo\u001b[31m┏\u001b[0m\u001b[31m┛\u001b[0m\u001b[31m┃\u001b[0mo\u001b[31m┏\u001b[0m\u001b[31m┛\u001b[0m\u001b[31m┗\u001b[0m\u001b[31m┓\u001b[0m\u001b[31m┃\u001b[0m\u001b[31m┃\u001b[0m\u001b[31m┃\u001b[0m\u001b[31m┗\u001b[0m\u001b[31m┓\u001b[0mo\u001b[31m┗\u001b[0m\u001b[31m┛\u001b[0mo\u001b[31m┃\u001b[0m\u001b[31m┃\u001b[0m\u001b[31m┃\u001b[0m\u001b[31m┃\u001b[0m\u001b[31m┏\u001b[0m\u001b[31m┛\u001b[0m\u001b[31m┃\u001b[0m\u001b[31m┃\u001b[0m\u001b[31m┗\u001b[0m\u001b[31m┓\u001b[0m\u001b[31m┏\u001b[0m\u001b[31m┛\u001b[0m\u001b[31m┃\u001b[0m\u001b[31m┗\u001b[0m\u001b[31m┛\u001b[0m\u001b[31m┏\u001b[0m\u001b[31m━\u001b[0m\u001b[31m┛\u001b[0m\u001b[31m┃\u001b[0mo\u001b[31m┃\u001b[0m\u001b[31m┃\u001b[0m\u001b[31m┗\u001b[0m\u001b[31m┛\u001b[0m\u001b[31m┃\u001b[0m\u001b[31m┃\u001b[0m\u001b[31m┃\u001b[0m\u001b[31m┏\u001b[0m\u001b[31m┛\u001b[0m\u001b[31m┗\u001b[0m\u001b[31m┓\u001b[0m\u001b[31m┏\u001b[0m\u001b[31m━\u001b[0m\u001b[31m┛\u001b[0m\u001b[31m┗\u001b[0m\u001b[31m┓\u001b[0m\u001b[31m┏\u001b[0m\u001b[31m┛\u001b[0m\u001b[31m┗\u001b[0m\u001b[31m┓\u001b[0m\u001b[31m┏\u001b[0m\u001b[31m┛\u001b[0mo\u001b[31m┏\u001b[0m\u001b[31m┛\u001b[0m\u001b[31m┃\u001b[0m\u001b[31m┃\u001b[0m\u001b[31m┃\u001b[0m\u001b[31m┃\u001b[0m\u001b[31m┏\u001b[0m\u001b[31m┓\u001b[0m\u001b[31m┏\u001b[0m\u001b[31m━\u001b[0m\u001b[31m┓\u001b[0m\u001b[31m┗\u001b[0m\u001b[31m━\u001b[0m\u001b[31m━\u001b[0m\u001b[31m┓\u001b[0m\u001b[31m┃\u001b[0m\u001b[31m┃\u001b[0m\u001b[31m┗\u001b[0m\u001b[31m┛\u001b[0m\u001b[31m┃\u001b[0m\u001b[31m┃\u001b[0m\u001b[31m┃\u001b[0m\u001b[31m┗\u001b[0m\u001b[31m┓\u001b[0m\u001b[31m┃\u001b[0m\u001b[31m┗\u001b[0m\u001b[31m━\u001b[0m\u001b[31m━\u001b[0m\u001b[31m┓\u001b[0m\u001b[32mO\u001b[0m\u001b[32mO\u001b[0m\u001b[32mO\u001b[0m\u001b[32mO\u001b[0m\u001b[32mO\u001b[0m\u001b[32mO\u001b[0m\u001b[32mO\u001b[0m\u001b[32mO\u001b[0m\u001b[32mO\u001b[0m\n",
      "\u001b[32mO\u001b[0m\u001b[32mO\u001b[0m\u001b[32mO\u001b[0m\u001b[32mO\u001b[0m\u001b[32mO\u001b[0m\u001b[32mO\u001b[0m\u001b[32mO\u001b[0m\u001b[32mO\u001b[0m\u001b[32mO\u001b[0m\u001b[32mO\u001b[0m\u001b[31m┏\u001b[0m\u001b[31m━\u001b[0m\u001b[31m━\u001b[0m\u001b[31m┛\u001b[0m\u001b[31m┏\u001b[0m\u001b[31m┓\u001b[0m\u001b[31m┗\u001b[0m\u001b[31m┓\u001b[0m\u001b[31m┗\u001b[0m\u001b[31m┛\u001b[0m\u001b[31m┗\u001b[0m\u001b[31m━\u001b[0m\u001b[31m━\u001b[0m\u001b[31m━\u001b[0m\u001b[31m┛\u001b[0m\u001b[31m┏\u001b[0m\u001b[31m┛\u001b[0m\u001b[31m┗\u001b[0m\u001b[31m┛\u001b[0m\u001b[31m┗\u001b[0m\u001b[31m┛\u001b[0m\u001b[31m┗\u001b[0m\u001b[31m┛\u001b[0m\u001b[31m┗\u001b[0m\u001b[31m┛\u001b[0m\u001b[31m┗\u001b[0m\u001b[31m━\u001b[0m\u001b[31m━\u001b[0m\u001b[31m┓\u001b[0m\u001b[31m┃\u001b[0m\u001b[31m┗\u001b[0m\u001b[31m┓\u001b[0m\u001b[31m┗\u001b[0m\u001b[31m┓\u001b[0m\u001b[31m┗\u001b[0m\u001b[31m┓\u001b[0m\u001b[31m┗\u001b[0m\u001b[31m┓\u001b[0m\u001b[31m┏\u001b[0m\u001b[31m┛\u001b[0m\u001b[31m┃\u001b[0m\u001b[31m┃\u001b[0m\u001b[31m┗\u001b[0m\u001b[31m┓\u001b[0m\u001b[31m┃\u001b[0m\u001b[31m┏\u001b[0m\u001b[31m━\u001b[0m\u001b[31m━\u001b[0m\u001b[31m┓\u001b[0m\u001b[31m┃\u001b[0m\u001b[31m┃\u001b[0m\u001b[31m┗\u001b[0m\u001b[31m┛\u001b[0m\u001b[31m┗\u001b[0m\u001b[31m┓\u001b[0m\u001b[31m┃\u001b[0m\u001b[31m┃\u001b[0m\u001b[31m┏\u001b[0m\u001b[31m┛\u001b[0m\u001b[31m┃\u001b[0m\u001b[31m┏\u001b[0m\u001b[31m┛\u001b[0m\u001b[31m┏\u001b[0m\u001b[31m━\u001b[0m\u001b[31m┛\u001b[0m\u001b[31m┏\u001b[0m\u001b[31m┓\u001b[0m\u001b[31m┗\u001b[0m\u001b[31m┓\u001b[0m\u001b[31m┃\u001b[0m\u001b[31m┃\u001b[0m\u001b[31m┏\u001b[0m\u001b[31m━\u001b[0m\u001b[31m┛\u001b[0m\u001b[31m┃\u001b[0m\u001b[31m┗\u001b[0m\u001b[31m┛\u001b[0m\u001b[31m┏\u001b[0m\u001b[31m━\u001b[0m\u001b[31m┛\u001b[0m\u001b[31m┃\u001b[0mo\u001b[31m┏\u001b[0m\u001b[31m━\u001b[0m\u001b[31m┛\u001b[0m\u001b[31m┗\u001b[0m\u001b[31m━\u001b[0m\u001b[31m┓\u001b[0m\u001b[31m┃\u001b[0m\u001b[31m┃\u001b[0m\u001b[31m┏\u001b[0m\u001b[31m┓\u001b[0m\u001b[31m┗\u001b[0m\u001b[31m┓\u001b[0m\u001b[31m┃\u001b[0m\u001b[31m┃\u001b[0m\u001b[31m┃\u001b[0m\u001b[31m┃\u001b[0m\u001b[31m┃\u001b[0m\u001b[31m┃\u001b[0m\u001b[31m┃\u001b[0m\u001b[31m┏\u001b[0m\u001b[31m┛\u001b[0m\u001b[31m┏\u001b[0m\u001b[31m━\u001b[0m\u001b[31m┓\u001b[0m\u001b[31m┃\u001b[0m\u001b[31m┃\u001b[0m\u001b[31m┗\u001b[0m\u001b[31m━\u001b[0m\u001b[31m┓\u001b[0m\u001b[31m┃\u001b[0m\u001b[31m┃\u001b[0m\u001b[31m┃\u001b[0m\u001b[31m┏\u001b[0m\u001b[31m┛\u001b[0m\u001b[31m┗\u001b[0m\u001b[31m━\u001b[0m\u001b[31m┓\u001b[0m\u001b[31m┏\u001b[0m\u001b[31m┛\u001b[0m\u001b[32mO\u001b[0m\u001b[32mO\u001b[0m\u001b[32mO\u001b[0m\u001b[32mO\u001b[0m\u001b[32mO\u001b[0m\u001b[32mO\u001b[0m\u001b[32mO\u001b[0m\u001b[32mO\u001b[0m\u001b[32mO\u001b[0m\n",
      "\u001b[32mO\u001b[0m\u001b[32mO\u001b[0m\u001b[32mO\u001b[0m\u001b[32mO\u001b[0m\u001b[32mO\u001b[0m\u001b[32mO\u001b[0m\u001b[32mO\u001b[0m\u001b[32mO\u001b[0m\u001b[32mO\u001b[0m\u001b[32mO\u001b[0m\u001b[31m┗\u001b[0m\u001b[31m━\u001b[0m\u001b[31m┓\u001b[0m\u001b[31m┏\u001b[0m\u001b[31m┛\u001b[0m\u001b[31m┃\u001b[0m\u001b[31m┏\u001b[0m\u001b[31m┛\u001b[0mo\u001b[31m┏\u001b[0m\u001b[31m━\u001b[0m\u001b[31m━\u001b[0m\u001b[31m━\u001b[0m\u001b[31m━\u001b[0m\u001b[31m┓\u001b[0m\u001b[31m┃\u001b[0m\u001b[31m┏\u001b[0m\u001b[31m━\u001b[0m\u001b[31m━\u001b[0m\u001b[31m┓\u001b[0m\u001b[31m┏\u001b[0m\u001b[31m━\u001b[0m\u001b[31m━\u001b[0m\u001b[31m━\u001b[0m\u001b[31m┓\u001b[0m\u001b[31m┏\u001b[0m\u001b[31m━\u001b[0m\u001b[31m┓\u001b[0m\u001b[31m┃\u001b[0m\u001b[31m┗\u001b[0m\u001b[31m━\u001b[0m\u001b[31m┛\u001b[0mo\u001b[31m┗\u001b[0m\u001b[31m┓\u001b[0m\u001b[31m┗\u001b[0m\u001b[31m┓\u001b[0m\u001b[31m┃\u001b[0m\u001b[31m┗\u001b[0m\u001b[31m┓\u001b[0m\u001b[31m┗\u001b[0m\u001b[31m┛\u001b[0mo\u001b[31m┃\u001b[0m\u001b[31m┃\u001b[0m\u001b[31m┃\u001b[0m\u001b[31m┏\u001b[0m\u001b[31m━\u001b[0m\u001b[31m┛\u001b[0m\u001b[31m┃\u001b[0m\u001b[31m┗\u001b[0m\u001b[31m┓\u001b[0m\u001b[31m┏\u001b[0m\u001b[31m━\u001b[0m\u001b[31m┛\u001b[0m\u001b[31m┃\u001b[0m\u001b[31m┃\u001b[0m\u001b[31m┗\u001b[0m\u001b[31m┓\u001b[0m\u001b[31m┃\u001b[0m\u001b[31m┃\u001b[0m\u001b[31m┏\u001b[0m\u001b[31m┛\u001b[0m\u001b[31m┏\u001b[0m\u001b[31m┓\u001b[0m\u001b[31m┃\u001b[0m\u001b[31m┃\u001b[0m\u001b[31m┏\u001b[0m\u001b[31m┛\u001b[0m\u001b[31m┗\u001b[0m\u001b[31m┛\u001b[0m\u001b[31m┃\u001b[0m\u001b[31m┏\u001b[0m\u001b[31m┓\u001b[0m\u001b[31m┗\u001b[0m\u001b[31m┓\u001b[0mo\u001b[31m┗\u001b[0m\u001b[31m━\u001b[0m\u001b[31m┓\u001b[0m\u001b[31m┗\u001b[0m\u001b[31m┓\u001b[0m\u001b[31m┗\u001b[0m\u001b[31m━\u001b[0m\u001b[31m┓\u001b[0m\u001b[31m┏\u001b[0m\u001b[31m┓\u001b[0m\u001b[31m┃\u001b[0m\u001b[31m┃\u001b[0m\u001b[31m┗\u001b[0m\u001b[31m┛\u001b[0m\u001b[31m┗\u001b[0m\u001b[31m┓\u001b[0m\u001b[31m┃\u001b[0m\u001b[31m┃\u001b[0m\u001b[31m┃\u001b[0m\u001b[31m┃\u001b[0m\u001b[31m┃\u001b[0m\u001b[31m┃\u001b[0m\u001b[31m┃\u001b[0m\u001b[31m┃\u001b[0m\u001b[31m┗\u001b[0m\u001b[31m┓\u001b[0m\u001b[31m┃\u001b[0m\u001b[31m┏\u001b[0m\u001b[31m┛\u001b[0m\u001b[31m┃\u001b[0m\u001b[31m┗\u001b[0m\u001b[31m┓\u001b[0m\u001b[31m┏\u001b[0m\u001b[31m┛\u001b[0m\u001b[31m┗\u001b[0m\u001b[31m┛\u001b[0m\u001b[31m┃\u001b[0m\u001b[31m┗\u001b[0m\u001b[31m┓\u001b[0m\u001b[32mO\u001b[0m\u001b[32mO\u001b[0m\u001b[31m┗\u001b[0m\u001b[31m┛\u001b[0m\u001b[32mO\u001b[0m\u001b[32mO\u001b[0m\u001b[32mO\u001b[0m\u001b[32mO\u001b[0m\u001b[32mO\u001b[0m\u001b[32mO\u001b[0m\u001b[32mO\u001b[0m\u001b[32mO\u001b[0m\u001b[32mO\u001b[0m\u001b[32mO\u001b[0m\n",
      "\u001b[32mO\u001b[0m\u001b[32mO\u001b[0m\u001b[32mO\u001b[0m\u001b[32mO\u001b[0m\u001b[32mO\u001b[0m\u001b[32mO\u001b[0m\u001b[32mO\u001b[0m\u001b[32mO\u001b[0m\u001b[32mO\u001b[0m\u001b[32mO\u001b[0m\u001b[32mO\u001b[0m\u001b[31m┏\u001b[0m\u001b[31m┛\u001b[0m\u001b[31m┗\u001b[0m\u001b[31m┓\u001b[0m\u001b[31m┗\u001b[0m\u001b[31m┛\u001b[0m\u001b[31m┏\u001b[0m\u001b[31m┓\u001b[0m\u001b[31m┗\u001b[0m\u001b[31m━\u001b[0m\u001b[31m━\u001b[0m\u001b[31m━\u001b[0m\u001b[31m┓\u001b[0m\u001b[31m┃\u001b[0m\u001b[31m┗\u001b[0m\u001b[31m┛\u001b[0m\u001b[31m┏\u001b[0m\u001b[31m┓\u001b[0m\u001b[31m┗\u001b[0m\u001b[31m┛\u001b[0m\u001b[31m┏\u001b[0m\u001b[31m━\u001b[0m\u001b[31m━\u001b[0m\u001b[31m┛\u001b[0m\u001b[31m┗\u001b[0m\u001b[31m┓\u001b[0m\u001b[31m┃\u001b[0m\u001b[31m┗\u001b[0m\u001b[31m━\u001b[0m\u001b[31m┓\u001b[0m\u001b[31m┏\u001b[0m\u001b[31m━\u001b[0m\u001b[31m━\u001b[0m\u001b[31m┛\u001b[0m\u001b[31m┏\u001b[0m\u001b[31m┛\u001b[0m\u001b[31m┗\u001b[0m\u001b[31m━\u001b[0m\u001b[31m┛\u001b[0mo\u001b[31m┏\u001b[0m\u001b[31m━\u001b[0m\u001b[31m┛\u001b[0m\u001b[31m┗\u001b[0m\u001b[31m┛\u001b[0m\u001b[31m┗\u001b[0m\u001b[31m━\u001b[0m\u001b[31m┓\u001b[0m\u001b[31m┃\u001b[0m\u001b[31m┏\u001b[0m\u001b[31m┛\u001b[0m\u001b[31m┃\u001b[0m\u001b[31m┏\u001b[0m\u001b[31m━\u001b[0m\u001b[31m┛\u001b[0m\u001b[31m┃\u001b[0m\u001b[31m┏\u001b[0m\u001b[31m┛\u001b[0m\u001b[31m┃\u001b[0m\u001b[31m┃\u001b[0m\u001b[31m┗\u001b[0m\u001b[31m┓\u001b[0m\u001b[31m┃\u001b[0m\u001b[31m┗\u001b[0m\u001b[31m┛\u001b[0m\u001b[31m┃\u001b[0m\u001b[31m┃\u001b[0m\u001b[31m┏\u001b[0m\u001b[31m┓\u001b[0mo\u001b[31m┃\u001b[0m\u001b[31m┃\u001b[0m\u001b[31m┗\u001b[0m\u001b[31m┓\u001b[0m\u001b[31m┗\u001b[0m\u001b[31m┓\u001b[0m\u001b[31m┏\u001b[0m\u001b[31m┓\u001b[0m\u001b[31m┗\u001b[0m\u001b[31m┓\u001b[0m\u001b[31m┃\u001b[0mo\u001b[31m┏\u001b[0m\u001b[31m┛\u001b[0m\u001b[31m┃\u001b[0m\u001b[31m┃\u001b[0m\u001b[31m┃\u001b[0m\u001b[31m┃\u001b[0m\u001b[31m┏\u001b[0m\u001b[31m━\u001b[0m\u001b[31m┓\u001b[0m\u001b[31m┃\u001b[0m\u001b[31m┗\u001b[0m\u001b[31m┛\u001b[0m\u001b[31m┗\u001b[0m\u001b[31m┛\u001b[0m\u001b[31m┗\u001b[0m\u001b[31m┛\u001b[0m\u001b[31m┃\u001b[0m\u001b[31m┗\u001b[0m\u001b[31m┓\u001b[0m\u001b[31m┃\u001b[0m\u001b[31m┃\u001b[0m\u001b[31m┗\u001b[0m\u001b[31m┓\u001b[0m\u001b[31m┗\u001b[0m\u001b[31m┓\u001b[0m\u001b[31m┗\u001b[0m\u001b[31m┛\u001b[0m\u001b[31m┏\u001b[0m\u001b[31m━\u001b[0m\u001b[31m┓\u001b[0m\u001b[31m┃\u001b[0m\u001b[31m┏\u001b[0m\u001b[31m┛\u001b[0m\u001b[32mO\u001b[0m\u001b[32mO\u001b[0m\u001b[32mO\u001b[0m\u001b[32mO\u001b[0m\u001b[32mO\u001b[0m\u001b[32mO\u001b[0m\u001b[32mO\u001b[0m\u001b[32mO\u001b[0m\u001b[32mO\u001b[0m\u001b[32mO\u001b[0m\u001b[32mO\u001b[0m\u001b[32mO\u001b[0m\u001b[32mO\u001b[0m\u001b[32mO\u001b[0m\n",
      "\u001b[32mO\u001b[0m\u001b[32mO\u001b[0m\u001b[32mO\u001b[0m\u001b[32mO\u001b[0m\u001b[32mO\u001b[0m\u001b[32mO\u001b[0m\u001b[32mO\u001b[0m\u001b[32mO\u001b[0m\u001b[32mO\u001b[0m\u001b[32mO\u001b[0m\u001b[31m┏\u001b[0m\u001b[31m┛\u001b[0m\u001b[31m┏\u001b[0m\u001b[31m┓\u001b[0m\u001b[31m┃\u001b[0m\u001b[31m┏\u001b[0m\u001b[31m━\u001b[0m\u001b[31m┛\u001b[0m\u001b[31m┗\u001b[0m\u001b[31m┓\u001b[0m\u001b[31m┏\u001b[0m\u001b[31m━\u001b[0m\u001b[31m━\u001b[0m\u001b[31m┛\u001b[0m\u001b[31m┗\u001b[0m\u001b[31m━\u001b[0m\u001b[31m━\u001b[0m\u001b[31m┛\u001b[0m\u001b[31m┗\u001b[0m\u001b[31m━\u001b[0m\u001b[31m━\u001b[0m\u001b[31m┛\u001b[0m\u001b[31m┏\u001b[0m\u001b[31m━\u001b[0m\u001b[31m┓\u001b[0m\u001b[31m┏\u001b[0m\u001b[31m┛\u001b[0m\u001b[31m┗\u001b[0m\u001b[31m┓\u001b[0m\u001b[31m┏\u001b[0m\u001b[31m┛\u001b[0m\u001b[31m┗\u001b[0m\u001b[31m┓\u001b[0m\u001b[31m┏\u001b[0m\u001b[31m┓\u001b[0m\u001b[31m┗\u001b[0m\u001b[31m━\u001b[0m\u001b[31m━\u001b[0m\u001b[31m━\u001b[0m\u001b[31m━\u001b[0m\u001b[31m┓\u001b[0m\u001b[31m┗\u001b[0m\u001b[31m┓\u001b[0m\u001b[31m┏\u001b[0m\u001b[31m━\u001b[0m\u001b[31m┓\u001b[0m\u001b[31m┏\u001b[0m\u001b[31m┓\u001b[0m\u001b[31m┃\u001b[0m\u001b[31m┗\u001b[0m\u001b[31m┛\u001b[0m\u001b[31m┏\u001b[0m\u001b[31m┛\u001b[0m\u001b[31m┃\u001b[0m\u001b[31m┏\u001b[0m\u001b[31m━\u001b[0m\u001b[31m┛\u001b[0m\u001b[31m┃\u001b[0m\u001b[31m┏\u001b[0m\u001b[31m┛\u001b[0m\u001b[31m┃\u001b[0mo\u001b[31m┃\u001b[0m\u001b[31m┃\u001b[0m\u001b[31m┏\u001b[0m\u001b[31m━\u001b[0m\u001b[31m┛\u001b[0m\u001b[31m┗\u001b[0m\u001b[31m┛\u001b[0m\u001b[31m┗\u001b[0m\u001b[31m┓\u001b[0m\u001b[31m┃\u001b[0m\u001b[31m┃\u001b[0mo\u001b[31m┗\u001b[0m\u001b[31m┓\u001b[0m\u001b[31m┗\u001b[0m\u001b[31m┛\u001b[0m\u001b[31m┗\u001b[0m\u001b[31m┓\u001b[0m\u001b[31m┃\u001b[0m\u001b[31m┗\u001b[0m\u001b[31m┓\u001b[0m\u001b[31m┗\u001b[0m\u001b[31m┓\u001b[0m\u001b[31m┃\u001b[0m\u001b[31m┃\u001b[0m\u001b[31m┃\u001b[0m\u001b[31m┃\u001b[0m\u001b[31m┗\u001b[0m\u001b[31m┓\u001b[0m\u001b[31m┃\u001b[0m\u001b[31m┗\u001b[0m\u001b[31m┓\u001b[0m\u001b[31m┏\u001b[0m\u001b[31m┓\u001b[0mo\u001b[31m┏\u001b[0m\u001b[31m┓\u001b[0m\u001b[31m┗\u001b[0m\u001b[31m┓\u001b[0m\u001b[31m┃\u001b[0m\u001b[31m┃\u001b[0m\u001b[31m┗\u001b[0m\u001b[31m┓\u001b[0m\u001b[31m┗\u001b[0m\u001b[31m┓\u001b[0m\u001b[31m┗\u001b[0m\u001b[31m┓\u001b[0m\u001b[32mO\u001b[0m\u001b[31m┗\u001b[0m\u001b[31m┓\u001b[0m\u001b[31m┗\u001b[0m\u001b[31m┛\u001b[0m\u001b[31m┗\u001b[0m\u001b[31m┓\u001b[0m\u001b[32mO\u001b[0m\u001b[32mO\u001b[0m\u001b[32mO\u001b[0m\u001b[32mO\u001b[0m\u001b[32mO\u001b[0m\u001b[32mO\u001b[0m\u001b[32mO\u001b[0m\u001b[32mO\u001b[0m\u001b[32mO\u001b[0m\u001b[32mO\u001b[0m\u001b[32mO\u001b[0m\u001b[32mO\u001b[0m\u001b[32mO\u001b[0m\u001b[32mO\u001b[0m\n",
      "\u001b[32mO\u001b[0m\u001b[32mO\u001b[0m\u001b[32mO\u001b[0m\u001b[32mO\u001b[0m\u001b[32mO\u001b[0m\u001b[32mO\u001b[0m\u001b[32mO\u001b[0m\u001b[32mO\u001b[0m\u001b[32mO\u001b[0m\u001b[32mO\u001b[0m\u001b[31m┗\u001b[0m\u001b[31m┓\u001b[0m\u001b[31m┃\u001b[0m\u001b[31m┃\u001b[0m\u001b[31m┃\u001b[0m\u001b[31m┗\u001b[0m\u001b[31m━\u001b[0m\u001b[31m━\u001b[0m\u001b[31m┓\u001b[0m\u001b[31m┗\u001b[0m\u001b[31m┛\u001b[0m\u001b[31m┏\u001b[0m\u001b[31m━\u001b[0m\u001b[31m┓\u001b[0m\u001b[31m┏\u001b[0m\u001b[31m┓\u001b[0m\u001b[31m┏\u001b[0m\u001b[31m━\u001b[0m\u001b[31m┓\u001b[0m\u001b[31m┏\u001b[0m\u001b[31m━\u001b[0m\u001b[31m┓\u001b[0m\u001b[31m┗\u001b[0m\u001b[31m┓\u001b[0m\u001b[31m┃\u001b[0m\u001b[31m┗\u001b[0m\u001b[31m━\u001b[0m\u001b[31m┓\u001b[0m\u001b[31m┃\u001b[0m\u001b[31m┃\u001b[0mo\u001b[31m┏\u001b[0m\u001b[31m┛\u001b[0m\u001b[31m┃\u001b[0m\u001b[31m┃\u001b[0m\u001b[31m┏\u001b[0m\u001b[31m┓\u001b[0m\u001b[31m┏\u001b[0m\u001b[31m┓\u001b[0m\u001b[31m┏\u001b[0m\u001b[31m┛\u001b[0mo\u001b[31m┃\u001b[0m\u001b[31m┃\u001b[0m\u001b[31m┏\u001b[0m\u001b[31m┛\u001b[0m\u001b[31m┃\u001b[0m\u001b[31m┗\u001b[0m\u001b[31m┛\u001b[0m\u001b[31m┏\u001b[0m\u001b[31m┓\u001b[0m\u001b[31m┗\u001b[0m\u001b[31m━\u001b[0m\u001b[31m┛\u001b[0m\u001b[31m┗\u001b[0m\u001b[31m┓\u001b[0m\u001b[31m┏\u001b[0m\u001b[31m┛\u001b[0m\u001b[31m┃\u001b[0m\u001b[31m┏\u001b[0m\u001b[31m┛\u001b[0m\u001b[31m┏\u001b[0m\u001b[31m┛\u001b[0m\u001b[31m┃\u001b[0m\u001b[31m┗\u001b[0m\u001b[31m━\u001b[0m\u001b[31m┓\u001b[0m\u001b[31m┏\u001b[0m\u001b[31m┓\u001b[0m\u001b[31m┏\u001b[0m\u001b[31m┛\u001b[0m\u001b[31m┃\u001b[0m\u001b[31m┗\u001b[0m\u001b[31m━\u001b[0m\u001b[31m┓\u001b[0m\u001b[31m┗\u001b[0m\u001b[31m┓\u001b[0m\u001b[31m┏\u001b[0m\u001b[31m┓\u001b[0m\u001b[31m┃\u001b[0m\u001b[31m┃\u001b[0m\u001b[31m┏\u001b[0m\u001b[31m┛\u001b[0mo\u001b[31m┃\u001b[0m\u001b[31m┃\u001b[0m\u001b[31m┃\u001b[0m\u001b[31m┃\u001b[0m\u001b[31m┗\u001b[0m\u001b[31m┓\u001b[0m\u001b[31m┃\u001b[0m\u001b[31m┗\u001b[0m\u001b[31m┓\u001b[0m\u001b[31m┃\u001b[0m\u001b[31m┃\u001b[0m\u001b[31m┗\u001b[0m\u001b[31m━\u001b[0m\u001b[31m┛\u001b[0m\u001b[31m┗\u001b[0m\u001b[31m┓\u001b[0m\u001b[31m┗\u001b[0m\u001b[31m┛\u001b[0m\u001b[31m┃\u001b[0m\u001b[31m┏\u001b[0m\u001b[31m┛\u001b[0mo\u001b[31m┗\u001b[0m\u001b[31m┓\u001b[0m\u001b[31m┗\u001b[0m\u001b[31m┓\u001b[0m\u001b[32mO\u001b[0m\u001b[31m┗\u001b[0m\u001b[31m━\u001b[0m\u001b[31m━\u001b[0m\u001b[31m┓\u001b[0m\u001b[31m┃\u001b[0m\u001b[32mO\u001b[0m\u001b[32mO\u001b[0m\u001b[32mO\u001b[0m\u001b[32mO\u001b[0m\u001b[32mO\u001b[0m\u001b[32mO\u001b[0m\u001b[32mO\u001b[0m\u001b[32mO\u001b[0m\u001b[32mO\u001b[0m\u001b[32mO\u001b[0m\u001b[32mO\u001b[0m\u001b[32mO\u001b[0m\u001b[32mO\u001b[0m\u001b[32mO\u001b[0m\n",
      "\u001b[32mO\u001b[0m\u001b[32mO\u001b[0m\u001b[32mO\u001b[0m\u001b[32mO\u001b[0m\u001b[32mO\u001b[0m\u001b[32mO\u001b[0m\u001b[32mO\u001b[0m\u001b[32mO\u001b[0m\u001b[32mO\u001b[0m\u001b[32mO\u001b[0m\u001b[32mO\u001b[0m\u001b[31m┃\u001b[0m\u001b[31m┃\u001b[0m\u001b[31m┗\u001b[0m\u001b[31m┛\u001b[0m\u001b[31m┏\u001b[0m\u001b[31m━\u001b[0m\u001b[31m━\u001b[0m\u001b[31m┛\u001b[0m\u001b[31m┏\u001b[0m\u001b[31m━\u001b[0m\u001b[31m┛\u001b[0mo\u001b[31m┗\u001b[0m\u001b[31m┛\u001b[0m\u001b[31m┃\u001b[0m\u001b[31m┃\u001b[0m\u001b[31m┏\u001b[0m\u001b[31m┛\u001b[0m\u001b[31m┗\u001b[0m\u001b[31m┓\u001b[0m\u001b[31m┗\u001b[0m\u001b[31m┓\u001b[0m\u001b[31m┃\u001b[0m\u001b[31m┃\u001b[0m\u001b[31m┏\u001b[0m\u001b[31m━\u001b[0m\u001b[31m┛\u001b[0m\u001b[31m┃\u001b[0m\u001b[31m┗\u001b[0m\u001b[31m┓\u001b[0m\u001b[31m┃\u001b[0m\u001b[31m┏\u001b[0m\u001b[31m┛\u001b[0m\u001b[31m┃\u001b[0m\u001b[31m┃\u001b[0m\u001b[31m┃\u001b[0m\u001b[31m┃\u001b[0m\u001b[31m┗\u001b[0m\u001b[31m┛\u001b[0mo\u001b[31m┏\u001b[0m\u001b[31m┛\u001b[0m\u001b[31m┃\u001b[0m\u001b[31m┗\u001b[0m\u001b[31m┓\u001b[0m\u001b[31m┗\u001b[0m\u001b[31m━\u001b[0m\u001b[31m━\u001b[0m\u001b[31m┛\u001b[0m\u001b[31m┗\u001b[0m\u001b[31m━\u001b[0m\u001b[31m━\u001b[0m\u001b[31m┓\u001b[0m\u001b[31m┏\u001b[0m\u001b[31m┛\u001b[0m\u001b[31m┗\u001b[0m\u001b[31m┓\u001b[0m\u001b[31m┃\u001b[0m\u001b[31m┃\u001b[0mo\u001b[31m┗\u001b[0m\u001b[31m┓\u001b[0m\u001b[31m┃\u001b[0m\u001b[31m┏\u001b[0m\u001b[31m┓\u001b[0m\u001b[31m┃\u001b[0m\u001b[31m┃\u001b[0m\u001b[31m┗\u001b[0m\u001b[31m┛\u001b[0mo\u001b[31m┗\u001b[0m\u001b[31m━\u001b[0m\u001b[31m━\u001b[0m\u001b[31m┛\u001b[0mo\u001b[31m┗\u001b[0m\u001b[31m┛\u001b[0m\u001b[31m┃\u001b[0m\u001b[31m┃\u001b[0m\u001b[31m┃\u001b[0m\u001b[31m┃\u001b[0m\u001b[31m┏\u001b[0m\u001b[31m━\u001b[0m\u001b[31m┛\u001b[0m\u001b[31m┃\u001b[0m\u001b[31m┗\u001b[0m\u001b[31m┛\u001b[0mo\u001b[31m┃\u001b[0m\u001b[31m┃\u001b[0mo\u001b[31m┃\u001b[0m\u001b[31m┗\u001b[0m\u001b[31m┛\u001b[0m\u001b[31m┏\u001b[0m\u001b[31m━\u001b[0m\u001b[31m━\u001b[0m\u001b[31m┓\u001b[0m\u001b[31m┃\u001b[0moo\u001b[31m┗\u001b[0m\u001b[31m┛\u001b[0m\u001b[31m┏\u001b[0m\u001b[31m┓\u001b[0mo\u001b[31m┃\u001b[0m\u001b[31m┏\u001b[0m\u001b[31m┛\u001b[0m\u001b[32mO\u001b[0m\u001b[32mO\u001b[0m\u001b[32mO\u001b[0m\u001b[32mO\u001b[0m\u001b[31m┃\u001b[0m\u001b[31m┗\u001b[0m\u001b[31m┓\u001b[0m\u001b[32mO\u001b[0m\u001b[32mO\u001b[0m\u001b[32mO\u001b[0m\u001b[32mO\u001b[0m\u001b[32mO\u001b[0m\u001b[32mO\u001b[0m\u001b[32mO\u001b[0m\u001b[32mO\u001b[0m\u001b[32mO\u001b[0m\u001b[32mO\u001b[0m\u001b[32mO\u001b[0m\u001b[32mO\u001b[0m\u001b[32mO\u001b[0m\n",
      "\u001b[32mO\u001b[0m\u001b[32mO\u001b[0m\u001b[32mO\u001b[0m\u001b[32mO\u001b[0m\u001b[32mO\u001b[0m\u001b[32mO\u001b[0m\u001b[32mO\u001b[0m\u001b[32mO\u001b[0m\u001b[32mO\u001b[0m\u001b[32mO\u001b[0m\u001b[32mO\u001b[0m\u001b[31m┃\u001b[0m\u001b[31m┃\u001b[0m\u001b[32mO\u001b[0m\u001b[32mO\u001b[0m\u001b[31m┗\u001b[0m\u001b[31m━\u001b[0m\u001b[31m┓\u001b[0m\u001b[31m┏\u001b[0m\u001b[31m┛\u001b[0mo\u001b[31m┏\u001b[0m\u001b[31m┓\u001b[0m\u001b[31m┏\u001b[0m\u001b[31m━\u001b[0m\u001b[31m┛\u001b[0m\u001b[31m┃\u001b[0m\u001b[31m┗\u001b[0m\u001b[31m┓\u001b[0m\u001b[31m┏\u001b[0m\u001b[31m┛\u001b[0m\u001b[31m┏\u001b[0m\u001b[31m┛\u001b[0m\u001b[31m┃\u001b[0m\u001b[31m┃\u001b[0m\u001b[31m┗\u001b[0m\u001b[31m┓\u001b[0m\u001b[31m┏\u001b[0m\u001b[31m┛\u001b[0m\u001b[31m┏\u001b[0m\u001b[31m┛\u001b[0m\u001b[31m┗\u001b[0m\u001b[31m┛\u001b[0m\u001b[31m┏\u001b[0m\u001b[31m┛\u001b[0m\u001b[31m┃\u001b[0m\u001b[31m┃\u001b[0m\u001b[31m┃\u001b[0m\u001b[31m┏\u001b[0m\u001b[31m━\u001b[0m\u001b[31m━\u001b[0m\u001b[31m┛\u001b[0m\u001b[31m┏\u001b[0m\u001b[31m┛\u001b[0m\u001b[31m┏\u001b[0m\u001b[31m┛\u001b[0m\u001b[31m┏\u001b[0m\u001b[31m┓\u001b[0m\u001b[31m┏\u001b[0m\u001b[31m┓\u001b[0m\u001b[31m┏\u001b[0m\u001b[31m━\u001b[0m\u001b[31m━\u001b[0m\u001b[31m┛\u001b[0m\u001b[31m┗\u001b[0m\u001b[31m┓\u001b[0m\u001b[31m┏\u001b[0m\u001b[31m┛\u001b[0m\u001b[31m┃\u001b[0m\u001b[31m┗\u001b[0m\u001b[31m━\u001b[0m\u001b[31m┓\u001b[0m\u001b[31m┗\u001b[0m\u001b[31m┛\u001b[0m\u001b[31m┃\u001b[0m\u001b[31m┃\u001b[0m\u001b[31m┃\u001b[0m\u001b[31m┗\u001b[0m\u001b[31m━\u001b[0m\u001b[31m┓\u001b[0m\u001b[31m┏\u001b[0m\u001b[31m┓\u001b[0mo\u001b[31m┏\u001b[0m\u001b[31m━\u001b[0m\u001b[31m┓\u001b[0m\u001b[31m┏\u001b[0m\u001b[31m━\u001b[0m\u001b[31m┛\u001b[0m\u001b[31m┃\u001b[0m\u001b[31m┃\u001b[0m\u001b[31m┃\u001b[0m\u001b[31m┃\u001b[0m\u001b[31m┏\u001b[0m\u001b[31m┓\u001b[0m\u001b[31m┗\u001b[0m\u001b[31m┓\u001b[0mo\u001b[31m┏\u001b[0m\u001b[31m┛\u001b[0m\u001b[31m┃\u001b[0m\u001b[31m┏\u001b[0m\u001b[31m┛\u001b[0m\u001b[31m┏\u001b[0m\u001b[31m┓\u001b[0m\u001b[31m┗\u001b[0m\u001b[31m━\u001b[0m\u001b[31m┓\u001b[0m\u001b[31m┗\u001b[0m\u001b[31m┛\u001b[0mooo\u001b[31m┏\u001b[0m\u001b[31m┛\u001b[0m\u001b[31m┃\u001b[0m\u001b[31m┏\u001b[0m\u001b[31m┛\u001b[0m\u001b[31m┗\u001b[0m\u001b[31m┓\u001b[0m\u001b[32mO\u001b[0m\u001b[32mO\u001b[0m\u001b[32mO\u001b[0m\u001b[32mO\u001b[0m\u001b[31m┗\u001b[0m\u001b[31m━\u001b[0m\u001b[31m┛\u001b[0m\u001b[32mO\u001b[0m\u001b[32mO\u001b[0m\u001b[32mO\u001b[0m\u001b[32mO\u001b[0m\u001b[32mO\u001b[0m\u001b[32mO\u001b[0m\u001b[32mO\u001b[0m\u001b[32mO\u001b[0m\u001b[32mO\u001b[0m\u001b[32mO\u001b[0m\u001b[32mO\u001b[0m\u001b[32mO\u001b[0m\u001b[32mO\u001b[0m\n",
      "\u001b[32mO\u001b[0m\u001b[32mO\u001b[0m\u001b[32mO\u001b[0m\u001b[32mO\u001b[0m\u001b[32mO\u001b[0m\u001b[32mO\u001b[0m\u001b[32mO\u001b[0m\u001b[32mO\u001b[0m\u001b[32mO\u001b[0m\u001b[32mO\u001b[0m\u001b[32mO\u001b[0m\u001b[31m┗\u001b[0m\u001b[31m┛\u001b[0m\u001b[32mO\u001b[0m\u001b[31m┏\u001b[0m\u001b[31m━\u001b[0m\u001b[31m━\u001b[0m\u001b[31m┛\u001b[0m\u001b[31m┃\u001b[0m\u001b[31m┏\u001b[0m\u001b[31m━\u001b[0m\u001b[31m┛\u001b[0m\u001b[31m┃\u001b[0m\u001b[31m┗\u001b[0m\u001b[31m━\u001b[0m\u001b[31m┓\u001b[0m\u001b[31m┃\u001b[0m\u001b[31m┏\u001b[0m\u001b[31m┛\u001b[0m\u001b[31m┗\u001b[0m\u001b[31m┓\u001b[0m\u001b[31m┗\u001b[0m\u001b[31m┓\u001b[0m\u001b[31m┃\u001b[0m\u001b[31m┗\u001b[0m\u001b[31m━\u001b[0m\u001b[31m┛\u001b[0m\u001b[31m┗\u001b[0m\u001b[31m┓\u001b[0m\u001b[31m┗\u001b[0m\u001b[31m━\u001b[0m\u001b[31m┓\u001b[0mo\u001b[31m┗\u001b[0m\u001b[31m━\u001b[0m\u001b[31m┛\u001b[0m\u001b[31m┃\u001b[0m\u001b[31m┃\u001b[0m\u001b[31m┃\u001b[0m\u001b[31m┏\u001b[0m\u001b[31m┓\u001b[0m\u001b[31m┏\u001b[0m\u001b[31m┛\u001b[0m\u001b[31m┏\u001b[0m\u001b[31m┛\u001b[0m\u001b[31m┏\u001b[0m\u001b[31m┛\u001b[0m\u001b[31m┃\u001b[0m\u001b[31m┃\u001b[0m\u001b[31m┃\u001b[0m\u001b[31m┗\u001b[0m\u001b[31m━\u001b[0m\u001b[31m┓\u001b[0m\u001b[31m┏\u001b[0m\u001b[31m━\u001b[0m\u001b[31m┛\u001b[0m\u001b[31m┃\u001b[0m\u001b[31m┏\u001b[0m\u001b[31m┛\u001b[0m\u001b[31m┏\u001b[0m\u001b[31m┓\u001b[0m\u001b[31m┃\u001b[0m\u001b[31m┏\u001b[0m\u001b[31m━\u001b[0m\u001b[31m┛\u001b[0m\u001b[31m┗\u001b[0m\u001b[31m┛\u001b[0m\u001b[31m┏\u001b[0m\u001b[31m┓\u001b[0m\u001b[31m┗\u001b[0m\u001b[31m┛\u001b[0m\u001b[31m┗\u001b[0m\u001b[31m━\u001b[0m\u001b[31m┛\u001b[0m\u001b[31m┏\u001b[0m\u001b[31m┛\u001b[0m\u001b[31m┗\u001b[0m\u001b[31m━\u001b[0m\u001b[31m┓\u001b[0m\u001b[31m┃\u001b[0m\u001b[31m┗\u001b[0m\u001b[31m┛\u001b[0m\u001b[31m┃\u001b[0m\u001b[31m┃\u001b[0m\u001b[31m┗\u001b[0m\u001b[31m┓\u001b[0m\u001b[31m┗\u001b[0m\u001b[31m┓\u001b[0m\u001b[31m┗\u001b[0m\u001b[31m━\u001b[0m\u001b[31m┛\u001b[0m\u001b[31m┗\u001b[0m\u001b[31m┓\u001b[0m\u001b[31m┃\u001b[0m\u001b[31m┃\u001b[0m\u001b[31m┏\u001b[0m\u001b[31m┓\u001b[0m\u001b[31m┗\u001b[0m\u001b[31m┓\u001b[0m\u001b[31m┏\u001b[0m\u001b[31m┓\u001b[0mo\u001b[31m┏\u001b[0m\u001b[31m┛\u001b[0m\u001b[31m┏\u001b[0m\u001b[31m┛\u001b[0m\u001b[31m┃\u001b[0m\u001b[31m┏\u001b[0m\u001b[31m━\u001b[0m\u001b[31m┛\u001b[0m\u001b[32mO\u001b[0m\u001b[32mO\u001b[0m\u001b[32mO\u001b[0m\u001b[32mO\u001b[0m\u001b[32mO\u001b[0m\u001b[32mO\u001b[0m\u001b[32mO\u001b[0m\u001b[32mO\u001b[0m\u001b[32mO\u001b[0m\u001b[32mO\u001b[0m\u001b[32mO\u001b[0m\u001b[32mO\u001b[0m\u001b[32mO\u001b[0m\u001b[32mO\u001b[0m\u001b[32mO\u001b[0m\u001b[32mO\u001b[0m\u001b[32mO\u001b[0m\u001b[32mO\u001b[0m\u001b[32mO\u001b[0m\u001b[32mO\u001b[0m\n",
      "\u001b[32mO\u001b[0m\u001b[32mO\u001b[0m\u001b[32mO\u001b[0m\u001b[32mO\u001b[0m\u001b[32mO\u001b[0m\u001b[32mO\u001b[0m\u001b[32mO\u001b[0m\u001b[32mO\u001b[0m\u001b[32mO\u001b[0m\u001b[32mO\u001b[0m\u001b[32mO\u001b[0m\u001b[32mO\u001b[0m\u001b[32mO\u001b[0m\u001b[32mO\u001b[0m\u001b[31m┗\u001b[0m\u001b[31m━\u001b[0m\u001b[31m━\u001b[0m\u001b[31m━\u001b[0m\u001b[31m┛\u001b[0m\u001b[31m┗\u001b[0m\u001b[31m━\u001b[0m\u001b[31m┓\u001b[0m\u001b[31m┗\u001b[0m\u001b[31m━\u001b[0m\u001b[31m━\u001b[0m\u001b[31m┛\u001b[0m\u001b[31m┃\u001b[0m\u001b[31m┗\u001b[0m\u001b[31m┓\u001b[0m\u001b[31m┏\u001b[0m\u001b[31m┛\u001b[0m\u001b[31m┏\u001b[0m\u001b[31m┛\u001b[0m\u001b[31m┗\u001b[0m\u001b[31m━\u001b[0m\u001b[31m━\u001b[0m\u001b[31m━\u001b[0m\u001b[31m┓\u001b[0m\u001b[31m┃\u001b[0m\u001b[31m┏\u001b[0m\u001b[31m┓\u001b[0m\u001b[31m┗\u001b[0m\u001b[31m━\u001b[0m\u001b[31m━\u001b[0m\u001b[31m━\u001b[0m\u001b[31m┓\u001b[0m\u001b[31m┃\u001b[0m\u001b[31m┃\u001b[0m\u001b[31m┗\u001b[0m\u001b[31m┛\u001b[0m\u001b[31m┃\u001b[0m\u001b[31m┃\u001b[0mo\u001b[31m┗\u001b[0m\u001b[31m┓\u001b[0m\u001b[31m┃\u001b[0mo\u001b[31m┗\u001b[0m\u001b[31m┛\u001b[0m\u001b[31m┗\u001b[0m\u001b[31m━\u001b[0m\u001b[31m┓\u001b[0m\u001b[31m┃\u001b[0m\u001b[31m┃\u001b[0m\u001b[31m┏\u001b[0m\u001b[31m┓\u001b[0m\u001b[31m┃\u001b[0m\u001b[31m┃\u001b[0m\u001b[31m┏\u001b[0m\u001b[31m┛\u001b[0m\u001b[31m┗\u001b[0m\u001b[31m┛\u001b[0m\u001b[31m┗\u001b[0m\u001b[31m━\u001b[0m\u001b[31m┓\u001b[0m\u001b[31m┏\u001b[0m\u001b[31m┓\u001b[0m\u001b[31m┃\u001b[0m\u001b[31m┃\u001b[0m\u001b[31m┏\u001b[0m\u001b[31m━\u001b[0m\u001b[31m┓\u001b[0m\u001b[31m┏\u001b[0m\u001b[31m┓\u001b[0m\u001b[31m┗\u001b[0m\u001b[31m━\u001b[0m\u001b[31m━\u001b[0m\u001b[31m┓\u001b[0m\u001b[31m┃\u001b[0m\u001b[31m┗\u001b[0m\u001b[31m━\u001b[0m\u001b[31m┓\u001b[0m\u001b[31m┃\u001b[0m\u001b[31m┗\u001b[0m\u001b[31m┓\u001b[0m\u001b[31m┗\u001b[0m\u001b[31m┓\u001b[0m\u001b[31m┗\u001b[0m\u001b[31m┓\u001b[0m\u001b[31m┏\u001b[0m\u001b[31m━\u001b[0m\u001b[31m━\u001b[0m\u001b[31m┛\u001b[0m\u001b[31m┃\u001b[0m\u001b[31m┗\u001b[0m\u001b[31m┛\u001b[0m\u001b[31m┗\u001b[0m\u001b[31m━\u001b[0m\u001b[31m┛\u001b[0m\u001b[31m┃\u001b[0m\u001b[31m┗\u001b[0m\u001b[31m┓\u001b[0m\u001b[31m┃\u001b[0m\u001b[31m┏\u001b[0m\u001b[31m┛\u001b[0mo\u001b[31m┃\u001b[0m\u001b[31m┃\u001b[0m\u001b[32mO\u001b[0m\u001b[32mO\u001b[0m\u001b[32mO\u001b[0m\u001b[32mO\u001b[0m\u001b[32mO\u001b[0m\u001b[32mO\u001b[0m\u001b[32mO\u001b[0m\u001b[32mO\u001b[0m\u001b[32mO\u001b[0m\u001b[32mO\u001b[0m\u001b[32mO\u001b[0m\u001b[32mO\u001b[0m\u001b[32mO\u001b[0m\u001b[32mO\u001b[0m\u001b[32mO\u001b[0m\u001b[32mO\u001b[0m\u001b[32mO\u001b[0m\u001b[32mO\u001b[0m\u001b[32mO\u001b[0m\u001b[32mO\u001b[0m\u001b[32mO\u001b[0m\u001b[32mO\u001b[0m\n",
      "\u001b[32mO\u001b[0m\u001b[32mO\u001b[0m\u001b[32mO\u001b[0m\u001b[32mO\u001b[0m\u001b[32mO\u001b[0m\u001b[32mO\u001b[0m\u001b[32mO\u001b[0m\u001b[32mO\u001b[0m\u001b[32mO\u001b[0m\u001b[32mO\u001b[0m\u001b[32mO\u001b[0m\u001b[32mO\u001b[0m\u001b[32mO\u001b[0m\u001b[32mO\u001b[0m\u001b[32mO\u001b[0m\u001b[31m┏\u001b[0m\u001b[31m━\u001b[0m\u001b[31m━\u001b[0m\u001b[31m━\u001b[0m\u001b[31m━\u001b[0m\u001b[31m┓\u001b[0m\u001b[31m┗\u001b[0m\u001b[31m━\u001b[0m\u001b[31m┓\u001b[0m\u001b[31m┏\u001b[0m\u001b[31m┓\u001b[0m\u001b[31m┃\u001b[0mo\u001b[31m┗\u001b[0m\u001b[31m┛\u001b[0mo\u001b[31m┗\u001b[0m\u001b[31m┓\u001b[0m\u001b[31m┏\u001b[0m\u001b[31m┓\u001b[0m\u001b[31m┏\u001b[0m\u001b[31m┓\u001b[0m\u001b[31m┃\u001b[0m\u001b[31m┃\u001b[0m\u001b[31m┃\u001b[0m\u001b[31m┗\u001b[0m\u001b[31m━\u001b[0m\u001b[31m┓\u001b[0m\u001b[31m┏\u001b[0m\u001b[31m┓\u001b[0m\u001b[31m┃\u001b[0m\u001b[31m┃\u001b[0m\u001b[31m┃\u001b[0m\u001b[31m┏\u001b[0m\u001b[31m━\u001b[0m\u001b[31m┛\u001b[0m\u001b[31m┃\u001b[0m\u001b[31m┏\u001b[0m\u001b[31m━\u001b[0m\u001b[31m┛\u001b[0m\u001b[31m┗\u001b[0m\u001b[31m━\u001b[0m\u001b[31m━\u001b[0m\u001b[31m━\u001b[0m\u001b[31m━\u001b[0m\u001b[31m┓\u001b[0m\u001b[31m┃\u001b[0m\u001b[31m┃\u001b[0m\u001b[31m┗\u001b[0m\u001b[31m┛\u001b[0m\u001b[31m┃\u001b[0m\u001b[31m┃\u001b[0m\u001b[31m┃\u001b[0m\u001b[31m┗\u001b[0m\u001b[31m┓\u001b[0m\u001b[31m┏\u001b[0m\u001b[31m━\u001b[0m\u001b[31m━\u001b[0m\u001b[31m━\u001b[0m\u001b[31m┛\u001b[0m\u001b[31m┃\u001b[0m\u001b[31m┃\u001b[0m\u001b[31m┃\u001b[0m\u001b[31m┃\u001b[0m\u001b[31m┃\u001b[0m\u001b[31m┏\u001b[0m\u001b[31m┛\u001b[0m\u001b[31m┃\u001b[0m\u001b[31m┃\u001b[0m\u001b[31m┏\u001b[0m\u001b[31m┓\u001b[0m\u001b[31m┏\u001b[0m\u001b[31m┛\u001b[0m\u001b[31m┃\u001b[0m\u001b[31m┏\u001b[0m\u001b[31m┓\u001b[0m\u001b[31m┃\u001b[0m\u001b[31m┗\u001b[0m\u001b[31m┓\u001b[0m\u001b[31m┃\u001b[0mo\u001b[31m┗\u001b[0m\u001b[31m┓\u001b[0m\u001b[31m┃\u001b[0m\u001b[31m┗\u001b[0m\u001b[31m┓\u001b[0m\u001b[31m┏\u001b[0m\u001b[31m┓\u001b[0m\u001b[31m┗\u001b[0m\u001b[31m━\u001b[0m\u001b[31m┓\u001b[0m\u001b[31m┏\u001b[0m\u001b[31m━\u001b[0m\u001b[31m┓\u001b[0m\u001b[31m┃\u001b[0m\u001b[31m┏\u001b[0m\u001b[31m┛\u001b[0m\u001b[31m┃\u001b[0m\u001b[31m┃\u001b[0m\u001b[31m┏\u001b[0m\u001b[31m┓\u001b[0m\u001b[31m┗\u001b[0m\u001b[31m┛\u001b[0m\u001b[32mO\u001b[0m\u001b[32mO\u001b[0m\u001b[32mO\u001b[0m\u001b[32mO\u001b[0m\u001b[32mO\u001b[0m\u001b[32mO\u001b[0m\u001b[32mO\u001b[0m\u001b[32mO\u001b[0m\u001b[32mO\u001b[0m\u001b[32mO\u001b[0m\u001b[32mO\u001b[0m\u001b[32mO\u001b[0m\u001b[32mO\u001b[0m\u001b[32mO\u001b[0m\u001b[32mO\u001b[0m\u001b[32mO\u001b[0m\u001b[32mO\u001b[0m\u001b[32mO\u001b[0m\u001b[32mO\u001b[0m\u001b[32mO\u001b[0m\u001b[32mO\u001b[0m\u001b[32mO\u001b[0m\n",
      "\u001b[32mO\u001b[0m\u001b[32mO\u001b[0m\u001b[32mO\u001b[0m\u001b[32mO\u001b[0m\u001b[32mO\u001b[0m\u001b[32mO\u001b[0m\u001b[32mO\u001b[0m\u001b[32mO\u001b[0m\u001b[32mO\u001b[0m\u001b[32mO\u001b[0m\u001b[32mO\u001b[0m\u001b[32mO\u001b[0m\u001b[32mO\u001b[0m\u001b[32mO\u001b[0m\u001b[31m┏\u001b[0m\u001b[31m┛\u001b[0m\u001b[31m┏\u001b[0m\u001b[31m━\u001b[0m\u001b[31m━\u001b[0m\u001b[31m┓\u001b[0m\u001b[31m┗\u001b[0m\u001b[31m━\u001b[0m\u001b[31m┓\u001b[0m\u001b[31m┗\u001b[0m\u001b[31m┛\u001b[0m\u001b[31m┃\u001b[0m\u001b[31m┗\u001b[0m\u001b[31m━\u001b[0m\u001b[31m┓\u001b[0m\u001b[31m┏\u001b[0m\u001b[31m━\u001b[0m\u001b[31m━\u001b[0m\u001b[31m┛\u001b[0m\u001b[31m┃\u001b[0m\u001b[31m┗\u001b[0m\u001b[31m┛\u001b[0m\u001b[31m┗\u001b[0m\u001b[31m┛\u001b[0m\u001b[31m┃\u001b[0m\u001b[31m┗\u001b[0m\u001b[31m━\u001b[0m\u001b[31m┓\u001b[0m\u001b[31m┃\u001b[0m\u001b[31m┃\u001b[0m\u001b[31m┗\u001b[0m\u001b[31m┛\u001b[0m\u001b[31m┃\u001b[0m\u001b[31m┃\u001b[0m\u001b[31m┃\u001b[0m\u001b[31m┏\u001b[0m\u001b[31m┓\u001b[0m\u001b[31m┃\u001b[0m\u001b[31m┗\u001b[0m\u001b[31m┓\u001b[0m\u001b[31m┏\u001b[0m\u001b[31m━\u001b[0m\u001b[31m┓\u001b[0m\u001b[31m┏\u001b[0m\u001b[31m━\u001b[0m\u001b[31m━\u001b[0m\u001b[31m┛\u001b[0m\u001b[31m┗\u001b[0m\u001b[31m┛\u001b[0m\u001b[31m┏\u001b[0m\u001b[31m━\u001b[0m\u001b[31m┛\u001b[0m\u001b[31m┃\u001b[0m\u001b[31m┃\u001b[0m\u001b[31m┏\u001b[0m\u001b[31m┛\u001b[0m\u001b[31m┗\u001b[0m\u001b[31m━\u001b[0m\u001b[31m┓\u001b[0m\u001b[31m┏\u001b[0m\u001b[31m┓\u001b[0m\u001b[31m┃\u001b[0m\u001b[31m┃\u001b[0m\u001b[31m┃\u001b[0m\u001b[31m┃\u001b[0m\u001b[31m┃\u001b[0m\u001b[31m┗\u001b[0m\u001b[31m┓\u001b[0m\u001b[31m┃\u001b[0m\u001b[31m┗\u001b[0m\u001b[31m┛\u001b[0m\u001b[31m┃\u001b[0m\u001b[31m┃\u001b[0mo\u001b[31m┃\u001b[0m\u001b[31m┃\u001b[0m\u001b[31m┗\u001b[0m\u001b[31m┛\u001b[0mo\u001b[31m┗\u001b[0m\u001b[31m┛\u001b[0m\u001b[31m┏\u001b[0m\u001b[31m━\u001b[0m\u001b[31m┛\u001b[0m\u001b[31m┗\u001b[0m\u001b[31m┓\u001b[0m\u001b[31m┗\u001b[0m\u001b[31m┛\u001b[0m\u001b[31m┃\u001b[0m\u001b[31m┏\u001b[0m\u001b[31m┓\u001b[0m\u001b[31m┗\u001b[0m\u001b[31m┛\u001b[0m\u001b[31m┏\u001b[0m\u001b[31m┛\u001b[0m\u001b[31m┃\u001b[0m\u001b[31m┗\u001b[0m\u001b[31m━\u001b[0m\u001b[31m┛\u001b[0m\u001b[31m┗\u001b[0m\u001b[31m┛\u001b[0m\u001b[31m┗\u001b[0m\u001b[31m┓\u001b[0m\u001b[32mO\u001b[0m\u001b[32mO\u001b[0m\u001b[32mO\u001b[0m\u001b[32mO\u001b[0m\u001b[32mO\u001b[0m\u001b[32mO\u001b[0m\u001b[32mO\u001b[0m\u001b[32mO\u001b[0m\u001b[32mO\u001b[0m\u001b[32mO\u001b[0m\u001b[32mO\u001b[0m\u001b[32mO\u001b[0m\u001b[32mO\u001b[0m\u001b[32mO\u001b[0m\u001b[32mO\u001b[0m\u001b[32mO\u001b[0m\u001b[32mO\u001b[0m\u001b[32mO\u001b[0m\u001b[32mO\u001b[0m\u001b[32mO\u001b[0m\u001b[32mO\u001b[0m\u001b[32mO\u001b[0m\u001b[32mO\u001b[0m\n",
      "\u001b[32mO\u001b[0m\u001b[32mO\u001b[0m\u001b[32mO\u001b[0m\u001b[32mO\u001b[0m\u001b[32mO\u001b[0m\u001b[32mO\u001b[0m\u001b[32mO\u001b[0m\u001b[32mO\u001b[0m\u001b[32mO\u001b[0m\u001b[32mO\u001b[0m\u001b[32mO\u001b[0m\u001b[32mO\u001b[0m\u001b[32mO\u001b[0m\u001b[32mO\u001b[0m\u001b[31m┗\u001b[0m\u001b[31m┓\u001b[0m\u001b[31m┗\u001b[0m\u001b[31m┓\u001b[0m\u001b[31m┏\u001b[0m\u001b[31m┛\u001b[0m\u001b[31m┏\u001b[0m\u001b[31m┓\u001b[0m\u001b[31m┗\u001b[0m\u001b[31m━\u001b[0m\u001b[31m━\u001b[0m\u001b[31m┛\u001b[0m\u001b[31m┏\u001b[0m\u001b[31m┓\u001b[0m\u001b[31m┃\u001b[0m\u001b[31m┃\u001b[0m\u001b[31m┏\u001b[0m\u001b[31m━\u001b[0m\u001b[31m┓\u001b[0m\u001b[31m┗\u001b[0m\u001b[31m┓\u001b[0mo\u001b[31m┏\u001b[0m\u001b[31m┓\u001b[0m\u001b[31m┗\u001b[0m\u001b[31m┓\u001b[0m\u001b[31m┏\u001b[0m\u001b[31m┛\u001b[0m\u001b[31m┃\u001b[0m\u001b[31m┗\u001b[0m\u001b[31m┓\u001b[0m\u001b[31m┏\u001b[0m\u001b[31m┛\u001b[0m\u001b[31m┃\u001b[0m\u001b[31m┃\u001b[0m\u001b[31m┃\u001b[0m\u001b[31m┃\u001b[0m\u001b[31m┃\u001b[0m\u001b[31m┏\u001b[0m\u001b[31m┛\u001b[0m\u001b[31m┃\u001b[0mo\u001b[31m┃\u001b[0m\u001b[31m┗\u001b[0m\u001b[31m━\u001b[0m\u001b[31m━\u001b[0m\u001b[31m━\u001b[0m\u001b[31m━\u001b[0m\u001b[31m┓\u001b[0m\u001b[31m┃\u001b[0m\u001b[31m┏\u001b[0m\u001b[31m┓\u001b[0m\u001b[31m┃\u001b[0m\u001b[31m┃\u001b[0m\u001b[31m┃\u001b[0m\u001b[31m┏\u001b[0m\u001b[31m━\u001b[0m\u001b[31m━\u001b[0m\u001b[31m┛\u001b[0m\u001b[31m┃\u001b[0m\u001b[31m┃\u001b[0m\u001b[31m┃\u001b[0m\u001b[31m┗\u001b[0m\u001b[31m┛\u001b[0m\u001b[31m┃\u001b[0m\u001b[31m┗\u001b[0m\u001b[31m┓\u001b[0m\u001b[31m┃\u001b[0m\u001b[31m┗\u001b[0m\u001b[31m┓\u001b[0mo\u001b[31m┗\u001b[0m\u001b[31m┛\u001b[0m\u001b[31m┏\u001b[0m\u001b[31m┛\u001b[0m\u001b[31m┗\u001b[0m\u001b[31m━\u001b[0m\u001b[31m┓\u001b[0m\u001b[31m┏\u001b[0m\u001b[31m━\u001b[0m\u001b[31m━\u001b[0m\u001b[31m┛\u001b[0m\u001b[31m┏\u001b[0m\u001b[31m━\u001b[0m\u001b[31m┓\u001b[0m\u001b[31m┗\u001b[0m\u001b[31m┓\u001b[0m\u001b[31m┏\u001b[0m\u001b[31m┛\u001b[0m\u001b[31m┃\u001b[0m\u001b[31m┃\u001b[0m\u001b[31m┏\u001b[0m\u001b[31m┓\u001b[0m\u001b[31m┗\u001b[0m\u001b[31m━\u001b[0m\u001b[31m┛\u001b[0m\u001b[31m┏\u001b[0m\u001b[31m┓\u001b[0m\u001b[31m┏\u001b[0m\u001b[31m┓\u001b[0m\u001b[31m┏\u001b[0m\u001b[31m┓\u001b[0m\u001b[31m┗\u001b[0m\u001b[31m┓\u001b[0m\u001b[32mO\u001b[0m\u001b[32mO\u001b[0m\u001b[32mO\u001b[0m\u001b[32mO\u001b[0m\u001b[32mO\u001b[0m\u001b[32mO\u001b[0m\u001b[32mO\u001b[0m\u001b[32mO\u001b[0m\u001b[32mO\u001b[0m\u001b[32mO\u001b[0m\u001b[32mO\u001b[0m\u001b[32mO\u001b[0m\u001b[32mO\u001b[0m\u001b[32mO\u001b[0m\u001b[32mO\u001b[0m\u001b[32mO\u001b[0m\u001b[32mO\u001b[0m\u001b[32mO\u001b[0m\u001b[32mO\u001b[0m\u001b[32mO\u001b[0m\u001b[32mO\u001b[0m\u001b[32mO\u001b[0m\n",
      "\u001b[32mO\u001b[0m\u001b[32mO\u001b[0m\u001b[32mO\u001b[0m\u001b[32mO\u001b[0m\u001b[32mO\u001b[0m\u001b[32mO\u001b[0m\u001b[32mO\u001b[0m\u001b[32mO\u001b[0m\u001b[32mO\u001b[0m\u001b[32mO\u001b[0m\u001b[32mO\u001b[0m\u001b[32mO\u001b[0m\u001b[32mO\u001b[0m\u001b[32mO\u001b[0m\u001b[32mO\u001b[0m\u001b[31m┗\u001b[0m\u001b[31m━\u001b[0m\u001b[31m┛\u001b[0m\u001b[31m┗\u001b[0m\u001b[31m━\u001b[0m\u001b[31m┛\u001b[0m\u001b[31m┗\u001b[0m\u001b[31m━\u001b[0m\u001b[31m┓\u001b[0m\u001b[31m┏\u001b[0m\u001b[31m┓\u001b[0m\u001b[31m┃\u001b[0m\u001b[31m┗\u001b[0m\u001b[31m┛\u001b[0m\u001b[31m┃\u001b[0m\u001b[31m┃\u001b[0mo\u001b[31m┗\u001b[0m\u001b[31m┓\u001b[0m\u001b[31m┗\u001b[0m\u001b[31m┓\u001b[0m\u001b[31m┃\u001b[0m\u001b[31m┃\u001b[0mo\u001b[31m┗\u001b[0m\u001b[31m┛\u001b[0mo\u001b[31m┗\u001b[0m\u001b[31m━\u001b[0m\u001b[31m┛\u001b[0m\u001b[31m┗\u001b[0m\u001b[31m┓\u001b[0m\u001b[31m┃\u001b[0m\u001b[31m┗\u001b[0m\u001b[31m┛\u001b[0m\u001b[31m┃\u001b[0m\u001b[31m┃\u001b[0m\u001b[31m┗\u001b[0m\u001b[31m┓\u001b[0m\u001b[31m┃\u001b[0m\u001b[31m┏\u001b[0m\u001b[31m┛\u001b[0m\u001b[31m┏\u001b[0m\u001b[31m━\u001b[0m\u001b[31m━\u001b[0m\u001b[31m━\u001b[0m\u001b[31m━\u001b[0m\u001b[31m┛\u001b[0m\u001b[31m┗\u001b[0m\u001b[31m┛\u001b[0m\u001b[31m┃\u001b[0m\u001b[31m┃\u001b[0m\u001b[31m┗\u001b[0m\u001b[31m┛\u001b[0m\u001b[31m┗\u001b[0m\u001b[31m┓\u001b[0m\u001b[31m┏\u001b[0m\u001b[31m┓\u001b[0m\u001b[31m┃\u001b[0m\u001b[31m┃\u001b[0m\u001b[31m┗\u001b[0m\u001b[31m━\u001b[0m\u001b[31m┓\u001b[0m\u001b[31m┗\u001b[0m\u001b[31m━\u001b[0m\u001b[31m┛\u001b[0m\u001b[31m┃\u001b[0m\u001b[31m┏\u001b[0m\u001b[31m┛\u001b[0m\u001b[31m┏\u001b[0m\u001b[31m┓\u001b[0mo\u001b[31m┗\u001b[0m\u001b[31m┓\u001b[0m\u001b[31m┏\u001b[0m\u001b[31m━\u001b[0m\u001b[31m┛\u001b[0m\u001b[31m┗\u001b[0m\u001b[31m┓\u001b[0m\u001b[31m┏\u001b[0m\u001b[31m┓\u001b[0m\u001b[31m┗\u001b[0m\u001b[31m┓\u001b[0m\u001b[31m┃\u001b[0m\u001b[31m┏\u001b[0m\u001b[31m┛\u001b[0m\u001b[31m┗\u001b[0m\u001b[31m━\u001b[0m\u001b[31m┛\u001b[0m\u001b[31m┗\u001b[0m\u001b[31m┛\u001b[0m\u001b[31m┗\u001b[0m\u001b[31m┓\u001b[0m\u001b[31m┏\u001b[0m\u001b[31m━\u001b[0m\u001b[31m┛\u001b[0m\u001b[31m┗\u001b[0m\u001b[31m┛\u001b[0m\u001b[31m┗\u001b[0m\u001b[31m┛\u001b[0m\u001b[31m┗\u001b[0m\u001b[31m━\u001b[0m\u001b[31m┛\u001b[0m\u001b[32mO\u001b[0m\u001b[32mO\u001b[0m\u001b[32mO\u001b[0m\u001b[32mO\u001b[0m\u001b[32mO\u001b[0m\u001b[32mO\u001b[0m\u001b[32mO\u001b[0m\u001b[32mO\u001b[0m\u001b[32mO\u001b[0m\u001b[32mO\u001b[0m\u001b[32mO\u001b[0m\u001b[32mO\u001b[0m\u001b[32mO\u001b[0m\u001b[32mO\u001b[0m\u001b[32mO\u001b[0m\u001b[32mO\u001b[0m\u001b[32mO\u001b[0m\u001b[32mO\u001b[0m\u001b[32mO\u001b[0m\u001b[32mO\u001b[0m\u001b[32mO\u001b[0m\u001b[32mO\u001b[0m\n",
      "\u001b[32mO\u001b[0m\u001b[32mO\u001b[0m\u001b[32mO\u001b[0m\u001b[32mO\u001b[0m\u001b[32mO\u001b[0m\u001b[32mO\u001b[0m\u001b[32mO\u001b[0m\u001b[32mO\u001b[0m\u001b[32mO\u001b[0m\u001b[32mO\u001b[0m\u001b[32mO\u001b[0m\u001b[32mO\u001b[0m\u001b[32mO\u001b[0m\u001b[32mO\u001b[0m\u001b[32mO\u001b[0m\u001b[32mO\u001b[0m\u001b[32mO\u001b[0m\u001b[31m┏\u001b[0m\u001b[31m━\u001b[0m\u001b[31m━\u001b[0m\u001b[31m━\u001b[0m\u001b[31m━\u001b[0m\u001b[31m━\u001b[0m\u001b[31m┛\u001b[0m\u001b[31m┃\u001b[0m\u001b[31m┃\u001b[0m\u001b[31m┗\u001b[0m\u001b[31m┓\u001b[0mo\u001b[31m┗\u001b[0m\u001b[31m┛\u001b[0m\u001b[31m┏\u001b[0m\u001b[31m┓\u001b[0m\u001b[31m┗\u001b[0m\u001b[31m┓\u001b[0m\u001b[31m┗\u001b[0m\u001b[31m┛\u001b[0m\u001b[31m┗\u001b[0m\u001b[31m┓\u001b[0mo\u001b[31m┏\u001b[0m\u001b[31m┓\u001b[0m\u001b[31m┏\u001b[0m\u001b[31m┓\u001b[0mo\u001b[31m┏\u001b[0m\u001b[31m┛\u001b[0m\u001b[31m┗\u001b[0m\u001b[31m┓\u001b[0m\u001b[31m┏\u001b[0m\u001b[31m┛\u001b[0m\u001b[31m┗\u001b[0m\u001b[31m┓\u001b[0m\u001b[31m┃\u001b[0m\u001b[31m┃\u001b[0m\u001b[31m┗\u001b[0m\u001b[31m┓\u001b[0m\u001b[31m┗\u001b[0m\u001b[31m━\u001b[0m\u001b[31m━\u001b[0m\u001b[31m━\u001b[0m\u001b[31m━\u001b[0m\u001b[31m━\u001b[0m\u001b[31m━\u001b[0m\u001b[31m┓\u001b[0m\u001b[31m┃\u001b[0m\u001b[31m┃\u001b[0m\u001b[31m┏\u001b[0m\u001b[31m━\u001b[0m\u001b[31m━\u001b[0m\u001b[31m┛\u001b[0m\u001b[31m┃\u001b[0m\u001b[31m┗\u001b[0m\u001b[31m┛\u001b[0m\u001b[31m┗\u001b[0m\u001b[31m━\u001b[0m\u001b[31m┓\u001b[0m\u001b[31m┃\u001b[0m\u001b[31m┏\u001b[0m\u001b[31m━\u001b[0m\u001b[31m━\u001b[0m\u001b[31m┛\u001b[0m\u001b[31m┃\u001b[0m\u001b[31m┏\u001b[0m\u001b[31m┛\u001b[0m\u001b[31m┗\u001b[0m\u001b[31m┓\u001b[0mo\u001b[31m┃\u001b[0m\u001b[31m┗\u001b[0m\u001b[31m┓\u001b[0m\u001b[31m┏\u001b[0m\u001b[31m━\u001b[0m\u001b[31m┛\u001b[0m\u001b[31m┃\u001b[0m\u001b[31m┃\u001b[0m\u001b[31m┏\u001b[0m\u001b[31m┛\u001b[0m\u001b[31m┃\u001b[0m\u001b[31m┗\u001b[0m\u001b[31m┓\u001b[0m\u001b[31m┏\u001b[0m\u001b[31m━\u001b[0m\u001b[31m━\u001b[0m\u001b[31m━\u001b[0m\u001b[31m━\u001b[0m\u001b[31m━\u001b[0m\u001b[31m┛\u001b[0m\u001b[31m┗\u001b[0m\u001b[31m━\u001b[0m\u001b[31m━\u001b[0m\u001b[31m━\u001b[0m\u001b[31m━\u001b[0m\u001b[31m━\u001b[0m\u001b[31m━\u001b[0m\u001b[31m━\u001b[0m\u001b[31m┓\u001b[0m\u001b[32mO\u001b[0m\u001b[32mO\u001b[0m\u001b[32mO\u001b[0m\u001b[32mO\u001b[0m\u001b[32mO\u001b[0m\u001b[32mO\u001b[0m\u001b[32mO\u001b[0m\u001b[32mO\u001b[0m\u001b[32mO\u001b[0m\u001b[32mO\u001b[0m\u001b[32mO\u001b[0m\u001b[32mO\u001b[0m\u001b[32mO\u001b[0m\u001b[32mO\u001b[0m\u001b[32mO\u001b[0m\u001b[32mO\u001b[0m\u001b[32mO\u001b[0m\u001b[32mO\u001b[0m\u001b[32mO\u001b[0m\u001b[32mO\u001b[0m\u001b[32mO\u001b[0m\u001b[32mO\u001b[0m\u001b[32mO\u001b[0m\n",
      "\u001b[32mO\u001b[0m\u001b[32mO\u001b[0m\u001b[32mO\u001b[0m\u001b[32mO\u001b[0m\u001b[32mO\u001b[0m\u001b[32mO\u001b[0m\u001b[32mO\u001b[0m\u001b[32mO\u001b[0m\u001b[32mO\u001b[0m\u001b[32mO\u001b[0m\u001b[32mO\u001b[0m\u001b[32mO\u001b[0m\u001b[32mO\u001b[0m\u001b[32mO\u001b[0m\u001b[32mO\u001b[0m\u001b[32mO\u001b[0m\u001b[32mO\u001b[0m\u001b[31m┗\u001b[0m\u001b[31m━\u001b[0m\u001b[31m┓\u001b[0m\u001b[31m┏\u001b[0m\u001b[31m┓\u001b[0m\u001b[31m┏\u001b[0m\u001b[31m┓\u001b[0m\u001b[31m┃\u001b[0m\u001b[31m┗\u001b[0m\u001b[31m┓\u001b[0m\u001b[31m┗\u001b[0m\u001b[31m━\u001b[0m\u001b[31m━\u001b[0m\u001b[31m━\u001b[0m\u001b[31m┛\u001b[0m\u001b[31m┃\u001b[0mo\u001b[31m┗\u001b[0m\u001b[31m┓\u001b[0m\u001b[31m┏\u001b[0m\u001b[31m┓\u001b[0m\u001b[31m┗\u001b[0m\u001b[31m━\u001b[0m\u001b[31m┛\u001b[0m\u001b[31m┗\u001b[0m\u001b[31m┛\u001b[0m\u001b[31m┗\u001b[0m\u001b[31m┓\u001b[0m\u001b[31m┗\u001b[0m\u001b[31m┓\u001b[0m\u001b[31m┏\u001b[0m\u001b[31m┛\u001b[0m\u001b[31m┗\u001b[0m\u001b[31m┓\u001b[0m\u001b[31m┏\u001b[0m\u001b[31m┛\u001b[0m\u001b[31m┗\u001b[0m\u001b[31m┛\u001b[0m\u001b[31m┏\u001b[0m\u001b[31m┛\u001b[0m\u001b[31m┏\u001b[0m\u001b[31m┓\u001b[0m\u001b[31m┏\u001b[0m\u001b[31m━\u001b[0m\u001b[31m┓\u001b[0m\u001b[31m┏\u001b[0m\u001b[31m┓\u001b[0m\u001b[31m┃\u001b[0m\u001b[31m┃\u001b[0m\u001b[31m┃\u001b[0m\u001b[31m┗\u001b[0m\u001b[31m┓\u001b[0m\u001b[31m┏\u001b[0m\u001b[31m┓\u001b[0m\u001b[31m┗\u001b[0m\u001b[31m━\u001b[0m\u001b[31m━\u001b[0m\u001b[31m━\u001b[0m\u001b[31m┓\u001b[0m\u001b[31m┗\u001b[0m\u001b[31m┛\u001b[0m\u001b[31m┗\u001b[0m\u001b[31m━\u001b[0m\u001b[31m━\u001b[0m\u001b[31m┓\u001b[0m\u001b[31m┗\u001b[0m\u001b[31m┛\u001b[0m\u001b[31m┏\u001b[0m\u001b[31m┓\u001b[0m\u001b[31m┗\u001b[0m\u001b[31m┓\u001b[0m\u001b[31m┗\u001b[0m\u001b[31m━\u001b[0m\u001b[31m┛\u001b[0m\u001b[31m┃\u001b[0m\u001b[31m┏\u001b[0m\u001b[31m┓\u001b[0m\u001b[31m┃\u001b[0m\u001b[31m┃\u001b[0m\u001b[31m┗\u001b[0m\u001b[31m┓\u001b[0m\u001b[31m┃\u001b[0m\u001b[31m┏\u001b[0m\u001b[31m┛\u001b[0m\u001b[31m┗\u001b[0m\u001b[31m━\u001b[0m\u001b[31m━\u001b[0m\u001b[31m┓\u001b[0m\u001b[31m┏\u001b[0m\u001b[31m━\u001b[0m\u001b[31m┓\u001b[0m\u001b[31m┏\u001b[0m\u001b[31m┓\u001b[0m\u001b[31m┏\u001b[0m\u001b[31m┓\u001b[0m\u001b[31m┏\u001b[0m\u001b[31m━\u001b[0m\u001b[31m┓\u001b[0m\u001b[31m┏\u001b[0m\u001b[31m┛\u001b[0m\u001b[32mO\u001b[0m\u001b[32mO\u001b[0m\u001b[32mO\u001b[0m\u001b[32mO\u001b[0m\u001b[32mO\u001b[0m\u001b[32mO\u001b[0m\u001b[32mO\u001b[0m\u001b[32mO\u001b[0m\u001b[32mO\u001b[0m\u001b[32mO\u001b[0m\u001b[32mO\u001b[0m\u001b[32mO\u001b[0m\u001b[32mO\u001b[0m\u001b[32mO\u001b[0m\u001b[32mO\u001b[0m\u001b[32mO\u001b[0m\u001b[32mO\u001b[0m\u001b[32mO\u001b[0m\u001b[32mO\u001b[0m\u001b[32mO\u001b[0m\u001b[32mO\u001b[0m\u001b[32mO\u001b[0m\u001b[32mO\u001b[0m\n",
      "\u001b[32mO\u001b[0m\u001b[32mO\u001b[0m\u001b[32mO\u001b[0m\u001b[32mO\u001b[0m\u001b[32mO\u001b[0m\u001b[32mO\u001b[0m\u001b[32mO\u001b[0m\u001b[32mO\u001b[0m\u001b[32mO\u001b[0m\u001b[32mO\u001b[0m\u001b[32mO\u001b[0m\u001b[32mO\u001b[0m\u001b[32mO\u001b[0m\u001b[32mO\u001b[0m\u001b[32mO\u001b[0m\u001b[32mO\u001b[0m\u001b[32mO\u001b[0m\u001b[32mO\u001b[0m\u001b[32mO\u001b[0m\u001b[31m┗\u001b[0m\u001b[31m┛\u001b[0m\u001b[31m┃\u001b[0m\u001b[31m┃\u001b[0m\u001b[31m┃\u001b[0m\u001b[31m┗\u001b[0m\u001b[31m┓\u001b[0m\u001b[31m┗\u001b[0m\u001b[31m┓\u001b[0m\u001b[31m┏\u001b[0m\u001b[31m┓\u001b[0m\u001b[31m┏\u001b[0m\u001b[31m┓\u001b[0m\u001b[31m┃\u001b[0m\u001b[31m┏\u001b[0m\u001b[31m━\u001b[0m\u001b[31m┛\u001b[0m\u001b[31m┃\u001b[0m\u001b[31m┃\u001b[0m\u001b[31m┏\u001b[0m\u001b[31m━\u001b[0m\u001b[31m┓\u001b[0m\u001b[31m┏\u001b[0m\u001b[31m━\u001b[0m\u001b[31m┓\u001b[0m\u001b[31m┗\u001b[0m\u001b[31m┓\u001b[0m\u001b[31m┗\u001b[0m\u001b[31m┛\u001b[0m\u001b[32mO\u001b[0m\u001b[32mO\u001b[0m\u001b[31m┃\u001b[0m\u001b[31m┃\u001b[0m\u001b[31m┏\u001b[0m\u001b[31m━\u001b[0m\u001b[31m┓\u001b[0m\u001b[31m┗\u001b[0m\u001b[31m┓\u001b[0m\u001b[31m┃\u001b[0m\u001b[31m┃\u001b[0m\u001b[31m┗\u001b[0m\u001b[31m┓\u001b[0m\u001b[31m┃\u001b[0m\u001b[31m┃\u001b[0m\u001b[31m┃\u001b[0m\u001b[31m┃\u001b[0m\u001b[31m┃\u001b[0m\u001b[31m┃\u001b[0m\u001b[32mO\u001b[0m\u001b[31m┗\u001b[0m\u001b[31m┛\u001b[0m\u001b[31m┗\u001b[0m\u001b[31m┓\u001b[0m\u001b[31m┏\u001b[0m\u001b[31m━\u001b[0m\u001b[31m━\u001b[0m\u001b[31m┛\u001b[0m\u001b[31m┏\u001b[0m\u001b[31m━\u001b[0m\u001b[31m━\u001b[0m\u001b[31m━\u001b[0m\u001b[31m━\u001b[0m\u001b[31m┛\u001b[0m\u001b[31m┏\u001b[0m\u001b[31m━\u001b[0m\u001b[31m┛\u001b[0m\u001b[31m┗\u001b[0m\u001b[31m┓\u001b[0m\u001b[31m┗\u001b[0m\u001b[31m━\u001b[0m\u001b[31m━\u001b[0m\u001b[31m┓\u001b[0m\u001b[31m┃\u001b[0m\u001b[31m┃\u001b[0m\u001b[31m┃\u001b[0m\u001b[31m┃\u001b[0m\u001b[31m┃\u001b[0m\u001b[31m┏\u001b[0m\u001b[31m┛\u001b[0m\u001b[31m┃\u001b[0m\u001b[31m┃\u001b[0m\u001b[32mO\u001b[0m\u001b[32mO\u001b[0m\u001b[31m┏\u001b[0m\u001b[31m━\u001b[0m\u001b[31m┛\u001b[0m\u001b[31m┗\u001b[0m\u001b[31m┓\u001b[0m\u001b[31m┃\u001b[0m\u001b[31m┃\u001b[0m\u001b[31m┗\u001b[0m\u001b[31m┛\u001b[0m\u001b[31m┃\u001b[0m\u001b[31m┃\u001b[0m\u001b[32mO\u001b[0m\u001b[31m┗\u001b[0m\u001b[31m┛\u001b[0m\u001b[32mO\u001b[0m\u001b[32mO\u001b[0m\u001b[32mO\u001b[0m\u001b[32mO\u001b[0m\u001b[32mO\u001b[0m\u001b[32mO\u001b[0m\u001b[32mO\u001b[0m\u001b[32mO\u001b[0m\u001b[32mO\u001b[0m\u001b[32mO\u001b[0m\u001b[32mO\u001b[0m\u001b[32mO\u001b[0m\u001b[32mO\u001b[0m\u001b[32mO\u001b[0m\u001b[32mO\u001b[0m\u001b[32mO\u001b[0m\u001b[32mO\u001b[0m\u001b[32mO\u001b[0m\u001b[32mO\u001b[0m\u001b[32mO\u001b[0m\u001b[32mO\u001b[0m\u001b[32mO\u001b[0m\u001b[32mO\u001b[0m\u001b[32mO\u001b[0m\n",
      "\u001b[32mO\u001b[0m\u001b[32mO\u001b[0m\u001b[32mO\u001b[0m\u001b[32mO\u001b[0m\u001b[32mO\u001b[0m\u001b[32mO\u001b[0m\u001b[32mO\u001b[0m\u001b[32mO\u001b[0m\u001b[32mO\u001b[0m\u001b[32mO\u001b[0m\u001b[32mO\u001b[0m\u001b[32mO\u001b[0m\u001b[32mO\u001b[0m\u001b[32mO\u001b[0m\u001b[32mO\u001b[0m\u001b[32mO\u001b[0m\u001b[32mO\u001b[0m\u001b[32mO\u001b[0m\u001b[31m┏\u001b[0m\u001b[31m━\u001b[0m\u001b[31m━\u001b[0m\u001b[31m┛\u001b[0m\u001b[31m┃\u001b[0m\u001b[31m┗\u001b[0m\u001b[31m┓\u001b[0m\u001b[31m┃\u001b[0m\u001b[31m┏\u001b[0m\u001b[31m┛\u001b[0m\u001b[31m┃\u001b[0m\u001b[31m┃\u001b[0m\u001b[31m┃\u001b[0m\u001b[31m┃\u001b[0m\u001b[31m┃\u001b[0m\u001b[31m┃\u001b[0m\u001b[31m┏\u001b[0m\u001b[31m┓\u001b[0m\u001b[31m┃\u001b[0m\u001b[31m┃\u001b[0m\u001b[31m┗\u001b[0m\u001b[31m┓\u001b[0m\u001b[31m┃\u001b[0m\u001b[31m┃\u001b[0mo\u001b[31m┗\u001b[0m\u001b[31m━\u001b[0m\u001b[31m┛\u001b[0m\u001b[32mO\u001b[0m\u001b[32mO\u001b[0m\u001b[31m┏\u001b[0m\u001b[31m┓\u001b[0m\u001b[31m┗\u001b[0m\u001b[31m┛\u001b[0m\u001b[31m┗\u001b[0m\u001b[31m┓\u001b[0m\u001b[31m┗\u001b[0m\u001b[31m┓\u001b[0m\u001b[31m┃\u001b[0m\u001b[31m┃\u001b[0m\u001b[31m┗\u001b[0m\u001b[31m━\u001b[0m\u001b[31m┛\u001b[0m\u001b[31m┃\u001b[0m\u001b[31m┃\u001b[0m\u001b[31m┗\u001b[0m\u001b[31m┛\u001b[0m\u001b[31m┗\u001b[0m\u001b[31m┛\u001b[0m\u001b[32mO\u001b[0m\u001b[32mO\u001b[0m\u001b[31m┏\u001b[0m\u001b[31m━\u001b[0m\u001b[31m┛\u001b[0m\u001b[31m┗\u001b[0m\u001b[31m━\u001b[0m\u001b[31m┓\u001b[0m\u001b[31m┏\u001b[0m\u001b[31m┛\u001b[0m\u001b[31m┏\u001b[0m\u001b[31m━\u001b[0m\u001b[31m┓\u001b[0m\u001b[31m┏\u001b[0m\u001b[31m┓\u001b[0m\u001b[31m┗\u001b[0m\u001b[31m┓\u001b[0m\u001b[31m┏\u001b[0m\u001b[31m┓\u001b[0m\u001b[31m┗\u001b[0m\u001b[31m┓\u001b[0m\u001b[31m┏\u001b[0m\u001b[31m┓\u001b[0m\u001b[31m┃\u001b[0m\u001b[31m┗\u001b[0m\u001b[31m┛\u001b[0m\u001b[31m┃\u001b[0m\u001b[31m┃\u001b[0m\u001b[31m┃\u001b[0m\u001b[31m┗\u001b[0m\u001b[31m┓\u001b[0m\u001b[31m┃\u001b[0m\u001b[31m┃\u001b[0m\u001b[32mO\u001b[0m\u001b[32mO\u001b[0m\u001b[31m┗\u001b[0m\u001b[31m━\u001b[0m\u001b[31m━\u001b[0m\u001b[31m┓\u001b[0m\u001b[31m┃\u001b[0m\u001b[31m┗\u001b[0m\u001b[31m┛\u001b[0m\u001b[31m┏\u001b[0m\u001b[31m━\u001b[0m\u001b[31m┛\u001b[0m\u001b[31m┃\u001b[0m\u001b[32mO\u001b[0m\u001b[32mO\u001b[0m\u001b[32mO\u001b[0m\u001b[32mO\u001b[0m\u001b[32mO\u001b[0m\u001b[32mO\u001b[0m\u001b[32mO\u001b[0m\u001b[32mO\u001b[0m\u001b[32mO\u001b[0m\u001b[32mO\u001b[0m\u001b[32mO\u001b[0m\u001b[32mO\u001b[0m\u001b[32mO\u001b[0m\u001b[32mO\u001b[0m\u001b[32mO\u001b[0m\u001b[32mO\u001b[0m\u001b[32mO\u001b[0m\u001b[32mO\u001b[0m\u001b[32mO\u001b[0m\u001b[32mO\u001b[0m\u001b[32mO\u001b[0m\u001b[32mO\u001b[0m\u001b[32mO\u001b[0m\u001b[32mO\u001b[0m\u001b[32mO\u001b[0m\u001b[32mO\u001b[0m\u001b[32mO\u001b[0m\n",
      "\u001b[32mO\u001b[0m\u001b[32mO\u001b[0m\u001b[32mO\u001b[0m\u001b[32mO\u001b[0m\u001b[32mO\u001b[0m\u001b[32mO\u001b[0m\u001b[32mO\u001b[0m\u001b[32mO\u001b[0m\u001b[32mO\u001b[0m\u001b[32mO\u001b[0m\u001b[32mO\u001b[0m\u001b[32mO\u001b[0m\u001b[32mO\u001b[0m\u001b[32mO\u001b[0m\u001b[32mO\u001b[0m\u001b[32mO\u001b[0m\u001b[32mO\u001b[0m\u001b[32mO\u001b[0m\u001b[31m┗\u001b[0m\u001b[31m━\u001b[0m\u001b[31m━\u001b[0m\u001b[31m┓\u001b[0m\u001b[31m┃\u001b[0m\u001b[32mO\u001b[0m\u001b[31m┃\u001b[0m\u001b[31m┃\u001b[0m\u001b[31m┗\u001b[0m\u001b[31m┓\u001b[0m\u001b[31m┃\u001b[0m\u001b[31m┗\u001b[0m\u001b[31m┛\u001b[0m\u001b[31m┃\u001b[0m\u001b[31m┃\u001b[0m\u001b[31m┗\u001b[0m\u001b[31m┛\u001b[0m\u001b[31m┃\u001b[0m\u001b[31m┃\u001b[0m\u001b[31m┃\u001b[0m\u001b[31m┏\u001b[0m\u001b[31m┛\u001b[0m\u001b[31m┃\u001b[0m\u001b[31m┗\u001b[0m\u001b[31m━\u001b[0m\u001b[31m━\u001b[0m\u001b[31m━\u001b[0m\u001b[31m━\u001b[0m\u001b[31m┓\u001b[0m\u001b[32mO\u001b[0m\u001b[31m┃\u001b[0m\u001b[31m┗\u001b[0m\u001b[31m━\u001b[0m\u001b[31m━\u001b[0m\u001b[31m┓\u001b[0m\u001b[31m┗\u001b[0m\u001b[31m┓\u001b[0m\u001b[31m┗\u001b[0m\u001b[31m┛\u001b[0m\u001b[31m┗\u001b[0m\u001b[31m━\u001b[0m\u001b[31m━\u001b[0m\u001b[31m┓\u001b[0m\u001b[31m┗\u001b[0m\u001b[31m┛\u001b[0m\u001b[32mO\u001b[0m\u001b[32mO\u001b[0m\u001b[32mO\u001b[0m\u001b[32mO\u001b[0m\u001b[32mO\u001b[0m\u001b[32mO\u001b[0m\u001b[31m┗\u001b[0m\u001b[31m━\u001b[0m\u001b[31m┓\u001b[0m\u001b[31m┏\u001b[0m\u001b[31m┓\u001b[0m\u001b[31m┃\u001b[0m\u001b[31m┗\u001b[0m\u001b[31m━\u001b[0m\u001b[31m┛\u001b[0m\u001b[31m┏\u001b[0m\u001b[31m┛\u001b[0m\u001b[31m┃\u001b[0m\u001b[31m┃\u001b[0m\u001b[31m┏\u001b[0m\u001b[31m┛\u001b[0m\u001b[31m┃\u001b[0m\u001b[31m┃\u001b[0mo\u001b[31m┗\u001b[0m\u001b[31m┛\u001b[0m\u001b[31m┃\u001b[0m\u001b[31m┃\u001b[0m\u001b[32mO\u001b[0m\u001b[32mO\u001b[0m\u001b[31m┗\u001b[0m\u001b[31m┛\u001b[0m\u001b[31m┃\u001b[0m\u001b[31m┏\u001b[0m\u001b[31m┛\u001b[0m\u001b[31m┃\u001b[0m\u001b[31m┃\u001b[0m\u001b[32mO\u001b[0m\u001b[32mO\u001b[0m\u001b[32mO\u001b[0m\u001b[32mO\u001b[0m\u001b[32mO\u001b[0m\u001b[31m┗\u001b[0m\u001b[31m┛\u001b[0m\u001b[32mO\u001b[0m\u001b[32mO\u001b[0m\u001b[31m┗\u001b[0m\u001b[31m━\u001b[0m\u001b[31m━\u001b[0m\u001b[31m┛\u001b[0m\u001b[32mO\u001b[0m\u001b[32mO\u001b[0m\u001b[32mO\u001b[0m\u001b[32mO\u001b[0m\u001b[32mO\u001b[0m\u001b[32mO\u001b[0m\u001b[32mO\u001b[0m\u001b[32mO\u001b[0m\u001b[32mO\u001b[0m\u001b[32mO\u001b[0m\u001b[32mO\u001b[0m\u001b[32mO\u001b[0m\u001b[32mO\u001b[0m\u001b[32mO\u001b[0m\u001b[32mO\u001b[0m\u001b[32mO\u001b[0m\u001b[32mO\u001b[0m\u001b[32mO\u001b[0m\u001b[32mO\u001b[0m\u001b[32mO\u001b[0m\u001b[32mO\u001b[0m\u001b[32mO\u001b[0m\u001b[32mO\u001b[0m\u001b[32mO\u001b[0m\u001b[32mO\u001b[0m\u001b[32mO\u001b[0m\u001b[32mO\u001b[0m\n",
      "\u001b[32mO\u001b[0m\u001b[32mO\u001b[0m\u001b[32mO\u001b[0m\u001b[32mO\u001b[0m\u001b[32mO\u001b[0m\u001b[32mO\u001b[0m\u001b[32mO\u001b[0m\u001b[32mO\u001b[0m\u001b[32mO\u001b[0m\u001b[32mO\u001b[0m\u001b[32mO\u001b[0m\u001b[32mO\u001b[0m\u001b[32mO\u001b[0m\u001b[32mO\u001b[0m\u001b[32mO\u001b[0m\u001b[32mO\u001b[0m\u001b[32mO\u001b[0m\u001b[32mO\u001b[0m\u001b[32mO\u001b[0m\u001b[32mO\u001b[0m\u001b[32mO\u001b[0m\u001b[31m┗\u001b[0m\u001b[31m┛\u001b[0m\u001b[32mO\u001b[0m\u001b[31m┗\u001b[0m\u001b[31m┛\u001b[0m\u001b[31m┏\u001b[0m\u001b[31m┛\u001b[0m\u001b[31m┃\u001b[0m\u001b[31m┏\u001b[0m\u001b[31m━\u001b[0m\u001b[31m┛\u001b[0m\u001b[31m┗\u001b[0m\u001b[31m┓\u001b[0mo\u001b[31m┗\u001b[0m\u001b[31m┛\u001b[0m\u001b[31m┃\u001b[0m\u001b[31m┃\u001b[0mo\u001b[31m┃\u001b[0m\u001b[31m┏\u001b[0m\u001b[31m┓\u001b[0m\u001b[31m┏\u001b[0m\u001b[31m━\u001b[0m\u001b[31m━\u001b[0m\u001b[31m┛\u001b[0m\u001b[32mO\u001b[0m\u001b[31m┗\u001b[0m\u001b[31m━\u001b[0m\u001b[31m━\u001b[0m\u001b[31m┓\u001b[0m\u001b[31m┃\u001b[0m\u001b[31m┏\u001b[0m\u001b[31m┛\u001b[0m\u001b[31m┏\u001b[0m\u001b[31m━\u001b[0m\u001b[31m┓\u001b[0m\u001b[31m┏\u001b[0m\u001b[31m┓\u001b[0m\u001b[31m┗\u001b[0m\u001b[31m┓\u001b[0m\u001b[32mO\u001b[0m\u001b[32mO\u001b[0m\u001b[32mO\u001b[0m\u001b[32mO\u001b[0m\u001b[32mO\u001b[0m\u001b[32mO\u001b[0m\u001b[32mO\u001b[0m\u001b[32mO\u001b[0m\u001b[32mO\u001b[0m\u001b[31m┗\u001b[0m\u001b[31m┛\u001b[0m\u001b[31m┃\u001b[0m\u001b[31m┃\u001b[0mo\u001b[31m┏\u001b[0m\u001b[31m━\u001b[0m\u001b[31m┛\u001b[0m\u001b[31m┏\u001b[0m\u001b[31m┛\u001b[0m\u001b[31m┃\u001b[0m\u001b[31m┃\u001b[0mo\u001b[31m┃\u001b[0m\u001b[31m┃\u001b[0m\u001b[31m┏\u001b[0m\u001b[31m┓\u001b[0mo\u001b[31m┗\u001b[0m\u001b[31m┛\u001b[0m\u001b[32mO\u001b[0m\u001b[32mO\u001b[0m\u001b[31m┏\u001b[0m\u001b[31m━\u001b[0m\u001b[31m┛\u001b[0m\u001b[31m┗\u001b[0m\u001b[31m┓\u001b[0m\u001b[31m┗\u001b[0m\u001b[31m┛\u001b[0m\u001b[32mO\u001b[0m\u001b[32mO\u001b[0m\u001b[32mO\u001b[0m\u001b[32mO\u001b[0m\u001b[32mO\u001b[0m\u001b[32mO\u001b[0m\u001b[32mO\u001b[0m\u001b[32mO\u001b[0m\u001b[32mO\u001b[0m\u001b[32mO\u001b[0m\u001b[32mO\u001b[0m\u001b[32mO\u001b[0m\u001b[32mO\u001b[0m\u001b[32mO\u001b[0m\u001b[32mO\u001b[0m\u001b[32mO\u001b[0m\u001b[32mO\u001b[0m\u001b[32mO\u001b[0m\u001b[32mO\u001b[0m\u001b[32mO\u001b[0m\u001b[32mO\u001b[0m\u001b[32mO\u001b[0m\u001b[32mO\u001b[0m\u001b[32mO\u001b[0m\u001b[32mO\u001b[0m\u001b[32mO\u001b[0m\u001b[32mO\u001b[0m\u001b[32mO\u001b[0m\u001b[32mO\u001b[0m\u001b[32mO\u001b[0m\u001b[32mO\u001b[0m\u001b[32mO\u001b[0m\u001b[32mO\u001b[0m\u001b[32mO\u001b[0m\u001b[32mO\u001b[0m\u001b[32mO\u001b[0m\u001b[32mO\u001b[0m\u001b[32mO\u001b[0m\u001b[32mO\u001b[0m\u001b[32mO\u001b[0m\n",
      "\u001b[32mO\u001b[0m\u001b[32mO\u001b[0m\u001b[32mO\u001b[0m\u001b[32mO\u001b[0m\u001b[32mO\u001b[0m\u001b[32mO\u001b[0m\u001b[32mO\u001b[0m\u001b[32mO\u001b[0m\u001b[32mO\u001b[0m\u001b[32mO\u001b[0m\u001b[32mO\u001b[0m\u001b[32mO\u001b[0m\u001b[32mO\u001b[0m\u001b[32mO\u001b[0m\u001b[32mO\u001b[0m\u001b[32mO\u001b[0m\u001b[32mO\u001b[0m\u001b[32mO\u001b[0m\u001b[32mO\u001b[0m\u001b[32mO\u001b[0m\u001b[32mO\u001b[0m\u001b[32mO\u001b[0m\u001b[32mO\u001b[0m\u001b[32mO\u001b[0m\u001b[32mO\u001b[0m\u001b[32mO\u001b[0m\u001b[31m┗\u001b[0m\u001b[31m┓\u001b[0m\u001b[31m┃\u001b[0m\u001b[31m┗\u001b[0m\u001b[31m┓\u001b[0m\u001b[31m┏\u001b[0m\u001b[31m┓\u001b[0m\u001b[31m┃\u001b[0m\u001b[31m┏\u001b[0m\u001b[31m━\u001b[0m\u001b[31m━\u001b[0m\u001b[31m┛\u001b[0m\u001b[31m┗\u001b[0m\u001b[31m┓\u001b[0m\u001b[31m┗\u001b[0m\u001b[31m┛\u001b[0m\u001b[31m┃\u001b[0m\u001b[31m┃\u001b[0m\u001b[32mO\u001b[0m\u001b[32mO\u001b[0m\u001b[32mO\u001b[0m\u001b[32mO\u001b[0m\u001b[32mO\u001b[0m\u001b[31m┏\u001b[0m\u001b[31m━\u001b[0m\u001b[31m┛\u001b[0m\u001b[31m┗\u001b[0m\u001b[31m┛\u001b[0m\u001b[31m┏\u001b[0m\u001b[31m┛\u001b[0m\u001b[31m┏\u001b[0m\u001b[31m┛\u001b[0m\u001b[31m┃\u001b[0m\u001b[31m┗\u001b[0m\u001b[31m┓\u001b[0m\u001b[31m┗\u001b[0m\u001b[31m━\u001b[0m\u001b[31m┓\u001b[0m\u001b[32mO\u001b[0m\u001b[32mO\u001b[0m\u001b[32mO\u001b[0m\u001b[32mO\u001b[0m\u001b[32mO\u001b[0m\u001b[32mO\u001b[0m\u001b[32mO\u001b[0m\u001b[32mO\u001b[0m\u001b[32mO\u001b[0m\u001b[31m┗\u001b[0m\u001b[31m┛\u001b[0m\u001b[31m┏\u001b[0m\u001b[31m┛\u001b[0m\u001b[31m┏\u001b[0m\u001b[31m┓\u001b[0m\u001b[31m┃\u001b[0m\u001b[31m┏\u001b[0m\u001b[31m┛\u001b[0m\u001b[31m┗\u001b[0m\u001b[31m━\u001b[0m\u001b[31m┛\u001b[0m\u001b[31m┗\u001b[0m\u001b[31m┛\u001b[0m\u001b[31m┗\u001b[0m\u001b[31m━\u001b[0m\u001b[31m━\u001b[0m\u001b[31m┓\u001b[0m\u001b[32mO\u001b[0m\u001b[32mO\u001b[0m\u001b[31m┗\u001b[0m\u001b[31m━\u001b[0m\u001b[31m━\u001b[0m\u001b[31m━\u001b[0m\u001b[31m┛\u001b[0m\u001b[32mO\u001b[0m\u001b[32mO\u001b[0m\u001b[32mO\u001b[0m\u001b[32mO\u001b[0m\u001b[32mO\u001b[0m\u001b[32mO\u001b[0m\u001b[32mO\u001b[0m\u001b[32mO\u001b[0m\u001b[32mO\u001b[0m\u001b[32mO\u001b[0m\u001b[32mO\u001b[0m\u001b[32mO\u001b[0m\u001b[32mO\u001b[0m\u001b[32mO\u001b[0m\u001b[32mO\u001b[0m\u001b[32mO\u001b[0m\u001b[32mO\u001b[0m\u001b[32mO\u001b[0m\u001b[32mO\u001b[0m\u001b[32mO\u001b[0m\u001b[32mO\u001b[0m\u001b[32mO\u001b[0m\u001b[32mO\u001b[0m\u001b[32mO\u001b[0m\u001b[32mO\u001b[0m\u001b[32mO\u001b[0m\u001b[32mO\u001b[0m\u001b[32mO\u001b[0m\u001b[32mO\u001b[0m\u001b[32mO\u001b[0m\u001b[32mO\u001b[0m\u001b[32mO\u001b[0m\u001b[32mO\u001b[0m\u001b[32mO\u001b[0m\u001b[32mO\u001b[0m\u001b[32mO\u001b[0m\u001b[32mO\u001b[0m\u001b[32mO\u001b[0m\u001b[32mO\u001b[0m\u001b[32mO\u001b[0m\u001b[32mO\u001b[0m\u001b[32mO\u001b[0m\n",
      "\u001b[32mO\u001b[0m\u001b[32mO\u001b[0m\u001b[32mO\u001b[0m\u001b[32mO\u001b[0m\u001b[32mO\u001b[0m\u001b[32mO\u001b[0m\u001b[32mO\u001b[0m\u001b[32mO\u001b[0m\u001b[32mO\u001b[0m\u001b[32mO\u001b[0m\u001b[32mO\u001b[0m\u001b[32mO\u001b[0m\u001b[32mO\u001b[0m\u001b[32mO\u001b[0m\u001b[32mO\u001b[0m\u001b[32mO\u001b[0m\u001b[32mO\u001b[0m\u001b[32mO\u001b[0m\u001b[32mO\u001b[0m\u001b[32mO\u001b[0m\u001b[32mO\u001b[0m\u001b[32mO\u001b[0m\u001b[32mO\u001b[0m\u001b[32mO\u001b[0m\u001b[32mO\u001b[0m\u001b[32mO\u001b[0m\u001b[32mO\u001b[0m\u001b[31m┃\u001b[0m\u001b[31m┃\u001b[0m\u001b[32mO\u001b[0m\u001b[31m┗\u001b[0m\u001b[31m┛\u001b[0m\u001b[31m┗\u001b[0m\u001b[31m┛\u001b[0m\u001b[31m┗\u001b[0m\u001b[31m━\u001b[0m\u001b[31m┓\u001b[0m\u001b[31m┏\u001b[0m\u001b[31m┓\u001b[0m\u001b[31m┗\u001b[0m\u001b[31m━\u001b[0m\u001b[31m┓\u001b[0m\u001b[31m┃\u001b[0m\u001b[31m┃\u001b[0m\u001b[32mO\u001b[0m\u001b[32mO\u001b[0m\u001b[32mO\u001b[0m\u001b[32mO\u001b[0m\u001b[32mO\u001b[0m\u001b[31m┗\u001b[0m\u001b[31m┓\u001b[0m\u001b[31m┏\u001b[0m\u001b[31m━\u001b[0m\u001b[31m┓\u001b[0m\u001b[31m┗\u001b[0m\u001b[31m┓\u001b[0m\u001b[31m┃\u001b[0m\u001b[31m┏\u001b[0m\u001b[31m┛\u001b[0m\u001b[31m┏\u001b[0m\u001b[31m┛\u001b[0m\u001b[31m┏\u001b[0m\u001b[31m━\u001b[0m\u001b[31m┛\u001b[0m\u001b[32mO\u001b[0m\u001b[32mO\u001b[0m\u001b[32mO\u001b[0m\u001b[32mO\u001b[0m\u001b[32mO\u001b[0m\u001b[32mO\u001b[0m\u001b[32mO\u001b[0m\u001b[32mO\u001b[0m\u001b[31m┏\u001b[0m\u001b[31m━\u001b[0m\u001b[31m━\u001b[0m\u001b[31m┛\u001b[0m\u001b[31m┏\u001b[0m\u001b[31m┛\u001b[0m\u001b[31m┃\u001b[0m\u001b[31m┃\u001b[0m\u001b[31m┗\u001b[0m\u001b[31m┓\u001b[0m\u001b[31m┏\u001b[0m\u001b[31m┓\u001b[0m\u001b[31m┏\u001b[0m\u001b[31m┓\u001b[0m\u001b[31m┏\u001b[0m\u001b[31m┓\u001b[0m\u001b[31m┏\u001b[0m\u001b[31m┓\u001b[0m\u001b[31m┃\u001b[0m\u001b[32mO\u001b[0m\u001b[32mO\u001b[0m\u001b[32mO\u001b[0m\u001b[32mO\u001b[0m\u001b[32mO\u001b[0m\u001b[32mO\u001b[0m\u001b[32mO\u001b[0m\u001b[32mO\u001b[0m\u001b[32mO\u001b[0m\u001b[32mO\u001b[0m\u001b[32mO\u001b[0m\u001b[32mO\u001b[0m\u001b[32mO\u001b[0m\u001b[32mO\u001b[0m\u001b[32mO\u001b[0m\u001b[32mO\u001b[0m\u001b[32mO\u001b[0m\u001b[32mO\u001b[0m\u001b[32mO\u001b[0m\u001b[32mO\u001b[0m\u001b[32mO\u001b[0m\u001b[32mO\u001b[0m\u001b[32mO\u001b[0m\u001b[32mO\u001b[0m\u001b[32mO\u001b[0m\u001b[32mO\u001b[0m\u001b[32mO\u001b[0m\u001b[32mO\u001b[0m\u001b[32mO\u001b[0m\u001b[32mO\u001b[0m\u001b[32mO\u001b[0m\u001b[32mO\u001b[0m\u001b[32mO\u001b[0m\u001b[32mO\u001b[0m\u001b[32mO\u001b[0m\u001b[32mO\u001b[0m\u001b[32mO\u001b[0m\u001b[32mO\u001b[0m\u001b[32mO\u001b[0m\u001b[32mO\u001b[0m\u001b[32mO\u001b[0m\u001b[32mO\u001b[0m\u001b[32mO\u001b[0m\u001b[32mO\u001b[0m\u001b[32mO\u001b[0m\u001b[32mO\u001b[0m\u001b[32mO\u001b[0m\u001b[32mO\u001b[0m\u001b[32mO\u001b[0m\n",
      "\u001b[32mO\u001b[0m\u001b[32mO\u001b[0m\u001b[32mO\u001b[0m\u001b[32mO\u001b[0m\u001b[32mO\u001b[0m\u001b[32mO\u001b[0m\u001b[32mO\u001b[0m\u001b[32mO\u001b[0m\u001b[32mO\u001b[0m\u001b[32mO\u001b[0m\u001b[32mO\u001b[0m\u001b[32mO\u001b[0m\u001b[32mO\u001b[0m\u001b[32mO\u001b[0m\u001b[32mO\u001b[0m\u001b[32mO\u001b[0m\u001b[32mO\u001b[0m\u001b[32mO\u001b[0m\u001b[32mO\u001b[0m\u001b[32mO\u001b[0m\u001b[32mO\u001b[0m\u001b[32mO\u001b[0m\u001b[32mO\u001b[0m\u001b[32mO\u001b[0m\u001b[32mO\u001b[0m\u001b[32mO\u001b[0m\u001b[32mO\u001b[0m\u001b[31m┗\u001b[0m\u001b[31m┛\u001b[0m\u001b[32mO\u001b[0m\u001b[32mO\u001b[0m\u001b[32mO\u001b[0m\u001b[32mO\u001b[0m\u001b[32mO\u001b[0m\u001b[32mO\u001b[0m\u001b[32mO\u001b[0m\u001b[31m┃\u001b[0m\u001b[31m┃\u001b[0m\u001b[31m┗\u001b[0m\u001b[31m┓\u001b[0m\u001b[31m┏\u001b[0m\u001b[31m┛\u001b[0m\u001b[31m┗\u001b[0m\u001b[31m┛\u001b[0m\u001b[32mO\u001b[0m\u001b[32mO\u001b[0m\u001b[32mO\u001b[0m\u001b[32mO\u001b[0m\u001b[32mO\u001b[0m\u001b[32mO\u001b[0m\u001b[31m┃\u001b[0m\u001b[31m┃\u001b[0m\u001b[32mO\u001b[0m\u001b[31m┗\u001b[0m\u001b[31m┓\u001b[0m\u001b[31m┃\u001b[0m\u001b[31m┃\u001b[0m\u001b[31m┗\u001b[0m\u001b[31m┓\u001b[0m\u001b[31m┗\u001b[0m\u001b[31m━\u001b[0m\u001b[31m┛\u001b[0m\u001b[32mO\u001b[0m\u001b[32mO\u001b[0m\u001b[32mO\u001b[0m\u001b[32mO\u001b[0m\u001b[32mO\u001b[0m\u001b[32mO\u001b[0m\u001b[32mO\u001b[0m\u001b[32mO\u001b[0m\u001b[32mO\u001b[0m\u001b[32mO\u001b[0m\u001b[31m┗\u001b[0m\u001b[31m━\u001b[0m\u001b[31m┓\u001b[0m\u001b[31m┏\u001b[0m\u001b[31m┛\u001b[0m\u001b[32mO\u001b[0m\u001b[31m┃\u001b[0m\u001b[31m┗\u001b[0m\u001b[31m┓\u001b[0m\u001b[31m┗\u001b[0m\u001b[31m┛\u001b[0m\u001b[31m┃\u001b[0m\u001b[31m┃\u001b[0m\u001b[31m┗\u001b[0m\u001b[31m┛\u001b[0m\u001b[31m┗\u001b[0m\u001b[31m┛\u001b[0m\u001b[31m┗\u001b[0m\u001b[31m┛\u001b[0m\u001b[32mO\u001b[0m\u001b[32mO\u001b[0m\u001b[32mO\u001b[0m\u001b[32mO\u001b[0m\u001b[32mO\u001b[0m\u001b[32mO\u001b[0m\u001b[32mO\u001b[0m\u001b[32mO\u001b[0m\u001b[32mO\u001b[0m\u001b[32mO\u001b[0m\u001b[32mO\u001b[0m\u001b[32mO\u001b[0m\u001b[32mO\u001b[0m\u001b[32mO\u001b[0m\u001b[32mO\u001b[0m\u001b[32mO\u001b[0m\u001b[32mO\u001b[0m\u001b[32mO\u001b[0m\u001b[32mO\u001b[0m\u001b[32mO\u001b[0m\u001b[32mO\u001b[0m\u001b[32mO\u001b[0m\u001b[32mO\u001b[0m\u001b[32mO\u001b[0m\u001b[32mO\u001b[0m\u001b[32mO\u001b[0m\u001b[32mO\u001b[0m\u001b[32mO\u001b[0m\u001b[32mO\u001b[0m\u001b[32mO\u001b[0m\u001b[32mO\u001b[0m\u001b[32mO\u001b[0m\u001b[32mO\u001b[0m\u001b[32mO\u001b[0m\u001b[32mO\u001b[0m\u001b[32mO\u001b[0m\u001b[32mO\u001b[0m\u001b[32mO\u001b[0m\u001b[32mO\u001b[0m\u001b[32mO\u001b[0m\u001b[32mO\u001b[0m\u001b[32mO\u001b[0m\u001b[32mO\u001b[0m\u001b[32mO\u001b[0m\u001b[32mO\u001b[0m\u001b[32mO\u001b[0m\u001b[32mO\u001b[0m\u001b[32mO\u001b[0m\u001b[32mO\u001b[0m\n",
      "\u001b[32mO\u001b[0m\u001b[32mO\u001b[0m\u001b[32mO\u001b[0m\u001b[32mO\u001b[0m\u001b[32mO\u001b[0m\u001b[32mO\u001b[0m\u001b[32mO\u001b[0m\u001b[32mO\u001b[0m\u001b[32mO\u001b[0m\u001b[32mO\u001b[0m\u001b[32mO\u001b[0m\u001b[32mO\u001b[0m\u001b[32mO\u001b[0m\u001b[32mO\u001b[0m\u001b[32mO\u001b[0m\u001b[32mO\u001b[0m\u001b[32mO\u001b[0m\u001b[32mO\u001b[0m\u001b[32mO\u001b[0m\u001b[32mO\u001b[0m\u001b[32mO\u001b[0m\u001b[32mO\u001b[0m\u001b[32mO\u001b[0m\u001b[32mO\u001b[0m\u001b[32mO\u001b[0m\u001b[32mO\u001b[0m\u001b[32mO\u001b[0m\u001b[32mO\u001b[0m\u001b[32mO\u001b[0m\u001b[32mO\u001b[0m\u001b[32mO\u001b[0m\u001b[32mO\u001b[0m\u001b[32mO\u001b[0m\u001b[32mO\u001b[0m\u001b[32mO\u001b[0m\u001b[32mO\u001b[0m\u001b[31m┗\u001b[0m\u001b[31m┛\u001b[0m\u001b[32mO\u001b[0m\u001b[31m┗\u001b[0m\u001b[31m┛\u001b[0m\u001b[32mO\u001b[0m\u001b[32mO\u001b[0m\u001b[32mO\u001b[0m\u001b[32mO\u001b[0m\u001b[32mO\u001b[0m\u001b[32mO\u001b[0m\u001b[32mO\u001b[0m\u001b[32mO\u001b[0m\u001b[32mO\u001b[0m\u001b[31m┗\u001b[0m\u001b[31m┛\u001b[0m\u001b[32mO\u001b[0m\u001b[31m┏\u001b[0m\u001b[31m┛\u001b[0m\u001b[31m┃\u001b[0m\u001b[31m┃\u001b[0m\u001b[31m┏\u001b[0m\u001b[31m┛\u001b[0m\u001b[32mO\u001b[0m\u001b[32mO\u001b[0m\u001b[32mO\u001b[0m\u001b[32mO\u001b[0m\u001b[32mO\u001b[0m\u001b[32mO\u001b[0m\u001b[32mO\u001b[0m\u001b[32mO\u001b[0m\u001b[32mO\u001b[0m\u001b[32mO\u001b[0m\u001b[32mO\u001b[0m\u001b[32mO\u001b[0m\u001b[32mO\u001b[0m\u001b[32mO\u001b[0m\u001b[32mO\u001b[0m\u001b[31m┗\u001b[0m\u001b[31m┛\u001b[0m\u001b[32mO\u001b[0m\u001b[32mO\u001b[0m\u001b[31m┗\u001b[0m\u001b[31m━\u001b[0m\u001b[31m┛\u001b[0m\u001b[31m┏\u001b[0m\u001b[31m━\u001b[0m\u001b[31m┛\u001b[0m\u001b[31m┗\u001b[0m\u001b[31m┓\u001b[0m\u001b[32mO\u001b[0m\u001b[32mO\u001b[0m\u001b[32mO\u001b[0m\u001b[32mO\u001b[0m\u001b[32mO\u001b[0m\u001b[32mO\u001b[0m\u001b[32mO\u001b[0m\u001b[32mO\u001b[0m\u001b[32mO\u001b[0m\u001b[32mO\u001b[0m\u001b[32mO\u001b[0m\u001b[32mO\u001b[0m\u001b[32mO\u001b[0m\u001b[32mO\u001b[0m\u001b[32mO\u001b[0m\u001b[32mO\u001b[0m\u001b[32mO\u001b[0m\u001b[32mO\u001b[0m\u001b[32mO\u001b[0m\u001b[32mO\u001b[0m\u001b[32mO\u001b[0m\u001b[32mO\u001b[0m\u001b[32mO\u001b[0m\u001b[32mO\u001b[0m\u001b[32mO\u001b[0m\u001b[32mO\u001b[0m\u001b[32mO\u001b[0m\u001b[32mO\u001b[0m\u001b[32mO\u001b[0m\u001b[32mO\u001b[0m\u001b[32mO\u001b[0m\u001b[32mO\u001b[0m\u001b[32mO\u001b[0m\u001b[32mO\u001b[0m\u001b[32mO\u001b[0m\u001b[32mO\u001b[0m\u001b[32mO\u001b[0m\u001b[32mO\u001b[0m\u001b[32mO\u001b[0m\u001b[32mO\u001b[0m\u001b[32mO\u001b[0m\u001b[32mO\u001b[0m\u001b[32mO\u001b[0m\u001b[32mO\u001b[0m\u001b[32mO\u001b[0m\u001b[32mO\u001b[0m\u001b[32mO\u001b[0m\u001b[32mO\u001b[0m\u001b[32mO\u001b[0m\u001b[32mO\u001b[0m\u001b[32mO\u001b[0m\u001b[32mO\u001b[0m\u001b[32mO\u001b[0m\u001b[32mO\u001b[0m\n",
      "\u001b[32mO\u001b[0m\u001b[32mO\u001b[0m\u001b[32mO\u001b[0m\u001b[32mO\u001b[0m\u001b[32mO\u001b[0m\u001b[32mO\u001b[0m\u001b[32mO\u001b[0m\u001b[32mO\u001b[0m\u001b[32mO\u001b[0m\u001b[32mO\u001b[0m\u001b[32mO\u001b[0m\u001b[32mO\u001b[0m\u001b[32mO\u001b[0m\u001b[32mO\u001b[0m\u001b[32mO\u001b[0m\u001b[32mO\u001b[0m\u001b[32mO\u001b[0m\u001b[32mO\u001b[0m\u001b[32mO\u001b[0m\u001b[32mO\u001b[0m\u001b[32mO\u001b[0m\u001b[32mO\u001b[0m\u001b[32mO\u001b[0m\u001b[32mO\u001b[0m\u001b[32mO\u001b[0m\u001b[32mO\u001b[0m\u001b[32mO\u001b[0m\u001b[32mO\u001b[0m\u001b[32mO\u001b[0m\u001b[32mO\u001b[0m\u001b[32mO\u001b[0m\u001b[32mO\u001b[0m\u001b[32mO\u001b[0m\u001b[32mO\u001b[0m\u001b[32mO\u001b[0m\u001b[32mO\u001b[0m\u001b[32mO\u001b[0m\u001b[32mO\u001b[0m\u001b[32mO\u001b[0m\u001b[32mO\u001b[0m\u001b[32mO\u001b[0m\u001b[32mO\u001b[0m\u001b[32mO\u001b[0m\u001b[32mO\u001b[0m\u001b[32mO\u001b[0m\u001b[32mO\u001b[0m\u001b[32mO\u001b[0m\u001b[32mO\u001b[0m\u001b[32mO\u001b[0m\u001b[32mO\u001b[0m\u001b[32mO\u001b[0m\u001b[32mO\u001b[0m\u001b[32mO\u001b[0m\u001b[31m┃\u001b[0m\u001b[31m┏\u001b[0m\u001b[31m┛\u001b[0m\u001b[31m┗\u001b[0m\u001b[31m┛\u001b[0m\u001b[32mO\u001b[0m\u001b[32mO\u001b[0m\u001b[32mO\u001b[0m\u001b[32mO\u001b[0m\u001b[32mO\u001b[0m\u001b[32mO\u001b[0m\u001b[32mO\u001b[0m\u001b[32mO\u001b[0m\u001b[32mO\u001b[0m\u001b[32mO\u001b[0m\u001b[32mO\u001b[0m\u001b[32mO\u001b[0m\u001b[32mO\u001b[0m\u001b[32mO\u001b[0m\u001b[32mO\u001b[0m\u001b[32mO\u001b[0m\u001b[32mO\u001b[0m\u001b[32mO\u001b[0m\u001b[32mO\u001b[0m\u001b[32mO\u001b[0m\u001b[32mO\u001b[0m\u001b[32mO\u001b[0m\u001b[32mO\u001b[0m\u001b[31m┃\u001b[0m\u001b[31m┏\u001b[0m\u001b[31m┓\u001b[0m\u001b[31m┏\u001b[0m\u001b[31m┛\u001b[0m\u001b[32mO\u001b[0m\u001b[32mO\u001b[0m\u001b[32mO\u001b[0m\u001b[32mO\u001b[0m\u001b[32mO\u001b[0m\u001b[32mO\u001b[0m\u001b[32mO\u001b[0m\u001b[32mO\u001b[0m\u001b[32mO\u001b[0m\u001b[32mO\u001b[0m\u001b[32mO\u001b[0m\u001b[32mO\u001b[0m\u001b[32mO\u001b[0m\u001b[32mO\u001b[0m\u001b[32mO\u001b[0m\u001b[32mO\u001b[0m\u001b[32mO\u001b[0m\u001b[32mO\u001b[0m\u001b[32mO\u001b[0m\u001b[32mO\u001b[0m\u001b[32mO\u001b[0m\u001b[32mO\u001b[0m\u001b[32mO\u001b[0m\u001b[32mO\u001b[0m\u001b[32mO\u001b[0m\u001b[32mO\u001b[0m\u001b[32mO\u001b[0m\u001b[32mO\u001b[0m\u001b[32mO\u001b[0m\u001b[32mO\u001b[0m\u001b[32mO\u001b[0m\u001b[32mO\u001b[0m\u001b[32mO\u001b[0m\u001b[32mO\u001b[0m\u001b[32mO\u001b[0m\u001b[32mO\u001b[0m\u001b[32mO\u001b[0m\u001b[32mO\u001b[0m\u001b[32mO\u001b[0m\u001b[32mO\u001b[0m\u001b[32mO\u001b[0m\u001b[32mO\u001b[0m\u001b[32mO\u001b[0m\u001b[32mO\u001b[0m\u001b[32mO\u001b[0m\u001b[32mO\u001b[0m\u001b[32mO\u001b[0m\u001b[32mO\u001b[0m\u001b[32mO\u001b[0m\u001b[32mO\u001b[0m\u001b[32mO\u001b[0m\u001b[32mO\u001b[0m\u001b[32mO\u001b[0m\u001b[32mO\u001b[0m\n",
      "\u001b[32mO\u001b[0m\u001b[32mO\u001b[0m\u001b[32mO\u001b[0m\u001b[32mO\u001b[0m\u001b[32mO\u001b[0m\u001b[32mO\u001b[0m\u001b[32mO\u001b[0m\u001b[32mO\u001b[0m\u001b[32mO\u001b[0m\u001b[32mO\u001b[0m\u001b[32mO\u001b[0m\u001b[32mO\u001b[0m\u001b[32mO\u001b[0m\u001b[32mO\u001b[0m\u001b[32mO\u001b[0m\u001b[32mO\u001b[0m\u001b[32mO\u001b[0m\u001b[32mO\u001b[0m\u001b[32mO\u001b[0m\u001b[32mO\u001b[0m\u001b[32mO\u001b[0m\u001b[32mO\u001b[0m\u001b[32mO\u001b[0m\u001b[32mO\u001b[0m\u001b[32mO\u001b[0m\u001b[32mO\u001b[0m\u001b[32mO\u001b[0m\u001b[32mO\u001b[0m\u001b[32mO\u001b[0m\u001b[32mO\u001b[0m\u001b[32mO\u001b[0m\u001b[32mO\u001b[0m\u001b[32mO\u001b[0m\u001b[32mO\u001b[0m\u001b[32mO\u001b[0m\u001b[32mO\u001b[0m\u001b[32mO\u001b[0m\u001b[32mO\u001b[0m\u001b[32mO\u001b[0m\u001b[32mO\u001b[0m\u001b[32mO\u001b[0m\u001b[32mO\u001b[0m\u001b[32mO\u001b[0m\u001b[32mO\u001b[0m\u001b[32mO\u001b[0m\u001b[32mO\u001b[0m\u001b[32mO\u001b[0m\u001b[32mO\u001b[0m\u001b[32mO\u001b[0m\u001b[32mO\u001b[0m\u001b[32mO\u001b[0m\u001b[32mO\u001b[0m\u001b[32mO\u001b[0m\u001b[31m┗\u001b[0m\u001b[31m┛\u001b[0m\u001b[32mO\u001b[0m\u001b[32mO\u001b[0m\u001b[32mO\u001b[0m\u001b[32mO\u001b[0m\u001b[32mO\u001b[0m\u001b[32mO\u001b[0m\u001b[32mO\u001b[0m\u001b[32mO\u001b[0m\u001b[32mO\u001b[0m\u001b[32mO\u001b[0m\u001b[32mO\u001b[0m\u001b[32mO\u001b[0m\u001b[32mO\u001b[0m\u001b[32mO\u001b[0m\u001b[32mO\u001b[0m\u001b[32mO\u001b[0m\u001b[32mO\u001b[0m\u001b[32mO\u001b[0m\u001b[32mO\u001b[0m\u001b[32mO\u001b[0m\u001b[32mO\u001b[0m\u001b[32mO\u001b[0m\u001b[32mO\u001b[0m\u001b[32mO\u001b[0m\u001b[32mO\u001b[0m\u001b[32mO\u001b[0m\u001b[31m┗\u001b[0m\u001b[31m┛\u001b[0m\u001b[31m┃\u001b[0m\u001b[31m┃\u001b[0m\u001b[32mO\u001b[0m\u001b[32mO\u001b[0m\u001b[32mO\u001b[0m\u001b[32mO\u001b[0m\u001b[32mO\u001b[0m\u001b[32mO\u001b[0m\u001b[32mO\u001b[0m\u001b[32mO\u001b[0m\u001b[32mO\u001b[0m\u001b[32mO\u001b[0m\u001b[32mO\u001b[0m\u001b[32mO\u001b[0m\u001b[32mO\u001b[0m\u001b[32mO\u001b[0m\u001b[32mO\u001b[0m\u001b[32mO\u001b[0m\u001b[32mO\u001b[0m\u001b[32mO\u001b[0m\u001b[32mO\u001b[0m\u001b[32mO\u001b[0m\u001b[32mO\u001b[0m\u001b[32mO\u001b[0m\u001b[32mO\u001b[0m\u001b[32mO\u001b[0m\u001b[32mO\u001b[0m\u001b[32mO\u001b[0m\u001b[32mO\u001b[0m\u001b[32mO\u001b[0m\u001b[32mO\u001b[0m\u001b[32mO\u001b[0m\u001b[32mO\u001b[0m\u001b[32mO\u001b[0m\u001b[32mO\u001b[0m\u001b[32mO\u001b[0m\u001b[32mO\u001b[0m\u001b[32mO\u001b[0m\u001b[32mO\u001b[0m\u001b[32mO\u001b[0m\u001b[32mO\u001b[0m\u001b[32mO\u001b[0m\u001b[32mO\u001b[0m\u001b[32mO\u001b[0m\u001b[32mO\u001b[0m\u001b[32mO\u001b[0m\u001b[32mO\u001b[0m\u001b[32mO\u001b[0m\u001b[32mO\u001b[0m\u001b[32mO\u001b[0m\u001b[32mO\u001b[0m\u001b[32mO\u001b[0m\u001b[32mO\u001b[0m\u001b[32mO\u001b[0m\u001b[32mO\u001b[0m\u001b[32mO\u001b[0m\u001b[32mO\u001b[0m\n",
      "\u001b[32mO\u001b[0m\u001b[32mO\u001b[0m\u001b[32mO\u001b[0m\u001b[32mO\u001b[0m\u001b[32mO\u001b[0m\u001b[32mO\u001b[0m\u001b[32mO\u001b[0m\u001b[32mO\u001b[0m\u001b[32mO\u001b[0m\u001b[32mO\u001b[0m\u001b[32mO\u001b[0m\u001b[32mO\u001b[0m\u001b[32mO\u001b[0m\u001b[32mO\u001b[0m\u001b[32mO\u001b[0m\u001b[32mO\u001b[0m\u001b[32mO\u001b[0m\u001b[32mO\u001b[0m\u001b[32mO\u001b[0m\u001b[32mO\u001b[0m\u001b[32mO\u001b[0m\u001b[32mO\u001b[0m\u001b[32mO\u001b[0m\u001b[32mO\u001b[0m\u001b[32mO\u001b[0m\u001b[32mO\u001b[0m\u001b[32mO\u001b[0m\u001b[32mO\u001b[0m\u001b[32mO\u001b[0m\u001b[32mO\u001b[0m\u001b[32mO\u001b[0m\u001b[32mO\u001b[0m\u001b[32mO\u001b[0m\u001b[32mO\u001b[0m\u001b[32mO\u001b[0m\u001b[32mO\u001b[0m\u001b[32mO\u001b[0m\u001b[32mO\u001b[0m\u001b[32mO\u001b[0m\u001b[32mO\u001b[0m\u001b[32mO\u001b[0m\u001b[32mO\u001b[0m\u001b[32mO\u001b[0m\u001b[32mO\u001b[0m\u001b[32mO\u001b[0m\u001b[32mO\u001b[0m\u001b[32mO\u001b[0m\u001b[32mO\u001b[0m\u001b[32mO\u001b[0m\u001b[32mO\u001b[0m\u001b[32mO\u001b[0m\u001b[32mO\u001b[0m\u001b[32mO\u001b[0m\u001b[32mO\u001b[0m\u001b[32mO\u001b[0m\u001b[32mO\u001b[0m\u001b[32mO\u001b[0m\u001b[32mO\u001b[0m\u001b[32mO\u001b[0m\u001b[32mO\u001b[0m\u001b[32mO\u001b[0m\u001b[32mO\u001b[0m\u001b[32mO\u001b[0m\u001b[32mO\u001b[0m\u001b[32mO\u001b[0m\u001b[32mO\u001b[0m\u001b[32mO\u001b[0m\u001b[32mO\u001b[0m\u001b[32mO\u001b[0m\u001b[32mO\u001b[0m\u001b[32mO\u001b[0m\u001b[32mO\u001b[0m\u001b[32mO\u001b[0m\u001b[32mO\u001b[0m\u001b[32mO\u001b[0m\u001b[32mO\u001b[0m\u001b[32mO\u001b[0m\u001b[32mO\u001b[0m\u001b[32mO\u001b[0m\u001b[32mO\u001b[0m\u001b[32mO\u001b[0m\u001b[32mO\u001b[0m\u001b[32mO\u001b[0m\u001b[31m┃\u001b[0m\u001b[31m┃\u001b[0m\u001b[32mO\u001b[0m\u001b[32mO\u001b[0m\u001b[32mO\u001b[0m\u001b[32mO\u001b[0m\u001b[32mO\u001b[0m\u001b[32mO\u001b[0m\u001b[32mO\u001b[0m\u001b[32mO\u001b[0m\u001b[32mO\u001b[0m\u001b[32mO\u001b[0m\u001b[32mO\u001b[0m\u001b[32mO\u001b[0m\u001b[32mO\u001b[0m\u001b[32mO\u001b[0m\u001b[32mO\u001b[0m\u001b[32mO\u001b[0m\u001b[32mO\u001b[0m\u001b[32mO\u001b[0m\u001b[32mO\u001b[0m\u001b[32mO\u001b[0m\u001b[32mO\u001b[0m\u001b[32mO\u001b[0m\u001b[32mO\u001b[0m\u001b[32mO\u001b[0m\u001b[32mO\u001b[0m\u001b[32mO\u001b[0m\u001b[32mO\u001b[0m\u001b[32mO\u001b[0m\u001b[32mO\u001b[0m\u001b[32mO\u001b[0m\u001b[32mO\u001b[0m\u001b[32mO\u001b[0m\u001b[32mO\u001b[0m\u001b[32mO\u001b[0m\u001b[32mO\u001b[0m\u001b[32mO\u001b[0m\u001b[32mO\u001b[0m\u001b[32mO\u001b[0m\u001b[32mO\u001b[0m\u001b[32mO\u001b[0m\u001b[32mO\u001b[0m\u001b[32mO\u001b[0m\u001b[32mO\u001b[0m\u001b[32mO\u001b[0m\u001b[32mO\u001b[0m\u001b[32mO\u001b[0m\u001b[32mO\u001b[0m\u001b[32mO\u001b[0m\u001b[32mO\u001b[0m\u001b[32mO\u001b[0m\u001b[32mO\u001b[0m\u001b[32mO\u001b[0m\u001b[32mO\u001b[0m\u001b[32mO\u001b[0m\u001b[32mO\u001b[0m\n",
      "\u001b[32mO\u001b[0m\u001b[32mO\u001b[0m\u001b[32mO\u001b[0m\u001b[32mO\u001b[0m\u001b[32mO\u001b[0m\u001b[32mO\u001b[0m\u001b[32mO\u001b[0m\u001b[32mO\u001b[0m\u001b[32mO\u001b[0m\u001b[32mO\u001b[0m\u001b[32mO\u001b[0m\u001b[32mO\u001b[0m\u001b[32mO\u001b[0m\u001b[32mO\u001b[0m\u001b[32mO\u001b[0m\u001b[32mO\u001b[0m\u001b[32mO\u001b[0m\u001b[32mO\u001b[0m\u001b[32mO\u001b[0m\u001b[32mO\u001b[0m\u001b[32mO\u001b[0m\u001b[32mO\u001b[0m\u001b[32mO\u001b[0m\u001b[32mO\u001b[0m\u001b[32mO\u001b[0m\u001b[32mO\u001b[0m\u001b[32mO\u001b[0m\u001b[32mO\u001b[0m\u001b[32mO\u001b[0m\u001b[32mO\u001b[0m\u001b[32mO\u001b[0m\u001b[32mO\u001b[0m\u001b[32mO\u001b[0m\u001b[32mO\u001b[0m\u001b[32mO\u001b[0m\u001b[32mO\u001b[0m\u001b[32mO\u001b[0m\u001b[32mO\u001b[0m\u001b[32mO\u001b[0m\u001b[32mO\u001b[0m\u001b[32mO\u001b[0m\u001b[32mO\u001b[0m\u001b[32mO\u001b[0m\u001b[32mO\u001b[0m\u001b[32mO\u001b[0m\u001b[32mO\u001b[0m\u001b[32mO\u001b[0m\u001b[32mO\u001b[0m\u001b[32mO\u001b[0m\u001b[32mO\u001b[0m\u001b[32mO\u001b[0m\u001b[32mO\u001b[0m\u001b[32mO\u001b[0m\u001b[32mO\u001b[0m\u001b[32mO\u001b[0m\u001b[32mO\u001b[0m\u001b[32mO\u001b[0m\u001b[32mO\u001b[0m\u001b[32mO\u001b[0m\u001b[32mO\u001b[0m\u001b[32mO\u001b[0m\u001b[32mO\u001b[0m\u001b[32mO\u001b[0m\u001b[32mO\u001b[0m\u001b[32mO\u001b[0m\u001b[32mO\u001b[0m\u001b[32mO\u001b[0m\u001b[32mO\u001b[0m\u001b[32mO\u001b[0m\u001b[32mO\u001b[0m\u001b[32mO\u001b[0m\u001b[32mO\u001b[0m\u001b[32mO\u001b[0m\u001b[32mO\u001b[0m\u001b[32mO\u001b[0m\u001b[32mO\u001b[0m\u001b[32mO\u001b[0m\u001b[32mO\u001b[0m\u001b[32mO\u001b[0m\u001b[32mO\u001b[0m\u001b[32mO\u001b[0m\u001b[32mO\u001b[0m\u001b[32mO\u001b[0m\u001b[31m┗\u001b[0m\u001b[31m┛\u001b[0m\u001b[32mO\u001b[0m\u001b[32mO\u001b[0m\u001b[32mO\u001b[0m\u001b[32mO\u001b[0m\u001b[32mO\u001b[0m\u001b[32mO\u001b[0m\u001b[32mO\u001b[0m\u001b[32mO\u001b[0m\u001b[32mO\u001b[0m\u001b[32mO\u001b[0m\u001b[32mO\u001b[0m\u001b[32mO\u001b[0m\u001b[32mO\u001b[0m\u001b[32mO\u001b[0m\u001b[32mO\u001b[0m\u001b[32mO\u001b[0m\u001b[32mO\u001b[0m\u001b[32mO\u001b[0m\u001b[32mO\u001b[0m\u001b[32mO\u001b[0m\u001b[32mO\u001b[0m\u001b[32mO\u001b[0m\u001b[32mO\u001b[0m\u001b[32mO\u001b[0m\u001b[32mO\u001b[0m\u001b[32mO\u001b[0m\u001b[32mO\u001b[0m\u001b[32mO\u001b[0m\u001b[32mO\u001b[0m\u001b[32mO\u001b[0m\u001b[32mO\u001b[0m\u001b[32mO\u001b[0m\u001b[32mO\u001b[0m\u001b[32mO\u001b[0m\u001b[32mO\u001b[0m\u001b[32mO\u001b[0m\u001b[32mO\u001b[0m\u001b[32mO\u001b[0m\u001b[32mO\u001b[0m\u001b[32mO\u001b[0m\u001b[32mO\u001b[0m\u001b[32mO\u001b[0m\u001b[32mO\u001b[0m\u001b[32mO\u001b[0m\u001b[32mO\u001b[0m\u001b[32mO\u001b[0m\u001b[32mO\u001b[0m\u001b[32mO\u001b[0m\u001b[32mO\u001b[0m\u001b[32mO\u001b[0m\u001b[32mO\u001b[0m\u001b[32mO\u001b[0m\u001b[32mO\u001b[0m\u001b[32mO\u001b[0m\u001b[32mO\u001b[0m\n"
     ]
    }
   ],
   "source": [
    "def print_colored(char, color_code):\n",
    "    return f\"\\033[{color_code}m{char}\\033[0m\"\n",
    "\n",
    "RED = '31'  # ANSI code for red color\n",
    "GREEN = '32'\n",
    "YELLOW = '33'\n",
    "char_beauty_mapping = {'|': '┃', '-': '━', '7': '┓', 'L': '┗', 'F': '┏', 'J': '┛', 'S': 'S'}\n",
    "\n",
    "for i, line in enumerate(lines):\n",
    "    for j, char in enumerate(line):\n",
    "        if char == 'S':\n",
    "            print(print_colored('S', YELLOW), end=\"\")\n",
    "        elif (i, j) in pipe_locs:\n",
    "            # print(print_colored(char, RED), end=\"\")\n",
    "            print(print_colored(char_beauty_mapping[char], RED), end=\"\")\n",
    "            # print(print_colored('*', RED), end=\"\")\n",
    "            # print(' ', end=\"\")\n",
    "        elif char == 'O':\n",
    "            print(print_colored(char, GREEN), end=\"\")\n",
    "        else:\n",
    "            print(char, end=\"\")\n",
    "            # print('.', end=\"\")\n",
    "    print()  # for a new line after each line\n"
   ]
  },
  {
   "cell_type": "code",
   "execution_count": 94,
   "metadata": {},
   "outputs": [
    {
     "data": {
      "text/plain": [
       "563"
      ]
     },
     "execution_count": 94,
     "metadata": {},
     "output_type": "execute_result"
    }
   ],
   "source": [
    "counter = 0\n",
    "\n",
    "for i, line in enumerate(lines):\n",
    "    for j, char in enumerate(line):\n",
    "        if not (i, j) in pipe_locs and char not in ['S', 'O', 'o']:\n",
    "            counter += 1\n",
    "\n",
    "counter"
   ]
  },
  {
   "cell_type": "code",
   "execution_count": null,
   "metadata": {},
   "outputs": [],
   "source": [
    "def has_outlier_neighbour_by_traversing(matrix, target_pos, pipe_locs):\n",
    "    def find_neighbouring_pipe(matrix, target_pos, pipe_locs):\n",
    "        # any pipe symbol around: horizontal, vertical, diagonal\n",
    "        # return the first found\n",
    "        pass\n",
    "    neighbouring_pipe_pos = find_neighbouring_pipe(matrix, target_pos, pipe_locs)\n",
    "    # we know that pipe_locs is ordered. so knowing this neighbouring_pipe_pos and the next one,\n",
    "    # we can correctly say, is the target_pos to the left of the pipe or to the right\n",
    "    # using target_pos and neighbouring_pipe_pos, decide where is the target_pos respectively.\n",
    "    # create some direction variable\n",
    "\n",
    "    while current_pos != neighbouring_pipe_pos:\n",
    "        #check currecnt pipe position neighbours on the \"direction\" side. if there is any 'O' value, then target_pos is outlier too. \n",
    "        # mark with 'O' and break"
   ]
  },
  {
   "cell_type": "markdown",
   "metadata": {},
   "source": [
    "# Day 11"
   ]
  },
  {
   "cell_type": "code",
   "execution_count": 241,
   "metadata": {},
   "outputs": [
    {
     "data": {
      "text/plain": [
       "(140, 140)"
      ]
     },
     "execution_count": 241,
     "metadata": {},
     "output_type": "execute_result"
    }
   ],
   "source": [
    "file_path = '../data/day11.txt'\n",
    "with open(file_path, 'r') as file:\n",
    "    lines = [line.strip() for line in file]\n",
    "\n",
    "# lines = [\n",
    "# \"...#......\", \n",
    "# \".......#..\", \n",
    "# \"#.........\", \n",
    "# \"..........\", \n",
    "# \"......#...\", \n",
    "# \".#........\", \n",
    "# \".........#\", \n",
    "# \"..........\", \n",
    "# \".......#..\", \n",
    "# \"#...#.....\", \n",
    "# ]\n",
    "\n",
    "len(lines), len(lines[0])"
   ]
  },
  {
   "cell_type": "markdown",
   "metadata": {},
   "source": [
    "## Part 1"
   ]
  },
  {
   "cell_type": "code",
   "execution_count": null,
   "metadata": {},
   "outputs": [],
   "source": [
    "def manhattan_dist(p1, p2):\n",
    "    return abs(p1[0] - p2[0]) + abs(p1[1] - p2[1])"
   ]
  },
  {
   "cell_type": "code",
   "execution_count": 204,
   "metadata": {},
   "outputs": [
    {
     "data": {
      "text/plain": [
       "(151, 147)"
      ]
     },
     "execution_count": 204,
     "metadata": {},
     "output_type": "execute_result"
    }
   ],
   "source": [
    "def expand(universe, expand_num=1):\n",
    "    # expand from end\n",
    "    backward_empty_cols = []\n",
    "    for i in range(len(universe)-1, -1, -1):\n",
    "        backward_empty_col_indices = []    \n",
    "        for j in range(len(universe[i])-1, -1, -1):\n",
    "            el = universe[i][j]\n",
    "            if el == '.':\n",
    "                backward_empty_col_indices.append(j)\n",
    "        \n",
    "        if len(backward_empty_col_indices) == len(universe[i]):\n",
    "            for exp in range(expand_num):\n",
    "                universe.insert(i, '.'*len(universe[i]))\n",
    "        \n",
    "        backward_empty_cols.append(backward_empty_col_indices)\n",
    "\n",
    "    backward_empty_cols = set(backward_empty_cols[0]).intersection(*backward_empty_cols[1:])\n",
    "    backward_empty_cols = sorted(backward_empty_cols, reverse=True)\n",
    "\n",
    "    for i in range(len(universe)-1, -1, -1):\n",
    "        for j in range(len(universe[i])-1, -1, -1):\n",
    "            if j in backward_empty_cols:\n",
    "                line = [ch for ch in universe[i]]\n",
    "                for exp in range(expand_num):\n",
    "                    line.insert(j, '.')\n",
    "                universe[i] = ''.join(line)\n",
    "                \n",
    "    return universe\n",
    "\n",
    "expand(lines, expand_num=1)\n",
    "len(lines), len(lines[0])"
   ]
  },
  {
   "cell_type": "code",
   "execution_count": 200,
   "metadata": {},
   "outputs": [
    {
     "data": {
      "text/plain": [
       "426"
      ]
     },
     "execution_count": 200,
     "metadata": {},
     "output_type": "execute_result"
    }
   ],
   "source": [
    "galaxy_locs = []\n",
    "for i in range(len(lines)):\n",
    "    for j in range(len(lines[i])):\n",
    "        if lines[i][j] == '#':\n",
    "            galaxy_locs.append((i, j))\n",
    "        \n",
    "len(galaxy_locs)"
   ]
  },
  {
   "cell_type": "code",
   "execution_count": 201,
   "metadata": {},
   "outputs": [
    {
     "data": {
      "text/plain": [
       "9214785"
      ]
     },
     "execution_count": 201,
     "metadata": {},
     "output_type": "execute_result"
    }
   ],
   "source": [
    "distances = {}\n",
    "for i in range(len(galaxy_locs)-1):\n",
    "    current_loc = galaxy_locs[i]\n",
    "    for j in range(i+1, len(galaxy_locs)):\n",
    "        dst_loc = galaxy_locs[j]\n",
    "        # print(current_loc, dst_loc) \n",
    "        distances[current_loc, dst_loc] = manhattan_dist(current_loc, dst_loc)\n",
    "\n",
    "sum(distances.values())"
   ]
  },
  {
   "cell_type": "markdown",
   "metadata": {},
   "source": [
    "## Part 2"
   ]
  },
  {
   "cell_type": "code",
   "execution_count": 242,
   "metadata": {},
   "outputs": [],
   "source": [
    "expand_num = 999999\n",
    "\n",
    "def manhattan_dist_hyperscale(p1, p2, warp_rows, warp_cols, expand_num):\n",
    "    x1, y1 = p1\n",
    "    x2, y2 = p2\n",
    "    warped_x2 = x2\n",
    "\n",
    "    if x1 > x2:\n",
    "        x1, x2 = x2, x1\n",
    "    for row in range(x1+1, x2):\n",
    "        if row in warp_rows:\n",
    "            warped_x2 += expand_num\n",
    "\n",
    "    if y1 > y2:\n",
    "        y1, y2 = y2, y1\n",
    "    warped_y2 = y2\n",
    "    for col in range(y1+1, y2):\n",
    "        if col in warp_cols:\n",
    "            warped_y2 += expand_num\n",
    "\n",
    "    return abs(x1 - warped_x2) + abs(y1 - warped_y2)"
   ]
  },
  {
   "cell_type": "code",
   "execution_count": 243,
   "metadata": {},
   "outputs": [
    {
     "data": {
      "text/plain": [
       "([135, 119, 115, 75, 72, 63, 60, 34, 30, 19, 16],\n",
       " [111, 91, 84, 78, 53, 51, 26])"
      ]
     },
     "execution_count": 243,
     "metadata": {},
     "output_type": "execute_result"
    }
   ],
   "source": [
    "def get_expand_locs(universe, expand_num=1):\n",
    "    # expand from end\n",
    "    empty_rows = []\n",
    "    backward_empty_cols = []\n",
    "    for i in range(len(universe)-1, -1, -1):\n",
    "        backward_empty_col_indices = []    \n",
    "        for j in range(len(universe[i])-1, -1, -1):\n",
    "            el = universe[i][j]\n",
    "            if el == '.':\n",
    "                backward_empty_col_indices.append(j)\n",
    "        \n",
    "        if len(backward_empty_col_indices) == len(universe[i]):\n",
    "            empty_rows.append(i)\n",
    "        \n",
    "        backward_empty_cols.append(backward_empty_col_indices)\n",
    "\n",
    "    backward_empty_cols = set(backward_empty_cols[0]).intersection(*backward_empty_cols[1:])\n",
    "    backward_empty_cols = sorted(backward_empty_cols, reverse=True)\n",
    "                \n",
    "    return empty_rows, backward_empty_cols\n",
    "\n",
    "empty_rows, backward_empty_cols = get_expand_locs(lines, expand_num=expand_num)\n",
    "empty_rows, backward_empty_cols"
   ]
  },
  {
   "cell_type": "code",
   "execution_count": 244,
   "metadata": {},
   "outputs": [
    {
     "data": {
      "text/plain": [
       "426"
      ]
     },
     "execution_count": 244,
     "metadata": {},
     "output_type": "execute_result"
    }
   ],
   "source": [
    "galaxy_locs = []\n",
    "for i in range(len(lines)):\n",
    "    for j in range(len(lines[i])):\n",
    "        if lines[i][j] == '#':\n",
    "            galaxy_locs.append((i, j))\n",
    "        \n",
    "len(galaxy_locs)"
   ]
  },
  {
   "cell_type": "code",
   "execution_count": 245,
   "metadata": {},
   "outputs": [
    {
     "data": {
      "text/plain": [
       "613686987427"
      ]
     },
     "execution_count": 245,
     "metadata": {},
     "output_type": "execute_result"
    }
   ],
   "source": [
    "distances = {}\n",
    "for i in range(len(galaxy_locs)-1):\n",
    "    current_loc = galaxy_locs[i]\n",
    "    for j in range(i+1, len(galaxy_locs)):\n",
    "        dst_loc = galaxy_locs[j]\n",
    "        # print(current_loc, dst_loc) \n",
    "        distances[current_loc, dst_loc] = manhattan_dist_hyperscale(current_loc, dst_loc, empty_rows, backward_empty_cols, expand_num)\n",
    "\n",
    "sum(distances.values())"
   ]
  },
  {
   "cell_type": "markdown",
   "metadata": {},
   "source": [
    "# Day 12"
   ]
  },
  {
   "cell_type": "code",
   "execution_count": 166,
   "metadata": {},
   "outputs": [
    {
     "data": {
      "text/plain": [
       "1000"
      ]
     },
     "execution_count": 166,
     "metadata": {},
     "output_type": "execute_result"
    }
   ],
   "source": [
    "file_path = '../data/day12.txt'\n",
    "with open(file_path, 'r') as file:\n",
    "    lines = [line.strip() for line in file]\n",
    "\n",
    "# lines = [\n",
    "# \"...#......\", \n",
    "# \".......#..\", \n",
    "# \"#.........\", \n",
    "# \"..........\", \n",
    "# \"......#...\", \n",
    "# \".#........\", \n",
    "# \".........#\", \n",
    "# \"..........\", \n",
    "# \".......#..\", \n",
    "# \"#...#.....\", \n",
    "# ]\n",
    "\n",
    "len(lines)"
   ]
  },
  {
   "cell_type": "code",
   "execution_count": 2,
   "metadata": {},
   "outputs": [
    {
     "data": {
      "text/plain": [
       "['?.?????#???#? 1,1,2,2',\n",
       " '????.#????#?????#??# 1,2,1,1,7',\n",
       " '???#?.???????.? 3,1,1,1,1',\n",
       " '????#.??.? 1,1,1',\n",
       " '.?#??????.? 3,1,1',\n",
       " '#????#???????? 1,9',\n",
       " '?.?##????????#?. 6,2',\n",
       " '#..??#?#?#????? 1,3,5,2',\n",
       " '?????????#????????. 3,1,4,1,2,1',\n",
       " '????#.???????????? 1,1,1,2,8']"
      ]
     },
     "execution_count": 2,
     "metadata": {},
     "output_type": "execute_result"
    }
   ],
   "source": [
    "lines[:10]"
   ]
  },
  {
   "cell_type": "code",
   "execution_count": 265,
   "metadata": {},
   "outputs": [],
   "source": [
    "uncorrupted_test = [\n",
    "(\"#.#.###\", [1,1,3]),\n",
    "(\".#...#....###.\", [1,1,3]),\n",
    "(\".#.###.#.######\", [1,3,1,6]),\n",
    "(\"####.#...#...\", [4,1,1]),\n",
    "(\"#....######..#####.\", [1,6,5]),\n",
    "(\".###.##....#\", [3,2,1]),\n",
    "]\n",
    "\n",
    "corrupted_test = [\n",
    "(\"???.###\", tuple([1,1,3])),\n",
    "(\".??..??...?##.\", tuple([1,1,3])),\n",
    "(\"?#?#?#?#?#?#?#?\", tuple([1,3,1,6])),\n",
    "(\"????.#...#...\", tuple([4,1,1])),\n",
    "(\"????.######..#####.\", tuple([1,6,5])),\n",
    "(\"?###????????\", tuple([3,2,1])),\n",
    "]"
   ]
  },
  {
   "cell_type": "markdown",
   "metadata": {},
   "source": [
    "## Part 1\n",
    "\n",
    "Really don't want to solve recursively. May be different to scale if becomes 2d. But the input is not squre so do not expect 2d. Actually we have to count arranges - not arrange. So instead of brute-forcing, there may be sense to try find a formula for this arrangement.\n",
    "\n",
    "There are no very long lines so brute-force is not that frightening for the first part..."
   ]
  },
  {
   "cell_type": "code",
   "execution_count": 9,
   "metadata": {},
   "outputs": [
    {
     "name": "stdout",
     "output_type": "stream",
     "text": [
      "actual_groups ['#', '#', '###']\n",
      "1\n",
      "actual_groups ['#', '#', '###']\n",
      "1\n",
      "actual_groups ['#', '###', '#', '######']\n",
      "1\n",
      "actual_groups ['####', '#', '#']\n",
      "1\n",
      "actual_groups ['#', '######', '#####']\n",
      "1\n",
      "actual_groups ['###', '##', '#']\n",
      "1\n"
     ]
    }
   ],
   "source": [
    "from typing import List\n",
    "\n",
    "def check_arrangement_correctness(s: str, groups: List[int]):\n",
    "    if any(el == '?' for el in s):\n",
    "        return 0\n",
    "    \n",
    "    actual_groups = [el for el in s.split('.') if el not in ['.', '']]\n",
    "    print('actual_groups', actual_groups)\n",
    "    for ag, g in zip(actual_groups, groups):\n",
    "        if len(ag) != g:\n",
    "            return 0\n",
    "        \n",
    "    return 1\n",
    "\n",
    "for test in uncorrupted_test:\n",
    "    print(check_arrangement_correctness(test[0], test[1]))"
   ]
  },
  {
   "cell_type": "markdown",
   "metadata": {},
   "source": [
    "There are groups of up to 6 elements as I see. For each correct allocation of the previous group, you have to check all other possible combinations... Better to prune with some rules as much as possible"
   ]
  },
  {
   "cell_type": "code",
   "execution_count": 292,
   "metadata": {},
   "outputs": [
    {
     "name": "stdout",
     "output_type": "stream",
     "text": [
      "[1]\n",
      "[0]\n"
     ]
    }
   ],
   "source": [
    "def find_sequence(s, length):\n",
    "    sequences = []\n",
    "\n",
    "    # Iterate over the string to check all sequences for validity\n",
    "    for i in range(len(s) - length + 1):\n",
    "        sequence = s[i:i + length]\n",
    "        \n",
    "        # Check if the sequence is composed of '?' and/or '#'\n",
    "        if all(char in ['?', '#'] for char in sequence):\n",
    "            # Check border conditions\n",
    "            valid_start = (i == 0 or ('#' not in s[:i]))\n",
    "            valid_end = (i + length == len(s) or s[i + length] not in ['#'])\n",
    "            \n",
    "            if valid_start and valid_end:\n",
    "                sequences.append(i)\n",
    "\n",
    "    return sequences\n",
    "    \n",
    "# 1. We iterate over the string. We now check all mixed sequences (? and #) for validity.\n",
    "# For each '?' or '#' symbol (with it's start index) we check if it may be a start of a sequence. '.' can not be a start\n",
    "    # 1. Together with this symbol, the next (length - 1) symbols have to be either # or ?\n",
    "    # 2. The symbol before the first has to be either '.' or '?' or this first symbol is the first in the string.  \n",
    "    # 3. The symbol after the last has to be either '.' or '?' or this last symbol has to be the string end.  \n",
    "# 4. Valid sequence starts which are before the ## sequence are retrieved together with the first ## sequence. If the ## sequence is the first, only it will be retrieved\n",
    "\n",
    "\n",
    "print(find_sequence(s=\"?###????????\", length=3))\n",
    "# print(find_sequence(s=\"####????\", length=3))\n",
    "# print(find_sequence(s=\"?###????\", length=3))\n",
    "# print(find_sequence(s=\"?###.????\", length=3))\n",
    "# print(find_sequence(s=\"###.????\", length=3))\n",
    "# print(find_sequence(s=\"##.????\", length=3))\n",
    "# print(find_sequence(s=\"????.######..#####.\", length=1))\n",
    "# print(find_sequence(s=\"?.#\", length=1))\n",
    "# print(find_sequence(s=\"?#\", length=1))\n",
    "# print(find_sequence(s=\".?#?\", length=2))\n",
    "# print(find_sequence(s=\"#####???..\", length=5))\n",
    "# print(find_sequence(s=\"?.?????#???#?\", length=1))  # 1122\n",
    "# print(find_sequence(s=\"#?#??#..?#?????#??\", length=3))\n",
    "print(find_sequence(s=\"#?#?#?????#\", length=6))"
   ]
  },
  {
   "cell_type": "code",
   "execution_count": 310,
   "metadata": {},
   "outputs": [],
   "source": [
    "from functools import cache\n",
    "\n",
    "@cache\n",
    "def count_allocations(s: str, group: List[int]):\n",
    "    # s = s.lstrip('.') # ignore leading dots\n",
    "    # print(f\"Entered count_allocations with {s} and {group})\")\n",
    "\n",
    "    if s == '':\n",
    "        # print(f\"Have an empty string and it\\'s correct? {group == ()}\")\n",
    "        return int(group == ())\n",
    "\n",
    "    if group == ():  # we have no other groups to allocate\n",
    "        # print(f\"Have no other groups and it's correct? {s.find('#') == -1}\")\n",
    "        return int(s.find('#') == -1)  # and it's correct only there are not # anymore\n",
    "    \n",
    "    subseq_len = group[0]\n",
    "\n",
    "    list_of_index_to_allocate_group = find_sequence(s=s, length=subseq_len)\n",
    "    # print(f\"Have the following options to allocate {list_of_index_to_allocate_group}\")\n",
    "    if list_of_index_to_allocate_group:\n",
    "        total = 0\n",
    "        for index_to_allocate_group in list_of_index_to_allocate_group:\n",
    "            total += count_allocations(s=s[index_to_allocate_group + subseq_len + 1:], group=group[1:])\n",
    "        return total\n",
    "    else:\n",
    "        # print('This input will not work for the upcoming sequence')\n",
    "        return 0\n",
    "    \n",
    "# count_allocations(\"?###????????\", [3,2,1])"
   ]
  },
  {
   "cell_type": "code",
   "execution_count": 308,
   "metadata": {},
   "outputs": [
    {
     "name": "stdout",
     "output_type": "stream",
     "text": [
      "1\n",
      "4\n",
      "1\n",
      "1\n",
      "4\n",
      "10\n"
     ]
    }
   ],
   "source": [
    "for test in corrupted_test:\n",
    "    seq, group = test\n",
    "    res = count_allocations(seq, group)\n",
    "    print(res)"
   ]
  },
  {
   "cell_type": "code",
   "execution_count": 328,
   "metadata": {},
   "outputs": [
    {
     "data": {
      "text/plain": [
       "506250"
      ]
     },
     "execution_count": 328,
     "metadata": {},
     "output_type": "execute_result"
    }
   ],
   "source": [
    "def count_allocations_in_line(l, multiplier=1):\n",
    "    seq, group = l.split(' ')\n",
    "    group = tuple([int(el) for el in group.split(',')])\n",
    "    \n",
    "    if multiplier > 1:\n",
    "        new_seq = seq\n",
    "        for i in range(multiplier-1):\n",
    "            new_seq += ('?'+seq)\n",
    "        group = group*5\n",
    "    # print(new_seq)\n",
    "    return count_allocations(new_seq, group)\n",
    "\n",
    "count_allocations_in_line('?###???????? 3,2,1', 5)"
   ]
  },
  {
   "cell_type": "code",
   "execution_count": 329,
   "metadata": {},
   "outputs": [
    {
     "data": {
      "application/vnd.jupyter.widget-view+json": {
       "model_id": "67eaf79f49b74ce88c209dd718794cf4",
       "version_major": 2,
       "version_minor": 0
      },
      "text/plain": [
       "  0%|          | 0/1000 [00:00<?, ?it/s]"
      ]
     },
     "metadata": {},
     "output_type": "display_data"
    },
    {
     "data": {
      "text/plain": [
       "10861030975833"
      ]
     },
     "execution_count": 329,
     "metadata": {},
     "output_type": "execute_result"
    }
   ],
   "source": [
    "from tqdm.notebook import tqdm\n",
    "tqdm.pandas()\n",
    "\n",
    "from sol import numlegal\n",
    "total = 0\n",
    "for i, l in tqdm(enumerate(lines), total=len(lines)):\n",
    "    # my_res = count_allocations_in_line(l)\n",
    "\n",
    "    # seq, group = l.split(' ')\n",
    "    # group = tuple([int(el) for el in group.split(',')])\n",
    "    # other_res = numlegal(seq, tuple(group))\n",
    "    # if other_res != my_res:\n",
    "    #     print(f\"{i}. {seq} {group}. my {my_res}, expected {other_res}\")\n",
    "    #     # break\n",
    "    total += count_allocations_in_line(l, 5)\n",
    "    # print(total)\n",
    "    # break\n",
    "total"
   ]
  }
 ],
 "metadata": {
  "kernelspec": {
   "display_name": "Python 3",
   "language": "python",
   "name": "python3"
  },
  "language_info": {
   "codemirror_mode": {
    "name": "ipython",
    "version": 3
   },
   "file_extension": ".py",
   "mimetype": "text/x-python",
   "name": "python",
   "nbconvert_exporter": "python",
   "pygments_lexer": "ipython3",
   "version": "3.11.5"
  }
 },
 "nbformat": 4,
 "nbformat_minor": 2
}
